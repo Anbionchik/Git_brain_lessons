{
 "cells": [
  {
   "cell_type": "code",
   "execution_count": 56,
   "metadata": {},
   "outputs": [],
   "source": [
    "import requests\n",
    "from pprint import pprint\n",
    "import json"
   ]
  },
  {
   "cell_type": "code",
   "execution_count": 38,
   "metadata": {},
   "outputs": [],
   "source": [
    "import pickle"
   ]
  },
  {
   "cell_type": "markdown",
   "metadata": {},
   "source": [
    "## №1"
   ]
  },
  {
   "cell_type": "code",
   "execution_count": 42,
   "metadata": {},
   "outputs": [],
   "source": [
    "with open('token', 'rb') as f:\n",
    "    token = pickle.load(f)"
   ]
  },
  {
   "cell_type": "code",
   "execution_count": 52,
   "metadata": {},
   "outputs": [],
   "source": [
    "headers = {\n",
    "    \"Authorization\" : \"Bearer \" + token,\n",
    "    \"Accept\" : \"application/vnd.github+json\"\n",
    "}\n",
    "response = requests.get('https://api.github.com/users/Anbionchik/repos', headers = headers)"
   ]
  },
  {
   "cell_type": "code",
   "execution_count": 53,
   "metadata": {},
   "outputs": [],
   "source": [
    "repo_names = [x['name'] for x in response.json()]"
   ]
  },
  {
   "cell_type": "code",
   "execution_count": 54,
   "metadata": {},
   "outputs": [
    {
     "data": {
      "text/plain": [
       "['beam_width_meter',\n",
       " 'Git_brain_lessons',\n",
       " 'hello-world',\n",
       " 'Khlopkov',\n",
       " 'lessons',\n",
       " 'production_calendar']"
      ]
     },
     "execution_count": 54,
     "metadata": {},
     "output_type": "execute_result"
    }
   ],
   "source": [
    "repo_names"
   ]
  },
  {
   "cell_type": "code",
   "execution_count": 58,
   "metadata": {},
   "outputs": [],
   "source": [
    "with open('github_response.json', 'w') as f:\n",
    "    json.dump(response.json(), f)"
   ]
  },
  {
   "cell_type": "markdown",
   "metadata": {},
   "source": [
    "## №2"
   ]
  },
  {
   "cell_type": "code",
   "execution_count": 87,
   "metadata": {},
   "outputs": [],
   "source": [
    "with open('vk_data', 'rb') as f:\n",
    "    vk_data = pickle.load(f)"
   ]
  },
  {
   "cell_type": "code",
   "execution_count": 89,
   "metadata": {},
   "outputs": [],
   "source": [
    "url = 'https://api.vk.com/method/users.getSubscriptions'\n",
    "params = {\n",
    "    \"user_id\" : '96108249',\n",
    "    \"extended\" : '1',\n",
    "    \"access_token\" : vk_data['VK_TOKEN'],\n",
    "    \"v\" : '5.131' \n",
    "}\n",
    "response = requests.get(url=url, params=params)"
   ]
  },
  {
   "cell_type": "code",
   "execution_count": 90,
   "metadata": {},
   "outputs": [
    {
     "data": {
      "text/plain": [
       "{'response': {'count': 46,\n",
       "  'items': [{'id': 31480508,\n",
       "    'name': 'Пикабу',\n",
       "    'screen_name': 'pikabu',\n",
       "    'is_closed': 0,\n",
       "    'type': 'page',\n",
       "    'photo_50': 'https://sun1-54.userapi.com/s/v1/ig2/nVPWuOMGYby7O6kmjviW7B34GC7i2sZfkDZ0otwlC7IUWmmW0J2uowyyxh_n_k67VbEc-5q_P0V_fhaQ7S74vDoq.jpg?size=50x50&quality=95&crop=120,432,1252,1252&ava=1',\n",
       "    'photo_100': 'https://sun1-54.userapi.com/s/v1/ig2/MN581tBpQdhgJIPL9kRedpQO_r326bkoyomW_DPf1RKywIEmHQqOjooBWePEJNxpxrXhsg7wERTF6jpdbDO2bmaB.jpg?size=100x100&quality=95&crop=120,432,1252,1252&ava=1',\n",
       "    'photo_200': 'https://sun1-54.userapi.com/s/v1/ig2/xWANvqCKf20RhUO_eyCkK07-sEZh4wnoDk5CFJTLHVoLZw8o5dpRvdfHnISrH-4KCj6YTvO3QyU8Kr_YHjMqwgku.jpg?size=200x200&quality=95&crop=120,432,1252,1252&ava=1'},\n",
       "   {'id': 35294456,\n",
       "    'name': 'Как я встретил столбняк',\n",
       "    'screen_name': 'stlbn',\n",
       "    'is_closed': 0,\n",
       "    'type': 'page',\n",
       "    'photo_50': 'https://sun1-17.userapi.com/s/v1/if1/UD6N7H1RLLsvP2fb5r8wyMntXmrakFCw72eirJxS83yIx_skGB2q7nCTMOS0NRy-uhz1b3rA.jpg?size=50x50&quality=96&crop=31,32,1024,1024&ava=1',\n",
       "    'photo_100': 'https://sun1-17.userapi.com/s/v1/if1/g9x0NKAx5qTU4p8GIkWtKEsjg2SYGj0SrTBXxdk1HEGwT2VeB8axJT_nTATUmsKhCUx1k9-e.jpg?size=100x100&quality=96&crop=31,32,1024,1024&ava=1',\n",
       "    'photo_200': 'https://sun1-17.userapi.com/s/v1/if1/rQes0QeoC8XJXFsvDl3MQ-w27wpvKsY-vgppFNC3ASWeS5ePdSCPChnlK6tih0bA6qfU-taZ.jpg?size=200x200&quality=96&crop=31,32,1024,1024&ava=1'},\n",
       "   {'id': 143031608,\n",
       "    'name': 'научные мемы',\n",
       "    'screen_name': 'q_qvazar',\n",
       "    'is_closed': 0,\n",
       "    'type': 'page',\n",
       "    'photo_50': 'https://sun1-47.userapi.com/s/v1/if1/feSjcmZDMPRIzEuJmO3V3cQmoP7ZicNATeKiN9ijZttJ5QO1xmHqET0nMMGzvgKQY0U5JQ.jpg?size=50x50&quality=96&crop=0,0,742,742&ava=1',\n",
       "    'photo_100': 'https://sun1-47.userapi.com/s/v1/if1/yzATqEXtXykFULXzC25Y-axaW5HBfJhLaQGoUFnlYLP4Ye39xkMmUD6mBaNwtSxckvU6Cg.jpg?size=100x100&quality=96&crop=0,0,742,742&ava=1',\n",
       "    'photo_200': 'https://sun1-47.userapi.com/s/v1/if1/Hz5KcUtZAxTxXlVjB3hRZcUczO6YAFbnxG8z99Dnqha75IeSNjJCOt2qipmPA9m8a2hidg.jpg?size=200x200&quality=96&crop=0,0,742,742&ava=1'},\n",
       "   {'id': 154306815,\n",
       "    'name': 'Cringe',\n",
       "    'screen_name': 'cringey',\n",
       "    'is_closed': 0,\n",
       "    'type': 'page',\n",
       "    'photo_50': 'https://sun1-18.userapi.com/s/v1/if1/kW5OS1t2CKpZkKR35VL7Q_qq7GISnWK6Idze1k8m-ISxChwfBNhUc4liu5446tFIjDArJOCv.jpg?size=50x50&quality=96&crop=168,177,1467,1467&ava=1',\n",
       "    'photo_100': 'https://sun1-18.userapi.com/s/v1/if1/jB8wReroJKoOdQaScWX3MxghmS2D7HEPbxhHVQ6ZJ6CtF4-RVL2PVagP6cruX7c_NUsZGMl4.jpg?size=100x100&quality=96&crop=168,177,1467,1467&ava=1',\n",
       "    'photo_200': 'https://sun1-18.userapi.com/s/v1/if1/hbV9PL6vAgm9FtjBiiT19JZZFZrQqW-S8mBJVBaESTvWZfSX41AMCU3allr2jF8wTzIK_mQS.jpg?size=200x200&quality=96&crop=168,177,1467,1467&ava=1'},\n",
       "   {'id': 159858626,\n",
       "    'name': 'К У С Ь & Ц М О К',\n",
       "    'screen_name': 'koskasobaska',\n",
       "    'is_closed': 0,\n",
       "    'type': 'page',\n",
       "    'photo_50': 'https://sun1-20.userapi.com/s/v1/ig2/btKTjDmVhucMZvy1LEW7OSKnHAup5BMBZ27fmCMIcibHKxhvnLIPWGaQP1STdUVRk84kEwbFuJqwYn_EFdx17nqw.jpg?size=50x50&quality=96&crop=7,8,684,684&ava=1',\n",
       "    'photo_100': 'https://sun1-20.userapi.com/s/v1/ig2/YB3EoZD8Jd6HQkIcbwmT-aSW4QN8qGWPWLKAvNL9du96ofDA5orxGY3AP4i8vL2wULAk6m8unFHqjPzXfhcB8XnY.jpg?size=100x100&quality=96&crop=7,8,684,684&ava=1',\n",
       "    'photo_200': 'https://sun1-20.userapi.com/s/v1/ig2/Ur_toUx-1ofydK-BtsWL0qz4d94NdhHzKO7Dl2Y8hV8Jc2AsoHfJGZ4pBewA39S_bGvOqw1p2eMQ9GJiopZ7Q6nD.jpg?size=200x200&quality=96&crop=7,8,684,684&ava=1'},\n",
       "   {'id': 213999264,\n",
       "    'name': 'PlayStation Store Турция | PS5 | PS4',\n",
       "    'screen_name': 'pstry',\n",
       "    'is_closed': 0,\n",
       "    'type': 'page',\n",
       "    'photo_50': 'https://sun1-15.userapi.com/s/v1/ig2/f8oXUw5C7SSztaFKzuFFYiftsWks9OG-0ACs_SIUyhhHsLadUccuZF8_hZwsC7LFuv_AYtZtdtbF7wM_5YCx46fY.jpg?size=50x50&quality=95&crop=5,0,507,507&ava=1',\n",
       "    'photo_100': 'https://sun1-15.userapi.com/s/v1/ig2/F9yR0TRxnU6xE9PvrJEFG8V-ifVGBD99wgJdcIl1sKt_HlLY9Ihmxgzst_MfgC8WvI_jz8GSGiLagynM38kDvexA.jpg?size=100x100&quality=95&crop=5,0,507,507&ava=1',\n",
       "    'photo_200': 'https://sun1-15.userapi.com/s/v1/ig2/3_XSrBh1WbIc8l7JX_y48TfylZraEuNQuIxXbNv5UPmkAS_E-u-tY1EbnHayVDGFUnX9BjZHNDJ15a4zDT4UVlDB.jpg?size=200x200&quality=95&crop=5,0,507,507&ava=1'},\n",
       "   {'id': 53411762,\n",
       "    'name': 'Foxtrot92th',\n",
       "    'screen_name': 'foxtrot92th',\n",
       "    'is_closed': 0,\n",
       "    'type': 'page',\n",
       "    'photo_50': 'https://sun1-27.userapi.com/s/v1/ig1/4KLiD6qnl3nnaGj1PX4RrqEDmD6kW3HDRzEPeEcIjzvInVnLtJO6PJ585OTOy6Z9N2z9wW9k.jpg?size=50x50&quality=96&crop=45,254,380,380&ava=1',\n",
       "    'photo_100': 'https://sun1-27.userapi.com/s/v1/ig1/oPg-U_-LVw4tUtIMNINzOk35R6imuEpKvJLxbkn9m64mO38FF-JHDwGYbEqRguQe_QfNncfs.jpg?size=100x100&quality=96&crop=45,254,380,380&ava=1',\n",
       "    'photo_200': 'https://sun1-27.userapi.com/s/v1/ig1/Ax02u0Xwl8y3VBHws45GhJCwmfR0OxjCFSfRyvVr9Orn90Bjo4kRXPVwKcoJ6dNtOiGJP9W2.jpg?size=200x200&quality=96&crop=45,254,380,380&ava=1'},\n",
       "   {'id': 73108225,\n",
       "    'name': 'Университет Лобачевского | ННГУ',\n",
       "    'screen_name': 'lobachevsky_university',\n",
       "    'is_closed': 0,\n",
       "    'type': 'page',\n",
       "    'photo_50': 'https://sun1-22.userapi.com/s/v1/ig2/BmBaYENxAxRmw8bpvPnKA3IoTWkq7nNrj51x_nvP4IsTPRr5IqudzceAYSXlHVG0n5f6PwZAH6BX84Ozhde_ZIr2.jpg?size=50x50&quality=95&crop=2,0,1077,1077&ava=1',\n",
       "    'photo_100': 'https://sun1-22.userapi.com/s/v1/ig2/zms8ikkyQIlwgHnsJ2ByfHNbzlDV7KiyfOsBj3EmyGeSQEdz_DfDcMKCo1DBt1tTmc3MahLl-1RBXhMT4Vqelutj.jpg?size=100x100&quality=95&crop=2,0,1077,1077&ava=1',\n",
       "    'photo_200': 'https://sun1-22.userapi.com/s/v1/ig2/vjVa4X9I4g6CUtQ04XxnaMq_XNICtXTWNg69pTT4AjCCk851Cyh0gmFk7z0miFnj5wOSd-lVE2_JJNbQBGlZtcK6.jpg?size=200x200&quality=95&crop=2,0,1077,1077&ava=1'},\n",
       "   {'id': 64887952,\n",
       "    'name': 'ГистоКлаб - сообщество лаборантов-гистологов',\n",
       "    'screen_name': 'histoclub',\n",
       "    'is_closed': 0,\n",
       "    'type': 'page',\n",
       "    'photo_50': 'https://sun1-94.userapi.com/s/v1/ig2/LoPJ7XSAeYrbNEBalOM0vZXq41qbBEobctSScUlh0GYy1pFviVZwfTjATdW3TAaaglppe29H1spK4kkiXF4xDCSj.jpg?size=50x50&quality=96&crop=7,3,732,732&ava=1',\n",
       "    'photo_100': 'https://sun1-94.userapi.com/s/v1/ig2/kcu3XnkR0DzLLwgZIG7TNxuoAHoJH64wZs8FmjKDIjj55sj2jdDw4ecVn5FSvjCeOMRXHNeLBCCLOuN80mJpxBWP.jpg?size=100x100&quality=96&crop=7,3,732,732&ava=1',\n",
       "    'photo_200': 'https://sun1-94.userapi.com/s/v1/ig2/cGvmC9oYy3IR3LxQbCYTXoasubCd-U6juGGBcumfHaWSZY6v8fUeia2kS5xhqJuNs3FGuuaW2V_ziT7D-RprbUlC.jpg?size=200x200&quality=96&crop=7,3,732,732&ava=1'},\n",
       "   {'id': 78480022,\n",
       "    'name': 'PSprices.com | PlayStation Скидки',\n",
       "    'screen_name': 'psprices',\n",
       "    'is_closed': 0,\n",
       "    'type': 'page',\n",
       "    'photo_50': 'https://sun1-26.userapi.com/s/v1/ig2/VQiDqa9WjH72SV48y6a-dodXeMHl96vo2bCcqxoMeshCDvbjkWvVko9MuZhQMh4tZFbmE_uHwhDyaq68dbOtwS4I.jpg?size=50x50&quality=95&crop=0,0,587,587&ava=1',\n",
       "    'photo_100': 'https://sun1-26.userapi.com/s/v1/ig2/4ERu6SgDeR7-0HkRRuqKR_O64h6yRs2nFrffrvdDc7kG4lOhj9X5zkq2XzTrFk-4Rf4VTUUZ9OgiqHneiDfZ_1b-.jpg?size=100x100&quality=95&crop=0,0,587,587&ava=1',\n",
       "    'photo_200': 'https://sun1-26.userapi.com/s/v1/ig2/hZXyKIN6Tz-HjGg9N6DDawc6xCVEGTxL2OT26j8fnNMaz4h2QVaUj0-QakapU7i7r4MaZi-nDSO6Z5yI_SPrpXCU.jpg?size=200x200&quality=95&crop=0,0,587,587&ava=1'},\n",
       "   {'id': 54530371,\n",
       "    'name': 'Библиотека программиста',\n",
       "    'screen_name': 'proglib',\n",
       "    'is_closed': 0,\n",
       "    'type': 'page',\n",
       "    'photo_50': 'https://sun1-28.userapi.com/s/v1/if1/QVgaLoM0AvXIY4nChGelB4dDSskHbeZ_y4Q9Das_YkdIWMA5fXUxe34-Mp_3jjDKmko9l9cN.jpg?size=50x50&quality=96&crop=122,13,1090,1090&ava=1',\n",
       "    'photo_100': 'https://sun1-28.userapi.com/s/v1/if1/SSqem9gQasmktKZZCnJyRDGDryGv1Pw1L9GD3OQ8RdddI7PMXv0POJfBvWBKGdybwnYFQHp2.jpg?size=100x100&quality=96&crop=122,13,1090,1090&ava=1',\n",
       "    'photo_200': 'https://sun1-28.userapi.com/s/v1/if1/1-xk7u5lv0Kzkz5H42I4EMhQCpFLQaMfR8bq33d4XXvOKxewR_HjLUEXr87Pg0GHUh6zXK8R.jpg?size=200x200&quality=96&crop=122,13,1090,1090&ava=1'},\n",
       "   {'id': 191081223,\n",
       "    'name': 'Душевный подкаст',\n",
       "    'screen_name': 'dushpod',\n",
       "    'is_closed': 0,\n",
       "    'type': 'page',\n",
       "    'photo_50': 'https://sun1-89.userapi.com/s/v1/ig1/FWuVEbyB3GpCKcho7Yb9OHSW3pDh73tIYsPgPsJIl3TCcnyPhFwQ6oJForJxS0pZDIr2p9CD.jpg?size=50x50&quality=96&crop=121,51,1994,1994&ava=1',\n",
       "    'photo_100': 'https://sun1-89.userapi.com/s/v1/ig1/-PaJ0KmQ1mwUMFMC-wPuKncR-V2aMR8BTBrX0QIFH6EufD276dKT6896cYD_jG3SwrWZlXLy.jpg?size=100x100&quality=96&crop=121,51,1994,1994&ava=1',\n",
       "    'photo_200': 'https://sun1-89.userapi.com/s/v1/ig1/KIMbxPOU-rxJKOYujVBEgzRdA0NWmS8Qad2Zy_hIswi1DsFtO6OHwfDzsL9rl8bQQLyZnJXZ.jpg?size=200x200&quality=96&crop=121,51,1994,1994&ava=1'},\n",
       "   {'id': 31980961,\n",
       "    'name': 'Типичный Нижний Новгород',\n",
       "    'screen_name': 'typical_nn',\n",
       "    'is_closed': 0,\n",
       "    'type': 'page',\n",
       "    'photo_50': 'https://sun1-18.userapi.com/s/v1/ig2/rnkQ3QSwix2C65gfnrfknIMamb40n5TQoTmL3jdF9xhQQ4Kdf7fzJk_jn5kHct_1pMT1Clcj7ofJbJfcEskky7vk.jpg?size=50x50&quality=95&crop=87,87,828,828&ava=1',\n",
       "    'photo_100': 'https://sun1-18.userapi.com/s/v1/ig2/tk_MwK3De6ARo-GcZcDTDcXSY6NDjW2TnDTftIDJFnhtKhibdahF6b3OrYQW3-1dtFWSvdf_cef2nGl27hiKkpKh.jpg?size=100x100&quality=95&crop=87,87,828,828&ava=1',\n",
       "    'photo_200': 'https://sun1-18.userapi.com/s/v1/ig2/MN5R_fyx33ZYRgikKR9f55Uy58f-gXxJXjtY92WM9hkO1SYTxRYmjVvdPgedTTEZoCXyaOf-OTDUDPOmfA-l6-F2.jpg?size=200x200&quality=95&crop=87,87,828,828&ava=1'},\n",
       "   {'id': 34662672,\n",
       "    'name': 'Чылік',\n",
       "    'screen_name': 'zal_zal',\n",
       "    'is_closed': 0,\n",
       "    'type': 'page',\n",
       "    'photo_50': 'https://sun1-97.userapi.com/s/v1/ig2/S1A7Xp1tzmy23s76jXV14R27Hb1-hDHmGFbtLYa4LqfeUraZG6nA9EJ6jphHxwT2aYoITXnRtYD1ycH_zM-skzy0.jpg?size=50x50&quality=95&crop=196,147,1600,1600&ava=1',\n",
       "    'photo_100': 'https://sun1-97.userapi.com/s/v1/ig2/AyoG8OfV816FDU7EfzfVSkiYPbHVeL3SmLdQ398OvlQBtOIVajgAFJw7Dm0Nh40CIVGNxPxREI7uGrKDA8bkIsd5.jpg?size=100x100&quality=95&crop=196,147,1600,1600&ava=1',\n",
       "    'photo_200': 'https://sun1-97.userapi.com/s/v1/ig2/uVP-tLOKA9XNy4zozwufQPPYigueOYBwyYBLHYfsNBmJ84QSe_ozOKLviNbxuGG23SmXM70RBHwlGX6Z08YrEl5m.jpg?size=200x200&quality=95&crop=196,147,1600,1600&ava=1'},\n",
       "   {'id': 157341954,\n",
       "    'name': 'пацанские цитаты и союзмультфильм',\n",
       "    'screen_name': 'tupomultfilm',\n",
       "    'is_closed': 0,\n",
       "    'type': 'page',\n",
       "    'photo_50': 'https://sun1-95.userapi.com/s/v1/ig2/7nWSVY9DhNbl--znF9tEC__a_ncaD6WArjsiw1DBdPKY9dn3DuHSsFUcez8DybaXCfhiXMuhx0zOp4XphzhmMxOI.jpg?size=50x50&quality=95&crop=36,70,1187,1187&ava=1',\n",
       "    'photo_100': 'https://sun1-95.userapi.com/s/v1/ig2/syk-LcKpxSolsXl6nKG2MwQLXsjyJDI8fTInahcy8mC535yegaOUMfeGJ2IoFLPMozLc4jXxrj4OABLGkDu4R6lZ.jpg?size=100x100&quality=95&crop=36,70,1187,1187&ava=1',\n",
       "    'photo_200': 'https://sun1-95.userapi.com/s/v1/ig2/iyO8GaWKVURwB1IYzL_2gzraxwqnpUh6-0bfGqCpbE4ffNOFuuw2G2xkZNd3PXrPleDkO9SJ9feF8e_Og29jaFZz.jpg?size=200x200&quality=95&crop=36,70,1187,1187&ava=1'},\n",
       "   {'id': 112118773,\n",
       "    'name': 'AlikStock | халява,купоны,Aliexpress,Алиэкспресс',\n",
       "    'screen_name': 'alikstock',\n",
       "    'is_closed': 0,\n",
       "    'type': 'page',\n",
       "    'photo_50': 'https://sun1-98.userapi.com/s/v1/ig2/SyxZDAjQ6b3NTyy3u2EJ2Iata5bmL7lKZfXgPC62N7jjQxGKzrkycIaLKCnmr1IZn6rQtAUwwKcZqO4BF_6yjrPC.jpg?size=50x50&quality=95&crop=33,56,677,677&ava=1',\n",
       "    'photo_100': 'https://sun1-98.userapi.com/s/v1/ig2/jFbYSZ3dbNqMURaYElqLXfXH2kMwbTsRUAwGw2GAk2arkZjFsJj9uBMcQSOhOSFZEEo-aPOdJYkP-Q3mePgR6aSh.jpg?size=100x100&quality=95&crop=33,56,677,677&ava=1',\n",
       "    'photo_200': 'https://sun1-98.userapi.com/s/v1/ig2/UKqu986mhDyll6pFVf8hgL4_8NYbUb-ykciwThgHsI3DemNKlOKiGA5ZmrhKvSjAl-d-XRI0BZ2LU3TeA-O2at_0.jpg?size=200x200&quality=95&crop=33,56,677,677&ava=1'},\n",
       "   {'id': 29995722,\n",
       "    'name': 'Citilink | Ситилинк',\n",
       "    'screen_name': 'citilink_ru',\n",
       "    'is_closed': 0,\n",
       "    'type': 'page',\n",
       "    'photo_50': 'https://sun1-28.userapi.com/s/v1/ig2/NYxGrSgx4yGEJlU4781DF9kjFdNDI0tJjMLurKg6RYMrpnNIb9Ta9wlh7CJpHN0wBkyZD1Vbx0S-CClW5SwGWNXu.jpg?size=50x50&quality=95&crop=0,0,1080,1080&ava=1',\n",
       "    'photo_100': 'https://sun1-28.userapi.com/s/v1/ig2/fxcpHMrbfgLyvX3S4Bw_NjyDJhohh7fwWZrQ_3jG6vquZnjKAx5i4kTB0yGzNgf6Q8zaCkaQfWsywgi9FHAVwAbA.jpg?size=100x100&quality=95&crop=0,0,1080,1080&ava=1',\n",
       "    'photo_200': 'https://sun1-28.userapi.com/s/v1/ig2/2CIgNeErHQ3WltUXCGpCrGaKfWNXxgHVKz1BbF6n7PinLCfV3y4jmmT0_VRzaKV12oDIvzC1ZV9HpB9SUbZfsS9U.jpg?size=200x200&quality=95&crop=0,0,1080,1080&ava=1'},\n",
       "   {'id': 29013846,\n",
       "    'name': 'Сеть магазинов DNS',\n",
       "    'screen_name': 'dnsstore',\n",
       "    'is_closed': 0,\n",
       "    'type': 'page',\n",
       "    'photo_50': 'https://sun1-57.userapi.com/s/v1/if1/LOFOlg1zDsmSA8jm5MzznSx7wSB7BuATFB3kJXB-zA0-qYAbHEUiHF3Ya-hfeOOO_6GATg.jpg?size=50x50&quality=96&crop=0,0,200,200&ava=1',\n",
       "    'photo_100': 'https://sun1-57.userapi.com/s/v1/if1/nWHTH7aZRKWvhWo_pQ36uQIr6CboV40NJIrUoNzflC8rHBWR1tP5rBPvMRysi2Fv6JveBw.jpg?size=100x100&quality=96&crop=0,0,200,200&ava=1',\n",
       "    'photo_200': 'https://sun1-57.userapi.com/s/v1/if1/g1BCu9pDd1UBv1QQIWO0fZgZwlaQZFzNm6z_EGuv8p-v3jdQhK2fEGqNFNVzEP2vzT29Bw.jpg?size=200x200&quality=96&crop=0,0,200,200&ava=1'},\n",
       "   {'id': 85330,\n",
       "    'name': 'The Batrachospermum Magazine',\n",
       "    'screen_name': 'batrachospermum',\n",
       "    'is_closed': 0,\n",
       "    'type': 'page',\n",
       "    'photo_50': 'https://sun1-94.userapi.com/s/v1/ig2/CrQMPVlnQnSY62kPdHMxBssu68ElRpfBaPp-JshImvH2J2M3NADByKVrCj-XfqgJGoQuukcosb01sn3EKKAgKYd-.jpg?size=50x50&quality=95&crop=311,222,292,292&ava=1',\n",
       "    'photo_100': 'https://sun1-94.userapi.com/s/v1/ig2/LgDSenrXbn21avG3kHbHsWDqpJgjBNciA2v3ECTZu7ZeoshyZl6UC_viVrsD_uf_SjILwl2Q_WoEV0DyN6Oo2_C3.jpg?size=100x100&quality=95&crop=311,222,292,292&ava=1',\n",
       "    'photo_200': 'https://sun1-94.userapi.com/s/v1/ig2/ZdadNOtVm7KmAGNp7MZIdE-Z_T3QSVwM10gvA06f1czgA2xjH2_J7JcYSrRvAb6dAg7ITJm5maU2VAJQunsG2w5p.jpg?size=200x200&quality=95&crop=311,222,292,292&ava=1'},\n",
       "   {'id': 118488398,\n",
       "    'name': 'Карьера вместе с BIOCAD',\n",
       "    'screen_name': 'biocad_career',\n",
       "    'is_closed': 0,\n",
       "    'type': 'page',\n",
       "    'photo_50': 'https://sun1-22.userapi.com/s/v1/ig2/__uZuzuCFuhYu4NKiNdRhvhNPhuB0IqvEq6sloD-7qe4llVrR4oFmTorwJSOdyRDaV3ZGa4RtRR08csglXkRel9e.jpg?size=50x50&quality=96&crop=0,0,1043,1043&ava=1',\n",
       "    'photo_100': 'https://sun1-22.userapi.com/s/v1/ig2/DiMerbNdUUOWOjxwVIc59W8_CsFoAsZfo6mv9u89nM-JQgyxFF8S6m5EtBH-1YVjcNIA1RRKPUFCu5D6uIycBXTo.jpg?size=100x100&quality=96&crop=0,0,1043,1043&ava=1',\n",
       "    'photo_200': 'https://sun1-22.userapi.com/s/v1/ig2/jTz8gdVFA5inshAn5xzqDQ2h0rWg5sMkZtzjopNtpalBXit2nXuYm8RVPtJlEzj82okea4DQUEM7PnQvO7ePQ3UZ.jpg?size=200x200&quality=96&crop=0,0,1043,1043&ava=1'}]}}"
      ]
     },
     "execution_count": 90,
     "metadata": {},
     "output_type": "execute_result"
    }
   ],
   "source": [
    "response.json()"
   ]
  },
  {
   "cell_type": "code",
   "execution_count": 91,
   "metadata": {},
   "outputs": [],
   "source": [
    "groups_names = [x['name'] for x in response.json()['response']['items']]"
   ]
  },
  {
   "cell_type": "code",
   "execution_count": 92,
   "metadata": {},
   "outputs": [
    {
     "name": "stdout",
     "output_type": "stream",
     "text": [
      "['Пикабу', 'Как я встретил столбняк', 'научные мемы', 'Cringe', 'К У С Ь & Ц М О К', 'PlayStation Store Турция | PS5 | PS4', 'Foxtrot92th', 'Университет Лобачевского | ННГУ', 'ГистоКлаб - сообщество лаборантов-гистологов', 'PSprices.com | PlayStation Скидки', 'Библиотека программиста', 'Душевный подкаст', 'Типичный Нижний Новгород', 'Чылік', 'пацанские цитаты и союзмультфильм', 'AlikStock | халява,купоны,Aliexpress,Алиэкспресс', 'Citilink | Ситилинк', 'Сеть магазинов DNS', 'The Batrachospermum Magazine', 'Карьера вместе с BIOCAD']\n"
     ]
    }
   ],
   "source": [
    "print(groups_names)"
   ]
  },
  {
   "cell_type": "code",
   "execution_count": 93,
   "metadata": {},
   "outputs": [],
   "source": [
    "with open('vk_response.json', 'w') as f:\n",
    "    json.dump(response.json(), f)"
   ]
  }
 ],
 "metadata": {
  "kernelspec": {
   "display_name": "Python 3",
   "language": "python",
   "name": "python3"
  },
  "language_info": {
   "codemirror_mode": {
    "name": "ipython",
    "version": 3
   },
   "file_extension": ".py",
   "mimetype": "text/x-python",
   "name": "python",
   "nbconvert_exporter": "python",
   "pygments_lexer": "ipython3",
   "version": "3.7.4"
  }
 },
 "nbformat": 4,
 "nbformat_minor": 4
}
