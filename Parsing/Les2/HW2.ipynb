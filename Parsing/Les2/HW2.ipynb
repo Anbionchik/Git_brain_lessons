{
 "cells": [
  {
   "cell_type": "code",
   "execution_count": 39,
   "metadata": {},
   "outputs": [],
   "source": [
    "from pprint import pprint\n",
    "from lxml import html\n",
    "import requests\n",
    "from datetime import datetime\n",
    "import re"
   ]
  },
  {
   "cell_type": "code",
   "execution_count": 3,
   "metadata": {},
   "outputs": [
    {
     "data": {
      "text/plain": [
       "True"
      ]
     },
     "execution_count": 3,
     "metadata": {},
     "output_type": "execute_result"
    }
   ],
   "source": [
    "headers = {\n",
    "    'User-Agent' : 'Mozilla/5.0 (Windows NT 10.0; Win64; x64) AppleWebKit/537.36 (KHTML, like Gecko) Chrome/105.0.0.0 Safari/537.36'\n",
    "}\n",
    "url = 'https://lenta.ru/'\n",
    "\n",
    "response = requests.get(url, headers)\n",
    "response.ok"
   ]
  },
  {
   "cell_type": "code",
   "execution_count": 4,
   "metadata": {},
   "outputs": [],
   "source": [
    "dom = html.fromstring(response.text)"
   ]
  },
  {
   "cell_type": "code",
   "execution_count": 75,
   "metadata": {},
   "outputs": [],
   "source": [
    "news = dom.xpath('//a[@class=\"card-mini _topnews\"]')\n",
    "news_list = []\n",
    "for one_news in news:\n",
    "    link = url + one_news.xpath(\"./@href\")[0]\n",
    "    try:\n",
    "        date = re.search('\\d{4}\\/\\d{2}\\/\\d{2}' , one_news.xpath(\"./@href\")[0])[0]\n",
    "        time = one_news.xpath(\"./div/div/time/text()\")[0]\n",
    "        datetime_stamp = datetime.strptime(date + ' ' + time, '%Y/%m/%d %H:%M')\n",
    "    except TypeError:\n",
    "        datetime_stamp = None\n",
    "    title = one_news.xpath(\"./div/span/text()\")[0]\n",
    "    source = url\n",
    "    \n",
    "    news_list.append({\n",
    "        'link':link,\n",
    "        'datetime_stamp':datetime_stamp,\n",
    "        'title':title,\n",
    "        'source':source\n",
    "    })"
   ]
  },
  {
   "cell_type": "code",
   "execution_count": 78,
   "metadata": {},
   "outputs": [
    {
     "name": "stdout",
     "output_type": "stream",
     "text": [
      "https://lenta.ru//news/2022/09/03/sadik/\n",
      "2022-09-03 13:02:00\n",
      "Губернатор извинился за выданные детям в детсаду грамоты с гербом Украины\n",
      "https://lenta.ru/\n",
      "_________________________\n",
      "https://lenta.ru//news/2022/09/03/coffee_russia/\n",
      "2022-09-03 13:00:00\n",
      "Россиянам дали прогноз на стоимость кофе\n",
      "https://lenta.ru/\n",
      "_________________________\n",
      "https://lenta.ru//news/2022/09/03/taram_pam_pam/\n",
      "2022-09-03 12:43:00\n",
      "«Газпром» прокомментировал работу Siemens с неисправностями одной фразой\n",
      "https://lenta.ru/\n",
      "_________________________\n",
      "https://lenta.ru//news/2022/09/03/stop_ukr/\n",
      "2022-09-03 12:39:00\n",
      "В Германии заявили о нехватке мест для украинских беженцев\n",
      "https://lenta.ru/\n",
      "_________________________\n",
      "https://lenta.ru/https://moslenta.ru/news/city/pogoda-03-09-2022.htm/\n",
      "None\n",
      "Москвичам спрогнозировали теплую субботу\n",
      "https://lenta.ru/\n",
      "_________________________\n",
      "https://lenta.ru//news/2022/09/03/putin_erdogan_talks/\n",
      "2022-09-03 12:34:00\n",
      "Эрдоган похвалил Россию за помощь в организации миссии МАГАТЭ на Запорожскую АЭС\n",
      "https://lenta.ru/\n",
      "_________________________\n",
      "https://lenta.ru//news/2022/09/03/erdogan/\n",
      "2022-09-03 12:31:00\n",
      "Эрдоган выразил соболезнования Путину по поводу смерти Горбачева\n",
      "https://lenta.ru/\n",
      "_________________________\n",
      "https://lenta.ru//news/2022/09/03/shayk/\n",
      "2022-09-03 12:28:00\n",
      "Ирина Шейк и Брэдли Купер запланировали еще одного ребенка\n",
      "https://lenta.ru/\n",
      "_________________________\n",
      "https://lenta.ru//news/2022/09/03/ekbbb/\n",
      "2022-09-03 12:26:00\n",
      "Обвиняемая в поджогах в Екатеринбурге американка сбежала из-под ареста\n",
      "https://lenta.ru/\n",
      "_________________________\n",
      "https://lenta.ru//news/2022/09/03/uppp/\n",
      "2022-09-03 12:24:00\n",
      "Число погибших на Камчатке туристов возросло\n",
      "https://lenta.ru/\n",
      "_________________________\n",
      "https://lenta.ru//news/2022/09/03/energokrizis/\n",
      "2022-09-03 12:22:00\n",
      "В Германии предупредили о волне банкротств\n",
      "https://lenta.ru/\n",
      "_________________________\n",
      "https://lenta.ru//news/2022/09/03/spektrm/\n",
      "2022-09-03 11:52:00\n",
      "В России нашли замену западной криомашине для «Спектра-М»\n",
      "https://lenta.ru/\n",
      "_________________________\n"
     ]
    }
   ],
   "source": [
    "for new in news_list:\n",
    "    print(new['link'])\n",
    "    print(new['datetime_stamp'])\n",
    "    print(new['title'])\n",
    "    print(new['source'])\n",
    "    print('_'*25)"
   ]
  }
 ],
 "metadata": {
  "kernelspec": {
   "display_name": "Python 3",
   "language": "python",
   "name": "python3"
  },
  "language_info": {
   "codemirror_mode": {
    "name": "ipython",
    "version": 3
   },
   "file_extension": ".py",
   "mimetype": "text/x-python",
   "name": "python",
   "nbconvert_exporter": "python",
   "pygments_lexer": "ipython3",
   "version": "3.7.4"
  }
 },
 "nbformat": 4,
 "nbformat_minor": 4
}
