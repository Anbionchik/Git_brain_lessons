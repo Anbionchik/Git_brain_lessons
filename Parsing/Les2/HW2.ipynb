{
 "cells": [
  {
   "cell_type": "code",
   "execution_count": 1,
   "metadata": {},
   "outputs": [],
   "source": [
    "from pprint import pprint\n",
    "from lxml import html\n",
    "import requests\n",
    "from datetime import datetime\n",
    "import re"
   ]
  },
  {
   "cell_type": "code",
   "execution_count": 2,
   "metadata": {},
   "outputs": [
    {
     "data": {
      "text/plain": [
       "True"
      ]
     },
     "execution_count": 2,
     "metadata": {},
     "output_type": "execute_result"
    }
   ],
   "source": [
    "headers = {\n",
    "    'User-Agent' : 'Mozilla/5.0 (Windows NT 10.0; Win64; x64) AppleWebKit/537.36 (KHTML, like Gecko) Chrome/105.0.0.0 Safari/537.36'\n",
    "}\n",
    "url = 'https://lenta.ru/'\n",
    "\n",
    "response = requests.get(url, headers)\n",
    "response.ok"
   ]
  },
  {
   "cell_type": "code",
   "execution_count": 3,
   "metadata": {},
   "outputs": [],
   "source": [
    "dom = html.fromstring(response.text)"
   ]
  },
  {
   "cell_type": "code",
   "execution_count": 4,
   "metadata": {},
   "outputs": [],
   "source": [
    "news = dom.xpath('//a[@class=\"card-mini _topnews\"]')\n",
    "news_list = []\n",
    "for one_news in news:\n",
    "    link = url + one_news.xpath(\"./@href\")[0]\n",
    "    try:\n",
    "        date = re.search('\\d{4}\\/\\d{2}\\/\\d{2}' , one_news.xpath(\"./@href\")[0])[0]\n",
    "        time = one_news.xpath(\"./div/div/time/text()\")[0]\n",
    "        datetime_stamp = datetime.strptime(date + ' ' + time, '%Y/%m/%d %H:%M')\n",
    "    except TypeError:\n",
    "        datetime_stamp = None\n",
    "    title = one_news.xpath(\"./div/span/text()\")[0]\n",
    "    source = url\n",
    "    \n",
    "    news_list.append({\n",
    "        'link':link,\n",
    "        'datetime_stamp':datetime_stamp,\n",
    "        'title':title,\n",
    "        'source':source\n",
    "    })"
   ]
  },
  {
   "cell_type": "code",
   "execution_count": 5,
   "metadata": {},
   "outputs": [
    {
     "name": "stdout",
     "output_type": "stream",
     "text": [
      "https://lenta.ru//news/2022/09/17/moldgas/\n",
      "2022-09-17 16:35:00\n",
      "В Молдавии назвали последствия полного прекращения поставок от «Газпрома»\n",
      "https://lenta.ru/\n",
      "_________________________\n",
      "https://lenta.ru/https://moslenta.ru/news/city/elektroinstrumenty-17-09-2022.htm/\n",
      "None\n",
      "Москвич взял в аренду электроинструменты и распродал их на десятки тысяч рублей\n",
      "https://lenta.ru/\n",
      "_________________________\n",
      "https://lenta.ru//news/2022/09/17/mayorgorlovka/\n",
      "2022-09-17 16:30:00\n",
      "Мэр Горловки заявил о росте числа погибших при обстрелах города\n",
      "https://lenta.ru/\n",
      "_________________________\n",
      "https://lenta.ru//news/2022/09/17/belarushm/\n",
      "2022-09-17 16:28:00\n",
      "В Белоруссии все магазины H&M закроются после распродажи остатков одежды\n",
      "https://lenta.ru/\n",
      "_________________________\n",
      "https://lenta.ru//news/2022/09/17/melit_melit/\n",
      "2022-09-17 16:14:00\n",
      "В Мелитополе произошло пять взрывов\n",
      "https://lenta.ru/\n",
      "_________________________\n",
      "https://lenta.ru/https://moslenta.ru/news/lyudi/ivleevu-zapodozrili-17-09-2022.htm\n",
      "None\n",
      "Ивлееву заподозрили в воссоединении с бывшим возлюбленным\n",
      "https://lenta.ru/\n",
      "_________________________\n",
      "https://lenta.ru//news/2022/09/17/torpedocska/\n",
      "2022-09-17 16:00:00\n",
      "«Торпедо» обыграл ЦСКА и одержал первую победу в РПЛ\n",
      "https://lenta.ru/\n",
      "_________________________\n",
      "https://lenta.ru//news/2022/09/17/obstrelnew/\n",
      "2022-09-17 15:53:00\n",
      "Киргизия сообщила об очередном обстреле со стороны Таджикистана\n",
      "https://lenta.ru/\n",
      "_________________________\n",
      "https://lenta.ru//news/2022/09/17/shayk/\n",
      "2022-09-17 15:52:00\n",
      "Ирина Шейк поделилась своими детскими фото из 1990-х\n",
      "https://lenta.ru/\n",
      "_________________________\n",
      "https://lenta.ru//news/2022/09/17/baltiyskaya_kosa/\n",
      "2022-09-17 15:47:00\n",
      "Польша открыла новый судоходный канал через Балтийскую косу\n",
      "https://lenta.ru/\n",
      "_________________________\n",
      "https://lenta.ru//news/2022/09/17/vs_slav/\n",
      "2022-09-17 15:47:00\n",
      "Российские военные нанесли удары по Славянской ТЭС и уничтожили трансформатор\n",
      "https://lenta.ru/\n",
      "_________________________\n",
      "https://lenta.ru//news/2022/09/17/galkin_comments/\n",
      "2022-09-17 15:40:00\n",
      "Максим Галкин прокомментировал внесение в реестр иноагентов\n",
      "https://lenta.ru/\n",
      "_________________________\n"
     ]
    }
   ],
   "source": [
    "for new in news_list:\n",
    "    print(new['link'])\n",
    "    print(new['datetime_stamp'])\n",
    "    print(new['title'])\n",
    "    print(new['source'])\n",
    "    print('_'*25)"
   ]
  }
 ],
 "metadata": {
  "kernelspec": {
   "display_name": "Python 3",
   "language": "python",
   "name": "python3"
  },
  "language_info": {
   "codemirror_mode": {
    "name": "ipython",
    "version": 3
   },
   "file_extension": ".py",
   "mimetype": "text/x-python",
   "name": "python",
   "nbconvert_exporter": "python",
   "pygments_lexer": "ipython3",
   "version": "3.7.4"
  }
 },
 "nbformat": 4,
 "nbformat_minor": 4
}
