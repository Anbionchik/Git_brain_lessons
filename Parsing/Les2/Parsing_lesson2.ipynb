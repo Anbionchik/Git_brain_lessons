{
 "cells": [
  {
   "cell_type": "markdown",
   "metadata": {
    "id": "3b30df52"
   },
   "source": [
    "# Урок 2\n",
    "\n",
    "# Парсинг данных. HTML, DOM, XPath"
   ]
  },
  {
   "cell_type": "markdown",
   "metadata": {
    "id": "722b8a74"
   },
   "source": [
    "## На этом уроке \n",
    "\n",
    "- Познакомимся с HTML-разметкой.\n",
    "\n",
    "- Узнаем, что такое DOM.\n",
    "\n",
    "- Научимся работать с Xpath."
   ]
  },
  {
   "cell_type": "markdown",
   "metadata": {
    "id": "4e624434"
   },
   "source": [
    "## HTML\n",
    "\n",
    "HTML (HyperText Markup Language) — язык гипертекстовой разметки, на котором написано большинство веб-страниц. HTML интерпретируется браузерами, в результате чего форматированный текст отображается на экране. HTML-страницы передаются от сервера к клиенту по протоколу HTTP в виде обычного либо зашифрованного текста. Такие страницы обычно имеют расширения html или htm. \n",
    "\n",
    "Актуальная версия HTML — 5.2. Она представлена 14 декабря 2017 года. HTML5 оживил всемирную паутину, в нём появились новые элементы: например, тег \\<video> для вставки видеопотока и \\<audio> для аудиопотока. Большинство украшающих тегов удалили (например, \\<center> и \\<font>), так как функции украшения HTML-страницы на себя взяли каскадные таблицы стилей (CSS). HTML5 также предоставляет доступ к API, с которыми можно работать при помощи языка JavaScript. "
   ]
  },
  {
   "cell_type": "markdown",
   "metadata": {
    "id": "0e11c17f"
   },
   "source": [
    "### Теги \n",
    "\n",
    "__HTML-теги__ — основа HTML. Теги используются для разграничения начала и конца элементов в разметке. Каждый HTML-документ состоит из дерева HTML-элементов и текста. Каждый HTML-элемент обозначается начальным (открывающим) <> и конечным (закрывающим) </> тегом. Открывающий и закрывающий теги содержат имя тега.\n",
    "\n",
    "Все HTML-элементы делятся на пять типов:\n",
    "\n",
    "- пустые элементы — \\<area>, \\<base>, \\<br>, \\<col>, \\<embed>, \\<hr>, \\<img>, \\<input>, \\<link>, \\<menuitem>, \\<meta>, \\<param>, \\<source>, \\<track>, \\<wbr>;\n",
    "- элементы с неформатированным текстом — \\<script>, \\<style>;\n",
    "- элементы, выводящие неформатированный текст — \\<textarea>, \\<title>;\n",
    "- элементы из другого пространства имён — MathML и SVG;\n",
    "- обычные элементы — все остальные элементы.\n",
    "\n",
    "__Важно!__ Внутри тегов хранится большинство необходимой информации, поэтому важно не только находить данные правильно, но и верно определять, в каких тегах они находятся."
   ]
  },
  {
   "cell_type": "markdown",
   "metadata": {
    "id": "80e31b15"
   },
   "source": [
    "### Структура страницы HTML\n",
    "\n",
    "Перейдём на сайт [Books to Scrape](http://books.toscrape.com/) — это один из двух сайтов, созданных специально для того, чтобы их парсили. Вы можете самостоятельно познакомиться со вторым сайтом на домашней странице [Toscrape.com](https://toscrape.com/). Второй сайт предоставляет дополнительные возможности для погружения в мир парсинга, например, отключение JavaScript или бесконечный скролл страницы.\n",
    "\n",
    "Итак, мы на главной странице [Books to Scrape](http://books.toscrape.com/). Теперь нажимаем правой кнопкой мыши и выбираем «Исследовать» — открывается окно с несколькими вкладками. Например, вкладка «Сеть» позволяет посмотреть, какие запросы были отправлены сайту. Обновим страницу и увидим — мы можем фильтровать запросы по их типу. Нажмём на HTML и поймём, что был отправлен один GET-запрос. Пролистав ниже, увидим заголовки. Во вкладке «Куки» увидим куки, на вкладке «Запрос» — параметры, которые были отправлены сайту (здесь пусто), во вкладке «Ответ» — непосредственно сам сайт.\n"
   ]
  },
  {
   "cell_type": "markdown",
   "metadata": {
    "id": "d18c67fb"
   },
   "source": [
    "<img src=\"https://i.ibb.co/WH8bZg6/1.jpg\"  width = 1000/>"
   ]
  },
  {
   "cell_type": "markdown",
   "metadata": {
    "id": "b5d07018"
   },
   "source": [
    "Нас интересует вкладка «Инспектор», где и находится вся разметка сайта. Это хороший сайт, тут все теги удобно и понятно названы. \n",
    "\n",
    "Разберём эту страницу построчно:\n",
    "\n",
    "- \\<!DOCTYPE html> — здесь мы объявляем, что это документ HTML версии 5. Для 4-й версии HTML эта строка будет следующей: \n",
    "\n",
    "```<!DOCTYPE HTML PUBLIC \"-//W3C//DTD HTML 4.01//EN\"\"http://www.w3.org/TR/html4/strict.dtd\">```\n",
    "\n",
    "- html — элемент, включающий всю веб-страницу;\n",
    "- head — головная часть HTML-страницы: в ней обычно описываются метатеги документа, подключаются дополнительные таблицы стилей и JavaScript, объявляется title страницы (текст, который будет выведен в заголовке окна или вкладки браузера) — всё, что касается мета- и описательной информации HTML-страницы;\n",
    "- body — тег, внутри которого описывается основное содержимое страницы;\n",
    "- header — именованный тег, определяющий заглавие страницы. \n",
    "- внутри тега div с классами container-fluid page находится весь основной контент сайта.\n",
    "\n",
    "Полный список тегов с удобной группировкой — в руководстве: HTML 5.2. теги: HTML5BOOK.RU."
   ]
  },
  {
   "cell_type": "markdown",
   "metadata": {
    "id": "c785e439"
   },
   "source": [
    "## Атрибуты тегов и их значения\n",
    "\n",
    "У тега могут быть свойства — атрибуты. Они дают дополнительные возможности форматирования текста. Записываются в виде сочетания имени атрибута и значения, причём текстовые значения заключаются в кавычки.\n",
    "\n",
    "Например, можно выделить фрагмент текста определённым шрифтом, используя тег <font>, и указав в этом теге название шрифта __face__ и желаемый размер __size__: \n",
    "    \n",
    "`<font face=\"Times, Arial, Courier\" size=4> Оформляемый текст </font>`\n",
    " \n",
    "__Важно!__ Обращайте внимание на атрибуты: они помогают идентифицировать нужные вам теги и часто делают их уникальными, упрощая их поиск."
   ]
  },
  {
   "cell_type": "code",
   "execution_count": null,
   "metadata": {
    "colab": {
     "base_uri": "https://localhost:8080/",
     "height": 39
    },
    "id": "0eec298e",
    "outputId": "776dba23-8765-44f3-de13-7134925d02d1"
   },
   "outputs": [
    {
     "data": {
      "text/html": [
       "\n",
       "<font face=\"Times, Arial, Courier\" size=4> Оформляемый текст </font>\n"
      ],
      "text/plain": [
       "<IPython.core.display.HTML object>"
      ]
     },
     "metadata": {},
     "output_type": "display_data"
    }
   ],
   "source": [
    "%%HTML\n",
    "\n",
    "<font face=\"Times, Arial, Courier\" size=4> Оформляемый текст </font>"
   ]
  },
  {
   "cell_type": "markdown",
   "metadata": {
    "id": "71e5f330"
   },
   "source": [
    "### Атрибут class\n",
    "\n",
    "С помощью классов часто задают стили для одного и более элементов, объединённых логическим смыслом (например, на нашем сайте это блоки с книгами). Для этого обычно используют один класс. Внутри тега article с классом product_pod находится информация о книгах:"
   ]
  },
  {
   "cell_type": "markdown",
   "metadata": {
    "id": "e80ae2b7"
   },
   "source": [
    "<img src=\"https://i.ibb.co/b2NG0QX/2.jpg\"  width = 1000/>"
   ]
  },
  {
   "cell_type": "markdown",
   "metadata": {
    "id": "7d0c9538"
   },
   "source": [
    "__Важно!__ Один элемент может имеет __несколько__ атрибутов класса! В этом случае их значения перечисляются через пробел. Например, тег article вложен в тег li, класса у которого целых четыре. В адаптивной вёрстке эти классы указывают на то, как будет выглядеть страница при изменении размера экрана.\n",
    "\n",
    "### Атрибут id\n",
    "\n",
    "Идентификатор однозначно определяет __один__ конкретный элемент. Значение id должно быть уникальным, на одной странице может встречаться только один раз. Благодаря этому атрибуту мы можем однозначно точно выбрать именно нужный нам элемент на странице. При этом класс у элемента может быть такой же, как и у других элементов на странице.\n"
   ]
  },
  {
   "cell_type": "markdown",
   "metadata": {
    "id": "0ae7cd81"
   },
   "source": [
    "<img src=\"https://i.ibb.co/tKyshPV/3.jpg\"  width = 1000/>"
   ]
  },
  {
   "cell_type": "markdown",
   "metadata": {
    "id": "c55ae93a"
   },
   "source": [
    "Помимо этого, у тегов могут быть другие атрибуты, например, ссылка (href) или значение (value). По этим атрибутам также можно осуществлять парсинг, однако с ними надо быть особо внимательными. Значения, как и ссылка, могут меняться, поэтому, если вы ищете ссылку с содержанием определённого текста, будьте уверены, что этот текст не меняется при загрузке или обновлении страницы."
   ]
  },
  {
   "cell_type": "markdown",
   "metadata": {
    "id": "f4f6eef4"
   },
   "source": [
    "## DOM\n",
    "\n",
    "__DOM__ (от англ. Document Object Model — объектная модель документа) — не зависящий от платформы и языка программный интерфейс, позволяющий программам и скриптам получить доступ к содержимому HTML-, XHTML- и XML-документов, а также менять содержимое, структуру и оформление таких документов.\n",
    "\n",
    "Модель DOM не накладывает ограничений на структуру документа. Любой документ известной структуры с помощью DOM может быть представлен в виде дерева узлов, каждый узел которого может быть: \n",
    "\n",
    "- элементом, \n",
    "- атрибутом, \n",
    "- текстовым, графическим или любым другим объектом. \n",
    "\n",
    "Узлы связаны между собой отношениями «родительский-дочерний».\n",
    "\n",
    "Изначально различные браузеры имели собственные модели документов (DOM), несовместимые с остальными. Для обеспечения взаимной и обратной совместимости специалисты международного консорциума W3C классифицировали эту модель по уровням, для каждого из которых была создана своя спецификация. Все эти спецификации объединены в общую группу — W3C DOM."
   ]
  },
  {
   "cell_type": "markdown",
   "metadata": {
    "id": "874d45f4"
   },
   "source": [
    "### Уровни DOM\n",
    "У модели DOM несколько уровней. Каждый новый расширяет функционал предыдущего:\n",
    "\n",
    "__Уровень 1__ включает в себя поддержку XML 1.0 и HTML (управление деревом, перемещение по дереву) без пространства имён (этот уровень существовал ещё до разделения модели на уровни).\n",
    "\n",
    "__Уровень 2__ поддерживает пространства имён XML и CSS.\n",
    "\n",
    "__Уровень 3__ состоит из 6 спецификаций:\n",
    "\n",
    "1. DOM Level 3 Core;\n",
    "2. DOM Level 3 Load and Save;\n",
    "3. DOM Level 3 XPath;\n",
    "4. DOM Level 3 Views and Formatting;\n",
    "5. DOM Level 3 Requirements;\n",
    "6. DOM Level 3 Validation.\n",
    "\n",
    "Для лучшего понимания DOM рассмотрим пример простой HTML-страницы:"
   ]
  },
  {
   "cell_type": "code",
   "execution_count": null,
   "metadata": {
    "colab": {
     "base_uri": "https://localhost:8080/",
     "height": 275
    },
    "id": "MKNZCqOJyTK3",
    "outputId": "f6c33e61-471a-4a85-87ae-cdd0ae077a07"
   },
   "outputs": [
    {
     "data": {
      "text/html": [
       "\n",
       "<!DOCTYPE HTML>\n",
       "<html>\n",
       "    <head>\n",
       "        <title>PAGE</title>\n",
       "    </head>\n",
       "    <body>\n",
       "        <h1>Заголовок</h1>\n",
       "        <div>\n",
       "            <h2>Раздел1</h2>\n",
       "            <p>Параграф1</p>\n",
       "        </div>\n",
       "        <div>\n",
       "            <h2>Раздел2</h2>\n",
       "            <p>Параграф1</p>\n",
       "            <p>Параграф2</p>\n",
       "        </div>\n",
       "        <div>\n",
       "            <h2>Раздел3</h2>\n",
       "        </div>\n",
       "    </body>\n",
       "</html>\n"
      ],
      "text/plain": [
       "<IPython.core.display.HTML object>"
      ]
     },
     "metadata": {},
     "output_type": "display_data"
    }
   ],
   "source": [
    "%%HTML\n",
    "\n",
    "<!DOCTYPE HTML>\n",
    "<html>\n",
    "    <head>\n",
    "        <title>PAGE</title>\n",
    "    </head>\n",
    "    <body>\n",
    "        <h1>Заголовок</h1>\n",
    "        <div>\n",
    "            <h2>Раздел1</h2>\n",
    "            <p>Параграф1</p>\n",
    "        </div>\n",
    "        <div>\n",
    "            <h2>Раздел2</h2>\n",
    "            <p>Параграф1</p>\n",
    "            <p>Параграф2</p>\n",
    "        </div>\n",
    "        <div>\n",
    "            <h2>Раздел3</h2>\n",
    "        </div>\n",
    "    </body>\n",
    "</html>"
   ]
  },
  {
   "cell_type": "code",
   "execution_count": null,
   "metadata": {
    "colab": {
     "base_uri": "https://localhost:8080/",
     "height": 143
    },
    "id": "3f6bdfaf",
    "outputId": "392cf015-5e1a-4fa5-a128-382971e9d7b4"
   },
   "outputs": [
    {
     "data": {
      "text/html": [
       "\n",
       "<!DOCTYPE HTML>\n",
       "<html>\n",
       "    <head>\n",
       "        <title>PAGE</title>\n",
       "    </head>\n",
       "    <body>\n",
       "        <h1>Заголовок</h1>\n",
       "        <div>\n",
       "            <h2>Раздел</h2>\n",
       "            <p>Параграф</p>\n",
       "        </div>\n",
       "    </body>\n",
       "</html>\n"
      ],
      "text/plain": [
       "<IPython.core.display.HTML object>"
      ]
     },
     "metadata": {},
     "output_type": "display_data"
    }
   ],
   "source": [
    "%%HTML\n",
    "\n",
    "<!DOCTYPE HTML>\n",
    "<html>\n",
    "    <head>\n",
    "        <title>PAGE</title>\n",
    "    </head>\n",
    "    <body>\n",
    "        <h1>Заголовок</h1>\n",
    "        <div>\n",
    "            <h2>Раздел</h2>\n",
    "            <p>Параграф</p>\n",
    "        </div>\n",
    "    </body>\n",
    "</html>"
   ]
  },
  {
   "cell_type": "markdown",
   "metadata": {
    "id": "0799ccfb"
   },
   "source": [
    "В виде DOM она будет представлена так:"
   ]
  },
  {
   "cell_type": "markdown",
   "metadata": {
    "id": "ac71843f"
   },
   "source": [
    "<img src=\"https://i.ibb.co/Pm1JV3h/4.jpg\"  width = 500/>"
   ]
  },
  {
   "cell_type": "markdown",
   "metadata": {
    "id": "0da05402"
   },
   "source": [
    "В представленном дереве два типа узлов:\n",
    "\n",
    "- теги — узлы, за счёт которых выстроена структура дерева, его вложенность;\n",
    "\n",
    "- текст — узлы, обозначенные как text, содержат исключительно строку текста.\n",
    "\n",
    "При построении модели DOM учитываются и переносы строк, и пробелы.\n"
   ]
  },
  {
   "cell_type": "markdown",
   "metadata": {
    "id": "0617a098"
   },
   "source": [
    "## XPath\n",
    "\n",
    "XPath или XML Path — это язык запросов, который можно использовать для поиска узлов (элементов) в документах XML (Extensible Markup Language). \n",
    "\n",
    "Языки разметки HTML и XML следуют аналогичным правилам структуры и формата. Поэтому XPath также можно использовать для запросов к HTML-документам. \n",
    "\n",
    "Проще говоря, для поиска и обработки элементов в HTML-документах мы можем использовать особый синтаксис XPath, чтобы следовать структуре и иерархии страницы. Мы познакомимся с XPath поближе, когда будем говорить о Scrapy и Selenium — познакомимся и научимся использовать. В этом уроке у нас в основном теория.\n",
    "\n",
    "В XPath есть семь типов узлов: элементы, атрибуты, текст, пространство имён, инструкции по обработке, комментарии и узлы документов. XML-документы рассматриваются как деревья узлов. Самый верхний элемент дерева называется корневым элементом. \n",
    "Есть несколько видов связей между узлами: Parent, Children, Siblings, Ancestors, Descendant. Но обычно выделяют две главные связи: \n",
    "\n",
    "- Связь Parent (родитель) — у каждого элемента и атрибута есть один родитель. Так, в следующем примере элемент ‹article› является родителем по отношению к элементам ‹div›, ‹p›, ‹h3› и ‹div›;\n",
    "\n",
    "- Связь Children (ребёнок) — узлы элементов могут иметь ноль, одного или нескольких дочерних элементов. Так, элементы ‹div›, ‹p›, ‹h3› и ‹div› являются дочерними элементами элемента ‹article›."
   ]
  },
  {
   "cell_type": "markdown",
   "metadata": {
    "id": "ac73e0da"
   },
   "source": [
    "<img src=\"https://i.ibb.co/vkKrHZn/5.jpg\"  width = 1000/>"
   ]
  },
  {
   "cell_type": "markdown",
   "metadata": {
    "id": "e1f31461"
   },
   "source": [
    "При этом между собой эти элементы являются братьями, то есть Siblings.\n",
    "\n",
    "Чтобы выбрать узлы в XML-документе, XPath использует выражения пути. Узел выбирается исходя из заданного пути. Наиболее полезные выражения пути:"
   ]
  },
  {
   "cell_type": "markdown",
   "metadata": {
    "id": "cf8b7db4"
   },
   "source": [
    "<table>\n",
    "<tbody>\n",
    "    <tr><td>Выражение</td><td>Результат</td></tr>\n",
    "    <tr><td>имя узла</td><td>Выбирает все узлы с именем «имя_узла»</td></tr>\n",
    "    <tr><td>/</td><td>Выбирает от корневого узла</td></tr>\n",
    "    <tr><td>//</td><td>Выбирает узлы от текущего узла, соответствующего выбору, независимо от их местонахождения</td></tr>\n",
    "    <tr><td>.</td><td>Выбирает текущий узел</td></tr>\n",
    "    <tr><td>..</td><td>Выбирает родителя текущего узла</td></tr>\n",
    "    <tr><td>@</td><td>Выбирает атрибуты</td></tr>\n",
    "</tbody>\n",
    "</table>"
   ]
  },
  {
   "cell_type": "markdown",
   "metadata": {
    "id": "9sz4mG7zLosC"
   },
   "source": [
    "Пример с сайтов [aliexpress](https://aliexpress.ru/)"
   ]
  },
  {
   "cell_type": "code",
   "execution_count": null,
   "metadata": {
    "id": "0G8g_O5WLyxq"
   },
   "outputs": [],
   "source": [
    "# pip install lxml\n",
    "# pip install requests"
   ]
  },
  {
   "cell_type": "code",
   "execution_count": null,
   "metadata": {
    "id": "acpyBinpLnQM"
   },
   "outputs": [],
   "source": [
    "from pprint import pprint\n",
    "from lxml import html\n",
    "import requests"
   ]
  },
  {
   "cell_type": "code",
   "execution_count": null,
   "metadata": {
    "colab": {
     "base_uri": "https://localhost:8080/",
     "height": 35
    },
    "id": "turn7wcPL0k7",
    "outputId": "1a00eab2-328a-4224-a1ec-85ba8f16114d"
   },
   "outputs": [
    {
     "data": {
      "application/vnd.google.colaboratory.intrinsic+json": {
       "type": "string"
      },
      "text/plain": [
       "'https://aliexpress.ru/wholesale?catId=&SearchText=%D0%BE%D1%81%D1%83%D1%88%D0%B8%D1%82%D0%B5%D0%BB%D0%B8'"
      ]
     },
     "execution_count": 76,
     "metadata": {},
     "output_type": "execute_result"
    }
   ],
   "source": [
    "url = 'https://aliexpress.ru/wholesale'\n",
    "\n",
    "headers = {\n",
    "    'User-Agent':\t'Mozilla/5.0 (Windows NT 10.0; Win64; x64) AppleWebKit/537.36 (KHTML, like Gecko) Chrome/104.0.0.0 Safari/537.36',\n",
    "}\n",
    "params = {\n",
    "    'catId': '',\n",
    "    'SearchText': 'осушители',\n",
    "}\n",
    "\n",
    "response = requests.get(url, headers=headers, params=params)\n",
    "response.url"
   ]
  },
  {
   "cell_type": "code",
   "execution_count": null,
   "metadata": {
    "id": "-rxwZgOvL0nZ"
   },
   "outputs": [],
   "source": [
    "dom = html.fromstring(response.text)\n",
    "products =  dom.xpath(\"//div[@class='product-snippet_ProductSnippet__grid__1ettdy product-snippet_ProductSnippet__vertical__1ettdy']/div\")"
   ]
  },
  {
   "cell_type": "code",
   "execution_count": null,
   "metadata": {
    "id": "i-X9X-J_L8iD"
   },
   "outputs": [],
   "source": [
    "products_dict = {}\n",
    "for product in products:\n",
    "  product_name = product.xpath(\"./div/div/a/div/div[@class='product-snippet_ProductSnippet__name__1ettdy']/text()\")[0]\n",
    "  product_link = 'https://aliexpress.ru' + product.xpath(\"./div/div/a/@href\")[0]\n",
    "  product_price = product.xpath(\"./div/div/a/div/div/div[@class='snow-price_SnowPrice__mainM__wuoiot']/text()\")[0]\n",
    "\n",
    "  products_dict[product_name] = {\n",
    "      'link': product_link,\n",
    "      'price': product_price,\n",
    "  }"
   ]
  },
  {
   "cell_type": "code",
   "execution_count": null,
   "metadata": {
    "id": "E3mhyYe7L8k_"
   },
   "outputs": [],
   "source": [
    "# products_dict"
   ]
  },
  {
   "cell_type": "markdown",
   "metadata": {
    "id": "9cd1e92c"
   },
   "source": [
    "Давайте рассмотрим на примере. Возьмем все элементы с тегом article и из них достанем все названия книг, их обложку, цену и наличие с сайта [Books to Scrape.](https://www.google.com/url?q=http://books.toscrape.com&sa=D&source=docs&ust=1661798849199986&usg=AOvVaw08txpSLbBLK4o1JrJY7n2e)\n"
   ]
  },
  {
   "cell_type": "code",
   "execution_count": null,
   "metadata": {
    "id": "05f3d7e1"
   },
   "outputs": [],
   "source": [
    "url = 'https://books.toscrape.com/'\n",
    "response = requests.get(url)\n",
    "\n",
    "dom = html.fromstring(response.content)\n",
    "articles = dom.xpath(\"//article\")\n",
    "\n",
    "\n",
    "articles_dict = {}\n",
    "for article in articles:\n",
    "    title = article.xpath(\".//h3/a/@title\")[0]\n",
    "    image = url + article.xpath(\".//div[@class='image_container']/a/img/@src\")[0]              \n",
    "    price = article.xpath(\".//p[@class='price_color']/text()\")[0]\n",
    "    instock = (article.xpath(\".//p[contains(@class, 'instock')]/text()\")[1].\n",
    "                   replace('\\n', '').replace('            ', '').replace('    ', ''))\n",
    "    \n",
    "    articles_dict[title] = {\n",
    "        'image': image,\n",
    "        'price': price,          \n",
    "        'instock': instock,\n",
    "    }"
   ]
  },
  {
   "cell_type": "code",
   "execution_count": null,
   "metadata": {
    "id": "f103064c"
   },
   "outputs": [],
   "source": [
    "# pprint(articles_dict)"
   ]
  },
  {
   "cell_type": "markdown",
   "metadata": {
    "id": "cf0587ac"
   },
   "source": [
    "\n",
    "Обратите внимание, что XPath возвращает список, поэтому мы забираем первый элемент в каждом списке. В уроках по Scrapy и Selenium мы подробнее рассмотрим синтаксис XPath. Если вы используете библиотеку Requests для парсинга, удобнее затем получать необходимую информацию с помощью библиотеки BeautifulSoup. \n",
    "Обратите внимание: чтобы получить атрибут тега (например, атрибут title или src), мы обращаемся к нему через @. Когда же нам нужен текст тега, пишем текст и ставим круглые скобки. Также мы можем указывать название класса, которые содержится в классе тега. Например, в теге, который содержит информацию о наличии книги в магазине, есть два класса: instock availability. Мы указали, что нам нужен тег, который содержит класс instock. Для этого мы использовали метод contains, а внутри указали, что класс содержит название instock. Этот же метод contains можно использовать и для текста, например, когда вам нужен тег с определённым текстом внутри. В таком случае надо будет прописать: текст, круглые скобки, запятая, пробел и кусок текст, который должен быть внутри искомого тега.\n",
    "\n",
    "Xpath очень удобен. Подробнее почитать о его использовании можно в статье — [«Руководство по поиску элементов с использованием XPath в Selenium Python».](https://www.awesomeandrew.ru/2021/08/06/%D1%80%D1%83%D0%BA%D0%BE%D0%B2%D0%BE%D0%B4%D1%81%D1%82%D0%B2%D0%BE-%D0%BF%D0%BE-%D0%BF%D0%BE%D0%B8%D1%81%D0%BA%D1%83-%D1%8D%D0%BB%D0%B5%D0%BC%D0%B5%D0%BD%D1%82%D0%BE%D0%B2-%D1%81-%D0%B8%D1%81%D0%BF/)\n"
   ]
  },
  {
   "cell_type": "markdown",
   "metadata": {
    "id": "32e4a4ab"
   },
   "source": [
    "## Используемая литература\n",
    "\n",
    "1. [HTML Standard](https://html.spec.whatwg.org/)\n",
    "2. [DOM](https://www.w3.org/TR/2004/REC-DOM-Level-3-Core-20040407/DOM3-Core.html)\n",
    "3. [XPAth](]https://www.w3.org/TR/1999/REC-xpath-19991116/)"
   ]
  }
 ],
 "metadata": {
  "colab": {
   "collapsed_sections": [],
   "provenance": []
  },
  "kernelspec": {
   "display_name": "Python 3",
   "language": "python",
   "name": "python3"
  },
  "language_info": {
   "codemirror_mode": {
    "name": "ipython",
    "version": 3
   },
   "file_extension": ".py",
   "mimetype": "text/x-python",
   "name": "python",
   "nbconvert_exporter": "python",
   "pygments_lexer": "ipython3",
   "version": "3.7.4"
  }
 },
 "nbformat": 4,
 "nbformat_minor": 5
}
