{
 "cells": [
  {
   "cell_type": "code",
   "execution_count": 1,
   "metadata": {},
   "outputs": [],
   "source": [
    "from pymongo import MongoClient"
   ]
  },
  {
   "cell_type": "code",
   "execution_count": 2,
   "metadata": {},
   "outputs": [],
   "source": [
    "import pickle"
   ]
  },
  {
   "cell_type": "code",
   "execution_count": 3,
   "metadata": {},
   "outputs": [],
   "source": [
    "from pprint import pprint"
   ]
  },
  {
   "cell_type": "code",
   "execution_count": 4,
   "metadata": {},
   "outputs": [],
   "source": [
    "client = MongoClient('mongodb://localhost:27017/')"
   ]
  },
  {
   "cell_type": "code",
   "execution_count": 5,
   "metadata": {},
   "outputs": [
    {
     "data": {
      "text/plain": [
       "['admin', 'config', 'local', 'vacancies_db']"
      ]
     },
     "execution_count": 5,
     "metadata": {},
     "output_type": "execute_result"
    }
   ],
   "source": [
    "client.list_database_names()"
   ]
  },
  {
   "cell_type": "code",
   "execution_count": 6,
   "metadata": {},
   "outputs": [],
   "source": [
    "vac_db = client.vacancies_db"
   ]
  },
  {
   "cell_type": "markdown",
   "metadata": {},
   "source": [
    "Подтягиваем данные из предыдущего урока"
   ]
  },
  {
   "cell_type": "code",
   "execution_count": 63,
   "metadata": {},
   "outputs": [],
   "source": [
    "with open('vacancies_rabota_ru', 'rb') as f:\n",
    "    vacancies_rabota_ru = pickle.load(f)"
   ]
  },
  {
   "cell_type": "code",
   "execution_count": 64,
   "metadata": {},
   "outputs": [],
   "source": [
    "with open('vacancies_hh_ru', 'rb') as f:\n",
    "    vacancies_hh_ru = pickle.load(f)"
   ]
  },
  {
   "cell_type": "code",
   "execution_count": 65,
   "metadata": {},
   "outputs": [
    {
     "data": {
      "text/plain": [
       "<pymongo.results.InsertManyResult at 0x297172cfd48>"
      ]
     },
     "execution_count": 65,
     "metadata": {},
     "output_type": "execute_result"
    }
   ],
   "source": [
    "vac_db.hh_ru.drop()\n",
    "vac_db.hh_ru.insert_many(vacancies_hh_ru)"
   ]
  },
  {
   "cell_type": "code",
   "execution_count": 66,
   "metadata": {},
   "outputs": [
    {
     "data": {
      "text/plain": [
       "<pymongo.results.InsertManyResult at 0x297173ecec8>"
      ]
     },
     "execution_count": 66,
     "metadata": {},
     "output_type": "execute_result"
    }
   ],
   "source": [
    "vac_db.rabota_ru.drop()\n",
    "vac_db.rabota_ru.insert_many(vacancies_rabota_ru)"
   ]
  },
  {
   "cell_type": "markdown",
   "metadata": {},
   "source": [
    "### Задание №1"
   ]
  },
  {
   "cell_type": "code",
   "execution_count": 10,
   "metadata": {},
   "outputs": [],
   "source": [
    "def add_new_vacancy(vacancy, db_collection):\n",
    "    try:\n",
    "        db_collection.find({'ref':vacancy['ref']})[0]\n",
    "        print(f'Такая вакансия уже присутствует в базе данных.')\n",
    "    except IndexError:\n",
    "        db_collection.insert_one(vacancy)\n",
    "        print('Вакансия успешно добавлена!')"
   ]
  },
  {
   "cell_type": "code",
   "execution_count": 11,
   "metadata": {},
   "outputs": [
    {
     "name": "stdout",
     "output_type": "stream",
     "text": [
      "Такая вакансия уже присутствует в базе данных.\n"
     ]
    }
   ],
   "source": [
    "add_new_vacancy({\n",
    "    'platform': 'nn.rabota.ru',\n",
    "     'ref': 'https://nn.rabota.ru/vacancy/vacancy/35485411/?search_id=1663520004703349itfwf7',\n",
    "     'salary': {'comment': None,\n",
    "                'currency': 'руб.',\n",
    "                'max': '45000',\n",
    "                'min': '35000'},\n",
    "     'salary_raw': '35\\xa0000\\xa0— 45\\xa0000 руб.',\n",
    "     'title': 'Бухгалтер'}, vac_db.rabota_ru)"
   ]
  },
  {
   "cell_type": "markdown",
   "metadata": {},
   "source": [
    "### Задание №2"
   ]
  },
  {
   "cell_type": "code",
   "execution_count": 12,
   "metadata": {},
   "outputs": [],
   "source": [
    "def find_vacancies_salary_greater_than(db_collection, amount):\n",
    "    collection = db_collection.find({'$or':[{'salary.min':{'$gt':amount}}, {'salary.max':{'$gt':amount}}]})\n",
    "    results_list = []\n",
    "    for vac in collection:\n",
    "        results_list.append(vac)\n",
    "    return results_list"
   ]
  },
  {
   "cell_type": "code",
   "execution_count": 70,
   "metadata": {},
   "outputs": [],
   "source": [
    "vacancies_list = find_vacancies_salary_greater_than(vac_db.rabota_ru, '60000')"
   ]
  },
  {
   "cell_type": "code",
   "execution_count": 71,
   "metadata": {},
   "outputs": [
    {
     "data": {
      "text/plain": [
       "[{'_id': ObjectId('632b469effb26a9941742566'),\n",
       "  'ref': 'https://nn.rabota.ru/vacancy/vacancy/46933422/?search_id=16637804521585ivztu3se1l',\n",
       "  'salary_raw': '50\\xa0000\\xa0— 70\\xa0000 руб.',\n",
       "  'salary': {'min': '50000',\n",
       "   'max': '70000',\n",
       "   'currency': 'руб.',\n",
       "   'comment': None},\n",
       "  'title': 'Программист 1с',\n",
       "  'platform': 'nn.rabota.ru',\n",
       "  'employer': 'Jobers',\n",
       "  'clear_title': 'программист1с',\n",
       "  'clear_employer': 'jobers'},\n",
       " {'_id': ObjectId('632b469effb26a9941742595'),\n",
       "  'ref': 'https://nn.rabota.ru/vacancy/vacancy/35009028/',\n",
       "  'salary_raw': '35\\xa0000\\xa0— 70\\xa0000 руб.',\n",
       "  'salary': {'min': '35000',\n",
       "   'max': '70000',\n",
       "   'currency': 'руб.',\n",
       "   'comment': None},\n",
       "  'title': 'Сервисный инженер IT',\n",
       "  'platform': 'nn.rabota.ru',\n",
       "  'employer': 'АСТ, ООО (Нижний Новгород)',\n",
       "  'clear_title': 'сервисныйинженерit',\n",
       "  'clear_employer': 'астооо(нижнийновгород)'},\n",
       " {'_id': ObjectId('632b469effb26a9941742597'),\n",
       "  'ref': 'https://nn.rabota.ru/vacancy/vacancy/46867169/',\n",
       "  'salary_raw': 'от 90\\xa0000 руб.',\n",
       "  'salary': {'min': '90000', 'max': None, 'currency': None, 'comment': 'От'},\n",
       "  'title': 'Консультант по внедрению ERP-систем',\n",
       "  'platform': 'nn.rabota.ru',\n",
       "  'employer': 'Мельинвест, АО',\n",
       "  'clear_title': 'консультантповнедрениюerpсистем',\n",
       "  'clear_employer': 'мельинвестао'}]"
      ]
     },
     "execution_count": 71,
     "metadata": {},
     "output_type": "execute_result"
    }
   ],
   "source": [
    "vacancies_list"
   ]
  },
  {
   "cell_type": "markdown",
   "metadata": {},
   "source": [
    "### Задание №3"
   ]
  },
  {
   "cell_type": "code",
   "execution_count": 58,
   "metadata": {},
   "outputs": [],
   "source": [
    "def match_vacancies(collection_1, collection_2):\n",
    "    result = []\n",
    "    for vacancy_1 in collection_1.find():\n",
    "        matches = collection_2.find({'clear_title':vacancy_1['clear_title']})\n",
    "        for match in matches:\n",
    "            if vacancy_1['clear_employer'] == match['clear_employer']:\n",
    "                result.append((vacancy_1, match))\n",
    "            elif (vacancy_1['clear_employer'] is None) or (vacancy_1['clear_employer'] is None):\n",
    "                if vacancy_1['salary']['min'] == match['salary']['min'] and vacancy_1['salary']['max'] == match['salary']['max']:\n",
    "                    result.append((vacancy_1, match))\n",
    "    return result"
   ]
  },
  {
   "cell_type": "code",
   "execution_count": 67,
   "metadata": {},
   "outputs": [],
   "source": [
    "results = match_vacancies(vac_db.rabota_ru, vac_db.hh_ru)"
   ]
  },
  {
   "cell_type": "code",
   "execution_count": 68,
   "metadata": {},
   "outputs": [
    {
     "name": "stdout",
     "output_type": "stream",
     "text": [
      "[({'_id': ObjectId('632b469effb26a9941742564'),\n",
      "   'clear_employer': '2гис',\n",
      "   'clear_title': 'seniorgolangdeveloper',\n",
      "   'employer': '2ГИС',\n",
      "   'platform': 'nn.rabota.ru',\n",
      "   'ref': 'https://nn.rabota.ru/vacancy/vacancy/46974931/?search_id=16637804521585ivztu3se1l',\n",
      "   'salary': {'comment': 'по договоренности',\n",
      "              'currency': None,\n",
      "              'max': None,\n",
      "              'min': None},\n",
      "   'salary_raw': 'по договоренности',\n",
      "   'title': 'Senior Golang Developer'},\n",
      "  {'_id': ObjectId('632b469effb26a9941742540'),\n",
      "   'clear_employer': '2гис',\n",
      "   'clear_title': 'seniorgolangdeveloper',\n",
      "   'employer': '2ГИС',\n",
      "   'platform': 'nn.hh.ru',\n",
      "   'ref': 'https://nn.hh.ru/vacancy/68135135?query=%D0%BF%D1%80%D0%BE%D0%B3%D1%80%D0%B0%D0%BC%D0%BC%D0%B8%D1%81%D1%82',\n",
      "   'salary': {'comment': None, 'currency': None, 'max': None, 'min': None},\n",
      "   'salary_raw': None,\n",
      "   'title': 'Senior Golang Developer'}),\n",
      " ({'_id': ObjectId('632b469effb26a9941742566'),\n",
      "   'clear_employer': 'jobers',\n",
      "   'clear_title': 'программист1с',\n",
      "   'employer': 'Jobers',\n",
      "   'platform': 'nn.rabota.ru',\n",
      "   'ref': 'https://nn.rabota.ru/vacancy/vacancy/46933422/?search_id=16637804521585ivztu3se1l',\n",
      "   'salary': {'comment': None,\n",
      "              'currency': 'руб.',\n",
      "              'max': '70000',\n",
      "              'min': '50000'},\n",
      "   'salary_raw': '50\\xa0000\\xa0— 70\\xa0000 руб.',\n",
      "   'title': 'Программист 1с'},\n",
      "  {'_id': ObjectId('632b469effb26a9941742388'),\n",
      "   'clear_employer': 'jobers',\n",
      "   'clear_title': 'программист1с',\n",
      "   'employer': 'Jobers',\n",
      "   'platform': 'nn.hh.ru',\n",
      "   'ref': 'https://nn.hh.ru/vacancy/69546129?query=%D0%BF%D1%80%D0%BE%D0%B3%D1%80%D0%B0%D0%BC%D0%BC%D0%B8%D1%81%D1%82',\n",
      "   'salary': {'comment': None,\n",
      "              'currency': None,\n",
      "              'max': '50000',\n",
      "              'min': '50000'},\n",
      "   'salary_raw': '50\\u202f000 – 70\\u202f000 руб.',\n",
      "   'title': 'Программист 1с'}),\n",
      " ({'_id': ObjectId('632b469effb26a9941742576'),\n",
      "   'clear_employer': '2гис',\n",
      "   'clear_title': 'seniorgolangdeveloper',\n",
      "   'employer': '2ГИС',\n",
      "   'platform': 'nn.rabota.ru',\n",
      "   'ref': 'https://nn.rabota.ru/vacancy/vacancy/46974932/',\n",
      "   'salary': {'comment': 'по договоренности',\n",
      "              'currency': None,\n",
      "              'max': None,\n",
      "              'min': None},\n",
      "   'salary_raw': 'по договоренности',\n",
      "   'title': 'Senior Golang Developer'},\n",
      "  {'_id': ObjectId('632b469effb26a9941742540'),\n",
      "   'clear_employer': '2гис',\n",
      "   'clear_title': 'seniorgolangdeveloper',\n",
      "   'employer': '2ГИС',\n",
      "   'platform': 'nn.hh.ru',\n",
      "   'ref': 'https://nn.hh.ru/vacancy/68135135?query=%D0%BF%D1%80%D0%BE%D0%B3%D1%80%D0%B0%D0%BC%D0%BC%D0%B8%D1%81%D1%82',\n",
      "   'salary': {'comment': None, 'currency': None, 'max': None, 'min': None},\n",
      "   'salary_raw': None,\n",
      "   'title': 'Senior Golang Developer'}),\n",
      " ({'_id': ObjectId('632b469effb26a9941742577'),\n",
      "   'clear_employer': '2гис',\n",
      "   'clear_title': 'seniorgolangdeveloper',\n",
      "   'employer': '2ГИС',\n",
      "   'platform': 'nn.rabota.ru',\n",
      "   'ref': 'https://nn.rabota.ru/vacancy/vacancy/46974931/',\n",
      "   'salary': {'comment': 'по договоренности',\n",
      "              'currency': None,\n",
      "              'max': None,\n",
      "              'min': None},\n",
      "   'salary_raw': 'по договоренности',\n",
      "   'title': 'Senior Golang Developer'},\n",
      "  {'_id': ObjectId('632b469effb26a9941742540'),\n",
      "   'clear_employer': '2гис',\n",
      "   'clear_title': 'seniorgolangdeveloper',\n",
      "   'employer': '2ГИС',\n",
      "   'platform': 'nn.hh.ru',\n",
      "   'ref': 'https://nn.hh.ru/vacancy/68135135?query=%D0%BF%D1%80%D0%BE%D0%B3%D1%80%D0%B0%D0%BC%D0%BC%D0%B8%D1%81%D1%82',\n",
      "   'salary': {'comment': None, 'currency': None, 'max': None, 'min': None},\n",
      "   'salary_raw': None,\n",
      "   'title': 'Senior Golang Developer'})]\n"
     ]
    }
   ],
   "source": [
    "pprint(results)"
   ]
  }
 ],
 "metadata": {
  "kernelspec": {
   "display_name": "Python 3",
   "language": "python",
   "name": "python3"
  },
  "language_info": {
   "codemirror_mode": {
    "name": "ipython",
    "version": 3
   },
   "file_extension": ".py",
   "mimetype": "text/x-python",
   "name": "python",
   "nbconvert_exporter": "python",
   "pygments_lexer": "ipython3",
   "version": "3.7.4"
  }
 },
 "nbformat": 4,
 "nbformat_minor": 4
}
