{
  "cells": [
    {
      "cell_type": "markdown",
      "metadata": {
        "id": "BPMPc-ndCRku"
      },
      "source": [
        "### Задача uplift-моделирования"
      ]
    },
    {
      "cell_type": "markdown",
      "metadata": {
        "id": "3k1PIBezCRkw"
      },
      "source": [
        "### План занятия\n",
        "\n",
        "* Введение: коммуникация с пользователями\n",
        "* Дизайн эксперимента\n",
        "* Типы клиентов\n",
        "* Одна модель с дополнительным признаком\n",
        "* Вариант с двумя независимыми моделями\n",
        "* Вариант с двумя зависимыми моделями\n",
        "* Прямой расчет uplift: \"деревянные\" модели\n",
        "* Ссылки"
      ]
    },
    {
      "cell_type": "markdown",
      "metadata": {
        "id": "5LEwtcRkCRkw"
      },
      "source": [
        "### Введение\n",
        "\n",
        "Часто возникает необходимость коммуникации с пользователями для продвижения сервисов и услуг.\n",
        "\n",
        "Коммуникация осуществляется с помощью различных каналов: смс, звонки, push-уведомления, сообщения в чатботе и т.д\n",
        "\n",
        "Например, мы хотим отправить push-уведомление игрокам в мобильной игре о том, что у них заполнились склады или об ином внутриигровом событии. Либо даже хотим отправить уведомление о наступающем внутриигровом эвенте (которые очень важны для активных игроков и для монетизации и развития игры в целом)."
      ]
    },
    {
      "cell_type": "markdown",
      "metadata": {
        "id": "kQnnzZeOCRkx"
      },
      "source": [
        "Другой пример:\n",
        "\n",
        "Мы хотим прорекламировать популярный продукт, но при этом не хотим тратить бюджет на коммуникацию с пользователями, которые и без нас его купят. "
      ]
    },
    {
      "cell_type": "markdown",
      "metadata": {
        "id": "znYOmxscCRkx"
      },
      "source": [
        "Изначально вопрос у нас такой: <b>Какова вероятность, что пользователь совершит нужное нам действие?</b>\n",
        "\n",
        "Но нам нужен ответ не на него."
      ]
    },
    {
      "cell_type": "markdown",
      "metadata": {
        "id": "Gr8CjEDyCRkx"
      },
      "source": [
        "### Пример - задача прогнозирования оттока\n",
        "\n",
        "Подробно задачу будем разбирать на следующем занятии, но давайте договоримся, что решать мы ее уже умеем.\n",
        "\n",
        "Т.е мы для пользователей нашего сервиса можем посчитать вероятность ухода в отток."
      ]
    },
    {
      "cell_type": "markdown",
      "metadata": {
        "id": "qvzaJ_MDCRkx"
      },
      "source": [
        "![ab_split](churn.png \"churn1\")"
      ]
    },
    {
      "cell_type": "markdown",
      "metadata": {
        "id": "68RZa-PsCRkx"
      },
      "source": [
        "Мы можем для пользователя определить вероятность:\n",
        "\n",
        "P(User)"
      ]
    },
    {
      "cell_type": "markdown",
      "metadata": {
        "id": "tZt-PVUTCRky"
      },
      "source": [
        "Мы хотим удерживать наших пользователей, которые чем-то недовольны или несчастны и хотим им предложить более выгодные условия подписки или тарифа (например, если мы - мобильный оператор, то мы можем предложить нашим абонентам более выгодный тариф).\n",
        "\n",
        "Хорошо, мы можем отобрать из нашей аудитории наиболее \"несчастных\". Почему бы просто не сделать им предложение? В чем проблема? "
      ]
    },
    {
      "cell_type": "markdown",
      "metadata": {
        "id": "n4P5gllCCRky"
      },
      "source": [
        "Проблема в том, что разные пользователи реагируют на коммуникацию по-разному и каждое взаимодействие стоит для нас денег."
      ]
    },
    {
      "cell_type": "markdown",
      "metadata": {
        "id": "4NnTrM2NCRky"
      },
      "source": [
        "И еще проблема - <b>наша модель неидеальна!</b>"
      ]
    },
    {
      "cell_type": "markdown",
      "metadata": {
        "id": "ZchpQpOuCRky"
      },
      "source": [
        "#### Типы пользователей по реакции на коммуникацию"
      ]
    },
    {
      "cell_type": "markdown",
      "metadata": {
        "id": "G_BhFYoaCRky"
      },
      "source": [
        "![ab_split](uplift_client_types.png \"uplift_client_types\")"
      ]
    },
    {
      "cell_type": "markdown",
      "metadata": {
        "id": "gA85Us3qCRky"
      },
      "source": [
        "1. Пользователи, которые совершат нужное действие независимо от коммуникации\n",
        "2. Те, кто совершат действие, если будет коммуникация\n",
        "3. Те, кто не совершит действие независимо от коммуникации\n",
        "4. Не совершат действие, если коммуникация будет"
      ]
    },
    {
      "cell_type": "markdown",
      "metadata": {
        "id": "UXWOmlc7CRkz"
      },
      "source": [
        "Для оптимизации эффекта от воздействия хочется посчитать разницу реакций пользователя при наличии коммуникации и при ее отсутствии. \n",
        "\n",
        "Проблема в том, что мы не можем одновременно совершить коммуникацию и не совершить коммуникацию."
      ]
    },
    {
      "cell_type": "markdown",
      "metadata": {
        "id": "g2G7Lx_aCRkz"
      },
      "source": [
        "![ab_split](uplift2.png \"uplift_cats\")"
      ]
    },
    {
      "cell_type": "markdown",
      "metadata": {
        "id": "6bVRQMd3CRkz"
      },
      "source": [
        "Что же делать?"
      ]
    },
    {
      "cell_type": "markdown",
      "metadata": {
        "id": "uZQnq4MvCRkz"
      },
      "source": [
        "Необходимо оценить разницу между двумя событиями, которые являются взаимоисключающими для конкретного пользователя.\n",
        "\n",
        "Для этого нам нужна обучающая выборка. А для нее нужно просто провести эксперимент. \n",
        "\n",
        "1. Берем часть базы пользователей и разбиваем на 2 группы: контрольную и экспериментальную\n",
        "2. На экспериментальной группе запускаем маркетинговую кампанию (совершаем коммуникацию)\n",
        "3. Через какое-то время у нас есть результаты совершения нужного действия клиентами в обеих группах (включая контрольную)\n",
        "4. Проводим uplift-моделирование"
      ]
    },
    {
      "cell_type": "markdown",
      "metadata": {
        "id": "6iflqTkgCRkz"
      },
      "source": [
        "![ab_split](uplift_3.png \"uplift3\")"
      ]
    },
    {
      "cell_type": "markdown",
      "metadata": {
        "id": "0wONVZ7aCRkz"
      },
      "source": [
        "![ab_split](uplift_scheme.png \"uplift_scheme\")"
      ]
    },
    {
      "cell_type": "markdown",
      "metadata": {
        "id": "ygGqjIi2CRk0"
      },
      "source": [
        "*взято из https://habr.com/ru/company/ru_mts/blog/485980/"
      ]
    },
    {
      "cell_type": "markdown",
      "metadata": {
        "id": "ksfMTRMhCRk0"
      },
      "source": [
        "### Пример модели с дополнительным признаком"
      ]
    },
    {
      "cell_type": "markdown",
      "metadata": {
        "id": "QJx5wAiaCRk0"
      },
      "source": [
        "Другие названия: Treatment Dummy approach, Solo model approach, Single model approach, S-Learner "
      ]
    },
    {
      "cell_type": "markdown",
      "metadata": {
        "id": "Ur8paYXiCRk0"
      },
      "source": [
        "![ab_split](uplift_single_model.png \"uplift_single_model\")"
      ]
    },
    {
      "cell_type": "markdown",
      "metadata": {
        "id": "cbhlvnF8CRk0"
      },
      "source": [
        "### Две независимые модели"
      ]
    },
    {
      "cell_type": "markdown",
      "metadata": {
        "id": "tQig1riTCRk0"
      },
      "source": [
        "Другие названия: Two models approach, T-learner, difference two models"
      ]
    },
    {
      "cell_type": "markdown",
      "metadata": {
        "id": "S7IMq7QGCRk1"
      },
      "source": [
        "Интуитивно понятный и простой метод - моделируем 2 условные вероятности\n",
        "\n",
        "1. обучаем модель прогноза вероятности совершения целевого действия для контрольной группы\n",
        "2. обучаем модель прогноза вероятности совершения целевого действия для экспериментальной группы\n",
        "3. на прогнозе - делаем прогноз для тестовых пользователей двумя моделями и вычитаем из прогноза второй модели прогноз первой"
      ]
    },
    {
      "cell_type": "markdown",
      "metadata": {
        "id": "VgVPIWUYCRk1"
      },
      "source": [
        "![ab_split](uplift_2models.png \"uplift_2models\")"
      ]
    },
    {
      "cell_type": "markdown",
      "metadata": {
        "id": "LBzCURmLCRk1"
      },
      "source": [
        "p(y=1|w=1), p(y=1|w=0)"
      ]
    },
    {
      "cell_type": "markdown",
      "metadata": {
        "id": "KIec1x18CRk1"
      },
      "source": [
        "### Практический пример с соревнования X5 \n",
        "\n",
        "http://retailhero.ai/#rec141268104"
      ]
    },
    {
      "cell_type": "markdown",
      "metadata": {
        "id": "O-R72QMvCRk1"
      },
      "source": [
        "Импортируем нужные библиотеки и предобработаем данные:"
      ]
    },
    {
      "cell_type": "code",
      "execution_count": 3,
      "metadata": {
        "id": "aHbl_WcOCRk2"
      },
      "outputs": [],
      "source": [
        "%matplotlib inline\n",
        "\n",
        "import pandas as pd; pd.set_option('display.max_columns', None)\n",
        "from sklearn.model_selection import train_test_split\n",
        "\n",
        "\n",
        "# Чтение данных\n",
        "df_clients = pd.read_csv('clients.csv', index_col='client_id')\n",
        "df_train = pd.read_csv('uplift_train.csv', index_col='client_id')\n",
        "df_test = pd.read_csv('uplift_test.csv', index_col='client_id')\n",
        "\n",
        "# Извлечение признаков\n",
        "df_features = df_clients.copy()\n",
        "df_features['first_issue_time'] = \\\n",
        "    (pd.to_datetime(df_features['first_issue_date'])\n",
        "     - pd.Timestamp('1970-01-01')) // pd.Timedelta('1s')\n",
        "df_features['first_redeem_time'] = \\\n",
        "    (pd.to_datetime(df_features['first_redeem_date'])\n",
        "     - pd.Timestamp('1970-01-01')) // pd.Timedelta('1s')\n",
        "df_features['issue_redeem_delay'] = df_features['first_redeem_time'] \\\n",
        "    - df_features['first_issue_time']\n",
        "df_features = df_features.drop(['first_issue_date', 'first_redeem_date'], axis=1)\n",
        "\n",
        "indices_train = df_train.index\n",
        "indices_test = df_test.index\n",
        "indices_learn, indices_valid = train_test_split(df_train.index, test_size=0.3, random_state=123)"
      ]
    },
    {
      "cell_type": "code",
      "execution_count": 4,
      "metadata": {
        "scrolled": true,
        "colab": {
          "base_uri": "https://localhost:8080/",
          "height": 455
        },
        "id": "he9dFx2WCRk2",
        "outputId": "37f68769-d9c9-4b30-fd59-b877b819fa89"
      },
      "outputs": [
        {
          "output_type": "execute_result",
          "data": {
            "text/plain": [
              "               first_issue_date    first_redeem_date  age gender\n",
              "client_id                                                       \n",
              "000012768d  2017-08-05 15:40:48  2018-01-04 19:30:07   45      U\n",
              "000036f903  2017-04-10 13:54:23  2017-04-23 12:37:56   72      F\n",
              "000048b7a6  2018-12-15 13:33:11                  NaN   68      F\n",
              "000073194a  2017-05-23 12:56:14  2017-11-24 11:18:01   60      F\n",
              "00007c7133  2017-05-22 16:17:08  2018-12-31 17:17:33   67      U\n",
              "...                         ...                  ...  ...    ...\n",
              "fffece623e  2018-05-13 15:09:30  2018-12-27 19:06:39   67      U\n",
              "ffff3dfff8  2018-11-01 16:06:52  2018-12-07 17:33:47   56      F\n",
              "ffffaab9da  2017-08-25 18:43:24  2017-12-08 17:53:19   23      F\n",
              "ffffeb5619  2017-12-05 13:26:28                  NaN   62      U\n",
              "fffff6ce77  2017-08-03 20:25:12  2017-08-26 16:41:41   42      U\n",
              "\n",
              "[400162 rows x 4 columns]"
            ],
            "text/html": [
              "\n",
              "  <div id=\"df-3b4baf56-ae38-439d-ba49-1175fd4bcc15\">\n",
              "    <div class=\"colab-df-container\">\n",
              "      <div>\n",
              "<style scoped>\n",
              "    .dataframe tbody tr th:only-of-type {\n",
              "        vertical-align: middle;\n",
              "    }\n",
              "\n",
              "    .dataframe tbody tr th {\n",
              "        vertical-align: top;\n",
              "    }\n",
              "\n",
              "    .dataframe thead th {\n",
              "        text-align: right;\n",
              "    }\n",
              "</style>\n",
              "<table border=\"1\" class=\"dataframe\">\n",
              "  <thead>\n",
              "    <tr style=\"text-align: right;\">\n",
              "      <th></th>\n",
              "      <th>first_issue_date</th>\n",
              "      <th>first_redeem_date</th>\n",
              "      <th>age</th>\n",
              "      <th>gender</th>\n",
              "    </tr>\n",
              "    <tr>\n",
              "      <th>client_id</th>\n",
              "      <th></th>\n",
              "      <th></th>\n",
              "      <th></th>\n",
              "      <th></th>\n",
              "    </tr>\n",
              "  </thead>\n",
              "  <tbody>\n",
              "    <tr>\n",
              "      <th>000012768d</th>\n",
              "      <td>2017-08-05 15:40:48</td>\n",
              "      <td>2018-01-04 19:30:07</td>\n",
              "      <td>45</td>\n",
              "      <td>U</td>\n",
              "    </tr>\n",
              "    <tr>\n",
              "      <th>000036f903</th>\n",
              "      <td>2017-04-10 13:54:23</td>\n",
              "      <td>2017-04-23 12:37:56</td>\n",
              "      <td>72</td>\n",
              "      <td>F</td>\n",
              "    </tr>\n",
              "    <tr>\n",
              "      <th>000048b7a6</th>\n",
              "      <td>2018-12-15 13:33:11</td>\n",
              "      <td>NaN</td>\n",
              "      <td>68</td>\n",
              "      <td>F</td>\n",
              "    </tr>\n",
              "    <tr>\n",
              "      <th>000073194a</th>\n",
              "      <td>2017-05-23 12:56:14</td>\n",
              "      <td>2017-11-24 11:18:01</td>\n",
              "      <td>60</td>\n",
              "      <td>F</td>\n",
              "    </tr>\n",
              "    <tr>\n",
              "      <th>00007c7133</th>\n",
              "      <td>2017-05-22 16:17:08</td>\n",
              "      <td>2018-12-31 17:17:33</td>\n",
              "      <td>67</td>\n",
              "      <td>U</td>\n",
              "    </tr>\n",
              "    <tr>\n",
              "      <th>...</th>\n",
              "      <td>...</td>\n",
              "      <td>...</td>\n",
              "      <td>...</td>\n",
              "      <td>...</td>\n",
              "    </tr>\n",
              "    <tr>\n",
              "      <th>fffece623e</th>\n",
              "      <td>2018-05-13 15:09:30</td>\n",
              "      <td>2018-12-27 19:06:39</td>\n",
              "      <td>67</td>\n",
              "      <td>U</td>\n",
              "    </tr>\n",
              "    <tr>\n",
              "      <th>ffff3dfff8</th>\n",
              "      <td>2018-11-01 16:06:52</td>\n",
              "      <td>2018-12-07 17:33:47</td>\n",
              "      <td>56</td>\n",
              "      <td>F</td>\n",
              "    </tr>\n",
              "    <tr>\n",
              "      <th>ffffaab9da</th>\n",
              "      <td>2017-08-25 18:43:24</td>\n",
              "      <td>2017-12-08 17:53:19</td>\n",
              "      <td>23</td>\n",
              "      <td>F</td>\n",
              "    </tr>\n",
              "    <tr>\n",
              "      <th>ffffeb5619</th>\n",
              "      <td>2017-12-05 13:26:28</td>\n",
              "      <td>NaN</td>\n",
              "      <td>62</td>\n",
              "      <td>U</td>\n",
              "    </tr>\n",
              "    <tr>\n",
              "      <th>fffff6ce77</th>\n",
              "      <td>2017-08-03 20:25:12</td>\n",
              "      <td>2017-08-26 16:41:41</td>\n",
              "      <td>42</td>\n",
              "      <td>U</td>\n",
              "    </tr>\n",
              "  </tbody>\n",
              "</table>\n",
              "<p>400162 rows × 4 columns</p>\n",
              "</div>\n",
              "      <button class=\"colab-df-convert\" onclick=\"convertToInteractive('df-3b4baf56-ae38-439d-ba49-1175fd4bcc15')\"\n",
              "              title=\"Convert this dataframe to an interactive table.\"\n",
              "              style=\"display:none;\">\n",
              "        \n",
              "  <svg xmlns=\"http://www.w3.org/2000/svg\" height=\"24px\"viewBox=\"0 0 24 24\"\n",
              "       width=\"24px\">\n",
              "    <path d=\"M0 0h24v24H0V0z\" fill=\"none\"/>\n",
              "    <path d=\"M18.56 5.44l.94 2.06.94-2.06 2.06-.94-2.06-.94-.94-2.06-.94 2.06-2.06.94zm-11 1L8.5 8.5l.94-2.06 2.06-.94-2.06-.94L8.5 2.5l-.94 2.06-2.06.94zm10 10l.94 2.06.94-2.06 2.06-.94-2.06-.94-.94-2.06-.94 2.06-2.06.94z\"/><path d=\"M17.41 7.96l-1.37-1.37c-.4-.4-.92-.59-1.43-.59-.52 0-1.04.2-1.43.59L10.3 9.45l-7.72 7.72c-.78.78-.78 2.05 0 2.83L4 21.41c.39.39.9.59 1.41.59.51 0 1.02-.2 1.41-.59l7.78-7.78 2.81-2.81c.8-.78.8-2.07 0-2.86zM5.41 20L4 18.59l7.72-7.72 1.47 1.35L5.41 20z\"/>\n",
              "  </svg>\n",
              "      </button>\n",
              "      \n",
              "  <style>\n",
              "    .colab-df-container {\n",
              "      display:flex;\n",
              "      flex-wrap:wrap;\n",
              "      gap: 12px;\n",
              "    }\n",
              "\n",
              "    .colab-df-convert {\n",
              "      background-color: #E8F0FE;\n",
              "      border: none;\n",
              "      border-radius: 50%;\n",
              "      cursor: pointer;\n",
              "      display: none;\n",
              "      fill: #1967D2;\n",
              "      height: 32px;\n",
              "      padding: 0 0 0 0;\n",
              "      width: 32px;\n",
              "    }\n",
              "\n",
              "    .colab-df-convert:hover {\n",
              "      background-color: #E2EBFA;\n",
              "      box-shadow: 0px 1px 2px rgba(60, 64, 67, 0.3), 0px 1px 3px 1px rgba(60, 64, 67, 0.15);\n",
              "      fill: #174EA6;\n",
              "    }\n",
              "\n",
              "    [theme=dark] .colab-df-convert {\n",
              "      background-color: #3B4455;\n",
              "      fill: #D2E3FC;\n",
              "    }\n",
              "\n",
              "    [theme=dark] .colab-df-convert:hover {\n",
              "      background-color: #434B5C;\n",
              "      box-shadow: 0px 1px 3px 1px rgba(0, 0, 0, 0.15);\n",
              "      filter: drop-shadow(0px 1px 2px rgba(0, 0, 0, 0.3));\n",
              "      fill: #FFFFFF;\n",
              "    }\n",
              "  </style>\n",
              "\n",
              "      <script>\n",
              "        const buttonEl =\n",
              "          document.querySelector('#df-3b4baf56-ae38-439d-ba49-1175fd4bcc15 button.colab-df-convert');\n",
              "        buttonEl.style.display =\n",
              "          google.colab.kernel.accessAllowed ? 'block' : 'none';\n",
              "\n",
              "        async function convertToInteractive(key) {\n",
              "          const element = document.querySelector('#df-3b4baf56-ae38-439d-ba49-1175fd4bcc15');\n",
              "          const dataTable =\n",
              "            await google.colab.kernel.invokeFunction('convertToInteractive',\n",
              "                                                     [key], {});\n",
              "          if (!dataTable) return;\n",
              "\n",
              "          const docLinkHtml = 'Like what you see? Visit the ' +\n",
              "            '<a target=\"_blank\" href=https://colab.research.google.com/notebooks/data_table.ipynb>data table notebook</a>'\n",
              "            + ' to learn more about interactive tables.';\n",
              "          element.innerHTML = '';\n",
              "          dataTable['output_type'] = 'display_data';\n",
              "          await google.colab.output.renderOutput(dataTable, element);\n",
              "          const docLink = document.createElement('div');\n",
              "          docLink.innerHTML = docLinkHtml;\n",
              "          element.appendChild(docLink);\n",
              "        }\n",
              "      </script>\n",
              "    </div>\n",
              "  </div>\n",
              "  "
            ]
          },
          "metadata": {},
          "execution_count": 4
        }
      ],
      "source": [
        "df_clients"
      ]
    },
    {
      "cell_type": "code",
      "execution_count": 5,
      "metadata": {
        "colab": {
          "base_uri": "https://localhost:8080/",
          "height": 157
        },
        "id": "nQGcQkRLCRk3",
        "outputId": "658875a2-b88a-48ce-82b0-2b28f78f734e"
      },
      "outputs": [
        {
          "output_type": "execute_result",
          "data": {
            "text/plain": [
              "Empty DataFrame\n",
              "Columns: []\n",
              "Index: [000048b7a6, 000073194a, 00007c7133]"
            ],
            "text/html": [
              "\n",
              "  <div id=\"df-db756f3a-8df0-42a7-830d-1797e3775277\">\n",
              "    <div class=\"colab-df-container\">\n",
              "      <div>\n",
              "<style scoped>\n",
              "    .dataframe tbody tr th:only-of-type {\n",
              "        vertical-align: middle;\n",
              "    }\n",
              "\n",
              "    .dataframe tbody tr th {\n",
              "        vertical-align: top;\n",
              "    }\n",
              "\n",
              "    .dataframe thead th {\n",
              "        text-align: right;\n",
              "    }\n",
              "</style>\n",
              "<table border=\"1\" class=\"dataframe\">\n",
              "  <thead>\n",
              "    <tr style=\"text-align: right;\">\n",
              "      <th></th>\n",
              "    </tr>\n",
              "    <tr>\n",
              "      <th>client_id</th>\n",
              "    </tr>\n",
              "  </thead>\n",
              "  <tbody>\n",
              "    <tr>\n",
              "      <th>000048b7a6</th>\n",
              "    </tr>\n",
              "    <tr>\n",
              "      <th>000073194a</th>\n",
              "    </tr>\n",
              "    <tr>\n",
              "      <th>00007c7133</th>\n",
              "    </tr>\n",
              "  </tbody>\n",
              "</table>\n",
              "</div>\n",
              "      <button class=\"colab-df-convert\" onclick=\"convertToInteractive('df-db756f3a-8df0-42a7-830d-1797e3775277')\"\n",
              "              title=\"Convert this dataframe to an interactive table.\"\n",
              "              style=\"display:none;\">\n",
              "        \n",
              "  <svg xmlns=\"http://www.w3.org/2000/svg\" height=\"24px\"viewBox=\"0 0 24 24\"\n",
              "       width=\"24px\">\n",
              "    <path d=\"M0 0h24v24H0V0z\" fill=\"none\"/>\n",
              "    <path d=\"M18.56 5.44l.94 2.06.94-2.06 2.06-.94-2.06-.94-.94-2.06-.94 2.06-2.06.94zm-11 1L8.5 8.5l.94-2.06 2.06-.94-2.06-.94L8.5 2.5l-.94 2.06-2.06.94zm10 10l.94 2.06.94-2.06 2.06-.94-2.06-.94-.94-2.06-.94 2.06-2.06.94z\"/><path d=\"M17.41 7.96l-1.37-1.37c-.4-.4-.92-.59-1.43-.59-.52 0-1.04.2-1.43.59L10.3 9.45l-7.72 7.72c-.78.78-.78 2.05 0 2.83L4 21.41c.39.39.9.59 1.41.59.51 0 1.02-.2 1.41-.59l7.78-7.78 2.81-2.81c.8-.78.8-2.07 0-2.86zM5.41 20L4 18.59l7.72-7.72 1.47 1.35L5.41 20z\"/>\n",
              "  </svg>\n",
              "      </button>\n",
              "      \n",
              "  <style>\n",
              "    .colab-df-container {\n",
              "      display:flex;\n",
              "      flex-wrap:wrap;\n",
              "      gap: 12px;\n",
              "    }\n",
              "\n",
              "    .colab-df-convert {\n",
              "      background-color: #E8F0FE;\n",
              "      border: none;\n",
              "      border-radius: 50%;\n",
              "      cursor: pointer;\n",
              "      display: none;\n",
              "      fill: #1967D2;\n",
              "      height: 32px;\n",
              "      padding: 0 0 0 0;\n",
              "      width: 32px;\n",
              "    }\n",
              "\n",
              "    .colab-df-convert:hover {\n",
              "      background-color: #E2EBFA;\n",
              "      box-shadow: 0px 1px 2px rgba(60, 64, 67, 0.3), 0px 1px 3px 1px rgba(60, 64, 67, 0.15);\n",
              "      fill: #174EA6;\n",
              "    }\n",
              "\n",
              "    [theme=dark] .colab-df-convert {\n",
              "      background-color: #3B4455;\n",
              "      fill: #D2E3FC;\n",
              "    }\n",
              "\n",
              "    [theme=dark] .colab-df-convert:hover {\n",
              "      background-color: #434B5C;\n",
              "      box-shadow: 0px 1px 3px 1px rgba(0, 0, 0, 0.15);\n",
              "      filter: drop-shadow(0px 1px 2px rgba(0, 0, 0, 0.3));\n",
              "      fill: #FFFFFF;\n",
              "    }\n",
              "  </style>\n",
              "\n",
              "      <script>\n",
              "        const buttonEl =\n",
              "          document.querySelector('#df-db756f3a-8df0-42a7-830d-1797e3775277 button.colab-df-convert');\n",
              "        buttonEl.style.display =\n",
              "          google.colab.kernel.accessAllowed ? 'block' : 'none';\n",
              "\n",
              "        async function convertToInteractive(key) {\n",
              "          const element = document.querySelector('#df-db756f3a-8df0-42a7-830d-1797e3775277');\n",
              "          const dataTable =\n",
              "            await google.colab.kernel.invokeFunction('convertToInteractive',\n",
              "                                                     [key], {});\n",
              "          if (!dataTable) return;\n",
              "\n",
              "          const docLinkHtml = 'Like what you see? Visit the ' +\n",
              "            '<a target=\"_blank\" href=https://colab.research.google.com/notebooks/data_table.ipynb>data table notebook</a>'\n",
              "            + ' to learn more about interactive tables.';\n",
              "          element.innerHTML = '';\n",
              "          dataTable['output_type'] = 'display_data';\n",
              "          await google.colab.output.renderOutput(dataTable, element);\n",
              "          const docLink = document.createElement('div');\n",
              "          docLink.innerHTML = docLinkHtml;\n",
              "          element.appendChild(docLink);\n",
              "        }\n",
              "      </script>\n",
              "    </div>\n",
              "  </div>\n",
              "  "
            ]
          },
          "metadata": {},
          "execution_count": 5
        }
      ],
      "source": [
        "df_test.head(3)"
      ]
    },
    {
      "cell_type": "code",
      "execution_count": 6,
      "metadata": {
        "colab": {
          "base_uri": "https://localhost:8080/",
          "height": 143
        },
        "id": "kE-zZcJ7CRk3",
        "outputId": "9e1836cb-6425-415b-de2e-f95d264fe92f"
      },
      "outputs": [
        {
          "output_type": "execute_result",
          "data": {
            "text/plain": [
              "                  count      mean       std  min  25%  50%  75%  max\n",
              "treatment_flg                                                       \n",
              "0              100058.0  0.603280  0.489219  0.0  0.0  1.0  1.0  1.0\n",
              "1               99981.0  0.636511  0.481006  0.0  0.0  1.0  1.0  1.0"
            ],
            "text/html": [
              "\n",
              "  <div id=\"df-1dfd4cc8-9edd-47c1-a9ea-92102b4ac75d\">\n",
              "    <div class=\"colab-df-container\">\n",
              "      <div>\n",
              "<style scoped>\n",
              "    .dataframe tbody tr th:only-of-type {\n",
              "        vertical-align: middle;\n",
              "    }\n",
              "\n",
              "    .dataframe tbody tr th {\n",
              "        vertical-align: top;\n",
              "    }\n",
              "\n",
              "    .dataframe thead th {\n",
              "        text-align: right;\n",
              "    }\n",
              "</style>\n",
              "<table border=\"1\" class=\"dataframe\">\n",
              "  <thead>\n",
              "    <tr style=\"text-align: right;\">\n",
              "      <th></th>\n",
              "      <th>count</th>\n",
              "      <th>mean</th>\n",
              "      <th>std</th>\n",
              "      <th>min</th>\n",
              "      <th>25%</th>\n",
              "      <th>50%</th>\n",
              "      <th>75%</th>\n",
              "      <th>max</th>\n",
              "    </tr>\n",
              "    <tr>\n",
              "      <th>treatment_flg</th>\n",
              "      <th></th>\n",
              "      <th></th>\n",
              "      <th></th>\n",
              "      <th></th>\n",
              "      <th></th>\n",
              "      <th></th>\n",
              "      <th></th>\n",
              "      <th></th>\n",
              "    </tr>\n",
              "  </thead>\n",
              "  <tbody>\n",
              "    <tr>\n",
              "      <th>0</th>\n",
              "      <td>100058.0</td>\n",
              "      <td>0.603280</td>\n",
              "      <td>0.489219</td>\n",
              "      <td>0.0</td>\n",
              "      <td>0.0</td>\n",
              "      <td>1.0</td>\n",
              "      <td>1.0</td>\n",
              "      <td>1.0</td>\n",
              "    </tr>\n",
              "    <tr>\n",
              "      <th>1</th>\n",
              "      <td>99981.0</td>\n",
              "      <td>0.636511</td>\n",
              "      <td>0.481006</td>\n",
              "      <td>0.0</td>\n",
              "      <td>0.0</td>\n",
              "      <td>1.0</td>\n",
              "      <td>1.0</td>\n",
              "      <td>1.0</td>\n",
              "    </tr>\n",
              "  </tbody>\n",
              "</table>\n",
              "</div>\n",
              "      <button class=\"colab-df-convert\" onclick=\"convertToInteractive('df-1dfd4cc8-9edd-47c1-a9ea-92102b4ac75d')\"\n",
              "              title=\"Convert this dataframe to an interactive table.\"\n",
              "              style=\"display:none;\">\n",
              "        \n",
              "  <svg xmlns=\"http://www.w3.org/2000/svg\" height=\"24px\"viewBox=\"0 0 24 24\"\n",
              "       width=\"24px\">\n",
              "    <path d=\"M0 0h24v24H0V0z\" fill=\"none\"/>\n",
              "    <path d=\"M18.56 5.44l.94 2.06.94-2.06 2.06-.94-2.06-.94-.94-2.06-.94 2.06-2.06.94zm-11 1L8.5 8.5l.94-2.06 2.06-.94-2.06-.94L8.5 2.5l-.94 2.06-2.06.94zm10 10l.94 2.06.94-2.06 2.06-.94-2.06-.94-.94-2.06-.94 2.06-2.06.94z\"/><path d=\"M17.41 7.96l-1.37-1.37c-.4-.4-.92-.59-1.43-.59-.52 0-1.04.2-1.43.59L10.3 9.45l-7.72 7.72c-.78.78-.78 2.05 0 2.83L4 21.41c.39.39.9.59 1.41.59.51 0 1.02-.2 1.41-.59l7.78-7.78 2.81-2.81c.8-.78.8-2.07 0-2.86zM5.41 20L4 18.59l7.72-7.72 1.47 1.35L5.41 20z\"/>\n",
              "  </svg>\n",
              "      </button>\n",
              "      \n",
              "  <style>\n",
              "    .colab-df-container {\n",
              "      display:flex;\n",
              "      flex-wrap:wrap;\n",
              "      gap: 12px;\n",
              "    }\n",
              "\n",
              "    .colab-df-convert {\n",
              "      background-color: #E8F0FE;\n",
              "      border: none;\n",
              "      border-radius: 50%;\n",
              "      cursor: pointer;\n",
              "      display: none;\n",
              "      fill: #1967D2;\n",
              "      height: 32px;\n",
              "      padding: 0 0 0 0;\n",
              "      width: 32px;\n",
              "    }\n",
              "\n",
              "    .colab-df-convert:hover {\n",
              "      background-color: #E2EBFA;\n",
              "      box-shadow: 0px 1px 2px rgba(60, 64, 67, 0.3), 0px 1px 3px 1px rgba(60, 64, 67, 0.15);\n",
              "      fill: #174EA6;\n",
              "    }\n",
              "\n",
              "    [theme=dark] .colab-df-convert {\n",
              "      background-color: #3B4455;\n",
              "      fill: #D2E3FC;\n",
              "    }\n",
              "\n",
              "    [theme=dark] .colab-df-convert:hover {\n",
              "      background-color: #434B5C;\n",
              "      box-shadow: 0px 1px 3px 1px rgba(0, 0, 0, 0.15);\n",
              "      filter: drop-shadow(0px 1px 2px rgba(0, 0, 0, 0.3));\n",
              "      fill: #FFFFFF;\n",
              "    }\n",
              "  </style>\n",
              "\n",
              "      <script>\n",
              "        const buttonEl =\n",
              "          document.querySelector('#df-1dfd4cc8-9edd-47c1-a9ea-92102b4ac75d button.colab-df-convert');\n",
              "        buttonEl.style.display =\n",
              "          google.colab.kernel.accessAllowed ? 'block' : 'none';\n",
              "\n",
              "        async function convertToInteractive(key) {\n",
              "          const element = document.querySelector('#df-1dfd4cc8-9edd-47c1-a9ea-92102b4ac75d');\n",
              "          const dataTable =\n",
              "            await google.colab.kernel.invokeFunction('convertToInteractive',\n",
              "                                                     [key], {});\n",
              "          if (!dataTable) return;\n",
              "\n",
              "          const docLinkHtml = 'Like what you see? Visit the ' +\n",
              "            '<a target=\"_blank\" href=https://colab.research.google.com/notebooks/data_table.ipynb>data table notebook</a>'\n",
              "            + ' to learn more about interactive tables.';\n",
              "          element.innerHTML = '';\n",
              "          dataTable['output_type'] = 'display_data';\n",
              "          await google.colab.output.renderOutput(dataTable, element);\n",
              "          const docLink = document.createElement('div');\n",
              "          docLink.innerHTML = docLinkHtml;\n",
              "          element.appendChild(docLink);\n",
              "        }\n",
              "      </script>\n",
              "    </div>\n",
              "  </div>\n",
              "  "
            ]
          },
          "metadata": {},
          "execution_count": 6
        }
      ],
      "source": [
        "df_train.groupby(\"treatment_flg\")['target'].describe()"
      ]
    },
    {
      "cell_type": "markdown",
      "metadata": {
        "id": "cnjN_sNrCRk4"
      },
      "source": [
        "Заведем переменные"
      ]
    },
    {
      "cell_type": "code",
      "execution_count": 7,
      "metadata": {
        "id": "6bslnmFfCRk4"
      },
      "outputs": [],
      "source": [
        "X_train = df_features.loc[indices_learn, :]\n",
        "y_train = df_train.loc[indices_learn, 'target']\n",
        "treat_train = df_train.loc[indices_learn, 'treatment_flg']\n",
        "\n",
        "X_val = df_features.loc[indices_valid, :]\n",
        "y_val = df_train.loc[indices_valid, 'target']\n",
        "treat_val =  df_train.loc[indices_valid, 'treatment_flg']\n",
        "\n",
        "X_train_full = df_features.loc[indices_train, :]\n",
        "y_train_full = df_train.loc[:, 'target']\n",
        "treat_train_full = df_train.loc[:, 'treatment_flg']\n",
        "\n",
        "X_test = df_features.loc[indices_test, :]\n",
        "\n",
        "cat_features = ['gender']\n",
        "\n",
        "models_results = {\n",
        "    'approach': [],\n",
        "    'uplift@30%': []\n",
        "}"
      ]
    },
    {
      "cell_type": "markdown",
      "metadata": {
        "id": "U4SVwsBkCRk4"
      },
      "source": [
        "### 1. Подходы с одной моделью\n",
        "#### 1.1 Одна модель с признаком коммуникации\n",
        "Самое простое и интуитивное решение: модель обучается одновременно на двух группах, при этом бинарный флаг коммуникации выступает в качестве дополнительного признака. Каждый объект из тестовой выборки скорим дважды: с флагом коммуникации равным 1 и равным 0. Вычитая вероятности по каждому наблюдению, получим искомы uplift."
      ]
    },
    {
      "cell_type": "markdown",
      "metadata": {
        "id": "mfPDIqRJCRk4"
      },
      "source": [
        "![ab_split](uplift4.png \"uplift4\")"
      ]
    },
    {
      "cell_type": "code",
      "execution_count": 12,
      "metadata": {
        "colab": {
          "base_uri": "https://localhost:8080/",
          "height": 571
        },
        "id": "YaZc4XtdCRk4",
        "outputId": "48e669c8-f484-4a09-8ebd-e0f2fe7ca419"
      },
      "outputs": [
        {
          "output_type": "display_data",
          "data": {
            "text/plain": [
              "<Figure size 2000x700 with 3 Axes>"
            ],
            "image/png": "[encoded data removed]"
          },
          "metadata": {}
        }
      ],
      "source": [
        "# Инструкция по установке пакета: https://github.com/maks-sh/scikit-uplift\n",
        "# Ссылка на документацию: https://scikit-uplift.readthedocs.io/en/latest/\n",
        "from sklift.metrics import uplift_at_k\n",
        "from sklift.viz import plot_uplift_preds\n",
        "from sklift.models import SoloModel\n",
        "\n",
        "# sklift поддерживает любые модели, \n",
        "# которые удовлетворяют соглашениями scikit-learn\n",
        "# Для примера воспользуемся catboost\n",
        "from catboost import CatBoostClassifier\n",
        "\n",
        "\n",
        "sm = SoloModel(CatBoostClassifier(iterations=20, thread_count=2, random_state=42, silent=True))\n",
        "sm = sm.fit(X_train, y_train, treat_train, estimator_fit_params={'cat_features': cat_features})\n",
        "\n",
        "uplift_sm = sm.predict(X_val)\n",
        "\n",
        "sm_score = uplift_at_k(y_true=y_val, uplift=uplift_sm, treatment=treat_val, strategy='by_group', k=0.3)\n",
        "\n",
        "models_results['approach'].append('SoloModel')\n",
        "models_results['uplift@30%'].append(sm_score)\n",
        "\n",
        "# Получим условные вероятности выполнения целевого действия при взаимодействии для каждого объекта\n",
        "sm_trmnt_preds = sm.trmnt_preds_\n",
        "# И условные вероятности выполнения целевого действия без взаимодействия для каждого объекта\n",
        "sm_ctrl_preds = sm.ctrl_preds_\n",
        "\n",
        "# Отрисуем распределения вероятностей и их разность (uplift)\n",
        "plot_uplift_preds(trmnt_preds=sm_trmnt_preds, ctrl_preds=sm_ctrl_preds);"
      ]
    },
    {
      "cell_type": "markdown",
      "metadata": {
        "id": "KcODgs9WCRk5"
      },
      "source": [
        "Посмотрим на топ-признаки"
      ]
    },
    {
      "cell_type": "code",
      "execution_count": 13,
      "metadata": {
        "colab": {
          "base_uri": "https://localhost:8080/",
          "height": 238
        },
        "id": "MrOS-j4UCRk5",
        "outputId": "877a82ea-a518-47a6-a1ad-4f499b9bc251"
      },
      "outputs": [
        {
          "output_type": "execute_result",
          "data": {
            "text/plain": [
              "         feature_name  feature_score\n",
              "0   first_redeem_time      41.162563\n",
              "1  issue_redeem_delay      38.676225\n",
              "2                 age       8.003793\n",
              "3    first_issue_time       6.274424\n",
              "4           treatment       3.431789\n",
              "5              gender       2.451207"
            ],
            "text/html": [
              "\n",
              "  <div id=\"df-09a0185d-dbc7-4e20-a660-13bfeb34b179\">\n",
              "    <div class=\"colab-df-container\">\n",
              "      <div>\n",
              "<style scoped>\n",
              "    .dataframe tbody tr th:only-of-type {\n",
              "        vertical-align: middle;\n",
              "    }\n",
              "\n",
              "    .dataframe tbody tr th {\n",
              "        vertical-align: top;\n",
              "    }\n",
              "\n",
              "    .dataframe thead th {\n",
              "        text-align: right;\n",
              "    }\n",
              "</style>\n",
              "<table border=\"1\" class=\"dataframe\">\n",
              "  <thead>\n",
              "    <tr style=\"text-align: right;\">\n",
              "      <th></th>\n",
              "      <th>feature_name</th>\n",
              "      <th>feature_score</th>\n",
              "    </tr>\n",
              "  </thead>\n",
              "  <tbody>\n",
              "    <tr>\n",
              "      <th>0</th>\n",
              "      <td>first_redeem_time</td>\n",
              "      <td>41.162563</td>\n",
              "    </tr>\n",
              "    <tr>\n",
              "      <th>1</th>\n",
              "      <td>issue_redeem_delay</td>\n",
              "      <td>38.676225</td>\n",
              "    </tr>\n",
              "    <tr>\n",
              "      <th>2</th>\n",
              "      <td>age</td>\n",
              "      <td>8.003793</td>\n",
              "    </tr>\n",
              "    <tr>\n",
              "      <th>3</th>\n",
              "      <td>first_issue_time</td>\n",
              "      <td>6.274424</td>\n",
              "    </tr>\n",
              "    <tr>\n",
              "      <th>4</th>\n",
              "      <td>treatment</td>\n",
              "      <td>3.431789</td>\n",
              "    </tr>\n",
              "    <tr>\n",
              "      <th>5</th>\n",
              "      <td>gender</td>\n",
              "      <td>2.451207</td>\n",
              "    </tr>\n",
              "  </tbody>\n",
              "</table>\n",
              "</div>\n",
              "      <button class=\"colab-df-convert\" onclick=\"convertToInteractive('df-09a0185d-dbc7-4e20-a660-13bfeb34b179')\"\n",
              "              title=\"Convert this dataframe to an interactive table.\"\n",
              "              style=\"display:none;\">\n",
              "        \n",
              "  <svg xmlns=\"http://www.w3.org/2000/svg\" height=\"24px\"viewBox=\"0 0 24 24\"\n",
              "       width=\"24px\">\n",
              "    <path d=\"M0 0h24v24H0V0z\" fill=\"none\"/>\n",
              "    <path d=\"M18.56 5.44l.94 2.06.94-2.06 2.06-.94-2.06-.94-.94-2.06-.94 2.06-2.06.94zm-11 1L8.5 8.5l.94-2.06 2.06-.94-2.06-.94L8.5 2.5l-.94 2.06-2.06.94zm10 10l.94 2.06.94-2.06 2.06-.94-2.06-.94-.94-2.06-.94 2.06-2.06.94z\"/><path d=\"M17.41 7.96l-1.37-1.37c-.4-.4-.92-.59-1.43-.59-.52 0-1.04.2-1.43.59L10.3 9.45l-7.72 7.72c-.78.78-.78 2.05 0 2.83L4 21.41c.39.39.9.59 1.41.59.51 0 1.02-.2 1.41-.59l7.78-7.78 2.81-2.81c.8-.78.8-2.07 0-2.86zM5.41 20L4 18.59l7.72-7.72 1.47 1.35L5.41 20z\"/>\n",
              "  </svg>\n",
              "      </button>\n",
              "      \n",
              "  <style>\n",
              "    .colab-df-container {\n",
              "      display:flex;\n",
              "      flex-wrap:wrap;\n",
              "      gap: 12px;\n",
              "    }\n",
              "\n",
              "    .colab-df-convert {\n",
              "      background-color: #E8F0FE;\n",
              "      border: none;\n",
              "      border-radius: 50%;\n",
              "      cursor: pointer;\n",
              "      display: none;\n",
              "      fill: #1967D2;\n",
              "      height: 32px;\n",
              "      padding: 0 0 0 0;\n",
              "      width: 32px;\n",
              "    }\n",
              "\n",
              "    .colab-df-convert:hover {\n",
              "      background-color: #E2EBFA;\n",
              "      box-shadow: 0px 1px 2px rgba(60, 64, 67, 0.3), 0px 1px 3px 1px rgba(60, 64, 67, 0.15);\n",
              "      fill: #174EA6;\n",
              "    }\n",
              "\n",
              "    [theme=dark] .colab-df-convert {\n",
              "      background-color: #3B4455;\n",
              "      fill: #D2E3FC;\n",
              "    }\n",
              "\n",
              "    [theme=dark] .colab-df-convert:hover {\n",
              "      background-color: #434B5C;\n",
              "      box-shadow: 0px 1px 3px 1px rgba(0, 0, 0, 0.15);\n",
              "      filter: drop-shadow(0px 1px 2px rgba(0, 0, 0, 0.3));\n",
              "      fill: #FFFFFF;\n",
              "    }\n",
              "  </style>\n",
              "\n",
              "      <script>\n",
              "        const buttonEl =\n",
              "          document.querySelector('#df-09a0185d-dbc7-4e20-a660-13bfeb34b179 button.colab-df-convert');\n",
              "        buttonEl.style.display =\n",
              "          google.colab.kernel.accessAllowed ? 'block' : 'none';\n",
              "\n",
              "        async function convertToInteractive(key) {\n",
              "          const element = document.querySelector('#df-09a0185d-dbc7-4e20-a660-13bfeb34b179');\n",
              "          const dataTable =\n",
              "            await google.colab.kernel.invokeFunction('convertToInteractive',\n",
              "                                                     [key], {});\n",
              "          if (!dataTable) return;\n",
              "\n",
              "          const docLinkHtml = 'Like what you see? Visit the ' +\n",
              "            '<a target=\"_blank\" href=https://colab.research.google.com/notebooks/data_table.ipynb>data table notebook</a>'\n",
              "            + ' to learn more about interactive tables.';\n",
              "          element.innerHTML = '';\n",
              "          dataTable['output_type'] = 'display_data';\n",
              "          await google.colab.output.renderOutput(dataTable, element);\n",
              "          const docLink = document.createElement('div');\n",
              "          docLink.innerHTML = docLinkHtml;\n",
              "          element.appendChild(docLink);\n",
              "        }\n",
              "      </script>\n",
              "    </div>\n",
              "  </div>\n",
              "  "
            ]
          },
          "metadata": {},
          "execution_count": 13
        }
      ],
      "source": [
        "# С той же легкостью можно обратиться к обученной модели.\n",
        "# Например, чтобы построить важность признаков:\n",
        "sm_fi = pd.DataFrame({\n",
        "    'feature_name': sm.estimator.feature_names_,\n",
        "    'feature_score': sm.estimator.feature_importances_\n",
        "}).sort_values('feature_score', ascending=False).reset_index(drop=True)\n",
        "\n",
        "sm_fi"
      ]
    },
    {
      "cell_type": "markdown",
      "metadata": {
        "id": "IwPb1UHFCRk5"
      },
      "source": [
        "#### 1.2 Трансформация классов\n",
        "Достаточно интересный и математически подтвержденный подход к построению модели, представленный еще в 2012 году. Метод заключается в прогнозировании немного измененного таргета:"
      ]
    },
    {
      "cell_type": "markdown",
      "metadata": {
        "id": "tj3HAnYvCRk5"
      },
      "source": [
        "![ab_split](uplift5.png \"uplift5\")"
      ]
    },
    {
      "cell_type": "markdown",
      "metadata": {
        "id": "LJSCP7fmCRk5"
      },
      "source": [
        "![ab_split](uplift_client_types.png \"uplift_client_types\")"
      ]
    },
    {
      "cell_type": "code",
      "execution_count": 14,
      "metadata": {
        "id": "UtSUcwB_CRk5"
      },
      "outputs": [],
      "source": [
        "from sklift.models import ClassTransformation\n",
        "\n",
        "\n",
        "ct = ClassTransformation(CatBoostClassifier(iterations=20, thread_count=2, random_state=42, silent=True))\n",
        "ct = ct.fit(X_train, y_train, treat_train, estimator_fit_params={'cat_features': cat_features})\n",
        "\n",
        "uplift_ct = ct.predict(X_val)\n",
        "\n",
        "ct_score = uplift_at_k(y_true=y_val, uplift=uplift_ct, treatment=treat_val, strategy='by_group', k=0.3)\n",
        "\n",
        "models_results['approach'].append('ClassTransformation')\n",
        "models_results['uplift@30%'].append(ct_score)"
      ]
    },
    {
      "cell_type": "markdown",
      "metadata": {
        "id": "5hBS76VBCRk5"
      },
      "source": [
        "#### 2.1 Две независимые модели\n",
        "Как понятно из названия, подход заключается в моделировании условных вероятностей тестовой и контрольной групп отдельно. В статьях утверждается, что такой подход достаточно слабый, так как обе модели фокусируются на прогнозировании результата отдельно и поэтому могут пропустить \"более слабые\" различия в выборках."
      ]
    },
    {
      "cell_type": "markdown",
      "metadata": {
        "id": "B34ui42LCRk6"
      },
      "source": [
        "![ab_split](uplift6.png \"uplift6\")"
      ]
    },
    {
      "cell_type": "code",
      "execution_count": 15,
      "metadata": {
        "colab": {
          "base_uri": "https://localhost:8080/",
          "height": 571
        },
        "id": "xhpEBnwUCRk6",
        "outputId": "31d1083f-b5d9-4894-8f0d-2ce19108eab9"
      },
      "outputs": [
        {
          "output_type": "display_data",
          "data": {
            "text/plain": [
              "<Figure size 2000x700 with 3 Axes>"
            ],
            "image/png": "[encoded data removed]"
          },
          "metadata": {}
        }
      ],
      "source": [
        "from sklift.models import TwoModels\n",
        "\n",
        "\n",
        "tm = TwoModels(\n",
        "    estimator_trmnt=CatBoostClassifier(iterations=20, thread_count=2, random_state=42, silent=True), \n",
        "    estimator_ctrl=CatBoostClassifier(iterations=20, thread_count=2, random_state=42, silent=True), \n",
        "    method='vanilla'\n",
        ")\n",
        "tm = tm.fit(\n",
        "    X_train, y_train, treat_train,\n",
        "    estimator_trmnt_fit_params={'cat_features': cat_features}, \n",
        "    estimator_ctrl_fit_params={'cat_features': cat_features}\n",
        ")\n",
        "\n",
        "uplift_tm = tm.predict(X_val)\n",
        "\n",
        "tm_score = uplift_at_k(y_true=y_val, uplift=uplift_tm, treatment=treat_val, strategy='by_group', k=0.3)\n",
        "\n",
        "models_results['approach'].append('TwoModels')\n",
        "models_results['uplift@30%'].append(tm_score)\n",
        "\n",
        "plot_uplift_preds(trmnt_preds=tm.trmnt_preds_, ctrl_preds=tm.ctrl_preds_);"
      ]
    },
    {
      "cell_type": "markdown",
      "metadata": {
        "id": "pQFtARr2CRk6"
      },
      "source": [
        "Посмотрим на результаты"
      ]
    },
    {
      "cell_type": "code",
      "execution_count": 16,
      "metadata": {
        "colab": {
          "base_uri": "https://localhost:8080/",
          "height": 143
        },
        "id": "ta9p6Qp-CRk6",
        "outputId": "f7d01c9a-7ae8-4a9a-9f26-5fba06157a72"
      },
      "outputs": [
        {
          "output_type": "execute_result",
          "data": {
            "text/plain": [
              "              approach  uplift@30%\n",
              "0            SoloModel    0.057262\n",
              "1  ClassTransformation    0.053981\n",
              "2            TwoModels    0.049310"
            ],
            "text/html": [
              "\n",
              "  <div id=\"df-b8fe3a08-7aa3-413a-be56-b41a5913fc40\">\n",
              "    <div class=\"colab-df-container\">\n",
              "      <div>\n",
              "<style scoped>\n",
              "    .dataframe tbody tr th:only-of-type {\n",
              "        vertical-align: middle;\n",
              "    }\n",
              "\n",
              "    .dataframe tbody tr th {\n",
              "        vertical-align: top;\n",
              "    }\n",
              "\n",
              "    .dataframe thead th {\n",
              "        text-align: right;\n",
              "    }\n",
              "</style>\n",
              "<table border=\"1\" class=\"dataframe\">\n",
              "  <thead>\n",
              "    <tr style=\"text-align: right;\">\n",
              "      <th></th>\n",
              "      <th>approach</th>\n",
              "      <th>uplift@30%</th>\n",
              "    </tr>\n",
              "  </thead>\n",
              "  <tbody>\n",
              "    <tr>\n",
              "      <th>0</th>\n",
              "      <td>SoloModel</td>\n",
              "      <td>0.057262</td>\n",
              "    </tr>\n",
              "    <tr>\n",
              "      <th>1</th>\n",
              "      <td>ClassTransformation</td>\n",
              "      <td>0.053981</td>\n",
              "    </tr>\n",
              "    <tr>\n",
              "      <th>2</th>\n",
              "      <td>TwoModels</td>\n",
              "      <td>0.049310</td>\n",
              "    </tr>\n",
              "  </tbody>\n",
              "</table>\n",
              "</div>\n",
              "      <button class=\"colab-df-convert\" onclick=\"convertToInteractive('df-b8fe3a08-7aa3-413a-be56-b41a5913fc40')\"\n",
              "              title=\"Convert this dataframe to an interactive table.\"\n",
              "              style=\"display:none;\">\n",
              "        \n",
              "  <svg xmlns=\"http://www.w3.org/2000/svg\" height=\"24px\"viewBox=\"0 0 24 24\"\n",
              "       width=\"24px\">\n",
              "    <path d=\"M0 0h24v24H0V0z\" fill=\"none\"/>\n",
              "    <path d=\"M18.56 5.44l.94 2.06.94-2.06 2.06-.94-2.06-.94-.94-2.06-.94 2.06-2.06.94zm-11 1L8.5 8.5l.94-2.06 2.06-.94-2.06-.94L8.5 2.5l-.94 2.06-2.06.94zm10 10l.94 2.06.94-2.06 2.06-.94-2.06-.94-.94-2.06-.94 2.06-2.06.94z\"/><path d=\"M17.41 7.96l-1.37-1.37c-.4-.4-.92-.59-1.43-.59-.52 0-1.04.2-1.43.59L10.3 9.45l-7.72 7.72c-.78.78-.78 2.05 0 2.83L4 21.41c.39.39.9.59 1.41.59.51 0 1.02-.2 1.41-.59l7.78-7.78 2.81-2.81c.8-.78.8-2.07 0-2.86zM5.41 20L4 18.59l7.72-7.72 1.47 1.35L5.41 20z\"/>\n",
              "  </svg>\n",
              "      </button>\n",
              "      \n",
              "  <style>\n",
              "    .colab-df-container {\n",
              "      display:flex;\n",
              "      flex-wrap:wrap;\n",
              "      gap: 12px;\n",
              "    }\n",
              "\n",
              "    .colab-df-convert {\n",
              "      background-color: #E8F0FE;\n",
              "      border: none;\n",
              "      border-radius: 50%;\n",
              "      cursor: pointer;\n",
              "      display: none;\n",
              "      fill: #1967D2;\n",
              "      height: 32px;\n",
              "      padding: 0 0 0 0;\n",
              "      width: 32px;\n",
              "    }\n",
              "\n",
              "    .colab-df-convert:hover {\n",
              "      background-color: #E2EBFA;\n",
              "      box-shadow: 0px 1px 2px rgba(60, 64, 67, 0.3), 0px 1px 3px 1px rgba(60, 64, 67, 0.15);\n",
              "      fill: #174EA6;\n",
              "    }\n",
              "\n",
              "    [theme=dark] .colab-df-convert {\n",
              "      background-color: #3B4455;\n",
              "      fill: #D2E3FC;\n",
              "    }\n",
              "\n",
              "    [theme=dark] .colab-df-convert:hover {\n",
              "      background-color: #434B5C;\n",
              "      box-shadow: 0px 1px 3px 1px rgba(0, 0, 0, 0.15);\n",
              "      filter: drop-shadow(0px 1px 2px rgba(0, 0, 0, 0.3));\n",
              "      fill: #FFFFFF;\n",
              "    }\n",
              "  </style>\n",
              "\n",
              "      <script>\n",
              "        const buttonEl =\n",
              "          document.querySelector('#df-b8fe3a08-7aa3-413a-be56-b41a5913fc40 button.colab-df-convert');\n",
              "        buttonEl.style.display =\n",
              "          google.colab.kernel.accessAllowed ? 'block' : 'none';\n",
              "\n",
              "        async function convertToInteractive(key) {\n",
              "          const element = document.querySelector('#df-b8fe3a08-7aa3-413a-be56-b41a5913fc40');\n",
              "          const dataTable =\n",
              "            await google.colab.kernel.invokeFunction('convertToInteractive',\n",
              "                                                     [key], {});\n",
              "          if (!dataTable) return;\n",
              "\n",
              "          const docLinkHtml = 'Like what you see? Visit the ' +\n",
              "            '<a target=\"_blank\" href=https://colab.research.google.com/notebooks/data_table.ipynb>data table notebook</a>'\n",
              "            + ' to learn more about interactive tables.';\n",
              "          element.innerHTML = '';\n",
              "          dataTable['output_type'] = 'display_data';\n",
              "          await google.colab.output.renderOutput(dataTable, element);\n",
              "          const docLink = document.createElement('div');\n",
              "          docLink.innerHTML = docLinkHtml;\n",
              "          element.appendChild(docLink);\n",
              "        }\n",
              "      </script>\n",
              "    </div>\n",
              "  </div>\n",
              "  "
            ]
          },
          "metadata": {},
          "execution_count": 16
        }
      ],
      "source": [
        "pd.DataFrame(data=models_results).sort_values('uplift@30%', ascending=False)"
      ]
    },
    {
      "cell_type": "markdown",
      "metadata": {
        "id": "yeXtw325CRk6"
      },
      "source": [
        "#### Вариант с деревом решений"
      ]
    },
    {
      "cell_type": "code",
      "execution_count": null,
      "metadata": {
        "id": "-FxTn4chCRk6"
      },
      "outputs": [],
      "source": [
        "X_train_tree = pd.concat([X_train.drop('gender', 1), \n",
        "                          pd.get_dummies(X_train['gender'], prefix='gender')], 1)\n",
        "features = [col for col in X_train_tree]"
      ]
    },
    {
      "cell_type": "code",
      "execution_count": null,
      "metadata": {
        "id": "1sgs6qcrCRk7"
      },
      "outputs": [],
      "source": [
        "%%time\n",
        "from IPython.display import Image\n",
        "from causalml.inference.tree import UpliftTreeClassifier, UpliftRandomForestClassifier\n",
        "from causalml.inference.tree import uplift_tree_string, uplift_tree_plot\n",
        "\n",
        "uplift_model = UpliftTreeClassifier(max_depth=8, min_samples_leaf=200, min_samples_treatment=50,\n",
        "                                    n_reg=100, evaluationFunction='KL', control_name='control')\n",
        "\n",
        "uplift_model.fit(X_train_tree.values,\n",
        "                 treatment=treat_train.map({1: 'treatment1', 0: 'control'}).values,\n",
        "                 y=y_train)\n",
        "\n",
        "graph = uplift_tree_plot(uplift_model.fitted_uplift_tree, features)\n",
        "Image(graph.create_png())"
      ]
    },
    {
      "cell_type": "markdown",
      "metadata": {
        "id": "1CxnTfA_CRk7"
      },
      "source": [
        "### Домашнее задание"
      ]
    },
    {
      "cell_type": "markdown",
      "metadata": {
        "id": "Yafj37voCRk7"
      },
      "source": [
        "1. скачать набор данных маркетинговых кампаний отсюда https://www.kaggle.com/davinwijaya/customer-retention\n",
        "2. там поле conversion - это целевая переменная, а offer - коммуникация. Переименовать поля (conversion -> target, offer -> treatment) и привести поле treatment к бинарному виду (1 или 0, т.е было какое-то предложение или нет) - значение No Offer означает отсутствие коммуникации, а все остальные - наличие.\n",
        "3. сделать разбиение набора данных не тренировочную и тестовую выборки\n",
        "4. сделать feature engineering на ваше усмотрение (допускается свобода выбора методов)\n",
        "5. провести uplift-моделирование 3 способами: одна модель с признаком коммуникации (S learner), модель с трансформацией таргета (трансформация классов п. 2. 1) и вариант с двумя независимыми моделями\n",
        "6. в конце вывести единую таблицу сравнения метрик uplift@10%, uplift@20% этих 3 моделей\n",
        "7. построить модель UpliftTreeClassifier и попытаться описать словами полученное дерево\n",
        "8. (опционально) для модели S learner (модель с дополнительным признаком коммуникации) построить зависимость таргета (конверсии - поле conversion) от значения uplift: 1) сделать прогноз и получить uplift для тестовой выборки 2) отсортировать тестовую выборку по uplift по убыванию 3) разбить на децили (pandas qcut вам в помощь) 4) для каждого дециля посчитать среднюю conversion\n",
        "9. (опционально) построить модель UpliftRandomForestClassifier и попытаться описать словами полученное дерево"
      ]
    },
    {
      "cell_type": "code",
      "source": [
        "import numpy as np"
      ],
      "metadata": {
        "id": "PBlt32vtP5d1"
      },
      "execution_count": 35,
      "outputs": []
    },
    {
      "cell_type": "code",
      "execution_count": 18,
      "metadata": {
        "id": "QVTm1h1pCRk7"
      },
      "outputs": [],
      "source": [
        "DT = pd.read_csv('HW_data.csv')"
      ]
    },
    {
      "cell_type": "code",
      "source": [
        "DT.info()"
      ],
      "metadata": {
        "colab": {
          "base_uri": "https://localhost:8080/"
        },
        "id": "tV3NoGW9MA2t",
        "outputId": "790b6057-6382-4911-e31c-3bff95e4de60"
      },
      "execution_count": 19,
      "outputs": [
        {
          "output_type": "stream",
          "name": "stdout",
          "text": [
            "<class 'pandas.core.frame.DataFrame'>\n",
            "RangeIndex: 64000 entries, 0 to 63999\n",
            "Data columns (total 9 columns):\n",
            " #   Column         Non-Null Count  Dtype  \n",
            "---  ------         --------------  -----  \n",
            " 0   recency        64000 non-null  int64  \n",
            " 1   history        64000 non-null  float64\n",
            " 2   used_discount  64000 non-null  int64  \n",
            " 3   used_bogo      64000 non-null  int64  \n",
            " 4   zip_code       64000 non-null  object \n",
            " 5   is_referral    64000 non-null  int64  \n",
            " 6   channel        64000 non-null  object \n",
            " 7   offer          64000 non-null  object \n",
            " 8   conversion     64000 non-null  int64  \n",
            "dtypes: float64(1), int64(5), object(3)\n",
            "memory usage: 4.4+ MB\n"
          ]
        }
      ]
    },
    {
      "cell_type": "code",
      "source": [
        "DT.rename(columns={'offer':'treatment','conversion':'target'}, inplace=True)"
      ],
      "metadata": {
        "id": "Qhw4VGWGMIuD"
      },
      "execution_count": 24,
      "outputs": []
    },
    {
      "cell_type": "code",
      "source": [
        "DT['treatment'] = np.where(DT['treatment'] == 'No Offer', 0, 1)"
      ],
      "metadata": {
        "id": "_HxBknf0M1KW"
      },
      "execution_count": 36,
      "outputs": []
    },
    {
      "cell_type": "code",
      "source": [
        "X_train, y_train, X_test, y_test = train_test_split(DT.drop('target', axis=1), DT['target'], random_state=42, test_size=0.3)"
      ],
      "metadata": {
        "id": "3RmuKOOfP_au"
      },
      "execution_count": 42,
      "outputs": []
    },
    {
      "cell_type": "code",
      "source": [
        "from matplotlib import pyplot as plt\n",
        "\n",
        "commutes = pd.Series(np.random.gamma(1000, size=10) ** 1.5)\n",
        "\n",
        "DT['used_discount'].plot.hist(grid=True, bins=20, rwidth=0.9,\n",
        "                   color='#607c8e')\n",
        "plt.title('history')\n",
        "plt.xlabel('Counts')\n",
        "plt.grid(axis='y', alpha=0.75)"
      ],
      "metadata": {
        "colab": {
          "base_uri": "https://localhost:8080/",
          "height": 472
        },
        "id": "54t-8WAxRjqV",
        "outputId": "86361ab6-d579-409f-d631-25160c4caa23"
      },
      "execution_count": 48,
      "outputs": [
        {
          "output_type": "display_data",
          "data": {
            "text/plain": [
              "<Figure size 640x480 with 1 Axes>"
            ],
            "image/png": "[encoded data removed]"
          },
          "metadata": {}
        }
      ]
    },
    {
      "cell_type": "markdown",
      "metadata": {
        "id": "Kcz-L4xPCRk7"
      },
      "source": [
        "### Ссылки\n",
        "\n",
        "1. https://towardsdatascience.com/a-quick-uplift-modeling-introduction-6e14de32bfe0\n",
        "2. https://habr.com/ru/company/ru_mts/blog/485980/#reference1\n",
        "3. https://en.wikipedia.org/wiki/Uplift_modelling\n",
        "4. https://www.youtube.com/watch?v=yFQAIJBYXI0\n",
        "5. https://www.youtube.com/watch?v=jCUcYiBK03I\n",
        "6. https://www.uplift-modeling.com/en/latest/\n",
        "7. https://arxiv.org/pdf/1809.04559.pdf\n",
        "8. https://catboost.ai/docs/concepts/about.html"
      ]
    },
    {
      "cell_type": "markdown",
      "metadata": {
        "id": "bmZOua_ACRk7"
      },
      "source": [
        "### Библиотеки и пакеты\n",
        "\n",
        "1. causalml\n",
        "2. sklift\n",
        "3. catboost\n",
        "4. causalml"
      ]
    },
    {
      "cell_type": "code",
      "execution_count": 9,
      "metadata": {
        "colab": {
          "base_uri": "https://localhost:8080/"
        },
        "id": "Z-s9b9QICRk8",
        "outputId": "12b55b75-dfbb-489f-af1e-e3f8a99fff80"
      },
      "outputs": [
        {
          "output_type": "stream",
          "name": "stdout",
          "text": [
            "Looking in indexes: https://pypi.org/simple, https://us-python.pkg.dev/colab-wheels/public/simple/\n",
            "Collecting scikit-uplift\n",
            "  Downloading scikit_uplift-0.5.1-py3-none-any.whl (42 kB)\n",
            "\u001b[2K     \u001b[90m━━━━━━━━━━━━━━━━━━━━━━━━━━━━━━━━━━━━━━━━\u001b[0m \u001b[32m42.1/42.1 KB\u001b[0m \u001b[31m2.4 MB/s\u001b[0m eta \u001b[36m0:00:00\u001b[0m\n",
            "\u001b[?25hRequirement already satisfied: requests in /usr/local/lib/python3.9/dist-packages (from scikit-uplift) (2.27.1)\n",
            "Requirement already satisfied: pandas in /usr/local/lib/python3.9/dist-packages (from scikit-uplift) (1.4.4)\n",
            "Requirement already satisfied: matplotlib in /usr/local/lib/python3.9/dist-packages (from scikit-uplift) (3.7.1)\n",
            "Requirement already satisfied: scikit-learn>=0.21.0 in /usr/local/lib/python3.9/dist-packages (from scikit-uplift) (1.2.2)\n",
            "Requirement already satisfied: numpy>=1.16 in /usr/local/lib/python3.9/dist-packages (from scikit-uplift) (1.22.4)\n",
            "Requirement already satisfied: tqdm in /usr/local/lib/python3.9/dist-packages (from scikit-uplift) (4.65.0)\n",
            "Requirement already satisfied: threadpoolctl>=2.0.0 in /usr/local/lib/python3.9/dist-packages (from scikit-learn>=0.21.0->scikit-uplift) (3.1.0)\n",
            "Requirement already satisfied: scipy>=1.3.2 in /usr/local/lib/python3.9/dist-packages (from scikit-learn>=0.21.0->scikit-uplift) (1.10.1)\n",
            "Requirement already satisfied: joblib>=1.1.1 in /usr/local/lib/python3.9/dist-packages (from scikit-learn>=0.21.0->scikit-uplift) (1.1.1)\n",
            "Requirement already satisfied: importlib-resources>=3.2.0 in /usr/local/lib/python3.9/dist-packages (from matplotlib->scikit-uplift) (5.12.0)\n",
            "Requirement already satisfied: kiwisolver>=1.0.1 in /usr/local/lib/python3.9/dist-packages (from matplotlib->scikit-uplift) (1.4.4)\n",
            "Requirement already satisfied: cycler>=0.10 in /usr/local/lib/python3.9/dist-packages (from matplotlib->scikit-uplift) (0.11.0)\n",
            "Requirement already satisfied: packaging>=20.0 in /usr/local/lib/python3.9/dist-packages (from matplotlib->scikit-uplift) (23.0)\n",
            "Requirement already satisfied: fonttools>=4.22.0 in /usr/local/lib/python3.9/dist-packages (from matplotlib->scikit-uplift) (4.39.3)\n",
            "Requirement already satisfied: python-dateutil>=2.7 in /usr/local/lib/python3.9/dist-packages (from matplotlib->scikit-uplift) (2.8.2)\n",
            "Requirement already satisfied: contourpy>=1.0.1 in /usr/local/lib/python3.9/dist-packages (from matplotlib->scikit-uplift) (1.0.7)\n",
            "Requirement already satisfied: pillow>=6.2.0 in /usr/local/lib/python3.9/dist-packages (from matplotlib->scikit-uplift) (8.4.0)\n",
            "Requirement already satisfied: pyparsing>=2.3.1 in /usr/local/lib/python3.9/dist-packages (from matplotlib->scikit-uplift) (3.0.9)\n",
            "Requirement already satisfied: pytz>=2020.1 in /usr/local/lib/python3.9/dist-packages (from pandas->scikit-uplift) (2022.7.1)\n",
            "Requirement already satisfied: idna<4,>=2.5 in /usr/local/lib/python3.9/dist-packages (from requests->scikit-uplift) (3.4)\n",
            "Requirement already satisfied: certifi>=2017.4.17 in /usr/local/lib/python3.9/dist-packages (from requests->scikit-uplift) (2022.12.7)\n",
            "Requirement already satisfied: urllib3<1.27,>=1.21.1 in /usr/local/lib/python3.9/dist-packages (from requests->scikit-uplift) (1.26.15)\n",
            "Requirement already satisfied: charset-normalizer~=2.0.0 in /usr/local/lib/python3.9/dist-packages (from requests->scikit-uplift) (2.0.12)\n",
            "Requirement already satisfied: zipp>=3.1.0 in /usr/local/lib/python3.9/dist-packages (from importlib-resources>=3.2.0->matplotlib->scikit-uplift) (3.15.0)\n",
            "Requirement already satisfied: six>=1.5 in /usr/local/lib/python3.9/dist-packages (from python-dateutil>=2.7->matplotlib->scikit-uplift) (1.16.0)\n",
            "Installing collected packages: scikit-uplift\n",
            "Successfully installed scikit-uplift-0.5.1\n"
          ]
        }
      ],
      "source": [
        "!pip install scikit-uplift"
      ]
    },
    {
      "cell_type": "code",
      "execution_count": 11,
      "metadata": {
        "colab": {
          "base_uri": "https://localhost:8080/"
        },
        "id": "vk1FfZudCRk8",
        "outputId": "c7798d0c-9189-4874-92a6-aa13255c0a86"
      },
      "outputs": [
        {
          "output_type": "stream",
          "name": "stdout",
          "text": [
            "Looking in indexes: https://pypi.org/simple, https://us-python.pkg.dev/colab-wheels/public/simple/\n",
            "Collecting catboost\n",
            "  Downloading catboost-1.1.1-cp39-none-manylinux1_x86_64.whl (76.6 MB)\n",
            "\u001b[2K     \u001b[90m━━━━━━━━━━━━━━━━━━━━━━━━━━━━━━━━━━━━━━━━\u001b[0m \u001b[32m76.6/76.6 MB\u001b[0m \u001b[31m7.5 MB/s\u001b[0m eta \u001b[36m0:00:00\u001b[0m\n",
            "\u001b[?25hRequirement already satisfied: six in /usr/local/lib/python3.9/dist-packages (from catboost) (1.16.0)\n",
            "Requirement already satisfied: pandas>=0.24.0 in /usr/local/lib/python3.9/dist-packages (from catboost) (1.4.4)\n",
            "Requirement already satisfied: numpy>=1.16.0 in /usr/local/lib/python3.9/dist-packages (from catboost) (1.22.4)\n",
            "Requirement already satisfied: matplotlib in /usr/local/lib/python3.9/dist-packages (from catboost) (3.7.1)\n",
            "Requirement already satisfied: scipy in /usr/local/lib/python3.9/dist-packages (from catboost) (1.10.1)\n",
            "Requirement already satisfied: graphviz in /usr/local/lib/python3.9/dist-packages (from catboost) (0.20.1)\n",
            "Requirement already satisfied: plotly in /usr/local/lib/python3.9/dist-packages (from catboost) (5.13.1)\n",
            "Requirement already satisfied: python-dateutil>=2.8.1 in /usr/local/lib/python3.9/dist-packages (from pandas>=0.24.0->catboost) (2.8.2)\n",
            "Requirement already satisfied: pytz>=2020.1 in /usr/local/lib/python3.9/dist-packages (from pandas>=0.24.0->catboost) (2022.7.1)\n",
            "Requirement already satisfied: packaging>=20.0 in /usr/local/lib/python3.9/dist-packages (from matplotlib->catboost) (23.0)\n",
            "Requirement already satisfied: pillow>=6.2.0 in /usr/local/lib/python3.9/dist-packages (from matplotlib->catboost) (8.4.0)\n",
            "Requirement already satisfied: importlib-resources>=3.2.0 in /usr/local/lib/python3.9/dist-packages (from matplotlib->catboost) (5.12.0)\n",
            "Requirement already satisfied: contourpy>=1.0.1 in /usr/local/lib/python3.9/dist-packages (from matplotlib->catboost) (1.0.7)\n",
            "Requirement already satisfied: cycler>=0.10 in /usr/local/lib/python3.9/dist-packages (from matplotlib->catboost) (0.11.0)\n",
            "Requirement already satisfied: kiwisolver>=1.0.1 in /usr/local/lib/python3.9/dist-packages (from matplotlib->catboost) (1.4.4)\n",
            "Requirement already satisfied: pyparsing>=2.3.1 in /usr/local/lib/python3.9/dist-packages (from matplotlib->catboost) (3.0.9)\n",
            "Requirement already satisfied: fonttools>=4.22.0 in /usr/local/lib/python3.9/dist-packages (from matplotlib->catboost) (4.39.3)\n",
            "Requirement already satisfied: tenacity>=6.2.0 in /usr/local/lib/python3.9/dist-packages (from plotly->catboost) (8.2.2)\n",
            "Requirement already satisfied: zipp>=3.1.0 in /usr/local/lib/python3.9/dist-packages (from importlib-resources>=3.2.0->matplotlib->catboost) (3.15.0)\n",
            "Installing collected packages: catboost\n",
            "Successfully installed catboost-1.1.1\n"
          ]
        }
      ],
      "source": [
        "!pip install catboost"
      ]
    },
    {
      "cell_type": "code",
      "execution_count": 7,
      "metadata": {
        "colab": {
          "base_uri": "https://localhost:8080/"
        },
        "id": "0a6NgRuGCRk8",
        "outputId": "1d9ad79b-ce91-4103-e0c8-32918e9e311d"
      },
      "outputs": [
        {
          "output_type": "stream",
          "name": "stdout",
          "text": [
            "fatal: destination path 'causalml' already exists and is not an empty directory.\n",
            "Looking in indexes: https://pypi.org/simple, https://us-python.pkg.dev/colab-wheels/public/simple/\n",
            "Requirement already satisfied: setuptools>=41.0.0 in /usr/local/lib/python3.9/dist-packages (from -r causalml/requirements.txt (line 1)) (67.6.1)\n",
            "Collecting forestci==0.6\n",
            "  Downloading forestci-0.6-py3-none-any.whl (12 kB)\n",
            "Collecting pathos==0.2.9\n",
            "  Downloading pathos-0.2.9-py3-none-any.whl (76 kB)\n",
            "\u001b[2K     \u001b[90m━━━━━━━━━━━━━━━━━━━━━━━━━━━━━━━━━━━━━━━━\u001b[0m \u001b[32m76.9/76.9 KB\u001b[0m \u001b[31m6.4 MB/s\u001b[0m eta \u001b[36m0:00:00\u001b[0m\n",
            "\u001b[?25hRequirement already satisfied: pip>=10.0 in /usr/local/lib/python3.9/dist-packages (from -r causalml/requirements.txt (line 4)) (22.0.4)\n",
            "Requirement already satisfied: numpy>=1.18.5 in /usr/local/lib/python3.9/dist-packages (from -r causalml/requirements.txt (line 5)) (1.22.4)\n",
            "Requirement already satisfied: scipy>=1.4.1 in /usr/local/lib/python3.9/dist-packages (from -r causalml/requirements.txt (line 6)) (1.10.1)\n",
            "Requirement already satisfied: matplotlib in /usr/local/lib/python3.9/dist-packages (from -r causalml/requirements.txt (line 7)) (3.7.1)\n",
            "Requirement already satisfied: pandas>=0.24.1 in /usr/local/lib/python3.9/dist-packages (from -r causalml/requirements.txt (line 8)) (1.4.4)\n",
            "Collecting scikit-learn<=1.0.2\n",
            "  Downloading scikit_learn-1.0.2-cp39-cp39-manylinux_2_17_x86_64.manylinux2014_x86_64.whl (26.4 MB)\n",
            "\u001b[2K     \u001b[90m━━━━━━━━━━━━━━━━━━━━━━━━━━━━━━━━━━━━━━━━\u001b[0m \u001b[32m26.4/26.4 MB\u001b[0m \u001b[31m52.6 MB/s\u001b[0m eta \u001b[36m0:00:00\u001b[0m\n",
            "\u001b[?25hRequirement already satisfied: statsmodels>=0.9.0 in /usr/local/lib/python3.9/dist-packages (from -r causalml/requirements.txt (line 10)) (0.13.5)\n",
            "Requirement already satisfied: seaborn in /usr/local/lib/python3.9/dist-packages (from -r causalml/requirements.txt (line 11)) (0.12.2)\n",
            "Requirement already satisfied: Cython>=0.28.0 in /usr/local/lib/python3.9/dist-packages (from -r causalml/requirements.txt (line 12)) (0.29.33)\n",
            "Requirement already satisfied: xgboost in /usr/local/lib/python3.9/dist-packages (from -r causalml/requirements.txt (line 13)) (1.7.4)\n",
            "Requirement already satisfied: pydotplus in /usr/local/lib/python3.9/dist-packages (from -r causalml/requirements.txt (line 14)) (2.0.2)\n",
            "Requirement already satisfied: tqdm in /usr/local/lib/python3.9/dist-packages (from -r causalml/requirements.txt (line 15)) (4.65.0)\n",
            "Collecting shap\n",
            "  Downloading shap-0.41.0-cp39-cp39-manylinux_2_12_x86_64.manylinux2010_x86_64.whl (572 kB)\n",
            "\u001b[2K     \u001b[90m━━━━━━━━━━━━━━━━━━━━━━━━━━━━━━━━━━━━━━\u001b[0m \u001b[32m572.4/572.4 KB\u001b[0m \u001b[31m52.1 MB/s\u001b[0m eta \u001b[36m0:00:00\u001b[0m\n",
            "\u001b[?25hCollecting dill\n",
            "  Downloading dill-0.3.6-py3-none-any.whl (110 kB)\n",
            "\u001b[2K     \u001b[90m━━━━━━━━━━━━━━━━━━━━━━━━━━━━━━━━━━━━━━\u001b[0m \u001b[32m110.5/110.5 KB\u001b[0m \u001b[31m13.9 MB/s\u001b[0m eta \u001b[36m0:00:00\u001b[0m\n",
            "\u001b[?25hRequirement already satisfied: lightgbm in /usr/local/lib/python3.9/dist-packages (from -r causalml/requirements.txt (line 18)) (3.3.5)\n",
            "Collecting pygam\n",
            "  Downloading pygam-0.9.0-py3-none-any.whl (522 kB)\n",
            "\u001b[2K     \u001b[90m━━━━━━━━━━━━━━━━━━━━━━━━━━━━━━━━━━━━━━\u001b[0m \u001b[32m522.2/522.2 KB\u001b[0m \u001b[31m40.8 MB/s\u001b[0m eta \u001b[36m0:00:00\u001b[0m\n",
            "\u001b[?25hRequirement already satisfied: packaging in /usr/local/lib/python3.9/dist-packages (from -r causalml/requirements.txt (line 20)) (23.0)\n",
            "Requirement already satisfied: torch in /usr/local/lib/python3.9/dist-packages (from -r causalml/requirements.txt (line 21)) (2.0.0+cu118)\n",
            "Collecting pyro-ppl\n",
            "  Downloading pyro_ppl-1.8.4-py3-none-any.whl (730 kB)\n",
            "\u001b[2K     \u001b[90m━━━━━━━━━━━━━━━━━━━━━━━━━━━━━━━━━━━━━━\u001b[0m \u001b[32m730.7/730.7 KB\u001b[0m \u001b[31m42.3 MB/s\u001b[0m eta \u001b[36m0:00:00\u001b[0m\n",
            "\u001b[?25hRequirement already satisfied: graphviz in /usr/local/lib/python3.9/dist-packages (from -r causalml/requirements.txt (line 23)) (0.20.1)\n",
            "Collecting ppft>=1.7.6.5\n",
            "  Downloading ppft-1.7.6.6-py3-none-any.whl (52 kB)\n",
            "\u001b[2K     \u001b[90m━━━━━━━━━━━━━━━━━━━━━━━━━━━━━━━━━━━━━━━━\u001b[0m \u001b[32m52.8/52.8 KB\u001b[0m \u001b[31m4.7 MB/s\u001b[0m eta \u001b[36m0:00:00\u001b[0m\n",
            "\u001b[?25hCollecting pox>=0.3.1\n",
            "  Downloading pox-0.3.2-py3-none-any.whl (29 kB)\n",
            "Collecting multiprocess>=0.70.13\n",
            "  Downloading multiprocess-0.70.14-py39-none-any.whl (132 kB)\n",
            "\u001b[2K     \u001b[90m━━━━━━━━━━━━━━━━━━━━━━━━━━━━━━━━━━━━━━\u001b[0m \u001b[32m132.9/132.9 KB\u001b[0m \u001b[31m12.1 MB/s\u001b[0m eta \u001b[36m0:00:00\u001b[0m\n",
            "\u001b[?25hRequirement already satisfied: pillow>=6.2.0 in /usr/local/lib/python3.9/dist-packages (from matplotlib->-r causalml/requirements.txt (line 7)) (8.4.0)\n",
            "Requirement already satisfied: contourpy>=1.0.1 in /usr/local/lib/python3.9/dist-packages (from matplotlib->-r causalml/requirements.txt (line 7)) (1.0.7)\n",
            "Requirement already satisfied: pyparsing>=2.3.1 in /usr/local/lib/python3.9/dist-packages (from matplotlib->-r causalml/requirements.txt (line 7)) (3.0.9)\n",
            "Requirement already satisfied: importlib-resources>=3.2.0 in /usr/local/lib/python3.9/dist-packages (from matplotlib->-r causalml/requirements.txt (line 7)) (5.12.0)\n",
            "Requirement already satisfied: cycler>=0.10 in /usr/local/lib/python3.9/dist-packages (from matplotlib->-r causalml/requirements.txt (line 7)) (0.11.0)\n",
            "Requirement already satisfied: fonttools>=4.22.0 in /usr/local/lib/python3.9/dist-packages (from matplotlib->-r causalml/requirements.txt (line 7)) (4.39.3)\n",
            "Requirement already satisfied: python-dateutil>=2.7 in /usr/local/lib/python3.9/dist-packages (from matplotlib->-r causalml/requirements.txt (line 7)) (2.8.2)\n",
            "Requirement already satisfied: kiwisolver>=1.0.1 in /usr/local/lib/python3.9/dist-packages (from matplotlib->-r causalml/requirements.txt (line 7)) (1.4.4)\n",
            "Requirement already satisfied: pytz>=2020.1 in /usr/local/lib/python3.9/dist-packages (from pandas>=0.24.1->-r causalml/requirements.txt (line 8)) (2022.7.1)\n",
            "Requirement already satisfied: joblib>=0.11 in /usr/local/lib/python3.9/dist-packages (from scikit-learn<=1.0.2->-r causalml/requirements.txt (line 9)) (1.1.1)\n",
            "Requirement already satisfied: threadpoolctl>=2.0.0 in /usr/local/lib/python3.9/dist-packages (from scikit-learn<=1.0.2->-r causalml/requirements.txt (line 9)) (3.1.0)\n",
            "Requirement already satisfied: patsy>=0.5.2 in /usr/local/lib/python3.9/dist-packages (from statsmodels>=0.9.0->-r causalml/requirements.txt (line 10)) (0.5.3)\n",
            "Collecting slicer==0.0.7\n",
            "  Downloading slicer-0.0.7-py3-none-any.whl (14 kB)\n",
            "Requirement already satisfied: numba in /usr/local/lib/python3.9/dist-packages (from shap->-r causalml/requirements.txt (line 16)) (0.56.4)\n",
            "Requirement already satisfied: cloudpickle in /usr/local/lib/python3.9/dist-packages (from shap->-r causalml/requirements.txt (line 16)) (2.2.1)\n",
            "Requirement already satisfied: wheel in /usr/local/lib/python3.9/dist-packages (from lightgbm->-r causalml/requirements.txt (line 18)) (0.40.0)\n",
            "Collecting numpy>=1.18.5\n",
            "  Downloading numpy-1.24.2-cp39-cp39-manylinux_2_17_x86_64.manylinux2014_x86_64.whl (17.3 MB)\n",
            "\u001b[2K     \u001b[90m━━━━━━━━━━━━━━━━━━━━━━━━━━━━━━━━━━━━━━━━\u001b[0m \u001b[32m17.3/17.3 MB\u001b[0m \u001b[31m71.3 MB/s\u001b[0m eta \u001b[36m0:00:00\u001b[0m\n",
            "\u001b[?25hRequirement already satisfied: progressbar2<5.0.0,>=4.2.0 in /usr/local/lib/python3.9/dist-packages (from pygam->-r causalml/requirements.txt (line 19)) (4.2.0)\n",
            "Requirement already satisfied: triton==2.0.0 in /usr/local/lib/python3.9/dist-packages (from torch->-r causalml/requirements.txt (line 21)) (2.0.0)\n",
            "Requirement already satisfied: jinja2 in /usr/local/lib/python3.9/dist-packages (from torch->-r causalml/requirements.txt (line 21)) (3.1.2)\n",
            "Requirement already satisfied: networkx in /usr/local/lib/python3.9/dist-packages (from torch->-r causalml/requirements.txt (line 21)) (3.0)\n",
            "Requirement already satisfied: typing-extensions in /usr/local/lib/python3.9/dist-packages (from torch->-r causalml/requirements.txt (line 21)) (4.5.0)\n",
            "Requirement already satisfied: sympy in /usr/local/lib/python3.9/dist-packages (from torch->-r causalml/requirements.txt (line 21)) (1.11.1)\n",
            "Requirement already satisfied: filelock in /usr/local/lib/python3.9/dist-packages (from torch->-r causalml/requirements.txt (line 21)) (3.10.7)\n",
            "Requirement already satisfied: lit in /usr/local/lib/python3.9/dist-packages (from triton==2.0.0->torch->-r causalml/requirements.txt (line 21)) (16.0.0)\n",
            "Requirement already satisfied: cmake in /usr/local/lib/python3.9/dist-packages (from triton==2.0.0->torch->-r causalml/requirements.txt (line 21)) (3.25.2)\n",
            "Requirement already satisfied: opt-einsum>=2.3.2 in /usr/local/lib/python3.9/dist-packages (from pyro-ppl->-r causalml/requirements.txt (line 22)) (3.3.0)\n",
            "Collecting pyro-api>=0.1.1\n",
            "  Downloading pyro_api-0.1.2-py3-none-any.whl (11 kB)\n",
            "Requirement already satisfied: zipp>=3.1.0 in /usr/local/lib/python3.9/dist-packages (from importlib-resources>=3.2.0->matplotlib->-r causalml/requirements.txt (line 7)) (3.15.0)\n",
            "Requirement already satisfied: six in /usr/local/lib/python3.9/dist-packages (from patsy>=0.5.2->statsmodels>=0.9.0->-r causalml/requirements.txt (line 10)) (1.16.0)\n",
            "Requirement already satisfied: python-utils>=3.0.0 in /usr/local/lib/python3.9/dist-packages (from progressbar2<5.0.0,>=4.2.0->pygam->-r causalml/requirements.txt (line 19)) (3.5.2)\n",
            "Requirement already satisfied: MarkupSafe>=2.0 in /usr/local/lib/python3.9/dist-packages (from jinja2->torch->-r causalml/requirements.txt (line 21)) (2.1.2)\n",
            "Collecting numba\n",
            "  Downloading numba-0.56.3-cp39-cp39-manylinux2014_x86_64.manylinux_2_17_x86_64.whl (3.5 MB)\n",
            "\u001b[2K     \u001b[90m━━━━━━━━━━━━━━━━━━━━━━━━━━━━━━━━━━━━━━━━\u001b[0m \u001b[32m3.5/3.5 MB\u001b[0m \u001b[31m89.4 MB/s\u001b[0m eta \u001b[36m0:00:00\u001b[0m\n",
            "\u001b[?25h  Downloading numba-0.56.2-cp39-cp39-manylinux2014_x86_64.manylinux_2_17_x86_64.whl (3.5 MB)\n",
            "\u001b[2K     \u001b[90m━━━━━━━━━━━━━━━━━━━━━━━━━━━━━━━━━━━━━━━━\u001b[0m \u001b[32m3.5/3.5 MB\u001b[0m \u001b[31m77.1 MB/s\u001b[0m eta \u001b[36m0:00:00\u001b[0m\n",
            "\u001b[?25h  Downloading numba-0.56.0-cp39-cp39-manylinux2014_x86_64.manylinux_2_17_x86_64.whl (3.5 MB)\n",
            "\u001b[2K     \u001b[90m━━━━━━━━━━━━━━━━━━━━━━━━━━━━━━━━━━━━━━━━\u001b[0m \u001b[32m3.5/3.5 MB\u001b[0m \u001b[31m84.5 MB/s\u001b[0m eta \u001b[36m0:00:00\u001b[0m\n",
            "\u001b[?25h  Downloading numba-0.55.2-cp39-cp39-manylinux2014_x86_64.manylinux_2_17_x86_64.whl (3.3 MB)\n",
            "\u001b[2K     \u001b[90m━━━━━━━━━━━━━━━━━━━━━━━━━━━━━━━━━━━━━━━━\u001b[0m \u001b[32m3.3/3.3 MB\u001b[0m \u001b[31m91.4 MB/s\u001b[0m eta \u001b[36m0:00:00\u001b[0m\n",
            "\u001b[?25h  Downloading numba-0.55.1-1-cp39-cp39-manylinux2014_x86_64.manylinux_2_17_x86_64.whl (3.3 MB)\n",
            "\u001b[2K     \u001b[90m━━━━━━━━━━━━━━━━━━━━━━━━━━━━━━━━━━━━━━━━\u001b[0m \u001b[32m3.3/3.3 MB\u001b[0m \u001b[31m91.2 MB/s\u001b[0m eta \u001b[36m0:00:00\u001b[0m\n",
            "\u001b[?25hCollecting llvmlite<0.39,>=0.38.0rc1\n",
            "  Downloading llvmlite-0.38.1-cp39-cp39-manylinux_2_17_x86_64.manylinux2014_x86_64.whl (34.5 MB)\n",
            "\u001b[2K     \u001b[90m━━━━━━━━━━━━━━━━━━━━━━━━━━━━━━━━━━━━━━━━\u001b[0m \u001b[32m34.5/34.5 MB\u001b[0m \u001b[31m15.9 MB/s\u001b[0m eta \u001b[36m0:00:00\u001b[0m\n",
            "\u001b[?25hCollecting numba\n",
            "  Downloading numba-0.55.0-cp39-cp39-manylinux2014_x86_64.manylinux_2_17_x86_64.whl (3.3 MB)\n",
            "\u001b[2K     \u001b[90m━━━━━━━━━━━━━━━━━━━━━━━━━━━━━━━━━━━━━━━━\u001b[0m \u001b[32m3.3/3.3 MB\u001b[0m \u001b[31m69.2 MB/s\u001b[0m eta \u001b[36m0:00:00\u001b[0m\n",
            "\u001b[?25h  Downloading numba-0.54.1-cp39-cp39-manylinux2014_x86_64.manylinux_2_17_x86_64.whl (3.3 MB)\n",
            "\u001b[2K     \u001b[90m━━━━━━━━━━━━━━━━━━━━━━━━━━━━━━━━━━━━━━━━\u001b[0m \u001b[32m3.3/3.3 MB\u001b[0m \u001b[31m98.6 MB/s\u001b[0m eta \u001b[36m0:00:00\u001b[0m\n",
            "\u001b[?25hCollecting llvmlite<0.38,>=0.37.0rc1\n",
            "  Downloading llvmlite-0.37.0-cp39-cp39-manylinux2014_x86_64.whl (26.3 MB)\n",
            "\u001b[2K     \u001b[90m━━━━━━━━━━━━━━━━━━━━━━━━━━━━━━━━━━━━━━━━\u001b[0m \u001b[32m26.3/26.3 MB\u001b[0m \u001b[31m58.2 MB/s\u001b[0m eta \u001b[36m0:00:00\u001b[0m\n",
            "\u001b[?25hCollecting numba\n",
            "  Downloading numba-0.54.0-cp39-cp39-manylinux2014_x86_64.manylinux_2_17_x86_64.whl (3.4 MB)\n",
            "\u001b[2K     \u001b[90m━━━━━━━━━━━━━━━━━━━━━━━━━━━━━━━━━━━━━━━━\u001b[0m \u001b[32m3.4/3.4 MB\u001b[0m \u001b[31m93.3 MB/s\u001b[0m eta \u001b[36m0:00:00\u001b[0m\n",
            "\u001b[?25h  Downloading numba-0.53.1-cp39-cp39-manylinux2014_x86_64.whl (3.4 MB)\n",
            "\u001b[2K     \u001b[90m━━━━━━━━━━━━━━━━━━━━━━━━━━━━━━━━━━━━━━━━\u001b[0m \u001b[32m3.4/3.4 MB\u001b[0m \u001b[31m82.6 MB/s\u001b[0m eta \u001b[36m0:00:00\u001b[0m\n",
            "\u001b[?25hCollecting llvmlite<0.37,>=0.36.0rc1\n",
            "  Downloading llvmlite-0.36.0-cp39-cp39-manylinux2010_x86_64.whl (25.3 MB)\n",
            "\u001b[2K     \u001b[90m━━━━━━━━━━━━━━━━━━━━━━━━━━━━━━━━━━━━━━━━\u001b[0m \u001b[32m25.3/25.3 MB\u001b[0m \u001b[31m66.0 MB/s\u001b[0m eta \u001b[36m0:00:00\u001b[0m\n",
            "\u001b[?25hRequirement already satisfied: mpmath>=0.19 in /usr/local/lib/python3.9/dist-packages (from sympy->torch->-r causalml/requirements.txt (line 21)) (1.3.0)\n",
            "Installing collected packages: pyro-api, slicer, ppft, pox, numpy, llvmlite, dill, numba, multiprocess, scikit-learn, pygam, pathos, shap, forestci, pyro-ppl\n",
            "  Attempting uninstall: numpy\n",
            "    Found existing installation: numpy 1.22.4\n",
            "    Uninstalling numpy-1.22.4:\n",
            "      Successfully uninstalled numpy-1.22.4\n",
            "  Attempting uninstall: llvmlite\n",
            "    Found existing installation: llvmlite 0.39.1\n",
            "    Uninstalling llvmlite-0.39.1:\n",
            "      Successfully uninstalled llvmlite-0.39.1\n",
            "  Attempting uninstall: numba\n",
            "    Found existing installation: numba 0.56.4\n",
            "    Uninstalling numba-0.56.4:\n",
            "      Successfully uninstalled numba-0.56.4\n",
            "  Attempting uninstall: scikit-learn\n",
            "    Found existing installation: scikit-learn 1.2.2\n",
            "    Uninstalling scikit-learn-1.2.2:\n",
            "      Successfully uninstalled scikit-learn-1.2.2\n",
            "\u001b[31mERROR: pip's dependency resolver does not currently take into account all the packages that are installed. This behaviour is the source of the following dependency conflicts.\n",
            "tensorflow 2.12.0 requires numpy<1.24,>=1.22, but you have numpy 1.24.2 which is incompatible.\u001b[0m\u001b[31m\n",
            "\u001b[0mSuccessfully installed dill-0.3.6 forestci-0.6 llvmlite-0.36.0 multiprocess-0.70.14 numba-0.53.1 numpy-1.24.2 pathos-0.2.9 pox-0.3.2 ppft-1.7.6.6 pygam-0.9.0 pyro-api-0.1.2 pyro-ppl-1.8.4 scikit-learn-1.0.2 shap-0.41.0 slicer-0.0.7\n",
            "Looking in indexes: https://pypi.org/simple, https://us-python.pkg.dev/colab-wheels/public/simple/\n",
            "Collecting causalml\n",
            "  Using cached causalml-0.13.0.tar.gz (535 kB)\n",
            "  Preparing metadata (setup.py) ... \u001b[?25l\u001b[?25hdone\n",
            "Requirement already satisfied: setuptools>=41.0.0 in /usr/local/lib/python3.9/dist-packages (from causalml) (67.6.1)\n",
            "Requirement already satisfied: forestci==0.6 in /usr/local/lib/python3.9/dist-packages (from causalml) (0.6)\n",
            "Requirement already satisfied: pathos==0.2.9 in /usr/local/lib/python3.9/dist-packages (from causalml) (0.2.9)\n",
            "Requirement already satisfied: pip>=10.0 in /usr/local/lib/python3.9/dist-packages (from causalml) (22.0.4)\n",
            "Requirement already satisfied: numpy>=1.18.5 in /usr/local/lib/python3.9/dist-packages (from causalml) (1.24.2)\n",
            "Requirement already satisfied: scipy>=1.4.1 in /usr/local/lib/python3.9/dist-packages (from causalml) (1.10.1)\n",
            "Requirement already satisfied: matplotlib in /usr/local/lib/python3.9/dist-packages (from causalml) (3.7.1)\n",
            "Requirement already satisfied: pandas>=0.24.1 in /usr/local/lib/python3.9/dist-packages (from causalml) (1.4.4)\n",
            "Requirement already satisfied: scikit-learn==1.0.2 in /usr/local/lib/python3.9/dist-packages (from causalml) (1.0.2)\n",
            "Requirement already satisfied: statsmodels>=0.9.0 in /usr/local/lib/python3.9/dist-packages (from causalml) (0.13.5)\n",
            "Requirement already satisfied: seaborn in /usr/local/lib/python3.9/dist-packages (from causalml) (0.12.2)\n",
            "Requirement already satisfied: Cython>=0.28.0 in /usr/local/lib/python3.9/dist-packages (from causalml) (0.29.33)\n",
            "Requirement already satisfied: xgboost in /usr/local/lib/python3.9/dist-packages (from causalml) (1.7.4)\n",
            "Requirement already satisfied: pydotplus in /usr/local/lib/python3.9/dist-packages (from causalml) (2.0.2)\n",
            "Requirement already satisfied: tqdm in /usr/local/lib/python3.9/dist-packages (from causalml) (4.65.0)\n",
            "Requirement already satisfied: shap in /usr/local/lib/python3.9/dist-packages (from causalml) (0.41.0)\n",
            "Requirement already satisfied: dill in /usr/local/lib/python3.9/dist-packages (from causalml) (0.3.6)\n",
            "Requirement already satisfied: lightgbm in /usr/local/lib/python3.9/dist-packages (from causalml) (3.3.5)\n",
            "Requirement already satisfied: pygam in /usr/local/lib/python3.9/dist-packages (from causalml) (0.9.0)\n",
            "Requirement already satisfied: packaging in /usr/local/lib/python3.9/dist-packages (from causalml) (23.0)\n",
            "Requirement already satisfied: torch in /usr/local/lib/python3.9/dist-packages (from causalml) (2.0.0+cu118)\n",
            "Requirement already satisfied: pyro-ppl in /usr/local/lib/python3.9/dist-packages (from causalml) (1.8.4)\n",
            "Requirement already satisfied: graphviz in /usr/local/lib/python3.9/dist-packages (from causalml) (0.20.1)\n",
            "Requirement already satisfied: pox>=0.3.1 in /usr/local/lib/python3.9/dist-packages (from pathos==0.2.9->causalml) (0.3.2)\n",
            "Requirement already satisfied: ppft>=1.7.6.5 in /usr/local/lib/python3.9/dist-packages (from pathos==0.2.9->causalml) (1.7.6.6)\n",
            "Requirement already satisfied: multiprocess>=0.70.13 in /usr/local/lib/python3.9/dist-packages (from pathos==0.2.9->causalml) (0.70.14)\n",
            "Requirement already satisfied: joblib>=0.11 in /usr/local/lib/python3.9/dist-packages (from scikit-learn==1.0.2->causalml) (1.1.1)\n",
            "Requirement already satisfied: threadpoolctl>=2.0.0 in /usr/local/lib/python3.9/dist-packages (from scikit-learn==1.0.2->causalml) (3.1.0)\n",
            "Requirement already satisfied: pytz>=2020.1 in /usr/local/lib/python3.9/dist-packages (from pandas>=0.24.1->causalml) (2022.7.1)\n",
            "Requirement already satisfied: python-dateutil>=2.8.1 in /usr/local/lib/python3.9/dist-packages (from pandas>=0.24.1->causalml) (2.8.2)\n",
            "Requirement already satisfied: patsy>=0.5.2 in /usr/local/lib/python3.9/dist-packages (from statsmodels>=0.9.0->causalml) (0.5.3)\n",
            "Requirement already satisfied: wheel in /usr/local/lib/python3.9/dist-packages (from lightgbm->causalml) (0.40.0)\n",
            "Requirement already satisfied: pyparsing>=2.3.1 in /usr/local/lib/python3.9/dist-packages (from matplotlib->causalml) (3.0.9)\n",
            "Requirement already satisfied: cycler>=0.10 in /usr/local/lib/python3.9/dist-packages (from matplotlib->causalml) (0.11.0)\n",
            "Requirement already satisfied: fonttools>=4.22.0 in /usr/local/lib/python3.9/dist-packages (from matplotlib->causalml) (4.39.3)\n",
            "Requirement already satisfied: pillow>=6.2.0 in /usr/local/lib/python3.9/dist-packages (from matplotlib->causalml) (8.4.0)\n",
            "Requirement already satisfied: importlib-resources>=3.2.0 in /usr/local/lib/python3.9/dist-packages (from matplotlib->causalml) (5.12.0)\n",
            "Requirement already satisfied: kiwisolver>=1.0.1 in /usr/local/lib/python3.9/dist-packages (from matplotlib->causalml) (1.4.4)\n",
            "Requirement already satisfied: contourpy>=1.0.1 in /usr/local/lib/python3.9/dist-packages (from matplotlib->causalml) (1.0.7)\n",
            "Requirement already satisfied: progressbar2<5.0.0,>=4.2.0 in /usr/local/lib/python3.9/dist-packages (from pygam->causalml) (4.2.0)\n",
            "Requirement already satisfied: pyro-api>=0.1.1 in /usr/local/lib/python3.9/dist-packages (from pyro-ppl->causalml) (0.1.2)\n",
            "Requirement already satisfied: opt-einsum>=2.3.2 in /usr/local/lib/python3.9/dist-packages (from pyro-ppl->causalml) (3.3.0)\n",
            "Requirement already satisfied: triton==2.0.0 in /usr/local/lib/python3.9/dist-packages (from torch->causalml) (2.0.0)\n",
            "Requirement already satisfied: networkx in /usr/local/lib/python3.9/dist-packages (from torch->causalml) (3.0)\n",
            "Requirement already satisfied: jinja2 in /usr/local/lib/python3.9/dist-packages (from torch->causalml) (3.1.2)\n",
            "Requirement already satisfied: filelock in /usr/local/lib/python3.9/dist-packages (from torch->causalml) (3.10.7)\n",
            "Requirement already satisfied: typing-extensions in /usr/local/lib/python3.9/dist-packages (from torch->causalml) (4.5.0)\n",
            "Requirement already satisfied: sympy in /usr/local/lib/python3.9/dist-packages (from torch->causalml) (1.11.1)\n",
            "Requirement already satisfied: lit in /usr/local/lib/python3.9/dist-packages (from triton==2.0.0->torch->causalml) (16.0.0)\n",
            "Requirement already satisfied: cmake in /usr/local/lib/python3.9/dist-packages (from triton==2.0.0->torch->causalml) (3.25.2)\n",
            "Requirement already satisfied: slicer==0.0.7 in /usr/local/lib/python3.9/dist-packages (from shap->causalml) (0.0.7)\n",
            "Requirement already satisfied: cloudpickle in /usr/local/lib/python3.9/dist-packages (from shap->causalml) (2.2.1)\n",
            "Requirement already satisfied: numba in /usr/local/lib/python3.9/dist-packages (from shap->causalml) (0.53.1)\n",
            "Requirement already satisfied: zipp>=3.1.0 in /usr/local/lib/python3.9/dist-packages (from importlib-resources>=3.2.0->matplotlib->causalml) (3.15.0)\n",
            "Requirement already satisfied: six in /usr/local/lib/python3.9/dist-packages (from patsy>=0.5.2->statsmodels>=0.9.0->causalml) (1.16.0)\n",
            "Requirement already satisfied: python-utils>=3.0.0 in /usr/local/lib/python3.9/dist-packages (from progressbar2<5.0.0,>=4.2.0->pygam->causalml) (3.5.2)\n",
            "Requirement already satisfied: MarkupSafe>=2.0 in /usr/local/lib/python3.9/dist-packages (from jinja2->torch->causalml) (2.1.2)\n",
            "Requirement already satisfied: llvmlite<0.37,>=0.36.0rc1 in /usr/local/lib/python3.9/dist-packages (from numba->shap->causalml) (0.36.0)\n",
            "Requirement already satisfied: mpmath>=0.19 in /usr/local/lib/python3.9/dist-packages (from sympy->torch->causalml) (1.3.0)\n",
            "Building wheels for collected packages: causalml\n",
            "  Building wheel for causalml (setup.py) ... \u001b[?25l\u001b[?25hdone\n",
            "  Created wheel for causalml: filename=causalml-0.13.0-cp39-cp39-linux_x86_64.whl size=1801711 sha256=74cdd96ef8f8432aa4bd21c42f047bd911fa6967111eea9e9931b48a58f4fd2c\n",
            "  Stored in directory: /root/.cache/pip/wheels/e0/d9/d5/66c15a1b30bc786c2de4bc5891f53891dcbcb2ce86245d0b5a\n",
            "Successfully built causalml\n",
            "Installing collected packages: causalml\n",
            "Successfully installed causalml-0.13.0\n"
          ]
        }
      ],
      "source": [
        "# !git clone https://github.com/uber/causalml.git\n",
        "# !pip install -r causalml/requirements.txt\n",
        "# !pip install causalml"
      ]
    }
  ],
  "metadata": {
    "kernelspec": {
      "display_name": "Python 3",
      "language": "python",
      "name": "python3"
    },
    "language_info": {
      "codemirror_mode": {
        "name": "ipython",
        "version": 3
      },
      "file_extension": ".py",
      "mimetype": "text/x-python",
      "name": "python",
      "nbconvert_exporter": "python",
      "pygments_lexer": "ipython3",
      "version": "3.7.4"
    },
    "colab": {
      "provenance": []
    }
  },
  "nbformat": 4,
  "nbformat_minor": 0
}