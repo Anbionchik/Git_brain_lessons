{
 "cells": [
  {
   "cell_type": "markdown",
   "metadata": {
    "id": "JQsYK4xc7ZSD"
   },
   "source": [
    "# Урок 9. Интеграция. Итоговый проект"
   ]
  },
  {
   "cell_type": "markdown",
   "metadata": {
    "id": "7RefikeQ7ZSM"
   },
   "source": [
    "Программа урока:\n",
    "\n",
    "\n",
    "- Вспоминаем “типовой” процесс построения модели машинного обучения \n",
    "- Этапы “обучение” и “предсказание”\n",
    "- Введение в json и rest"
   ]
  },
  {
   "cell_type": "markdown",
   "metadata": {
    "id": "Se8k6YrR7ZSR"
   },
   "source": [
    "#### 1. \"Типовой\" процесс построения модели"
   ]
  },
  {
   "cell_type": "markdown",
   "metadata": {
    "id": "mJYLZwBY7ZSU"
   },
   "source": [
    "<img src='https://drive.google.com/uc?export=view&id=1cHdANVRHhmqdPwkeWRHHMnqmwmyckeY4'>"
   ]
  },
  {
   "cell_type": "markdown",
   "metadata": {
    "id": "GoQs-uxi7ZSY"
   },
   "source": [
    "Также нужно понимать разницу между этапом обучения и предсказания"
   ]
  },
  {
   "cell_type": "markdown",
   "metadata": {
    "id": "IMV4azGu7ZSb"
   },
   "source": [
    "<img src='https://drive.google.com/uc?export=view&id=1DUPlPmLwhbxW7j9ZEVuQdColxeUd1NnP' width=700>"
   ]
  },
  {
   "cell_type": "markdown",
   "metadata": {
    "id": "NMt1YxiH7ZSe"
   },
   "source": [
    "Если говорить проще, то обучение модели - маленькая (пусть и важная) часть процесса решения конкретной бизнес-задачи\n",
    "\n",
    "Сама по себе обученная модель бесполезна, если нет возможности с ней взаимодействовать"
   ]
  },
  {
   "cell_type": "markdown",
   "metadata": {
    "id": "ut8l7bTn7ZSj"
   },
   "source": [
    "#### Пример\n",
    "\n",
    "Интернет-магазин \"ходит\" к нам за рекомендациями для пользователя.\n",
    "\n",
    "Т.е нам передают user_id и просят вернуть топ k рекомендованных товаров."
   ]
  },
  {
   "cell_type": "markdown",
   "metadata": {
    "id": "fWtuAJ_87ZSy"
   },
   "source": [
    "В общем виде процесс \"выкатывания\" модели в прод может выглядеть так:\n",
    "\n",
    "<img src='https://drive.google.com/uc?export=view&id=1J0ZW0O_5sl-WOE4FWfQT_CNTBmQWFUK7'>\n",
    "\n",
    "Этап Model Deployment может быть очень сложным и нетривиальным во всем процессе (по сравнению с этапом обучения модели и подготовки данных)."
   ]
  },
  {
   "cell_type": "markdown",
   "metadata": {
    "id": "OnAuydlF7ZS3"
   },
   "source": [
    "#### Пример реализации проекта"
   ]
  },
  {
   "cell_type": "markdown",
   "metadata": {
    "id": "vAhWuyeL7ZTA"
   },
   "source": [
    "<img src='https://drive.google.com/uc?export=view&id=1ymysdP0wVthPV6q8lZ6LKbaRh-6dHkjO' width=600>"
   ]
  },
  {
   "cell_type": "markdown",
   "metadata": {
    "id": "Tf8HG5Xb7ZTD"
   },
   "source": [
    "https://hackmd.io/@AndreyPhys/flask-ml-api#/"
   ]
  },
  {
   "cell_type": "markdown",
   "metadata": {
    "id": "bceGGJE87ZTF"
   },
   "source": [
    "### REST API\n",
    "\n",
    "https://ru.wikipedia.org/wiki/REST"
   ]
  },
  {
   "cell_type": "markdown",
   "metadata": {
    "id": "lzQ6AxJe7ZTH"
   },
   "source": [
    "<img src='https://drive.google.com/uc?export=view&id=1waf6XV_4n6chq2gFnqUHErs87MfKqqQT' width=700>"
   ]
  },
  {
   "cell_type": "markdown",
   "metadata": {
    "id": "L6vJDlqq7ZTJ"
   },
   "source": [
    "### JSON"
   ]
  },
  {
   "cell_type": "markdown",
   "metadata": {
    "id": "7x3LNGaB7ZTL"
   },
   "source": [
    "<img src='https://drive.google.com/uc?export=view&id=1okkgmx5vU1BQlWyW5k0djYkkF_czhn0k' width=700>"
   ]
  },
  {
   "cell_type": "markdown",
   "metadata": {
    "id": "VE6yMexI7ZTN"
   },
   "source": [
    "### Flask"
   ]
  },
  {
   "cell_type": "markdown",
   "metadata": {
    "id": "iMf1TzHQ7ZTO"
   },
   "source": [
    "- установить\n",
    "- создать объект Flask\n",
    "- написать обработчики (handler)\n",
    "- запустить (и не выключать)"
   ]
  },
  {
   "cell_type": "markdown",
   "metadata": {
    "id": "_QtUFyfxFBOf"
   },
   "source": [
    "Создать объект Flask:\n",
    "\n",
    "\n",
    "\n",
    "```\n",
    "from flask import Flask, request, jsonify\n",
    "\n",
    "app = Flask(__name__)  # __name__ - имя модуля\n",
    "```\n",
    "\n",
    "\n",
    "Написать обработчики (handler):\n",
    "\n",
    "\n",
    "\n",
    "```\n",
    "@app.route(\"/\", methods=[\"GET\"])\n",
    "def general():\n",
    "    return \"Welcome to prediction process\"\n",
    "```\n",
    "\n",
    "\n",
    "Запустить (и не выключать):\n",
    "\n",
    "\n",
    "```\n",
    "if __name__ == \"__main__\":\n",
    "    app.run()\n",
    "```\n",
    "\n",
    "\n"
   ]
  },
  {
   "cell_type": "markdown",
   "metadata": {
    "id": "p13AIiQkGrmc"
   },
   "source": [
    "# Step 1 - TRAIN"
   ]
  },
  {
   "cell_type": "markdown",
   "metadata": {
    "id": "2JcaseA0GrtJ"
   },
   "source": [
    "### Обучение пайплайна\n",
    "\n",
    "1. Загрузим данные https://www.kaggle.com/shivamb/real-or-fake-fake-jobposting-prediction\n",
    "2. Соберем пайплайн с простейшим препроцессингом (tfidf) на текстовых данных\n",
    "3. Обучим логистическую регрессию и сохраним на диск предобученный пайплайн"
   ]
  },
  {
   "cell_type": "code",
   "execution_count": 6,
   "metadata": {
    "id": "KLvQLw8KGrtP"
   },
   "outputs": [],
   "source": [
    "import pandas as pd\n",
    "import dill\n",
    "import numpy as np\n",
    "from sklearn.model_selection import train_test_split\n",
    "from sklearn.base import BaseEstimator, TransformerMixin\n",
    "from sklearn.linear_model import LogisticRegression\n",
    "from sklearn.metrics import confusion_matrix, accuracy_score, classification_report\n",
    "from sklearn.metrics import roc_auc_score, roc_curve, precision_recall_curve\n",
    "from sklearn.metrics import f1_score\n",
    "\n",
    "#working with text\n",
    "from sklearn.feature_extraction.text import TfidfVectorizer\n",
    "\n",
    "#normalizing data\n",
    "from sklearn.preprocessing import StandardScaler\n",
    "\n",
    "#pipeline\n",
    "from sklearn.pipeline import Pipeline, FeatureUnion\n",
    "from sklearn.metrics import precision_score,recall_score\n",
    "\n",
    "#imputer\n",
    "from sklearn.impute import SimpleImputer\n",
    "\n",
    "import sklearn.datasets"
   ]
  },
  {
   "cell_type": "markdown",
   "metadata": {
    "id": "OTBkHNk0GrtV"
   },
   "source": [
    "Загрузим данные\n",
    "\n",
    "Ссылка на google drive: https://drive.google.com/file/d/1T0V44fGNCbgaWh78gZ2ieeoqo5eBowVi"
   ]
  },
  {
   "cell_type": "code",
   "execution_count": 2,
   "metadata": {
    "colab": {
     "base_uri": "https://localhost:8080/"
    },
    "id": "W2HI1cFXHABN",
    "outputId": "014912e5-1744-4da4-eed8-30c86fe423ea"
   },
   "outputs": [
    {
     "name": "stderr",
     "output_type": "stream",
     "text": [
      "\"wget\" ­Ґ пў«пҐвбп ў­гваҐ­­Ґ© Ё«Ё ў­Ґи­Ґ©\n",
      "Є®¬ ­¤®©, ЁбЇ®«­пҐ¬®© Їа®Ја ¬¬®© Ё«Ё Ї ЄҐв­л¬ д ©«®¬.\n",
      "\"id\" ­Ґ пў«пҐвбп ў­гваҐ­­Ґ© Ё«Ё ў­Ґи­Ґ©\n",
      "Є®¬ ­¤®©, ЁбЇ®«­пҐ¬®© Їа®Ја ¬¬®© Ё«Ё Ї ЄҐв­л¬ д ©«®¬.\n"
     ]
    }
   ],
   "source": [
    "!wget 'https://drive.google.com/uc?export=download&id=1T0V44fGNCbgaWh78gZ2ieeoqo5eBowVi' -O fake_job_postings.csv"
   ]
  },
  {
   "cell_type": "code",
   "execution_count": 3,
   "metadata": {
    "colab": {
     "base_uri": "https://localhost:8080/",
     "height": 433
    },
    "id": "Uv4ago4BGrtY",
    "outputId": "9bb6d820-4474-4c71-e24e-1eab166de998"
   },
   "outputs": [
    {
     "data": {
      "text/html": [
       "<div>\n",
       "<style scoped>\n",
       "    .dataframe tbody tr th:only-of-type {\n",
       "        vertical-align: middle;\n",
       "    }\n",
       "\n",
       "    .dataframe tbody tr th {\n",
       "        vertical-align: top;\n",
       "    }\n",
       "\n",
       "    .dataframe thead th {\n",
       "        text-align: right;\n",
       "    }\n",
       "</style>\n",
       "<table border=\"1\" class=\"dataframe\">\n",
       "  <thead>\n",
       "    <tr style=\"text-align: right;\">\n",
       "      <th></th>\n",
       "      <th>job_id</th>\n",
       "      <th>title</th>\n",
       "      <th>location</th>\n",
       "      <th>department</th>\n",
       "      <th>salary_range</th>\n",
       "      <th>company_profile</th>\n",
       "      <th>description</th>\n",
       "      <th>requirements</th>\n",
       "      <th>benefits</th>\n",
       "      <th>telecommuting</th>\n",
       "      <th>has_company_logo</th>\n",
       "      <th>has_questions</th>\n",
       "      <th>employment_type</th>\n",
       "      <th>required_experience</th>\n",
       "      <th>required_education</th>\n",
       "      <th>industry</th>\n",
       "      <th>function</th>\n",
       "      <th>fraudulent</th>\n",
       "    </tr>\n",
       "  </thead>\n",
       "  <tbody>\n",
       "    <tr>\n",
       "      <th>0</th>\n",
       "      <td>1</td>\n",
       "      <td>Marketing Intern</td>\n",
       "      <td>US, NY, New York</td>\n",
       "      <td>Marketing</td>\n",
       "      <td>NaN</td>\n",
       "      <td>We're Food52, and we've created a groundbreaki...</td>\n",
       "      <td>Food52, a fast-growing, James Beard Award-winn...</td>\n",
       "      <td>Experience with content management systems a m...</td>\n",
       "      <td>NaN</td>\n",
       "      <td>0</td>\n",
       "      <td>1</td>\n",
       "      <td>0</td>\n",
       "      <td>Other</td>\n",
       "      <td>Internship</td>\n",
       "      <td>NaN</td>\n",
       "      <td>NaN</td>\n",
       "      <td>Marketing</td>\n",
       "      <td>0</td>\n",
       "    </tr>\n",
       "    <tr>\n",
       "      <th>1</th>\n",
       "      <td>2</td>\n",
       "      <td>Customer Service - Cloud Video Production</td>\n",
       "      <td>NZ, , Auckland</td>\n",
       "      <td>Success</td>\n",
       "      <td>NaN</td>\n",
       "      <td>90 Seconds, the worlds Cloud Video Production ...</td>\n",
       "      <td>Organised - Focused - Vibrant - Awesome!Do you...</td>\n",
       "      <td>What we expect from you:Your key responsibilit...</td>\n",
       "      <td>What you will get from usThrough being part of...</td>\n",
       "      <td>0</td>\n",
       "      <td>1</td>\n",
       "      <td>0</td>\n",
       "      <td>Full-time</td>\n",
       "      <td>Not Applicable</td>\n",
       "      <td>NaN</td>\n",
       "      <td>Marketing and Advertising</td>\n",
       "      <td>Customer Service</td>\n",
       "      <td>0</td>\n",
       "    </tr>\n",
       "    <tr>\n",
       "      <th>2</th>\n",
       "      <td>3</td>\n",
       "      <td>Commissioning Machinery Assistant (CMA)</td>\n",
       "      <td>US, IA, Wever</td>\n",
       "      <td>NaN</td>\n",
       "      <td>NaN</td>\n",
       "      <td>Valor Services provides Workforce Solutions th...</td>\n",
       "      <td>Our client, located in Houston, is actively se...</td>\n",
       "      <td>Implement pre-commissioning and commissioning ...</td>\n",
       "      <td>NaN</td>\n",
       "      <td>0</td>\n",
       "      <td>1</td>\n",
       "      <td>0</td>\n",
       "      <td>NaN</td>\n",
       "      <td>NaN</td>\n",
       "      <td>NaN</td>\n",
       "      <td>NaN</td>\n",
       "      <td>NaN</td>\n",
       "      <td>0</td>\n",
       "    </tr>\n",
       "  </tbody>\n",
       "</table>\n",
       "</div>"
      ],
      "text/plain": [
       "   job_id                                      title          location  \\\n",
       "0       1                           Marketing Intern  US, NY, New York   \n",
       "1       2  Customer Service - Cloud Video Production    NZ, , Auckland   \n",
       "2       3    Commissioning Machinery Assistant (CMA)     US, IA, Wever   \n",
       "\n",
       "  department salary_range                                    company_profile  \\\n",
       "0  Marketing          NaN  We're Food52, and we've created a groundbreaki...   \n",
       "1    Success          NaN  90 Seconds, the worlds Cloud Video Production ...   \n",
       "2        NaN          NaN  Valor Services provides Workforce Solutions th...   \n",
       "\n",
       "                                         description  \\\n",
       "0  Food52, a fast-growing, James Beard Award-winn...   \n",
       "1  Organised - Focused - Vibrant - Awesome!Do you...   \n",
       "2  Our client, located in Houston, is actively se...   \n",
       "\n",
       "                                        requirements  \\\n",
       "0  Experience with content management systems a m...   \n",
       "1  What we expect from you:Your key responsibilit...   \n",
       "2  Implement pre-commissioning and commissioning ...   \n",
       "\n",
       "                                            benefits  telecommuting  \\\n",
       "0                                                NaN              0   \n",
       "1  What you will get from usThrough being part of...              0   \n",
       "2                                                NaN              0   \n",
       "\n",
       "   has_company_logo  has_questions employment_type required_experience  \\\n",
       "0                 1              0           Other          Internship   \n",
       "1                 1              0       Full-time      Not Applicable   \n",
       "2                 1              0             NaN                 NaN   \n",
       "\n",
       "  required_education                   industry          function  fraudulent  \n",
       "0                NaN                        NaN         Marketing           0  \n",
       "1                NaN  Marketing and Advertising  Customer Service           0  \n",
       "2                NaN                        NaN               NaN           0  "
      ]
     },
     "execution_count": 3,
     "metadata": {},
     "output_type": "execute_result"
    }
   ],
   "source": [
    "df = pd.read_csv(\"./fake_job_postings.csv\")\n",
    "df.head(3)"
   ]
  },
  {
   "cell_type": "code",
   "execution_count": 4,
   "metadata": {
    "colab": {
     "base_uri": "https://localhost:8080/"
    },
    "id": "seckhpIi6pT7",
    "outputId": "64873844-fcaf-4b6e-f4e7-c8bc5d626e65"
   },
   "outputs": [
    {
     "data": {
      "text/plain": [
       "0    17014\n",
       "1      866\n",
       "Name: fraudulent, dtype: int64"
      ]
     },
     "execution_count": 4,
     "metadata": {},
     "output_type": "execute_result"
    }
   ],
   "source": [
    "df['fraudulent'].value_counts()"
   ]
  },
  {
   "cell_type": "markdown",
   "metadata": {
    "id": "yrlbd6KzGrtb"
   },
   "source": [
    "Разделим данные на train/test и сохраним тестовую выборку на диск"
   ]
  },
  {
   "cell_type": "code",
   "execution_count": 5,
   "metadata": {
    "id": "re8x7JVAGrtc"
   },
   "outputs": [],
   "source": [
    "X_train, X_test, y_train, y_test = train_test_split(df, df['fraudulent'],\n",
    "                                                    test_size=0.33, random_state=42)\n",
    "# save test\n",
    "X_test.to_csv(\"X_test.csv\", index=None)\n",
    "y_test.to_csv(\"y_test.csv\", index=None)\n",
    "\n",
    "# save train\n",
    "X_train.to_csv(\"X_train.csv\", index=None)\n",
    "y_train.to_csv(\"y_train.csv\", index=None)"
   ]
  },
  {
   "cell_type": "code",
   "execution_count": 6,
   "metadata": {
    "id": "ir49pzvUGrte"
   },
   "outputs": [],
   "source": [
    "class ColumnSelector(BaseEstimator, TransformerMixin):\n",
    "    \"\"\"\n",
    "    Transformer to select a single column from the data frame to perform additional transformations on\n",
    "    \"\"\"\n",
    "    def __init__(self, key):\n",
    "        self.key = key\n",
    "\n",
    "    def fit(self, X, y=None):\n",
    "        return self\n",
    "\n",
    "    def transform(self, X):\n",
    "        return X[self.key]\n",
    "    \n",
    "\n",
    "class TextImputer(BaseEstimator, TransformerMixin):\n",
    "    def __init__(self, key, value):\n",
    "        self.key = key\n",
    "        self.value = value\n",
    "    \n",
    "    def fit(self, X, y=None):\n",
    "        return self\n",
    "    \n",
    "    def transform(self, X):\n",
    "        X[self.key] = X[self.key].fillna(self.value)\n",
    "        return X"
   ]
  },
  {
   "cell_type": "code",
   "execution_count": 7,
   "metadata": {
    "id": "kCsnbDyxGrth"
   },
   "outputs": [],
   "source": [
    "features = ['description', 'company_profile', 'benefits']\n",
    "target = 'fraudulent'"
   ]
  },
  {
   "cell_type": "markdown",
   "metadata": {
    "id": "HaM6QdpqGrtk"
   },
   "source": [
    "Соберем кусок, ответственный за feature engineering"
   ]
  },
  {
   "cell_type": "code",
   "execution_count": 8,
   "metadata": {
    "id": "4lfkwyUoGrtn"
   },
   "outputs": [],
   "source": [
    "# combine\n",
    "description = Pipeline([\n",
    "                ('imputer', TextImputer('description', '')),\n",
    "                ('selector', ColumnSelector(key='description')),\n",
    "                ('tfidf', TfidfVectorizer())\n",
    "            ])\n",
    "\n",
    "company_profile = Pipeline([\n",
    "                ('imputer', TextImputer('company_profile', '')),\n",
    "                ('selector', ColumnSelector(key='company_profile')),\n",
    "                ('tfidf', TfidfVectorizer())\n",
    "            ])\n",
    "\n",
    "benefits = Pipeline([\n",
    "                ('imputer', TextImputer('benefits', '')),\n",
    "                ('selector', ColumnSelector(key='benefits')),\n",
    "                ('tfidf', TfidfVectorizer())\n",
    "            ])\n",
    "\n",
    "\n",
    "feats = FeatureUnion([('description', description),\n",
    "                      ('company_profile', company_profile),\n",
    "                      ('benefits', benefits)])"
   ]
  },
  {
   "cell_type": "markdown",
   "metadata": {
    "id": "EosvEXq6Grtr"
   },
   "source": [
    "Добавим простейший классификатор"
   ]
  },
  {
   "cell_type": "code",
   "execution_count": 9,
   "metadata": {
    "colab": {
     "base_uri": "https://localhost:8080/"
    },
    "id": "fdym1vgQGrtu",
    "outputId": "67ceca79-21ce-4c27-c0a5-108cd3797658",
    "scrolled": true
   },
   "outputs": [
    {
     "name": "stdout",
     "output_type": "stream",
     "text": [
      "CPU times: total: 6.5 s\n",
      "Wall time: 3.42 s\n"
     ]
    },
    {
     "data": {
      "text/html": [
       "<style>#sk-container-id-1 {color: black;background-color: white;}#sk-container-id-1 pre{padding: 0;}#sk-container-id-1 div.sk-toggleable {background-color: white;}#sk-container-id-1 label.sk-toggleable__label {cursor: pointer;display: block;width: 100%;margin-bottom: 0;padding: 0.3em;box-sizing: border-box;text-align: center;}#sk-container-id-1 label.sk-toggleable__label-arrow:before {content: \"▸\";float: left;margin-right: 0.25em;color: #696969;}#sk-container-id-1 label.sk-toggleable__label-arrow:hover:before {color: black;}#sk-container-id-1 div.sk-estimator:hover label.sk-toggleable__label-arrow:before {color: black;}#sk-container-id-1 div.sk-toggleable__content {max-height: 0;max-width: 0;overflow: hidden;text-align: left;background-color: #f0f8ff;}#sk-container-id-1 div.sk-toggleable__content pre {margin: 0.2em;color: black;border-radius: 0.25em;background-color: #f0f8ff;}#sk-container-id-1 input.sk-toggleable__control:checked~div.sk-toggleable__content {max-height: 200px;max-width: 100%;overflow: auto;}#sk-container-id-1 input.sk-toggleable__control:checked~label.sk-toggleable__label-arrow:before {content: \"▾\";}#sk-container-id-1 div.sk-estimator input.sk-toggleable__control:checked~label.sk-toggleable__label {background-color: #d4ebff;}#sk-container-id-1 div.sk-label input.sk-toggleable__control:checked~label.sk-toggleable__label {background-color: #d4ebff;}#sk-container-id-1 input.sk-hidden--visually {border: 0;clip: rect(1px 1px 1px 1px);clip: rect(1px, 1px, 1px, 1px);height: 1px;margin: -1px;overflow: hidden;padding: 0;position: absolute;width: 1px;}#sk-container-id-1 div.sk-estimator {font-family: monospace;background-color: #f0f8ff;border: 1px dotted black;border-radius: 0.25em;box-sizing: border-box;margin-bottom: 0.5em;}#sk-container-id-1 div.sk-estimator:hover {background-color: #d4ebff;}#sk-container-id-1 div.sk-parallel-item::after {content: \"\";width: 100%;border-bottom: 1px solid gray;flex-grow: 1;}#sk-container-id-1 div.sk-label:hover label.sk-toggleable__label {background-color: #d4ebff;}#sk-container-id-1 div.sk-serial::before {content: \"\";position: absolute;border-left: 1px solid gray;box-sizing: border-box;top: 0;bottom: 0;left: 50%;z-index: 0;}#sk-container-id-1 div.sk-serial {display: flex;flex-direction: column;align-items: center;background-color: white;padding-right: 0.2em;padding-left: 0.2em;position: relative;}#sk-container-id-1 div.sk-item {position: relative;z-index: 1;}#sk-container-id-1 div.sk-parallel {display: flex;align-items: stretch;justify-content: center;background-color: white;position: relative;}#sk-container-id-1 div.sk-item::before, #sk-container-id-1 div.sk-parallel-item::before {content: \"\";position: absolute;border-left: 1px solid gray;box-sizing: border-box;top: 0;bottom: 0;left: 50%;z-index: -1;}#sk-container-id-1 div.sk-parallel-item {display: flex;flex-direction: column;z-index: 1;position: relative;background-color: white;}#sk-container-id-1 div.sk-parallel-item:first-child::after {align-self: flex-end;width: 50%;}#sk-container-id-1 div.sk-parallel-item:last-child::after {align-self: flex-start;width: 50%;}#sk-container-id-1 div.sk-parallel-item:only-child::after {width: 0;}#sk-container-id-1 div.sk-dashed-wrapped {border: 1px dashed gray;margin: 0 0.4em 0.5em 0.4em;box-sizing: border-box;padding-bottom: 0.4em;background-color: white;}#sk-container-id-1 div.sk-label label {font-family: monospace;font-weight: bold;display: inline-block;line-height: 1.2em;}#sk-container-id-1 div.sk-label-container {text-align: center;}#sk-container-id-1 div.sk-container {/* jupyter's `normalize.less` sets `[hidden] { display: none; }` but bootstrap.min.css set `[hidden] { display: none !important; }` so we also need the `!important` here to be able to override the default hidden behavior on the sphinx rendered scikit-learn.org. See: https://github.com/scikit-learn/scikit-learn/issues/21755 */display: inline-block !important;position: relative;}#sk-container-id-1 div.sk-text-repr-fallback {display: none;}</style><div id=\"sk-container-id-1\" class=\"sk-top-container\"><div class=\"sk-text-repr-fallback\"><pre>Pipeline(steps=[(&#x27;features&#x27;,\n",
       "                 FeatureUnion(transformer_list=[(&#x27;description&#x27;,\n",
       "                                                 Pipeline(steps=[(&#x27;imputer&#x27;,\n",
       "                                                                  TextImputer(key=&#x27;description&#x27;,\n",
       "                                                                              value=&#x27;&#x27;)),\n",
       "                                                                 (&#x27;selector&#x27;,\n",
       "                                                                  ColumnSelector(key=&#x27;description&#x27;)),\n",
       "                                                                 (&#x27;tfidf&#x27;,\n",
       "                                                                  TfidfVectorizer())])),\n",
       "                                                (&#x27;company_profile&#x27;,\n",
       "                                                 Pipeline(steps=[(&#x27;imputer&#x27;,\n",
       "                                                                  TextImputer(key=&#x27;company_profile&#x27;,\n",
       "                                                                              value=&#x27;&#x27;)),\n",
       "                                                                 (&#x27;selector&#x27;,\n",
       "                                                                  ColumnSelector(key=&#x27;company_profile&#x27;)),\n",
       "                                                                 (&#x27;tfidf&#x27;,\n",
       "                                                                  TfidfVectorizer())])),\n",
       "                                                (&#x27;benefits&#x27;,\n",
       "                                                 Pipeline(steps=[(&#x27;imputer&#x27;,\n",
       "                                                                  TextImputer(key=&#x27;benefits&#x27;,\n",
       "                                                                              value=&#x27;&#x27;)),\n",
       "                                                                 (&#x27;selector&#x27;,\n",
       "                                                                  ColumnSelector(key=&#x27;benefits&#x27;)),\n",
       "                                                                 (&#x27;tfidf&#x27;,\n",
       "                                                                  TfidfVectorizer())]))])),\n",
       "                (&#x27;classifier&#x27;, LogisticRegression())])</pre><b>In a Jupyter environment, please rerun this cell to show the HTML representation or trust the notebook. <br />On GitHub, the HTML representation is unable to render, please try loading this page with nbviewer.org.</b></div><div class=\"sk-container\" hidden><div class=\"sk-item sk-dashed-wrapped\"><div class=\"sk-label-container\"><div class=\"sk-label sk-toggleable\"><input class=\"sk-toggleable__control sk-hidden--visually\" id=\"sk-estimator-id-1\" type=\"checkbox\" ><label for=\"sk-estimator-id-1\" class=\"sk-toggleable__label sk-toggleable__label-arrow\">Pipeline</label><div class=\"sk-toggleable__content\"><pre>Pipeline(steps=[(&#x27;features&#x27;,\n",
       "                 FeatureUnion(transformer_list=[(&#x27;description&#x27;,\n",
       "                                                 Pipeline(steps=[(&#x27;imputer&#x27;,\n",
       "                                                                  TextImputer(key=&#x27;description&#x27;,\n",
       "                                                                              value=&#x27;&#x27;)),\n",
       "                                                                 (&#x27;selector&#x27;,\n",
       "                                                                  ColumnSelector(key=&#x27;description&#x27;)),\n",
       "                                                                 (&#x27;tfidf&#x27;,\n",
       "                                                                  TfidfVectorizer())])),\n",
       "                                                (&#x27;company_profile&#x27;,\n",
       "                                                 Pipeline(steps=[(&#x27;imputer&#x27;,\n",
       "                                                                  TextImputer(key=&#x27;company_profile&#x27;,\n",
       "                                                                              value=&#x27;&#x27;)),\n",
       "                                                                 (&#x27;selector&#x27;,\n",
       "                                                                  ColumnSelector(key=&#x27;company_profile&#x27;)),\n",
       "                                                                 (&#x27;tfidf&#x27;,\n",
       "                                                                  TfidfVectorizer())])),\n",
       "                                                (&#x27;benefits&#x27;,\n",
       "                                                 Pipeline(steps=[(&#x27;imputer&#x27;,\n",
       "                                                                  TextImputer(key=&#x27;benefits&#x27;,\n",
       "                                                                              value=&#x27;&#x27;)),\n",
       "                                                                 (&#x27;selector&#x27;,\n",
       "                                                                  ColumnSelector(key=&#x27;benefits&#x27;)),\n",
       "                                                                 (&#x27;tfidf&#x27;,\n",
       "                                                                  TfidfVectorizer())]))])),\n",
       "                (&#x27;classifier&#x27;, LogisticRegression())])</pre></div></div></div><div class=\"sk-serial\"><div class=\"sk-item sk-dashed-wrapped\"><div class=\"sk-label-container\"><div class=\"sk-label sk-toggleable\"><input class=\"sk-toggleable__control sk-hidden--visually\" id=\"sk-estimator-id-2\" type=\"checkbox\" ><label for=\"sk-estimator-id-2\" class=\"sk-toggleable__label sk-toggleable__label-arrow\">features: FeatureUnion</label><div class=\"sk-toggleable__content\"><pre>FeatureUnion(transformer_list=[(&#x27;description&#x27;,\n",
       "                                Pipeline(steps=[(&#x27;imputer&#x27;,\n",
       "                                                 TextImputer(key=&#x27;description&#x27;,\n",
       "                                                             value=&#x27;&#x27;)),\n",
       "                                                (&#x27;selector&#x27;,\n",
       "                                                 ColumnSelector(key=&#x27;description&#x27;)),\n",
       "                                                (&#x27;tfidf&#x27;, TfidfVectorizer())])),\n",
       "                               (&#x27;company_profile&#x27;,\n",
       "                                Pipeline(steps=[(&#x27;imputer&#x27;,\n",
       "                                                 TextImputer(key=&#x27;company_profile&#x27;,\n",
       "                                                             value=&#x27;&#x27;)),\n",
       "                                                (&#x27;selector&#x27;,\n",
       "                                                 ColumnSelector(key=&#x27;company_profile&#x27;)),\n",
       "                                                (&#x27;tfidf&#x27;, TfidfVectorizer())])),\n",
       "                               (&#x27;benefits&#x27;,\n",
       "                                Pipeline(steps=[(&#x27;imputer&#x27;,\n",
       "                                                 TextImputer(key=&#x27;benefits&#x27;,\n",
       "                                                             value=&#x27;&#x27;)),\n",
       "                                                (&#x27;selector&#x27;,\n",
       "                                                 ColumnSelector(key=&#x27;benefits&#x27;)),\n",
       "                                                (&#x27;tfidf&#x27;,\n",
       "                                                 TfidfVectorizer())]))])</pre></div></div></div><div class=\"sk-parallel\"><div class=\"sk-parallel-item\"><div class=\"sk-item\"><div class=\"sk-label-container\"><div class=\"sk-label sk-toggleable\"><label>description</label></div></div><div class=\"sk-serial\"><div class=\"sk-item\"><div class=\"sk-serial\"><div class=\"sk-item\"><div class=\"sk-estimator sk-toggleable\"><input class=\"sk-toggleable__control sk-hidden--visually\" id=\"sk-estimator-id-3\" type=\"checkbox\" ><label for=\"sk-estimator-id-3\" class=\"sk-toggleable__label sk-toggleable__label-arrow\">TextImputer</label><div class=\"sk-toggleable__content\"><pre>TextImputer(key=&#x27;description&#x27;, value=&#x27;&#x27;)</pre></div></div></div><div class=\"sk-item\"><div class=\"sk-estimator sk-toggleable\"><input class=\"sk-toggleable__control sk-hidden--visually\" id=\"sk-estimator-id-4\" type=\"checkbox\" ><label for=\"sk-estimator-id-4\" class=\"sk-toggleable__label sk-toggleable__label-arrow\">ColumnSelector</label><div class=\"sk-toggleable__content\"><pre>ColumnSelector(key=&#x27;description&#x27;)</pre></div></div></div><div class=\"sk-item\"><div class=\"sk-estimator sk-toggleable\"><input class=\"sk-toggleable__control sk-hidden--visually\" id=\"sk-estimator-id-5\" type=\"checkbox\" ><label for=\"sk-estimator-id-5\" class=\"sk-toggleable__label sk-toggleable__label-arrow\">TfidfVectorizer</label><div class=\"sk-toggleable__content\"><pre>TfidfVectorizer()</pre></div></div></div></div></div></div></div></div><div class=\"sk-parallel-item\"><div class=\"sk-item\"><div class=\"sk-label-container\"><div class=\"sk-label sk-toggleable\"><label>company_profile</label></div></div><div class=\"sk-serial\"><div class=\"sk-item\"><div class=\"sk-serial\"><div class=\"sk-item\"><div class=\"sk-estimator sk-toggleable\"><input class=\"sk-toggleable__control sk-hidden--visually\" id=\"sk-estimator-id-6\" type=\"checkbox\" ><label for=\"sk-estimator-id-6\" class=\"sk-toggleable__label sk-toggleable__label-arrow\">TextImputer</label><div class=\"sk-toggleable__content\"><pre>TextImputer(key=&#x27;company_profile&#x27;, value=&#x27;&#x27;)</pre></div></div></div><div class=\"sk-item\"><div class=\"sk-estimator sk-toggleable\"><input class=\"sk-toggleable__control sk-hidden--visually\" id=\"sk-estimator-id-7\" type=\"checkbox\" ><label for=\"sk-estimator-id-7\" class=\"sk-toggleable__label sk-toggleable__label-arrow\">ColumnSelector</label><div class=\"sk-toggleable__content\"><pre>ColumnSelector(key=&#x27;company_profile&#x27;)</pre></div></div></div><div class=\"sk-item\"><div class=\"sk-estimator sk-toggleable\"><input class=\"sk-toggleable__control sk-hidden--visually\" id=\"sk-estimator-id-8\" type=\"checkbox\" ><label for=\"sk-estimator-id-8\" class=\"sk-toggleable__label sk-toggleable__label-arrow\">TfidfVectorizer</label><div class=\"sk-toggleable__content\"><pre>TfidfVectorizer()</pre></div></div></div></div></div></div></div></div><div class=\"sk-parallel-item\"><div class=\"sk-item\"><div class=\"sk-label-container\"><div class=\"sk-label sk-toggleable\"><label>benefits</label></div></div><div class=\"sk-serial\"><div class=\"sk-item\"><div class=\"sk-serial\"><div class=\"sk-item\"><div class=\"sk-estimator sk-toggleable\"><input class=\"sk-toggleable__control sk-hidden--visually\" id=\"sk-estimator-id-9\" type=\"checkbox\" ><label for=\"sk-estimator-id-9\" class=\"sk-toggleable__label sk-toggleable__label-arrow\">TextImputer</label><div class=\"sk-toggleable__content\"><pre>TextImputer(key=&#x27;benefits&#x27;, value=&#x27;&#x27;)</pre></div></div></div><div class=\"sk-item\"><div class=\"sk-estimator sk-toggleable\"><input class=\"sk-toggleable__control sk-hidden--visually\" id=\"sk-estimator-id-10\" type=\"checkbox\" ><label for=\"sk-estimator-id-10\" class=\"sk-toggleable__label sk-toggleable__label-arrow\">ColumnSelector</label><div class=\"sk-toggleable__content\"><pre>ColumnSelector(key=&#x27;benefits&#x27;)</pre></div></div></div><div class=\"sk-item\"><div class=\"sk-estimator sk-toggleable\"><input class=\"sk-toggleable__control sk-hidden--visually\" id=\"sk-estimator-id-11\" type=\"checkbox\" ><label for=\"sk-estimator-id-11\" class=\"sk-toggleable__label sk-toggleable__label-arrow\">TfidfVectorizer</label><div class=\"sk-toggleable__content\"><pre>TfidfVectorizer()</pre></div></div></div></div></div></div></div></div></div></div><div class=\"sk-item\"><div class=\"sk-estimator sk-toggleable\"><input class=\"sk-toggleable__control sk-hidden--visually\" id=\"sk-estimator-id-12\" type=\"checkbox\" ><label for=\"sk-estimator-id-12\" class=\"sk-toggleable__label sk-toggleable__label-arrow\">LogisticRegression</label><div class=\"sk-toggleable__content\"><pre>LogisticRegression()</pre></div></div></div></div></div></div></div>"
      ],
      "text/plain": [
       "Pipeline(steps=[('features',\n",
       "                 FeatureUnion(transformer_list=[('description',\n",
       "                                                 Pipeline(steps=[('imputer',\n",
       "                                                                  TextImputer(key='description',\n",
       "                                                                              value='')),\n",
       "                                                                 ('selector',\n",
       "                                                                  ColumnSelector(key='description')),\n",
       "                                                                 ('tfidf',\n",
       "                                                                  TfidfVectorizer())])),\n",
       "                                                ('company_profile',\n",
       "                                                 Pipeline(steps=[('imputer',\n",
       "                                                                  TextImputer(key='company_profile',\n",
       "                                                                              value='')),\n",
       "                                                                 ('selector',\n",
       "                                                                  ColumnSelector(key='company_profile')),\n",
       "                                                                 ('tfidf',\n",
       "                                                                  TfidfVectorizer())])),\n",
       "                                                ('benefits',\n",
       "                                                 Pipeline(steps=[('imputer',\n",
       "                                                                  TextImputer(key='benefits',\n",
       "                                                                              value='')),\n",
       "                                                                 ('selector',\n",
       "                                                                  ColumnSelector(key='benefits')),\n",
       "                                                                 ('tfidf',\n",
       "                                                                  TfidfVectorizer())]))])),\n",
       "                ('classifier', LogisticRegression())])"
      ]
     },
     "execution_count": 9,
     "metadata": {},
     "output_type": "execute_result"
    }
   ],
   "source": [
    "%%time\n",
    "\n",
    "pipeline = Pipeline([\n",
    "    ('features', feats),\n",
    "    ('classifier', LogisticRegression()),\n",
    "])\n",
    "\n",
    "pipeline.fit(X_train, y_train)"
   ]
  },
  {
   "cell_type": "markdown",
   "metadata": {
    "id": "PJjFDr7CGrtx"
   },
   "source": [
    "Посмотрим, как выглядит наш pipeline"
   ]
  },
  {
   "cell_type": "code",
   "execution_count": 10,
   "metadata": {
    "colab": {
     "base_uri": "https://localhost:8080/"
    },
    "id": "mrekox0QGrty",
    "outputId": "ca46459b-9c20-4b94-9bab-c01c16c4078e"
   },
   "outputs": [
    {
     "data": {
      "text/plain": [
       "[('features',\n",
       "  FeatureUnion(transformer_list=[('description',\n",
       "                                  Pipeline(steps=[('imputer',\n",
       "                                                   TextImputer(key='description',\n",
       "                                                               value='')),\n",
       "                                                  ('selector',\n",
       "                                                   ColumnSelector(key='description')),\n",
       "                                                  ('tfidf', TfidfVectorizer())])),\n",
       "                                 ('company_profile',\n",
       "                                  Pipeline(steps=[('imputer',\n",
       "                                                   TextImputer(key='company_profile',\n",
       "                                                               value='')),\n",
       "                                                  ('selector',\n",
       "                                                   ColumnSelector(key='company_profile')),\n",
       "                                                  ('tfidf', TfidfVectorizer())])),\n",
       "                                 ('benefits',\n",
       "                                  Pipeline(steps=[('imputer',\n",
       "                                                   TextImputer(key='benefits',\n",
       "                                                               value='')),\n",
       "                                                  ('selector',\n",
       "                                                   ColumnSelector(key='benefits')),\n",
       "                                                  ('tfidf',\n",
       "                                                   TfidfVectorizer())]))])),\n",
       " ('classifier', LogisticRegression())]"
      ]
     },
     "execution_count": 10,
     "metadata": {},
     "output_type": "execute_result"
    }
   ],
   "source": [
    "pipeline.steps"
   ]
  },
  {
   "cell_type": "markdown",
   "metadata": {
    "id": "blNARG08Grtz"
   },
   "source": [
    "Сохраним модель (пайплайн)"
   ]
  },
  {
   "cell_type": "code",
   "execution_count": 11,
   "metadata": {
    "id": "u9ENN-zdGrt1"
   },
   "outputs": [],
   "source": [
    "with open(\"logreg_pipeline.dill\", \"wb\") as f:\n",
    "    dill.dump(pipeline, f)"
   ]
  },
  {
   "cell_type": "markdown",
   "metadata": {
    "id": "dbm98jEM2Gr8"
   },
   "source": [
    "# Step 2 - PREDICT"
   ]
  },
  {
   "cell_type": "markdown",
   "metadata": {
    "id": "LxGmuf_z24B5"
   },
   "source": [
    "### Проверка работоспособности и качества пайплайна\n",
    "\n",
    "Здесь мы еще не запускаем никакое API, а загружаем модель (pipeline) напрямую и проверяем на отложенной (тестовой) выборке"
   ]
  },
  {
   "cell_type": "code",
   "execution_count": 12,
   "metadata": {
    "id": "ChYPxDk_24CD"
   },
   "outputs": [],
   "source": [
    "X_test = pd.read_csv(\"X_test.csv\")\n",
    "y_test = pd.read_csv(\"y_test.csv\")"
   ]
  },
  {
   "cell_type": "code",
   "execution_count": 13,
   "metadata": {
    "colab": {
     "base_uri": "https://localhost:8080/",
     "height": 416
    },
    "id": "WBr-fIkQ24CE",
    "outputId": "d69a1808-4dfb-4783-fa2c-d820c0b7812c",
    "scrolled": true
   },
   "outputs": [
    {
     "data": {
      "text/html": [
       "<div>\n",
       "<style scoped>\n",
       "    .dataframe tbody tr th:only-of-type {\n",
       "        vertical-align: middle;\n",
       "    }\n",
       "\n",
       "    .dataframe tbody tr th {\n",
       "        vertical-align: top;\n",
       "    }\n",
       "\n",
       "    .dataframe thead th {\n",
       "        text-align: right;\n",
       "    }\n",
       "</style>\n",
       "<table border=\"1\" class=\"dataframe\">\n",
       "  <thead>\n",
       "    <tr style=\"text-align: right;\">\n",
       "      <th></th>\n",
       "      <th>job_id</th>\n",
       "      <th>title</th>\n",
       "      <th>location</th>\n",
       "      <th>department</th>\n",
       "      <th>salary_range</th>\n",
       "      <th>company_profile</th>\n",
       "      <th>description</th>\n",
       "      <th>requirements</th>\n",
       "      <th>benefits</th>\n",
       "      <th>telecommuting</th>\n",
       "      <th>has_company_logo</th>\n",
       "      <th>has_questions</th>\n",
       "      <th>employment_type</th>\n",
       "      <th>required_experience</th>\n",
       "      <th>required_education</th>\n",
       "      <th>industry</th>\n",
       "      <th>function</th>\n",
       "      <th>fraudulent</th>\n",
       "    </tr>\n",
       "  </thead>\n",
       "  <tbody>\n",
       "    <tr>\n",
       "      <th>0</th>\n",
       "      <td>4709</td>\n",
       "      <td>Python Engineer</td>\n",
       "      <td>GB, , London</td>\n",
       "      <td>NaN</td>\n",
       "      <td>NaN</td>\n",
       "      <td>NaN</td>\n",
       "      <td>Stylect is a dynamic startup that helps helps ...</td>\n",
       "      <td>We don’t care where you studied or what your G...</td>\n",
       "      <td>We are negotiable on salary and there is the p...</td>\n",
       "      <td>0</td>\n",
       "      <td>1</td>\n",
       "      <td>0</td>\n",
       "      <td>Full-time</td>\n",
       "      <td>Entry level</td>\n",
       "      <td>Unspecified</td>\n",
       "      <td>Apparel &amp; Fashion</td>\n",
       "      <td>Information Technology</td>\n",
       "      <td>0</td>\n",
       "    </tr>\n",
       "    <tr>\n",
       "      <th>1</th>\n",
       "      <td>11080</td>\n",
       "      <td>Entry Level Sales</td>\n",
       "      <td>US, OH, Cincinnati</td>\n",
       "      <td>NaN</td>\n",
       "      <td>55000-75000</td>\n",
       "      <td>NaN</td>\n",
       "      <td>General Summary: Achieves maximum sales profit...</td>\n",
       "      <td>NaN</td>\n",
       "      <td>Great Health and DentalFast Advancement Opport...</td>\n",
       "      <td>1</td>\n",
       "      <td>0</td>\n",
       "      <td>0</td>\n",
       "      <td>Full-time</td>\n",
       "      <td>Entry level</td>\n",
       "      <td>High School or equivalent</td>\n",
       "      <td>Financial Services</td>\n",
       "      <td>Sales</td>\n",
       "      <td>0</td>\n",
       "    </tr>\n",
       "    <tr>\n",
       "      <th>2</th>\n",
       "      <td>12358</td>\n",
       "      <td>Agile Project Manager</td>\n",
       "      <td>US, NY, New York</td>\n",
       "      <td>NaN</td>\n",
       "      <td>NaN</td>\n",
       "      <td>ustwo offers you the opportunity to be yoursel...</td>\n",
       "      <td>At ustwo™ you get to be yourself, whilst deliv...</td>\n",
       "      <td>Skills• Experience interfacing directly with c...</td>\n",
       "      <td>NaN</td>\n",
       "      <td>0</td>\n",
       "      <td>1</td>\n",
       "      <td>0</td>\n",
       "      <td>NaN</td>\n",
       "      <td>NaN</td>\n",
       "      <td>NaN</td>\n",
       "      <td>NaN</td>\n",
       "      <td>NaN</td>\n",
       "      <td>0</td>\n",
       "    </tr>\n",
       "  </tbody>\n",
       "</table>\n",
       "</div>"
      ],
      "text/plain": [
       "   job_id                  title            location department salary_range  \\\n",
       "0    4709        Python Engineer        GB, , London        NaN          NaN   \n",
       "1   11080      Entry Level Sales  US, OH, Cincinnati        NaN  55000-75000   \n",
       "2   12358  Agile Project Manager    US, NY, New York        NaN          NaN   \n",
       "\n",
       "                                     company_profile  \\\n",
       "0                                                NaN   \n",
       "1                                                NaN   \n",
       "2  ustwo offers you the opportunity to be yoursel...   \n",
       "\n",
       "                                         description  \\\n",
       "0  Stylect is a dynamic startup that helps helps ...   \n",
       "1  General Summary: Achieves maximum sales profit...   \n",
       "2  At ustwo™ you get to be yourself, whilst deliv...   \n",
       "\n",
       "                                        requirements  \\\n",
       "0  We don’t care where you studied or what your G...   \n",
       "1                                                NaN   \n",
       "2  Skills• Experience interfacing directly with c...   \n",
       "\n",
       "                                            benefits  telecommuting  \\\n",
       "0  We are negotiable on salary and there is the p...              0   \n",
       "1  Great Health and DentalFast Advancement Opport...              1   \n",
       "2                                                NaN              0   \n",
       "\n",
       "   has_company_logo  has_questions employment_type required_experience  \\\n",
       "0                 1              0       Full-time         Entry level   \n",
       "1                 0              0       Full-time         Entry level   \n",
       "2                 1              0             NaN                 NaN   \n",
       "\n",
       "          required_education            industry                function  \\\n",
       "0                Unspecified   Apparel & Fashion  Information Technology   \n",
       "1  High School or equivalent  Financial Services                   Sales   \n",
       "2                        NaN                 NaN                     NaN   \n",
       "\n",
       "   fraudulent  \n",
       "0           0  \n",
       "1           0  \n",
       "2           0  "
      ]
     },
     "execution_count": 13,
     "metadata": {},
     "output_type": "execute_result"
    }
   ],
   "source": [
    "X_test.head(3)"
   ]
  },
  {
   "cell_type": "code",
   "execution_count": 14,
   "metadata": {
    "id": "SeqnhORg24CF"
   },
   "outputs": [],
   "source": [
    "with open('logreg_pipeline.dill', 'rb') as in_strm:\n",
    "    pipeline = dill.load(in_strm)"
   ]
  },
  {
   "cell_type": "code",
   "execution_count": 15,
   "metadata": {
    "colab": {
     "base_uri": "https://localhost:8080/"
    },
    "id": "ECgyPbnw6GoR",
    "outputId": "eec765f1-e3b0-44d6-d111-764c57568bde"
   },
   "outputs": [
    {
     "data": {
      "text/html": [
       "<style>#sk-container-id-2 {color: black;background-color: white;}#sk-container-id-2 pre{padding: 0;}#sk-container-id-2 div.sk-toggleable {background-color: white;}#sk-container-id-2 label.sk-toggleable__label {cursor: pointer;display: block;width: 100%;margin-bottom: 0;padding: 0.3em;box-sizing: border-box;text-align: center;}#sk-container-id-2 label.sk-toggleable__label-arrow:before {content: \"▸\";float: left;margin-right: 0.25em;color: #696969;}#sk-container-id-2 label.sk-toggleable__label-arrow:hover:before {color: black;}#sk-container-id-2 div.sk-estimator:hover label.sk-toggleable__label-arrow:before {color: black;}#sk-container-id-2 div.sk-toggleable__content {max-height: 0;max-width: 0;overflow: hidden;text-align: left;background-color: #f0f8ff;}#sk-container-id-2 div.sk-toggleable__content pre {margin: 0.2em;color: black;border-radius: 0.25em;background-color: #f0f8ff;}#sk-container-id-2 input.sk-toggleable__control:checked~div.sk-toggleable__content {max-height: 200px;max-width: 100%;overflow: auto;}#sk-container-id-2 input.sk-toggleable__control:checked~label.sk-toggleable__label-arrow:before {content: \"▾\";}#sk-container-id-2 div.sk-estimator input.sk-toggleable__control:checked~label.sk-toggleable__label {background-color: #d4ebff;}#sk-container-id-2 div.sk-label input.sk-toggleable__control:checked~label.sk-toggleable__label {background-color: #d4ebff;}#sk-container-id-2 input.sk-hidden--visually {border: 0;clip: rect(1px 1px 1px 1px);clip: rect(1px, 1px, 1px, 1px);height: 1px;margin: -1px;overflow: hidden;padding: 0;position: absolute;width: 1px;}#sk-container-id-2 div.sk-estimator {font-family: monospace;background-color: #f0f8ff;border: 1px dotted black;border-radius: 0.25em;box-sizing: border-box;margin-bottom: 0.5em;}#sk-container-id-2 div.sk-estimator:hover {background-color: #d4ebff;}#sk-container-id-2 div.sk-parallel-item::after {content: \"\";width: 100%;border-bottom: 1px solid gray;flex-grow: 1;}#sk-container-id-2 div.sk-label:hover label.sk-toggleable__label {background-color: #d4ebff;}#sk-container-id-2 div.sk-serial::before {content: \"\";position: absolute;border-left: 1px solid gray;box-sizing: border-box;top: 0;bottom: 0;left: 50%;z-index: 0;}#sk-container-id-2 div.sk-serial {display: flex;flex-direction: column;align-items: center;background-color: white;padding-right: 0.2em;padding-left: 0.2em;position: relative;}#sk-container-id-2 div.sk-item {position: relative;z-index: 1;}#sk-container-id-2 div.sk-parallel {display: flex;align-items: stretch;justify-content: center;background-color: white;position: relative;}#sk-container-id-2 div.sk-item::before, #sk-container-id-2 div.sk-parallel-item::before {content: \"\";position: absolute;border-left: 1px solid gray;box-sizing: border-box;top: 0;bottom: 0;left: 50%;z-index: -1;}#sk-container-id-2 div.sk-parallel-item {display: flex;flex-direction: column;z-index: 1;position: relative;background-color: white;}#sk-container-id-2 div.sk-parallel-item:first-child::after {align-self: flex-end;width: 50%;}#sk-container-id-2 div.sk-parallel-item:last-child::after {align-self: flex-start;width: 50%;}#sk-container-id-2 div.sk-parallel-item:only-child::after {width: 0;}#sk-container-id-2 div.sk-dashed-wrapped {border: 1px dashed gray;margin: 0 0.4em 0.5em 0.4em;box-sizing: border-box;padding-bottom: 0.4em;background-color: white;}#sk-container-id-2 div.sk-label label {font-family: monospace;font-weight: bold;display: inline-block;line-height: 1.2em;}#sk-container-id-2 div.sk-label-container {text-align: center;}#sk-container-id-2 div.sk-container {/* jupyter's `normalize.less` sets `[hidden] { display: none; }` but bootstrap.min.css set `[hidden] { display: none !important; }` so we also need the `!important` here to be able to override the default hidden behavior on the sphinx rendered scikit-learn.org. See: https://github.com/scikit-learn/scikit-learn/issues/21755 */display: inline-block !important;position: relative;}#sk-container-id-2 div.sk-text-repr-fallback {display: none;}</style><div id=\"sk-container-id-2\" class=\"sk-top-container\"><div class=\"sk-text-repr-fallback\"><pre>Pipeline(steps=[(&#x27;features&#x27;,\n",
       "                 FeatureUnion(transformer_list=[(&#x27;description&#x27;,\n",
       "                                                 Pipeline(steps=[(&#x27;imputer&#x27;,\n",
       "                                                                  TextImputer(key=&#x27;description&#x27;,\n",
       "                                                                              value=&#x27;&#x27;)),\n",
       "                                                                 (&#x27;selector&#x27;,\n",
       "                                                                  ColumnSelector(key=&#x27;description&#x27;)),\n",
       "                                                                 (&#x27;tfidf&#x27;,\n",
       "                                                                  TfidfVectorizer())])),\n",
       "                                                (&#x27;company_profile&#x27;,\n",
       "                                                 Pipeline(steps=[(&#x27;imputer&#x27;,\n",
       "                                                                  TextImputer(key=&#x27;company_profile&#x27;,\n",
       "                                                                              value=&#x27;&#x27;)),\n",
       "                                                                 (&#x27;selector&#x27;,\n",
       "                                                                  ColumnSelector(key=&#x27;company_profile&#x27;)),\n",
       "                                                                 (&#x27;tfidf&#x27;,\n",
       "                                                                  TfidfVectorizer())])),\n",
       "                                                (&#x27;benefits&#x27;,\n",
       "                                                 Pipeline(steps=[(&#x27;imputer&#x27;,\n",
       "                                                                  TextImputer(key=&#x27;benefits&#x27;,\n",
       "                                                                              value=&#x27;&#x27;)),\n",
       "                                                                 (&#x27;selector&#x27;,\n",
       "                                                                  ColumnSelector(key=&#x27;benefits&#x27;)),\n",
       "                                                                 (&#x27;tfidf&#x27;,\n",
       "                                                                  TfidfVectorizer())]))])),\n",
       "                (&#x27;classifier&#x27;, LogisticRegression())])</pre><b>In a Jupyter environment, please rerun this cell to show the HTML representation or trust the notebook. <br />On GitHub, the HTML representation is unable to render, please try loading this page with nbviewer.org.</b></div><div class=\"sk-container\" hidden><div class=\"sk-item sk-dashed-wrapped\"><div class=\"sk-label-container\"><div class=\"sk-label sk-toggleable\"><input class=\"sk-toggleable__control sk-hidden--visually\" id=\"sk-estimator-id-13\" type=\"checkbox\" ><label for=\"sk-estimator-id-13\" class=\"sk-toggleable__label sk-toggleable__label-arrow\">Pipeline</label><div class=\"sk-toggleable__content\"><pre>Pipeline(steps=[(&#x27;features&#x27;,\n",
       "                 FeatureUnion(transformer_list=[(&#x27;description&#x27;,\n",
       "                                                 Pipeline(steps=[(&#x27;imputer&#x27;,\n",
       "                                                                  TextImputer(key=&#x27;description&#x27;,\n",
       "                                                                              value=&#x27;&#x27;)),\n",
       "                                                                 (&#x27;selector&#x27;,\n",
       "                                                                  ColumnSelector(key=&#x27;description&#x27;)),\n",
       "                                                                 (&#x27;tfidf&#x27;,\n",
       "                                                                  TfidfVectorizer())])),\n",
       "                                                (&#x27;company_profile&#x27;,\n",
       "                                                 Pipeline(steps=[(&#x27;imputer&#x27;,\n",
       "                                                                  TextImputer(key=&#x27;company_profile&#x27;,\n",
       "                                                                              value=&#x27;&#x27;)),\n",
       "                                                                 (&#x27;selector&#x27;,\n",
       "                                                                  ColumnSelector(key=&#x27;company_profile&#x27;)),\n",
       "                                                                 (&#x27;tfidf&#x27;,\n",
       "                                                                  TfidfVectorizer())])),\n",
       "                                                (&#x27;benefits&#x27;,\n",
       "                                                 Pipeline(steps=[(&#x27;imputer&#x27;,\n",
       "                                                                  TextImputer(key=&#x27;benefits&#x27;,\n",
       "                                                                              value=&#x27;&#x27;)),\n",
       "                                                                 (&#x27;selector&#x27;,\n",
       "                                                                  ColumnSelector(key=&#x27;benefits&#x27;)),\n",
       "                                                                 (&#x27;tfidf&#x27;,\n",
       "                                                                  TfidfVectorizer())]))])),\n",
       "                (&#x27;classifier&#x27;, LogisticRegression())])</pre></div></div></div><div class=\"sk-serial\"><div class=\"sk-item sk-dashed-wrapped\"><div class=\"sk-label-container\"><div class=\"sk-label sk-toggleable\"><input class=\"sk-toggleable__control sk-hidden--visually\" id=\"sk-estimator-id-14\" type=\"checkbox\" ><label for=\"sk-estimator-id-14\" class=\"sk-toggleable__label sk-toggleable__label-arrow\">features: FeatureUnion</label><div class=\"sk-toggleable__content\"><pre>FeatureUnion(transformer_list=[(&#x27;description&#x27;,\n",
       "                                Pipeline(steps=[(&#x27;imputer&#x27;,\n",
       "                                                 TextImputer(key=&#x27;description&#x27;,\n",
       "                                                             value=&#x27;&#x27;)),\n",
       "                                                (&#x27;selector&#x27;,\n",
       "                                                 ColumnSelector(key=&#x27;description&#x27;)),\n",
       "                                                (&#x27;tfidf&#x27;, TfidfVectorizer())])),\n",
       "                               (&#x27;company_profile&#x27;,\n",
       "                                Pipeline(steps=[(&#x27;imputer&#x27;,\n",
       "                                                 TextImputer(key=&#x27;company_profile&#x27;,\n",
       "                                                             value=&#x27;&#x27;)),\n",
       "                                                (&#x27;selector&#x27;,\n",
       "                                                 ColumnSelector(key=&#x27;company_profile&#x27;)),\n",
       "                                                (&#x27;tfidf&#x27;, TfidfVectorizer())])),\n",
       "                               (&#x27;benefits&#x27;,\n",
       "                                Pipeline(steps=[(&#x27;imputer&#x27;,\n",
       "                                                 TextImputer(key=&#x27;benefits&#x27;,\n",
       "                                                             value=&#x27;&#x27;)),\n",
       "                                                (&#x27;selector&#x27;,\n",
       "                                                 ColumnSelector(key=&#x27;benefits&#x27;)),\n",
       "                                                (&#x27;tfidf&#x27;,\n",
       "                                                 TfidfVectorizer())]))])</pre></div></div></div><div class=\"sk-parallel\"><div class=\"sk-parallel-item\"><div class=\"sk-item\"><div class=\"sk-label-container\"><div class=\"sk-label sk-toggleable\"><label>description</label></div></div><div class=\"sk-serial\"><div class=\"sk-item\"><div class=\"sk-serial\"><div class=\"sk-item\"><div class=\"sk-estimator sk-toggleable\"><input class=\"sk-toggleable__control sk-hidden--visually\" id=\"sk-estimator-id-15\" type=\"checkbox\" ><label for=\"sk-estimator-id-15\" class=\"sk-toggleable__label sk-toggleable__label-arrow\">TextImputer</label><div class=\"sk-toggleable__content\"><pre>TextImputer(key=&#x27;description&#x27;, value=&#x27;&#x27;)</pre></div></div></div><div class=\"sk-item\"><div class=\"sk-estimator sk-toggleable\"><input class=\"sk-toggleable__control sk-hidden--visually\" id=\"sk-estimator-id-16\" type=\"checkbox\" ><label for=\"sk-estimator-id-16\" class=\"sk-toggleable__label sk-toggleable__label-arrow\">ColumnSelector</label><div class=\"sk-toggleable__content\"><pre>ColumnSelector(key=&#x27;description&#x27;)</pre></div></div></div><div class=\"sk-item\"><div class=\"sk-estimator sk-toggleable\"><input class=\"sk-toggleable__control sk-hidden--visually\" id=\"sk-estimator-id-17\" type=\"checkbox\" ><label for=\"sk-estimator-id-17\" class=\"sk-toggleable__label sk-toggleable__label-arrow\">TfidfVectorizer</label><div class=\"sk-toggleable__content\"><pre>TfidfVectorizer()</pre></div></div></div></div></div></div></div></div><div class=\"sk-parallel-item\"><div class=\"sk-item\"><div class=\"sk-label-container\"><div class=\"sk-label sk-toggleable\"><label>company_profile</label></div></div><div class=\"sk-serial\"><div class=\"sk-item\"><div class=\"sk-serial\"><div class=\"sk-item\"><div class=\"sk-estimator sk-toggleable\"><input class=\"sk-toggleable__control sk-hidden--visually\" id=\"sk-estimator-id-18\" type=\"checkbox\" ><label for=\"sk-estimator-id-18\" class=\"sk-toggleable__label sk-toggleable__label-arrow\">TextImputer</label><div class=\"sk-toggleable__content\"><pre>TextImputer(key=&#x27;company_profile&#x27;, value=&#x27;&#x27;)</pre></div></div></div><div class=\"sk-item\"><div class=\"sk-estimator sk-toggleable\"><input class=\"sk-toggleable__control sk-hidden--visually\" id=\"sk-estimator-id-19\" type=\"checkbox\" ><label for=\"sk-estimator-id-19\" class=\"sk-toggleable__label sk-toggleable__label-arrow\">ColumnSelector</label><div class=\"sk-toggleable__content\"><pre>ColumnSelector(key=&#x27;company_profile&#x27;)</pre></div></div></div><div class=\"sk-item\"><div class=\"sk-estimator sk-toggleable\"><input class=\"sk-toggleable__control sk-hidden--visually\" id=\"sk-estimator-id-20\" type=\"checkbox\" ><label for=\"sk-estimator-id-20\" class=\"sk-toggleable__label sk-toggleable__label-arrow\">TfidfVectorizer</label><div class=\"sk-toggleable__content\"><pre>TfidfVectorizer()</pre></div></div></div></div></div></div></div></div><div class=\"sk-parallel-item\"><div class=\"sk-item\"><div class=\"sk-label-container\"><div class=\"sk-label sk-toggleable\"><label>benefits</label></div></div><div class=\"sk-serial\"><div class=\"sk-item\"><div class=\"sk-serial\"><div class=\"sk-item\"><div class=\"sk-estimator sk-toggleable\"><input class=\"sk-toggleable__control sk-hidden--visually\" id=\"sk-estimator-id-21\" type=\"checkbox\" ><label for=\"sk-estimator-id-21\" class=\"sk-toggleable__label sk-toggleable__label-arrow\">TextImputer</label><div class=\"sk-toggleable__content\"><pre>TextImputer(key=&#x27;benefits&#x27;, value=&#x27;&#x27;)</pre></div></div></div><div class=\"sk-item\"><div class=\"sk-estimator sk-toggleable\"><input class=\"sk-toggleable__control sk-hidden--visually\" id=\"sk-estimator-id-22\" type=\"checkbox\" ><label for=\"sk-estimator-id-22\" class=\"sk-toggleable__label sk-toggleable__label-arrow\">ColumnSelector</label><div class=\"sk-toggleable__content\"><pre>ColumnSelector(key=&#x27;benefits&#x27;)</pre></div></div></div><div class=\"sk-item\"><div class=\"sk-estimator sk-toggleable\"><input class=\"sk-toggleable__control sk-hidden--visually\" id=\"sk-estimator-id-23\" type=\"checkbox\" ><label for=\"sk-estimator-id-23\" class=\"sk-toggleable__label sk-toggleable__label-arrow\">TfidfVectorizer</label><div class=\"sk-toggleable__content\"><pre>TfidfVectorizer()</pre></div></div></div></div></div></div></div></div></div></div><div class=\"sk-item\"><div class=\"sk-estimator sk-toggleable\"><input class=\"sk-toggleable__control sk-hidden--visually\" id=\"sk-estimator-id-24\" type=\"checkbox\" ><label for=\"sk-estimator-id-24\" class=\"sk-toggleable__label sk-toggleable__label-arrow\">LogisticRegression</label><div class=\"sk-toggleable__content\"><pre>LogisticRegression()</pre></div></div></div></div></div></div></div>"
      ],
      "text/plain": [
       "Pipeline(steps=[('features',\n",
       "                 FeatureUnion(transformer_list=[('description',\n",
       "                                                 Pipeline(steps=[('imputer',\n",
       "                                                                  TextImputer(key='description',\n",
       "                                                                              value='')),\n",
       "                                                                 ('selector',\n",
       "                                                                  ColumnSelector(key='description')),\n",
       "                                                                 ('tfidf',\n",
       "                                                                  TfidfVectorizer())])),\n",
       "                                                ('company_profile',\n",
       "                                                 Pipeline(steps=[('imputer',\n",
       "                                                                  TextImputer(key='company_profile',\n",
       "                                                                              value='')),\n",
       "                                                                 ('selector',\n",
       "                                                                  ColumnSelector(key='company_profile')),\n",
       "                                                                 ('tfidf',\n",
       "                                                                  TfidfVectorizer())])),\n",
       "                                                ('benefits',\n",
       "                                                 Pipeline(steps=[('imputer',\n",
       "                                                                  TextImputer(key='benefits',\n",
       "                                                                              value='')),\n",
       "                                                                 ('selector',\n",
       "                                                                  ColumnSelector(key='benefits')),\n",
       "                                                                 ('tfidf',\n",
       "                                                                  TfidfVectorizer())]))])),\n",
       "                ('classifier', LogisticRegression())])"
      ]
     },
     "execution_count": 15,
     "metadata": {},
     "output_type": "execute_result"
    }
   ],
   "source": [
    "pipeline"
   ]
  },
  {
   "cell_type": "code",
   "execution_count": 16,
   "metadata": {
    "id": "KisGNNJ824CG"
   },
   "outputs": [],
   "source": [
    "preds = pipeline.predict_proba(X_test)[:, 1]\n",
    "\n",
    "pred_df = pd.DataFrame({'preds': preds})\n",
    "pred_df.to_csv(\"test_predictions.csv\", index=None)"
   ]
  },
  {
   "cell_type": "code",
   "execution_count": 17,
   "metadata": {
    "colab": {
     "base_uri": "https://localhost:8080/"
    },
    "id": "_teu9EeZ6_Mr",
    "outputId": "e5b2bbed-74fb-454b-d760-df5d81aea28e"
   },
   "outputs": [
    {
     "data": {
      "text/plain": [
       "array([0.02602203, 0.04317015, 0.00370601, 0.00112958, 0.00151454,\n",
       "       0.00213981, 0.00256837, 0.00373913, 0.00069803, 0.0122069 ])"
      ]
     },
     "execution_count": 17,
     "metadata": {},
     "output_type": "execute_result"
    }
   ],
   "source": [
    "preds[:10]"
   ]
  },
  {
   "cell_type": "code",
   "execution_count": 18,
   "metadata": {
    "colab": {
     "base_uri": "https://localhost:8080/"
    },
    "id": "svdcO2Ki64wy",
    "outputId": "8759389d-ccfb-407a-81fe-428f8a64b41f"
   },
   "outputs": [
    {
     "name": "stdout",
     "output_type": "stream",
     "text": [
      "Best Threshold=0.20397799406879408, F-Score=0.852, Precision=0.900, Recall=0.809\n"
     ]
    }
   ],
   "source": [
    "precision, recall, thresholds = precision_recall_curve(y_test, preds)\n",
    "\n",
    "fscore = (2 * precision * recall) / (precision + recall)\n",
    "# locate the index of the largest f score\n",
    "ix = np.argmax(fscore)\n",
    "print(f'Best Threshold={thresholds[ix]}, F-Score={fscore[ix]:.3f}, Precision={precision[ix]:.3f}, Recall={recall[ix]:.3f}')"
   ]
  },
  {
   "cell_type": "markdown",
   "metadata": {
    "id": "faRb47TiBvkL"
   },
   "source": [
    "# Step 3 - FLASK"
   ]
  },
  {
   "cell_type": "markdown",
   "metadata": {
    "id": "_KCCtAZqgbI6"
   },
   "source": [
    "## При внедрении"
   ]
  },
  {
   "cell_type": "markdown",
   "metadata": {
    "id": "bwDoeEWdRZUv"
   },
   "source": [
    "**При внедрении необходимо сделать:**\n",
    "*   Определить формат json'а, в котором данные будут приниматься сервисом и отправляться обратно.\n",
    "*   Определить ip-адрес и порт, на который будут поступать данные.\n",
    "*   Создать во Flask необходимые роуты:<br/>\n",
    "    `@app.route('/predict_example', method='POST')`<br/>\n",
    "    `def predict_example():`\n",
    "*   Перенести во Flask все функции преобразования данных,\n",
    "    *   формат данные, приходящих от фронт-системы, может отличаться от формата исторических данных, использовавшихся при построении модели; в результате преобразований данные на вход модели должны поступить ровно в том виде, в каком была обучена модель.\n",
    "*   Загрузить обученные модели.\n",
    "*   Настроить логирование."
   ]
  },
  {
   "cell_type": "markdown",
   "metadata": {
    "id": "koF_iLbj89XC"
   },
   "source": [
    "## Flask\n",
    "\n",
    "Тут будет сервис для обработки запросов на Flask"
   ]
  },
  {
   "cell_type": "markdown",
   "metadata": {
    "id": "bDCtyzx2_-OV"
   },
   "source": [
    "Google Colab предоставляет виртуальную машину, поэтому мы не можем получить доступ к локальному хосту, как это делаем на нашем локальном компьютере при запуске локального веб-сервера. Что мы можем сделать, так это предоставить его общедоступному URL-адресу с помощью ngrok.\n",
    "\n",
    "https://medium.com/@kshitijvijay271199/flask-on-google-colab-f6525986797b"
   ]
  },
  {
   "cell_type": "code",
   "execution_count": 19,
   "metadata": {
    "colab": {
     "base_uri": "https://localhost:8080/"
    },
    "id": "2laQ3An4_06O",
    "outputId": "0db07a11-2fda-4d87-8069-db88dd73760c"
   },
   "outputs": [
    {
     "name": "stderr",
     "output_type": "stream",
     "text": [
      "‘ЁбвҐ¬Ґ ­Ґ г¤ Ґвбп ­ ©вЁ гЄ § ­­л© Їгвм.\n"
     ]
    }
   ],
   "source": [
    "!/Users/lmv/opt/anaconda3/envs/pytorch/bin/pip3 install flask-ngrok"
   ]
  },
  {
   "cell_type": "code",
   "execution_count": 8,
   "metadata": {
    "id": "KaWqHrF2865_"
   },
   "outputs": [],
   "source": [
    "#from flask_ngrok import run_with_ngrok\n",
    "from flask import Flask, request, jsonify\n",
    "import pandas as pd"
   ]
  },
  {
   "cell_type": "markdown",
   "metadata": {
    "id": "jFItfrnskXCW"
   },
   "source": [
    "https://dashboard.ngrok.com/get-started/setup"
   ]
  },
  {
   "cell_type": "code",
   "execution_count": 21,
   "metadata": {
    "colab": {
     "base_uri": "https://localhost:8080/"
    },
    "id": "xZfSSrSyEoav",
    "outputId": "94f368c2-76ba-4bf6-a300-2bb229701731"
   },
   "outputs": [
    {
     "name": "stderr",
     "output_type": "stream",
     "text": [
      "\"wget\" ­Ґ пў«пҐвбп ў­гваҐ­­Ґ© Ё«Ё ў­Ґи­Ґ©\n",
      "Є®¬ ­¤®©, ЁбЇ®«­пҐ¬®© Їа®Ја ¬¬®© Ё«Ё Ї ЄҐв­л¬ д ©«®¬.\n",
      "tar: Error opening archive: Failed to open '/content/ngrok-stable-linux-amd64.tgz'\n",
      "\".\" ­Ґ пў«пҐвбп ў­гваҐ­­Ґ© Ё«Ё ў­Ґи­Ґ©\n",
      "Є®¬ ­¤®©, ЁбЇ®«­пҐ¬®© Їа®Ја ¬¬®© Ё«Ё Ї ЄҐв­л¬ д ©«®¬.\n",
      "\".\" ­Ґ пў«пҐвбп ў­гваҐ­­Ґ© Ё«Ё ў­Ґи­Ґ©\n",
      "Є®¬ ­¤®©, ЁбЇ®«­пҐ¬®© Їа®Ја ¬¬®© Ё«Ё Ї ЄҐв­л¬ д ©«®¬.\n"
     ]
    }
   ],
   "source": [
    "!wget https://bin.equinox.io/c/4VmDzA7iaHb/ngrok-stable-linux-amd64.tgz\n",
    "!tar -xvf /content/ngrok-stable-linux-amd64.tgz\n",
    "!./ngrok authtoken 25vEpcJ5Ih4vlUp4thEZ9sEA6ZU_3Bnu17gKacRXhF6hLeefc\n",
    "!./ngrok http 80"
   ]
  },
  {
   "cell_type": "code",
   "execution_count": 9,
   "metadata": {
    "colab": {
     "base_uri": "https://localhost:8080/"
    },
    "id": "YKvAxhnG9f6m",
    "outputId": "cc0b992f-ea5a-4cb2-b83d-1888b9d3ef16"
   },
   "outputs": [
    {
     "name": "stdout",
     "output_type": "stream",
     "text": [
      " * Serving Flask app '__main__'\n",
      " * Debug mode: off\n"
     ]
    },
    {
     "name": "stderr",
     "output_type": "stream",
     "text": [
      "WARNING: This is a development server. Do not use it in a production deployment. Use a production WSGI server instead.\n",
      " * Running on http://127.0.0.1:5000\n",
      "Press CTRL+C to quit\n",
      "127.0.0.1 - - [01/May/2023 13:59:32] \"GET / HTTP/1.1\" 404 -\n",
      "127.0.0.1 - - [01/May/2023 13:59:32] \"GET /favicon.ico HTTP/1.1\" 404 -\n",
      "127.0.0.1 - - [01/May/2023 13:59:37] \"GET /predict HTTP/1.1\" 404 -\n",
      "127.0.0.1 - - [01/May/2023 13:59:39] \"GET /a HTTP/1.1\" 200 -\n"
     ]
    }
   ],
   "source": [
    "# Пробный запуск Flask\n",
    "\n",
    "app = Flask(__name__)\n",
    "#run_with_ngrok(app)  # Start ngrok when app is run\n",
    "\n",
    "@app.route(\"/a\")\n",
    "def hello():\n",
    "    return \"Hello World!\"\n",
    "\n",
    "if __name__ == '__main__':\n",
    "    app.run()"
   ]
  },
  {
   "cell_type": "code",
   "execution_count": 22,
   "metadata": {
    "id": "YVdnKbCeUfxX"
   },
   "outputs": [],
   "source": [
    "import pandas as pd\n",
    "import dill"
   ]
  },
  {
   "cell_type": "markdown",
   "metadata": {
    "id": "6Je5vTHecqjm"
   },
   "source": [
    "### **Создаем сервис для обработки запросов к модели**"
   ]
  },
  {
   "cell_type": "code",
   "execution_count": 23,
   "metadata": {
    "id": "KixQ-op0GIpV"
   },
   "outputs": [],
   "source": [
    "# Загружаем обученные модели\n",
    "with open('logreg_pipeline.dill', 'rb') as in_strm:\n",
    "    model = dill.load(in_strm)"
   ]
  },
  {
   "cell_type": "code",
   "execution_count": 24,
   "metadata": {
    "id": "QAyoTMLNVJzn"
   },
   "outputs": [],
   "source": [
    "X_test = pd.read_csv(\"X_test.csv\")\n",
    "y_test = pd.read_csv(\"y_test.csv\")"
   ]
  },
  {
   "cell_type": "markdown",
   "metadata": {
    "id": "aomkZwKfdA08"
   },
   "source": [
    "Запустить сервис и не глушить его, пока работаем "
   ]
  },
  {
   "cell_type": "code",
   "execution_count": 25,
   "metadata": {
    "colab": {
     "base_uri": "https://localhost:8080/"
    },
    "id": "pmii6qPeGInX",
    "outputId": "b760787a-8368-4c6d-e618-31dca3b99845"
   },
   "outputs": [
    {
     "name": "stdout",
     "output_type": "stream",
     "text": [
      " * Serving Flask app '__main__'\n",
      " * Debug mode: off\n"
     ]
    },
    {
     "name": "stderr",
     "output_type": "stream",
     "text": [
      "WARNING: This is a development server. Do not use it in a production deployment. Use a production WSGI server instead.\n",
      " * Running on http://127.0.0.1:5000\n",
      "Press CTRL+C to quit\n",
      "127.0.0.1 - - [26/Apr/2023 19:32:27] \"GET / HTTP/1.1\" 404 -\n"
     ]
    }
   ],
   "source": [
    "# Обработчики и запуск Flask\n",
    "app = Flask(__name__)\n",
    "#run_with_ngrok(app)  # Start ngrok when app is run\n",
    "\n",
    "\n",
    "@app.route(\"/\", methods=[\"GET\"])\n",
    "def general():\n",
    "    return \"Welcome to prediction process\"\n",
    "\n",
    "@app.route('/predict', methods=['POST'])\n",
    "def predict():\n",
    "    data = {\"success\": False}\n",
    "\n",
    "    # ensure an image was properly uploaded to our endpoint\n",
    "    description, company_profile, benefits = \"\", \"\", \"\"\n",
    "    request_json = request.get_json()\n",
    "    \n",
    "    if request_json[\"description\"]:\n",
    "        description = request_json['description']\n",
    "    \n",
    "    if request_json[\"company_profile\"]:\n",
    "        company_profile = request_json['company_profile']\n",
    "                \n",
    "    if request_json[\"benefits\"]:\n",
    "        benefits = request_json['benefits']\n",
    "    \n",
    "    print(description)  \n",
    "    preds = model.predict_proba(pd.DataFrame({\"description\": [description],\n",
    "                                              \"company_profile\": [company_profile],\n",
    "                                              \"benefits\": [benefits]}))\n",
    "    data[\"predictions\"] = preds[:, 1][0]\n",
    "    data[\"description\"] = description\n",
    "        # indicate that the request was a success\n",
    "    data[\"success\"] = True\n",
    "    print('OK')\n",
    "\n",
    "        # return the data dictionary as a JSON response\n",
    "    return jsonify(data)\n",
    "\n",
    "\n",
    "if __name__ == '__main__':\n",
    "    app.run()"
   ]
  },
  {
   "cell_type": "markdown",
   "metadata": {
    "id": "0ZsjyJVGUuAc"
   },
   "source": [
    "Сторона клиента: https://colab.research.google.com/drive/1UK_ToiHKZaZhKt8nZmAlWDIb0Nhz_c5X"
   ]
  },
  {
   "cell_type": "markdown",
   "metadata": {
    "id": "EmNwlDjpUFHb"
   },
   "source": [
    "Тестовый клиент"
   ]
  },
  {
   "cell_type": "code",
   "execution_count": null,
   "metadata": {
    "id": "DiXuQOF6TLh0"
   },
   "outputs": [],
   "source": [
    "# Пример данных\n",
    "description_data, company_profile_data, benefits_data = ( \n",
    "    \"Stylect is a dynamic startup that helps helps women discover and buy shoes. We’re a small team based in London that has previously worked at Google, Techstars, Pixelmator and Rocket Internet.We place a high premium on simplicity no matter what we’re working on (i.e. design, programming, marketing). We’re also a team that ships fast. We built version 1 of our app in a week, the next release (built in a month) was featured in the Apple Appstore Italy as a best new fashion app. Fast release cycles are challenging, but also very fun - which is why we love them.\\xa0As we’ve grown, the projects that we’re working on have grown both in scale and in technical complexity. \\xa0Stylect is looking for someone who can help us improve our backend which gathers product data; analyses/categorizes it; and shows it to thousands of users daily. Each step in the process has unique challenges that demands a strong technical background.\",\n",
    "    \"ustwo offers you the opportunity to be yourself, whilst delivering the best work on the planet for some of the biggest and most innovative brands. A culture thriving on collaboration underpins what is an amazing work smart/ live well environment.We genuinely care about the work that we deliver and the people who help make it all possible. We only invest in projects, people and practices that we believe in, to ensure we remain excited about every opportunity.\",\n",
    "    \"We are negotiable on salary and there is the potential for equity for the right candidate.\"\n",
    ")\n",
    "\n",
    "body = {\n",
    "        'description': description_data, \n",
    "        'company_profile': company_profile_data,\n",
    "        'benefits': benefits_data\n",
    "        }"
   ]
  },
  {
   "cell_type": "code",
   "execution_count": null,
   "metadata": {
    "colab": {
     "base_uri": "https://localhost:8080/"
    },
    "id": "oZMa4-lwS8f7",
    "outputId": "7ea8d937-0251-4a0c-cfa2-19760eb73beb",
    "scrolled": true
   },
   "outputs": [
    {
     "name": "stdout",
     "output_type": "stream",
     "text": [
      "Stylect is a dynamic startup that helps helps women discover and buy shoes. We’re a small team based in London that has previously worked at Google, Techstars, Pixelmator and Rocket Internet.We place a high premium on simplicity no matter what we’re working on (i.e. design, programming, marketing). We’re also a team that ships fast. We built version 1 of our app in a week, the next release (built in a month) was featured in the Apple Appstore Italy as a best new fashion app. Fast release cycles are challenging, but also very fun - which is why we love them. As we’ve grown, the projects that we’re working on have grown both in scale and in technical complexity.  Stylect is looking for someone who can help us improve our backend which gathers product data; analyses/categorizes it; and shows it to thousands of users daily. Each step in the process has unique challenges that demands a strong technical background.\n",
      "OK\n"
     ]
    },
    {
     "data": {
      "text/plain": [
       "{'description': 'Stylect is a dynamic startup that helps helps women discover and buy shoes. We’re a small team based in London that has previously worked at Google, Techstars, Pixelmator and Rocket Internet.We place a high premium on simplicity no matter what we’re working on (i.e. design, programming, marketing). We’re also a team that ships fast. We built version 1 of our app in a week, the next release (built in a month) was featured in the Apple Appstore Italy as a best new fashion app. Fast release cycles are challenging, but also very fun - which is why we love them.\\xa0As we’ve grown, the projects that we’re working on have grown both in scale and in technical complexity. \\xa0Stylect is looking for someone who can help us improve our backend which gathers product data; analyses/categorizes it; and shows it to thousands of users daily. Each step in the process has unique challenges that demands a strong technical background.',\n",
       " 'predictions': 0.001129359819418078,\n",
       " 'success': True}"
      ]
     },
     "execution_count": 32,
     "metadata": {},
     "output_type": "execute_result"
    }
   ],
   "source": [
    "with app.test_client() as t:\n",
    "    response = t.post('/predict', json=body)\n",
    "    json_data = response.get_json()\n",
    "\n",
    "json_data"
   ]
  },
  {
   "cell_type": "markdown",
   "metadata": {
    "id": "FUOlFwX-Wgwl"
   },
   "source": [
    "# Домашнее задание\n",
    "\n",
    "**Стандартная версия**\n",
    "Нужно реализовать rest api на базе flask в google colab.\n",
    "\n",
    "1. выбрать себе датасет (который интересен или нравится больше всего, можно глянуть здесь https://economic-caper-a4c.notion.site/d062c410b90145bca90fc23b1348c813), сделать pipeline (преобразования + модель), сохранить его на диск. Если не хочется пайплайн, то можно без него, но так вам же будет удобнее потом вызывать его из кода сервиса.\n",
    "2. Реализовать ноутбук с сервером\n",
    "3. Реализовать ноутбук с клиентом\n",
    "\n",
    "\n",
    "**Сложная версия**\n",
    "\n",
    "Нужно реализовать rest api на базе flask (пример https://github.com/fimochka-sudo/GB_docker_flask_example)\n",
    "\n",
    "1. выбрать себе датасет (который интересен или нравится больше всего, можно глянуть здесь https://economic-caper-a4c.notion.site/d062c410b90145bca90fc23b1348c813), сделать pipeline (преобразования + модель), сохранить его на диск. Если не хочется пайплайн, то можно без него, но так вам же будет удобнее потом вызывать его из кода сервиса.\n",
    "2. для вашего проекта вам понадобится requirements.txt с пакетами. Можно за основу взять такой файл из проекта выше. Для его установки прям в pycharm можно открыть терминал и сделать pip install -r requirements.txt (находясь в корне проекта)\n",
    "3. итоговый проект должен содержать:\n",
    "    1. каталог app/models/ (здесь модель-пайплайн предобученная либо код обучения модели-пайплайна)\n",
    "    2. файл app/run_server.py (здесь основной код flask-приложения)\n",
    "    3. requirements.txt (список пакетов, которые у вас используются в проекте - в корне проекта)\n",
    "    4. README.md (здесь какое-то описание, что вы делаете, что за данные, как запускать и т.д)\n",
    "    5. *Dockerfile\n",
    "    6. *docker-entrypoint.sh\n",
    "4. *front-end сервис какой-то, который умеет принимать от пользователя введеные данные и ходить в ваш api. На самом деле полезно больше вам, т.к если ваш проект будет далее развиваться (новые модели, интересные подходы), то это хороший пунктик к резюме и в принципе - строчка в портфолио)"
   ]
  },
  {
   "cell_type": "markdown",
   "metadata": {
    "id": "wFFahp63l8XI"
   },
   "source": [
    "## Полезные ссылки:\n",
    "\n",
    "1. датасеты (для полета мысли): https://www.kaggle.com/datasets\n",
    "2. конкурс Сбербанка по недвижимости (можно этот набор данных также взять и обучить модель предсказывать стоимость жилья - неплохой такой сервис может получиться) - https://www.kaggle.com/c/sberbank-russian-housing-market/data Там же и ноутбуки с разными подходами есть.\n",
    "3. минималистичный пример связки keras/flask https://blog.keras.io/building-a-simple-keras-deep-learning-rest-api.html для определения класса картинки\n",
    "4. неплохой такой пример связки docker/flask - https://cloud.croc.ru/blog/byt-v-teme/flask-prilozheniya-v-docker/\n",
    "5. https://www.digitalocean.com/community/tutorials/how-to-build-and-deploy-a-flask-application-using-docker-on-ubuntu-18-04\n",
    "6. https://flask.palletsprojects.com/en/2.1.x/\n"
   ]
  }
 ],
 "metadata": {
  "colab": {
   "provenance": [],
   "toc_visible": true
  },
  "kernelspec": {
   "display_name": "Python 3 (ipykernel)",
   "language": "python",
   "name": "python3"
  },
  "language_info": {
   "codemirror_mode": {
    "name": "ipython",
    "version": 3
   },
   "file_extension": ".py",
   "mimetype": "text/x-python",
   "name": "python",
   "nbconvert_exporter": "python",
   "pygments_lexer": "ipython3",
   "version": "3.10.9"
  }
 },
 "nbformat": 4,
 "nbformat_minor": 1
}
