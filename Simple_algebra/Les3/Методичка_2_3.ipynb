{
  "nbformat": 4,
  "nbformat_minor": 0,
  "metadata": {
    "kernelspec": {
      "display_name": "Python 3",
      "language": "python",
      "name": "python3"
    },
    "language_info": {
      "codemirror_mode": {
        "name": "ipython",
        "version": 3
      },
      "file_extension": ".py",
      "mimetype": "text/x-python",
      "name": "python",
      "nbconvert_exporter": "python",
      "pygments_lexer": "ipython3",
      "version": "3.6.0"
    },
    "colab": {
      "name": "Копия 2.3.ipynb",
      "provenance": [],
      "collapsed_sections": []
    }
  },
  "cells": [
    {
      "cell_type": "code",
      "metadata": {
        "colab": {
          "base_uri": "https://localhost:8080/"
        },
        "id": "UlAsldT6hgjm",
        "outputId": "d0d44ee4-d191-4642-c520-d80f322e0516"
      },
      "source": [
        "from scipy import stats\n",
        "\n",
        "print('Задание 1.')\n",
        "\n",
        "# Провести дисперсионный анализ для определения того, есть ли различия среднего\n",
        "# роста среди взрослых футболистов, хоккеистов и штангистов. Даны значения роста\n",
        "# в трех группах случайно выбранных спортсменов: Футболисты: 173, 175, 180, 178,\n",
        "# 177, 185, 183, 182. Хоккеисты: 177, 179, 180, 188, 177, 172, 171, 184, 180.\n",
        "# Штангисты: 172, 173, 169, 177, 166, 180, 178, 177, 172, 166, 170.\n",
        "\n",
        "footbal = [173, 175, 180, 178, 177, 185, 183, 182]\n",
        "hockey = [177, 179, 180, 188, 177, 172, 171, 184, 180]\n",
        "weightlifter = [172, 173, 169, 177, 166, 180, 178, 177, 172, 166, 170]\n",
        "\n",
        "print(stats.f_oneway(footbal, hockey, weightlifter))\n",
        "print('Значение расчетного коэффициента выше значения табличного, следовательно вид спорта оказывает статистически значимое влияние на рост спортсмена.')"
      ],
      "execution_count": null,
      "outputs": [
        {
          "output_type": "stream",
          "name": "stdout",
          "text": [
            "Задание 1.\n",
            "F_onewayResult(statistic=5.500053450812596, pvalue=0.010482206918698694)\n",
            "Значение расчетного коэффициента выше значения табличного, следовательно вид спорта оказывает статистически значимое влияние на рост спортсмена.\n"
          ]
        }
      ]
    }
  ]
}