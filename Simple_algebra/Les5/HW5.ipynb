{
 "cells": [
  {
   "cell_type": "code",
   "execution_count": 1,
   "metadata": {},
   "outputs": [],
   "source": [
    "import random\n",
    "import numpy as np\n",
    "from matplotlib import pyplot as plt\n",
    "import math\n",
    "import itertools"
   ]
  },
  {
   "cell_type": "markdown",
   "metadata": {},
   "source": [
    "## Задание №1"
   ]
  },
  {
   "cell_type": "code",
   "execution_count": 2,
   "metadata": {},
   "outputs": [
    {
     "name": "stdout",
     "output_type": "stream",
     "text": [
      "Нажмите Enter, чтобы сгенерировать число. Для выхода введите \"exit\" \n",
      "11\n",
      "Нажмите Enter, чтобы сгенерировать число. Для выхода введите \"exit\" \n",
      "24\n",
      "Нажмите Enter, чтобы сгенерировать число. Для выхода введите \"exit\" \n",
      "3\n",
      "Нажмите Enter, чтобы сгенерировать число. Для выхода введите \"exit\" exit\n",
      "Завершаем работу.\n"
     ]
    }
   ],
   "source": [
    "while 1:\n",
    "    a = input('Нажмите Enter, чтобы сгенерировать число. Для выхода введите \"exit\" ')\n",
    "    if a.lower() == \"exit\":\n",
    "        print('Завершаем работу.')\n",
    "        break\n",
    "    print(random.randint(0, 36))    "
   ]
  },
  {
   "cell_type": "markdown",
   "metadata": {},
   "source": [
    "## Задание №2.1"
   ]
  },
  {
   "cell_type": "markdown",
   "metadata": {},
   "source": [
    "Выпадение того или иного числа в рулетке события независимые. Следовательно, должно выполняться P(A+B) = P(A) + P(B).\n",
    "Вероятность выпадения любого числа в рулетке 1/36. Вероятность выпадения двух чисел должна быть равна 1/37 + 1/37 = 2/37"
   ]
  },
  {
   "cell_type": "code",
   "execution_count": 3,
   "metadata": {},
   "outputs": [
    {
     "name": "stdout",
     "output_type": "stream",
     "text": [
      "5581 ≈ 5405.0\n"
     ]
    }
   ],
   "source": [
    "a = np.random.randint(0,36, 100000)\n",
    "theor = ((a == 0).sum() + (a == 1).sum())# Предположим, мы хотим выяснить, с какой веротяностью выпадет либо 0, либо 1\n",
    "real = round(2/37*100000, 0)\n",
    "print(f'{theor} ≈ {real}')"
   ]
  },
  {
   "cell_type": "markdown",
   "metadata": {},
   "source": [
    "## Задание №2.2"
   ]
  },
  {
   "cell_type": "code",
   "execution_count": 4,
   "metadata": {},
   "outputs": [
    {
     "data": {
      "image/png": "[encoded data removed]",
      "text/plain": [
       "<Figure size 432x288 with 1 Axes>"
      ]
     },
     "metadata": {
      "needs_background": "light"
     },
     "output_type": "display_data"
    }
   ],
   "source": [
    "arrays = [np.random.randint(0,10,10000) for i in range(10)]\n",
    "result = np.zeros(10000)\n",
    "for _ in arrays:\n",
    "    result += _\n",
    "plt.hist(result)\n",
    "plt.show()"
   ]
  },
  {
   "cell_type": "markdown",
   "metadata": {},
   "source": [
    "## Задание №3.1-2"
   ]
  },
  {
   "cell_type": "code",
   "execution_count": 5,
   "metadata": {},
   "outputs": [
    {
     "name": "stdout",
     "output_type": "stream",
     "text": [
      "766 0.0766 0.07958923738717877\n"
     ]
    }
   ],
   "source": [
    "k, n, N, result = 50, 100, 10000, 0\n",
    "try_list = [np.random.randint(0, 2, N) for i in range(n)]\n",
    "x = np.zeros(N)\n",
    "for i in try_list:\n",
    "    x += i\n",
    "for i in range(N):\n",
    "    if x[i] == k:\n",
    "        result += 1\n",
    "P = math.factorial(n)/(math.factorial(k)*math.factorial(n-k))*1/2**n\n",
    "print(result, result/N, P)"
   ]
  },
  {
   "cell_type": "markdown",
   "metadata": {},
   "source": [
    "## Задание №4"
   ]
  },
  {
   "cell_type": "code",
   "execution_count": 6,
   "metadata": {},
   "outputs": [
    {
     "name": "stdout",
     "output_type": "stream",
     "text": [
      "60.0 60\n",
      "10.0 10\n"
     ]
    }
   ],
   "source": [
    "n, k = 5, 3\n",
    "permutations = math.factorial(n)/math.factorial(n-k)\n",
    "combinations = math.factorial(n)/(math.factorial(k)*math.factorial(n-k))\n",
    "print(permutations, len([x for x in itertools.permutations('abcde', 3)]))\n",
    "print(combinations, len([x for x in itertools.combinations('abcde', 3)]))"
   ]
  },
  {
   "cell_type": "markdown",
   "metadata": {},
   "source": [
    "## Задание №5"
   ]
  },
  {
   "cell_type": "code",
   "execution_count": 16,
   "metadata": {},
   "outputs": [
    {
     "name": "stdout",
     "output_type": "stream",
     "text": [
      "0.6471144701922726 0.1821087894597531\n",
      "0.6471144701922739 0.1821087894597522\n"
     ]
    },
    {
     "name": "stderr",
     "output_type": "stream",
     "text": [
      "D:\\Install\\Anaconda3\\lib\\site-packages\\ipykernel_launcher.py:17: FutureWarning: `rcond` parameter will change to the default of machine precision times ``max(M, N)`` where M and N are the input matrix dimensions.\n",
      "To use the future default and silence this warning we advise to pass `rcond=None`, to keep using the old, explicitly pass `rcond=-1`.\n"
     ]
    },
    {
     "data": {
      "image/png": "[encoded data removed]",
      "text/plain": [
       "<Figure size 432x288 with 1 Axes>"
      ]
     },
     "metadata": {
      "needs_background": "light"
     },
     "output_type": "display_data"
    },
    {
     "name": "stdout",
     "output_type": "stream",
     "text": [
      "0.8423994782782065\n"
     ]
    }
   ],
   "source": [
    "n = 100\n",
    "r = 0.6\n",
    "x = np.random.rand(n)\n",
    "y = r*x + (1 - r)*np.random.rand(n)\n",
    "plt.plot(x, y, 'o')\n",
    "plt.xlabel('x')\n",
    "plt.ylabel('y')\n",
    "plt.grid(True)\n",
    "\n",
    "a = (np.sum(x)*np.sum(y) - n*np.sum(x*y))/(np.sum(x)*np.sum(x) - n*np.sum(x*x))\n",
    "b = (np.sum(y) - a*np.sum(x))/n\n",
    "\n",
    "avg_x, avg_y = np.average(x), np.average(y)\n",
    "R = np.sum((x-avg_x)*(y-avg_y))/np.sqrt(np.sum((x-avg_x)**2)*(np.sum((y-avg_y)**2)))\n",
    "\n",
    "A = np.vstack([x, np.ones(len(x))]).T\n",
    "a1, b1 = np.linalg.lstsq(A, y)[0]\n",
    "print(a, b)\n",
    "print(a1, b1)\n",
    "\n",
    "plt.plot([0, 1], [b, a + b])\n",
    "plt.show()\n",
    "print(R)"
   ]
  }
 ],
 "metadata": {
  "kernelspec": {
   "display_name": "Python 3",
   "language": "python",
   "name": "python3"
  },
  "language_info": {
   "codemirror_mode": {
    "name": "ipython",
    "version": 3
   },
   "file_extension": ".py",
   "mimetype": "text/x-python",
   "name": "python",
   "nbconvert_exporter": "python",
   "pygments_lexer": "ipython3",
   "version": "3.7.4"
  }
 },
 "nbformat": 4,
 "nbformat_minor": 4
}
