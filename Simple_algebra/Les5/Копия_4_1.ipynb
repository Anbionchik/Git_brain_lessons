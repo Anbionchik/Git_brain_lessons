{
 "cells": [
  {
   "cell_type": "code",
   "execution_count": 2,
   "metadata": {
    "id": "Fua95t3FpHHS"
   },
   "outputs": [],
   "source": [
    "%matplotlib inline\n",
    "import numpy as np"
   ]
  },
  {
   "cell_type": "markdown",
   "metadata": {
    "id": "FJay5_3KCFVM"
   },
   "source": []
  },
  {
   "cell_type": "code",
   "execution_count": null,
   "metadata": {
    "id": "syn9-E9il5BE"
   },
   "outputs": [],
   "source": [
    "# !pip install keyboard"
   ]
  },
  {
   "cell_type": "code",
   "execution_count": 4,
   "metadata": {
    "colab": {
     "base_uri": "https://localhost:8080/"
    },
    "id": "6SIaQxfYpHHe",
    "outputId": "3b024d5a-82bd-4090-ed9e-e03f4bd5584d"
   },
   "outputs": [
    {
     "name": "stdout",
     "output_type": "stream",
     "text": [
      "\n",
      "red\n",
      "\n",
      "black\n",
      "\n",
      "red\n",
      "\n",
      "black\n",
      "\n",
      "black\n"
     ]
    }
   ],
   "source": [
    "for i in range(0, 5):\n",
    "    a = input()\n",
    "    num = np.random.uniform(0, 36)\n",
    "    if num==0:\n",
    "        print(\"green\")\n",
    "    elif num<17:\n",
    "        print(\"red\")\n",
    "    else:\n",
    "        print(\"black\")"
   ]
  }
 ],
 "metadata": {
  "colab": {
   "name": "Копия 4.1.ipynb",
   "provenance": []
  },
  "kernelspec": {
   "display_name": "Python 3",
   "language": "python",
   "name": "python3"
  },
  "language_info": {
   "codemirror_mode": {
    "name": "ipython",
    "version": 3
   },
   "file_extension": ".py",
   "mimetype": "text/x-python",
   "name": "python",
   "nbconvert_exporter": "python",
   "pygments_lexer": "ipython3",
   "version": "3.7.4"
  }
 },
 "nbformat": 4,
 "nbformat_minor": 1
}
