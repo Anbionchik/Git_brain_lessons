{
 "cells": [
  {
   "cell_type": "markdown",
   "id": "fa20ab38",
   "metadata": {},
   "source": [
    "## <center>Практическая часть<a class=\"anchor\" id=\"practice\"></a><center>"
   ]
  },
  {
   "cell_type": "code",
   "execution_count": 1,
   "id": "b6a43579",
   "metadata": {
    "colab": {},
    "colab_type": "code",
    "id": "zhwkeWtb1O0w"
   },
   "outputs": [],
   "source": [
    "import numpy as np\n",
    "import matplotlib.pyplot as plt"
   ]
  },
  {
   "cell_type": "code",
   "execution_count": 2,
   "id": "b312edc7",
   "metadata": {
    "colab": {},
    "colab_type": "code",
    "id": "FeKFn2yb1To4"
   },
   "outputs": [],
   "source": [
    "X = np.array([ [   1,    1,  500,    1],\n",
    "               [   1,    1,  700,    1],\n",
    "               [   1,    2,  750,    2],\n",
    "               [   1,    5,  600,    1],\n",
    "               [   1,    3, 1450,    2],\n",
    "               [   1,    0,  800,    1],\n",
    "               [   1,    5, 1500,    3],\n",
    "               [   1,   10, 2000,    3],\n",
    "               [   1,    1,  450,    1],\n",
    "               [   1,    2, 1000,    2]], dtype=np.float64)\n",
    "\n",
    "y = np.array([0, 0, 1, 0, 1, 0, 1, 0, 1, 1], dtype=np.float64)"
   ]
  },
  {
   "cell_type": "code",
   "execution_count": 3,
   "id": "9cb34228",
   "metadata": {
    "colab": {
     "base_uri": "https://localhost:8080/",
     "height": 155
    },
    "colab_type": "code",
    "id": "yXSj4nbxHsFd",
    "outputId": "8d102d54-94bf-4acc-d5b8-d60da152b953",
    "scrolled": true
   },
   "outputs": [
    {
     "data": {
      "text/plain": [
       "array([[1.00e+00, 1.00e+00, 5.00e+02, 1.00e+00],\n",
       "       [1.00e+00, 1.00e+00, 7.00e+02, 1.00e+00],\n",
       "       [1.00e+00, 2.00e+00, 7.50e+02, 2.00e+00],\n",
       "       [1.00e+00, 5.00e+00, 6.00e+02, 1.00e+00],\n",
       "       [1.00e+00, 3.00e+00, 1.45e+03, 2.00e+00],\n",
       "       [1.00e+00, 0.00e+00, 8.00e+02, 1.00e+00],\n",
       "       [1.00e+00, 5.00e+00, 1.50e+03, 3.00e+00],\n",
       "       [1.00e+00, 1.00e+01, 2.00e+03, 3.00e+00],\n",
       "       [1.00e+00, 1.00e+00, 4.50e+02, 1.00e+00],\n",
       "       [1.00e+00, 2.00e+00, 1.00e+03, 2.00e+00]])"
      ]
     },
     "execution_count": 3,
     "metadata": {},
     "output_type": "execute_result"
    }
   ],
   "source": [
    "X"
   ]
  },
  {
   "cell_type": "code",
   "execution_count": 4,
   "id": "5a12a6a2",
   "metadata": {
    "colab": {
     "base_uri": "https://localhost:8080/",
     "height": 34
    },
    "colab_type": "code",
    "id": "QU0A16vZHugZ",
    "outputId": "71d74b95-77f4-41a7-e339-c9e7b2004e4b"
   },
   "outputs": [
    {
     "data": {
      "text/plain": [
       "array([0., 0., 1., 0., 1., 0., 1., 0., 1., 1.])"
      ]
     },
     "execution_count": 4,
     "metadata": {},
     "output_type": "execute_result"
    }
   ],
   "source": [
    "y"
   ]
  },
  {
   "cell_type": "code",
   "execution_count": 5,
   "id": "b4a0a6f0",
   "metadata": {
    "colab": {},
    "colab_type": "code",
    "id": "M-aO1NTxOUfo"
   },
   "outputs": [],
   "source": [
    "def standard_scale(x):\n",
    "    res = (x - x.mean()) / x.std()\n",
    "    return res"
   ]
  },
  {
   "cell_type": "code",
   "execution_count": 6,
   "id": "0590bc53",
   "metadata": {
    "colab": {},
    "colab_type": "code",
    "id": "D8EL0iGJOVpe"
   },
   "outputs": [],
   "source": [
    "X_st = X.copy()\n",
    "X_st[:, 2] = standard_scale(X[:, 2])"
   ]
  },
  {
   "cell_type": "code",
   "execution_count": 7,
   "id": "99aa354a",
   "metadata": {
    "colab": {
     "base_uri": "https://localhost:8080/",
     "height": 155
    },
    "colab_type": "code",
    "id": "gviMxz7EOuI3",
    "outputId": "af9a2576-f4d7-41d7-e216-46e0a068cfad"
   },
   "outputs": [
    {
     "data": {
      "text/plain": [
       "array([[ 1.        ,  1.        , -0.97958969,  1.        ],\n",
       "       [ 1.        ,  1.        , -0.56713087,  1.        ],\n",
       "       [ 1.        ,  2.        , -0.46401617,  2.        ],\n",
       "       [ 1.        ,  5.        , -0.77336028,  1.        ],\n",
       "       [ 1.        ,  3.        ,  0.97958969,  2.        ],\n",
       "       [ 1.        ,  0.        , -0.36090146,  1.        ],\n",
       "       [ 1.        ,  5.        ,  1.08270439,  3.        ],\n",
       "       [ 1.        , 10.        ,  2.11385144,  3.        ],\n",
       "       [ 1.        ,  1.        , -1.08270439,  1.        ],\n",
       "       [ 1.        ,  2.        ,  0.05155735,  2.        ]])"
      ]
     },
     "execution_count": 7,
     "metadata": {},
     "output_type": "execute_result"
    }
   ],
   "source": [
    "X_st"
   ]
  },
  {
   "cell_type": "code",
   "execution_count": 8,
   "id": "dd5e142a",
   "metadata": {
    "colab": {},
    "colab_type": "code",
    "id": "qMR5pOA38dDw"
   },
   "outputs": [],
   "source": [
    "def calc_logloss(y, y_pred):\n",
    "#     Изменения\n",
    "    y_pred_copy = y_pred.astype(\"float64\").copy()\n",
    "    y_pred_copy[y_pred_copy == 0] = 1e-9\n",
    "    y_pred_copy[y_pred_copy == 1] = 1 - 1e-9\n",
    "#     Изменения\n",
    "    err = - np.mean(y * np.log(y_pred_copy) + (1.0 - y) * np.log(1.0 - y_pred_copy))\n",
    "    \n",
    "    return err"
   ]
  },
  {
   "cell_type": "code",
   "execution_count": 9,
   "id": "a44b1ed1",
   "metadata": {
    "colab": {
     "base_uri": "https://localhost:8080/",
     "height": 34
    },
    "colab_type": "code",
    "id": "R6zfOHMrBvnX",
    "outputId": "46df0625-963f-4401-da30-b5b42bcf1be7"
   },
   "outputs": [
    {
     "data": {
      "text/plain": [
       "9.999999722180686e-10"
      ]
     },
     "execution_count": 9,
     "metadata": {},
     "output_type": "execute_result"
    }
   ],
   "source": [
    "# Пример применения\n",
    "y1 = np.array([1, 0])\n",
    "y_pred1 = np.array([1, 0])\n",
    "calc_logloss(y1, y_pred1)"
   ]
  },
  {
   "cell_type": "code",
   "execution_count": 10,
   "id": "43248824",
   "metadata": {},
   "outputs": [
    {
     "data": {
      "text/plain": [
       "20.723265851087376"
      ]
     },
     "execution_count": 10,
     "metadata": {},
     "output_type": "execute_result"
    }
   ],
   "source": [
    "# Плохой пример применения\n",
    "y1 = np.array([1, 0])\n",
    "y_pred1 = np.array([0, 1])\n",
    "calc_logloss(y1, y_pred1)"
   ]
  },
  {
   "cell_type": "code",
   "execution_count": 11,
   "id": "905cdad0",
   "metadata": {},
   "outputs": [],
   "source": [
    "y_pred1[y_pred1 == 0] = 5"
   ]
  },
  {
   "cell_type": "code",
   "execution_count": 12,
   "id": "d66c3bd6",
   "metadata": {},
   "outputs": [
    {
     "data": {
      "text/plain": [
       "array([5., 1.])"
      ]
     },
     "execution_count": 12,
     "metadata": {},
     "output_type": "execute_result"
    }
   ],
   "source": [
    "y_pred1.astype(\"float64\")"
   ]
  },
  {
   "cell_type": "code",
   "execution_count": 13,
   "id": "66f3d68c",
   "metadata": {
    "colab": {},
    "colab_type": "code",
    "id": "EEF9rWPNDnss"
   },
   "outputs": [],
   "source": [
    "def sigmoid(z):\n",
    "    res = 1 / (1 + np.exp(-z))\n",
    "    return res"
   ]
  },
  {
   "cell_type": "code",
   "execution_count": 14,
   "id": "a2997597",
   "metadata": {
    "colab": {},
    "colab_type": "code",
    "id": "_9tN8lBEEeXU"
   },
   "outputs": [],
   "source": [
    "z = np.linspace(-10, 10, 101)"
   ]
  },
  {
   "cell_type": "code",
   "execution_count": 15,
   "id": "c161aadc",
   "metadata": {
    "colab": {},
    "colab_type": "code",
    "id": "nvIe3RpbEp4l"
   },
   "outputs": [],
   "source": [
    "probabilities = sigmoid(z)"
   ]
  },
  {
   "cell_type": "code",
   "execution_count": 16,
   "id": "bfd388dc",
   "metadata": {
    "colab": {
     "base_uri": "https://localhost:8080/",
     "height": 283
    },
    "colab_type": "code",
    "id": "jQsCfht0Et1V",
    "outputId": "0c11fcdd-1cf9-49db-aaa7-4fa520ff840a"
   },
   "outputs": [
    {
     "data": {
      "image/png": "[encoded data removed]",
      "text/plain": [
       "<Figure size 432x288 with 1 Axes>"
      ]
     },
     "metadata": {
      "needs_background": "light"
     },
     "output_type": "display_data"
    }
   ],
   "source": [
    "plt.plot(z, probabilities)\n",
    "plt.show()"
   ]
  },
  {
   "cell_type": "markdown",
   "id": "094233b9",
   "metadata": {
    "colab": {},
    "colab_type": "code",
    "id": "e6TH-mkPItb6"
   },
   "source": [
    "Logistic Regression"
   ]
  },
  {
   "cell_type": "code",
   "execution_count": 17,
   "id": "1edf2f1d",
   "metadata": {
    "colab": {},
    "colab_type": "code",
    "id": "qtgUN3LW-UIq"
   },
   "outputs": [],
   "source": [
    "def eval_model(X, y, iterations, eta=1e-4):\n",
    "    np.random.seed(42)\n",
    "    W = np.random.randn(X.shape[1])\n",
    "    n = X.shape[0]\n",
    "    \n",
    "    for i in range(iterations):\n",
    "        z = np.dot(X, W)\n",
    "        y_pred = sigmoid(z)\n",
    "        err = calc_logloss(y, y_pred)\n",
    "        \n",
    "        dQ = 1/n * X.T @ (y_pred - y)\n",
    "        W -= eta * dQ\n",
    "#         if i % (iterations / 10) == 0:\n",
    "#             print(i, W, err)\n",
    "    return W, err"
   ]
  },
  {
   "cell_type": "code",
   "execution_count": 18,
   "id": "c90b9f32",
   "metadata": {
    "colab": {
     "base_uri": "https://localhost:8080/",
     "height": 190
    },
    "colab_type": "code",
    "id": "oqX7loklBmYZ",
    "outputId": "f4849295-1f14-40d8-c8f2-d1b002e130c5"
   },
   "outputs": [],
   "source": [
    "model = eval_model(X_st, y, iterations=500, eta=1e-4)"
   ]
  },
  {
   "cell_type": "markdown",
   "id": "544c6802",
   "metadata": {},
   "source": [
    "## Домашнее задание <a class='anchor' id='hw'>"
   ]
  },
  {
   "cell_type": "markdown",
   "id": "8affecba",
   "metadata": {},
   "source": [
    "1. *Измените функцию calc_logloss так, чтобы нули по возможности не попадали в np.log."
   ]
  },
  {
   "cell_type": "code",
   "execution_count": 19,
   "id": "4484f36b",
   "metadata": {
    "colab": {},
    "colab_type": "code",
    "id": "qMR5pOA38dDw"
   },
   "outputs": [],
   "source": [
    "def calc_logloss(y, y_pred):\n",
    "#     Изменения\n",
    "    y_pred_copy = y_pred.astype(\"float64\").copy()\n",
    "    y_pred_copy[y_pred_copy == 0] = 1e-9\n",
    "    y_pred_copy[y_pred_copy == 1] = 1 - 1e-9\n",
    "#     Изменения\n",
    "    err = - np.mean(y * np.log(y_pred_copy) + (1.0 - y) * np.log(1.0 - y_pred_copy))\n",
    "    return err"
   ]
  },
  {
   "cell_type": "markdown",
   "id": "3a0abfcc",
   "metadata": {},
   "source": [
    "2. Подберите аргументы функции eval_model для логистической регрессии таким образом, чтобы log loss был минимальным.\n"
   ]
  },
  {
   "cell_type": "code",
   "execution_count": 20,
   "id": "e8587a97",
   "metadata": {},
   "outputs": [],
   "source": [
    "from itertools import product\n",
    "\n",
    "def iterator(func, eta_list, iter_list, X, y):\n",
    "    n = X.shape[0]\n",
    "    array_for_return = []\n",
    "    for eta, n_iter in product(eta_list, iter_list):        \n",
    "        W, err = func(X, y, n_iter, eta)\n",
    "        \n",
    "        print(f'Learning cycle ended with: eta={eta}, n_iter={n_iter},  W = {W}, Logloss = {round(err,2)}')\n",
    "        array_for_return.append([eta, n_iter, err])    \n",
    "    return np.array(array_for_return)"
   ]
  },
  {
   "cell_type": "code",
   "execution_count": 21,
   "id": "e6753c5c",
   "metadata": {},
   "outputs": [
    {
     "data": {
      "text/plain": [
       "[0.01, 0.001, 0.0001, 1e-05, 1e-06, 1e-07]"
      ]
     },
     "metadata": {},
     "output_type": "display_data"
    },
    {
     "data": {
      "text/plain": [
       "array([ 100,  325,  550,  775, 1000])"
      ]
     },
     "metadata": {},
     "output_type": "display_data"
    }
   ],
   "source": [
    "eta_list = [10**x for x in range(-2, -8, -1)]\n",
    "iter_list = np.linspace(100, 1000, 5, dtype=\"int\")\n",
    "\n",
    "display(eta_list)\n",
    "display(iter_list)"
   ]
  },
  {
   "cell_type": "code",
   "execution_count": 22,
   "id": "8c46a509",
   "metadata": {},
   "outputs": [],
   "source": [
    "np.set_printoptions(precision=2)"
   ]
  },
  {
   "cell_type": "code",
   "execution_count": 23,
   "id": "777680ba",
   "metadata": {},
   "outputs": [
    {
     "name": "stderr",
     "output_type": "stream",
     "text": [
      "/tmp/ipykernel_8079/2870899410.py:2: RuntimeWarning: overflow encountered in exp\n",
      "  res = 1 / (1 + np.exp(-z))\n"
     ]
    },
    {
     "name": "stdout",
     "output_type": "stream",
     "text": [
      "Learning cycle ended with: eta=0.01, n_iter=100,  W = [ 0.47 -0.43 -1.1   1.62], Logloss = 10.36\n",
      "Learning cycle ended with: eta=0.01, n_iter=325,  W = [ 0.41 -1.05  3.33  1.86], Logloss = 10.36\n",
      "Learning cycle ended with: eta=0.01, n_iter=550,  W = [ 0.34 -1.7   1.83  2.09], Logloss = 10.36\n",
      "Learning cycle ended with: eta=0.01, n_iter=775,  W = [ 0.28 -2.34  0.33  2.31], Logloss = 10.36\n",
      "Learning cycle ended with: eta=0.01, n_iter=1000,  W = [ 0.21 -2.99 -1.17  2.54], Logloss = 10.36\n",
      "Learning cycle ended with: eta=0.001, n_iter=100,  W = [ 0.49 -0.17  0.35  1.53], Logloss = 81.02\n",
      "Learning cycle ended with: eta=0.001, n_iter=325,  W = [ 0.49 -0.23 -0.11  1.55], Logloss = 10.36\n",
      "Learning cycle ended with: eta=0.001, n_iter=550,  W = [ 0.48 -0.3  -0.33  1.58], Logloss = 10.36\n",
      "Learning cycle ended with: eta=0.001, n_iter=775,  W = [ 0.47 -0.36 -0.13  1.6 ], Logloss = 10.36\n",
      "Learning cycle ended with: eta=0.001, n_iter=1000,  W = [ 0.47 -0.42  0.42  1.62], Logloss = 48.86\n",
      "Learning cycle ended with: eta=0.0001, n_iter=100,  W = [ 0.5  -0.14  0.03  1.52], Logloss = 1.08\n",
      "Learning cycle ended with: eta=0.0001, n_iter=325,  W = [ 0.49 -0.15 -0.01  1.52], Logloss = 13.24\n",
      "Learning cycle ended with: eta=0.0001, n_iter=550,  W = [ 0.49 -0.16  0.03  1.53], Logloss = 1.2\n",
      "Learning cycle ended with: eta=0.0001, n_iter=775,  W = [ 0.49 -0.16 -0.01  1.53], Logloss = 11.83\n",
      "Learning cycle ended with: eta=0.0001, n_iter=1000,  W = [ 0.49 -0.17  0.04  1.53], Logloss = 1.74\n",
      "Learning cycle ended with: eta=1e-05, n_iter=100,  W = [ 0.5  -0.14  0.19  1.52], Logloss = 10.36\n",
      "Learning cycle ended with: eta=1e-05, n_iter=325,  W = [ 4.96e-01 -1.41e-01 -9.43e-04  1.52e+00], Logloss = 0.88\n",
      "Learning cycle ended with: eta=1e-05, n_iter=550,  W = [ 0.5  -0.14 -0.    1.52], Logloss = 0.83\n",
      "Learning cycle ended with: eta=1e-05, n_iter=775,  W = [ 4.96e-01 -1.42e-01 -9.41e-04  1.52e+00], Logloss = 0.88\n",
      "Learning cycle ended with: eta=1e-05, n_iter=1000,  W = [ 0.5  -0.14 -0.    1.52], Logloss = 0.83\n",
      "Learning cycle ended with: eta=1e-06, n_iter=100,  W = [ 0.5  -0.14  0.6   1.52], Logloss = 10.36\n",
      "Learning cycle ended with: eta=1e-06, n_iter=325,  W = [ 0.5  -0.14  0.5   1.52], Logloss = 10.36\n",
      "Learning cycle ended with: eta=1e-06, n_iter=550,  W = [ 0.5  -0.14  0.39  1.52], Logloss = 10.36\n",
      "Learning cycle ended with: eta=1e-06, n_iter=775,  W = [ 0.5  -0.14  0.29  1.52], Logloss = 10.36\n",
      "Learning cycle ended with: eta=1e-06, n_iter=1000,  W = [ 0.5  -0.14  0.19  1.52], Logloss = 10.36\n",
      "Learning cycle ended with: eta=1e-07, n_iter=100,  W = [ 0.5  -0.14  0.64  1.52], Logloss = 10.36\n",
      "Learning cycle ended with: eta=1e-07, n_iter=325,  W = [ 0.5  -0.14  0.63  1.52], Logloss = 10.36\n",
      "Learning cycle ended with: eta=1e-07, n_iter=550,  W = [ 0.5  -0.14  0.62  1.52], Logloss = 10.36\n",
      "Learning cycle ended with: eta=1e-07, n_iter=775,  W = [ 0.5  -0.14  0.61  1.52], Logloss = 10.36\n",
      "Learning cycle ended with: eta=1e-07, n_iter=1000,  W = [ 0.5  -0.14  0.6   1.52], Logloss = 10.36\n"
     ]
    }
   ],
   "source": [
    "arr = iterator(eval_model, eta_list, iter_list, X, y)"
   ]
  },
  {
   "cell_type": "code",
   "execution_count": 24,
   "id": "b4b8a847",
   "metadata": {},
   "outputs": [
    {
     "data": {
      "text/plain": [
       "[(0.0, 20.0)]"
      ]
     },
     "execution_count": 24,
     "metadata": {},
     "output_type": "execute_result"
    },
    {
     "data": {
      "image/png": "[encoded data removed]",
      "text/plain": [
       "<Figure size 1440x720 with 2 Axes>"
      ]
     },
     "metadata": {
      "needs_background": "light"
     },
     "output_type": "display_data"
    }
   ],
   "source": [
    "fig, (ax1, ax2) = plt.subplots(1, 2)\n",
    "fig.set_figheight(10)\n",
    "fig.set_figwidth(20)\n",
    "\n",
    "for eta in eta_list:\n",
    "    ax1.plot(arr[np.where(arr[:,0] == eta)][:,1], arr[np.where(arr[:,0] == eta)][:,2], label=f'eta={eta}')\n",
    "    ax2.plot(arr[np.where(arr[:,0] == eta)][:,1], arr[np.where(arr[:,0] == eta)][:,2], label=f'eta={eta}')\n",
    "\n",
    "for ax in (ax1, ax2):\n",
    "    ax.set(xlabel='n_iterations', ylabel='Logloss')    \n",
    "    ax.legend()\n",
    "\n",
    "ax2.set(ylim=(0,20))"
   ]
  },
  {
   "cell_type": "markdown",
   "id": "5784f39e",
   "metadata": {},
   "source": [
    "**Вывод:** Лучшие результаты по Logloss были получены при eta = 1e-5 и количестве итераций > 300"
   ]
  },
  {
   "cell_type": "markdown",
   "id": "93f7ac5f",
   "metadata": {},
   "source": [
    "3. Создайте функцию calc_pred_proba, возвращающую предсказанную вероятность класса 1 (на вход подаются W, который уже посчитан функцией eval_model и X, на выходе - массив y_pred_proba).\n"
   ]
  },
  {
   "cell_type": "code",
   "execution_count": 25,
   "id": "c3b211a4",
   "metadata": {},
   "outputs": [],
   "source": [
    "def calc_pred_proba(W, X):\n",
    "    y_pred_proba = np.squeeze(sigmoid(np.dot(X, W)))\n",
    "    return y_pred_proba"
   ]
  },
  {
   "cell_type": "code",
   "execution_count": 26,
   "id": "2c6ecb19",
   "metadata": {},
   "outputs": [
    {
     "data": {
      "text/plain": [
       "array([1., 1., 1., 1., 1., 1., 1., 1., 1., 1.])"
      ]
     },
     "execution_count": 26,
     "metadata": {},
     "output_type": "execute_result"
    }
   ],
   "source": [
    "calc_pred_proba(model[0], X)"
   ]
  },
  {
   "cell_type": "markdown",
   "id": "c01f1560",
   "metadata": {},
   "source": [
    "4. Создайте функцию calc_pred, возвращающую предсказанный класс (на вход подаются W, который уже посчитан функцией eval_model и X, на выходе - массив y_pred)."
   ]
  },
  {
   "cell_type": "code",
   "execution_count": 27,
   "id": "5bf5ca39",
   "metadata": {},
   "outputs": [],
   "source": [
    "def calc_pred(W, X, threshold=0.5):\n",
    "    y_pred = np.zeros(X.shape[0])\n",
    "    pred = np.squeeze(sigmoid(np.dot(X, W)))\n",
    "        \n",
    "    for x in range(pred.shape[0]):\n",
    "        if x >= threshold:\n",
    "            y_pred[x] = 1\n",
    "        if x < threshold:\n",
    "            y_pred[x] = 0\n",
    "    return y_pred"
   ]
  },
  {
   "cell_type": "code",
   "execution_count": 28,
   "id": "b292cbef",
   "metadata": {},
   "outputs": [],
   "source": [
    "y_pred = calc_pred(model[0],X)"
   ]
  },
  {
   "cell_type": "markdown",
   "id": "534dd333",
   "metadata": {},
   "source": [
    "5. *Реализуйте функции для подсчета Accuracy, матрицы ошибок, точности и полноты, а также F1 score."
   ]
  },
  {
   "cell_type": "code",
   "execution_count": 29,
   "id": "6cefecb3",
   "metadata": {},
   "outputs": [],
   "source": [
    "def accuracy(y, y_pred):\n",
    "    l = y.shape[0]\n",
    "    return 1.0 / l * sum(y == y_pred)\n",
    "\n",
    "def precision(y, y_pred):\n",
    "    tp = sum(y_pred[y == 1]) \n",
    "    fp = sum(y_pred[y == 0])\n",
    "    return tp / (tp + fp)\n",
    "\n",
    "def recall(y, y_pred):\n",
    "    tp = sum(y_pred[y == 1])\n",
    "    fn = sum(y_pred[y == 1]==0)\n",
    "    return tp / (tp + fn)\n",
    "\n",
    "def f1_score(y, y_pred):\n",
    "    p = precision(y, y_pred)\n",
    "    r = recall(y, y_pred)\n",
    "    return 2 * p * r / (p+r)"
   ]
  },
  {
   "cell_type": "code",
   "execution_count": 30,
   "id": "3373d24f",
   "metadata": {},
   "outputs": [
    {
     "name": "stdout",
     "output_type": "stream",
     "text": [
      "0.6000000000000001\n",
      "0.5555555555555556\n",
      "1.0\n",
      "0.7142857142857143\n"
     ]
    }
   ],
   "source": [
    "print(accuracy(y, y_pred))\n",
    "print(precision(y, y_pred))\n",
    "print(recall(y, y_pred))\n",
    "print(f1_score(y, y_pred))"
   ]
  },
  {
   "cell_type": "markdown",
   "id": "835fb562",
   "metadata": {},
   "source": [
    "6. Могла ли модель переобучиться? Почему?"
   ]
  },
  {
   "cell_type": "markdown",
   "id": "8ba132b5",
   "metadata": {},
   "source": [
    "Не могла, так как модель линейна"
   ]
  }
 ],
 "metadata": {
  "kernelspec": {
   "display_name": "Python 3 (ipykernel)",
   "language": "python",
   "name": "python3"
  },
  "language_info": {
   "codemirror_mode": {
    "name": "ipython",
    "version": 3
   },
   "file_extension": ".py",
   "mimetype": "text/x-python",
   "name": "python",
   "nbconvert_exporter": "python",
   "pygments_lexer": "ipython3",
   "version": "3.9.12"
  }
 },
 "nbformat": 4,
 "nbformat_minor": 5
}
