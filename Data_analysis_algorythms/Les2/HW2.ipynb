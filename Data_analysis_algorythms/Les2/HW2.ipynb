{
 "cells": [
  {
   "cell_type": "markdown",
   "id": "be15a706",
   "metadata": {},
   "source": [
    "## Домашнее задание <a class='anchor' id='hw'>"
   ]
  },
  {
   "cell_type": "code",
   "execution_count": 1,
   "id": "205066e3",
   "metadata": {},
   "outputs": [],
   "source": [
    "import numpy as np\n",
    "from sklearn import datasets\n",
    "import matplotlib.pyplot as plt\n",
    "\n",
    "%matplotlib inline\n",
    "import warnings\n",
    "warnings.filterwarnings('ignore')"
   ]
  },
  {
   "cell_type": "code",
   "execution_count": 2,
   "id": "a4cfd6e6",
   "metadata": {
    "colab": {},
    "colab_type": "code",
    "id": "VDpN7UxYnrcS"
   },
   "outputs": [],
   "source": [
    "def calc_mse(y, y_pred):\n",
    "    err = np.mean((y - y_pred)**2)\n",
    "    return err"
   ]
  },
  {
   "cell_type": "code",
   "execution_count": 3,
   "id": "30ec1fad",
   "metadata": {},
   "outputs": [],
   "source": [
    "def min_max_scale(X):\n",
    "    return (X - X.min()) / (X.max() - X.min())\n",
    "def standard_scale(X):\n",
    "    mean = X.mean()\n",
    "    std = X.std()\n",
    "    return (X - mean) / std"
   ]
  },
  {
   "cell_type": "code",
   "execution_count": 4,
   "id": "df6fda63",
   "metadata": {
    "colab": {},
    "colab_type": "code",
    "id": "_n6il-AZaLuA"
   },
   "outputs": [],
   "source": [
    "X = np.array([[   1,    1,  500,    1],\n",
    "              [   1,    1,  700,    1],\n",
    "              [   1,    2,  750,    2],\n",
    "              [   1,    5,  600,    1],\n",
    "              [   1,    3, 1450,    2],\n",
    "              [   1,    0,  800,    1],\n",
    "              [   1,    5, 1500,    3],\n",
    "              [   1,   10, 2000,    3],\n",
    "              [   1,    1,  450,    1],\n",
    "              [   1,    2, 1000,    2]])"
   ]
  },
  {
   "cell_type": "code",
   "execution_count": 5,
   "id": "68a245a9",
   "metadata": {},
   "outputs": [],
   "source": [
    "X_st = X.copy().astype(np.float64)\n",
    "X_st[:, 1] = standard_scale(X_st[:, 1])\n",
    "X_st[:, 2] = standard_scale(X_st[:, 2])\n",
    "X_st[:, 3] = standard_scale(X_st[:, 3])"
   ]
  },
  {
   "cell_type": "code",
   "execution_count": 6,
   "id": "e40202f0",
   "metadata": {
    "colab": {},
    "colab_type": "code",
    "id": "x8yoci01ni-t"
   },
   "outputs": [],
   "source": [
    "y = [45, 55, 50, 55, 60, 35, 75, 80, 50, 60]"
   ]
  },
  {
   "cell_type": "markdown",
   "id": "82e0511e",
   "metadata": {},
   "source": [
    "1. Постройте график зависимости весов всех признаков от lambda в самописной L2-регуляризации (на данных про ЕГЭ). Сделайте вывод"
   ]
  },
  {
   "cell_type": "code",
   "execution_count": 7,
   "id": "96a23904",
   "metadata": {},
   "outputs": [],
   "source": [
    "def gradient_descent_reg_l2(X, y, iterations, eta=1e-4, reg=1e-8):\n",
    "    W = np.random.randn(X.shape[1])\n",
    "    n = X.shape[0]\n",
    "    \n",
    "    for i in range(0, iterations):\n",
    "        y_pred = np.dot(X, W)\n",
    "        err = calc_mse(y, y_pred)\n",
    "        \n",
    "        dQ = 2/n * X.T @ (y_pred - y) # градиент функции ошибки\n",
    "        dReg = reg * sum(W**2) # градиент регуляризации\n",
    "        \n",
    "        W -= eta * (dQ + dReg)\n",
    "        \n",
    "        if i % (iterations / 10) == 0:\n",
    "            print(f'Iter: {i}, weights: {W}, error {err}')\n",
    "    \n",
    "    print(f'Final MSE: {calc_mse(y, np.dot(X, W))}')\n",
    "    return W"
   ]
  },
  {
   "cell_type": "code",
   "execution_count": 8,
   "id": "e5b31fdf",
   "metadata": {},
   "outputs": [
    {
     "data": {
      "text/plain": [
       "[1000, 100, 10, 1, 0.1, 0.01, 0.001, 0.0001, 1e-05, 1e-06, 1e-07]"
      ]
     },
     "metadata": {},
     "output_type": "display_data"
    }
   ],
   "source": [
    "lambda_list = [10**x for x in range(3, -8, -1)]\n",
    "display(lambda_list)"
   ]
  },
  {
   "cell_type": "code",
   "execution_count": 9,
   "id": "232adec7",
   "metadata": {},
   "outputs": [
    {
     "name": "stdout",
     "output_type": "stream",
     "text": [
      "Iter: 0, weights: [-493.92588972 -503.59239883 -502.10728526 -503.56873099], error 3231.5131394369696\n",
      "Iter: 500, weights: [nan nan nan nan], error nan\n",
      "Iter: 1000, weights: [nan nan nan nan], error nan\n",
      "Iter: 1500, weights: [nan nan nan nan], error nan\n",
      "Iter: 2000, weights: [nan nan nan nan], error nan\n",
      "Iter: 2500, weights: [nan nan nan nan], error nan\n",
      "Iter: 3000, weights: [nan nan nan nan], error nan\n",
      "Iter: 3500, weights: [nan nan nan nan], error nan\n",
      "Iter: 4000, weights: [nan nan nan nan], error nan\n",
      "Iter: 4500, weights: [nan nan nan nan], error nan\n",
      "Final MSE: nan\n",
      "Iter: 0, weights: [-27.67479654 -38.83078911 -36.69628618 -37.32446412], error 3227.727986894858\n",
      "Iter: 500, weights: [nan nan nan nan], error nan\n",
      "Iter: 1000, weights: [nan nan nan nan], error nan\n",
      "Iter: 1500, weights: [nan nan nan nan], error nan\n",
      "Iter: 2000, weights: [nan nan nan nan], error nan\n",
      "Iter: 2500, weights: [nan nan nan nan], error nan\n",
      "Iter: 3000, weights: [nan nan nan nan], error nan\n",
      "Iter: 3500, weights: [nan nan nan nan], error nan\n",
      "Iter: 4000, weights: [nan nan nan nan], error nan\n",
      "Iter: 4500, weights: [nan nan nan nan], error nan\n",
      "Final MSE: nan\n",
      "Iter: 0, weights: [ 7.4668751  -3.18253515 -0.59751654 -2.18948267], error 3338.779186465066\n",
      "Iter: 500, weights: [nan nan nan nan], error nan\n",
      "Iter: 1000, weights: [nan nan nan nan], error nan\n",
      "Iter: 1500, weights: [nan nan nan nan], error nan\n",
      "Iter: 2000, weights: [nan nan nan nan], error nan\n",
      "Iter: 2500, weights: [nan nan nan nan], error nan\n",
      "Iter: 3000, weights: [nan nan nan nan], error nan\n",
      "Iter: 3500, weights: [nan nan nan nan], error nan\n",
      "Iter: 4000, weights: [nan nan nan nan], error nan\n",
      "Iter: 4500, weights: [nan nan nan nan], error nan\n",
      "Final MSE: nan\n",
      "Iter: 0, weights: [9.82071157 1.275424   2.62504092 1.00329295], error 3526.649257509677\n",
      "Iter: 500, weights: [nan nan nan nan], error nan\n",
      "Iter: 1000, weights: [nan nan nan nan], error nan\n",
      "Iter: 1500, weights: [nan nan nan nan], error nan\n",
      "Iter: 2000, weights: [nan nan nan nan], error nan\n",
      "Iter: 2500, weights: [nan nan nan nan], error nan\n",
      "Iter: 3000, weights: [nan nan nan nan], error nan\n",
      "Iter: 3500, weights: [nan nan nan nan], error nan\n",
      "Iter: 4000, weights: [nan nan nan nan], error nan\n",
      "Iter: 4500, weights: [nan nan nan nan], error nan\n",
      "Final MSE: nan\n",
      "Iter: 0, weights: [11.11960574  1.6646236   0.36899528  2.85503382], error 3436.968864872151\n",
      "Iter: 500, weights: [ 20.27602241 -12.88426165  -6.61279721 -10.17984684], error 2865.554782094314\n",
      "Iter: 1000, weights: [ 20.27597127 -12.88433046  -6.61260744 -10.18003019], error 2865.5631715276254\n",
      "Iter: 1500, weights: [ 20.27597127 -12.88433047  -6.61260743 -10.1800302 ], error 2865.5631719560743\n",
      "Iter: 2000, weights: [ 20.27597127 -12.88433047  -6.61260743 -10.1800302 ], error 2865.5631719560943\n",
      "Iter: 2500, weights: [ 20.27597127 -12.88433047  -6.61260743 -10.1800302 ], error 2865.5631719560943\n",
      "Iter: 3000, weights: [ 20.27597127 -12.88433047  -6.61260743 -10.1800302 ], error 2865.5631719560943\n",
      "Iter: 3500, weights: [ 20.27597127 -12.88433047  -6.61260743 -10.1800302 ], error 2865.5631719560943\n",
      "Iter: 4000, weights: [ 20.27597127 -12.88433047  -6.61260743 -10.1800302 ], error 2865.5631719560943\n",
      "Iter: 4500, weights: [ 20.27597127 -12.88433047  -6.61260743 -10.1800302 ], error 2865.5631719560943\n",
      "Final MSE: 2865.5631719560943\n",
      "Iter: 0, weights: [11.11177954  2.15673681  2.05624821  2.99796221], error 3345.2261115038914\n",
      "Iter: 500, weights: [45.91754081  0.69768494 -2.18402895  1.67766586], error 267.34156250203927\n",
      "Iter: 1000, weights: [45.91753954  0.69769391 -2.18407583  1.6777039 ], error 267.34158712089976\n",
      "Iter: 1500, weights: [45.91753954  0.69769391 -2.18407583  1.6777039 ], error 267.3415871216788\n",
      "Iter: 2000, weights: [45.91753954  0.69769391 -2.18407583  1.6777039 ], error 267.341587121679\n",
      "Iter: 2500, weights: [45.91753954  0.69769391 -2.18407583  1.6777039 ], error 267.341587121679\n",
      "Iter: 3000, weights: [45.91753954  0.69769391 -2.18407583  1.6777039 ], error 267.341587121679\n",
      "Iter: 3500, weights: [45.91753954  0.69769391 -2.18407583  1.6777039 ], error 267.341587121679\n",
      "Iter: 4000, weights: [45.91753954  0.69769391 -2.18407583  1.6777039 ], error 267.341587121679\n",
      "Iter: 4500, weights: [45.91753954  0.69769391 -2.18407583  1.6777039 ], error 267.341587121679\n",
      "Final MSE: 267.341587121679\n",
      "Iter: 0, weights: [11.92309904  1.88193014  1.82058403  3.91386226], error 3216.490483622937\n",
      "Iter: 500, weights: [54.95743958  5.48599949 -0.62271295  5.85805753], error 30.055845846492282\n",
      "Iter: 1000, weights: [54.95743896  5.48601782 -0.62280314  5.85813165], error 30.055840698290655\n",
      "Iter: 1500, weights: [54.95743896  5.48601782 -0.62280314  5.85813165], error 30.05584069812184\n",
      "Iter: 2000, weights: [54.95743896  5.48601782 -0.62280314  5.85813165], error 30.05584069812184\n",
      "Iter: 2500, weights: [54.95743896  5.48601782 -0.62280314  5.85813165], error 30.05584069812184\n",
      "Iter: 3000, weights: [54.95743896  5.48601782 -0.62280314  5.85813165], error 30.05584069812184\n",
      "Iter: 3500, weights: [54.95743896  5.48601782 -0.62280314  5.85813165], error 30.05584069812184\n",
      "Iter: 4000, weights: [54.95743896  5.48601782 -0.62280314  5.85813165], error 30.05584069812184\n",
      "Iter: 4500, weights: [54.95743896  5.48601782 -0.62280314  5.85813165], error 30.05584069812184\n",
      "Final MSE: 30.05584069812184\n",
      "Iter: 0, weights: [12.33121068  1.3774958   2.6874129   3.45961929], error 3163.545237649808\n",
      "Iter: 500, weights: [56.33725586  6.21686374 -0.38436986  6.4961124 ], error 24.96195741742135\n",
      "Iter: 1000, weights: [56.33725576  6.21688986 -0.38449625  6.49621668], error 24.96195611669545\n",
      "Iter: 1500, weights: [56.33725576  6.21688986 -0.38449626  6.49621668], error 24.961956116652427\n",
      "Iter: 2000, weights: [56.33725576  6.21688986 -0.38449626  6.49621668], error 24.961956116652438\n",
      "Iter: 2500, weights: [56.33725576  6.21688986 -0.38449626  6.49621668], error 24.961956116652438\n",
      "Iter: 3000, weights: [56.33725576  6.21688986 -0.38449626  6.49621668], error 24.961956116652438\n",
      "Iter: 3500, weights: [56.33725576  6.21688986 -0.38449626  6.49621668], error 24.961956116652438\n",
      "Iter: 4000, weights: [56.33725576  6.21688986 -0.38449626  6.49621668], error 24.961956116652438\n",
      "Iter: 4500, weights: [56.33725576  6.21688986 -0.38449626  6.49621668], error 24.961956116652438\n",
      "Final MSE: 24.961956116652445\n",
      "Iter: 0, weights: [9.86881538 0.60528039 1.90093308 3.55551976], error 3573.3217230809596\n",
      "Iter: 500, weights: [56.48363384  6.29440093 -0.35910148  6.56381397], error 24.905198858075785\n",
      "Iter: 1000, weights: [56.48363383  6.29442453 -0.35921543  6.56390802], error 24.90519873245047\n",
      "Iter: 1500, weights: [56.48363383  6.29442453 -0.35921544  6.56390802], error 24.905198732446408\n",
      "Iter: 2000, weights: [56.48363383  6.29442453 -0.35921544  6.56390802], error 24.9051987324464\n",
      "Iter: 2500, weights: [56.48363383  6.29442453 -0.35921544  6.56390802], error 24.9051987324464\n",
      "Iter: 3000, weights: [56.48363383  6.29442453 -0.35921544  6.56390802], error 24.9051987324464\n",
      "Iter: 3500, weights: [56.48363383  6.29442453 -0.35921544  6.56390802], error 24.9051987324464\n",
      "Iter: 4000, weights: [56.48363383  6.29442453 -0.35921544  6.56390802], error 24.9051987324464\n",
      "Iter: 4500, weights: [56.48363383  6.29442453 -0.35921544  6.56390802], error 24.9051987324464\n",
      "Final MSE: 24.9051987324464\n",
      "Iter: 0, weights: [11.01154541  1.26127753  3.11175799  1.8760632 ], error 3400.2139196397293\n",
      "Iter: 500, weights: [56.49836246  6.30219267 -0.35651023  6.5705859 ], error 24.904624704351246\n",
      "Iter: 1000, weights: [56.49836246  6.3022261  -0.35667166  6.57071915], error 24.904624682020703\n",
      "Iter: 1500, weights: [56.49836246  6.30222611 -0.35667167  6.57071916], error 24.904624682020135\n",
      "Iter: 2000, weights: [56.49836246  6.30222611 -0.35667167  6.57071916], error 24.90462468202015\n",
      "Iter: 2500, weights: [56.49836246  6.30222611 -0.35667167  6.57071916], error 24.90462468202015\n",
      "Iter: 3000, weights: [56.49836246  6.30222611 -0.35667167  6.57071916], error 24.90462468202015\n",
      "Iter: 3500, weights: [56.49836246  6.30222611 -0.35667167  6.57071916], error 24.90462468202015\n",
      "Iter: 4000, weights: [56.49836246  6.30222611 -0.35667167  6.57071916], error 24.90462468202015\n",
      "Iter: 4500, weights: [56.49836246  6.30222611 -0.35667167  6.57071916], error 24.90462468202015\n",
      "Final MSE: 24.90462468202015\n",
      "Iter: 0, weights: [11.94150382  3.32188779  2.0579152   2.04530999], error 3221.9861594064582\n"
     ]
    },
    {
     "name": "stdout",
     "output_type": "stream",
     "text": [
      "Iter: 500, weights: [56.49983624  6.30297977 -0.35628687  6.57129317], error 24.90461893949523\n",
      "Iter: 1000, weights: [56.49983624  6.30300675 -0.35641713  6.57140069], error 24.90461893496611\n",
      "Iter: 1500, weights: [56.49983624  6.30300675 -0.35641713  6.57140069], error 24.90461893496606\n",
      "Iter: 2000, weights: [56.49983624  6.30300675 -0.35641713  6.57140069], error 24.90461893496606\n",
      "Iter: 2500, weights: [56.49983624  6.30300675 -0.35641713  6.57140069], error 24.90461893496606\n",
      "Iter: 3000, weights: [56.49983624  6.30300675 -0.35641713  6.57140069], error 24.90461893496606\n",
      "Iter: 3500, weights: [56.49983624  6.30300675 -0.35641713  6.57140069], error 24.90461893496606\n",
      "Iter: 4000, weights: [56.49983624  6.30300675 -0.35641713  6.57140069], error 24.90461893496606\n",
      "Iter: 4500, weights: [56.49983624  6.30300675 -0.35641713  6.57140069], error 24.90461893496606\n",
      "Final MSE: 24.90461893496606\n"
     ]
    }
   ],
   "source": [
    "weights = np.zeros([len(lambda_list), X.shape[1] + 1])\n",
    "for i, reg in enumerate(lambda_list):\n",
    "    weights[i, 0] = reg    \n",
    "    weights[i, 1:] = gradient_descent_reg_l2(X_st, y, iterations=5000, eta=1e-1, reg=reg)"
   ]
  },
  {
   "cell_type": "code",
   "execution_count": 10,
   "id": "d43876d8",
   "metadata": {},
   "outputs": [
    {
     "data": {
      "image/png": "[encoded data removed]",
      "text/plain": [
       "<Figure size 432x288 with 1 Axes>"
      ]
     },
     "metadata": {
      "needs_background": "light"
     },
     "output_type": "display_data"
    }
   ],
   "source": [
    "plt.figure()\n",
    "for reg in range(X.shape[1]):\n",
    "    plt.plot(weights[:, 0], weights[:, reg + 1], label=f'Weight №{reg+1}')\n",
    "plt.xscale('log')\n",
    "plt.legend()\n",
    "plt.show()"
   ]
  },
  {
   "cell_type": "markdown",
   "id": "2dd548c5",
   "metadata": {},
   "source": [
    "Вывод: при увеличении $\\lambda$ до некотрого предела (в данном случае до $10^-2$) веса начинают уменьшаться вплоть до околонулевых значений"
   ]
  },
  {
   "cell_type": "markdown",
   "id": "61c3ceb7",
   "metadata": {},
   "source": [
    "2. Напишите функцию наподобие gradient_descent_reg_l2, но для применения L1-регуляризации."
   ]
  },
  {
   "cell_type": "code",
   "execution_count": 11,
   "id": "88ae4c6c",
   "metadata": {},
   "outputs": [],
   "source": [
    "def gradient_descent_reg_l1(X, y, iterations, eta=1e-4, reg=1e-8):\n",
    "    W = np.random.randn(X.shape[1])\n",
    "    n = X.shape[0]\n",
    "    \n",
    "    for i in range(0, iterations):\n",
    "        y_pred = np.dot(X, W)\n",
    "        err = calc_mse(y, y_pred)\n",
    "        \n",
    "        dQ = 2/n * X.T @ (y_pred - y) # градиент функции ошибки\n",
    "        dReg = reg * (sum(abs(W))) # градиент регуляризации\n",
    "        \n",
    "        W -= eta * (dQ + dReg)\n",
    "        \n",
    "        if i % (iterations / 10) == 0:\n",
    "            print(f'Iter: {i}, weights: {W}, error {err}')\n",
    "    \n",
    "    print(f'Final MSE: {calc_mse(y, np.dot(X, W))}')\n",
    "    return W"
   ]
  },
  {
   "cell_type": "code",
   "execution_count": 12,
   "id": "2686518c",
   "metadata": {},
   "outputs": [
    {
     "name": "stdout",
     "output_type": "stream",
     "text": [
      "Iter: 0, weights: [-250.79778961 -260.70875179 -260.18856645 -258.90970994], error 3282.2914893144016\n",
      "Iter: 500, weights: [nan nan nan nan], error nan\n",
      "Iter: 1000, weights: [nan nan nan nan], error nan\n",
      "Iter: 1500, weights: [nan nan nan nan], error nan\n",
      "Iter: 2000, weights: [nan nan nan nan], error nan\n",
      "Iter: 2500, weights: [nan nan nan nan], error nan\n",
      "Iter: 3000, weights: [nan nan nan nan], error nan\n",
      "Iter: 3500, weights: [nan nan nan nan], error nan\n",
      "Iter: 4000, weights: [nan nan nan nan], error nan\n",
      "Iter: 4500, weights: [nan nan nan nan], error nan\n",
      "Final MSE: nan\n",
      "Iter: 0, weights: [-13.06563636 -23.00825672 -23.61694782 -22.13308292], error 3278.57964185781\n",
      "Iter: 500, weights: [nan nan nan nan], error nan\n",
      "Iter: 1000, weights: [nan nan nan nan], error nan\n",
      "Iter: 1500, weights: [nan nan nan nan], error nan\n",
      "Iter: 2000, weights: [nan nan nan nan], error nan\n",
      "Iter: 2500, weights: [nan nan nan nan], error nan\n",
      "Iter: 3000, weights: [nan nan nan nan], error nan\n",
      "Iter: 3500, weights: [nan nan nan nan], error nan\n",
      "Iter: 4000, weights: [nan nan nan nan], error nan\n",
      "Iter: 4500, weights: [nan nan nan nan], error nan\n",
      "Final MSE: nan\n",
      "Iter: 0, weights: [ 6.55832585 -2.05821957 -4.95183307 -2.60796599], error 3141.552270226471\n",
      "Iter: 500, weights: [nan nan nan nan], error nan\n",
      "Iter: 1000, weights: [nan nan nan nan], error nan\n",
      "Iter: 1500, weights: [nan nan nan nan], error nan\n",
      "Iter: 2000, weights: [nan nan nan nan], error nan\n",
      "Iter: 2500, weights: [nan nan nan nan], error nan\n",
      "Iter: 3000, weights: [nan nan nan nan], error nan\n",
      "Iter: 3500, weights: [nan nan nan nan], error nan\n",
      "Iter: 4000, weights: [nan nan nan nan], error nan\n",
      "Iter: 4500, weights: [nan nan nan nan], error nan\n",
      "Final MSE: nan\n",
      "Iter: 0, weights: [ 9.87689388  2.8754423  -0.34837136  1.81359013], error 3522.6458228052666\n",
      "Iter: 500, weights: [32.53381478 -6.39148673 -4.49563551 -4.51143368], error 1268.3402855942727\n",
      "Iter: 1000, weights: [32.53381347 -6.39150172 -4.49556682 -4.51149106], error 1268.340529764603\n",
      "Iter: 1500, weights: [32.53381347 -6.39150172 -4.49556682 -4.51149106], error 1268.3405297729778\n",
      "Iter: 2000, weights: [32.53381347 -6.39150172 -4.49556682 -4.51149106], error 1268.3405297729778\n",
      "Iter: 2500, weights: [32.53381347 -6.39150172 -4.49556682 -4.51149106], error 1268.3405297729778\n",
      "Iter: 3000, weights: [32.53381347 -6.39150172 -4.49556682 -4.51149106], error 1268.3405297729778\n",
      "Iter: 3500, weights: [32.53381347 -6.39150172 -4.49556682 -4.51149106], error 1268.3405297729778\n",
      "Iter: 4000, weights: [32.53381347 -6.39150172 -4.49556682 -4.51149106], error 1268.3405297729778\n",
      "Iter: 4500, weights: [32.53381347 -6.39150172 -4.49556682 -4.51149106], error 1268.3405297729778\n",
      "Final MSE: 1268.3405297729778\n",
      "Iter: 0, weights: [11.72633858  1.21238784  2.25408231  3.23291062], error 3271.417215557536\n",
      "Iter: 500, weights: [53.30418823  4.61029312 -0.90824683  5.09352612], error 47.01459744738008\n",
      "Iter: 1000, weights: [53.30417916  4.61030637 -0.90833612  5.09359514], error 47.014702455859734\n",
      "Iter: 1500, weights: [53.30417916  4.61030637 -0.90833612  5.09359514], error 47.01470245876733\n",
      "Iter: 2000, weights: [53.30417916  4.61030637 -0.90833612  5.09359514], error 47.01470245876742\n",
      "Iter: 2500, weights: [53.30417916  4.61030637 -0.90833612  5.09359514], error 47.01470245876742\n",
      "Iter: 3000, weights: [53.30417916  4.61030637 -0.90833612  5.09359514], error 47.01470245876742\n",
      "Iter: 3500, weights: [53.30417916  4.61030637 -0.90833612  5.09359514], error 47.01470245876742\n",
      "Iter: 4000, weights: [53.30417916  4.61030637 -0.90833612  5.09359514], error 47.01470245876742\n",
      "Iter: 4500, weights: [53.30417916  4.61030637 -0.90833612  5.09359514], error 47.01470245876742\n",
      "Final MSE: 47.01470245876742\n",
      "Iter: 0, weights: [11.53796632  2.68350239  3.39036871  2.15356897], error 3249.9650181149614\n",
      "Iter: 500, weights: [56.15449007  6.12004962 -0.41590939  6.41157243], error 25.16305460094972\n",
      "Iter: 1000, weights: [56.15448836  6.12008021 -0.41606184  6.41169738], error 25.163053620430553\n",
      "Iter: 1500, weights: [56.15448836  6.12008021 -0.41606185  6.41169739], error 25.163053620398774\n",
      "Iter: 2000, weights: [56.15448836  6.12008021 -0.41606185  6.41169739], error 25.163053620398784\n",
      "Iter: 2500, weights: [56.15448836  6.12008021 -0.41606185  6.41169739], error 25.163053620398784\n",
      "Iter: 3000, weights: [56.15448836  6.12008021 -0.41606185  6.41169739], error 25.163053620398784\n",
      "Iter: 3500, weights: [56.15448836  6.12008021 -0.41606185  6.41169739], error 25.163053620398784\n",
      "Iter: 4000, weights: [56.15448836  6.12008021 -0.41606185  6.41169739], error 25.163053620398784\n",
      "Iter: 4500, weights: [56.15448836  6.12008021 -0.41606185  6.41169739], error 25.163053620398784\n",
      "Final MSE: 25.163053620398784\n",
      "Iter: 0, weights: [11.7237577   2.58460648  1.22680108  2.11613809], error 3315.954249982163\n",
      "Iter: 500, weights: [56.46516634  6.28461857 -0.36228926  6.55527239], error 24.907245927581354\n",
      "Iter: 1000, weights: [56.46516621  6.28464246 -0.36240496  6.55536782], error 24.907245676944562\n",
      "Iter: 1500, weights: [56.46516621  6.28464246 -0.36240496  6.55536782], error 24.90724567693635\n",
      "Iter: 2000, weights: [56.46516621  6.28464246 -0.36240496  6.55536782], error 24.907245676936334\n",
      "Iter: 2500, weights: [56.46516621  6.28464246 -0.36240496  6.55536782], error 24.907245676936334\n",
      "Iter: 3000, weights: [56.46516621  6.28464246 -0.36240496  6.55536782], error 24.907245676936334\n",
      "Iter: 3500, weights: [56.46516621  6.28464246 -0.36240496  6.55536782], error 24.907245676936334\n",
      "Iter: 4000, weights: [56.46516621  6.28464246 -0.36240496  6.55536782], error 24.907245676936334\n",
      "Iter: 4500, weights: [56.46516621  6.28464246 -0.36240496  6.55536782], error 24.907245676936334\n",
      "Final MSE: 24.907245676936334\n",
      "Iter: 0, weights: [11.14566145  2.2358752   2.33130617  2.70749115], error 3338.4579008185196\n",
      "Iter: 500, weights: [56.49651378  6.3012201  -0.35686165  6.56975753], error 24.904645220723616\n",
      "Iter: 1000, weights: [56.49651377  6.30124688 -0.35699095  6.56986424], error 24.904645187936637\n",
      "Iter: 1500, weights: [56.49651377  6.30124688 -0.35699095  6.56986425], error 24.904645187935646\n",
      "Iter: 2000, weights: [56.49651377  6.30124688 -0.35699095  6.56986425], error 24.904645187935635\n",
      "Iter: 2500, weights: [56.49651377  6.30124688 -0.35699095  6.56986425], error 24.904645187935635\n",
      "Iter: 3000, weights: [56.49651377  6.30124688 -0.35699095  6.56986425], error 24.904645187935635\n",
      "Iter: 3500, weights: [56.49651377  6.30124688 -0.35699095  6.56986425], error 24.904645187935635\n",
      "Iter: 4000, weights: [56.49651377  6.30124688 -0.35699095  6.56986425], error 24.904645187935635\n",
      "Iter: 4500, weights: [56.49651377  6.30124688 -0.35699095  6.56986425], error 24.904645187935635\n",
      "Final MSE: 24.904645187935635\n",
      "Iter: 0, weights: [12.04110306  2.78315617  3.04323723  1.36113733], error 3217.1434696119195\n",
      "Iter: 500, weights: [56.49965135  6.30287521 -0.35628682  6.57118128], error 24.90461914864426\n",
      "Iter: 1000, weights: [56.49965135  6.30290881 -0.35644906  6.57131519], error 24.904619140061865\n",
      "Iter: 1500, weights: [56.49965135  6.30290882 -0.35644906  6.57131519], error 24.904619140061747\n",
      "Iter: 2000, weights: [56.49965135  6.30290882 -0.35644906  6.57131519], error 24.904619140061754\n",
      "Iter: 2500, weights: [56.49965135  6.30290882 -0.35644906  6.57131519], error 24.904619140061754\n",
      "Iter: 3000, weights: [56.49965135  6.30290882 -0.35644906  6.57131519], error 24.904619140061754\n",
      "Iter: 3500, weights: [56.49965135  6.30290882 -0.35644906  6.57131519], error 24.904619140061754\n",
      "Iter: 4000, weights: [56.49965135  6.30290882 -0.35644906  6.57131519], error 24.904619140061754\n",
      "Iter: 4500, weights: [56.49965135  6.30290882 -0.35644906  6.57131519], error 24.904619140061754\n",
      "Final MSE: 24.904619140061754\n",
      "Iter: 0, weights: [11.41872392  2.59746047  1.22862941  2.61306018], error 3334.801031057982\n",
      "Iter: 500, weights: [56.49996513  6.30305262 -0.3562867   6.57137102], error 24.90461888193658\n",
      "Iter: 1000, weights: [56.49996513  6.30307502 -0.35639487  6.5714603 ], error 24.904618879539978\n",
      "Iter: 1500, weights: [56.49996513  6.30307502 -0.35639487  6.5714603 ], error 24.904618879539946\n",
      "Iter: 2000, weights: [56.49996513  6.30307502 -0.35639487  6.5714603 ], error 24.904618879539946\n",
      "Iter: 2500, weights: [56.49996513  6.30307502 -0.35639487  6.5714603 ], error 24.904618879539946\n",
      "Iter: 3000, weights: [56.49996513  6.30307502 -0.35639487  6.5714603 ], error 24.904618879539946\n",
      "Iter: 3500, weights: [56.49996513  6.30307502 -0.35639487  6.5714603 ], error 24.904618879539946\n"
     ]
    },
    {
     "name": "stdout",
     "output_type": "stream",
     "text": [
      "Iter: 4000, weights: [56.49996513  6.30307502 -0.35639487  6.5714603 ], error 24.904618879539946\n",
      "Iter: 4500, weights: [56.49996513  6.30307502 -0.35639487  6.5714603 ], error 24.904618879539946\n",
      "Final MSE: 24.904618879539946\n",
      "Iter: 0, weights: [12.23879188  2.47556667  1.28951116  1.90697806], error 3256.9492538238724\n",
      "Iter: 500, weights: [56.49999651  6.30306657 -0.3562684   6.5713749 ], error 24.90461887965019\n",
      "Iter: 1000, weights: [56.49999651  6.30309164 -0.35638945  6.57147481], error 24.904618876934684\n",
      "Iter: 1500, weights: [56.49999651  6.30309165 -0.35638945  6.57147481], error 24.904618876934695\n",
      "Iter: 2000, weights: [56.49999651  6.30309165 -0.35638945  6.57147481], error 24.90461887693472\n",
      "Iter: 2500, weights: [56.49999651  6.30309165 -0.35638945  6.57147481], error 24.90461887693472\n",
      "Iter: 3000, weights: [56.49999651  6.30309165 -0.35638945  6.57147481], error 24.90461887693472\n",
      "Iter: 3500, weights: [56.49999651  6.30309165 -0.35638945  6.57147481], error 24.90461887693472\n",
      "Iter: 4000, weights: [56.49999651  6.30309165 -0.35638945  6.57147481], error 24.90461887693472\n",
      "Iter: 4500, weights: [56.49999651  6.30309165 -0.35638945  6.57147481], error 24.90461887693472\n",
      "Final MSE: 24.90461887693472\n"
     ]
    }
   ],
   "source": [
    "weights = np.zeros([len(lambda_list), X.shape[1] + 1])\n",
    "for i, reg in enumerate(lambda_list):\n",
    "    weights[i, 0] = reg    \n",
    "    weights[i, 1:] = gradient_descent_reg_l1(X_st, y, iterations=5000, eta=1e-1, reg=reg)"
   ]
  },
  {
   "cell_type": "code",
   "execution_count": 13,
   "id": "5832557b",
   "metadata": {},
   "outputs": [
    {
     "data": {
      "image/png": "[encoded data removed]",
      "text/plain": [
       "<Figure size 432x288 with 1 Axes>"
      ]
     },
     "metadata": {
      "needs_background": "light"
     },
     "output_type": "display_data"
    }
   ],
   "source": [
    "plt.figure()\n",
    "for reg in range(X.shape[1]):\n",
    "    plt.plot(weights[:, 0], weights[:, reg + 1], label=f'Weight №{reg+1}')\n",
    "plt.xscale('log')\n",
    "plt.legend()\n",
    "plt.show()"
   ]
  },
  {
   "cell_type": "markdown",
   "id": "80097324",
   "metadata": {},
   "source": [
    "3. *Можно ли к одному и тому же признаку применить сразу и нормализацию, и стандартизацию?"
   ]
  },
  {
   "cell_type": "code",
   "execution_count": 14,
   "id": "d2d5c1a3",
   "metadata": {},
   "outputs": [
    {
     "data": {
      "text/plain": [
       "array([0.1, 0.1, 0.2, 0.5, 0.3, 0. , 0.5, 1. , 0.1, 0.2])"
      ]
     },
     "metadata": {},
     "output_type": "display_data"
    },
    {
     "data": {
      "text/plain": [
       "array([-0.70710678, -0.70710678, -0.35355339,  0.70710678,  0.        ,\n",
       "       -1.06066017,  0.70710678,  2.47487373, -0.70710678, -0.35355339])"
      ]
     },
     "metadata": {},
     "output_type": "display_data"
    },
    {
     "data": {
      "text/plain": [
       "array([0.1, 0.1, 0.2, 0.5, 0.3, 0. , 0.5, 1. , 0.1, 0.2])"
      ]
     },
     "metadata": {},
     "output_type": "display_data"
    },
    {
     "data": {
      "text/plain": [
       "array([-7.07106781e-01, -7.07106781e-01, -3.53553391e-01,  7.07106781e-01,\n",
       "       -1.96261557e-16, -1.06066017e+00,  7.07106781e-01,  2.47487373e+00,\n",
       "       -7.07106781e-01, -3.53553391e-01])"
      ]
     },
     "metadata": {},
     "output_type": "display_data"
    }
   ],
   "source": [
    "display(min_max_scale(X[:, 1])),\n",
    "display(standard_scale(X[:, 1])),\n",
    "display(min_max_scale(standard_scale(X[:, 1]))),\n",
    "display(standard_scale(min_max_scale(X[:, 1])))"
   ]
  },
  {
   "cell_type": "markdown",
   "id": "3f756b9c",
   "metadata": {},
   "source": [
    "При стандартизации и нормализации происходит только масштабирование данных, следовательно, применение обоих методов возможно, но не имеет смысла, так как данные будут масштабированы тем методом, который был применён последним"
   ]
  },
  {
   "cell_type": "markdown",
   "id": "735548c4",
   "metadata": {
    "id": "osNM_LLkiqu6"
   },
   "source": [
    "4. *Сгенерируйте датасет при помощи <code>sklearn.datasets.make_regression</code> и обучите линейную модель при помощи градиентного и стохастического градиентного спуска. Нанесите среднеквадратичную ошибку для обоих методов на один график, сделайте выводы о разнице скорости сходимости каждого из методов."
   ]
  },
  {
   "cell_type": "code",
   "execution_count": 15,
   "id": "d2b1f58d",
   "metadata": {},
   "outputs": [],
   "source": [
    "# классический  GD\n",
    "def gradient_descent_custom(X, y, iterations, eta=1e-4):\n",
    "    W = np.random.randn(X.shape[1])\n",
    "    n = X.shape[0]\n",
    "    results = np.zeros((iterations,2))\n",
    "    for i in range(0, iterations):\n",
    "        y_pred = np.dot(X, W)\n",
    "        err = calc_mse(y, y_pred)\n",
    "        dQ = 2/n * X.T @ (y_pred - y) # градиент функции ошибки\n",
    "        W -= (eta * dQ)\n",
    "        \n",
    "        results[i, :] = [i, err]\n",
    "        \n",
    "        if i % (iterations / 10) == 0:\n",
    "            print(f'Iter: {i}, weights: {W}, error {err}')\n",
    "            \n",
    "    \n",
    "    print(f'Final MSE: {err}')\n",
    "    return W, results"
   ]
  },
  {
   "cell_type": "code",
   "execution_count": 16,
   "id": "0c1d41d2",
   "metadata": {},
   "outputs": [],
   "source": [
    "# стохастический градиентный спуск\n",
    "def stohastic_gradient_descent_custom(X, y, iterations, batch_size=1, eta=1e-4):\n",
    "    W = np.random.randn(X.shape[1])\n",
    "    n = X.shape[0]\n",
    "    results = np.zeros((iterations, 2))        \n",
    "    for i in range(0, iterations):\n",
    "        \n",
    "        inds = np.random.randint(n, size=batch_size)\n",
    "\n",
    "        X_tmp = X[inds, ]\n",
    "        y_tmp = np.array(y)[inds]\n",
    "\n",
    "        y_pred_tmp = np.dot(X_tmp, W)\n",
    "        dQ = 2/len(y_tmp) * X_tmp.T @ (y_pred_tmp - y_tmp) # градиент функции ошибки\n",
    "        W -= (eta * dQ)\n",
    "\n",
    "        err = calc_mse(y, np.dot(X, W))\n",
    "        results[i, :] = [i, err]\n",
    "        if i % (iterations / 10) == 0:\n",
    "            print(f'Iter: {i}, weights: {W}, error {err}')\n",
    "    \n",
    "    print(f'Final MSE: {err}')\n",
    "    return W, results"
   ]
  },
  {
   "cell_type": "code",
   "execution_count": 17,
   "id": "1485ca70",
   "metadata": {},
   "outputs": [],
   "source": [
    "X, y = datasets.make_regression(100, 5, n_targets=1, noise=5)"
   ]
  },
  {
   "cell_type": "code",
   "execution_count": 18,
   "id": "ccf05e07",
   "metadata": {},
   "outputs": [
    {
     "data": {
      "text/plain": [
       "array([[-1.97444793e-01,  1.11117692e-01,  1.15131368e+00,\n",
       "        -1.33420480e-01, -3.44739163e-01],\n",
       "       [ 1.36067736e+00, -4.46341705e-01,  1.84195581e-01,\n",
       "         1.02409928e+00, -8.66504653e-01],\n",
       "       [-7.99745195e-01, -8.60221456e-01,  1.02388642e+00,\n",
       "        -1.24952040e-01, -1.48725890e+00],\n",
       "       [-1.16796558e-01, -5.54466286e-02, -3.43031002e-01,\n",
       "        -1.94127928e+00,  7.60216981e-01],\n",
       "       [-1.34495514e+00,  4.29990362e-02,  1.06740487e+00,\n",
       "         7.68175187e-01,  7.79661351e-01],\n",
       "       [-5.23786768e-01, -2.64180414e+00, -7.26141766e-01,\n",
       "         1.86194213e-01, -1.46147845e-01],\n",
       "       [-2.39781340e+00, -1.41342372e+00, -1.33341806e+00,\n",
       "         1.07166335e-01, -1.12168083e+00],\n",
       "       [ 7.14678729e-01,  7.92340494e-01, -1.46900883e+00,\n",
       "        -1.16837283e+00,  2.08693258e+00],\n",
       "       [ 8.71491658e-01, -2.31376782e-01,  1.06782161e+00,\n",
       "         5.04336813e-01,  9.57981521e-01],\n",
       "       [-9.56822947e-01,  4.56515232e-01, -1.90499879e+00,\n",
       "        -2.45542415e+00, -1.03093081e-01],\n",
       "       [ 2.00362265e-02,  1.43316741e-01, -2.69980357e+00,\n",
       "        -3.16193209e-01,  8.40996010e-01],\n",
       "       [-1.17125813e+00, -6.07624286e-01, -1.01203993e+00,\n",
       "        -9.50073681e-02, -6.05302104e-01],\n",
       "       [-5.66855642e-01, -1.61894555e+00,  1.17875073e+00,\n",
       "         4.80398811e-01,  5.02239624e-01],\n",
       "       [ 1.56845478e+00, -9.32458534e-01, -3.21062941e-01,\n",
       "         5.44706329e-01,  1.05805835e+00],\n",
       "       [ 3.65347685e-01, -2.36221515e+00,  1.32325695e-01,\n",
       "        -6.80653836e-01, -7.27028353e-01],\n",
       "       [ 2.28658087e-01,  8.15044537e-01, -2.02386550e+00,\n",
       "         9.58160240e-02,  9.72088262e-01],\n",
       "       [-5.45773105e-01, -9.13071457e-01,  1.17622114e+00,\n",
       "         8.86982237e-02,  4.60776621e-01],\n",
       "       [-1.48102098e+00,  1.25548902e+00, -1.47415871e+00,\n",
       "         6.14486303e-01, -2.32048954e-01],\n",
       "       [ 6.10179328e-01, -1.83859079e+00,  2.86019541e-01,\n",
       "         4.38339427e-01,  8.10391272e-01],\n",
       "       [-9.21605613e-01,  9.68549623e-01, -1.53281523e-01,\n",
       "         7.00912416e-01, -9.60308649e-01],\n",
       "       [ 1.04588435e+00,  9.48135731e-01,  1.37583030e+00,\n",
       "        -5.20989337e-01,  8.48016487e-01],\n",
       "       [-3.54991655e-02,  7.54090685e-01, -4.51161751e-01,\n",
       "         7.70793386e-01,  1.49282794e+00],\n",
       "       [-2.06858444e-01,  5.96438735e-01, -8.21254566e-01,\n",
       "        -5.76898092e-01,  1.44700967e+00],\n",
       "       [ 2.45640974e-01, -3.79058253e-01, -7.71773303e-01,\n",
       "        -1.23685679e+00, -4.21514029e-01],\n",
       "       [-1.08309194e+00, -1.74660375e-01,  9.66623328e-01,\n",
       "        -3.59522608e-01, -4.69305290e-01],\n",
       "       [ 1.38995388e-01, -2.77545436e-01, -1.36533279e+00,\n",
       "        -1.42023707e-01,  1.95244907e-01],\n",
       "       [ 2.26110965e-01,  1.05129391e-01,  6.26177436e-01,\n",
       "         8.56792049e-01,  8.79487948e-01],\n",
       "       [ 2.51960336e-02,  9.92186347e-01, -1.93184238e+00,\n",
       "         1.19001779e-01, -1.07740118e+00],\n",
       "       [ 8.09538042e-01, -3.41107528e-01, -1.68077578e+00,\n",
       "         2.45848089e+00,  6.54909162e-01],\n",
       "       [ 1.14677790e+00, -5.98812491e-01, -3.21141630e-01,\n",
       "         7.73375133e-01, -1.62009777e-01],\n",
       "       [-2.89626321e-01, -1.96661168e+00, -9.83751673e-01,\n",
       "         2.44797755e+00,  1.59019430e+00],\n",
       "       [ 9.99982195e-01,  2.25582766e+00, -1.11156880e-01,\n",
       "        -2.13536214e-01,  3.06502725e+00],\n",
       "       [ 5.57111171e-01, -7.89602904e-01,  4.86810668e-01,\n",
       "        -1.94423763e+00,  1.33390609e+00],\n",
       "       [ 6.73338536e-01, -3.99052288e-01, -3.86454847e-01,\n",
       "        -2.60677429e-01, -4.85133645e-01],\n",
       "       [ 4.82792960e-02,  9.88314522e-01, -9.09877489e-01,\n",
       "         4.65479186e-01, -3.01824393e-02],\n",
       "       [ 9.33192738e-01, -1.61994082e-01, -2.30815103e+00,\n",
       "         1.63887851e+00,  7.27082862e-01],\n",
       "       [ 1.05355026e+00, -1.44652743e+00,  1.40002712e+00,\n",
       "         5.67299334e-01,  3.89487558e-01],\n",
       "       [ 1.13002136e+00, -8.61577725e-01,  5.73784776e-01,\n",
       "        -1.19216863e+00, -5.99012158e-01],\n",
       "       [-2.88295320e-01, -4.42796875e-01, -2.02810239e-01,\n",
       "        -8.48175386e-01, -7.48135372e-01],\n",
       "       [-1.04889740e-01,  2.45784764e+00, -1.00785530e+00,\n",
       "        -1.32835911e+00, -4.89445136e-01],\n",
       "       [ 1.48020539e-01, -1.58690531e+00, -5.55477555e-01,\n",
       "         4.35377084e-01, -8.89396560e-04],\n",
       "       [ 5.19641054e-01,  3.43064098e-01,  1.74395841e+00,\n",
       "         4.07388801e-01,  1.42393187e+00],\n",
       "       [ 3.53244371e-01, -1.44663568e+00, -4.90051860e-01,\n",
       "        -1.62896587e+00, -8.13074381e-01],\n",
       "       [-1.13933811e+00, -1.19563565e+00,  8.32234697e-01,\n",
       "         9.15153072e-01,  3.92135953e-01],\n",
       "       [-3.86511350e-01, -3.37131724e-02,  9.79238590e-01,\n",
       "         7.36902403e-02,  3.27300183e-01],\n",
       "       [ 1.18527687e+00,  1.81973130e-01, -7.78156546e-01,\n",
       "         1.76517160e+00,  2.34146972e-01],\n",
       "       [ 2.10305987e+00, -4.98850511e-01,  4.86725669e-01,\n",
       "        -7.05125566e-02, -1.06339149e+00],\n",
       "       [ 1.07728155e+00,  6.24933032e-01,  3.01532511e-02,\n",
       "        -1.48039430e+00,  2.81954595e-01],\n",
       "       [ 9.47709752e-01, -1.20892673e+00, -1.06675623e+00,\n",
       "        -2.07207948e+00,  5.11187713e-02],\n",
       "       [-9.18146523e-01,  1.29004184e+00, -4.03957826e-01,\n",
       "         5.67121978e-01,  3.44380546e-01],\n",
       "       [-1.52871383e-01, -2.79562579e-02, -1.57059489e+00,\n",
       "         8.47112488e-01, -1.94300763e-01],\n",
       "       [ 1.41344456e-01, -2.51823420e+00,  5.20270294e-01,\n",
       "        -1.61274917e+00,  1.12650952e+00],\n",
       "       [-5.10847142e-01,  4.07392193e-01, -1.90161356e-01,\n",
       "         4.92937509e-01,  1.01728063e+00],\n",
       "       [ 2.49635855e-01,  2.91656926e-01,  7.76075093e-01,\n",
       "        -2.12927891e+00,  3.08808435e-01],\n",
       "       [ 9.69304029e-01,  9.93697789e-01,  3.72183257e-01,\n",
       "        -2.85927664e-01, -2.80808326e-01],\n",
       "       [-1.67637917e+00, -6.05507224e-01, -1.30975107e-01,\n",
       "         2.52575349e-01,  1.31929328e+00],\n",
       "       [-1.79067845e+00, -8.24329894e-01, -1.20332309e+00,\n",
       "        -3.28422852e-02, -1.99033063e+00],\n",
       "       [-1.61348300e-01, -3.47795009e-01,  6.01412673e-01,\n",
       "        -1.24492558e-01,  1.07546607e+00],\n",
       "       [ 2.49659901e+00, -1.05644170e+00,  1.16807668e-01,\n",
       "        -4.98408423e-01,  4.85915843e-01],\n",
       "       [-4.34166445e-01,  9.62519709e-01,  3.62949055e-01,\n",
       "        -8.48555815e-01, -1.07667636e+00],\n",
       "       [ 4.44882165e-01,  4.79554282e-01, -8.48967229e-01,\n",
       "        -8.03091352e-01, -9.69484038e-01],\n",
       "       [-5.76904381e-01, -3.59728117e-01, -8.74613853e-01,\n",
       "        -3.59403155e-01, -1.01930416e+00],\n",
       "       [-1.24613712e+00, -4.58618407e-01, -5.83203810e-01,\n",
       "         1.30410445e+00, -1.22587170e-01],\n",
       "       [-2.18320111e+00, -1.74331510e+00, -7.03974854e-01,\n",
       "        -6.13697205e-01, -1.01788377e+00],\n",
       "       [ 6.29213012e-01,  7.33007082e-01,  1.37253552e+00,\n",
       "        -1.42211959e-01, -1.31082478e+00],\n",
       "       [-4.45340425e-01,  1.93540231e+00,  1.00444891e+00,\n",
       "        -1.29868794e-01,  7.21564833e-01],\n",
       "       [ 7.43223960e-01, -7.01255888e-01,  4.43477292e-01,\n",
       "         2.62195645e-01,  5.29593265e-02],\n",
       "       [-1.92296763e+00, -4.14823785e-01, -9.60501821e-02,\n",
       "         3.43654699e-01,  2.83836094e-01],\n",
       "       [ 2.93420784e-01,  2.44702474e-01,  2.34886136e-01,\n",
       "        -8.49243438e-01,  1.47569890e+00],\n",
       "       [ 7.67512295e-01, -7.72385993e-01, -6.38409167e-01,\n",
       "        -1.54913530e+00, -8.27719398e-01],\n",
       "       [-1.31389428e+00,  5.61756252e-01, -1.89381968e-01,\n",
       "         5.13661497e-01,  5.46638380e-01],\n",
       "       [ 2.05201010e-01, -5.06126752e-01,  2.21737267e-01,\n",
       "        -9.29796149e-01,  5.83765498e-01],\n",
       "       [-1.14832431e-01,  1.57808045e+00,  1.06995409e+00,\n",
       "        -1.42057331e+00,  8.79710408e-01],\n",
       "       [ 8.25084914e-01, -2.50921871e-01, -4.51468564e-01,\n",
       "        -5.64280112e-01, -9.24595912e-02],\n",
       "       [-1.65123107e-01,  4.67424595e-01,  1.97268470e-01,\n",
       "        -9.32273173e-01,  8.15422008e-01],\n",
       "       [ 4.20991092e-01,  6.55387884e-01,  1.77627534e+00,\n",
       "         2.04835110e+00, -7.24323594e-01],\n",
       "       [-7.55982040e-01, -1.15172309e+00,  1.15788927e+00,\n",
       "         9.03579206e-01,  8.96738034e-01],\n",
       "       [-1.14834060e+00,  1.53199868e+00,  9.91155883e-02,\n",
       "         4.96938313e-01, -7.63410119e-01],\n",
       "       [ 4.12475204e-01, -1.53764342e-01, -1.58406201e+00,\n",
       "         1.04297934e+00, -4.20035073e-01],\n",
       "       [-3.71619328e-01,  7.05846639e-01, -1.72937383e+00,\n",
       "         1.14665657e-01,  4.62161154e-01],\n",
       "       [-3.35150954e-01, -7.35885087e-01,  5.81228362e-01,\n",
       "        -1.05915505e+00,  2.09280971e+00],\n",
       "       [-1.61139732e+00, -8.02827541e-01,  1.14560814e+00,\n",
       "         7.44839639e-01,  6.39743356e-01],\n",
       "       [-5.38972521e-01,  4.17305037e-01, -1.27215096e+00,\n",
       "        -2.22218293e-01, -1.87034165e+00],\n",
       "       [ 6.79479122e-01,  1.94620382e+00, -3.68532401e-01,\n",
       "         4.09519645e-02,  2.02390762e+00],\n",
       "       [-5.39918947e-01,  1.11357201e+00,  1.43446914e-01,\n",
       "         3.83877147e-01,  1.90809582e+00],\n",
       "       [ 1.16934613e+00,  6.04307969e-01,  1.09145550e+00,\n",
       "         7.27402214e-01, -1.08452624e-02],\n",
       "       [ 1.22189703e-01,  5.04258020e-01,  1.14948371e+00,\n",
       "        -2.01569409e-01,  1.13697185e+00],\n",
       "       [ 1.13139939e+00,  5.98268245e-01, -5.09125320e-01,\n",
       "        -5.39175769e-01, -1.84851961e+00],\n",
       "       [ 1.84120224e+00, -1.69030710e-01,  1.33368965e+00,\n",
       "         1.12798436e+00, -5.34283689e-01],\n",
       "       [-1.19264719e+00, -4.70338265e-01,  8.35530342e-01,\n",
       "         3.14659814e+00, -2.33557258e+00],\n",
       "       [-1.09397568e+00, -1.49384294e-01, -3.24003589e-01,\n",
       "        -1.31486708e+00, -1.40663158e+00],\n",
       "       [-8.00099334e-01, -6.09914475e-01, -4.56866912e-01,\n",
       "        -2.04862763e+00,  4.21690132e-01],\n",
       "       [-1.25904898e-01, -3.48630735e-01,  5.49326128e-01,\n",
       "         5.46583936e-01, -1.79485001e-01],\n",
       "       [-7.09619910e-01, -5.53673845e-01, -1.66102115e-01,\n",
       "         9.78229371e-01, -6.80496098e-02],\n",
       "       [-1.43241158e+00, -5.54004688e-01, -1.13389998e+00,\n",
       "         1.07855375e+00,  2.17196722e-02],\n",
       "       [ 3.56122911e-02,  1.10368449e+00, -3.70754457e-01,\n",
       "         7.64559956e-01,  8.67847470e-01],\n",
       "       [ 6.52184101e-01,  3.23483085e-01,  1.13848656e+00,\n",
       "        -5.88925133e-01,  2.39345648e-01],\n",
       "       [-5.44370974e-01,  1.27964445e+00,  5.93538725e-02,\n",
       "         7.40623158e-01, -9.76449611e-01],\n",
       "       [ 2.08128638e-01,  1.72177886e-02, -2.21535630e-01,\n",
       "         3.49412132e-01,  2.46790557e-01],\n",
       "       [ 7.67312591e-01, -2.87927856e-01, -2.61380627e-01,\n",
       "         1.59780848e+00,  1.09689200e+00]])"
      ]
     },
     "metadata": {},
     "output_type": "display_data"
    },
    {
     "data": {
      "text/plain": [
       "array([  23.11358093,    0.47382195, -105.7715395 ,  -39.98033125,\n",
       "        117.76058489,  -96.55216363, -219.67168234,   68.42462785,\n",
       "        164.83334453, -205.88229851,  -64.0105065 , -134.56257961,\n",
       "         73.83006626,  101.40075756, -108.78186405,   -5.92478594,\n",
       "         72.21269834,  -59.29647585,   73.09713879,  -52.39840429,\n",
       "        148.65747908,  133.16888938,   57.52499177, -121.58817889,\n",
       "        -22.38266976,  -62.36132953,  146.23978089, -151.60333733,\n",
       "         61.83268327,    6.93436922,  121.85760417,  289.57525675,\n",
       "         54.58788099,  -62.93077802,  -13.33283559,    7.87223759,\n",
       "        115.64642034,  -52.14946787, -123.42801663,  -85.67051127,\n",
       "        -37.11915222,  224.00060309, -172.53099702,   57.09181083,\n",
       "         64.21347706,   69.46145272,  -30.27545518,    1.26033279,\n",
       "       -132.54002456,   31.29626998,  -55.9585003 ,   14.39453346,\n",
       "         91.67290621,   -6.7532789 ,   25.16092427,   63.84305564,\n",
       "       -268.61806695,   92.0813498 ,   50.59637084,  -89.03637093,\n",
       "       -123.1956977 , -153.49938141,  -19.40058312, -211.06221516,\n",
       "        -18.12029635,  123.71970307,   28.86418225,  -21.22460852,\n",
       "        102.44497547, -159.44632709,   47.58652923,   16.62514132,\n",
       "         95.51007542,  -43.74586835,   44.68862463,  118.16434413,\n",
       "        123.46312947,  -24.40287432,  -73.57106921,  -37.41813895,\n",
       "        134.43397692,   91.81657246, -224.50629125,  191.59471221,\n",
       "        181.18696401,  110.17717742,  140.69508776, -152.30863639,\n",
       "         88.6855203 ,  -49.65091288, -198.80774664,  -90.52493016,\n",
       "         24.61569156,   -0.30870701,  -47.69041188,   99.68751839,\n",
       "         67.37638504,  -34.65732843,   23.21608042,  142.59411227])"
      ]
     },
     "metadata": {},
     "output_type": "display_data"
    }
   ],
   "source": [
    "display(X, y)"
   ]
  },
  {
   "cell_type": "code",
   "execution_count": 19,
   "id": "d0bde13f",
   "metadata": {},
   "outputs": [
    {
     "name": "stdout",
     "output_type": "stream",
     "text": [
      "Iter: 0, weights: [0.99926257 1.26301393 0.89210491 0.71086789 0.49439424], error 11581.442273064056\n",
      "Iter: 200, weights: [10.17614799  8.83279059 18.365674   13.3186293  27.77034905], error 4690.285630362396\n",
      "Iter: 400, weights: [15.14604421 13.24278104 29.43072655 21.6297842  45.26721896], error 1924.9590596801231\n",
      "Iter: 600, weights: [17.70466542 15.78594441 36.45203273 27.08574528 56.54429214], error 806.265661829591\n",
      "Iter: 800, weights: [18.91014859 17.23322783 40.91798664 30.65249757 63.8495631 ], error 349.3704283428922\n",
      "Iter: 1000, weights: [19.37927268 18.04236974 43.76640349 32.97432953 68.60751275], error 160.65414335763083\n",
      "Iter: 1200, weights: [19.46633768 18.48372888 45.58891241 34.47908263 71.72405774], error 81.66977765208122\n",
      "Iter: 1400, weights: [19.37078641 18.71595666 46.75927172 35.44969829 73.77760912], error 48.1008483045915\n",
      "Iter: 1600, weights: [19.2016523  18.83139501 47.51398229 36.07255668 75.1390622 ], error 33.58176080632358\n",
      "Iter: 1800, weights: [19.01592272 18.88323184 48.00297265 36.46995997 76.04735335], error 27.17825526536114\n",
      "Final MSE: 24.303272923535246\n"
     ]
    }
   ],
   "source": [
    "ord_W, ord_results = gradient_descent_custom(X, y, iterations=2000, eta=1e-3)"
   ]
  },
  {
   "cell_type": "code",
   "execution_count": 20,
   "id": "05a4e73f",
   "metadata": {},
   "outputs": [
    {
     "name": "stdout",
     "output_type": "stream",
     "text": [
      "Iter: 0, weights: [-0.6740798   0.21997418 -0.50515515 -0.07306376 -0.83951035], error 12128.503030623135\n",
      "Iter: 200, weights: [ 7.79931183  9.6160182  15.71982597 10.21790006 27.87437692], error 5078.526321155104\n",
      "Iter: 400, weights: [12.7320716  14.59916828 28.05676886 19.61665086 45.93025552], error 2031.3281839253273\n",
      "Iter: 600, weights: [16.21901186 16.77012441 35.96731131 25.76186311 57.30359007], error 820.0875226526147\n",
      "Iter: 800, weights: [17.85405461 17.720455   41.00505144 29.78922922 64.81449097], error 334.5930341920012\n",
      "Iter: 1000, weights: [18.46709781 18.41419351 43.82681495 32.48161969 69.09636943], error 155.79107612642545\n",
      "Iter: 1200, weights: [18.66231168 18.57664309 45.66664886 34.09742135 72.05115684], error 79.50604245746312\n",
      "Iter: 1400, weights: [18.70927914 18.79564499 46.75639753 35.21576522 74.22654984], error 45.19628858724389\n",
      "Iter: 1600, weights: [18.76190049 18.84959777 47.62271704 35.90224432 75.43432899], error 31.835994630682425\n",
      "Iter: 1800, weights: [18.80685063 18.93807389 48.13400056 36.3376879  76.38923676], error 25.819121552094387\n",
      "Final MSE: 23.65505279720974\n"
     ]
    }
   ],
   "source": [
    "st_W, st_results = stohastic_gradient_descent_custom(X, y, iterations=2000, batch_size=3, eta=1e-3)"
   ]
  },
  {
   "cell_type": "code",
   "execution_count": 21,
   "id": "7004d19f",
   "metadata": {},
   "outputs": [
    {
     "data": {
      "image/png": "[encoded data removed]",
      "text/plain": [
       "<Figure size 864x1080 with 1 Axes>"
      ]
     },
     "metadata": {
      "needs_background": "light"
     },
     "output_type": "display_data"
    }
   ],
   "source": [
    "plt.figure(figsize=(12, 15))\n",
    "plt.plot(ord_results[:, 0], ord_results[:, 1], label=\"Normal\")\n",
    "plt.plot(st_results[:, 0], st_results[:, 1], label=\"Stohastic\")\n",
    "plt.legend()\n",
    "plt.show()"
   ]
  },
  {
   "cell_type": "markdown",
   "id": "2616b314",
   "metadata": {},
   "source": [
    "Кривая стохастического градиентного спуска более \"неровная\", конечная ошибка близка у обоих методов, но в обычном градиентном спуске меньше."
   ]
  }
 ],
 "metadata": {
  "kernelspec": {
   "display_name": "Python 3 (ipykernel)",
   "language": "python",
   "name": "python3"
  },
  "language_info": {
   "codemirror_mode": {
    "name": "ipython",
    "version": 3
   },
   "file_extension": ".py",
   "mimetype": "text/x-python",
   "name": "python",
   "nbconvert_exporter": "python",
   "pygments_lexer": "ipython3",
   "version": "3.9.12"
  }
 },
 "nbformat": 4,
 "nbformat_minor": 5
}
