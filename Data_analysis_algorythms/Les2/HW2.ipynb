{
 "cells": [
  {
   "cell_type": "markdown",
   "metadata": {},
   "source": [
    "## Домашнее задание <a class='anchor' id='hw'>"
   ]
  },
  {
   "cell_type": "code",
   "execution_count": 1,
   "metadata": {},
   "outputs": [],
   "source": [
    "import numpy as np\n",
    "from sklearn import datasets\n",
    "import matplotlib.pyplot as plt\n",
    "\n",
    "%matplotlib inline\n",
    "import warnings\n",
    "warnings.filterwarnings('ignore')"
   ]
  },
  {
   "cell_type": "code",
   "execution_count": 2,
   "metadata": {
    "colab": {},
    "colab_type": "code",
    "id": "VDpN7UxYnrcS"
   },
   "outputs": [],
   "source": [
    "def calc_mse(y, y_pred):\n",
    "    err = np.mean((y - y_pred)**2)\n",
    "    return err"
   ]
  },
  {
   "cell_type": "code",
   "execution_count": 3,
   "metadata": {},
   "outputs": [],
   "source": [
    "def min_max_scale(X):\n",
    "    return (X - X.min()) / (X.max() - X.min())\n",
    "def standard_scale(X):\n",
    "    mean = X.mean()\n",
    "    std = X.std()\n",
    "    return (X - mean) / std"
   ]
  },
  {
   "cell_type": "code",
   "execution_count": 4,
   "metadata": {
    "colab": {},
    "colab_type": "code",
    "id": "_n6il-AZaLuA"
   },
   "outputs": [],
   "source": [
    "X = np.array([[   1,    1,  500,    1],\n",
    "              [   1,    1,  700,    1],\n",
    "              [   1,    2,  750,    2],\n",
    "              [   1,    5,  600,    1],\n",
    "              [   1,    3, 1450,    2],\n",
    "              [   1,    0,  800,    1],\n",
    "              [   1,    5, 1500,    3],\n",
    "              [   1,   10, 2000,    3],\n",
    "              [   1,    1,  450,    1],\n",
    "              [   1,    2, 1000,    2]])"
   ]
  },
  {
   "cell_type": "code",
   "execution_count": 5,
   "metadata": {},
   "outputs": [],
   "source": [
    "X_st = X.copy().astype(np.float64)\n",
    "X_st[:, 1] = standard_scale(X_st[:, 1])\n",
    "X_st[:, 2] = standard_scale(X_st[:, 2])\n",
    "X_st[:, 3] = standard_scale(X_st[:, 3])"
   ]
  },
  {
   "cell_type": "code",
   "execution_count": 6,
   "metadata": {
    "colab": {},
    "colab_type": "code",
    "id": "x8yoci01ni-t"
   },
   "outputs": [],
   "source": [
    "y = [45, 55, 50, 55, 60, 35, 75, 80, 50, 60]"
   ]
  },
  {
   "cell_type": "markdown",
   "metadata": {},
   "source": [
    "1. Постройте график зависимости весов всех признаков от lambda в самописной L2-регуляризации (на данных про ЕГЭ). Сделайте вывод"
   ]
  },
  {
   "cell_type": "code",
   "execution_count": 7,
   "metadata": {},
   "outputs": [],
   "source": [
    "def gradient_descent_reg_l2(X, y, iterations, eta=1e-4, reg=1e-8):\n",
    "    W = np.random.randn(X.shape[1])\n",
    "    n = X.shape[0]\n",
    "    \n",
    "    for i in range(0, iterations):\n",
    "        y_pred = np.dot(X, W)\n",
    "        err = calc_mse(y, y_pred)\n",
    "        \n",
    "        dQ = 2/n * X.T @ (y_pred - y) # градиент функции ошибки\n",
    "        dReg = 2 * reg * W # градиент регуляризации\n",
    "        \n",
    "        W -= eta * (dQ + dReg)\n",
    "        \n",
    "        if i % (iterations / 10) == 0:\n",
    "            print(f'Iter: {i}, weights: {W}, error {err}')\n",
    "    \n",
    "    print(f'Final MSE: {calc_mse(y, np.dot(X, W))}')\n",
    "    return W"
   ]
  },
  {
   "cell_type": "code",
   "execution_count": 8,
   "metadata": {},
   "outputs": [
    {
     "data": {
      "text/plain": [
       "[1000, 100, 10, 1, 0.1, 0.01, 0.001, 0.0001, 1e-05, 1e-06, 1e-07]"
      ]
     },
     "metadata": {},
     "output_type": "display_data"
    }
   ],
   "source": [
    "lambda_list = [10**x for x in range(3, -8, -1)]\n",
    "display(lambda_list)"
   ]
  },
  {
   "cell_type": "code",
   "execution_count": 9,
   "metadata": {},
   "outputs": [
    {
     "name": "stdout",
     "output_type": "stream",
     "text": [
      "Iter: 0, weights: [ -90.17986964   54.46556139 -241.7638103   167.38033323], error 3293.5071417235013\n",
      "Iter: 500, weights: [nan nan nan nan], error nan\n",
      "Iter: 1000, weights: [nan nan nan nan], error nan\n",
      "Iter: 1500, weights: [nan nan nan nan], error nan\n",
      "Iter: 2000, weights: [nan nan nan nan], error nan\n",
      "Iter: 2500, weights: [nan nan nan nan], error nan\n",
      "Iter: 3000, weights: [nan nan nan nan], error nan\n",
      "Iter: 3500, weights: [nan nan nan nan], error nan\n",
      "Iter: 4000, weights: [nan nan nan nan], error nan\n",
      "Iter: 4500, weights: [nan nan nan nan], error nan\n",
      "Final MSE: nan\n",
      "Iter: 0, weights: [ -3.65035294  -1.66374246 -17.19849214  -3.87086705], error 3235.6458754014448\n",
      "Iter: 500, weights: [nan nan nan nan], error nan\n",
      "Iter: 1000, weights: [nan nan nan nan], error nan\n",
      "Iter: 1500, weights: [nan nan nan nan], error nan\n",
      "Iter: 2000, weights: [nan nan nan nan], error nan\n",
      "Iter: 2500, weights: [nan nan nan nan], error nan\n",
      "Iter: 3000, weights: [nan nan nan nan], error nan\n",
      "Iter: 3500, weights: [nan nan nan nan], error nan\n",
      "Iter: 4000, weights: [nan nan nan nan], error nan\n",
      "Iter: 4500, weights: [nan nan nan nan], error nan\n",
      "Final MSE: nan\n",
      "Iter: 0, weights: [10.90667769  0.14215028  1.80320054  1.25498919], error 3273.633371666075\n",
      "Iter: 500, weights: [9.11354181e+73 2.12699189e+90 2.28317093e+90 2.23237491e+90], error 1.6568713967641774e+181\n",
      "Iter: 1000, weights: [4.54892146e+164 1.96593134e+181 2.11028416e+181 2.06333452e+181], error inf\n",
      "Iter: 1500, weights: [1.14801336e+256 1.81706666e+272 1.95048876e+272 1.90709425e+272], error inf\n",
      "Iter: 2000, weights: [nan nan nan nan], error nan\n",
      "Iter: 2500, weights: [nan nan nan nan], error nan\n",
      "Iter: 3000, weights: [nan nan nan nan], error nan\n",
      "Iter: 3500, weights: [nan nan nan nan], error nan\n",
      "Iter: 4000, weights: [nan nan nan nan], error nan\n",
      "Iter: 4500, weights: [nan nan nan nan], error nan\n",
      "Final MSE: nan\n",
      "Iter: 0, weights: [11.10847348  3.1072615   0.95945454  2.02454387], error 3418.0521614126883\n",
      "Iter: 500, weights: [28.25        3.27014808  2.56516043  3.08230288], error 836.1457465496238\n",
      "Iter: 1000, weights: [28.25        3.27014808  2.56516043  3.08230288], error 836.1457465496238\n",
      "Iter: 1500, weights: [28.25        3.27014808  2.56516043  3.08230288], error 836.1457465496238\n",
      "Iter: 2000, weights: [28.25        3.27014808  2.56516043  3.08230288], error 836.1457465496238\n",
      "Iter: 2500, weights: [28.25        3.27014808  2.56516043  3.08230288], error 836.1457465496238\n",
      "Iter: 3000, weights: [28.25        3.27014808  2.56516043  3.08230288], error 836.1457465496238\n",
      "Iter: 3500, weights: [28.25        3.27014808  2.56516043  3.08230288], error 836.1457465496238\n",
      "Iter: 4000, weights: [28.25        3.27014808  2.56516043  3.08230288], error 836.1457465496238\n",
      "Iter: 4500, weights: [28.25        3.27014808  2.56516043  3.08230288], error 836.1457465496238\n",
      "Final MSE: 836.1457465496238\n",
      "Iter: 0, weights: [11.96331691  0.62345039  1.95141222  2.48558808], error 3326.0342953748177\n",
      "Iter: 500, weights: [51.36363636  5.35442268  1.64073413  4.98073983], error 52.259438461841185\n",
      "Iter: 1000, weights: [51.36363636  5.35442268  1.64073412  4.98073984], error 52.25943846024577\n",
      "Iter: 1500, weights: [51.36363636  5.35442268  1.64073412  4.98073984], error 52.25943846024577\n",
      "Iter: 2000, weights: [51.36363636  5.35442268  1.64073412  4.98073984], error 52.25943846024577\n",
      "Iter: 2500, weights: [51.36363636  5.35442268  1.64073412  4.98073984], error 52.25943846024577\n",
      "Iter: 3000, weights: [51.36363636  5.35442268  1.64073412  4.98073984], error 52.25943846024577\n",
      "Iter: 3500, weights: [51.36363636  5.35442268  1.64073412  4.98073984], error 52.25943846024577\n",
      "Iter: 4000, weights: [51.36363636  5.35442268  1.64073412  4.98073984], error 52.25943846024577\n",
      "Iter: 4500, weights: [51.36363636  5.35442268  1.64073412  4.98073984], error 52.25943846024577\n",
      "Final MSE: 52.25943846024577\n",
      "Iter: 0, weights: [11.24580105  3.2381414   2.40432108  1.58104548], error 3327.38244356365\n",
      "Iter: 500, weights: [5.59405941e+01 6.16267583e+00 9.66947178e-03 6.28411405e+00], error 25.244233672152863\n",
      "Iter: 1000, weights: [5.59405941e+01 6.16268571e+00 9.62179282e-03 6.28415340e+00], error 25.24422737640168\n",
      "Iter: 1500, weights: [5.59405941e+01 6.16268571e+00 9.62179225e-03 6.28415340e+00], error 25.244227376326506\n",
      "Iter: 2000, weights: [5.59405941e+01 6.16268571e+00 9.62179225e-03 6.28415340e+00], error 25.244227376326513\n",
      "Iter: 2500, weights: [5.59405941e+01 6.16268571e+00 9.62179225e-03 6.28415340e+00], error 25.244227376326513\n",
      "Iter: 3000, weights: [5.59405941e+01 6.16268571e+00 9.62179225e-03 6.28415340e+00], error 25.244227376326513\n",
      "Iter: 3500, weights: [5.59405941e+01 6.16268571e+00 9.62179225e-03 6.28415340e+00], error 25.244227376326513\n",
      "Iter: 4000, weights: [5.59405941e+01 6.16268571e+00 9.62179225e-03 6.28415340e+00], error 25.244227376326513\n",
      "Iter: 4500, weights: [5.59405941e+01 6.16268571e+00 9.62179225e-03 6.28415340e+00], error 25.244227376326513\n",
      "Final MSE: 25.244227376326513\n",
      "Iter: 0, weights: [11.62584191  1.60688867  2.17787474  2.65114828], error 3305.0106229614807\n",
      "Iter: 500, weights: [56.44355644  6.28821086 -0.31642872  6.54009456], error 24.90811708069325\n",
      "Iter: 1000, weights: [56.44355644  6.28823489 -0.31654471  6.5401903 ], error 24.908115416040825\n",
      "Iter: 1500, weights: [56.44355644  6.28823489 -0.31654471  6.54019031], error 24.90811541599101\n",
      "Iter: 2000, weights: [56.44355644  6.28823489 -0.31654471  6.54019031], error 24.90811541599102\n",
      "Iter: 2500, weights: [56.44355644  6.28823489 -0.31654471  6.54019031], error 24.90811541599102\n",
      "Iter: 3000, weights: [56.44355644  6.28823489 -0.31654471  6.54019031], error 24.90811541599102\n",
      "Iter: 3500, weights: [56.44355644  6.28823489 -0.31654471  6.54019031], error 24.90811541599102\n",
      "Iter: 4000, weights: [56.44355644  6.28823489 -0.31654471  6.54019031], error 24.90811541599102\n",
      "Iter: 4500, weights: [56.44355644  6.28823489 -0.31654471  6.54019031], error 24.90811541599102\n",
      "Final MSE: 24.90811541599102\n",
      "Iter: 0, weights: [10.92674735  2.71960821  1.42515292  2.82104584], error 3382.000783359318\n",
      "Iter: 500, weights: [56.49435056  6.30157661 -0.35226195  6.56823148], error 24.904654106657375\n",
      "Iter: 1000, weights: [56.49435056  6.30159876 -0.35236888  6.56831974], error 24.904653950008516\n",
      "Iter: 1500, weights: [56.49435056  6.30159876 -0.35236889  6.56831975], error 24.90465395000345\n",
      "Iter: 2000, weights: [56.49435056  6.30159876 -0.35236889  6.56831975], error 24.90465395000346\n",
      "Iter: 2500, weights: [56.49435056  6.30159876 -0.35236889  6.56831975], error 24.90465395000346\n",
      "Iter: 3000, weights: [56.49435056  6.30159876 -0.35236889  6.56831975], error 24.90465395000345\n",
      "Iter: 3500, weights: [56.49435056  6.30159876 -0.35236889  6.56831975], error 24.90465395000346\n",
      "Iter: 4000, weights: [56.49435056  6.30159876 -0.35236889  6.56831975], error 24.90465395000346\n",
      "Iter: 4500, weights: [56.49435056  6.30159876 -0.35236889  6.56831975], error 24.90465395000345\n",
      "Final MSE: 24.90465395000346\n",
      "Iter: 0, weights: [11.42313896  2.61720178  1.96627482  1.66151455], error 3343.2434564327805\n",
      "Iter: 500, weights: [56.49943501  6.3029155  -0.35584924  6.57104718], error 24.904619251058712\n",
      "Iter: 1000, weights: [56.49943501  6.30294393 -0.35598649  6.57116047], error 24.904619227748505\n",
      "Iter: 1500, weights: [56.49943501  6.30294393 -0.35598649  6.57116047], error 24.90461922774784\n",
      "Iter: 2000, weights: [56.49943501  6.30294393 -0.35598649  6.57116047], error 24.90461922774785\n",
      "Iter: 2500, weights: [56.49943501  6.30294393 -0.35598649  6.57116047], error 24.90461922774785\n",
      "Iter: 3000, weights: [56.49943501  6.30294393 -0.35598649  6.57116047], error 24.90461922774785\n",
      "Iter: 3500, weights: [56.49943501  6.30294393 -0.35598649  6.57116047], error 24.90461922774785\n",
      "Iter: 4000, weights: [56.49943501  6.30294393 -0.35598649  6.57116047], error 24.90461922774785\n",
      "Iter: 4500, weights: [56.49943501  6.30294393 -0.35598649  6.57116047], error 24.90461922774785\n",
      "Final MSE: 24.90461922774785\n",
      "Iter: 0, weights: [11.91931473  2.49317021  0.72282694  3.10790742], error 3269.8409629703615\n",
      "Iter: 500, weights: [56.4999435   6.30305969 -0.35625763  6.57136973], error 24.904618883251278\n",
      "Iter: 1000, weights: [56.4999435   6.30307853 -0.35634861  6.57144482], error 24.90461888041693\n",
      "Iter: 1500, weights: [56.4999435   6.30307853 -0.35634861  6.57144483], error 24.904618880416898\n",
      "Iter: 2000, weights: [56.4999435   6.30307853 -0.35634861  6.57144483], error 24.904618880416876\n",
      "Iter: 2500, weights: [56.4999435   6.30307853 -0.35634861  6.57144483], error 24.904618880416876\n",
      "Iter: 3000, weights: [56.4999435   6.30307853 -0.35634861  6.57144483], error 24.904618880416876\n"
     ]
    },
    {
     "name": "stdout",
     "output_type": "stream",
     "text": [
      "Iter: 3500, weights: [56.4999435   6.30307853 -0.35634861  6.57144483], error 24.904618880416876\n",
      "Iter: 4000, weights: [56.4999435   6.30307853 -0.35634861  6.57144483], error 24.904618880416876\n",
      "Iter: 4500, weights: [56.4999435   6.30307853 -0.35634861  6.57144483], error 24.904618880416876\n",
      "Final MSE: 24.904618880416876\n",
      "Iter: 0, weights: [12.42847256  1.13309942  2.23783864  3.82463938], error 3162.395567174166\n",
      "Iter: 500, weights: [56.49999435  6.30306834 -0.35627064  6.57137902], error 24.904618879500067\n",
      "Iter: 1000, weights: [56.49999435  6.303092   -0.35638482  6.57147326], error 24.9046188769435\n",
      "Iter: 1500, weights: [56.49999435  6.303092   -0.35638483  6.57147327], error 24.904618876943466\n",
      "Iter: 2000, weights: [56.49999435  6.303092   -0.35638483  6.57147327], error 24.904618876943477\n",
      "Iter: 2500, weights: [56.49999435  6.303092   -0.35638483  6.57147327], error 24.904618876943477\n",
      "Iter: 3000, weights: [56.49999435  6.303092   -0.35638483  6.57147327], error 24.904618876943477\n",
      "Iter: 3500, weights: [56.49999435  6.303092   -0.35638483  6.57147327], error 24.904618876943477\n",
      "Iter: 4000, weights: [56.49999435  6.303092   -0.35638483  6.57147327], error 24.904618876943477\n",
      "Iter: 4500, weights: [56.49999435  6.303092   -0.35638483  6.57147327], error 24.904618876943477\n",
      "Final MSE: 24.904618876943477\n"
     ]
    }
   ],
   "source": [
    "weights = np.zeros([len(lambda_list), X.shape[1] + 1])\n",
    "for i, reg in enumerate(lambda_list):\n",
    "    weights[i, 0] = reg    \n",
    "    weights[i, 1:] = gradient_descent_reg_l2(X_st, y, iterations=5000, eta=1e-1, reg=reg)"
   ]
  },
  {
   "cell_type": "code",
   "execution_count": 10,
   "metadata": {},
   "outputs": [
    {
     "data": {
      "image/png": "[encoded data removed]",
      "text/plain": [
       "<Figure size 432x288 with 1 Axes>"
      ]
     },
     "metadata": {
      "needs_background": "light"
     },
     "output_type": "display_data"
    }
   ],
   "source": [
    "plt.figure()\n",
    "for reg in range(X.shape[1]):\n",
    "    plt.plot(weights[:, 0], weights[:, reg + 1], label=f'Weight №{reg+1}')\n",
    "plt.xscale('log')\n",
    "plt.legend()\n",
    "plt.show()"
   ]
  },
  {
   "cell_type": "markdown",
   "metadata": {},
   "source": [
    "Вывод: при увеличении $\\lambda$ до некотрого предела (в данном случае до $10^-2$) веса начинают уменьшаться вплоть до околонулевых значений"
   ]
  },
  {
   "cell_type": "markdown",
   "metadata": {},
   "source": [
    "2. Напишите функцию наподобие gradient_descent_reg_l2, но для применения L1-регуляризации."
   ]
  },
  {
   "cell_type": "code",
   "execution_count": 11,
   "metadata": {},
   "outputs": [],
   "source": [
    "def gradient_descent_reg_l1(X, y, iterations, eta=1e-4, reg=1e-8):\n",
    "    W = np.random.randn(X.shape[1])\n",
    "    n = X.shape[0]\n",
    "    \n",
    "    for i in range(0, iterations):\n",
    "        y_pred = np.dot(X, W)\n",
    "        err = calc_mse(y, y_pred)\n",
    "        \n",
    "        dQ = 2/n * X.T @ (y_pred - y) # градиент функции ошибки\n",
    "        dReg = reg * np.sign(W) # градиент регуляризации\n",
    "        \n",
    "        W -= eta * (dQ + dReg)\n",
    "        \n",
    "        if i % (iterations / 10) == 0:\n",
    "            print(f'Iter: {i}, weights: {W}, error {err}')\n",
    "    \n",
    "    print(f'Final MSE: {calc_mse(y, np.dot(X, W))}')\n",
    "    return W"
   ]
  },
  {
   "cell_type": "code",
   "execution_count": 12,
   "metadata": {},
   "outputs": [
    {
     "name": "stdout",
     "output_type": "stream",
     "text": [
      "Iter: 0, weights: [-87.79257916 -97.63669536 -98.01071175 -96.63150032], error 3173.431433754808\n",
      "Iter: 500, weights: [110.0420702  -60.62914693 -68.44293515 -61.11249936], error 39014.157746198856\n",
      "Iter: 1000, weights: [104.37471848 -60.62911737 -68.44307788 -61.11238155], error 39887.13550175373\n",
      "Iter: 1500, weights: [ 82.75548737 -60.62911737 -68.44307789 -61.11238155], error 44139.023266869\n",
      "Iter: 2000, weights: [  0.28466556 -60.62911737 -68.44307789 -61.11238155], error 38637.21669719663\n",
      "Iter: 2500, weights: [ -1.57241225 -60.62911737 -68.44307789 -61.11238155], error 38388.506816213885\n",
      "Iter: 3000, weights: [ -8.6566019  -60.62911737 -68.44307789 -61.11238155], error 37538.725217076935\n",
      "Iter: 3500, weights: [-35.68064079 -60.62911737 -68.44307789 -61.11238155], error 35737.287697144064\n",
      "Iter: 4000, weights: [111.23083195 -60.62911737 -68.44307789 -61.11238155], error 38843.78019252651\n",
      "Iter: 4500, weights: [108.90948469 -60.62911737 -68.44307789 -61.11238155], error 39180.59202371352\n",
      "Final MSE: 40620.06985733179\n",
      "Iter: 0, weights: [20.76308492 11.31132833 11.65152072 -7.37764069], error 3467.4295811413385\n",
      "Iter: 500, weights: [ 6.5        -0.39015204 -7.16493972 -0.19700679], error 2881.073095955792\n",
      "Iter: 1000, weights: [ 6.5        -0.39012759 -7.16505775 -0.19690938], error 2881.0730999956245\n",
      "Iter: 1500, weights: [ 6.5        -0.39012759 -7.16505775 -0.19690937], error 2881.073099995759\n",
      "Iter: 2000, weights: [ 6.5        -0.39012759 -7.16505775 -0.19690937], error 2881.0730999957586\n",
      "Iter: 2500, weights: [ 6.5        -0.39012759 -7.16505775 -0.19690937], error 2881.0730999957586\n",
      "Iter: 3000, weights: [ 6.5        -0.39012759 -7.16505775 -0.19690937], error 2881.0730999957586\n",
      "Iter: 3500, weights: [ 6.5        -0.39012759 -7.16505775 -0.19690937], error 2881.0730999957586\n",
      "Iter: 4000, weights: [ 6.5        -0.39012759 -7.16505775 -0.19690937], error 2881.0730999957586\n",
      "Iter: 4500, weights: [ 6.5        -0.39012759 -7.16505775 -0.19690937], error 2881.0730999957586\n",
      "Final MSE: 2881.0730999957586\n",
      "Iter: 0, weights: [10.71721162  1.79582966  2.54429211  1.63548402], error 3556.24338434136\n",
      "Iter: 500, weights: [51.5         2.97993112  0.79245433  2.84671126], error 80.48473251625664\n",
      "Iter: 1000, weights: [51.5         2.92503992  0.90254615  2.79561821], error 80.42555499383123\n",
      "Iter: 1500, weights: [51.5         2.87169324  1.06916163  2.77239079], error 78.62759960027135\n",
      "Iter: 2000, weights: [51.5         2.91493425  1.31613633  2.8409714 ], error 71.99099747538908\n",
      "Iter: 2500, weights: [ 5.15000000e+01  3.34564105e+00 -1.85858261e-02  3.32500923e+00], error 79.71298105099805\n",
      "Iter: 3000, weights: [51.5         3.31939966  0.05208751  3.2777304 ], error 79.7729553267649\n",
      "Iter: 3500, weights: [51.5         3.29606465  0.1169554   3.23361993], error 79.8292488252964\n",
      "Iter: 4000, weights: [51.5         3.26388607  0.19627612  3.18315388], error 79.90174903937363\n",
      "Iter: 4500, weights: [51.5         3.2353829   0.26901834  3.13591417], error 79.96979424055577\n",
      "Final MSE: 80.05816705865881\n",
      "Iter: 0, weights: [10.83295455  2.50922013  1.91796013  1.43045067], error 3474.6238792697104\n",
      "Iter: 500, weights: [5.60000000e+01 5.88627608e+00 4.31426521e-02 5.99060539e+00], error 25.501021897611484\n",
      "Iter: 1000, weights: [56.          5.8768381   0.10364336  5.98230297], error 25.426266376059207\n",
      "Iter: 1500, weights: [5.60000000e+01 5.90531640e+00 1.49023967e-03 6.01270353e+00], error 25.497320529058975\n",
      "Iter: 2000, weights: [5.60000000e+01 5.88627711e+00 4.31376762e-02 5.99060950e+00], error 25.50102087914035\n",
      "Iter: 2500, weights: [56.          5.8768381   0.10364336  5.98230297], error 25.426266376022983\n",
      "Iter: 3000, weights: [5.60000000e+01 5.90531640e+00 1.49023967e-03 6.01270353e+00], error 25.49732052905896\n",
      "Iter: 3500, weights: [5.60000000e+01 5.88627711e+00 4.31376762e-02 5.99060950e+00], error 25.50102087914035\n",
      "Iter: 4000, weights: [56.          5.8768381   0.10364336  5.98230297], error 25.426266376022983\n",
      "Iter: 4500, weights: [5.60000000e+01 5.90531640e+00 1.49023967e-03 6.01270353e+00], error 25.49732052905896\n",
      "Final MSE: 25.50102087914035\n",
      "Iter: 0, weights: [12.26855464  2.30942437  2.4070881   1.83114586], error 3209.453155348672\n",
      "Iter: 500, weights: [5.64500000e+01 6.17159422e+00 6.01249162e-03 6.30230501e+00], error 24.93056034068816\n",
      "Iter: 1000, weights: [5.64500000e+01 6.17159469e+00 6.01023197e-03 6.30230688e+00], error 24.930560056334137\n",
      "Iter: 1500, weights: [5.64500000e+01 6.17159469e+00 6.01023190e-03 6.30230688e+00], error 24.93056005632471\n",
      "Iter: 2000, weights: [5.64500000e+01 6.17159469e+00 6.01023190e-03 6.30230688e+00], error 24.93056005632469\n",
      "Iter: 2500, weights: [5.64500000e+01 6.17159469e+00 6.01023190e-03 6.30230688e+00], error 24.930560056324698\n",
      "Iter: 3000, weights: [5.64500000e+01 6.17159469e+00 6.01023190e-03 6.30230688e+00], error 24.930560056324698\n",
      "Iter: 3500, weights: [5.64500000e+01 6.17159469e+00 6.01023190e-03 6.30230688e+00], error 24.930560056324698\n",
      "Iter: 4000, weights: [5.64500000e+01 6.17159469e+00 6.01023190e-03 6.30230688e+00], error 24.93056005632469\n",
      "Iter: 4500, weights: [5.64500000e+01 6.17159469e+00 6.01023190e-03 6.30230688e+00], error 24.93056005632469\n",
      "Final MSE: 24.930560056324698\n",
      "Iter: 0, weights: [10.54923183  3.89639418  2.05349259  1.28921348], error 3427.423943621828\n",
      "Iter: 500, weights: [56.495       6.28284207 -0.29673215  6.52797022], error 24.90526219457363\n",
      "Iter: 1000, weights: [56.495       6.2828664  -0.29684961  6.52806717], error 24.905259754897\n",
      "Iter: 1500, weights: [56.495       6.2828664  -0.29684961  6.52806717], error 24.905259754816107\n",
      "Iter: 2000, weights: [56.495       6.2828664  -0.29684961  6.52806717], error 24.905259754816097\n",
      "Iter: 2500, weights: [56.495       6.2828664  -0.29684961  6.52806717], error 24.905259754816093\n",
      "Iter: 3000, weights: [56.495       6.2828664  -0.29684961  6.52806717], error 24.905259754816093\n",
      "Iter: 3500, weights: [56.495       6.2828664  -0.29684961  6.52806717], error 24.905259754816097\n",
      "Iter: 4000, weights: [56.495       6.2828664  -0.29684961  6.52806717], error 24.905259754816093\n",
      "Iter: 4500, weights: [56.495       6.2828664  -0.29684961  6.52806717], error 24.905259754816093\n",
      "Final MSE: 24.905259754816097\n",
      "Iter: 0, weights: [9.83153425 1.04969558 2.5139333  2.24219599], error 3590.8105536072276\n",
      "Iter: 500, weights: [56.4995      6.30104124 -0.35029229  6.56701777], error 24.90462558537482\n",
      "Iter: 1000, weights: [56.4995      6.30107078 -0.35043492  6.5671355 ], error 24.904625285697286\n",
      "Iter: 1500, weights: [56.4995      6.30107078 -0.35043493  6.5671355 ], error 24.90462528568747\n",
      "Iter: 2000, weights: [56.4995      6.30107078 -0.35043493  6.5671355 ], error 24.904625285687487\n",
      "Iter: 2500, weights: [56.4995      6.30107078 -0.35043493  6.5671355 ], error 24.904625285687487\n",
      "Iter: 3000, weights: [56.4995      6.30107078 -0.35043493  6.5671355 ], error 24.904625285687487\n",
      "Iter: 3500, weights: [56.4995      6.30107078 -0.35043493  6.5671355 ], error 24.904625285687487\n",
      "Iter: 4000, weights: [56.4995      6.30107078 -0.35043493  6.5671355 ], error 24.904625285687487\n",
      "Iter: 4500, weights: [56.4995      6.30107078 -0.35043493  6.5671355 ], error 24.904625285687487\n",
      "Final MSE: 24.904625285687487\n",
      "Iter: 0, weights: [10.38368598  4.21385579  0.72759057  2.3708264 ], error 3448.3171879841343\n",
      "Iter: 500, weights: [56.49995     6.30287138 -0.35569768  6.57096328], error 24.904618962551336\n",
      "Iter: 1000, weights: [56.49995     6.30289122 -0.35579345  6.57104233], error 24.90461894099683\n",
      "Iter: 1500, weights: [56.49995     6.30289122 -0.35579346  6.57104233], error 24.904618940996173\n",
      "Iter: 2000, weights: [56.49995     6.30289122 -0.35579346  6.57104233], error 24.90461894099619\n",
      "Iter: 2500, weights: [56.49995     6.30289122 -0.35579346  6.57104233], error 24.90461894099619\n",
      "Iter: 3000, weights: [56.49995     6.30289122 -0.35579346  6.57104233], error 24.90461894099619\n",
      "Iter: 3500, weights: [56.49995     6.30289122 -0.35579346  6.57104233], error 24.90461894099619\n",
      "Iter: 4000, weights: [56.49995     6.30289122 -0.35579346  6.57104233], error 24.90461894099619\n",
      "Iter: 4500, weights: [56.49995     6.30289122 -0.35579346  6.57104233], error 24.90461894099619\n",
      "Final MSE: 24.90461894099619\n",
      "Iter: 0, weights: [12.28346443  2.56542676  0.46041626  3.44512346], error 3212.822948807548\n",
      "Iter: 500, weights: [56.499995    6.30305664 -0.35624903  6.57136675], error 24.904618880397088\n"
     ]
    },
    {
     "name": "stdout",
     "output_type": "stream",
     "text": [
      "Iter: 1000, weights: [56.499995    6.30307326 -0.35632931  6.57143301], error 24.90461887754933\n",
      "Iter: 1500, weights: [56.499995    6.30307326 -0.35632931  6.57143302], error 24.904618877549265\n",
      "Iter: 2000, weights: [56.499995    6.30307326 -0.35632931  6.57143302], error 24.90461887754926\n",
      "Iter: 2500, weights: [56.499995    6.30307326 -0.35632931  6.57143302], error 24.90461887754926\n",
      "Iter: 3000, weights: [56.499995    6.30307326 -0.35632931  6.57143302], error 24.90461887754926\n",
      "Iter: 3500, weights: [56.499995    6.30307326 -0.35632931  6.57143302], error 24.90461887754926\n",
      "Iter: 4000, weights: [56.499995    6.30307326 -0.35632931  6.57143302], error 24.90461887754926\n",
      "Iter: 4500, weights: [56.499995    6.30307326 -0.35632931  6.57143302], error 24.90461887754926\n",
      "Final MSE: 24.90461887754926\n",
      "Iter: 0, weights: [10.3725978   1.66956292  1.88701799  1.20429102], error 3568.521330551547\n",
      "Iter: 500, weights: [56.4999995   6.30306104 -0.35623597  6.57135081], error 24.904618881178866\n",
      "Iter: 1000, weights: [56.4999995   6.30309147 -0.35638289  6.57147208], error 24.904618876914796\n",
      "Iter: 1500, weights: [56.4999995   6.30309147 -0.3563829   6.57147208], error 24.904618876914792\n",
      "Iter: 2000, weights: [56.4999995   6.30309147 -0.3563829   6.57147208], error 24.904618876914803\n",
      "Iter: 2500, weights: [56.4999995   6.30309147 -0.3563829   6.57147208], error 24.904618876914803\n",
      "Iter: 3000, weights: [56.4999995   6.30309147 -0.3563829   6.57147208], error 24.904618876914803\n",
      "Iter: 3500, weights: [56.4999995   6.30309147 -0.3563829   6.57147208], error 24.904618876914803\n",
      "Iter: 4000, weights: [56.4999995   6.30309147 -0.3563829   6.57147208], error 24.904618876914803\n",
      "Iter: 4500, weights: [56.4999995   6.30309147 -0.3563829   6.57147208], error 24.904618876914803\n",
      "Final MSE: 24.904618876914803\n",
      "Iter: 0, weights: [10.93719551  2.68029051  1.09852948  2.52243119], error 3409.4034211095336\n",
      "Iter: 500, weights: [56.49999995  6.30307117 -0.35628148  6.57138786], error 24.90461887902176\n",
      "Iter: 1000, weights: [56.49999995  6.30309329 -0.35638825  6.57147599], error 24.904618876908437\n",
      "Iter: 1500, weights: [56.49999995  6.30309329 -0.35638825  6.57147599], error 24.904618876908444\n",
      "Iter: 2000, weights: [56.49999995  6.30309329 -0.35638825  6.57147599], error 24.904618876908465\n",
      "Iter: 2500, weights: [56.49999995  6.30309329 -0.35638825  6.57147599], error 24.904618876908465\n",
      "Iter: 3000, weights: [56.49999995  6.30309329 -0.35638825  6.57147599], error 24.904618876908465\n",
      "Iter: 3500, weights: [56.49999995  6.30309329 -0.35638825  6.57147599], error 24.904618876908465\n",
      "Iter: 4000, weights: [56.49999995  6.30309329 -0.35638825  6.57147599], error 24.904618876908465\n",
      "Iter: 4500, weights: [56.49999995  6.30309329 -0.35638825  6.57147599], error 24.904618876908465\n",
      "Final MSE: 24.904618876908465\n"
     ]
    }
   ],
   "source": [
    "weights = np.zeros([len(lambda_list), X.shape[1] + 1])\n",
    "for i, reg in enumerate(lambda_list):\n",
    "    weights[i, 0] = reg    \n",
    "    weights[i, 1:] = gradient_descent_reg_l1(X_st, y, iterations=5000, eta=1e-1, reg=reg)"
   ]
  },
  {
   "cell_type": "code",
   "execution_count": 13,
   "metadata": {},
   "outputs": [
    {
     "data": {
      "image/png": "[encoded data removed]",
      "text/plain": [
       "<Figure size 432x288 with 1 Axes>"
      ]
     },
     "metadata": {
      "needs_background": "light"
     },
     "output_type": "display_data"
    }
   ],
   "source": [
    "plt.figure()\n",
    "for reg in range(X.shape[1]):\n",
    "    plt.plot(weights[:, 0], weights[:, reg + 1], label=f'Weight №{reg+1}')\n",
    "plt.xscale('log')\n",
    "plt.legend()\n",
    "plt.show()"
   ]
  },
  {
   "cell_type": "markdown",
   "metadata": {},
   "source": [
    "3. *Можно ли к одному и тому же признаку применить сразу и нормализацию, и стандартизацию?"
   ]
  },
  {
   "cell_type": "code",
   "execution_count": 14,
   "metadata": {},
   "outputs": [
    {
     "data": {
      "text/plain": [
       "array([0.1, 0.1, 0.2, 0.5, 0.3, 0. , 0.5, 1. , 0.1, 0.2])"
      ]
     },
     "metadata": {},
     "output_type": "display_data"
    },
    {
     "data": {
      "text/plain": [
       "array([-0.70710678, -0.70710678, -0.35355339,  0.70710678,  0.        ,\n",
       "       -1.06066017,  0.70710678,  2.47487373, -0.70710678, -0.35355339])"
      ]
     },
     "metadata": {},
     "output_type": "display_data"
    },
    {
     "data": {
      "text/plain": [
       "array([0.1, 0.1, 0.2, 0.5, 0.3, 0. , 0.5, 1. , 0.1, 0.2])"
      ]
     },
     "metadata": {},
     "output_type": "display_data"
    },
    {
     "data": {
      "text/plain": [
       "array([-7.07106781e-01, -7.07106781e-01, -3.53553391e-01,  7.07106781e-01,\n",
       "       -1.96261557e-16, -1.06066017e+00,  7.07106781e-01,  2.47487373e+00,\n",
       "       -7.07106781e-01, -3.53553391e-01])"
      ]
     },
     "metadata": {},
     "output_type": "display_data"
    }
   ],
   "source": [
    "display(min_max_scale(X[:, 1])),\n",
    "display(standard_scale(X[:, 1])),\n",
    "display(min_max_scale(standard_scale(X[:, 1]))),\n",
    "display(standard_scale(min_max_scale(X[:, 1])))"
   ]
  },
  {
   "cell_type": "markdown",
   "metadata": {},
   "source": [
    "При стандартизации и нормализации происходит только масштабирование данных, следовательно, применение обоих методов возможно, но не имеет смысла, так как данные будут масштабированы тем методом, который был применён последним"
   ]
  },
  {
   "cell_type": "markdown",
   "metadata": {
    "id": "osNM_LLkiqu6"
   },
   "source": [
    "4. *Сгенерируйте датасет при помощи <code>sklearn.datasets.make_regression</code> и обучите линейную модель при помощи градиентного и стохастического градиентного спуска. Нанесите среднеквадратичную ошибку для обоих методов на один график, сделайте выводы о разнице скорости сходимости каждого из методов."
   ]
  },
  {
   "cell_type": "code",
   "execution_count": 15,
   "metadata": {},
   "outputs": [],
   "source": [
    "# классический  GD\n",
    "def gradient_descent_custom(X, y, iterations, eta=1e-4):\n",
    "    W = np.random.randn(X.shape[1])\n",
    "    n = X.shape[0]\n",
    "    results = np.zeros((iterations,2))\n",
    "    for i in range(0, iterations):\n",
    "        y_pred = np.dot(X, W)\n",
    "        err = calc_mse(y, y_pred)\n",
    "        dQ = 2/n * X.T @ (y_pred - y) # градиент функции ошибки\n",
    "        W -= (eta * dQ)\n",
    "        \n",
    "        results[i, :] = [i, err]\n",
    "        \n",
    "        if i % (iterations / 10) == 0:\n",
    "            print(f'Iter: {i}, weights: {W}, error {err}')\n",
    "            \n",
    "    \n",
    "    print(f'Final MSE: {err}')\n",
    "    return W, results"
   ]
  },
  {
   "cell_type": "code",
   "execution_count": 16,
   "metadata": {},
   "outputs": [],
   "source": [
    "# стохастический градиентный спуск\n",
    "def stohastic_gradient_descent_custom(X, y, iterations, batch_size=1, eta=1e-4):\n",
    "    W = np.random.randn(X.shape[1])\n",
    "    n = X.shape[0]\n",
    "    results = np.zeros((iterations, 2))        \n",
    "    for i in range(0, iterations):\n",
    "        \n",
    "        inds = np.random.randint(n, size=batch_size)\n",
    "\n",
    "        X_tmp = X[inds, ]\n",
    "        y_tmp = np.array(y)[inds]\n",
    "\n",
    "        y_pred_tmp = np.dot(X_tmp, W)\n",
    "        dQ = 2/len(y_tmp) * X_tmp.T @ (y_pred_tmp - y_tmp) # градиент функции ошибки\n",
    "        W -= (eta * dQ)\n",
    "\n",
    "        err = calc_mse(y, np.dot(X, W))\n",
    "        results[i, :] = [i, err]\n",
    "        if i % (iterations / 10) == 0:\n",
    "            print(f'Iter: {i}, weights: {W}, error {err}')\n",
    "    \n",
    "    print(f'Final MSE: {err}')\n",
    "    return W, results"
   ]
  },
  {
   "cell_type": "code",
   "execution_count": 17,
   "metadata": {},
   "outputs": [],
   "source": [
    "X, y = datasets.make_regression(100, 5, n_targets=1, noise=5)"
   ]
  },
  {
   "cell_type": "code",
   "execution_count": 18,
   "metadata": {},
   "outputs": [
    {
     "data": {
      "text/plain": [
       "array([[-1.75422445, -1.01396113,  1.75882866,  0.89914999,  2.55810787],\n",
       "       [-0.3645516 , -0.82880328, -0.71236189, -0.43160816, -1.12620529],\n",
       "       [-1.47192102,  0.34999733,  0.06222801, -0.90818104, -1.01384678],\n",
       "       [ 0.88506382,  1.31889478,  1.38817231,  1.03235869,  0.85656326],\n",
       "       [ 0.1254651 , -0.18406145, -0.49385523, -0.84135772,  0.45554872],\n",
       "       [-2.16700292,  0.94250961,  1.26405242,  0.94305847,  0.28331593],\n",
       "       [-1.28836148, -0.38749578, -0.40385869,  1.47028272,  0.6295604 ],\n",
       "       [ 0.36439523,  0.77848032,  1.01334815, -1.02853099, -1.4861046 ],\n",
       "       [-0.92109169,  0.8194627 , -0.18384235, -0.51695933,  0.11872248],\n",
       "       [-0.90658332, -0.11147069,  0.3968252 , -1.13656215,  1.21668789],\n",
       "       [ 0.48699786,  1.18445341,  1.89402624, -0.31307309, -1.06213094],\n",
       "       [-0.13356223,  0.34285625,  1.76985545,  0.8510602 ,  0.37816074],\n",
       "       [-1.32118585,  0.82008416, -0.98675523,  0.35395986,  1.37436419],\n",
       "       [ 0.4790324 , -1.29270462, -0.19590672, -1.49789151,  0.14672134],\n",
       "       [ 0.47989797, -0.75227883, -0.79336998, -0.01057999, -0.21883402],\n",
       "       [-0.12833754,  0.57347798, -1.21749156, -0.78953427, -1.4891618 ],\n",
       "       [-0.68189752,  0.44975714,  0.5933522 ,  0.39237125,  0.03474708],\n",
       "       [-0.97913082,  0.27088172,  0.68832012,  0.50502245, -0.40950516],\n",
       "       [-1.1920502 ,  1.21930967,  0.99283745, -0.65716021,  0.16458952],\n",
       "       [ 0.66819913, -1.06219262,  0.58800762, -0.05670868, -1.7039463 ],\n",
       "       [ 1.80378328,  0.43968683, -1.32843852,  0.17201901,  0.59882874],\n",
       "       [ 1.4404138 , -0.48219853, -0.7663392 , -0.35618737, -0.68681894],\n",
       "       [-0.41723592, -0.2303701 ,  0.53415863,  0.58808423,  0.91322899],\n",
       "       [-0.15102759,  0.76619346,  0.38617049,  0.11486127, -0.14464941],\n",
       "       [ 0.45264844, -1.10943708,  0.32489144,  0.30167664,  0.71632788],\n",
       "       [-0.225938  ,  0.45249998, -0.61381601, -0.98343395, -0.55557678],\n",
       "       [-0.5616831 ,  0.84489483, -1.04937001, -0.60843788,  1.14231931],\n",
       "       [-1.42408817, -1.49322677, -0.0983826 , -0.78895109,  0.78705799],\n",
       "       [ 0.39299805,  1.0392313 , -1.96919426,  0.66787099,  0.31228691],\n",
       "       [ 0.88354956, -0.69748369, -0.66123076,  0.63985955, -0.53337409],\n",
       "       [-0.18874781, -1.29781749,  0.76299755,  0.11173795, -0.48933096],\n",
       "       [ 0.48683197, -0.57269185,  1.70181531, -0.47270072, -1.14510977],\n",
       "       [-1.33758058, -0.28478402,  1.33012528,  1.88663663,  1.87742589],\n",
       "       [ 0.16897806, -1.03609746,  0.14287957,  1.14398218, -0.09640151],\n",
       "       [ 0.45671728, -1.37769395,  2.62943058,  1.06369395, -0.80066572],\n",
       "       [-0.0226023 , -1.21432092, -0.39679909, -0.20021482,  1.36173536],\n",
       "       [ 1.32745095,  0.58463907,  1.19289424,  1.84595244, -0.89439096],\n",
       "       [ 0.52438931,  0.6060106 , -0.01447729, -0.96310066,  1.51446376],\n",
       "       [-0.44354004,  0.4917688 , -1.43234519,  1.28163036,  0.67006336],\n",
       "       [ 0.83130186, -0.3790881 , -0.14970341,  0.27793348,  0.28532985],\n",
       "       [-1.34431599, -0.32754264, -0.04008512,  0.29405906,  0.74160707],\n",
       "       [ 1.65594352, -0.26948321, -3.39945824,  0.63440891, -0.17610911],\n",
       "       [ 1.23411698,  0.98087926, -0.81597196,  1.19530464, -0.01468312],\n",
       "       [-0.07619629, -0.54001376, -1.30618662, -0.2421598 ,  0.91108235],\n",
       "       [ 0.17165826, -1.33838711,  2.51096829, -0.56366143, -0.89541331],\n",
       "       [-0.27829418, -0.51888151,  0.35799515, -0.68829732, -0.02677643],\n",
       "       [ 2.17306826,  1.38180943, -0.1009487 ,  1.99176799, -0.25396418],\n",
       "       [-0.72934713,  0.64183405,  0.94739802,  1.70770574, -0.55540982],\n",
       "       [-0.35215168,  0.2431855 , -0.10467086, -0.59099378, -1.2252327 ],\n",
       "       [-1.09367378, -0.68299917,  0.09512292,  0.29442471, -0.1571181 ],\n",
       "       [-0.61160122, -1.40132768, -0.15437832, -0.50971871, -0.45093406],\n",
       "       [ 0.54049243,  0.04212143,  0.95011463, -0.84982099, -1.20060228],\n",
       "       [ 1.38209055,  0.30415199, -1.61619912,  0.13589369,  0.86388994],\n",
       "       [ 0.2560768 ,  0.20957082,  0.71557607, -2.00889146,  1.50000273],\n",
       "       [-0.5126533 , -1.37136599, -0.26315127,  0.84725119,  0.25506839],\n",
       "       [-0.14045558,  0.72994997, -1.44976262,  1.87795428,  1.44470799],\n",
       "       [ 0.83706198, -0.91150049,  0.803991  ,  2.03347343,  1.00163315],\n",
       "       [-1.40450474,  0.35240181, -0.28559854, -0.45221346,  0.24883864],\n",
       "       [-0.93324806, -1.58940869, -0.75759369,  0.16715315, -0.01735594],\n",
       "       [-0.05567463,  0.46606237,  1.25606758,  1.0330431 ,  0.00924556],\n",
       "       [-0.68613238,  0.21002094,  1.3867475 ,  1.31186794,  1.31086084],\n",
       "       [ 0.18910703,  0.22112075, -0.45942167,  1.03357043, -1.12014307],\n",
       "       [ 1.75046755, -0.72603565,  0.52915691, -1.7494609 ,  0.23933592],\n",
       "       [ 0.53750037, -2.144912  , -0.50704024, -1.3830614 , -1.20295685],\n",
       "       [-1.8094381 , -0.97420151,  1.15763148, -0.5040372 ,  1.02852601],\n",
       "       [ 1.19861498, -0.01684785,  0.2361748 , -1.86043028,  2.38685281],\n",
       "       [-1.00818836,  2.38040252,  0.86260077,  0.70709231, -0.56520685],\n",
       "       [-0.6239237 , -0.61738991,  0.54853275, -0.31457955, -1.1260468 ],\n",
       "       [ 0.43888946, -0.47245491,  0.05700871,  1.55067579,  0.74758469],\n",
       "       [ 1.23213721, -0.96300015,  0.8709302 ,  2.93525825,  1.8727814 ],\n",
       "       [ 1.42250035, -0.09582684,  0.1144986 ,  0.31314499, -1.20375215],\n",
       "       [ 0.71142456, -1.09332978, -0.37957899,  0.19182725, -1.81659111],\n",
       "       [ 0.87611584, -0.9654697 ,  1.32989058,  1.18634359,  1.09616766],\n",
       "       [-1.05041837, -1.18406463,  0.77597028,  0.64979472,  1.11656276],\n",
       "       [-0.64425159, -1.24862656, -0.3069497 ,  2.00575098,  0.49444169],\n",
       "       [-2.10872246,  0.26617836,  0.84139099, -0.06176203,  0.84758717],\n",
       "       [-0.1703659 ,  1.22852587, -1.34435626,  0.77101127,  1.40964337],\n",
       "       [ 0.29821009,  0.00887823, -0.16024167, -1.20588106, -0.22263921],\n",
       "       [ 0.43447507,  0.34701543,  0.14273608, -0.00378756,  0.54248195],\n",
       "       [-0.21664385,  0.9055084 ,  0.41881191,  1.05953364, -0.23252586],\n",
       "       [ 0.04119143,  0.15470819,  2.51053196,  0.2260999 , -1.27029112],\n",
       "       [ 0.67332616,  0.621639  ,  0.63785765, -0.36931349, -1.29749584],\n",
       "       [-0.09491651, -1.78493818, -1.75500339, -0.35501102,  0.67359211],\n",
       "       [ 0.4555305 , -0.9917163 , -0.46890927,  1.25321313,  1.36585806],\n",
       "       [ 1.23448262,  0.77122075,  2.29441301, -0.87455223,  1.22970936],\n",
       "       [-0.1721438 , -0.48384835,  0.94175272, -0.33666836, -1.21855998],\n",
       "       [ 1.76537295,  2.0760746 , -0.72003521, -2.83022077, -0.94157704],\n",
       "       [ 0.17488548, -1.14836163, -1.71746988, -0.36840303,  0.29508183],\n",
       "       [ 0.22566025, -1.54740892, -0.37240897, -0.47343393, -0.73054515],\n",
       "       [ 0.56193363,  0.54449749, -1.62718333,  0.00608245, -0.1565723 ],\n",
       "       [-0.21192722,  1.45576634, -0.13218241,  0.52973601, -0.34088937],\n",
       "       [-0.84275143, -1.29964633,  0.62061948,  0.00837771,  1.45013225],\n",
       "       [-2.84816586, -0.99234167,  2.2953823 , -2.08199843,  0.44229199],\n",
       "       [ 0.99032418,  0.78205272,  0.57763101, -0.30330733,  0.56340724],\n",
       "       [-0.62433188,  0.72951224,  0.8157345 ,  0.73215074, -0.718279  ],\n",
       "       [-0.4113475 ,  0.52157687,  0.30277797,  0.23097848, -0.28854634],\n",
       "       [-0.63150543,  0.38823459,  1.22139562,  0.97417754,  0.91106032],\n",
       "       [-0.31529383,  1.14688469, -0.39432376, -1.51784524,  0.06699105],\n",
       "       [ 0.01503938,  2.41301376, -0.72296987, -1.16320824, -0.19621745],\n",
       "       [ 1.39761896,  0.59801436, -1.16470765, -0.31946878,  0.87611789]])"
      ]
     },
     "metadata": {},
     "output_type": "display_data"
    },
    {
     "data": {
      "text/plain": [
       "array([ 8.21515985e+01, -1.90962153e+02, -8.00096457e+01,  3.29190995e+02,\n",
       "       -6.06106507e+01,  1.44097102e+02, -2.40644767e+01,  6.18695702e+01,\n",
       "        1.98195091e+01, -1.51767743e+01,  2.09229840e+02,  1.86676420e+02,\n",
       "        2.88996267e+01, -1.79205554e+02, -1.20237414e+02, -1.06940972e+02,\n",
       "        7.29905656e+01,  3.93559524e+01,  1.07201309e+02, -9.62235405e+01,\n",
       "        4.41896021e+01, -8.87528118e+01,  5.85469861e+01,  9.24970824e+01,\n",
       "       -3.00232784e+01, -7.03308629e+01,  9.26088342e+00, -2.00306303e+02,\n",
       "        1.88389198e+01, -6.85155978e+01, -9.48522178e+01,  1.76075388e+01,\n",
       "        1.58035123e+02, -4.66567138e+01,  7.43336273e+01, -9.96327305e+01,\n",
       "        2.18748911e+02,  9.51928465e+01,  7.93128729e+00,  3.28572591e+00,\n",
       "       -4.29677181e+01, -1.74783220e+02,  1.29057282e+02, -1.28989276e+02,\n",
       "       -9.66975113e+00, -6.99791138e+01,  2.72647204e+02,  1.41879192e+02,\n",
       "       -6.25775915e+01, -8.51852626e+01, -2.05626252e+02,  9.73350483e+00,\n",
       "        7.23243158e+00,  5.47772991e+01, -1.25355481e+02,  1.00650761e+02,\n",
       "        1.03307821e+02, -4.12375668e+01, -2.25772475e+02,  1.69601075e+02,\n",
       "        1.88186442e+02,  2.06815362e-01, -3.76885723e+01, -3.13762370e+02,\n",
       "       -5.74400086e+01,  7.32737506e+01,  2.56513130e+02, -1.01969421e+02,\n",
       "        6.45526591e+01,  1.87421308e+02,  1.87972406e+01, -1.63389529e+02,\n",
       "        1.10466091e+02, -3.31070676e+01, -6.99911419e+01,  3.14387378e+01,\n",
       "        9.65031587e+01, -3.86422099e+01,  7.66966028e+01,  1.31744381e+02,\n",
       "        1.40757933e+02,  7.16088472e+01, -2.71154950e+02, -6.91041207e+00,\n",
       "        2.80859470e+02, -4.84484948e+01,  6.88192234e+01, -2.30322315e+02,\n",
       "       -1.98348039e+02, -4.16653599e+01,  1.30996023e+02, -6.38333353e+01,\n",
       "       -1.04482557e+02,  1.59937065e+02,  1.10063299e+02,  5.82708501e+01,\n",
       "        1.69063207e+02,  6.18028499e+00,  1.27933543e+02,  4.59670655e+01])"
      ]
     },
     "metadata": {},
     "output_type": "display_data"
    }
   ],
   "source": [
    "display(X, y)"
   ]
  },
  {
   "cell_type": "code",
   "execution_count": 19,
   "metadata": {},
   "outputs": [
    {
     "name": "stdout",
     "output_type": "stream",
     "text": [
      "Iter: 0, weights: [-0.22654933 -0.06648791  0.31724432  1.58515382 -2.03282008], error 16116.925678306196\n",
      "Iter: 200, weights: [ 6.70914467 28.15606378 22.10398228 17.62902025  7.77467262], error 7617.089890066554\n",
      "Iter: 400, weights: [12.74859348 48.130101   36.25271223 27.21545593 14.6717009 ], error 3682.4539920275042\n",
      "Iter: 600, weights: [17.72698924 62.21657428 45.58488637 32.87338245 19.65920523], error 1819.899668157047\n",
      "Iter: 800, weights: [21.70308746 72.12381571 51.83496125 36.14942428 23.34959505], error 920.7503422344682\n",
      "Iter: 1000, weights: [24.81848707 79.07703587 56.08299378 37.99021343 26.12917799], error 478.91214123026555\n",
      "Iter: 1200, weights: [27.23105609 83.94908806 59.01082334 38.97478194 28.25022798], error 258.1559373481\n",
      "Iter: 1400, weights: [29.0862838  87.35862827 61.05509026 39.45643362 29.88356836], error 146.07866820773978\n",
      "Iter: 1600, weights: [30.50733785 89.74241992 62.49952314 39.64969013 31.14896745], error 88.27658481401113\n",
      "Iter: 1800, weights: [31.59381425 91.40787536 63.53119976 39.6837519  32.13302435], error 58.000548413965525\n",
      "Final MSE: 41.95727331971693\n"
     ]
    }
   ],
   "source": [
    "ord_W, ord_results = gradient_descent_custom(X, y, iterations=2000, eta=1e-3)"
   ]
  },
  {
   "cell_type": "code",
   "execution_count": 20,
   "metadata": {},
   "outputs": [
    {
     "name": "stdout",
     "output_type": "stream",
     "text": [
      "Iter: 0, weights: [ 1.22098202 -0.25986851 -0.92957586  0.54359722 -0.01848123], error 16199.940328527453\n",
      "Iter: 200, weights: [ 8.54308122 31.63225411 23.9719651  18.371189    9.4927171 ], error 6860.006931572896\n",
      "Iter: 400, weights: [14.38927047 48.75177061 37.5646503  24.76694878 16.39926035], error 3546.537531391711\n",
      "Iter: 600, weights: [19.89977387 62.1924196  46.54123625 30.64301885 21.30810107], error 1752.167336618869\n",
      "Iter: 800, weights: [23.66669991 72.71514531 52.16131308 34.49499012 24.13558623], error 864.3178539315966\n",
      "Iter: 1000, weights: [26.68353412 79.32716869 56.18046697 36.54369065 26.96804416], error 447.6326925472908\n",
      "Iter: 1200, weights: [28.27844271 83.79279945 59.20344539 37.91364484 29.00529316], error 245.90699416896007\n",
      "Iter: 1400, weights: [30.00683912 87.60521794 62.03385082 38.74775338 30.39131319], error 125.75091073572911\n",
      "Iter: 1600, weights: [31.35240465 89.98978076 63.13241678 38.88296777 31.56083363], error 76.04367927339655\n",
      "Iter: 1800, weights: [32.2071852  91.5398105  63.93720204 39.10079162 32.54270556], error 51.22865181570797\n",
      "Final MSE: 38.471066607270544\n"
     ]
    }
   ],
   "source": [
    "st_W, st_results = stohastic_gradient_descent_custom(X, y, iterations=2000, batch_size=3, eta=1e-3)"
   ]
  },
  {
   "cell_type": "code",
   "execution_count": 21,
   "metadata": {},
   "outputs": [
    {
     "data": {
      "image/png": "[encoded data removed]",
      "text/plain": [
       "<Figure size 864x1080 with 1 Axes>"
      ]
     },
     "metadata": {
      "needs_background": "light"
     },
     "output_type": "display_data"
    }
   ],
   "source": [
    "plt.figure(figsize=(12, 15))\n",
    "plt.plot(ord_results[:, 0], ord_results[:, 1], label=\"Normal\")\n",
    "plt.plot(st_results[:, 0], st_results[:, 1], label=\"Stohastic\")\n",
    "plt.legend()\n",
    "plt.show()"
   ]
  },
  {
   "cell_type": "markdown",
   "metadata": {},
   "source": [
    "Кривая стохастического градиентного спуска более \"неровная\", конечная ошибка близка у обоих методов, но в обычном градиентном спуске меньше."
   ]
  }
 ],
 "metadata": {
  "kernelspec": {
   "display_name": "Python 3",
   "language": "python",
   "name": "python3"
  },
  "language_info": {
   "codemirror_mode": {
    "name": "ipython",
    "version": 3
   },
   "file_extension": ".py",
   "mimetype": "text/x-python",
   "name": "python",
   "nbconvert_exporter": "python",
   "pygments_lexer": "ipython3",
   "version": "3.7.4"
  }
 },
 "nbformat": 4,
 "nbformat_minor": 5
}
