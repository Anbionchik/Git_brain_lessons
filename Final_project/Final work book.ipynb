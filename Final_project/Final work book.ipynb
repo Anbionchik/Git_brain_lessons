{
 "cells": [
  {
   "cell_type": "markdown",
   "metadata": {},
   "source": [
    "## Online Gaming Anxiety Data\n",
    "Я решил взять следующий датасет: https://www.kaggle.com/datasets/divyansh22/online-gaming-anxiety-data/data\n",
    "В нём провели опрос 13.5 тысяч геймеров на предмет их удовлетворённости жизнью, тревожности и социальных фобий. \n",
    "Хочу попробовать выяснить связь тревожности с другими параметрами (игра, количество часов игры и т.д.)."
   ]
  },
  {
   "cell_type": "code",
   "execution_count": 8,
   "metadata": {},
   "outputs": [],
   "source": [
    "# import xgboost\n",
    "# import shap"
   ]
  },
  {
   "cell_type": "code",
   "execution_count": 60,
   "metadata": {},
   "outputs": [],
   "source": [
    "import numpy as np\n",
    "import pandas as pd\n",
    "import matplotlib.pyplot as plt\n",
    "import seaborn as sns\n",
    "import scipy\n",
    "\n",
    "from sklearn.pipeline import Pipeline, make_pipeline, FeatureUnion\n",
    "from sklearn.base import BaseEstimator, TransformerMixin\n",
    "from sklearn.linear_model import LogisticRegression, LinearRegression\n",
    "from sklearn.model_selection import train_test_split\n",
    "from sklearn.preprocessing import StandardScaler\n",
    "from sklearn.metrics import mean_squared_error as mse, r2_score as r2, mean_absolute_error as mae\n",
    "\n",
    "from sklearn.ensemble import RandomForestClassifier, RandomForestRegressor\n",
    "from sklearn.feature_selection import SelectFromModel\n",
    "from sklearn.metrics import f1_score, roc_auc_score, precision_score, classification_report, precision_recall_curve, confusion_matrix\n",
    "from scipy.stats import mannwhitneyu\n",
    "import itertools\n",
    "\n",
    "import matplotlib.pyplot as plt\n",
    "\n",
    "import seaborn as sns\n",
    "\n",
    "import warnings\n",
    "warnings.filterwarnings('ignore')"
   ]
  },
  {
   "cell_type": "code",
   "execution_count": 10,
   "metadata": {},
   "outputs": [],
   "source": [
    "def reduce_mem_usage(df):\n",
    "    \"\"\" iterate through all the columns of a dataframe and modify the data type\n",
    "        to reduce memory usage.        \n",
    "    \"\"\"\n",
    "    start_mem = df.memory_usage().sum() / 1024**2\n",
    "    print('Memory usage of dataframe is {:.2f} MB'.format(start_mem))\n",
    "    \n",
    "    for col in df.columns:\n",
    "        col_type = df[col].dtype\n",
    "        \n",
    "        if col_type != object:\n",
    "            c_min = df[col].min()\n",
    "            c_max = df[col].max()\n",
    "            if str(col_type)[:3] == 'int':\n",
    "                if c_min > np.iinfo(np.int8).min and c_max < np.iinfo(np.int8).max:\n",
    "                    df[col] = df[col].astype(np.int8)\n",
    "                elif c_min > np.iinfo(np.int16).min and c_max < np.iinfo(np.int16).max:\n",
    "                    df[col] = df[col].astype(np.int16)\n",
    "                elif c_min > np.iinfo(np.int32).min and c_max < np.iinfo(np.int32).max:\n",
    "                    df[col] = df[col].astype(np.int32)\n",
    "                elif c_min > np.iinfo(np.int64).min and c_max < np.iinfo(np.int64).max:\n",
    "                    df[col] = df[col].astype(np.int64)  \n",
    "            else:\n",
    "                if c_min > np.finfo(np.float32).min and c_max < np.finfo(np.float32).max:\n",
    "                    df[col] = df[col].astype(np.float32)\n",
    "                else:\n",
    "                    df[col] = df[col].astype(np.float64)\n",
    "        else:\n",
    "            df[col] = df[col].astype('category')\n",
    "\n",
    "    end_mem = df.memory_usage().sum() / 1024**2\n",
    "    print('Memory usage after optimization is: {:.2f} MB'.format(end_mem))\n",
    "    print('Decreased by {:.1f}%'.format(100 * (start_mem - end_mem) / start_mem))\n",
    "    \n",
    "    return df"
   ]
  },
  {
   "cell_type": "code",
   "execution_count": 66,
   "metadata": {},
   "outputs": [
    {
     "name": "stdout",
     "output_type": "stream",
     "text": [
      "<class 'pandas.core.frame.DataFrame'>\n",
      "RangeIndex: 13464 entries, 0 to 13463\n",
      "Data columns (total 55 columns):\n",
      " #   Column           Non-Null Count  Dtype  \n",
      "---  ------           --------------  -----  \n",
      " 0   S. No.           13464 non-null  int64  \n",
      " 1   Timestamp        13464 non-null  float64\n",
      " 2   GAD1             13464 non-null  int64  \n",
      " 3   GAD2             13464 non-null  int64  \n",
      " 4   GAD3             13464 non-null  int64  \n",
      " 5   GAD4             13464 non-null  int64  \n",
      " 6   GAD5             13464 non-null  int64  \n",
      " 7   GAD6             13464 non-null  int64  \n",
      " 8   GAD7             13464 non-null  int64  \n",
      " 9   GADE             12815 non-null  object \n",
      " 10  SWL1             13464 non-null  int64  \n",
      " 11  SWL2             13464 non-null  int64  \n",
      " 12  SWL3             13464 non-null  int64  \n",
      " 13  SWL4             13464 non-null  int64  \n",
      " 14  SWL5             13464 non-null  int64  \n",
      " 15  Game             13464 non-null  object \n",
      " 16  Platform         13464 non-null  object \n",
      " 17  Hours            13434 non-null  float64\n",
      " 18  earnings         13464 non-null  object \n",
      " 19  whyplay          13464 non-null  object \n",
      " 20  League           11626 non-null  object \n",
      " 21  highestleague    0 non-null      float64\n",
      " 22  streams          13364 non-null  float64\n",
      " 23  SPIN1            13340 non-null  float64\n",
      " 24  SPIN2            13310 non-null  float64\n",
      " 25  SPIN3            13324 non-null  float64\n",
      " 26  SPIN4            13305 non-null  float64\n",
      " 27  SPIN5            13298 non-null  float64\n",
      " 28  SPIN6            13308 non-null  float64\n",
      " 29  SPIN7            13326 non-null  float64\n",
      " 30  SPIN8            13320 non-null  float64\n",
      " 31  SPIN9            13306 non-null  float64\n",
      " 32  SPIN10           13304 non-null  float64\n",
      " 33  SPIN11           13277 non-null  float64\n",
      " 34  SPIN12           13296 non-null  float64\n",
      " 35  SPIN13           13277 non-null  float64\n",
      " 36  SPIN14           13308 non-null  float64\n",
      " 37  SPIN15           13317 non-null  float64\n",
      " 38  SPIN16           13317 non-null  float64\n",
      " 39  SPIN17           13289 non-null  float64\n",
      " 40  Narcissism       13441 non-null  float64\n",
      " 41  Gender           13464 non-null  object \n",
      " 42  Age              13464 non-null  int64  \n",
      " 43  Work             13426 non-null  object \n",
      " 44  Degree           13464 non-null  object \n",
      " 45  Birthplace       13464 non-null  object \n",
      " 46  Residence        13464 non-null  object \n",
      " 47  Reference        13449 non-null  object \n",
      " 48  Playstyle        13464 non-null  object \n",
      " 49  accept           13050 non-null  object \n",
      " 50  GAD_T            13464 non-null  int64  \n",
      " 51  SWL_T            13464 non-null  int64  \n",
      " 52  SPIN_T           12814 non-null  float64\n",
      " 53  Residence_ISO3   13354 non-null  object \n",
      " 54  Birthplace_ISO3  13343 non-null  object \n",
      "dtypes: float64(23), int64(16), object(16)\n",
      "memory usage: 5.6+ MB\n"
     ]
    }
   ],
   "source": [
    "df = pd.read_csv(\"GamingStudy_data.csv\", encoding = 'ISO-8859-1')\n",
    "df.info(3)"
   ]
  },
  {
   "cell_type": "code",
   "execution_count": 71,
   "metadata": {},
   "outputs": [
    {
     "data": {
      "text/plain": [
       "13464"
      ]
     },
     "execution_count": 71,
     "metadata": {},
     "output_type": "execute_result"
    }
   ],
   "source": [
    "len(df['S. No.'])"
   ]
  },
  {
   "cell_type": "code",
   "execution_count": 72,
   "metadata": {},
   "outputs": [
    {
     "data": {
      "text/plain": [
       "55"
      ]
     },
     "execution_count": 72,
     "metadata": {},
     "output_type": "execute_result"
    }
   ],
   "source": [
    "len(df.columns)"
   ]
  },
  {
   "cell_type": "code",
   "execution_count": null,
   "metadata": {},
   "outputs": [],
   "source": []
  },
  {
   "cell_type": "code",
   "execution_count": 12,
   "metadata": {},
   "outputs": [
    {
     "name": "stdout",
     "output_type": "stream",
     "text": [
      "Memory usage of dataframe is 5.65 MB\n",
      "Memory usage after optimization is: 1.81 MB\n",
      "Decreased by 67.9%\n"
     ]
    },
    {
     "data": {
      "text/html": [
       "<div>\n",
       "<style scoped>\n",
       "    .dataframe tbody tr th:only-of-type {\n",
       "        vertical-align: middle;\n",
       "    }\n",
       "\n",
       "    .dataframe tbody tr th {\n",
       "        vertical-align: top;\n",
       "    }\n",
       "\n",
       "    .dataframe thead th {\n",
       "        text-align: right;\n",
       "    }\n",
       "</style>\n",
       "<table border=\"1\" class=\"dataframe\">\n",
       "  <thead>\n",
       "    <tr style=\"text-align: right;\">\n",
       "      <th></th>\n",
       "      <th>S. No.</th>\n",
       "      <th>Timestamp</th>\n",
       "      <th>GAD1</th>\n",
       "      <th>GAD2</th>\n",
       "      <th>GAD3</th>\n",
       "      <th>GAD4</th>\n",
       "      <th>GAD5</th>\n",
       "      <th>GAD6</th>\n",
       "      <th>GAD7</th>\n",
       "      <th>GADE</th>\n",
       "      <th>...</th>\n",
       "      <th>Birthplace</th>\n",
       "      <th>Residence</th>\n",
       "      <th>Reference</th>\n",
       "      <th>Playstyle</th>\n",
       "      <th>accept</th>\n",
       "      <th>GAD_T</th>\n",
       "      <th>SWL_T</th>\n",
       "      <th>SPIN_T</th>\n",
       "      <th>Residence_ISO3</th>\n",
       "      <th>Birthplace_ISO3</th>\n",
       "    </tr>\n",
       "  </thead>\n",
       "  <tbody>\n",
       "    <tr>\n",
       "      <th>0</th>\n",
       "      <td>1</td>\n",
       "      <td>42052.003906</td>\n",
       "      <td>0</td>\n",
       "      <td>0</td>\n",
       "      <td>0</td>\n",
       "      <td>0</td>\n",
       "      <td>1</td>\n",
       "      <td>0</td>\n",
       "      <td>0</td>\n",
       "      <td>Not difficult at all</td>\n",
       "      <td>...</td>\n",
       "      <td>USA</td>\n",
       "      <td>USA</td>\n",
       "      <td>Reddit</td>\n",
       "      <td>Singleplayer</td>\n",
       "      <td>Accept</td>\n",
       "      <td>1</td>\n",
       "      <td>23</td>\n",
       "      <td>5.0</td>\n",
       "      <td>USA</td>\n",
       "      <td>USA</td>\n",
       "    </tr>\n",
       "    <tr>\n",
       "      <th>1</th>\n",
       "      <td>2</td>\n",
       "      <td>42052.007812</td>\n",
       "      <td>1</td>\n",
       "      <td>2</td>\n",
       "      <td>2</td>\n",
       "      <td>2</td>\n",
       "      <td>0</td>\n",
       "      <td>1</td>\n",
       "      <td>0</td>\n",
       "      <td>Somewhat difficult</td>\n",
       "      <td>...</td>\n",
       "      <td>USA</td>\n",
       "      <td>USA</td>\n",
       "      <td>Reddit</td>\n",
       "      <td>Multiplayer - online - with strangers</td>\n",
       "      <td>Accept</td>\n",
       "      <td>8</td>\n",
       "      <td>16</td>\n",
       "      <td>33.0</td>\n",
       "      <td>USA</td>\n",
       "      <td>USA</td>\n",
       "    </tr>\n",
       "    <tr>\n",
       "      <th>2</th>\n",
       "      <td>3</td>\n",
       "      <td>42052.039062</td>\n",
       "      <td>0</td>\n",
       "      <td>2</td>\n",
       "      <td>2</td>\n",
       "      <td>0</td>\n",
       "      <td>0</td>\n",
       "      <td>3</td>\n",
       "      <td>1</td>\n",
       "      <td>Not difficult at all</td>\n",
       "      <td>...</td>\n",
       "      <td>Germany</td>\n",
       "      <td>Germany</td>\n",
       "      <td>Reddit</td>\n",
       "      <td>Singleplayer</td>\n",
       "      <td>Accept</td>\n",
       "      <td>8</td>\n",
       "      <td>17</td>\n",
       "      <td>31.0</td>\n",
       "      <td>DEU</td>\n",
       "      <td>DEU</td>\n",
       "    </tr>\n",
       "    <tr>\n",
       "      <th>3</th>\n",
       "      <td>4</td>\n",
       "      <td>42052.066406</td>\n",
       "      <td>0</td>\n",
       "      <td>0</td>\n",
       "      <td>0</td>\n",
       "      <td>0</td>\n",
       "      <td>0</td>\n",
       "      <td>0</td>\n",
       "      <td>0</td>\n",
       "      <td>Not difficult at all</td>\n",
       "      <td>...</td>\n",
       "      <td>USA</td>\n",
       "      <td>USA</td>\n",
       "      <td>Reddit</td>\n",
       "      <td>Multiplayer - online - with online acquaintanc...</td>\n",
       "      <td>Accept</td>\n",
       "      <td>0</td>\n",
       "      <td>17</td>\n",
       "      <td>11.0</td>\n",
       "      <td>USA</td>\n",
       "      <td>USA</td>\n",
       "    </tr>\n",
       "    <tr>\n",
       "      <th>4</th>\n",
       "      <td>5</td>\n",
       "      <td>42052.089844</td>\n",
       "      <td>2</td>\n",
       "      <td>1</td>\n",
       "      <td>2</td>\n",
       "      <td>2</td>\n",
       "      <td>2</td>\n",
       "      <td>3</td>\n",
       "      <td>2</td>\n",
       "      <td>Very difficult</td>\n",
       "      <td>...</td>\n",
       "      <td>USA</td>\n",
       "      <td>South Korea</td>\n",
       "      <td>Reddit</td>\n",
       "      <td>Multiplayer - online - with strangers</td>\n",
       "      <td>Accept</td>\n",
       "      <td>14</td>\n",
       "      <td>14</td>\n",
       "      <td>13.0</td>\n",
       "      <td>KOR</td>\n",
       "      <td>USA</td>\n",
       "    </tr>\n",
       "    <tr>\n",
       "      <th>...</th>\n",
       "      <td>...</td>\n",
       "      <td>...</td>\n",
       "      <td>...</td>\n",
       "      <td>...</td>\n",
       "      <td>...</td>\n",
       "      <td>...</td>\n",
       "      <td>...</td>\n",
       "      <td>...</td>\n",
       "      <td>...</td>\n",
       "      <td>...</td>\n",
       "      <td>...</td>\n",
       "      <td>...</td>\n",
       "      <td>...</td>\n",
       "      <td>...</td>\n",
       "      <td>...</td>\n",
       "      <td>...</td>\n",
       "      <td>...</td>\n",
       "      <td>...</td>\n",
       "      <td>...</td>\n",
       "      <td>...</td>\n",
       "      <td>...</td>\n",
       "    </tr>\n",
       "    <tr>\n",
       "      <th>13459</th>\n",
       "      <td>14246</td>\n",
       "      <td>42057.757812</td>\n",
       "      <td>1</td>\n",
       "      <td>0</td>\n",
       "      <td>0</td>\n",
       "      <td>1</td>\n",
       "      <td>0</td>\n",
       "      <td>1</td>\n",
       "      <td>1</td>\n",
       "      <td>Not difficult at all</td>\n",
       "      <td>...</td>\n",
       "      <td>France</td>\n",
       "      <td>France</td>\n",
       "      <td>Reddit</td>\n",
       "      <td>Multiplayer - online - with strangers</td>\n",
       "      <td>Accept</td>\n",
       "      <td>4</td>\n",
       "      <td>28</td>\n",
       "      <td>7.0</td>\n",
       "      <td>FRA</td>\n",
       "      <td>FRA</td>\n",
       "    </tr>\n",
       "    <tr>\n",
       "      <th>13460</th>\n",
       "      <td>14247</td>\n",
       "      <td>42057.812500</td>\n",
       "      <td>3</td>\n",
       "      <td>3</td>\n",
       "      <td>3</td>\n",
       "      <td>3</td>\n",
       "      <td>2</td>\n",
       "      <td>3</td>\n",
       "      <td>3</td>\n",
       "      <td>Extremely difficult</td>\n",
       "      <td>...</td>\n",
       "      <td>USA</td>\n",
       "      <td>USA</td>\n",
       "      <td>Reddit</td>\n",
       "      <td>Multiplayer - online - with strangers</td>\n",
       "      <td>Accept</td>\n",
       "      <td>20</td>\n",
       "      <td>23</td>\n",
       "      <td>25.0</td>\n",
       "      <td>USA</td>\n",
       "      <td>USA</td>\n",
       "    </tr>\n",
       "    <tr>\n",
       "      <th>13461</th>\n",
       "      <td>14248</td>\n",
       "      <td>42058.167969</td>\n",
       "      <td>0</td>\n",
       "      <td>0</td>\n",
       "      <td>0</td>\n",
       "      <td>0</td>\n",
       "      <td>0</td>\n",
       "      <td>0</td>\n",
       "      <td>0</td>\n",
       "      <td>Not difficult at all</td>\n",
       "      <td>...</td>\n",
       "      <td>Norway</td>\n",
       "      <td>Norway</td>\n",
       "      <td>Reddit</td>\n",
       "      <td>Multiplayer - online - with real life friends</td>\n",
       "      <td>Accept</td>\n",
       "      <td>0</td>\n",
       "      <td>32</td>\n",
       "      <td>10.0</td>\n",
       "      <td>NOR</td>\n",
       "      <td>NOR</td>\n",
       "    </tr>\n",
       "    <tr>\n",
       "      <th>13462</th>\n",
       "      <td>14249</td>\n",
       "      <td>42058.246094</td>\n",
       "      <td>3</td>\n",
       "      <td>2</td>\n",
       "      <td>1</td>\n",
       "      <td>3</td>\n",
       "      <td>0</td>\n",
       "      <td>1</td>\n",
       "      <td>3</td>\n",
       "      <td>Somewhat difficult</td>\n",
       "      <td>...</td>\n",
       "      <td>Canada</td>\n",
       "      <td>Canada</td>\n",
       "      <td>Reddit</td>\n",
       "      <td>Singleplayer</td>\n",
       "      <td>Accept</td>\n",
       "      <td>13</td>\n",
       "      <td>16</td>\n",
       "      <td>32.0</td>\n",
       "      <td>CAN</td>\n",
       "      <td>CAN</td>\n",
       "    </tr>\n",
       "    <tr>\n",
       "      <th>13463</th>\n",
       "      <td>14250</td>\n",
       "      <td>42058.363281</td>\n",
       "      <td>1</td>\n",
       "      <td>1</td>\n",
       "      <td>0</td>\n",
       "      <td>0</td>\n",
       "      <td>0</td>\n",
       "      <td>0</td>\n",
       "      <td>0</td>\n",
       "      <td>Somewhat difficult</td>\n",
       "      <td>...</td>\n",
       "      <td>Canada</td>\n",
       "      <td>Canada</td>\n",
       "      <td>Reddit</td>\n",
       "      <td>Multiplayer - online - with strangers</td>\n",
       "      <td>Accept</td>\n",
       "      <td>2</td>\n",
       "      <td>25</td>\n",
       "      <td>14.0</td>\n",
       "      <td>CAN</td>\n",
       "      <td>CAN</td>\n",
       "    </tr>\n",
       "  </tbody>\n",
       "</table>\n",
       "<p>13464 rows × 55 columns</p>\n",
       "</div>"
      ],
      "text/plain": [
       "       S. No.     Timestamp  GAD1  GAD2  GAD3  GAD4  GAD5  GAD6  GAD7  \\\n",
       "0           1  42052.003906     0     0     0     0     1     0     0   \n",
       "1           2  42052.007812     1     2     2     2     0     1     0   \n",
       "2           3  42052.039062     0     2     2     0     0     3     1   \n",
       "3           4  42052.066406     0     0     0     0     0     0     0   \n",
       "4           5  42052.089844     2     1     2     2     2     3     2   \n",
       "...       ...           ...   ...   ...   ...   ...   ...   ...   ...   \n",
       "13459   14246  42057.757812     1     0     0     1     0     1     1   \n",
       "13460   14247  42057.812500     3     3     3     3     2     3     3   \n",
       "13461   14248  42058.167969     0     0     0     0     0     0     0   \n",
       "13462   14249  42058.246094     3     2     1     3     0     1     3   \n",
       "13463   14250  42058.363281     1     1     0     0     0     0     0   \n",
       "\n",
       "                       GADE  ...  Birthplace    Residence  Reference  \\\n",
       "0      Not difficult at all  ...         USA          USA     Reddit   \n",
       "1        Somewhat difficult  ...         USA          USA     Reddit   \n",
       "2      Not difficult at all  ...     Germany      Germany     Reddit   \n",
       "3      Not difficult at all  ...         USA          USA     Reddit   \n",
       "4            Very difficult  ...         USA  South Korea     Reddit   \n",
       "...                     ...  ...         ...          ...        ...   \n",
       "13459  Not difficult at all  ...      France       France     Reddit   \n",
       "13460   Extremely difficult  ...         USA          USA     Reddit   \n",
       "13461  Not difficult at all  ...      Norway       Norway     Reddit   \n",
       "13462    Somewhat difficult  ...      Canada       Canada     Reddit   \n",
       "13463    Somewhat difficult  ...      Canada       Canada     Reddit   \n",
       "\n",
       "                                               Playstyle  accept GAD_T SWL_T  \\\n",
       "0                                           Singleplayer  Accept     1    23   \n",
       "1                  Multiplayer - online - with strangers  Accept     8    16   \n",
       "2                                           Singleplayer  Accept     8    17   \n",
       "3      Multiplayer - online - with online acquaintanc...  Accept     0    17   \n",
       "4                  Multiplayer - online - with strangers  Accept    14    14   \n",
       "...                                                  ...     ...   ...   ...   \n",
       "13459              Multiplayer - online - with strangers  Accept     4    28   \n",
       "13460              Multiplayer - online - with strangers  Accept    20    23   \n",
       "13461      Multiplayer - online - with real life friends  Accept     0    32   \n",
       "13462                                       Singleplayer  Accept    13    16   \n",
       "13463              Multiplayer - online - with strangers  Accept     2    25   \n",
       "\n",
       "       SPIN_T Residence_ISO3 Birthplace_ISO3  \n",
       "0         5.0            USA             USA  \n",
       "1        33.0            USA             USA  \n",
       "2        31.0            DEU             DEU  \n",
       "3        11.0            USA             USA  \n",
       "4        13.0            KOR             USA  \n",
       "...       ...            ...             ...  \n",
       "13459     7.0            FRA             FRA  \n",
       "13460    25.0            USA             USA  \n",
       "13461    10.0            NOR             NOR  \n",
       "13462    32.0            CAN             CAN  \n",
       "13463    14.0            CAN             CAN  \n",
       "\n",
       "[13464 rows x 55 columns]"
      ]
     },
     "execution_count": 12,
     "metadata": {},
     "output_type": "execute_result"
    }
   ],
   "source": [
    "reduce_mem_usage(df)"
   ]
  },
  {
   "cell_type": "code",
   "execution_count": 13,
   "metadata": {},
   "outputs": [],
   "source": [
    "# Избавимся от заведомо ненужных колонок\n",
    "df.drop(columns=['Timestamp', 'highestleague', 'Reference', 'accept', 'Residence_ISO3', 'Birthplace_ISO3'], inplace=True)"
   ]
  },
  {
   "cell_type": "markdown",
   "metadata": {},
   "source": [
    "Избавляемся от выбросов"
   ]
  },
  {
   "cell_type": "code",
   "execution_count": 14,
   "metadata": {},
   "outputs": [
    {
     "data": {
      "image/png": "[encoded data removed]",
      "text/plain": [
       "<Figure size 1152x1152 with 42 Axes>"
      ]
     },
     "metadata": {
      "needs_background": "light"
     },
     "output_type": "display_data"
    }
   ],
   "source": [
    "df.hist(figsize=(16,16), bins=20, grid=False);"
   ]
  },
  {
   "cell_type": "code",
   "execution_count": 15,
   "metadata": {},
   "outputs": [
    {
     "data": {
      "text/plain": [
       "7615     140.0\n",
       "5641     168.0\n",
       "8418     200.0\n",
       "9435     420.0\n",
       "3860    9001.0\n",
       "Name: streams, dtype: float32"
      ]
     },
     "execution_count": 15,
     "metadata": {},
     "output_type": "execute_result"
    }
   ],
   "source": [
    "df['streams'].dropna().sort_values().tail()"
   ]
  },
  {
   "cell_type": "code",
   "execution_count": 16,
   "metadata": {},
   "outputs": [
    {
     "data": {
      "text/plain": [
       "7615      140.0\n",
       "13279     150.0\n",
       "8961      160.0\n",
       "9435      420.0\n",
       "3860     8000.0\n",
       "Name: Hours, dtype: float32"
      ]
     },
     "execution_count": 16,
     "metadata": {},
     "output_type": "execute_result"
    }
   ],
   "source": [
    "df['Hours'].dropna().sort_values().tail()"
   ]
  },
  {
   "cell_type": "code",
   "execution_count": 17,
   "metadata": {},
   "outputs": [
    {
     "data": {
      "text/plain": [
       "13325    50\n",
       "82       50\n",
       "3460     50\n",
       "2435     56\n",
       "352      63\n",
       "Name: Age, dtype: int8"
      ]
     },
     "execution_count": 17,
     "metadata": {},
     "output_type": "execute_result"
    }
   ],
   "source": [
    "df['Age'].dropna().sort_values().tail()"
   ]
  },
  {
   "cell_type": "code",
   "execution_count": 18,
   "metadata": {},
   "outputs": [],
   "source": [
    "df.loc[df['Hours'] > 160, 'Hours'] = df['Hours'].median()\n",
    "df.loc[df['streams'] > 160, 'streams'] = df['streams'].median()"
   ]
  },
  {
   "cell_type": "code",
   "execution_count": 19,
   "metadata": {},
   "outputs": [
    {
     "name": "stdout",
     "output_type": "stream",
     "text": [
      "<class 'pandas.core.frame.DataFrame'>\n",
      "RangeIndex: 13464 entries, 0 to 13463\n",
      "Data columns (total 37 columns):\n",
      " #   Column      Non-Null Count  Dtype  \n",
      "---  ------      --------------  -----  \n",
      " 0   S. No.      13464 non-null  int16  \n",
      " 1   GAD1        13464 non-null  int8   \n",
      " 2   GAD2        13464 non-null  int8   \n",
      " 3   GAD3        13464 non-null  int8   \n",
      " 4   GAD4        13464 non-null  int8   \n",
      " 5   GAD5        13464 non-null  int8   \n",
      " 6   GAD6        13464 non-null  int8   \n",
      " 7   GAD7        13464 non-null  int8   \n",
      " 8   SWL1        13464 non-null  int8   \n",
      " 9   SWL2        13464 non-null  int8   \n",
      " 10  SWL3        13464 non-null  int8   \n",
      " 11  SWL4        13464 non-null  int8   \n",
      " 12  SWL5        13464 non-null  int8   \n",
      " 13  Hours       13434 non-null  float32\n",
      " 14  streams     13364 non-null  float32\n",
      " 15  SPIN1       13340 non-null  float32\n",
      " 16  SPIN2       13310 non-null  float32\n",
      " 17  SPIN3       13324 non-null  float32\n",
      " 18  SPIN4       13305 non-null  float32\n",
      " 19  SPIN5       13298 non-null  float32\n",
      " 20  SPIN6       13308 non-null  float32\n",
      " 21  SPIN7       13326 non-null  float32\n",
      " 22  SPIN8       13320 non-null  float32\n",
      " 23  SPIN9       13306 non-null  float32\n",
      " 24  SPIN10      13304 non-null  float32\n",
      " 25  SPIN11      13277 non-null  float32\n",
      " 26  SPIN12      13296 non-null  float32\n",
      " 27  SPIN13      13277 non-null  float32\n",
      " 28  SPIN14      13308 non-null  float32\n",
      " 29  SPIN15      13317 non-null  float32\n",
      " 30  SPIN16      13317 non-null  float32\n",
      " 31  SPIN17      13289 non-null  float32\n",
      " 32  Narcissism  13441 non-null  float32\n",
      " 33  Age         13464 non-null  int8   \n",
      " 34  GAD_T       13464 non-null  int8   \n",
      " 35  SWL_T       13464 non-null  int8   \n",
      " 36  SPIN_T      12814 non-null  float32\n",
      "dtypes: float32(21), int16(1), int8(15)\n",
      "memory usage: 1.3 MB\n"
     ]
    }
   ],
   "source": [
    "data_num_feat = df.select_dtypes(include=('int8', 'int16', 'int32', 'float32'))\n",
    "data_num_feat.info()"
   ]
  },
  {
   "cell_type": "markdown",
   "metadata": {},
   "source": [
    "Посмотрим распределение результатов всех трёх опросников. Начнём с GAD. Значения больше 10 считаются признаком имеющегося расстройства, для таких пациентто рекомендуется дополнительное обследование."
   ]
  },
  {
   "cell_type": "code",
   "execution_count": 20,
   "metadata": {},
   "outputs": [
    {
     "data": {
      "text/plain": [
       "(0.0, 1670.0)"
      ]
     },
     "execution_count": 20,
     "metadata": {},
     "output_type": "execute_result"
    },
    {
     "data": {
      "image/png": "[encoded data removed]",
      "text/plain": [
       "<Figure size 432x288 with 1 Axes>"
      ]
     },
     "metadata": {
      "needs_background": "light"
     },
     "output_type": "display_data"
    }
   ],
   "source": [
    "# An \"interface\" to matplotlib.axes.Axes.hist() method\n",
    "n, bins, patches = plt.hist(x=df.GAD_T, bins='auto', color='#0504aa',\n",
    "                            alpha=0.7, rwidth=0.85)\n",
    "plt.grid(axis='y', alpha=0.75)\n",
    "plt.xlabel('Value')\n",
    "plt.ylabel('Frequency')\n",
    "plt.title('Total score of Generalised Anxiety Disorder test')\n",
    "plt.text(23, 45, r'$\\mu=15, b=3$')\n",
    "maxfreq = n.max()\n",
    "# Set a clean upper y-axis limit.\n",
    "plt.ylim(ymax=np.ceil(maxfreq / 10) * 10 if maxfreq % 10 else maxfreq + 10)"
   ]
  },
  {
   "cell_type": "code",
   "execution_count": 21,
   "metadata": {},
   "outputs": [
    {
     "data": {
      "image/png": "[encoded data removed]",
      "text/plain": [
       "<Figure size 360x360 with 1 Axes>"
      ]
     },
     "metadata": {
      "needs_background": "light"
     },
     "output_type": "display_data"
    }
   ],
   "source": [
    "gad_plot = sns.displot(df, x='GAD_T', kind='kde', bw_adjust=.85)\n",
    "gad_plot.set(ylabel='Плотность', xlabel='GAD, количество баллов')\n",
    "gad_plot.savefig('gad_plot')"
   ]
  },
  {
   "cell_type": "markdown",
   "metadata": {},
   "source": [
    "У нас имеются респонденты, для которых значения GAD больше 10. Сравним количество таких пользователей. "
   ]
  },
  {
   "cell_type": "code",
   "execution_count": 22,
   "metadata": {},
   "outputs": [
    {
     "data": {
      "image/png": "[encoded data removed]",
      "text/plain": [
       "<Figure size 432x288 with 1 Axes>"
      ]
     },
     "metadata": {
      "needs_background": "light"
     },
     "output_type": "display_data"
    }
   ],
   "source": [
    "sns.barplot(x=(df['GAD_T'] > 10).value_counts().index, y=(df['GAD_T'] > 10).value_counts().values)\n",
    "plt.show()"
   ]
  },
  {
   "cell_type": "markdown",
   "metadata": {},
   "source": [
    "Имеется значительный перекос, тем не менее, попытаемся научиться предсказывать таких людей без опросника."
   ]
  },
  {
   "cell_type": "markdown",
   "metadata": {},
   "source": [
    "Взглянем также на SWL, опросник, оценивающий удовлетворённость жизнью."
   ]
  },
  {
   "cell_type": "code",
   "execution_count": 23,
   "metadata": {},
   "outputs": [
    {
     "data": {
      "text/plain": [
       "(0.0, 640.0)"
      ]
     },
     "execution_count": 23,
     "metadata": {},
     "output_type": "execute_result"
    },
    {
     "data": {
      "image/png": "[encoded data removed]",
      "text/plain": [
       "<Figure size 432x288 with 1 Axes>"
      ]
     },
     "metadata": {
      "needs_background": "light"
     },
     "output_type": "display_data"
    }
   ],
   "source": [
    "n, bins, patches = plt.hist(x=df.SWL_T, bins='auto', color='green',\n",
    "                            alpha=0.7, rwidth=0.85)\n",
    "plt.grid(axis='y', alpha=0.75)\n",
    "plt.xlabel('Value')\n",
    "plt.ylabel('Frequency')\n",
    "plt.title('Total score of Satisfaction with Life  test')\n",
    "plt.text(23, 45, r'$\\mu=15, b=3$')\n",
    "maxfreq = n.max()\n",
    "# Set a clean upper y-axis limit.\n",
    "plt.ylim(ymax=np.ceil(maxfreq / 10) * 10 if maxfreq % 10 else maxfreq + 10)"
   ]
  },
  {
   "cell_type": "markdown",
   "metadata": {},
   "source": [
    "В основном респонденты удовлетворены жизнью."
   ]
  },
  {
   "cell_type": "code",
   "execution_count": 24,
   "metadata": {},
   "outputs": [
    {
     "data": {
      "text/plain": [
       "(0.0, 860.0)"
      ]
     },
     "execution_count": 24,
     "metadata": {},
     "output_type": "execute_result"
    },
    {
     "data": {
      "image/png": "[encoded data removed]",
      "text/plain": [
       "<Figure size 432x288 with 1 Axes>"
      ]
     },
     "metadata": {
      "needs_background": "light"
     },
     "output_type": "display_data"
    }
   ],
   "source": [
    "n, bins, patches = plt.hist(x=df.SPIN_T, bins='auto', color='black',\n",
    "                            alpha=0.7, rwidth=0.85)\n",
    "plt.grid(axis='y', alpha=0.75)\n",
    "plt.xlabel('Value')\n",
    "plt.ylabel('Frequency')\n",
    "plt.title('Total score of Social Phobia Inventory  test')\n",
    "plt.text(23, 45, r'$\\mu=15, b=3$')\n",
    "maxfreq = n.max()\n",
    "# Set a clean upper y-axis limit.\n",
    "plt.ylim(ymax=np.ceil(maxfreq / 10) * 10 if maxfreq % 10 else maxfreq + 10)"
   ]
  },
  {
   "cell_type": "code",
   "execution_count": 25,
   "metadata": {},
   "outputs": [
    {
     "data": {
      "text/plain": [
       "650"
      ]
     },
     "execution_count": 25,
     "metadata": {},
     "output_type": "execute_result"
    }
   ],
   "source": [
    "df.SPIN_T.isna().sum()"
   ]
  },
  {
   "cell_type": "code",
   "execution_count": 26,
   "metadata": {},
   "outputs": [],
   "source": [
    "df.SPIN_T.fillna(df.SPIN_T.mean() , inplace=True)"
   ]
  },
  {
   "cell_type": "code",
   "execution_count": 27,
   "metadata": {},
   "outputs": [
    {
     "data": {
      "image/png": "[encoded data removed]",
      "text/plain": [
       "<Figure size 432x288 with 1 Axes>"
      ]
     },
     "metadata": {
      "needs_background": "light"
     },
     "output_type": "display_data"
    }
   ],
   "source": [
    "slope, intercept, r, p, stderr = scipy.stats.linregress(df.GAD_T, df.SPIN_T)\n",
    "line = f'Regression line: y={intercept:.2f}+{slope:.2f}x, r={r:.2f}'\n",
    "fig, ax = plt.subplots()\n",
    "ax.plot(df.GAD_T, df.SPIN_T, linewidth=0, marker='s', ms = 0.5, label='Data points')\n",
    "ax.plot(df.GAD_T, intercept + slope * df.GAD_T, label=line)\n",
    "ax.set_xlabel('GAD')\n",
    "ax.set_ylabel('SPIN')\n",
    "ax.legend(facecolor='white')\n",
    "plt.show()"
   ]
  },
  {
   "cell_type": "markdown",
   "metadata": {},
   "source": [
    "Корреляция слабая"
   ]
  },
  {
   "cell_type": "code",
   "execution_count": 28,
   "metadata": {},
   "outputs": [
    {
     "data": {
      "text/plain": [
       "0"
      ]
     },
     "execution_count": 28,
     "metadata": {},
     "output_type": "execute_result"
    }
   ],
   "source": [
    "df.SWL_T.isna().sum()"
   ]
  },
  {
   "cell_type": "code",
   "execution_count": 29,
   "metadata": {},
   "outputs": [
    {
     "data": {
      "image/png": "[encoded data removed]",
      "text/plain": [
       "<Figure size 432x288 with 1 Axes>"
      ]
     },
     "metadata": {
      "needs_background": "light"
     },
     "output_type": "display_data"
    }
   ],
   "source": [
    "slope, intercept, r, p, stderr = scipy.stats.linregress(df.GAD_T, df.SWL_T)\n",
    "line = f'Regression line: y={intercept:.2f}+{slope:.2f}x, r={r:.2f}'\n",
    "fig, ax = plt.subplots()\n",
    "ax.plot(df.GAD_T, df.SWL_T, linewidth=0, marker='s', ms=0.5, label='Data points')\n",
    "ax.plot(df.GAD_T, intercept + slope * df.GAD_T, label=line)\n",
    "ax.set_xlabel('GAD')\n",
    "ax.set_ylabel('SPIN')\n",
    "ax.legend(facecolor='white')\n",
    "plt.show()"
   ]
  },
  {
   "cell_type": "markdown",
   "metadata": {},
   "source": [
    "Опять же корреляция слабая. Откажемся от результатов опросников SPIN и SWL и сосредоточимся на GAD."
   ]
  },
  {
   "cell_type": "code",
   "execution_count": 30,
   "metadata": {},
   "outputs": [],
   "source": [
    "columns_for_drop = ['GAD1', 'GAD2', 'GAD3', 'GAD4', 'GAD5', 'GAD6', 'GAD7', \n",
    "                    'SWL1', 'SWL2', 'SWL3', 'SWL4', 'SWL5', 'SPIN1', 'SPIN2',\n",
    "                    'SPIN3', 'SPIN4', 'SPIN5', 'SPIN6', 'SPIN7', 'SPIN8', 'SPIN9', 'SPIN10', \n",
    "                    'SPIN11', 'SPIN12', 'SPIN13', 'SPIN14', 'SPIN15', 'SPIN16', 'SPIN17']"
   ]
  },
  {
   "cell_type": "code",
   "execution_count": 31,
   "metadata": {},
   "outputs": [],
   "source": [
    "df.drop(columns = columns_for_drop, inplace=True)"
   ]
  },
  {
   "cell_type": "code",
   "execution_count": 32,
   "metadata": {},
   "outputs": [
    {
     "data": {
      "text/html": [
       "<div>\n",
       "<style scoped>\n",
       "    .dataframe tbody tr th:only-of-type {\n",
       "        vertical-align: middle;\n",
       "    }\n",
       "\n",
       "    .dataframe tbody tr th {\n",
       "        vertical-align: top;\n",
       "    }\n",
       "\n",
       "    .dataframe thead th {\n",
       "        text-align: right;\n",
       "    }\n",
       "</style>\n",
       "<table border=\"1\" class=\"dataframe\">\n",
       "  <thead>\n",
       "    <tr style=\"text-align: right;\">\n",
       "      <th></th>\n",
       "      <th>S. No.</th>\n",
       "      <th>Hours</th>\n",
       "      <th>streams</th>\n",
       "      <th>Narcissism</th>\n",
       "      <th>Age</th>\n",
       "      <th>GAD_T</th>\n",
       "      <th>SWL_T</th>\n",
       "      <th>SPIN_T</th>\n",
       "    </tr>\n",
       "  </thead>\n",
       "  <tbody>\n",
       "    <tr>\n",
       "      <th>count</th>\n",
       "      <td>13464.000000</td>\n",
       "      <td>13434.000000</td>\n",
       "      <td>13364.000000</td>\n",
       "      <td>13441.000000</td>\n",
       "      <td>13464.000000</td>\n",
       "      <td>13464.000000</td>\n",
       "      <td>13464.000000</td>\n",
       "      <td>13464.000000</td>\n",
       "    </tr>\n",
       "    <tr>\n",
       "      <th>mean</th>\n",
       "      <td>7096.839201</td>\n",
       "      <td>21.623568</td>\n",
       "      <td>10.503442</td>\n",
       "      <td>2.027677</td>\n",
       "      <td>20.930407</td>\n",
       "      <td>5.211973</td>\n",
       "      <td>19.788844</td>\n",
       "      <td>19.848440</td>\n",
       "    </tr>\n",
       "    <tr>\n",
       "      <th>std</th>\n",
       "      <td>4114.478220</td>\n",
       "      <td>13.777575</td>\n",
       "      <td>10.232300</td>\n",
       "      <td>1.061816</td>\n",
       "      <td>3.300897</td>\n",
       "      <td>4.713267</td>\n",
       "      <td>7.229243</td>\n",
       "      <td>13.138386</td>\n",
       "    </tr>\n",
       "    <tr>\n",
       "      <th>min</th>\n",
       "      <td>1.000000</td>\n",
       "      <td>0.000000</td>\n",
       "      <td>0.000000</td>\n",
       "      <td>1.000000</td>\n",
       "      <td>18.000000</td>\n",
       "      <td>0.000000</td>\n",
       "      <td>5.000000</td>\n",
       "      <td>0.000000</td>\n",
       "    </tr>\n",
       "    <tr>\n",
       "      <th>25%</th>\n",
       "      <td>3532.750000</td>\n",
       "      <td>12.000000</td>\n",
       "      <td>4.000000</td>\n",
       "      <td>1.000000</td>\n",
       "      <td>18.000000</td>\n",
       "      <td>2.000000</td>\n",
       "      <td>14.000000</td>\n",
       "      <td>10.000000</td>\n",
       "    </tr>\n",
       "    <tr>\n",
       "      <th>50%</th>\n",
       "      <td>7087.500000</td>\n",
       "      <td>20.000000</td>\n",
       "      <td>8.000000</td>\n",
       "      <td>2.000000</td>\n",
       "      <td>20.000000</td>\n",
       "      <td>4.000000</td>\n",
       "      <td>20.000000</td>\n",
       "      <td>18.000000</td>\n",
       "    </tr>\n",
       "    <tr>\n",
       "      <th>75%</th>\n",
       "      <td>10654.250000</td>\n",
       "      <td>28.000000</td>\n",
       "      <td>15.000000</td>\n",
       "      <td>3.000000</td>\n",
       "      <td>22.000000</td>\n",
       "      <td>8.000000</td>\n",
       "      <td>26.000000</td>\n",
       "      <td>27.000000</td>\n",
       "    </tr>\n",
       "    <tr>\n",
       "      <th>max</th>\n",
       "      <td>14250.000000</td>\n",
       "      <td>160.000000</td>\n",
       "      <td>140.000000</td>\n",
       "      <td>5.000000</td>\n",
       "      <td>63.000000</td>\n",
       "      <td>21.000000</td>\n",
       "      <td>35.000000</td>\n",
       "      <td>68.000000</td>\n",
       "    </tr>\n",
       "  </tbody>\n",
       "</table>\n",
       "</div>"
      ],
      "text/plain": [
       "             S. No.         Hours       streams    Narcissism           Age  \\\n",
       "count  13464.000000  13434.000000  13364.000000  13441.000000  13464.000000   \n",
       "mean    7096.839201     21.623568     10.503442      2.027677     20.930407   \n",
       "std     4114.478220     13.777575     10.232300      1.061816      3.300897   \n",
       "min        1.000000      0.000000      0.000000      1.000000     18.000000   \n",
       "25%     3532.750000     12.000000      4.000000      1.000000     18.000000   \n",
       "50%     7087.500000     20.000000      8.000000      2.000000     20.000000   \n",
       "75%    10654.250000     28.000000     15.000000      3.000000     22.000000   \n",
       "max    14250.000000    160.000000    140.000000      5.000000     63.000000   \n",
       "\n",
       "              GAD_T         SWL_T        SPIN_T  \n",
       "count  13464.000000  13464.000000  13464.000000  \n",
       "mean       5.211973     19.788844     19.848440  \n",
       "std        4.713267      7.229243     13.138386  \n",
       "min        0.000000      5.000000      0.000000  \n",
       "25%        2.000000     14.000000     10.000000  \n",
       "50%        4.000000     20.000000     18.000000  \n",
       "75%        8.000000     26.000000     27.000000  \n",
       "max       21.000000     35.000000     68.000000  "
      ]
     },
     "execution_count": 32,
     "metadata": {},
     "output_type": "execute_result"
    }
   ],
   "source": [
    "df.describe()"
   ]
  },
  {
   "cell_type": "code",
   "execution_count": 33,
   "metadata": {},
   "outputs": [
    {
     "name": "stdout",
     "output_type": "stream",
     "text": [
      "<class 'pandas.core.frame.DataFrame'>\n",
      "RangeIndex: 13464 entries, 0 to 13463\n",
      "Data columns (total 20 columns):\n",
      " #   Column      Non-Null Count  Dtype   \n",
      "---  ------      --------------  -----   \n",
      " 0   S. No.      13464 non-null  int16   \n",
      " 1   GADE        12815 non-null  category\n",
      " 2   Game        13464 non-null  category\n",
      " 3   Platform    13464 non-null  category\n",
      " 4   Hours       13434 non-null  float32 \n",
      " 5   earnings    13464 non-null  category\n",
      " 6   whyplay     13464 non-null  category\n",
      " 7   League      11626 non-null  category\n",
      " 8   streams     13364 non-null  float32 \n",
      " 9   Narcissism  13441 non-null  float32 \n",
      " 10  Gender      13464 non-null  category\n",
      " 11  Age         13464 non-null  int8    \n",
      " 12  Work        13426 non-null  category\n",
      " 13  Degree      13464 non-null  category\n",
      " 14  Birthplace  13464 non-null  category\n",
      " 15  Residence   13464 non-null  category\n",
      " 16  Playstyle   13464 non-null  category\n",
      " 17  GAD_T       13464 non-null  int8    \n",
      " 18  SWL_T       13464 non-null  int8    \n",
      " 19  SPIN_T      13464 non-null  float32 \n",
      "dtypes: category(12), float32(4), int16(1), int8(3)\n",
      "memory usage: 581.8 KB\n"
     ]
    }
   ],
   "source": [
    "df.info()"
   ]
  },
  {
   "cell_type": "code",
   "execution_count": 34,
   "metadata": {},
   "outputs": [
    {
     "data": {
      "text/plain": [
       "array([[<AxesSubplot:title={'center':'S. No.'}>,\n",
       "        <AxesSubplot:title={'center':'Hours'}>,\n",
       "        <AxesSubplot:title={'center':'streams'}>],\n",
       "       [<AxesSubplot:title={'center':'Narcissism'}>,\n",
       "        <AxesSubplot:title={'center':'Age'}>,\n",
       "        <AxesSubplot:title={'center':'GAD_T'}>],\n",
       "       [<AxesSubplot:title={'center':'SWL_T'}>,\n",
       "        <AxesSubplot:title={'center':'SPIN_T'}>, <AxesSubplot:>]],\n",
       "      dtype=object)"
      ]
     },
     "execution_count": 34,
     "metadata": {},
     "output_type": "execute_result"
    },
    {
     "data": {
      "image/png": "[encoded data removed]",
      "text/plain": [
       "<Figure size 1152x1152 with 9 Axes>"
      ]
     },
     "metadata": {
      "needs_background": "light"
     },
     "output_type": "display_data"
    }
   ],
   "source": [
    "df.hist(figsize=(16,16), bins=20, grid=False)"
   ]
  },
  {
   "cell_type": "code",
   "execution_count": 35,
   "metadata": {},
   "outputs": [
    {
     "data": {
      "image/png": "[encoded data removed]",
      "text/plain": [
       "<Figure size 1080x720 with 2 Axes>"
      ]
     },
     "metadata": {
      "needs_background": "light"
     },
     "output_type": "display_data"
    }
   ],
   "source": [
    "plt.figure(figsize = (15,10))\n",
    "sns.set(font_scale=1.4)\n",
    "\n",
    "corr_matrix = df.corr()\n",
    "corr_matrix = np.round(corr_matrix, 2)\n",
    "corr_matrix[np.abs(corr_matrix) < 0.3] = 0\n",
    "\n",
    "sns.heatmap(corr_matrix, annot=True, linewidths=0.5, cmap='rocket')\n",
    "plt.title('Correlation matrix')\n",
    "plt.show()"
   ]
  },
  {
   "cell_type": "code",
   "execution_count": 36,
   "metadata": {},
   "outputs": [
    {
     "data": {
      "image/png": "[encoded data removed]",
      "text/plain": [
       "<Figure size 432x288 with 1 Axes>"
      ]
     },
     "metadata": {},
     "output_type": "display_data"
    }
   ],
   "source": [
    "barplt = sns.barplot(x=df['Work'].value_counts().index, y=df['Work'].value_counts().values)\n",
    "for label in barplt.get_xticklabels():\n",
    "    label.set_rotation(90)\n",
    "plt.show()"
   ]
  },
  {
   "cell_type": "markdown",
   "metadata": {},
   "source": [
    "### Избавляемся от NaN"
   ]
  },
  {
   "cell_type": "code",
   "execution_count": 37,
   "metadata": {},
   "outputs": [
    {
     "data": {
      "text/plain": [
       "S. No.           0\n",
       "GADE           649\n",
       "Game             0\n",
       "Platform         0\n",
       "Hours           30\n",
       "earnings         0\n",
       "whyplay          0\n",
       "League        1838\n",
       "streams        100\n",
       "Narcissism      23\n",
       "Gender           0\n",
       "Age              0\n",
       "Work            38\n",
       "Degree           0\n",
       "Birthplace       0\n",
       "Residence        0\n",
       "Playstyle        0\n",
       "GAD_T            0\n",
       "SWL_T            0\n",
       "SPIN_T           0\n",
       "dtype: int64"
      ]
     },
     "execution_count": 37,
     "metadata": {},
     "output_type": "execute_result"
    }
   ],
   "source": [
    "df.isna().sum()"
   ]
  },
  {
   "cell_type": "code",
   "execution_count": 38,
   "metadata": {},
   "outputs": [],
   "source": [
    "df.GADE.fillna(df.GADE.value_counts().index[1] , inplace=True)\n",
    "df.Hours.fillna(df.Hours.mean() , inplace=True)\n",
    "df.streams.fillna(df.streams.mean() , inplace=True)\n",
    "df.League.fillna(df.League.value_counts().index[1] , inplace=True)\n",
    "df.Narcissism.fillna(df.Narcissism.value_counts().index[1] , inplace=True)\n",
    "df.Work.fillna(df.Work.value_counts().index[1] , inplace=True)"
   ]
  },
  {
   "cell_type": "code",
   "execution_count": 39,
   "metadata": {},
   "outputs": [
    {
     "data": {
      "text/plain": [
       "S. No.        0\n",
       "GADE          0\n",
       "Game          0\n",
       "Platform      0\n",
       "Hours         0\n",
       "earnings      0\n",
       "whyplay       0\n",
       "League        0\n",
       "streams       0\n",
       "Narcissism    0\n",
       "Gender        0\n",
       "Age           0\n",
       "Work          0\n",
       "Degree        0\n",
       "Birthplace    0\n",
       "Residence     0\n",
       "Playstyle     0\n",
       "GAD_T         0\n",
       "SWL_T         0\n",
       "SPIN_T        0\n",
       "dtype: int64"
      ]
     },
     "execution_count": 39,
     "metadata": {},
     "output_type": "execute_result"
    }
   ],
   "source": [
    "df.isna().sum()"
   ]
  },
  {
   "cell_type": "code",
   "execution_count": 40,
   "metadata": {},
   "outputs": [],
   "source": [
    "cat_columns = ['GADE', 'GAME', 'Platform', 'Gender', 'Work', 'Degree']"
   ]
  },
  {
   "cell_type": "code",
   "execution_count": 41,
   "metadata": {},
   "outputs": [],
   "source": [
    "df.drop(columns=['SWL_T', 'SPIN_T', 'S. No.'], inplace=True)"
   ]
  },
  {
   "cell_type": "code",
   "execution_count": 42,
   "metadata": {},
   "outputs": [
    {
     "name": "stdout",
     "output_type": "stream",
     "text": [
      "____________________\n",
      "earnings\n",
      "314\n",
      "3\n",
      "____________________\n",
      "whyplay\n",
      "407\n",
      "4\n",
      "____________________\n",
      "League\n",
      "1455\n",
      "68\n",
      "____________________\n",
      "Playstyle\n",
      "298\n",
      "5\n"
     ]
    }
   ],
   "source": [
    "for col in ['earnings', 'whyplay', 'League', 'Playstyle']:\n",
    "    print(\"_\"*20)\n",
    "    print(col)\n",
    "    print(df[col].nunique())\n",
    "    print(df.groupby(col).filter(lambda x: x[col].count() > 35)[col].nunique())"
   ]
  },
  {
   "cell_type": "code",
   "execution_count": 43,
   "metadata": {},
   "outputs": [],
   "source": [
    "def categories_clip(df, column, threshold=35):\n",
    "    all_categories = df[column].unique()\n",
    "    most_popular = df[column].value_counts().index[0]\n",
    "    popular_categories = df.groupby(col).filter(lambda x: x[col].count() > threshold)[col].unique()\n",
    "    df.loc[~df[column].isin(popular_categories)][column] = most_popular"
   ]
  },
  {
   "cell_type": "code",
   "execution_count": 44,
   "metadata": {},
   "outputs": [],
   "source": [
    "for col in ['earnings', 'whyplay', 'League', 'Playstyle']:\n",
    "    categories_clip(df, col)"
   ]
  },
  {
   "cell_type": "markdown",
   "metadata": {},
   "source": [
    "Города пока выкинем"
   ]
  },
  {
   "cell_type": "code",
   "execution_count": 45,
   "metadata": {},
   "outputs": [],
   "source": [
    "df.drop(columns=['Birthplace', 'Residence'], inplace=True)"
   ]
  },
  {
   "cell_type": "code",
   "execution_count": 46,
   "metadata": {},
   "outputs": [],
   "source": [
    "#разделим данные на train/test\n",
    "X_train, X_test, y_train, y_test = train_test_split(df.drop(columns=['GAD_T']), df['GAD_T'], random_state=0)"
   ]
  },
  {
   "cell_type": "code",
   "execution_count": 47,
   "metadata": {},
   "outputs": [
    {
     "data": {
      "text/html": [
       "<div>\n",
       "<style scoped>\n",
       "    .dataframe tbody tr th:only-of-type {\n",
       "        vertical-align: middle;\n",
       "    }\n",
       "\n",
       "    .dataframe tbody tr th {\n",
       "        vertical-align: top;\n",
       "    }\n",
       "\n",
       "    .dataframe thead th {\n",
       "        text-align: right;\n",
       "    }\n",
       "</style>\n",
       "<table border=\"1\" class=\"dataframe\">\n",
       "  <thead>\n",
       "    <tr style=\"text-align: right;\">\n",
       "      <th></th>\n",
       "      <th>GADE</th>\n",
       "      <th>Game</th>\n",
       "      <th>Platform</th>\n",
       "      <th>Hours</th>\n",
       "      <th>earnings</th>\n",
       "      <th>whyplay</th>\n",
       "      <th>League</th>\n",
       "      <th>streams</th>\n",
       "      <th>Narcissism</th>\n",
       "      <th>Gender</th>\n",
       "      <th>Age</th>\n",
       "      <th>Work</th>\n",
       "      <th>Degree</th>\n",
       "      <th>Playstyle</th>\n",
       "    </tr>\n",
       "  </thead>\n",
       "  <tbody>\n",
       "    <tr>\n",
       "      <th>204</th>\n",
       "      <td>Not difficult at all</td>\n",
       "      <td>League of Legends</td>\n",
       "      <td>PC</td>\n",
       "      <td>14.0</td>\n",
       "      <td>I play for fun</td>\n",
       "      <td>having fun</td>\n",
       "      <td>Plat</td>\n",
       "      <td>10.0</td>\n",
       "      <td>1.0</td>\n",
       "      <td>Male</td>\n",
       "      <td>19</td>\n",
       "      <td>Student at college / university</td>\n",
       "      <td>High school diploma (or equivalent)</td>\n",
       "      <td>Multiplayer - online - with online acquaintanc...</td>\n",
       "    </tr>\n",
       "    <tr>\n",
       "      <th>466</th>\n",
       "      <td>Not difficult at all</td>\n",
       "      <td>Other</td>\n",
       "      <td>PC</td>\n",
       "      <td>20.0</td>\n",
       "      <td>I play for fun</td>\n",
       "      <td>having fun</td>\n",
       "      <td>gold</td>\n",
       "      <td>5.0</td>\n",
       "      <td>1.0</td>\n",
       "      <td>Male</td>\n",
       "      <td>20</td>\n",
       "      <td>Employed</td>\n",
       "      <td>High school diploma (or equivalent)</td>\n",
       "      <td>Multiplayer - online - with real life friends</td>\n",
       "    </tr>\n",
       "    <tr>\n",
       "      <th>9942</th>\n",
       "      <td>Somewhat difficult</td>\n",
       "      <td>League of Legends</td>\n",
       "      <td>PC</td>\n",
       "      <td>24.0</td>\n",
       "      <td>I play for fun</td>\n",
       "      <td>winning</td>\n",
       "      <td>Gold</td>\n",
       "      <td>5.0</td>\n",
       "      <td>5.0</td>\n",
       "      <td>Male</td>\n",
       "      <td>19</td>\n",
       "      <td>Student at college / university</td>\n",
       "      <td>High school diploma (or equivalent)</td>\n",
       "      <td>Multiplayer - online - with strangers</td>\n",
       "    </tr>\n",
       "    <tr>\n",
       "      <th>11268</th>\n",
       "      <td>Not difficult at all</td>\n",
       "      <td>League of Legends</td>\n",
       "      <td>PC</td>\n",
       "      <td>18.0</td>\n",
       "      <td>I play for fun</td>\n",
       "      <td>improving</td>\n",
       "      <td>Silver 2</td>\n",
       "      <td>2.0</td>\n",
       "      <td>2.0</td>\n",
       "      <td>Male</td>\n",
       "      <td>18</td>\n",
       "      <td>Student at school</td>\n",
       "      <td>None</td>\n",
       "      <td>Multiplayer - online - with strangers</td>\n",
       "    </tr>\n",
       "    <tr>\n",
       "      <th>175</th>\n",
       "      <td>Somewhat difficult</td>\n",
       "      <td>Destiny</td>\n",
       "      <td>Console (PS, Xbox, ...)</td>\n",
       "      <td>14.0</td>\n",
       "      <td>I play for fun</td>\n",
       "      <td>having fun</td>\n",
       "      <td>Silver</td>\n",
       "      <td>1.0</td>\n",
       "      <td>1.0</td>\n",
       "      <td>Male</td>\n",
       "      <td>29</td>\n",
       "      <td>Employed</td>\n",
       "      <td>Ph.D., Psy. D., MD (or equivalent)</td>\n",
       "      <td>Multiplayer - online - with strangers</td>\n",
       "    </tr>\n",
       "    <tr>\n",
       "      <th>...</th>\n",
       "      <td>...</td>\n",
       "      <td>...</td>\n",
       "      <td>...</td>\n",
       "      <td>...</td>\n",
       "      <td>...</td>\n",
       "      <td>...</td>\n",
       "      <td>...</td>\n",
       "      <td>...</td>\n",
       "      <td>...</td>\n",
       "      <td>...</td>\n",
       "      <td>...</td>\n",
       "      <td>...</td>\n",
       "      <td>...</td>\n",
       "      <td>...</td>\n",
       "    </tr>\n",
       "    <tr>\n",
       "      <th>13123</th>\n",
       "      <td>Not difficult at all</td>\n",
       "      <td>League of Legends</td>\n",
       "      <td>PC</td>\n",
       "      <td>50.0</td>\n",
       "      <td>I play for fun</td>\n",
       "      <td>improving</td>\n",
       "      <td>Platinum</td>\n",
       "      <td>1.0</td>\n",
       "      <td>1.0</td>\n",
       "      <td>Male</td>\n",
       "      <td>20</td>\n",
       "      <td>Student at college / university</td>\n",
       "      <td>High school diploma (or equivalent)</td>\n",
       "      <td>Multiplayer - online - with real life friends</td>\n",
       "    </tr>\n",
       "    <tr>\n",
       "      <th>3264</th>\n",
       "      <td>Not difficult at all</td>\n",
       "      <td>League of Legends</td>\n",
       "      <td>PC</td>\n",
       "      <td>20.0</td>\n",
       "      <td>I play for fun</td>\n",
       "      <td>having fun</td>\n",
       "      <td>Silver 1</td>\n",
       "      <td>25.0</td>\n",
       "      <td>3.0</td>\n",
       "      <td>Male</td>\n",
       "      <td>18</td>\n",
       "      <td>Unemployed / between jobs</td>\n",
       "      <td>High school diploma (or equivalent)</td>\n",
       "      <td>Multiplayer - online - with real life friends</td>\n",
       "    </tr>\n",
       "    <tr>\n",
       "      <th>9845</th>\n",
       "      <td>Very difficult</td>\n",
       "      <td>League of Legends</td>\n",
       "      <td>PC</td>\n",
       "      <td>7.0</td>\n",
       "      <td>I play for fun</td>\n",
       "      <td>having fun</td>\n",
       "      <td>Silver</td>\n",
       "      <td>1.0</td>\n",
       "      <td>4.0</td>\n",
       "      <td>Male</td>\n",
       "      <td>18</td>\n",
       "      <td>Student at school</td>\n",
       "      <td>None</td>\n",
       "      <td>Multiplayer - online - with real life friends</td>\n",
       "    </tr>\n",
       "    <tr>\n",
       "      <th>10799</th>\n",
       "      <td>Somewhat difficult</td>\n",
       "      <td>League of Legends</td>\n",
       "      <td>PC</td>\n",
       "      <td>20.0</td>\n",
       "      <td>I play for fun</td>\n",
       "      <td>having fun</td>\n",
       "      <td>Gold</td>\n",
       "      <td>4.0</td>\n",
       "      <td>3.0</td>\n",
       "      <td>Male</td>\n",
       "      <td>18</td>\n",
       "      <td>Student at school</td>\n",
       "      <td>High school diploma (or equivalent)</td>\n",
       "      <td>Multiplayer - online - with real life friends</td>\n",
       "    </tr>\n",
       "    <tr>\n",
       "      <th>2732</th>\n",
       "      <td>Not difficult at all</td>\n",
       "      <td>League of Legends</td>\n",
       "      <td>PC</td>\n",
       "      <td>15.0</td>\n",
       "      <td>I play for fun</td>\n",
       "      <td>winning</td>\n",
       "      <td>Silver</td>\n",
       "      <td>0.0</td>\n",
       "      <td>4.0</td>\n",
       "      <td>Male</td>\n",
       "      <td>26</td>\n",
       "      <td>Employed</td>\n",
       "      <td>Bachelor (or equivalent)</td>\n",
       "      <td>Multiplayer - online - with strangers</td>\n",
       "    </tr>\n",
       "  </tbody>\n",
       "</table>\n",
       "<p>10098 rows × 14 columns</p>\n",
       "</div>"
      ],
      "text/plain": [
       "                       GADE               Game                 Platform  \\\n",
       "204    Not difficult at all  League of Legends                       PC   \n",
       "466    Not difficult at all              Other                       PC   \n",
       "9942     Somewhat difficult  League of Legends                       PC   \n",
       "11268  Not difficult at all  League of Legends                       PC   \n",
       "175      Somewhat difficult            Destiny  Console (PS, Xbox, ...)   \n",
       "...                     ...                ...                      ...   \n",
       "13123  Not difficult at all  League of Legends                       PC   \n",
       "3264   Not difficult at all  League of Legends                       PC   \n",
       "9845         Very difficult  League of Legends                       PC   \n",
       "10799    Somewhat difficult  League of Legends                       PC   \n",
       "2732   Not difficult at all  League of Legends                       PC   \n",
       "\n",
       "       Hours        earnings     whyplay    League  streams  Narcissism  \\\n",
       "204     14.0  I play for fun  having fun     Plat      10.0         1.0   \n",
       "466     20.0  I play for fun  having fun      gold      5.0         1.0   \n",
       "9942    24.0  I play for fun     winning     Gold       5.0         5.0   \n",
       "11268   18.0  I play for fun   improving  Silver 2      2.0         2.0   \n",
       "175     14.0  I play for fun  having fun    Silver      1.0         1.0   \n",
       "...      ...             ...         ...       ...      ...         ...   \n",
       "13123   50.0  I play for fun   improving  Platinum      1.0         1.0   \n",
       "3264    20.0  I play for fun  having fun  Silver 1     25.0         3.0   \n",
       "9845     7.0  I play for fun  having fun    Silver      1.0         4.0   \n",
       "10799   20.0  I play for fun  having fun      Gold      4.0         3.0   \n",
       "2732    15.0  I play for fun     winning    Silver      0.0         4.0   \n",
       "\n",
       "      Gender  Age                             Work  \\\n",
       "204     Male   19  Student at college / university   \n",
       "466     Male   20                         Employed   \n",
       "9942    Male   19  Student at college / university   \n",
       "11268   Male   18                Student at school   \n",
       "175     Male   29                         Employed   \n",
       "...      ...  ...                              ...   \n",
       "13123   Male   20  Student at college / university   \n",
       "3264    Male   18        Unemployed / between jobs   \n",
       "9845    Male   18                Student at school   \n",
       "10799   Male   18                Student at school   \n",
       "2732    Male   26                         Employed   \n",
       "\n",
       "                                    Degree  \\\n",
       "204    High school diploma (or equivalent)   \n",
       "466    High school diploma (or equivalent)   \n",
       "9942   High school diploma (or equivalent)   \n",
       "11268                                 None   \n",
       "175     Ph.D., Psy. D., MD (or equivalent)   \n",
       "...                                    ...   \n",
       "13123  High school diploma (or equivalent)   \n",
       "3264   High school diploma (or equivalent)   \n",
       "9845                                  None   \n",
       "10799  High school diploma (or equivalent)   \n",
       "2732              Bachelor (or equivalent)   \n",
       "\n",
       "                                               Playstyle  \n",
       "204    Multiplayer - online - with online acquaintanc...  \n",
       "466        Multiplayer - online - with real life friends  \n",
       "9942               Multiplayer - online - with strangers  \n",
       "11268              Multiplayer - online - with strangers  \n",
       "175                Multiplayer - online - with strangers  \n",
       "...                                                  ...  \n",
       "13123      Multiplayer - online - with real life friends  \n",
       "3264       Multiplayer - online - with real life friends  \n",
       "9845       Multiplayer - online - with real life friends  \n",
       "10799      Multiplayer - online - with real life friends  \n",
       "2732               Multiplayer - online - with strangers  \n",
       "\n",
       "[10098 rows x 14 columns]"
      ]
     },
     "execution_count": 47,
     "metadata": {},
     "output_type": "execute_result"
    }
   ],
   "source": [
    "X_train"
   ]
  },
  {
   "cell_type": "code",
   "execution_count": 48,
   "metadata": {},
   "outputs": [],
   "source": [
    "#соберем наш простой pipeline, но нам понадобится написать класс для выбора нужного поля\n",
    "class FeatureSelector(BaseEstimator, TransformerMixin):\n",
    "    def __init__(self, column):\n",
    "        self.column = column\n",
    "\n",
    "    def fit(self, X, y=None):\n",
    "        return self\n",
    "\n",
    "    def transform(self, X, y=None):\n",
    "        return X[self.column]\n",
    "    \n",
    "class NumberSelector(BaseEstimator, TransformerMixin):\n",
    "    \"\"\"\n",
    "    Transformer to select a single column from the data frame to perform additional transformations on\n",
    "    Use on numeric columns in the data\n",
    "    \"\"\"\n",
    "    def __init__(self, key):\n",
    "        self.key = key\n",
    "\n",
    "    def fit(self, X, y=None):\n",
    "        return self\n",
    "\n",
    "    def transform(self, X):\n",
    "        return X[[self.key]]\n",
    "    \n",
    "class OHEEncoder(BaseEstimator, TransformerMixin):\n",
    "    def __init__(self, key):\n",
    "        self.key = key\n",
    "        self.columns = []\n",
    "\n",
    "    def fit(self, X, y=None):\n",
    "        self.columns = [col for col in pd.get_dummies(X, prefix=self.key).columns]\n",
    "        return self\n",
    "\n",
    "    def transform(self, X):\n",
    "        X = pd.get_dummies(X, prefix=self.key)\n",
    "        test_columns = [col for col in X.columns]\n",
    "        for col_ in self.columns:\n",
    "            if col_ not in test_columns:\n",
    "                X[col_] = 0\n",
    "        return X[self.columns]"
   ]
  },
  {
   "cell_type": "code",
   "execution_count": 49,
   "metadata": {},
   "outputs": [
    {
     "name": "stdout",
     "output_type": "stream",
     "text": [
      "<class 'pandas.core.frame.DataFrame'>\n",
      "Int64Index: 10098 entries, 204 to 2732\n",
      "Data columns (total 14 columns):\n",
      " #   Column      Non-Null Count  Dtype   \n",
      "---  ------      --------------  -----   \n",
      " 0   GADE        10098 non-null  category\n",
      " 1   Game        10098 non-null  category\n",
      " 2   Platform    10098 non-null  category\n",
      " 3   Hours       10098 non-null  float32 \n",
      " 4   earnings    10098 non-null  category\n",
      " 5   whyplay     10098 non-null  category\n",
      " 6   League      10098 non-null  category\n",
      " 7   streams     10098 non-null  float32 \n",
      " 8   Narcissism  10098 non-null  float32 \n",
      " 9   Gender      10098 non-null  category\n",
      " 10  Age         10098 non-null  int8    \n",
      " 11  Work        10098 non-null  category\n",
      " 12  Degree      10098 non-null  category\n",
      " 13  Playstyle   10098 non-null  category\n",
      "dtypes: category(10), float32(3), int8(1)\n",
      "memory usage: 430.4 KB\n"
     ]
    }
   ],
   "source": [
    "X_train.info()"
   ]
  },
  {
   "cell_type": "code",
   "execution_count": 50,
   "metadata": {},
   "outputs": [],
   "source": [
    "continuous_columns = [\"Hours\", \"streams\", 'Narcissism', 'Age']\n",
    "cat_columns = ['GADE', 'Game', 'Platform', 'Gender', 'Work', 'Degree', 'earnings', 'whyplay', 'League', 'Playstyle']\n",
    "final_transformers = list()"
   ]
  },
  {
   "cell_type": "code",
   "execution_count": 73,
   "metadata": {},
   "outputs": [
    {
     "data": {
      "text/plain": [
       "14"
      ]
     },
     "execution_count": 73,
     "metadata": {},
     "output_type": "execute_result"
    }
   ],
   "source": [
    "len(continuous_columns + cat_columns)"
   ]
  },
  {
   "cell_type": "code",
   "execution_count": 51,
   "metadata": {},
   "outputs": [],
   "source": [
    "for cat_col in cat_columns:\n",
    "    cat_transformer = Pipeline([\n",
    "                ('selector', FeatureSelector(column=cat_col)),\n",
    "                ('ohe', OHEEncoder(key=cat_col))\n",
    "            ])\n",
    "    final_transformers.append((cat_col, cat_transformer))\n",
    "\n",
    "\n",
    "for cont_col in continuous_columns:\n",
    "    cont_transformer = Pipeline([\n",
    "                ('selector', NumberSelector(key=cont_col)),\n",
    "                ('scaler', StandardScaler())\n",
    "            ])\n",
    "    final_transformers.append((cont_col, cont_transformer))"
   ]
  },
  {
   "cell_type": "code",
   "execution_count": 52,
   "metadata": {},
   "outputs": [],
   "source": [
    "feats = FeatureUnion(final_transformers)\n",
    "\n",
    "pipeline = Pipeline([\n",
    "    ('features', feats),\n",
    "    ('classifier', RandomForestRegressor(random_state=42)),\n",
    "])"
   ]
  },
  {
   "cell_type": "code",
   "execution_count": 53,
   "metadata": {},
   "outputs": [
    {
     "data": {
      "text/plain": [
       "FeatureUnion(transformer_list=[('GADE',\n",
       "                                Pipeline(steps=[('selector',\n",
       "                                                 FeatureSelector(column='GADE')),\n",
       "                                                ('ohe',\n",
       "                                                 OHEEncoder(key='GADE'))])),\n",
       "                               ('Game',\n",
       "                                Pipeline(steps=[('selector',\n",
       "                                                 FeatureSelector(column='Game')),\n",
       "                                                ('ohe',\n",
       "                                                 OHEEncoder(key='Game'))])),\n",
       "                               ('Platform',\n",
       "                                Pipeline(steps=[('selector',\n",
       "                                                 FeatureSelector(column='Platform')),\n",
       "                                                ('ohe',\n",
       "                                                 OHEEncoder(key='Platform'))])),\n",
       "                               (...\n",
       "                                                 NumberSelector(key='Hours')),\n",
       "                                                ('scaler', StandardScaler())])),\n",
       "                               ('streams',\n",
       "                                Pipeline(steps=[('selector',\n",
       "                                                 NumberSelector(key='streams')),\n",
       "                                                ('scaler', StandardScaler())])),\n",
       "                               ('Narcissism',\n",
       "                                Pipeline(steps=[('selector',\n",
       "                                                 NumberSelector(key='Narcissism')),\n",
       "                                                ('scaler', StandardScaler())])),\n",
       "                               ('Age',\n",
       "                                Pipeline(steps=[('selector',\n",
       "                                                 NumberSelector(key='Age')),\n",
       "                                                ('scaler',\n",
       "                                                 StandardScaler())]))])"
      ]
     },
     "execution_count": 53,
     "metadata": {},
     "output_type": "execute_result"
    }
   ],
   "source": [
    "feats"
   ]
  },
  {
   "cell_type": "code",
   "execution_count": 54,
   "metadata": {},
   "outputs": [
    {
     "data": {
      "text/plain": [
       "Pipeline(steps=[('features',\n",
       "                 FeatureUnion(transformer_list=[('GADE',\n",
       "                                                 Pipeline(steps=[('selector',\n",
       "                                                                  FeatureSelector(column='GADE')),\n",
       "                                                                 ('ohe',\n",
       "                                                                  OHEEncoder(key='GADE'))])),\n",
       "                                                ('Game',\n",
       "                                                 Pipeline(steps=[('selector',\n",
       "                                                                  FeatureSelector(column='Game')),\n",
       "                                                                 ('ohe',\n",
       "                                                                  OHEEncoder(key='Game'))])),\n",
       "                                                ('Platform',\n",
       "                                                 Pipeline(steps=[('selector',\n",
       "                                                                  FeatureSelector(column='Platform')),\n",
       "                                                                 ('ohe',\n",
       "                                                                  OHEE...\n",
       "                                                ('streams',\n",
       "                                                 Pipeline(steps=[('selector',\n",
       "                                                                  NumberSelector(key='streams')),\n",
       "                                                                 ('scaler',\n",
       "                                                                  StandardScaler())])),\n",
       "                                                ('Narcissism',\n",
       "                                                 Pipeline(steps=[('selector',\n",
       "                                                                  NumberSelector(key='Narcissism')),\n",
       "                                                                 ('scaler',\n",
       "                                                                  StandardScaler())])),\n",
       "                                                ('Age',\n",
       "                                                 Pipeline(steps=[('selector',\n",
       "                                                                  NumberSelector(key='Age')),\n",
       "                                                                 ('scaler',\n",
       "                                                                  StandardScaler())]))])),\n",
       "                ('classifier', RandomForestRegressor(random_state=42))])"
      ]
     },
     "execution_count": 54,
     "metadata": {},
     "output_type": "execute_result"
    }
   ],
   "source": [
    "# обучим наш пайплайн\n",
    "pipeline.fit(X_train, y_train)"
   ]
  },
  {
   "cell_type": "code",
   "execution_count": 55,
   "metadata": {},
   "outputs": [
    {
     "data": {
      "text/plain": [
       "array([2.32, 6.69, 6.32, 1.54, 4.49, 6.08, 4.7 , 3.13, 2.69, 1.83])"
      ]
     },
     "execution_count": 55,
     "metadata": {},
     "output_type": "execute_result"
    }
   ],
   "source": [
    "#наши прогнозы для тестовой выборки\n",
    "preds = pipeline.predict(X_test)\n",
    "preds[:10]"
   ]
  },
  {
   "cell_type": "code",
   "execution_count": 61,
   "metadata": {},
   "outputs": [],
   "source": [
    "def evaluate_preds(true_values, pred_values, save=False):\n",
    "    \"\"\"Оценка качества модели и график preds vs true\"\"\"\n",
    "    \n",
    "    print(\"R2:\\t\" + str(round(r2(true_values, pred_values), 3)) + \"\\n\" +\n",
    "          \"RMSE:\\t\" + str(round(np.sqrt(mse(true_values, pred_values)), 3)) + \"\\n\" +\n",
    "          \"MSE:\\t\" + str(round(mse(true_values, pred_values), 3)) + \"\\n\" +\n",
    "          \"MAE:\\t\" + str(round(mae(true_values, pred_values), 3))         \n",
    "         )\n",
    "    \n",
    "    plt.figure(figsize=(8,8))\n",
    "    \n",
    "    sns.scatterplot(x=pred_values, y=true_values)\n",
    "    plt.plot([0, pred_values.max()], [0, true_values.max()], linestyle='--', color='black')  # диагональ, где true_values = pred_values\n",
    "    \n",
    "    plt.xlabel('Predicted values')\n",
    "    plt.ylabel('True values')\n",
    "    plt.title('True vs Predicted values')\n",
    "    \n",
    "    if save == True:\n",
    "        plt.savefig(REPORTS_FILE_PATH + 'report.png')\n",
    "    plt.show()"
   ]
  },
  {
   "cell_type": "code",
   "execution_count": 62,
   "metadata": {},
   "outputs": [
    {
     "name": "stdout",
     "output_type": "stream",
     "text": [
      "R2:\t0.905\n",
      "RMSE:\t1.446\n",
      "MSE:\t2.09\n",
      "MAE:\t1.081\n"
     ]
    },
    {
     "data": {
      "image/png": "[encoded data removed]",
      "text/plain": [
       "<Figure size 576x576 with 1 Axes>"
      ]
     },
     "metadata": {},
     "output_type": "display_data"
    }
   ],
   "source": [
    "REPORTS_FILE_PATH = ''\n",
    "y_train_preds = pipeline.predict(X_train)\n",
    "evaluate_preds(y_train, y_train_preds, save=True)"
   ]
  },
  {
   "cell_type": "code",
   "execution_count": null,
   "metadata": {},
   "outputs": [],
   "source": []
  }
 ],
 "metadata": {
  "kernelspec": {
   "display_name": "Python 3 (ipykernel)",
   "language": "python",
   "name": "python3"
  },
  "language_info": {
   "codemirror_mode": {
    "name": "ipython",
    "version": 3
   },
   "file_extension": ".py",
   "mimetype": "text/x-python",
   "name": "python",
   "nbconvert_exporter": "python",
   "pygments_lexer": "ipython3",
   "version": "3.9.7"
  }
 },
 "nbformat": 4,
 "nbformat_minor": 4
}
