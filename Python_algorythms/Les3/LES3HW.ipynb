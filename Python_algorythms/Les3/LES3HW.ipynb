{
 "cells": [
  {
   "cell_type": "markdown",
   "metadata": {},
   "source": [
    "1. В диапазоне натуральных чисел от 2 до 99 определить, сколько из них кратны каждому из чисел в диапазоне от 2 до 9. Примечание: 8 разных ответов."
   ]
  },
  {
   "cell_type": "code",
   "execution_count": 10,
   "metadata": {},
   "outputs": [
    {
     "name": "stdout",
     "output_type": "stream",
     "text": [
      "{2: 49, 3: 33, 4: 24, 5: 19, 6: 16, 7: 14, 8: 12, 9: 11}\n"
     ]
    }
   ],
   "source": [
    "res_dict = {x : 0 for x in range(2, 10)}\n",
    "\n",
    "for i in range(2, 100):\n",
    "    for dev, summ in res_dict.items():\n",
    "        if not i % dev:\n",
    "            res_dict[dev] += 1\n",
    "print(res_dict)\n"
   ]
  },
  {
   "cell_type": "markdown",
   "metadata": {},
   "source": [
    "2. Во втором массиве сохранить индексы четных элементов первого массива. Например, если дан массив со значениями 8, 3, 15, 6, 4, 2, второй массив надо заполнить значениями 0, 3, 4, 5 (помните, что индексация начинается с нуля), т. к. именно в этих позициях первого массива стоят четные числа."
   ]
  },
  {
   "cell_type": "code",
   "execution_count": 14,
   "metadata": {},
   "outputs": [
    {
     "name": "stdout",
     "output_type": "stream",
     "text": [
      "[0, 3, 4, 5]\n"
     ]
    }
   ],
   "source": [
    "first_list = [8, 3, 15, 6, 4, 2]\n",
    "second_list = []\n",
    "\n",
    "for pos, elem in enumerate(first_list):\n",
    "    if not elem % 2:\n",
    "        second_list.append(pos)\n",
    "        \n",
    "second_list = [pos for pos, elem in enumerate(first_list) if not elem % 2]\n",
    "        \n",
    "print(second_list)"
   ]
  },
  {
   "cell_type": "markdown",
   "metadata": {},
   "source": [
    "3. В массиве случайных целых чисел поменять местами минимальный и максимальный элементы."
   ]
  },
  {
   "cell_type": "code",
   "execution_count": 16,
   "metadata": {},
   "outputs": [
    {
     "name": "stdout",
     "output_type": "stream",
     "text": [
      "[1, 7, 4, 3, 6, 8, 0, 10, 10, 5, 15, 1, 3, 11, 9, 5, 11, 13, 7, 9]\n",
      "[1, 7, 4, 3, 6, 8, 15, 10, 10, 5, 0, 1, 3, 11, 9, 5, 11, 13, 7, 9]\n"
     ]
    }
   ],
   "source": [
    "import random\n",
    "\n",
    "sample_list = [random.randint(0, 15) for _ in range(20)]\n",
    "\n",
    "min_val = max_val = 0\n",
    "\n",
    "for pos, elem in enumerate(sample_list):\n",
    "    if elem < sample_list[min_val]:\n",
    "        min_val = pos\n",
    "    elif elem > sample_list[max_val]:\n",
    "        max_val = pos\n",
    "\n",
    "print(sample_list)\n",
    "sample_list[min_val], sample_list[max_val] = sample_list[max_val], sample_list[min_val]\n",
    "print(sample_list)"
   ]
  },
  {
   "cell_type": "markdown",
   "metadata": {},
   "source": [
    "4. Определить, какое число в массиве встречается чаще всего."
   ]
  },
  {
   "cell_type": "code",
   "execution_count": 26,
   "metadata": {},
   "outputs": [
    {
     "name": "stdout",
     "output_type": "stream",
     "text": [
      "[9, 13, 7, 6, 3, 3, 10, 12, 2, 13, 13, 11, 15, 6, 6, 0, 10, 8, 12, 10]\n",
      "{9: 1, 13: 3, 7: 1, 6: 3, 3: 2, 10: 3, 12: 2, 2: 1, 11: 1, 15: 1, 0: 1, 8: 1}\n",
      "Число 13 встречается 3 раза.\n"
     ]
    }
   ],
   "source": [
    "sample_list = [random.randint(0, 15) for _ in range(20)]\n",
    "\n",
    "res_dict = {}\n",
    "max_elem, max_count = None, 0\n",
    "\n",
    "for i in sample_list:\n",
    "    if i not in res_dict:\n",
    "        res_dict[i] = 1\n",
    "    else:\n",
    "        res_dict[i] += 1\n",
    "    if res_dict[i] > max_count:\n",
    "        max_count, max_elem = res_dict[i], i\n",
    "\n",
    "print(sample_list)\n",
    "print(res_dict)\n",
    "print(f'Число {max_elem} встречается {max_count} раза.')"
   ]
  },
  {
   "cell_type": "markdown",
   "metadata": {},
   "source": [
    "5. В массиве найти максимальный отрицательный элемент. Вывести на экран его значение и позицию в массиве."
   ]
  },
  {
   "cell_type": "code",
   "execution_count": 33,
   "metadata": {},
   "outputs": [
    {
     "name": "stdout",
     "output_type": "stream",
     "text": [
      "[89, 32, -13, -55, 60, -42, 32, 52, 28, 19, 75, -77, -99, -31, 1, 0, -36, 49, 47, 91]\n",
      "-13\n"
     ]
    }
   ],
   "source": [
    "sample_list = [random.randint(-100, 100) for _ in range(20)]\n",
    "\n",
    "max_negative = None\n",
    "\n",
    "for i in sample_list:\n",
    "    if i < 0:\n",
    "        if max_negative is None or i > max_negative:\n",
    "            max_negative = i\n",
    "\n",
    "print(sample_list)\n",
    "print(max_negative)\n",
    "    "
   ]
  },
  {
   "cell_type": "markdown",
   "metadata": {},
   "source": [
    "6. В одномерном массиве найти сумму элементов, находящихся между минимальным и максимальным элементами. Сами минимальный и максимальный элементы в сумму не включать."
   ]
  },
  {
   "cell_type": "code",
   "execution_count": 43,
   "metadata": {},
   "outputs": [
    {
     "name": "stdout",
     "output_type": "stream",
     "text": [
      "[10, 2, 11, 4, 5, 3, 14, 3, 14, 1, 15, 7, 0, 1, 3, 9, 1, 12, 13, 5]\n",
      "12 10\n",
      "7\n"
     ]
    }
   ],
   "source": [
    "sample_list = [random.randint(0, 15) for _ in range(20)]\n",
    "\n",
    "min_val = max_val = 0\n",
    "\n",
    "for pos, elem in enumerate(sample_list):\n",
    "    if elem < sample_list[min_val]:\n",
    "        min_val = pos\n",
    "    elif elem > sample_list[max_val]:\n",
    "        max_val = pos\n",
    "\n",
    "    \n",
    "summ = 0\n",
    "    \n",
    "if max_val < min_val:\n",
    "    for i in sample_list[max_val + 1: min_val]:\n",
    "        summ += i\n",
    "else:\n",
    "    for i in sample_list[min_val + 1: max_val]:\n",
    "        summ += i\n",
    "print(sample_list)\n",
    "print(min_val, max_val)\n",
    "print(summ)"
   ]
  }
 ],
 "metadata": {
  "kernelspec": {
   "display_name": "Python 3",
   "language": "python",
   "name": "python3"
  },
  "language_info": {
   "codemirror_mode": {
    "name": "ipython",
    "version": 3
   },
   "file_extension": ".py",
   "mimetype": "text/x-python",
   "name": "python",
   "nbconvert_exporter": "python",
   "pygments_lexer": "ipython3",
   "version": "3.7.4"
  }
 },
 "nbformat": 4,
 "nbformat_minor": 4
}
