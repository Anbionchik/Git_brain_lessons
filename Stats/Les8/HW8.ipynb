{
 "cells": [
  {
   "cell_type": "markdown",
   "metadata": {},
   "source": [
    "Провести дисперсионный анализ для определения того, есть ли различия среднего роста среди взрослых футболистов, хоккеистов и штангистов. Даны значения роста в трех группах случайно выбранных спортсменов: Футболисты: 173, 175, 180, 178, 177, 185, 183, 182. Хоккеисты: 177, 179, 180, 188, 177, 172, 171, 184, 180. Штангисты: 172, 173, 169, 177, 166, 180, 178, 177, 172, 166, 170. alpha = 0.05."
   ]
  },
  {
   "cell_type": "code",
   "execution_count": 3,
   "metadata": {},
   "outputs": [],
   "source": [
    "import numpy as np"
   ]
  },
  {
   "cell_type": "code",
   "execution_count": 4,
   "metadata": {},
   "outputs": [],
   "source": [
    "football_players = np.array([173, 175, 180, 178, 177, 185, 183, 182])\n",
    "hockey_players = np.array([177, 179, 180, 188, 177, 172, 171, 184, 180])\n",
    "weightlifters = np.array([172, 173, 169, 177, 166, 180, 178, 177, 172, 166, 170])"
   ]
  },
  {
   "cell_type": "code",
   "execution_count": 5,
   "metadata": {},
   "outputs": [
    {
     "name": "stdout",
     "output_type": "stream",
     "text": [
      "28\n"
     ]
    }
   ],
   "source": [
    "n = sum(map(len, (football_players, hockey_players, weightlifters)))\n",
    "print(n)"
   ]
  },
  {
   "cell_type": "code",
   "execution_count": 6,
   "metadata": {},
   "outputs": [
    {
     "name": "stdout",
     "output_type": "stream",
     "text": [
      "179.125 178.66666666666666 172.72727272727272\n"
     ]
    }
   ],
   "source": [
    "av_fb = sum(football_players)/len(football_players)\n",
    "av_hk = sum(hockey_players)/len(hockey_players)\n",
    "av_wl = sum(weightlifters)/len(weightlifters)\n",
    "print(av_fb,av_hk,av_wl)"
   ]
  },
  {
   "cell_type": "code",
   "execution_count": 7,
   "metadata": {},
   "outputs": [
    {
     "name": "stdout",
     "output_type": "stream",
     "text": [
      "176.46428571428572\n"
     ]
    }
   ],
   "source": [
    "AV = sum(map(sum, (football_players, hockey_players, weightlifters)))/sum(map(len, (football_players, hockey_players, weightlifters)))\n",
    "print(AV)"
   ]
  },
  {
   "cell_type": "code",
   "execution_count": 8,
   "metadata": {},
   "outputs": [
    {
     "name": "stdout",
     "output_type": "stream",
     "text": [
      "830.9642857142858\n"
     ]
    }
   ],
   "source": [
    "DEV = sum((football_players-AV)**2) + sum((hockey_players-AV)**2) + sum((weightlifters-AV)**2)\n",
    "print(DEV)"
   ]
  },
  {
   "cell_type": "code",
   "execution_count": 9,
   "metadata": {},
   "outputs": [
    {
     "name": "stdout",
     "output_type": "stream",
     "text": [
      "253.9074675324678\n"
     ]
    }
   ],
   "source": [
    "DEV_F = (av_fb-AV)**2 * len(football_players) + (av_hk-AV)**2 * len(hockey_players) + (av_wl-AV)**2 * len(weightlifters)\n",
    "print(DEV_F)"
   ]
  },
  {
   "cell_type": "code",
   "execution_count": 10,
   "metadata": {},
   "outputs": [
    {
     "name": "stdout",
     "output_type": "stream",
     "text": [
      "577.0568181818181\n"
     ]
    }
   ],
   "source": [
    "union_arr = np.concatenate((football_players, hockey_players, weightlifters))\n",
    "DEV_res = sum((football_players-av_fb)**2) + sum((hockey_players-av_hk)**2) + sum((weightlifters-av_wl)**2)\n",
    "print(DEV_res)"
   ]
  },
  {
   "cell_type": "code",
   "execution_count": 11,
   "metadata": {},
   "outputs": [
    {
     "name": "stdout",
     "output_type": "stream",
     "text": [
      "830.96 = 830.96\n"
     ]
    }
   ],
   "source": [
    "print(f'{round(DEV,2)} = {round(DEV_F + DEV_res, 2)}')"
   ]
  },
  {
   "cell_type": "code",
   "execution_count": 12,
   "metadata": {},
   "outputs": [
    {
     "name": "stdout",
     "output_type": "stream",
     "text": [
      "30.77645502645503\n"
     ]
    }
   ],
   "source": [
    "var_common = DEV / (n - 1)\n",
    "print(var_common)"
   ]
  },
  {
   "cell_type": "code",
   "execution_count": 13,
   "metadata": {},
   "outputs": [
    {
     "name": "stdout",
     "output_type": "stream",
     "text": [
      "126.9537337662339\n"
     ]
    }
   ],
   "source": [
    "var_F = DEV_F / (3 - 1)\n",
    "print(var_F)"
   ]
  },
  {
   "cell_type": "code",
   "execution_count": 14,
   "metadata": {},
   "outputs": [
    {
     "name": "stdout",
     "output_type": "stream",
     "text": [
      "23.082272727272724\n"
     ]
    }
   ],
   "source": [
    "var_res = DEV_res / (n - 3)\n",
    "print(var_res)"
   ]
  },
  {
   "cell_type": "code",
   "execution_count": 15,
   "metadata": {},
   "outputs": [
    {
     "name": "stdout",
     "output_type": "stream",
     "text": [
      "5.500053450812599\n"
     ]
    }
   ],
   "source": [
    "FH = var_F / var_res\n",
    "print(FH)"
   ]
  },
  {
   "cell_type": "code",
   "execution_count": 16,
   "metadata": {},
   "outputs": [],
   "source": [
    "FKR = 3.38"
   ]
  },
  {
   "cell_type": "code",
   "execution_count": 17,
   "metadata": {},
   "outputs": [
    {
     "data": {
      "text/plain": [
       "True"
      ]
     },
     "execution_count": 17,
     "metadata": {},
     "output_type": "execute_result"
    }
   ],
   "source": [
    "FH > FKR\n",
    "# выборки имеют разные средние значения"
   ]
  },
  {
   "cell_type": "code",
   "execution_count": 20,
   "metadata": {},
   "outputs": [
    {
     "name": "stdout",
     "output_type": "stream",
     "text": [
      "0.3055576176949799\n"
     ]
    }
   ],
   "source": [
    "eta2 = DEV_F / DEV\n",
    "print(eta2)\n",
    "# eta2 чуть больше 0.3 => средние имеют достоверное отличие, \n",
    "# но вывод делаем с отсторожностью"
   ]
  }
 ],
 "metadata": {
  "kernelspec": {
   "display_name": "Python 3",
   "language": "python",
   "name": "python3"
  },
  "language_info": {
   "codemirror_mode": {
    "name": "ipython",
    "version": 3
   },
   "file_extension": ".py",
   "mimetype": "text/x-python",
   "name": "python",
   "nbconvert_exporter": "python",
   "pygments_lexer": "ipython3",
   "version": "3.7.4"
  }
 },
 "nbformat": 4,
 "nbformat_minor": 4
}
