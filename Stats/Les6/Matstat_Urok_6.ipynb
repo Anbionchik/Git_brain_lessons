{
 "cells": [
  {
   "cell_type": "markdown",
   "metadata": {
    "id": "Kd6T723GKP4U"
   },
   "source": [
    "## Урок 6"
   ]
  },
  {
   "cell_type": "markdown",
   "metadata": {
    "id": "kCDeDOwqKP4d"
   },
   "source": [
    "### Взаимосвязь величин. Параметрические и непараметрические показатели корреляции. \n",
    "\n",
    "### Корреляционный анализ"
   ]
  },
  {
   "cell_type": "markdown",
   "metadata": {
    "id": "xUQNl66OKP4g"
   },
   "source": [
    "**Корреляция**  — математический показатель, по которому можно судить, есть ли статистическая взаимосвязь между \n",
    "\n",
    "случайными величинами. Если такая связь существует, изменения значений одной величины  \n",
    "\n",
    "влияют на другую.\n",
    "\n",
    "\n",
    "**Коэффициент корреляции** показывает, насколько велика взаимосвязь. Обозначается символами $R$ или $r$ и может \n",
    "\n",
    "принимать значения от -1 до 1 включительно."
   ]
  },
  {
   "cell_type": "markdown",
   "metadata": {
    "collapsed": true,
    "id": "j_kjlhujKP4j"
   },
   "source": [
    "Когда коэффициент корреляции близок к 1, между величинами наблюдается **прямая** связь:\n",
    "\n",
    "увеличение одной величины сопровождается увеличением другой, и аналогично уменьшение одной величины\n",
    "\n",
    "сопровождается уменьшением другой.\n",
    "\n",
    "Если же коэффициент корреляции близок к -1, между величинами есть **обратная** корреляционная связь:\n",
    "\n",
    "увеличение одной величины сопровождается уменьшением другой и наоборот.\n",
    "\n",
    "Коэффициент корреляции, близкий к 0, говорит о том, что между величинами **нет связи**,\n",
    "\n",
    "то есть изменение величин происходит независимо друг от друга, либо есть только нелинейная взаимосвязь."
   ]
  },
  {
   "cell_type": "markdown",
   "metadata": {
    "id": "rTj2_4NEKP4l"
   },
   "source": [
    "**Пример 1**"
   ]
  },
  {
   "cell_type": "markdown",
   "metadata": {
    "id": "ZMhj93DHKP4q"
   },
   "source": [
    "Посчитаем корреляцию роста с весом хоккеистов из рассмотренного ранее датасета."
   ]
  },
  {
   "cell_type": "code",
   "execution_count": 8,
   "metadata": {
    "id": "O04IbTLXKP4v"
   },
   "outputs": [],
   "source": [
    "import numpy as np\n",
    "import pandas as pd"
   ]
  },
  {
   "cell_type": "code",
   "execution_count": 9,
   "metadata": {
    "id": "zyT40MYOKP5C"
   },
   "outputs": [],
   "source": [
    "df = pd.read_csv('hockey_players.csv', encoding='cp1251', parse_dates=['birth'])\n",
    "df = df.drop_duplicates(['name', 'birth'])"
   ]
  },
  {
   "cell_type": "code",
   "execution_count": 10,
   "metadata": {},
   "outputs": [
    {
     "data": {
      "text/html": [
       "<div>\n",
       "<style scoped>\n",
       "    .dataframe tbody tr th:only-of-type {\n",
       "        vertical-align: middle;\n",
       "    }\n",
       "\n",
       "    .dataframe tbody tr th {\n",
       "        vertical-align: top;\n",
       "    }\n",
       "\n",
       "    .dataframe thead th {\n",
       "        text-align: right;\n",
       "    }\n",
       "</style>\n",
       "<table border=\"1\" class=\"dataframe\">\n",
       "  <thead>\n",
       "    <tr style=\"text-align: right;\">\n",
       "      <th></th>\n",
       "      <th>year</th>\n",
       "      <th>no</th>\n",
       "      <th>height</th>\n",
       "      <th>weight</th>\n",
       "      <th>age</th>\n",
       "      <th>cohort</th>\n",
       "      <th>bmi</th>\n",
       "    </tr>\n",
       "  </thead>\n",
       "  <tbody>\n",
       "    <tr>\n",
       "      <th>count</th>\n",
       "      <td>3294.000000</td>\n",
       "      <td>3294.000000</td>\n",
       "      <td>3294.000000</td>\n",
       "      <td>3294.000000</td>\n",
       "      <td>3294.000000</td>\n",
       "      <td>3294.000000</td>\n",
       "      <td>3294.000000</td>\n",
       "    </tr>\n",
       "    <tr>\n",
       "      <th>mean</th>\n",
       "      <td>2006.860959</td>\n",
       "      <td>28.520036</td>\n",
       "      <td>183.829387</td>\n",
       "      <td>87.464633</td>\n",
       "      <td>26.379341</td>\n",
       "      <td>1980.365513</td>\n",
       "      <td>25.865320</td>\n",
       "    </tr>\n",
       "    <tr>\n",
       "      <th>std</th>\n",
       "      <td>4.453502</td>\n",
       "      <td>22.776900</td>\n",
       "      <td>5.467629</td>\n",
       "      <td>7.043294</td>\n",
       "      <td>4.247066</td>\n",
       "      <td>6.802670</td>\n",
       "      <td>1.498745</td>\n",
       "    </tr>\n",
       "    <tr>\n",
       "      <th>min</th>\n",
       "      <td>2001.000000</td>\n",
       "      <td>1.000000</td>\n",
       "      <td>165.000000</td>\n",
       "      <td>65.000000</td>\n",
       "      <td>17.642710</td>\n",
       "      <td>1963.000000</td>\n",
       "      <td>19.460881</td>\n",
       "    </tr>\n",
       "    <tr>\n",
       "      <th>25%</th>\n",
       "      <td>2004.000000</td>\n",
       "      <td>12.000000</td>\n",
       "      <td>180.000000</td>\n",
       "      <td>83.000000</td>\n",
       "      <td>23.245038</td>\n",
       "      <td>1975.000000</td>\n",
       "      <td>24.901982</td>\n",
       "    </tr>\n",
       "    <tr>\n",
       "      <th>50%</th>\n",
       "      <td>2006.000000</td>\n",
       "      <td>23.000000</td>\n",
       "      <td>184.000000</td>\n",
       "      <td>87.000000</td>\n",
       "      <td>25.895962</td>\n",
       "      <td>1980.000000</td>\n",
       "      <td>25.811182</td>\n",
       "    </tr>\n",
       "    <tr>\n",
       "      <th>75%</th>\n",
       "      <td>2010.000000</td>\n",
       "      <td>37.000000</td>\n",
       "      <td>188.000000</td>\n",
       "      <td>92.000000</td>\n",
       "      <td>29.135524</td>\n",
       "      <td>1985.000000</td>\n",
       "      <td>26.861207</td>\n",
       "    </tr>\n",
       "    <tr>\n",
       "      <th>max</th>\n",
       "      <td>2016.000000</td>\n",
       "      <td>98.000000</td>\n",
       "      <td>205.000000</td>\n",
       "      <td>117.000000</td>\n",
       "      <td>41.505818</td>\n",
       "      <td>1998.000000</td>\n",
       "      <td>30.930438</td>\n",
       "    </tr>\n",
       "  </tbody>\n",
       "</table>\n",
       "</div>"
      ],
      "text/plain": [
       "              year           no       height       weight          age  \\\n",
       "count  3294.000000  3294.000000  3294.000000  3294.000000  3294.000000   \n",
       "mean   2006.860959    28.520036   183.829387    87.464633    26.379341   \n",
       "std       4.453502    22.776900     5.467629     7.043294     4.247066   \n",
       "min    2001.000000     1.000000   165.000000    65.000000    17.642710   \n",
       "25%    2004.000000    12.000000   180.000000    83.000000    23.245038   \n",
       "50%    2006.000000    23.000000   184.000000    87.000000    25.895962   \n",
       "75%    2010.000000    37.000000   188.000000    92.000000    29.135524   \n",
       "max    2016.000000    98.000000   205.000000   117.000000    41.505818   \n",
       "\n",
       "            cohort          bmi  \n",
       "count  3294.000000  3294.000000  \n",
       "mean   1980.365513    25.865320  \n",
       "std       6.802670     1.498745  \n",
       "min    1963.000000    19.460881  \n",
       "25%    1975.000000    24.901982  \n",
       "50%    1980.000000    25.811182  \n",
       "75%    1985.000000    26.861207  \n",
       "max    1998.000000    30.930438  "
      ]
     },
     "execution_count": 10,
     "metadata": {},
     "output_type": "execute_result"
    }
   ],
   "source": [
    "df.describe()"
   ]
  },
  {
   "cell_type": "markdown",
   "metadata": {
    "id": "c4Bs4QM8KP5X"
   },
   "source": [
    "Для этого воспользуемся методом **corr ** из библиотеки **pandas**:"
   ]
  },
  {
   "cell_type": "code",
   "execution_count": 11,
   "metadata": {
    "id": "IDixqzBQKP5b",
    "outputId": "62ae15a0-6cea-450a-fb93-87b788ce9637"
   },
   "outputs": [
    {
     "data": {
      "text/html": [
       "<div>\n",
       "<style scoped>\n",
       "    .dataframe tbody tr th:only-of-type {\n",
       "        vertical-align: middle;\n",
       "    }\n",
       "\n",
       "    .dataframe tbody tr th {\n",
       "        vertical-align: top;\n",
       "    }\n",
       "\n",
       "    .dataframe thead th {\n",
       "        text-align: right;\n",
       "    }\n",
       "</style>\n",
       "<table border=\"1\" class=\"dataframe\">\n",
       "  <thead>\n",
       "    <tr style=\"text-align: right;\">\n",
       "      <th></th>\n",
       "      <th>height</th>\n",
       "      <th>weight</th>\n",
       "    </tr>\n",
       "  </thead>\n",
       "  <tbody>\n",
       "    <tr>\n",
       "      <th>height</th>\n",
       "      <td>1.000000</td>\n",
       "      <td>0.693731</td>\n",
       "    </tr>\n",
       "    <tr>\n",
       "      <th>weight</th>\n",
       "      <td>0.693731</td>\n",
       "      <td>1.000000</td>\n",
       "    </tr>\n",
       "  </tbody>\n",
       "</table>\n",
       "</div>"
      ],
      "text/plain": [
       "          height    weight\n",
       "height  1.000000  0.693731\n",
       "weight  0.693731  1.000000"
      ]
     },
     "execution_count": 11,
     "metadata": {},
     "output_type": "execute_result"
    }
   ],
   "source": [
    "corr_matrix = df.loc[:, ['height', 'weight']].corr()\n",
    "corr_matrix"
   ]
  },
  {
   "cell_type": "markdown",
   "metadata": {
    "id": "54n8mVpfKP5y"
   },
   "source": [
    "Мы получили матрицу корреляций. Корреляция между ростом и весом достаточно высока и имеет величину, почти равную 0.7:"
   ]
  },
  {
   "cell_type": "code",
   "execution_count": 12,
   "metadata": {
    "id": "FG5WGiW-KP50",
    "outputId": "cd0d6a41-d1c8-407d-8617-5dc04761a5b3"
   },
   "outputs": [
    {
     "data": {
      "text/plain": [
       "0.6937305679663011"
      ]
     },
     "execution_count": 12,
     "metadata": {},
     "output_type": "execute_result"
    }
   ],
   "source": [
    "corr_matrix.loc['height', 'weight']"
   ]
  },
  {
   "cell_type": "markdown",
   "metadata": {
    "id": "E47g60aWKP6A"
   },
   "source": [
    "Величина корреляции положительна, так что можно сделать вывод, что чем выше рост хоккеиста, тем, как правило, больше его вес."
   ]
  },
  {
   "cell_type": "markdown",
   "metadata": {
    "id": "CD44TSUBKP6F"
   },
   "source": [
    "#### Взаимосвязь величин"
   ]
  },
  {
   "cell_type": "markdown",
   "metadata": {
    "id": "rShFAjXDKP6I"
   },
   "source": [
    "Если две величины коррелируют, это может свидетельствовать о наличии **статистической связи** между ними. Причем говорить о ней \n",
    "\n",
    "мы можем для величин из одной выборки, что не гарантирует того, что подобная связь встретится и в другой выборке и \n",
    "\n",
    "должна будет иметь такую же природу. \n",
    "\n",
    "Корреляционный анализ просто интерпретируется, поэтому статистик может сделать ложный вывод о том, что между этими признаками \n",
    "\n",
    "существует причинно-следственная связь. Такой вывод нельзя делать на основании коэффициента корреляции — можно лишь сказать, \n",
    "\n",
    "что между признаками есть статистическая взаимосвязь."
   ]
  },
  {
   "cell_type": "markdown",
   "metadata": {
    "collapsed": true,
    "id": "3G4ElBxJKP6K"
   },
   "source": [
    "Например, если рассмотреть данные о пожарах в городе, можно увидеть, что между материальными потерями, вызванными \n",
    "\n",
    "пожаром, и количеством пожарных, которые принимали участие в его тушении, есть сильная корреляция.\n",
    "\n",
    "При этом ложным будет вывод о том, что большое количество пожарных, присутствующих на пожаре, приводит к увеличению ущерба от него. Он может привести к неправильному решению — уменьшить бригаду пожарных, чтобы сократить материальные потери."
   ]
  },
  {
   "cell_type": "markdown",
   "metadata": {
    "id": "aSEcxm_nKP6M"
   },
   "source": [
    "Еще один пример того, как коррелирующие величины могут направить статистика по ложному следу: в городах с \n",
    "\n",
    "повышенным уровнем преступности зачастую количество полицейских тоже велико. Между количеством полицейских и преступностью есть \n",
    "\n",
    "положительная корреляция. Ложный вывод, который можно в таком случае сделать, —  решить, что причиной повышенной \n",
    "\n",
    "преступности стало увеличение штата полицейских, и сократить часть правоохранителей, чтобы снизить уровень преступности."
   ]
  },
  {
   "cell_type": "markdown",
   "metadata": {
    "id": "nbPvHdQ-KP6O"
   },
   "source": [
    "Если  ковариация не равна нулю, две случайные величины зависимы."
   ]
  },
  {
   "cell_type": "markdown",
   "metadata": {
    "id": "EbGcE3NeKP6Q"
   },
   "source": [
    "Высокая **корреляция** двух величин может свидетельствовать о том, что у них есть **общая причина** — несмотря на то, что \n",
    "\n",
    "прямого взаимодействия между двумя коррелирующими величинами нет. Например, наступление зимы может быть причиной и  роста \n",
    "\n",
    "заболеваемости простудой, и повышения расходов на отопление. Это как раз тот случай, когда две величины (число \n",
    "\n",
    "заболевших и расходы на отопление) коррелируют между собой, хотя они друг на друга напрямую не влияют.\n",
    "\n",
    "Зато у них есть общая причина — зимний сезон."
   ]
  },
  {
   "cell_type": "markdown",
   "metadata": {
    "id": "1G-oFP8LKP6R"
   },
   "source": [
    "Отсутствие корреляции между двумя величинами еще не говорит о том, что между показателями нет связи. \n",
    "\n",
    "Вполне возможно, что между признаками есть нелинейная зависимость, которую не может уловить коэффициент корреляции."
   ]
  },
  {
   "cell_type": "markdown",
   "metadata": {
    "id": "FRgWU11_KP6U"
   },
   "source": [
    "**Показатели корреляции**"
   ]
  },
  {
   "cell_type": "markdown",
   "metadata": {
    "id": "0hXxVoFuKP6V"
   },
   "source": [
    "В зависимости от характера переменных можно выбрать подходящий метод вычисления коэффициента корреляции.\n",
    "\n",
    "Для интервальных и количественных признаков используется коэффициент корреляции Пирсона ($r$), относящийся \n",
    "\n",
    "к параметрическим показателям корреляции. Если хотя бы один из двух признаков — порядковый \n",
    "\n",
    "или его распределение не является нормальным, применяют ранговую корреляцию Спирмена или $\\tau$ (тау) Кендалла — \n",
    "\n",
    "непараметрические показатели корреляции. "
   ]
  },
  {
   "cell_type": "markdown",
   "metadata": {
    "id": "i1J_ym-RKP6X"
   },
   "source": [
    "**Ковариация**"
   ]
  },
  {
   "cell_type": "markdown",
   "metadata": {
    "id": "uf6rvhfVKP6a"
   },
   "source": [
    "Ковариация, или корреляционный момент — параметрический показатель, позволяющий судить о совместном распределении \n",
    "\n",
    "двух признаков. Равна математическому ожиданию произведения отклонений случайных величин:"
   ]
  },
  {
   "cell_type": "markdown",
   "metadata": {
    "id": "l46rvHB5KP6f"
   },
   "source": [
    "$$cov_{XY} = M[(X - M(X))(Y - M(Y))] = M(XY) - M(X)M(Y)=\\overline{X \\cdot Y} - \\overline{X} \\cdot \\overline{Y}$$\n",
    "\n",
    "```\n",
    "# Выбран кодовый формат\n",
    "```\n",
    "\n"
   ]
  },
  {
   "cell_type": "code",
   "execution_count": 13,
   "metadata": {},
   "outputs": [
    {
     "name": "stdout",
     "output_type": "stream",
     "text": [
      "26.707535992102372\n"
     ]
    }
   ],
   "source": [
    "MH = df['height'].mean()\n",
    "MW = df['weight'].mean()\n",
    "mean_list = []\n",
    "for h, w in zip(df['height'], df['weight']):\n",
    "    mean_list.append((h-MH)*(w-MW))\n",
    "cov = sum(mean_list) / len(mean_list)\n",
    "print(cov)"
   ]
  },
  {
   "cell_type": "code",
   "execution_count": 14,
   "metadata": {},
   "outputs": [
    {
     "name": "stdout",
     "output_type": "stream",
     "text": [
      "29.894963668771002\n",
      "29.894963668771\n"
     ]
    }
   ],
   "source": [
    "print(df['height'].std()**2)\n",
    "print(df['height'].var())"
   ]
  },
  {
   "cell_type": "code",
   "execution_count": 15,
   "metadata": {},
   "outputs": [
    {
     "name": "stdout",
     "output_type": "stream",
     "text": [
      "0.6935199636651666\n"
     ]
    }
   ],
   "source": [
    "pear = cov / (df['height'].std() * df['weight'].std())\n",
    "print(pear)"
   ]
  },
  {
   "cell_type": "markdown",
   "metadata": {
    "id": "yJVQYCbeKP6j"
   },
   "source": [
    "где $M$ — математическое ожидание, $\\overline{X} \\: и \\:\\overline{Y}$ — среднее значение выборок."
   ]
  },
  {
   "cell_type": "markdown",
   "metadata": {
    "id": "bRr95fd-KP6o"
   },
   "source": [
    "Размерность ковариации, которая равна произведению размерности случайных величин, имеет их масштаб, \n",
    "\n",
    "то есть величина ковариации зависит от единиц измерения независимых величин. В связи с этим ковариацию затруднительно \n",
    "\n",
    "применять для корреляционного анализа."
   ]
  },
  {
   "cell_type": "markdown",
   "metadata": {
    "id": "znWligpAKP6r"
   },
   "source": [
    "Зная ковариацию и среднее квадратичное отклонение каждого из двух признаков, можно вычислить коэффициент корреляции Пирсона:"
   ]
  },
  {
   "cell_type": "markdown",
   "metadata": {
    "id": "LkSxJhDYKP6u"
   },
   "source": [
    "$$r_{XY} = \\frac{cov_{XY}}{\\sigma_{X}\\sigma_{Y}}$$"
   ]
  },
  {
   "cell_type": "markdown",
   "metadata": {
    "id": "TgaYK2I-KP6w"
   },
   "source": [
    "**Корреляционный анализ**"
   ]
  },
  {
   "cell_type": "markdown",
   "metadata": {
    "id": "hjSiZTGUKP6y"
   },
   "source": [
    "Корреляционный анализ — метод обработки статистических данных, благодаря которому можно определить тесноту связи между\n",
    "\n",
    "несколькими показателями. Корреляционный анализ имеет тесную связь с регрессионным. Такой анализ принято называть \n",
    "\n",
    "корреляционно-регрессионным — используя его, можно определять включение и исключение показателей в уравнение \n",
    "\n",
    "множественной регрессии. А применяя коэффициент детерминации — проводить оценку полученного уравнение регрессии на соответствие \n",
    "\n",
    "выявленным связям."
   ]
  },
  {
   "cell_type": "markdown",
   "metadata": {
    "id": "A8aXQIbxKP61"
   },
   "source": [
    "**Ограничения корреляционного анализа**"
   ]
  },
  {
   "cell_type": "markdown",
   "metadata": {
    "id": "BnLGTC0LKP64"
   },
   "source": [
    "Рассмотрим следующие ограничения корреляционного анализа:\n",
    "\n",
    "1. Чтобы применять корреляционный анализ, требуется большое количество наблюдений.\n",
    "\n",
    "\n",
    "2. Совокупность факторных признаков и результирующего признака должна иметь многомерное нормальное распределение.\n",
    "\n",
    "\n",
    "3. Несмотря на простоту и наглядность метода, он не позволяет точно установить наличие причинно-следственной связи."
   ]
  },
  {
   "cell_type": "markdown",
   "metadata": {
    "id": "mAlAKIUfKP66"
   },
   "source": [
    "Корреляционный анализ используется во многих сферах: экономике, астрофизике, психологии, политологии и социологии.\n",
    "    \n",
    "Данный метод обработки информации популярен, так как прост в расчете и интерпретации,\n",
    "\n",
    "удобен при обработке статистической информации."
   ]
  },
  {
   "cell_type": "markdown",
   "metadata": {},
   "source": [
    "## ДЗ"
   ]
  },
  {
   "cell_type": "markdown",
   "metadata": {},
   "source": [
    "№1 Даны значения величины заработной платы заемщиков банка (zp) и значения их поведенческого кредитного скоринга (ks):\n",
    "\n",
    "zp = [35, 45, 190, 200, 40, 70, 54, 150, 120, 110],\n",
    "\n",
    "ks = [401, 574, 874, 919, 459, 739, 653, 902, 746, 832].\n",
    "\n",
    "Найдите ковариацию этих двух величин с помощью элементарных действий, а затем с помощью функции cov из numpy\n",
    "\n",
    "Полученные значения должны быть равны.\n",
    "\n",
    "Найдите коэффициент корреляции Пирсона с помощью ковариации и среднеквадратичных отклонений двух признаков,\n",
    "а затем с использованием функций из библиотек numpy и pandas."
   ]
  },
  {
   "cell_type": "code",
   "execution_count": 16,
   "metadata": {},
   "outputs": [
    {
     "name": "stdout",
     "output_type": "stream",
     "text": [
      "9157.84\n",
      "0.8874900920739162\n",
      "[[1.         0.88749009]\n",
      " [0.88749009 1.        ]]\n"
     ]
    }
   ],
   "source": [
    "zp = np.array([35, 45, 190, 200, 40, 70, 54, 150, 120, 110])\n",
    "ks = np.array([401, 574, 874, 919, 459, 739, 653, 902, 746, 832])\n",
    "\n",
    "MZP = zp.mean()\n",
    "MKS = ks.mean()\n",
    "mean_list = []\n",
    "for z, k in zip(zp, ks):\n",
    "    mean_list.append((z-MZP)*(k-MKS))\n",
    "cov = sum(mean_list) / len(mean_list)\n",
    "print(cov)\n",
    "\n",
    "pear = cov / (zp.std() * ks.std())\n",
    "print(pear)\n",
    "print(np.corrcoef(zp, ks))"
   ]
  },
  {
   "cell_type": "markdown",
   "metadata": {},
   "source": [
    "№2 Измерены значения IQ выборки студентов,\n",
    "обучающихся в местных технических вузах:\n",
    "\n",
    "131, 125, 115, 122, 131, 115, 107, 99, 125, 111.\n",
    "\n",
    "Известно, что в генеральной совокупности IQ распределен нормально.\n",
    "\n",
    "Найдите доверительный интервал для математического ожидания с надежностью 0.95."
   ]
  },
  {
   "cell_type": "code",
   "execution_count": 27,
   "metadata": {},
   "outputs": [],
   "source": [
    "from scipy import stats\n",
    "%matplotlib inline"
   ]
  },
  {
   "cell_type": "code",
   "execution_count": 19,
   "metadata": {},
   "outputs": [
    {
     "name": "stdout",
     "output_type": "stream",
     "text": [
      "(110.55608365158724, 125.64391634841274)\n"
     ]
    }
   ],
   "source": [
    "IQ = np.array([131, 125, 115, 122, 131, 115, 107, 99, 125, 111])\n",
    "conf_int = stats.t.interval(0.95, len(IQ)-1, IQ.mean(), stats.sem(IQ))\n",
    "print(conf_int)"
   ]
  },
  {
   "cell_type": "code",
   "execution_count": 44,
   "metadata": {},
   "outputs": [
    {
     "data": {
      "image/png": "[encoded data removed]",
      "text/plain": [
       "<Figure size 432x288 with 1 Axes>"
      ]
     },
     "metadata": {
      "needs_background": "light"
     },
     "output_type": "display_data"
    }
   ],
   "source": [
    "from scipy.stats import t\n",
    "import matplotlib.pyplot as plt\n",
    "fig, ax = plt.subplots(1, 1)"
   ]
  },
  {
   "cell_type": "code",
   "execution_count": 45,
   "metadata": {},
   "outputs": [],
   "source": [
    "df = 30\n",
    "mean, var, skew, kurt = t.stats(df, moments='mvsk')"
   ]
  },
  {
   "cell_type": "code",
   "execution_count": 46,
   "metadata": {},
   "outputs": [
    {
     "data": {
      "image/png": "[encoded data removed]",
      "text/plain": [
       "<Figure size 432x288 with 1 Axes>"
      ]
     },
     "execution_count": 46,
     "metadata": {},
     "output_type": "execute_result"
    }
   ],
   "source": [
    "x = np.linspace(t.ppf(0.01, df),\n",
    "                t.ppf(0.99, df), 100)\n",
    "ax.plot(x, t.pdf(x, df),\n",
    "       'r-', lw=5, alpha=0.6, label='t pdf')\n",
    "fig"
   ]
  },
  {
   "cell_type": "code",
   "execution_count": 47,
   "metadata": {},
   "outputs": [
    {
     "data": {
      "image/png": "[encoded data removed]",
      "text/plain": [
       "<Figure size 432x288 with 1 Axes>"
      ]
     },
     "execution_count": 47,
     "metadata": {},
     "output_type": "execute_result"
    }
   ],
   "source": [
    "rv = t(df)\n",
    "ax.plot(x, rv.pdf(x), 'k-', lw=2, label='frozen pdf')\n",
    "fig"
   ]
  },
  {
   "cell_type": "code",
   "execution_count": 48,
   "metadata": {},
   "outputs": [
    {
     "data": {
      "text/plain": [
       "True"
      ]
     },
     "execution_count": 48,
     "metadata": {},
     "output_type": "execute_result"
    }
   ],
   "source": [
    "vals = t.ppf([0.001, 0.5, 0.999], df)\n",
    "np.allclose([0.001, 0.5, 0.999], t.cdf(vals, df))"
   ]
  },
  {
   "cell_type": "code",
   "execution_count": 49,
   "metadata": {},
   "outputs": [
    {
     "data": {
      "text/plain": [
       "array([-3.38518487e+00,  6.69352730e-17,  3.38518487e+00])"
      ]
     },
     "execution_count": 49,
     "metadata": {},
     "output_type": "execute_result"
    }
   ],
   "source": [
    "vals"
   ]
  },
  {
   "cell_type": "code",
   "execution_count": 50,
   "metadata": {},
   "outputs": [
    {
     "data": {
      "text/plain": [
       "array([0.001, 0.5  , 0.999])"
      ]
     },
     "execution_count": 50,
     "metadata": {},
     "output_type": "execute_result"
    }
   ],
   "source": [
    "t.cdf(vals,df)"
   ]
  },
  {
   "cell_type": "code",
   "execution_count": 56,
   "metadata": {},
   "outputs": [],
   "source": [
    "r = t.rvs(df, size=1000)"
   ]
  },
  {
   "cell_type": "code",
   "execution_count": 54,
   "metadata": {},
   "outputs": [
    {
     "data": {
      "image/png": "[encoded data removed]",
      "text/plain": [
       "<Figure size 432x288 with 1 Axes>"
      ]
     },
     "execution_count": 54,
     "metadata": {},
     "output_type": "execute_result"
    }
   ],
   "source": [
    "ax.hist(r, density=True, bins='auto', histtype='stepfilled', alpha=0.2)\n",
    "ax.set_xlim([x[0], x[-1]])\n",
    "ax.legend(loc='best', frameon=False)\n",
    "fig"
   ]
  },
  {
   "cell_type": "markdown",
   "metadata": {},
   "source": [
    "№3 Известно, что рост футболистов в сборной распределен нормально\n",
    "с дисперсией генеральной совокупности, равной 25 кв.см. Объем выборки равен 27,\n",
    "среднее выборочное составляет 174.2. Найдите доверительный интервал для математического\n",
    "ожидания с надежностью 0.95."
   ]
  },
  {
   "cell_type": "code",
   "execution_count": 63,
   "metadata": {},
   "outputs": [
    {
     "name": "stdout",
     "output_type": "stream",
     "text": [
      "(163.94084741759858, 184.4591525824014)\n"
     ]
    }
   ],
   "source": [
    "norm_intervals = stats.t.interval(0.95, 27, loc=174.2, scale=5)\n",
    "print(norm_intervals)"
   ]
  },
  {
   "cell_type": "markdown",
   "metadata": {},
   "source": [
    "№4 Выберите тему для проектной работы по курсу Теории вероятностей и математической статистики\n",
    "и напишите ее в комментарии к Практическому заданию."
   ]
  },
  {
   "cell_type": "code",
   "execution_count": null,
   "metadata": {},
   "outputs": [],
   "source": []
  }
 ],
 "metadata": {
  "colab": {
   "provenance": []
  },
  "kernelspec": {
   "display_name": "Python 3",
   "language": "python",
   "name": "python3"
  },
  "language_info": {
   "codemirror_mode": {
    "name": "ipython",
    "version": 3
   },
   "file_extension": ".py",
   "mimetype": "text/x-python",
   "name": "python",
   "nbconvert_exporter": "python",
   "pygments_lexer": "ipython3",
   "version": "3.7.4"
  }
 },
 "nbformat": 4,
 "nbformat_minor": 1
}
