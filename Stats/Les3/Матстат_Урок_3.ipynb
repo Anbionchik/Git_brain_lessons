{
 "cells": [
  {
   "cell_type": "markdown",
   "metadata": {
    "id": "snzQ6I-GNKuz"
   },
   "source": [
    "## Урок 3"
   ]
  },
  {
   "cell_type": "markdown",
   "metadata": {
    "id": "AbhQJaRUNKu7"
   },
   "source": [
    "### Описательная статистика. Качественные и количественные характеристики популяции. \n",
    "\n",
    "### Графическое представление данных"
   ]
  },
  {
   "cell_type": "markdown",
   "metadata": {
    "id": "eoIjKvLSNKu-"
   },
   "source": [
    "[Текст ссылки](https://)Рассмотрим описательные статистические характеристики на примере датасета с данными по хоккеистам.\n",
    "\n",
    "Воспользуемся данными, приведенными в статье \n",
    "<a href='https://habr.com/post/301340/'>«Рост хоккеистов: анализируем данные всех чемпионатов мира в текущем веке»</a>.\n",
    "\n",
    "Импортируем библиотеки и загрузим данные:"
   ]
  },
  {
   "cell_type": "code",
   "execution_count": 2,
   "metadata": {
    "id": "MPDgZjuQNKvB"
   },
   "outputs": [],
   "source": [
    "import numpy as np\n",
    "import pandas as pd\n",
    "import matplotlib.pyplot as plt\n",
    "import warnings\n",
    "warnings.filterwarnings('ignore')"
   ]
  },
  {
   "cell_type": "code",
   "execution_count": 3,
   "metadata": {
    "colab": {
     "base_uri": "https://localhost:8080/",
     "height": 306
    },
    "id": "MM9S4bbbNKvO",
    "outputId": "38512f4b-76de-46db-b0a4-de3e5bc5c085"
   },
   "outputs": [],
   "source": [
    "df = pd.read_csv('hockey_players.csv', encoding='cp1251', parse_dates=['birth'])"
   ]
  },
  {
   "cell_type": "markdown",
   "metadata": {
    "collapsed": true,
    "id": "pIK_WLKxNKvU"
   },
   "source": [
    "Удалим дубликаты:"
   ]
  },
  {
   "cell_type": "code",
   "execution_count": 4,
   "metadata": {
    "id": "z6-tGI8sNKvX"
   },
   "outputs": [],
   "source": [
    "df = df.drop_duplicates(['name', 'birth'])"
   ]
  },
  {
   "cell_type": "markdown",
   "metadata": {
    "collapsed": true,
    "id": "XHQWUbRsNKvh"
   },
   "source": [
    "Данный датасет мог бы считаться **генеральной совокупностью**, если бы он содержал данные обо всех хоккеистах, \n",
    "\n",
    "соответствующих определенным характеристикам."
   ]
  },
  {
   "cell_type": "markdown",
   "metadata": {
    "id": "rnJWY6-KNKvj"
   },
   "source": [
    "Если мы выберем случайным образом определенное количество примеров (наблюдений), такое множество можно называть выборкой.\n",
    "\n",
    "**Выборка** — это случайным образом выбранная часть генеральной совокупности."
   ]
  },
  {
   "cell_type": "markdown",
   "metadata": {
    "id": "4rM_9Cz_NKvm"
   },
   "source": [
    "Одно из основных понятий в теории вероятностей — **математическое ожидание**. Обозначается как $M(X)$ (в статистике принято обозначение $\\mu$).\n",
    "\n",
    "Математическое ожидание — среднее значение случайной величины (распределение вероятностей стационарной случайной величины) при стремлении количества выборок или количества измерений (иногда говорят — количества испытаний) к бесконечности."
   ]
  },
  {
   "cell_type": "markdown",
   "metadata": {
    "id": "GsitNS2_NKvp"
   },
   "source": [
    "Среднее арифметическое одномерной случайной величины конечного числа испытаний обычно называют оценкой математического ожидания. При стремлении числа испытаний стационарного случайного процесса к бесконечности оценка математического ожидания стремится к математическому ожиданию."
   ]
  },
  {
   "cell_type": "markdown",
   "metadata": {
    "id": "v9b2wxzGNKvu"
   },
   "source": [
    "# Найдем среднее значение роста хоккеистов из датасета по формуле:"
   ]
  },
  {
   "cell_type": "markdown",
   "metadata": {
    "id": "xvSB9hufNKvw"
   },
   "source": [
    "$$M(X) = \\frac{1}{n} \\sum\\limits_{i=1}^{n} x_i$$"
   ]
  },
  {
   "cell_type": "markdown",
   "metadata": {
    "id": "MJ0J2HMTNKvy"
   },
   "source": [
    "где $x$ — рост, $n$ — количество наблюдений."
   ]
  },
  {
   "cell_type": "code",
   "execution_count": 5,
   "metadata": {
    "id": "8yLDxwZINKv0"
   },
   "outputs": [
    {
     "data": {
      "text/plain": [
       "183.829386763813"
      ]
     },
     "execution_count": 5,
     "metadata": {},
     "output_type": "execute_result"
    }
   ],
   "source": [
    "mean_height = df['height'].sum() / df['height'].count()\n",
    "mean_height"
   ]
  },
  {
   "cell_type": "markdown",
   "metadata": {
    "id": "apehcU5jNKwF"
   },
   "source": [
    "Найдем эту же величину с помощью метода **mean**:"
   ]
  },
  {
   "cell_type": "code",
   "execution_count": 6,
   "metadata": {
    "id": "4tPnNQLtNKwJ"
   },
   "outputs": [
    {
     "data": {
      "text/plain": [
       "183.829386763813"
      ]
     },
     "execution_count": 6,
     "metadata": {},
     "output_type": "execute_result"
    }
   ],
   "source": [
    "df['height'].mean()"
   ]
  },
  {
   "cell_type": "markdown",
   "metadata": {
    "id": "3gX4sPrGNKwU"
   },
   "source": [
    "Полученные значения равны (отличается только количество знаков после запятой). Такая оценка математического ожидания называется несмещенной.\n",
    "\n",
    "Другим важным показателем выборки является **среднее квадратичное отклонение**. Оно показывает, насколько далеко наблюдения могут быть «разбросаны» относительно среднего значения.\n",
    "\n",
    "Вычислить его можно по формуле:"
   ]
  },
  {
   "cell_type": "markdown",
   "metadata": {
    "id": "JwStBGB4NKwX"
   },
   "source": [
    "$$\\sigma = \\sqrt{\\frac{\\sum\\limits_{i=1}^{n} (x_i - \\overline{x})^2}{n}}$$"
   ]
  },
  {
   "cell_type": "markdown",
   "metadata": {
    "id": "fu2lLu41NKwY"
   },
   "source": [
    "Посчитаем среднее квадратичное отклонение роста хоккеистов:"
   ]
  },
  {
   "cell_type": "code",
   "execution_count": 7,
   "metadata": {
    "colab": {
     "base_uri": "https://localhost:8080/",
     "height": 180
    },
    "id": "-iwdVe-hNKwe",
    "outputId": "ef5aad25-15c3-40d6-e380-54691a801620"
   },
   "outputs": [
    {
     "data": {
      "text/plain": [
       "5.46679870562426"
      ]
     },
     "execution_count": 7,
     "metadata": {},
     "output_type": "execute_result"
    }
   ],
   "source": [
    "height_std = np.sqrt(((df['height'] - df['height'].mean())**2).sum() / df['height'].count())\n",
    "height_std"
   ]
  },
  {
   "cell_type": "markdown",
   "metadata": {
    "id": "PcpU5rPFNKwm"
   },
   "source": [
    "Посчитаем еще раз среднее квадратичное отклонение, но уже с помощью метода **std**:"
   ]
  },
  {
   "cell_type": "code",
   "execution_count": 8,
   "metadata": {
    "id": "J3_EM_Uq1OQn"
   },
   "outputs": [],
   "source": [
    "nums = [100, 80, 75, 77, 89, 33, 45, 25, 65, 17, 30, 24, 57, 55, 70, 75, 65, 84, 90, 150]"
   ]
  },
  {
   "cell_type": "code",
   "execution_count": 25,
   "metadata": {
    "colab": {
     "base_uri": "https://localhost:8080/"
    },
    "id": "w7ZQmCs_1U2q",
    "outputId": "e9cabe6c-370f-4ec5-ede3-8fd4a321dcf1"
   },
   "outputs": [],
   "source": [
    "mean = sum(nums) / len(nums)\n",
    "n = len(nums)\n",
    "sum_num = 0\n",
    "for num in nums:\n",
    "    sum_num += (num - mean)**2\n",
    "biased_var = sum_num / n\n",
    "non_biased_var = sum_num / (n-1)\n",
    "biased_std = biased_var**0.5\n",
    "non_biased_std = non_biased_var**0.5"
   ]
  },
  {
   "cell_type": "code",
   "execution_count": 26,
   "metadata": {},
   "outputs": [
    {
     "name": "stdout",
     "output_type": "stream",
     "text": [
      "65.3\n",
      "950.11\n",
      "1000.1157894736842\n",
      "30.823854398825596\n",
      "31.624607341019814\n"
     ]
    }
   ],
   "source": [
    "print(mean)\n",
    "print(biased_var)\n",
    "print(non_biased_var)\n",
    "print(biased_std)\n",
    "print(non_biased_std)"
   ]
  },
  {
   "cell_type": "code",
   "execution_count": 11,
   "metadata": {
    "colab": {
     "base_uri": "https://localhost:8080/"
    },
    "id": "TFwR48vn48og",
    "outputId": "b816228c-c554-4002-b048-368f3d56d77c"
   },
   "outputs": [
    {
     "data": {
      "text/plain": [
       "0    1000.115789\n",
       "dtype: float64"
      ]
     },
     "execution_count": 11,
     "metadata": {},
     "output_type": "execute_result"
    }
   ],
   "source": [
    "nums_df = pd.DataFrame(nums)\n",
    "nums_df.var(ddof=1)"
   ]
  },
  {
   "cell_type": "code",
   "execution_count": 12,
   "metadata": {
    "colab": {
     "base_uri": "https://localhost:8080/",
     "height": 171
    },
    "id": "3FvEacT6NKwo",
    "outputId": "809eb516-4330-4103-b255-1429af6d981a"
   },
   "outputs": [
    {
     "name": "stdout",
     "output_type": "stream",
     "text": [
      "29.88588808781527\n",
      "29.885888087815268\n"
     ]
    }
   ],
   "source": [
    "print(df['height'].std(ddof=0)**2)\n",
    "print(df['height'].var(ddof=0))"
   ]
  },
  {
   "cell_type": "markdown",
   "metadata": {
    "id": "yzTtgYY0NKwz"
   },
   "source": [
    "**Дисперсия** равна среднему квадратичному отклонению, возведенному в квадрат:"
   ]
  },
  {
   "cell_type": "markdown",
   "metadata": {
    "id": "ymzeeF4QNKw1"
   },
   "source": [
    "$$\\sigma^2 = \\frac{\\sum\\limits_{i=1}^{n} (x_i - \\overline{x})^2}{n}$$"
   ]
  },
  {
   "cell_type": "markdown",
   "metadata": {
    "id": "XTwVZI76NKw3"
   },
   "source": [
    "Посчитаем дисперсию роста хоккеистов:"
   ]
  },
  {
   "cell_type": "code",
   "execution_count": 13,
   "metadata": {
    "id": "jNZh3cbjNKw6"
   },
   "outputs": [
    {
     "data": {
      "text/plain": [
       "29.885888087815086"
      ]
     },
     "execution_count": 13,
     "metadata": {},
     "output_type": "execute_result"
    }
   ],
   "source": [
    "height_variance = ((df['height'] - df['height'].mean())**2).sum() / df['height'].count()\n",
    "height_variance"
   ]
  },
  {
   "cell_type": "markdown",
   "metadata": {
    "id": "fCHu_z21NKxG"
   },
   "source": [
    "Такая оценка дисперсии является **смещенной**. Следующая формула показывает, как вычисляется **несмещенная оценка дисперсии**:"
   ]
  },
  {
   "cell_type": "markdown",
   "metadata": {
    "id": "yeHRCSngNKxH"
   },
   "source": [
    "$$\\sigma^2_{несмещ.} = \\frac{\\sum\\limits_{i=1}^{n} (x_i - \\overline{x})^2}{n - 1}$$"
   ]
  },
  {
   "cell_type": "markdown",
   "metadata": {
    "id": "QTIjmFNyNKxM"
   },
   "source": [
    "Отличие несмещенной оценки дисперсии от смещенной в том, что мы делим сумму квадратов разностей всех величин со средним значением не на $n$, а на $n - 1$.\n",
    "\n",
    "Рассчитаем несмещенную дисперсию роста хоккеистов:"
   ]
  },
  {
   "cell_type": "code",
   "execution_count": 14,
   "metadata": {
    "id": "WyB-XRAeNKxQ"
   },
   "outputs": [
    {
     "data": {
      "text/plain": [
       "29.894963668771"
      ]
     },
     "execution_count": 14,
     "metadata": {},
     "output_type": "execute_result"
    }
   ],
   "source": [
    "height_variance2 = ((df['height'] - df['height'].mean())**2).sum() / (df['height'].count() - 1)\n",
    "height_variance2"
   ]
  },
  {
   "cell_type": "markdown",
   "metadata": {
    "id": "cscW2xopNKxi"
   },
   "source": [
    "С помощью метода **var** можно посчитать смещенную оценку дисперсии:"
   ]
  },
  {
   "cell_type": "code",
   "execution_count": 15,
   "metadata": {
    "id": "RdNP_457NKxk"
   },
   "outputs": [
    {
     "data": {
      "text/plain": [
       "29.885888087815268"
      ]
     },
     "execution_count": 15,
     "metadata": {},
     "output_type": "execute_result"
    }
   ],
   "source": [
    "df['height'].var(ddof=0)"
   ]
  },
  {
   "cell_type": "markdown",
   "metadata": {
    "id": "TJ_GG2LDNKx0"
   },
   "source": [
    "Несмещенная считается аналогично:"
   ]
  },
  {
   "cell_type": "code",
   "execution_count": 16,
   "metadata": {
    "id": "oLdDIWUaNKx2"
   },
   "outputs": [
    {
     "data": {
      "text/plain": [
       "29.89496366877118"
      ]
     },
     "execution_count": 16,
     "metadata": {},
     "output_type": "execute_result"
    }
   ],
   "source": [
    "df['height'].var(ddof=1)"
   ]
  },
  {
   "cell_type": "markdown",
   "metadata": {
    "id": "HGAvSJ_mNKx-"
   },
   "source": [
    "Аргумент **ddof** (Delta Degrees of Freedom) показывает, какую величину нужно отнять от числа наблюдений $n$, которое находится в формуле дисперсии в делителе."
   ]
  },
  {
   "cell_type": "markdown",
   "metadata": {
    "id": "NYuwpwm7NKx_"
   },
   "source": [
    "**Мода** — наиболее часто встречающееся в выборке значение. Для дискретных распределений модой считают любое значение $a_i$, вероятность которого $p_i$ больше, чем вероятности соседних значений.\n",
    "\n",
    "Если в выборке есть два и более значений, встречающихся с одинаковой (максимальной) вероятностью, то есть выборка имеет две и более мод, то ее называют **мультимодальной**.\n",
    "\n",
    "Модой абсолютно непрерывного распределения называют любую точку локального максимума плотности распределения."
   ]
  },
  {
   "cell_type": "markdown",
   "metadata": {
    "id": "4H1MmQ8sNKyD"
   },
   "source": [
    "**Медиана** — значение, которое делит выборку на две части так, что значения, которые меньше медианы, составляют половину (50 %) выборки. То есть половина значений выборки больше медианы, половина — не больше."
   ]
  },
  {
   "cell_type": "markdown",
   "metadata": {
    "id": "B228LLFLNKyG"
   },
   "source": [
    "**Первый квартиль** — значение, которое не превышают 25 % наблюдений в выборке."
   ]
  },
  {
   "cell_type": "markdown",
   "metadata": {
    "id": "UARYcGAwNKyH"
   },
   "source": [
    "**Второй квартиль** — синоним медианы."
   ]
  },
  {
   "cell_type": "markdown",
   "metadata": {
    "id": "6BUr0mcaNKyJ"
   },
   "source": [
    "**Третий квартиль** — значение, которое не превышают 75 % наблюдений в выборке."
   ]
  },
  {
   "cell_type": "markdown",
   "metadata": {
    "id": "X7bErti9NKyM"
   },
   "source": [
    "**Квантиль** — похожее понятие, только в качестве точки может выступать любая величина от 0 до 100 %.\n",
    "\n",
    "Например, 40 % квантиль — значение, которое не превышают 40 % наблюдений."
   ]
  },
  {
   "cell_type": "markdown",
   "metadata": {
    "id": "arCPKh6VNKyT"
   },
   "source": [
    "**Перцентиль** — частный случай квантиля, в качестве меры берутся целые проценты.\n",
    "\n",
    "Например, 40 % квантиль — то же, что и 40 % перцентиль."
   ]
  },
  {
   "cell_type": "markdown",
   "metadata": {
    "id": "q67sZzakNKyU"
   },
   "source": [
    "**Дециль** — частный случай квантиля, в качестве меры берутся десятки процентов.\n",
    "\n",
    "Например, 70 % квантиль — это также и 7-й дециль."
   ]
  },
  {
   "cell_type": "markdown",
   "metadata": {
    "id": "lhcr7dkjNKyW"
   },
   "source": [
    "**Интерквартильное расстояние** — отрезок, равный разности 3-й и 1-й квартили."
   ]
  },
  {
   "cell_type": "markdown",
   "metadata": {
    "id": "7nzynTPM7Mfd"
   },
   "source": [
    "# Графическое представление данных"
   ]
  },
  {
   "cell_type": "markdown",
   "metadata": {
    "collapsed": true,
    "id": "gR9QSn4MNKya"
   },
   "source": [
    "Чтобы получить представление о распределении роста хоккеистов, построим гистограмму. По умолчанию данные разбиваются на 10 частей (аргумент **bins**). Высота столбиков соответствует количеству наблюдений в бине:"
   ]
  },
  {
   "cell_type": "code",
   "execution_count": 17,
   "metadata": {
    "id": "iZHf2w0UNKyc"
   },
   "outputs": [
    {
     "data": {
      "image/png": "[encoded data removed]",
      "text/plain": [
       "<Figure size 432x288 with 1 Axes>"
      ]
     },
     "metadata": {
      "needs_background": "light"
     },
     "output_type": "display_data"
    }
   ],
   "source": [
    "plt.hist(df['height'], bins = 20)\n",
    "plt.show()"
   ]
  },
  {
   "cell_type": "markdown",
   "metadata": {
    "collapsed": true,
    "id": "KwJ_RM31NKyo"
   },
   "source": [
    "Построим гистограмму еще раз, указав в качестве аргумента **bins** число 20, чтобы получить более детальную картину:"
   ]
  },
  {
   "cell_type": "code",
   "execution_count": 18,
   "metadata": {
    "id": "kExdMvVdNKyp"
   },
   "outputs": [
    {
     "data": {
      "image/png": "[encoded data removed]",
      "text/plain": [
       "<Figure size 432x288 with 1 Axes>"
      ]
     },
     "metadata": {
      "needs_background": "light"
     },
     "output_type": "display_data"
    }
   ],
   "source": [
    "plt.hist(df['height'], bins = 20)\n",
    "plt.show()"
   ]
  },
  {
   "cell_type": "markdown",
   "metadata": {
    "collapsed": true,
    "id": "2P5DpOZTNKyw"
   },
   "source": [
    "Другой способ графически представить данные — построить диаграмму **boxplot**. Для этого импортируем библиотеку **seaborn**:"
   ]
  },
  {
   "cell_type": "code",
   "execution_count": 19,
   "metadata": {
    "id": "7xl_WqYGNKy0"
   },
   "outputs": [],
   "source": [
    "import seaborn as sns"
   ]
  },
  {
   "cell_type": "code",
   "execution_count": 20,
   "metadata": {
    "id": "K8Xx4JX-NKy6"
   },
   "outputs": [
    {
     "data": {
      "image/png": "[encoded data removed]",
      "text/plain": [
       "<Figure size 432x288 with 1 Axes>"
      ]
     },
     "metadata": {
      "needs_background": "light"
     },
     "output_type": "display_data"
    }
   ],
   "source": [
    "sns.boxplot(df['height'], orient='v')\n",
    "plt.show()"
   ]
  },
  {
   "cell_type": "markdown",
   "metadata": {
    "collapsed": true,
    "id": "rr6BpnOFNKzB"
   },
   "source": [
    "На данном графике показатели роста располагаются по вертикали. Черта в середине прямоугольника обозначает медиану, его нижняя сторона — 1-й квартиль, а верхняя — 3-й квартиль."
   ]
  },
  {
   "cell_type": "markdown",
   "metadata": {
    "collapsed": true,
    "id": "NRDf8FSYNKzH"
   },
   "source": [
    "От прямоугольника вверх и вниз отходят «усики». Черта на конце нижнего усика отстоит от 1-го квартиля на 1.5 интерквартильных расстояния, а на конце верхнего — на 1.5 интерквартильных расстояния от 3-го квартиля."
   ]
  },
  {
   "cell_type": "markdown",
   "metadata": {
    "collapsed": true,
    "id": "n1ZeOMTfNKzJ"
   },
   "source": [
    "Точки, находящиеся за их пределами, обозначают выбросы в данных — нетипичные наблюдения, которые могут быть и ошибками."
   ]
  },
  {
   "cell_type": "markdown",
   "metadata": {},
   "source": [
    "# ДЗ"
   ]
  },
  {
   "cell_type": "code",
   "execution_count": 28,
   "metadata": {},
   "outputs": [
    {
     "name": "stdout",
     "output_type": "stream",
     "text": [
      "Среднее арифметическое = 65.3\n",
      "Дисперсия без смещения = 950.11\n",
      "Диссперсия со смещением = 1000.1158\n",
      "Ст. откл. без смещения = 30.8239\n",
      "Ст. откл. со смещением31.6246\n"
     ]
    }
   ],
   "source": [
    "# №1 Даны значения зарплат из выборки \n",
    "# выпускников: 100, 80, 75, 77, 89, 33, 45, 25, 65, 17, 30, 24, 57, 55, 70, 75, 65, 84, 90, 150. \n",
    "# Посчитать (желательно без использования статистических методов наподобие std, var, mean) \n",
    "# среднее арифметическое, среднее квадратичное отклонение, смещенную и несмещенную оценки дисперсий для данной выборки.\n",
    "nums = [100, 80, 75, 77, 89, 33, 45, 25, 65, 17, 30, 24, 57, 55, 70, 75, 65, 84, 90, 150]\n",
    "\n",
    "mean = sum(nums) / len(nums)\n",
    "n = len(nums)\n",
    "sum_num = 0\n",
    "for num in nums:\n",
    "    sum_num += (num - mean)**2\n",
    "biased_var = sum_num / n\n",
    "non_biased_var = sum_num / (n-1)\n",
    "biased_std = biased_var**0.5\n",
    "non_biased_std = non_biased_var**0.5\n",
    "\n",
    "print(f'Среднее арифметическое = {round(mean,4)}')\n",
    "print(f'Дисперсия без смещения = {round(biased_var,4)}')\n",
    "print(f'Диссперсия со смещением = {round(non_biased_var,4)}')\n",
    "print(f'Ст. откл. без смещения = {round(biased_std,4)}')\n",
    "print(f'Ст. откл. со смещением{round(non_biased_std,4)}')"
   ]
  },
  {
   "cell_type": "code",
   "execution_count": 33,
   "metadata": {},
   "outputs": [],
   "source": [
    "from math import factorial\n",
    "def cmb(k, n):\n",
    "    return int(factorial(n) / (factorial(k) * factorial(n - k)))"
   ]
  },
  {
   "cell_type": "code",
   "execution_count": 34,
   "metadata": {},
   "outputs": [
    {
     "name": "stdout",
     "output_type": "stream",
     "text": [
      "0.3687\n"
     ]
    }
   ],
   "source": [
    "# №2 В первом ящике находится 8 мячей, из которых 5 - белые. \n",
    "# Во втором ящике - 12 мячей, из которых 5 белых. \n",
    "# Из первого ящика вытаскивают случайным образом два мяча, \n",
    "# из второго - 4. Какова вероятность того, что 3 мяча белые?\n",
    "P = cmb(2,5)/cmb(2,8) * cmb(1,5)*cmb(3,7)/cmb(4,12) + \\\n",
    "cmb(1,5)*cmb(1,3)/cmb(2,8) * cmb(2,5)*cmb(2,7)/cmb(4,12) + \\\n",
    "cmb(2,3)/cmb(2,8) * cmb(3,5)*cmb(1,7)/cmb(4,12)\n",
    "print(round(P,4))"
   ]
  }
 ],
 "metadata": {
  "colab": {
   "provenance": []
  },
  "kernelspec": {
   "display_name": "Python 3",
   "language": "python",
   "name": "python3"
  },
  "language_info": {
   "codemirror_mode": {
    "name": "ipython",
    "version": 3
   },
   "file_extension": ".py",
   "mimetype": "text/x-python",
   "name": "python",
   "nbconvert_exporter": "python",
   "pygments_lexer": "ipython3",
   "version": "3.7.4"
  }
 },
 "nbformat": 4,
 "nbformat_minor": 1
}
