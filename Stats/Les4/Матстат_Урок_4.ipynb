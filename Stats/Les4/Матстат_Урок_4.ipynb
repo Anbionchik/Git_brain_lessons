{
 "cells": [
  {
   "cell_type": "markdown",
   "metadata": {
    "id": "BtMkTMxui6Ut"
   },
   "source": [
    "## Урок 4"
   ]
  },
  {
   "cell_type": "markdown",
   "metadata": {
    "id": "C8EP-7Wui6Ux"
   },
   "source": [
    "### Непрерывные случайные величины. \n",
    "\n",
    "### Функция распределения и плотность распределения вероятностей. \n",
    "\n",
    "### Равномерное и нормальное распределение. Центральная предельная теорема"
   ]
  },
  {
   "cell_type": "markdown",
   "metadata": {
    "collapsed": true,
    "id": "XvDR0Waai6U0"
   },
   "source": [
    "**Непрерывная случайная величина** может принимать все возможные значения, содержащиеся на промежутке, который может быть как конечным (ограниченным), так и бесконечным."
   ]
  },
  {
   "cell_type": "markdown",
   "metadata": {
    "collapsed": true,
    "id": "XZORR920i6U1"
   },
   "source": [
    "**Функция распределения вероятностей** — это функция $F(x)$, которая для каждого значения $x$ показывает, какова вероятность того, что случайная величина меньше $x$."
   ]
  },
  {
   "cell_type": "markdown",
   "metadata": {
    "collapsed": true,
    "id": "TtpMrj88i6U4"
   },
   "source": [
    "**Плотность распределения вероятностей** — это функция $f(x)$, которая равна производной функции распределения вероятностей:"
   ]
  },
  {
   "cell_type": "markdown",
   "metadata": {
    "collapsed": true,
    "id": "pQAJZJ20i6U6"
   },
   "source": [
    "$$f(x) = F'(x)$$"
   ]
  },
  {
   "cell_type": "markdown",
   "metadata": {
    "collapsed": true,
    "id": "CSl1_uN-i6U7"
   },
   "source": [
    "#### Равномерное распределение"
   ]
  },
  {
   "cell_type": "markdown",
   "metadata": {
    "collapsed": true,
    "id": "3le34dnIi6U_"
   },
   "source": [
    "Распределение вероятностей случайной величины $X$ в зависимости от плотности:"
   ]
  },
  {
   "cell_type": "markdown",
   "metadata": {
    "id": "yumUBW2Oi6VB"
   },
   "source": [
    "$$f(x) = \\begin{cases} 0, если \\; x \\le a; \\\\ \\frac{1}{b - a}, если \\; a < x \\le b; \\\\ 0, \\; если \\; x > b. \\end{cases}$$"
   ]
  },
  {
   "cell_type": "markdown",
   "metadata": {
    "id": "33P919A0i6VG"
   },
   "source": [
    "Математическое ожидание $M(X)$ равномерно распределенной непрерывной случайной величины можно вычислить по формуле:"
   ]
  },
  {
   "cell_type": "markdown",
   "metadata": {
    "id": "RAd-f2e-i6VH"
   },
   "source": [
    "$$M(X) = \\frac{a + b}{2}$$"
   ]
  },
  {
   "cell_type": "markdown",
   "metadata": {
    "id": "Fhn0ToAfi6VJ"
   },
   "source": [
    "По следующей формуле можно рассчитать дисперсию $D(X)$:"
   ]
  },
  {
   "cell_type": "markdown",
   "metadata": {
    "id": "zbBdqRj0i6VL"
   },
   "source": [
    "\n",
    "$$D(X) = \\frac{(b - a)^2}{12}$$"
   ]
  },
  {
   "cell_type": "markdown",
   "metadata": {
    "id": "LAg5Zitzi6VN"
   },
   "source": [
    "Посмотрим на график плотности равномерного распределения:"
   ]
  },
  {
   "cell_type": "markdown",
   "metadata": {
    "id": "fnLAGtKNi6VP"
   },
   "source": [
    "<img src='https://ru.files.fm/thumb_show.php?i=4whssuky&view' width=500>Рис. 1 График плотности равномерного распределения</img>"
   ]
  },
  {
   "cell_type": "markdown",
   "metadata": {
    "id": "cnqnQDKVi6VR"
   },
   "source": [
    "График функции равномерного распределения:"
   ]
  },
  {
   "cell_type": "markdown",
   "metadata": {
    "id": "oyQNoEwCi6VT"
   },
   "source": [
    "<img src='https://ru.files.fm/thumb_show.php?i=fwy7dghu&view' width=500>Рис. 2 График функции равномерного распределения</img>"
   ]
  },
  {
   "cell_type": "markdown",
   "metadata": {
    "id": "KPY3CoKRi6VV"
   },
   "source": [
    "#### Нормальное распределение"
   ]
  },
  {
   "cell_type": "markdown",
   "metadata": {
    "id": "jbWKmxOBi6VX"
   },
   "source": [
    "Нормальное распределение — это распределение вероятностей непрерывной случайной величины $X$, плотность вероятности которой подчиняется формуле:"
   ]
  },
  {
   "cell_type": "markdown",
   "metadata": {
    "id": "lqTqlCDai6VZ"
   },
   "source": [
    "$$f(x) = \\frac{1}{\\sigma \\sqrt{2 \\pi}} e ^ {- \\frac{(x - a)^2}{2 \\sigma^2}},$$\n",
    "\n",
    "---\n",
    "\n"
   ]
  },
  {
   "cell_type": "markdown",
   "metadata": {
    "id": "gHiRniuYi6Vb"
   },
   "source": [
    "где $a = M(X), \\; \\sigma^2 = D(X).$"
   ]
  },
  {
   "cell_type": "markdown",
   "metadata": {
    "id": "1q-XrpWpi6Vd"
   },
   "source": [
    "График плотности нормального распределения имеет колоколообразную форму:"
   ]
  },
  {
   "cell_type": "markdown",
   "metadata": {
    "id": "HDlsBYJ5i6Vg"
   },
   "source": [
    "<img src='https://ru.files.fm/thumb_show.php?i=wmq8yuhw&view' width=500> </img> Рис 3. График плотности нормального распределения"
   ]
  },
  {
   "cell_type": "markdown",
   "metadata": {
    "id": "BJM8r1DSi6Vm"
   },
   "source": [
    "Примеры нормально распределенных величин: рост и вес людей, скорость движение молекул в газах и жидкостях, показатели IQ."
   ]
  },
  {
   "cell_type": "markdown",
   "metadata": {
    "id": "nMIonO2Si6Vu"
   },
   "source": [
    "Одно из свойств нормального распределения: среднее значение, медиана и мода совпадают."
   ]
  },
  {
   "cell_type": "markdown",
   "metadata": {
    "id": "r5RucWyGi6Vx"
   },
   "source": [
    "На отрезке от $-\\sigma$ до $+\\sigma$ расположено около 68 % наблюдений, \n",
    "\n",
    "от $-2\\sigma$ до $+2\\sigma$ — 95.4 %,\n",
    "\n",
    "и от $-3\\sigma$ до $+3\\sigma$ — 99.72 %."
   ]
  },
  {
   "cell_type": "markdown",
   "metadata": {
    "id": "2hgQxgpYi6Vy"
   },
   "source": [
    "**Пример 1**"
   ]
  },
  {
   "cell_type": "markdown",
   "metadata": {
    "id": "HTxyDrh0i6V0"
   },
   "source": [
    "Расмотрим конкретный пример данных, распределенных нормально, — из статьи\n",
    "<a href='https://habr.com/post/301340/'>«Рост хоккеистов: анализируем данные всех чемпионатов мира в текущем веке»</a>."
   ]
  },
  {
   "cell_type": "code",
   "execution_count": 1,
   "metadata": {
    "id": "-UQ9luH2i6V2"
   },
   "outputs": [],
   "source": [
    "import pandas as pd\n",
    "import numpy as np"
   ]
  },
  {
   "cell_type": "code",
   "execution_count": 34,
   "metadata": {},
   "outputs": [],
   "source": [
    "import warnings\n",
    "warnings.filterwarnings('ignore')"
   ]
  },
  {
   "cell_type": "code",
   "execution_count": 2,
   "metadata": {
    "colab": {
     "base_uri": "https://localhost:8080/",
     "height": 307
    },
    "id": "bmsGD4E6i6WB",
    "outputId": "ddae9901-8bee-4551-d301-7ad2aafa55e8"
   },
   "outputs": [],
   "source": [
    "df = pd.read_csv('../Les3/hockey_players.csv', encoding='cp1251', parse_dates=['birth'])"
   ]
  },
  {
   "cell_type": "markdown",
   "metadata": {
    "id": "swgqE8N4i6WI"
   },
   "source": [
    "Просмотрим первые строки датасета:"
   ]
  },
  {
   "cell_type": "code",
   "execution_count": 3,
   "metadata": {
    "colab": {
     "base_uri": "https://localhost:8080/",
     "height": 163
    },
    "id": "nUXZvcjgi6WK",
    "outputId": "780c8ff4-038c-424b-b2aa-aae01fe6b11f"
   },
   "outputs": [
    {
     "data": {
      "text/html": [
       "<div>\n",
       "<style scoped>\n",
       "    .dataframe tbody tr th:only-of-type {\n",
       "        vertical-align: middle;\n",
       "    }\n",
       "\n",
       "    .dataframe tbody tr th {\n",
       "        vertical-align: top;\n",
       "    }\n",
       "\n",
       "    .dataframe thead th {\n",
       "        text-align: right;\n",
       "    }\n",
       "</style>\n",
       "<table border=\"1\" class=\"dataframe\">\n",
       "  <thead>\n",
       "    <tr style=\"text-align: right;\">\n",
       "      <th></th>\n",
       "      <th>year</th>\n",
       "      <th>country</th>\n",
       "      <th>no</th>\n",
       "      <th>name</th>\n",
       "      <th>position</th>\n",
       "      <th>side</th>\n",
       "      <th>height</th>\n",
       "      <th>weight</th>\n",
       "      <th>birth</th>\n",
       "      <th>club</th>\n",
       "      <th>age</th>\n",
       "      <th>cohort</th>\n",
       "      <th>bmi</th>\n",
       "    </tr>\n",
       "  </thead>\n",
       "  <tbody>\n",
       "    <tr>\n",
       "      <th>0</th>\n",
       "      <td>2001</td>\n",
       "      <td>RUS</td>\n",
       "      <td>10</td>\n",
       "      <td>tverdovsky oleg</td>\n",
       "      <td>D</td>\n",
       "      <td>L</td>\n",
       "      <td>185</td>\n",
       "      <td>84.0</td>\n",
       "      <td>1976-05-18</td>\n",
       "      <td>anaheim mighty ducks</td>\n",
       "      <td>24.952772</td>\n",
       "      <td>1976</td>\n",
       "      <td>24.543462</td>\n",
       "    </tr>\n",
       "    <tr>\n",
       "      <th>1</th>\n",
       "      <td>2001</td>\n",
       "      <td>RUS</td>\n",
       "      <td>2</td>\n",
       "      <td>vichnevsky vitali</td>\n",
       "      <td>D</td>\n",
       "      <td>L</td>\n",
       "      <td>188</td>\n",
       "      <td>86.0</td>\n",
       "      <td>1980-03-18</td>\n",
       "      <td>anaheim mighty ducks</td>\n",
       "      <td>21.119781</td>\n",
       "      <td>1980</td>\n",
       "      <td>24.332277</td>\n",
       "    </tr>\n",
       "    <tr>\n",
       "      <th>2</th>\n",
       "      <td>2001</td>\n",
       "      <td>RUS</td>\n",
       "      <td>26</td>\n",
       "      <td>petrochinin evgeni</td>\n",
       "      <td>D</td>\n",
       "      <td>L</td>\n",
       "      <td>182</td>\n",
       "      <td>95.0</td>\n",
       "      <td>1976-02-07</td>\n",
       "      <td>severstal cherepovetal</td>\n",
       "      <td>25.229295</td>\n",
       "      <td>1976</td>\n",
       "      <td>28.680111</td>\n",
       "    </tr>\n",
       "    <tr>\n",
       "      <th>3</th>\n",
       "      <td>2001</td>\n",
       "      <td>RUS</td>\n",
       "      <td>28</td>\n",
       "      <td>zhdan alexander</td>\n",
       "      <td>D</td>\n",
       "      <td>R</td>\n",
       "      <td>178</td>\n",
       "      <td>85.0</td>\n",
       "      <td>1971-08-28</td>\n",
       "      <td>ak bars kazan</td>\n",
       "      <td>29.675565</td>\n",
       "      <td>1971</td>\n",
       "      <td>26.827421</td>\n",
       "    </tr>\n",
       "    <tr>\n",
       "      <th>4</th>\n",
       "      <td>2001</td>\n",
       "      <td>RUS</td>\n",
       "      <td>32</td>\n",
       "      <td>orekhovsky oleg</td>\n",
       "      <td>D</td>\n",
       "      <td>R</td>\n",
       "      <td>175</td>\n",
       "      <td>88.0</td>\n",
       "      <td>1977-11-03</td>\n",
       "      <td>dynamo moscow</td>\n",
       "      <td>23.490760</td>\n",
       "      <td>1977</td>\n",
       "      <td>28.734694</td>\n",
       "    </tr>\n",
       "  </tbody>\n",
       "</table>\n",
       "</div>"
      ],
      "text/plain": [
       "   year country  no                 name position side  height  weight  \\\n",
       "0  2001     RUS  10     tverdovsky oleg         D    L     185    84.0   \n",
       "1  2001     RUS   2   vichnevsky vitali         D    L     188    86.0   \n",
       "2  2001     RUS  26  petrochinin evgeni         D    L     182    95.0   \n",
       "3  2001     RUS  28     zhdan alexander         D    R     178    85.0   \n",
       "4  2001     RUS  32     orekhovsky oleg         D    R     175    88.0   \n",
       "\n",
       "       birth                     club        age  cohort        bmi  \n",
       "0 1976-05-18    anaheim mighty ducks   24.952772    1976  24.543462  \n",
       "1 1980-03-18    anaheim mighty ducks   21.119781    1980  24.332277  \n",
       "2 1976-02-07  severstal cherepovetal   25.229295    1976  28.680111  \n",
       "3 1971-08-28           ak bars kazan   29.675565    1971  26.827421  \n",
       "4 1977-11-03           dynamo moscow   23.490760    1977  28.734694  "
      ]
     },
     "execution_count": 3,
     "metadata": {},
     "output_type": "execute_result"
    }
   ],
   "source": [
    "df.head()"
   ]
  },
  {
   "cell_type": "markdown",
   "metadata": {
    "id": "QEJZ5LTSi6WW"
   },
   "source": [
    "Посмотрим количество строк, полей и информацию о полях в датасете:"
   ]
  },
  {
   "cell_type": "code",
   "execution_count": 4,
   "metadata": {
    "colab": {
     "base_uri": "https://localhost:8080/",
     "height": 232
    },
    "id": "wjgoaSKxi6WY",
    "outputId": "58e4ad38-972d-46d2-e233-300185ff2094"
   },
   "outputs": [
    {
     "data": {
      "text/plain": [
       "(6292, 13)"
      ]
     },
     "execution_count": 4,
     "metadata": {},
     "output_type": "execute_result"
    }
   ],
   "source": [
    "df.shape"
   ]
  },
  {
   "cell_type": "code",
   "execution_count": 5,
   "metadata": {
    "id": "LmZrkjUoi6Wj"
   },
   "outputs": [
    {
     "data": {
      "text/plain": [
       "Index(['year', 'country', 'no', 'name', 'position', 'side', 'height', 'weight',\n",
       "       'birth', 'club', 'age', 'cohort', 'bmi'],\n",
       "      dtype='object')"
      ]
     },
     "execution_count": 5,
     "metadata": {},
     "output_type": "execute_result"
    }
   ],
   "source": [
    "df.columns"
   ]
  },
  {
   "cell_type": "code",
   "execution_count": 6,
   "metadata": {
    "id": "OAiu_WjGi6Wq"
   },
   "outputs": [
    {
     "data": {
      "text/html": [
       "<div>\n",
       "<style scoped>\n",
       "    .dataframe tbody tr th:only-of-type {\n",
       "        vertical-align: middle;\n",
       "    }\n",
       "\n",
       "    .dataframe tbody tr th {\n",
       "        vertical-align: top;\n",
       "    }\n",
       "\n",
       "    .dataframe thead th {\n",
       "        text-align: right;\n",
       "    }\n",
       "</style>\n",
       "<table border=\"1\" class=\"dataframe\">\n",
       "  <thead>\n",
       "    <tr style=\"text-align: right;\">\n",
       "      <th></th>\n",
       "      <th>year</th>\n",
       "      <th>no</th>\n",
       "      <th>height</th>\n",
       "      <th>weight</th>\n",
       "      <th>age</th>\n",
       "      <th>cohort</th>\n",
       "      <th>bmi</th>\n",
       "    </tr>\n",
       "  </thead>\n",
       "  <tbody>\n",
       "    <tr>\n",
       "      <th>count</th>\n",
       "      <td>6292.000000</td>\n",
       "      <td>6292.000000</td>\n",
       "      <td>6292.000000</td>\n",
       "      <td>6292.000000</td>\n",
       "      <td>6292.000000</td>\n",
       "      <td>6292.000000</td>\n",
       "      <td>6292.000000</td>\n",
       "    </tr>\n",
       "    <tr>\n",
       "      <th>mean</th>\n",
       "      <td>2008.556421</td>\n",
       "      <td>29.645105</td>\n",
       "      <td>183.811507</td>\n",
       "      <td>87.621662</td>\n",
       "      <td>27.280556</td>\n",
       "      <td>1981.154800</td>\n",
       "      <td>25.917179</td>\n",
       "    </tr>\n",
       "    <tr>\n",
       "      <th>std</th>\n",
       "      <td>4.593766</td>\n",
       "      <td>23.474342</td>\n",
       "      <td>5.383858</td>\n",
       "      <td>6.963876</td>\n",
       "      <td>4.276149</td>\n",
       "      <td>6.314963</td>\n",
       "      <td>1.478541</td>\n",
       "    </tr>\n",
       "    <tr>\n",
       "      <th>min</th>\n",
       "      <td>2001.000000</td>\n",
       "      <td>1.000000</td>\n",
       "      <td>165.000000</td>\n",
       "      <td>65.000000</td>\n",
       "      <td>17.642710</td>\n",
       "      <td>1963.000000</td>\n",
       "      <td>19.460881</td>\n",
       "    </tr>\n",
       "    <tr>\n",
       "      <th>25%</th>\n",
       "      <td>2005.000000</td>\n",
       "      <td>12.000000</td>\n",
       "      <td>180.000000</td>\n",
       "      <td>83.000000</td>\n",
       "      <td>24.136893</td>\n",
       "      <td>1976.000000</td>\n",
       "      <td>24.967113</td>\n",
       "    </tr>\n",
       "    <tr>\n",
       "      <th>50%</th>\n",
       "      <td>2009.000000</td>\n",
       "      <td>24.000000</td>\n",
       "      <td>183.000000</td>\n",
       "      <td>87.000000</td>\n",
       "      <td>27.013005</td>\n",
       "      <td>1981.000000</td>\n",
       "      <td>25.925926</td>\n",
       "    </tr>\n",
       "    <tr>\n",
       "      <th>75%</th>\n",
       "      <td>2013.000000</td>\n",
       "      <td>39.000000</td>\n",
       "      <td>188.000000</td>\n",
       "      <td>92.000000</td>\n",
       "      <td>30.123888</td>\n",
       "      <td>1986.000000</td>\n",
       "      <td>26.874496</td>\n",
       "    </tr>\n",
       "    <tr>\n",
       "      <th>max</th>\n",
       "      <td>2016.000000</td>\n",
       "      <td>98.000000</td>\n",
       "      <td>205.000000</td>\n",
       "      <td>117.000000</td>\n",
       "      <td>43.206023</td>\n",
       "      <td>1998.000000</td>\n",
       "      <td>30.930438</td>\n",
       "    </tr>\n",
       "  </tbody>\n",
       "</table>\n",
       "</div>"
      ],
      "text/plain": [
       "              year           no       height       weight          age  \\\n",
       "count  6292.000000  6292.000000  6292.000000  6292.000000  6292.000000   \n",
       "mean   2008.556421    29.645105   183.811507    87.621662    27.280556   \n",
       "std       4.593766    23.474342     5.383858     6.963876     4.276149   \n",
       "min    2001.000000     1.000000   165.000000    65.000000    17.642710   \n",
       "25%    2005.000000    12.000000   180.000000    83.000000    24.136893   \n",
       "50%    2009.000000    24.000000   183.000000    87.000000    27.013005   \n",
       "75%    2013.000000    39.000000   188.000000    92.000000    30.123888   \n",
       "max    2016.000000    98.000000   205.000000   117.000000    43.206023   \n",
       "\n",
       "            cohort          bmi  \n",
       "count  6292.000000  6292.000000  \n",
       "mean   1981.154800    25.917179  \n",
       "std       6.314963     1.478541  \n",
       "min    1963.000000    19.460881  \n",
       "25%    1976.000000    24.967113  \n",
       "50%    1981.000000    25.925926  \n",
       "75%    1986.000000    26.874496  \n",
       "max    1998.000000    30.930438  "
      ]
     },
     "execution_count": 6,
     "metadata": {},
     "output_type": "execute_result"
    }
   ],
   "source": [
    "df.describe()"
   ]
  },
  {
   "cell_type": "markdown",
   "metadata": {
    "id": "VRPQmemUi6Wz"
   },
   "source": [
    "Удалим дубликаты:"
   ]
  },
  {
   "cell_type": "code",
   "execution_count": 7,
   "metadata": {
    "id": "Y2uJztvvi6W0"
   },
   "outputs": [],
   "source": [
    "df = df.drop_duplicates(['name', 'birth'])"
   ]
  },
  {
   "cell_type": "code",
   "execution_count": 8,
   "metadata": {
    "id": "pK0C_2tRi6XB"
   },
   "outputs": [
    {
     "data": {
      "text/plain": [
       "(3294, 13)"
      ]
     },
     "execution_count": 8,
     "metadata": {},
     "output_type": "execute_result"
    }
   ],
   "source": [
    "df.shape"
   ]
  },
  {
   "cell_type": "markdown",
   "metadata": {
    "id": "le-taotCi6XN"
   },
   "source": [
    "Построим распределение роста среди хоккеистов:"
   ]
  },
  {
   "cell_type": "code",
   "execution_count": 9,
   "metadata": {
    "id": "O8xmDadti6XO"
   },
   "outputs": [],
   "source": [
    "import matplotlib.pyplot as plt"
   ]
  },
  {
   "cell_type": "code",
   "execution_count": 10,
   "metadata": {
    "colab": {
     "base_uri": "https://localhost:8080/",
     "height": 181
    },
    "id": "Xb7ozyBOi6XV",
    "outputId": "00cb238d-d6d3-4cb8-9c69-44b73cf7849e"
   },
   "outputs": [
    {
     "data": {
      "image/png": "[encoded data removed]",
      "text/plain": [
       "<Figure size 432x288 with 1 Axes>"
      ]
     },
     "metadata": {
      "needs_background": "light"
     },
     "output_type": "display_data"
    }
   ],
   "source": [
    "plt.hist(df['height'], bins=20)\n",
    "plt.show()"
   ]
  },
  {
   "cell_type": "markdown",
   "metadata": {
    "id": "yttA1NUQi6Xp"
   },
   "source": [
    "На гистограмме видим характерное — похожее на колокол — нормальное распределение, так как мы знаем, что рост — одна из величин, которые могут распределяться нормально. Посмотрим отдельно статистики распределения роста хоккеистов."
   ]
  },
  {
   "cell_type": "markdown",
   "metadata": {
    "id": "rFclwRdoi6Xr"
   },
   "source": [
    "Среднее значение:"
   ]
  },
  {
   "cell_type": "code",
   "execution_count": 11,
   "metadata": {
    "id": "X5an2KXyi6Xt"
   },
   "outputs": [
    {
     "data": {
      "text/plain": [
       "183.829386763813"
      ]
     },
     "execution_count": 11,
     "metadata": {},
     "output_type": "execute_result"
    }
   ],
   "source": [
    "df['height'].mean()"
   ]
  },
  {
   "cell_type": "markdown",
   "metadata": {
    "id": "pPismRLIi6X0"
   },
   "source": [
    "Медиана:"
   ]
  },
  {
   "cell_type": "code",
   "execution_count": 12,
   "metadata": {
    "id": "s3HEJ2kdi6X2"
   },
   "outputs": [
    {
     "data": {
      "text/plain": [
       "184.0"
      ]
     },
     "execution_count": 12,
     "metadata": {},
     "output_type": "execute_result"
    }
   ],
   "source": [
    "df['height'].median()"
   ]
  },
  {
   "cell_type": "markdown",
   "metadata": {
    "id": "Crajxm_oi6X-"
   },
   "source": [
    "Мода (специально для этого показателя предварительно округлим значения роста до целых):"
   ]
  },
  {
   "cell_type": "code",
   "execution_count": 13,
   "metadata": {
    "id": "_UhX2_rai6YA"
   },
   "outputs": [
    {
     "data": {
      "text/plain": [
       "0    185\n",
       "1    188\n",
       "2    182\n",
       "3    178\n",
       "4    175\n",
       "5    193\n",
       "6    176\n",
       "7    183\n",
       "8    180\n",
       "9    178\n",
       "Name: height_rounded, dtype: int64"
      ]
     },
     "execution_count": 13,
     "metadata": {},
     "output_type": "execute_result"
    }
   ],
   "source": [
    "df['height_rounded'] = df['height'].apply(round)\n",
    "df['height_rounded'].head(10)"
   ]
  },
  {
   "cell_type": "code",
   "execution_count": 14,
   "metadata": {
    "id": "WcMSgPJyi6YI"
   },
   "outputs": [
    {
     "data": {
      "text/plain": [
       "0    180\n",
       "dtype: int64"
      ]
     },
     "execution_count": 14,
     "metadata": {},
     "output_type": "execute_result"
    }
   ],
   "source": [
    "df['height'].mode()"
   ]
  },
  {
   "cell_type": "markdown",
   "metadata": {
    "id": "EsO96t9ri6YS"
   },
   "source": [
    "Видим, что значения среднего, медианы и моды достаточно близки. При большем количестве наблюдений и хорошем приближении к нормальному распределению эти величины могли бы быть приблизительно равны."
   ]
  },
  {
   "cell_type": "markdown",
   "metadata": {
    "id": "4N2B3zuki6YU"
   },
   "source": [
    "Среднее квадратичное отклонение:"
   ]
  },
  {
   "cell_type": "code",
   "execution_count": 16,
   "metadata": {
    "id": "QMny5o5Ri6YW"
   },
   "outputs": [
    {
     "data": {
      "text/plain": [
       "5.467628706191668"
      ]
     },
     "execution_count": 16,
     "metadata": {},
     "output_type": "execute_result"
    }
   ],
   "source": [
    "df['height'].std()"
   ]
  },
  {
   "cell_type": "markdown",
   "metadata": {
    "id": "bRJeoJJCi6Yg"
   },
   "source": [
    "Дисперсия:"
   ]
  },
  {
   "cell_type": "code",
   "execution_count": 17,
   "metadata": {
    "colab": {
     "base_uri": "https://localhost:8080/",
     "height": 169
    },
    "id": "NAK_pW9Fi6Yk",
    "outputId": "cf50aac1-c9e9-4d6b-ea8d-534ed5a09966"
   },
   "outputs": [
    {
     "data": {
      "text/plain": [
       "29.89496366877118"
      ]
     },
     "execution_count": 17,
     "metadata": {},
     "output_type": "execute_result"
    }
   ],
   "source": [
    "df['height'].var()"
   ]
  },
  {
   "cell_type": "markdown",
   "metadata": {
    "id": "OJQ2MA-7i6Yt"
   },
   "source": [
    "#### Центральная предельная теорема"
   ]
  },
  {
   "cell_type": "markdown",
   "metadata": {
    "id": "uvR_ni38i6Yv"
   },
   "source": [
    "Центральные предельные теоремы — класс теорем в теории вероятностей. Они утверждают, что сумма достаточно большого количества слабо зависимых случайных величин, имеющих примерно одинаковые масштабы (ни одно из слагаемых не доминирует, не вносит в сумму определяющего вклада), имеет распределение, близкое к нормальному."
   ]
  },
  {
   "cell_type": "markdown",
   "metadata": {
    "id": "3swSoDmHi6Yw"
   },
   "source": [
    "Если у нас есть несколько выборок из генеральной совокупности (то есть из совокупности всех возможных объектов исследования), то среднее по этим выборкам также будет иметь нормальное распределение."
   ]
  },
  {
   "cell_type": "markdown",
   "metadata": {
    "id": "t-P7XtKLi6Yx"
   },
   "source": [
    "Другими словами, среднее достаточно большого числа независимых и нормально распределенных случайных величин также является приблизительно нормально распределенным."
   ]
  },
  {
   "cell_type": "markdown",
   "metadata": {
    "id": "ZNJVNoUzi6Y0"
   },
   "source": [
    "Если $x_1, x_2, ..., x_n$ — случайные величины с математическим ожиданием (или средним значением) $\\mu$ и стандартным отклонением $\\sigma$, и при этом $n$ — большое число, то $\\frac{1}{n}(x_1 + x_2 + ... + x_n)$ — приближенно нормально распределенная величина с математическим ожиданием $\\mu$ и стандартным отклонением, равным $\\frac{\\sigma}{\\sqrt(n)}$."
   ]
  },
  {
   "cell_type": "markdown",
   "metadata": {
    "id": "LsZdXuI2i6Y1"
   },
   "source": [
    "**Пример 2**"
   ]
  },
  {
   "cell_type": "markdown",
   "metadata": {
    "id": "91QHJiETi6Y3"
   },
   "source": [
    "Из имеющегося набора данных с ростом хоккеистов сформируем 300 выборок по 10 наблюдений и рассмотрим распределение средних значений:"
   ]
  },
  {
   "cell_type": "code",
   "execution_count": 18,
   "metadata": {
    "id": "ce661T2wi6Y-"
   },
   "outputs": [],
   "source": [
    "np.random.seed(42)"
   ]
  },
  {
   "cell_type": "code",
   "execution_count": 19,
   "metadata": {
    "id": "lIjw59w3i6ZF"
   },
   "outputs": [],
   "source": [
    "samples = []"
   ]
  },
  {
   "cell_type": "code",
   "execution_count": 20,
   "metadata": {
    "colab": {
     "base_uri": "https://localhost:8080/",
     "height": 198
    },
    "id": "gJWXD9Bei6ZL",
    "outputId": "6754e71d-52c0-4b91-fb0c-9a9c76550df1"
   },
   "outputs": [],
   "source": [
    "for i in range(300):\n",
    "    sample = df.loc[:, 'height'].sample(n=10).values\n",
    "    samples.append(sample)"
   ]
  },
  {
   "cell_type": "markdown",
   "metadata": {
    "id": "5ni3mNeti6ZT"
   },
   "source": [
    "Вычислим средние значения для каждой выборки:"
   ]
  },
  {
   "cell_type": "code",
   "execution_count": 21,
   "metadata": {
    "id": "T_D4fYNMi6Za"
   },
   "outputs": [],
   "source": [
    "mean_values = []"
   ]
  },
  {
   "cell_type": "code",
   "execution_count": 22,
   "metadata": {
    "id": "YCbucA8di6Zq"
   },
   "outputs": [],
   "source": [
    "for sample in samples:\n",
    "    mean_values.append(sample.mean())"
   ]
  },
  {
   "cell_type": "code",
   "execution_count": 23,
   "metadata": {
    "id": "IQIpStyei6Z1"
   },
   "outputs": [
    {
     "data": {
      "text/plain": [
       "300"
      ]
     },
     "execution_count": 23,
     "metadata": {},
     "output_type": "execute_result"
    }
   ],
   "source": [
    "len(mean_values)"
   ]
  },
  {
   "cell_type": "code",
   "execution_count": 24,
   "metadata": {
    "id": "QGZpP0vBi6Z_"
   },
   "outputs": [],
   "source": [
    "mean_values = np.array(mean_values)"
   ]
  },
  {
   "cell_type": "code",
   "execution_count": 25,
   "metadata": {
    "id": "h2Dymc_Qi6aE"
   },
   "outputs": [
    {
     "data": {
      "text/plain": [
       "array([184.3, 183.8, 184.9, 182.7, 184.5, 184. , 183.5, 181. , 181.8,\n",
       "       183.1, 183.9, 185.3, 183.1, 182.9, 186.1, 178.7, 184.2, 184. ,\n",
       "       185.8, 186.4, 186.6, 184.1, 182.6, 185.5, 180.6, 183.3, 184.9,\n",
       "       183.6, 185. , 184.8, 180.8, 187. , 184.3, 184.9, 185.5, 181.9,\n",
       "       185.5, 184.7, 183.4, 186. , 186.7, 184.6, 183.1, 184.4, 180.4,\n",
       "       184.5, 184.6, 187.5, 186.6, 182.1, 187.1, 183.4, 183.3, 185.4,\n",
       "       181. , 183.8, 183.5, 180.4, 185. , 185.8, 186.5, 184.4, 182.3,\n",
       "       184.7, 183.8, 184.1, 182.9, 185. , 184.6, 183. , 181.9, 180.2,\n",
       "       184.3, 182.9, 182.6, 184.8, 183.3, 183.6, 184.2, 184.8, 182.7,\n",
       "       180.6, 184.7, 185.3, 184.3, 185.3, 187.7, 184.9, 184.9, 182.7,\n",
       "       184.6, 182.1, 183.4, 186.5, 186. , 183.9, 183. , 184.5, 183.1,\n",
       "       188.1, 182.2, 186.4, 183.9, 182.9, 181.8, 183.8, 186.7, 184.2,\n",
       "       182. , 182.8, 184.1, 182.9, 184.5, 182.9, 184.3, 184.6, 185.6,\n",
       "       184.9, 185.6, 184. , 180.5, 183.6, 182.8, 183.4, 183.9, 186.2,\n",
       "       181.4, 185.9, 183.6, 183.2, 182.4, 184.7, 182.1, 185.1, 185.2,\n",
       "       183.8, 185.5, 182.1, 184.3, 182.9, 183.9, 183.5, 183.3, 185.2,\n",
       "       183.4, 181.8, 181.6, 184. , 183.3, 182.5, 181.8, 181.7, 185.4,\n",
       "       184.7, 185.3, 182.7, 183.9, 182.5, 182.9, 185.3, 185.1, 183.5,\n",
       "       183.7, 180. , 184.7, 183. , 186.3, 180.4, 182.5, 183.6, 186.5,\n",
       "       184.1, 182.5, 184.9, 184. , 186.2, 184.9, 185.5, 183.6, 185.5,\n",
       "       183. , 187.8, 182.8, 185.9, 182.9, 181.8, 186.4, 184.2, 186.7,\n",
       "       184.6, 187.2, 184.6, 185.4, 184.6, 183.2, 185.1, 184.4, 182.9,\n",
       "       183.4, 186.1, 181.8, 181.4, 184.5, 184.8, 183.8, 186.3, 184.3,\n",
       "       182.3, 184.2, 180.9, 183.9, 180.8, 186.2, 182.8, 184.6, 183.9,\n",
       "       186.6, 185.6, 183.4, 186.3, 185.6, 183.4, 182.9, 186.3, 183.7,\n",
       "       182.4, 183. , 184.2, 183.8, 187. , 182.5, 185.9, 187.7, 182.9,\n",
       "       184.7, 184.8, 183.2, 184.7, 183.7, 180.4, 183.2, 184.3, 181.8,\n",
       "       182.8, 185.3, 185.3, 184.3, 186.2, 183.6, 184.1, 181.2, 187.7,\n",
       "       182. , 184.7, 180.7, 184. , 182.1, 184.3, 182.7, 182.6, 180.3,\n",
       "       185.9, 182.1, 182.3, 186.5, 185.7, 185. , 182.8, 184.5, 185.9,\n",
       "       183.8, 182.3, 182.5, 180.3, 185. , 183.6, 184.3, 182.8, 180.8,\n",
       "       183.5, 185.2, 182. , 183.2, 184. , 183.7, 180.5, 183.4, 180. ,\n",
       "       182.5, 183.7, 186.4, 185.1, 182.6, 184.4, 183.4, 183.2, 184. ,\n",
       "       180.8, 184.5, 183.6])"
      ]
     },
     "execution_count": 25,
     "metadata": {},
     "output_type": "execute_result"
    }
   ],
   "source": [
    "mean_values"
   ]
  },
  {
   "cell_type": "code",
   "execution_count": 26,
   "metadata": {
    "id": "MCa_T6BXi6aL"
   },
   "outputs": [
    {
     "data": {
      "image/png": "[encoded data removed]",
      "text/plain": [
       "<Figure size 432x288 with 1 Axes>"
      ]
     },
     "metadata": {
      "needs_background": "light"
     },
     "output_type": "display_data"
    }
   ],
   "source": [
    "plt.hist(mean_values, bins=10)\n",
    "plt.show()"
   ]
  },
  {
   "cell_type": "markdown",
   "metadata": {
    "id": "WPRRNnEKi6aW"
   },
   "source": [
    "По гистограмме видно: количество наблюдений недостаточно большое, но распределение похоже на нормальное."
   ]
  },
  {
   "cell_type": "markdown",
   "metadata": {},
   "source": [
    "# ДЗ"
   ]
  },
  {
   "cell_type": "markdown",
   "metadata": {},
   "source": [
    "### №4"
   ]
  },
  {
   "cell_type": "code",
   "execution_count": 35,
   "metadata": {},
   "outputs": [
    {
     "data": {
      "text/plain": [
       "Text(0, 0.5, 'Probability Density')"
      ]
     },
     "execution_count": 35,
     "metadata": {},
     "output_type": "execute_result"
    },
    {
     "data": {
      "image/png": "[encoded data removed]",
      "text/plain": [
       "<Figure size 432x288 with 1 Axes>"
      ]
     },
     "metadata": {},
     "output_type": "display_data"
    }
   ],
   "source": [
    "from scipy.stats import norm\n",
    "import seaborn as sb\n",
    "\n",
    "# Creating the distribution\n",
    "data = np.arange(150,198,0.1)\n",
    "pdf = norm.pdf(data , loc = 174 , scale = 8 )\n",
    "\n",
    "#Visualizing the distribution\n",
    "\n",
    "sb.set_style('whitegrid')\n",
    "sb.lineplot(data, pdf , color = 'black')\n",
    "plt.xlabel('Heights')\n",
    "plt.ylabel('Probability Density')"
   ]
  },
  {
   "cell_type": "code",
   "execution_count": 42,
   "metadata": {},
   "outputs": [
    {
     "name": "stdout",
     "output_type": "stream",
     "text": [
      "P(x>182) = 15.8655%\n"
     ]
    }
   ],
   "source": [
    "# а)\n",
    "a = 182 \n",
    "mean = 174 \n",
    "std = 8\n",
    "P = 1 - norm(loc = mean , scale = std).cdf(a)\n",
    "print(f'P(x>{a}) = {round(P*100, 4)}%')"
   ]
  },
  {
   "cell_type": "code",
   "execution_count": 43,
   "metadata": {},
   "outputs": [
    {
     "name": "stdout",
     "output_type": "stream",
     "text": [
      "P(x>190) = 2.275%\n"
     ]
    }
   ],
   "source": [
    "# б)\n",
    "a = 190 \n",
    "mean = 174 \n",
    "std = 8\n",
    "P = 1 - norm(loc = mean , scale = std).cdf(a)\n",
    "print(f'P(x>{a}) = {round(P*100, 4)}%')"
   ]
  },
  {
   "cell_type": "code",
   "execution_count": 44,
   "metadata": {},
   "outputs": [
    {
     "name": "stdout",
     "output_type": "stream",
     "text": [
      "P(166<x<190) = 81.8595%\n"
     ]
    }
   ],
   "source": [
    "# в)\n",
    "a = 166\n",
    "b = 190\n",
    "mean = 174 \n",
    "std = 8\n",
    "P = norm(loc = mean , scale = std).cdf(b) - norm(loc = mean , scale = std).cdf(a)\n",
    "print(f'P({a}<x<{b}) = {round(P*100, 4)}%')"
   ]
  },
  {
   "cell_type": "code",
   "execution_count": 45,
   "metadata": {},
   "outputs": [
    {
     "name": "stdout",
     "output_type": "stream",
     "text": [
      "P(166<x<182) = 68.2689%\n"
     ]
    }
   ],
   "source": [
    "# г)\n",
    "a = 166\n",
    "b = 182\n",
    "mean = 174 \n",
    "std = 8\n",
    "P = norm(loc = mean , scale = std).cdf(b) - norm(loc = mean , scale = std).cdf(a)\n",
    "print(f'P({a}<x<{b}) = {round(P*100, 4)}%')"
   ]
  },
  {
   "cell_type": "code",
   "execution_count": 46,
   "metadata": {},
   "outputs": [
    {
     "name": "stdout",
     "output_type": "stream",
     "text": [
      "P(158<x<190) = 95.45%\n"
     ]
    }
   ],
   "source": [
    "# д)\n",
    "a = 158\n",
    "b = 190\n",
    "mean = 174 \n",
    "std = 8\n",
    "P = norm(loc = mean , scale = std).cdf(b) - norm(loc = mean , scale = std).cdf(a)\n",
    "print(f'P({a}<x<{b}) = {round(P*100, 4)}%')"
   ]
  },
  {
   "cell_type": "code",
   "execution_count": 47,
   "metadata": {},
   "outputs": [
    {
     "name": "stdout",
     "output_type": "stream",
     "text": [
      "P(150<x>190) = 2.41%\n"
     ]
    }
   ],
   "source": [
    "# е)\n",
    "a = 150\n",
    "b = 190\n",
    "mean = 174 \n",
    "std = 8\n",
    "P = 1 - norm(loc = mean , scale = std).cdf(b) + norm(loc = mean , scale = std).cdf(a)\n",
    "print(f'P({a}<x>{b}) = {round(P*100, 4)}%')"
   ]
  },
  {
   "cell_type": "code",
   "execution_count": 48,
   "metadata": {},
   "outputs": [
    {
     "name": "stdout",
     "output_type": "stream",
     "text": [
      "P(150<x>198) = 0.27%\n"
     ]
    }
   ],
   "source": [
    "# ё)\n",
    "a = 150\n",
    "b = 198\n",
    "mean = 174 \n",
    "std = 8\n",
    "P = 1 - norm(loc = mean , scale = std).cdf(b) + norm(loc = mean , scale = std).cdf(a)\n",
    "print(f'P({a}<x>{b}) = {round(P*100, 4)}%')"
   ]
  },
  {
   "cell_type": "code",
   "execution_count": 50,
   "metadata": {},
   "outputs": [
    {
     "name": "stdout",
     "output_type": "stream",
     "text": [
      "P(x<166) = 15.8655%\n"
     ]
    }
   ],
   "source": [
    "a = 166\n",
    "mean = 174 \n",
    "std = 8\n",
    "P = norm(loc = mean , scale = std).cdf(a)\n",
    "print(f'P(x<{a}) = {round(P*100, 4)}%')"
   ]
  }
 ],
 "metadata": {
  "colab": {
   "collapsed_sections": [
    "OJQ2MA-7i6Yt"
   ],
   "provenance": []
  },
  "kernelspec": {
   "display_name": "Python 3",
   "language": "python",
   "name": "python3"
  },
  "language_info": {
   "codemirror_mode": {
    "name": "ipython",
    "version": 3
   },
   "file_extension": ".py",
   "mimetype": "text/x-python",
   "name": "python",
   "nbconvert_exporter": "python",
   "pygments_lexer": "ipython3",
   "version": "3.7.4"
  }
 },
 "nbformat": 4,
 "nbformat_minor": 1
}
