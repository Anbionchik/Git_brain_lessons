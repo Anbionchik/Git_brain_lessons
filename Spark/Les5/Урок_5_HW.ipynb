{
  "nbformat": 4,
  "nbformat_minor": 0,
  "metadata": {
    "colab": {
      "provenance": []
    },
    "kernelspec": {
      "name": "python3",
      "display_name": "Python 3"
    },
    "language_info": {
      "name": "python"
    }
  },
  "cells": [
    {
      "cell_type": "markdown",
      "metadata": {
        "id": "jnx98VS6o__s"
      },
      "source": [
        "**Урок 5**"
      ]
    },
    {
      "cell_type": "code",
      "metadata": {
        "colab": {
          "base_uri": "https://localhost:8080/"
        },
        "id": "gB-SYbCkpKPc",
        "outputId": "36445568-e435-458a-ad25-67f7d8d8c2ac"
      },
      "source": [
        "!pip install pyspark"
      ],
      "execution_count": null,
      "outputs": [
        {
          "output_type": "stream",
          "name": "stdout",
          "text": [
            "Collecting pyspark\n",
            "  Downloading pyspark-3.2.0.tar.gz (281.3 MB)\n",
            "\u001b[K     |████████████████████████████████| 281.3 MB 40 kB/s \n",
            "\u001b[?25hCollecting py4j==0.10.9.2\n",
            "  Downloading py4j-0.10.9.2-py2.py3-none-any.whl (198 kB)\n",
            "\u001b[K     |████████████████████████████████| 198 kB 68.2 MB/s \n",
            "\u001b[?25hBuilding wheels for collected packages: pyspark\n",
            "  Building wheel for pyspark (setup.py) ... \u001b[?25l\u001b[?25hdone\n",
            "  Created wheel for pyspark: filename=pyspark-3.2.0-py2.py3-none-any.whl size=281805911 sha256=5e74b76c9f8da7e61c75ec0af7e7fc29873677fc88cdde645ede6ee2246be04b\n",
            "  Stored in directory: /root/.cache/pip/wheels/0b/de/d2/9be5d59d7331c6c2a7c1b6d1a4f463ce107332b1ecd4e80718\n",
            "Successfully built pyspark\n",
            "Installing collected packages: py4j, pyspark\n",
            "Successfully installed py4j-0.10.9.2 pyspark-3.2.0\n"
          ]
        }
      ]
    },
    {
      "cell_type": "code",
      "metadata": {
        "id": "HcK8cwMIpszD"
      },
      "source": [
        "from pyspark.sql import SparkSession\n",
        "from pyspark.sql import functions as F\n",
        "\n",
        "spark = SparkSession.builder.master('local[4]').appName('joins_hw').getOrCreate()"
      ],
      "execution_count": null,
      "outputs": []
    },
    {
      "cell_type": "markdown",
      "metadata": {
        "id": "6R3Bm-ycpyrJ"
      },
      "source": [
        "**Joins**"
      ]
    },
    {
      "cell_type": "code",
      "metadata": {
        "colab": {
          "base_uri": "https://localhost:8080/"
        },
        "id": "FuOyeDjzp3ue",
        "outputId": "c8a23f6b-bdb7-4eec-8d2e-757c18666ba6"
      },
      "source": [
        "# Создаём датасет для примеров\n",
        "dataset_1 = [\n",
        "  {\n",
        "    'key_1' : 'abc',\n",
        "    'value_1' : 10,\n",
        "    'value_2' : 20\n",
        "  },\n",
        "  {\n",
        "    'key_1' : 'def',\n",
        "    'value_1' : 100,\n",
        "    'value_2' : 300\n",
        "  }\n",
        "]\n",
        "\n",
        "dataset_2 = [\n",
        "  {\n",
        "    'key_2' : 'abc',\n",
        "    'value_1' : 5.5,\n",
        "    'value_2' : 2.2\n",
        "  },\n",
        "  {\n",
        "    'key_2' : 'xyz',\n",
        "    'value_1' : 10.1,\n",
        "    'value_2' : 13.5\n",
        "  }\n",
        "]\n",
        "\n",
        "df1 = spark.createDataFrame(dataset_1)\n",
        "print('df1')\n",
        "df1.show()\n",
        "\n",
        "df2 = spark.createDataFrame(dataset_2)\n",
        "print('df2')\n",
        "df2.show()"
      ],
      "execution_count": null,
      "outputs": [
        {
          "output_type": "stream",
          "name": "stdout",
          "text": [
            "df1\n",
            "+-----+-------+-------+\n",
            "|key_1|value_1|value_2|\n",
            "+-----+-------+-------+\n",
            "|  abc|     10|     20|\n",
            "|  def|    100|    300|\n",
            "+-----+-------+-------+\n",
            "\n",
            "df2\n",
            "+-----+-------+-------+\n",
            "|key_2|value_1|value_2|\n",
            "+-----+-------+-------+\n",
            "|  abc|    5.5|    2.2|\n",
            "|  xyz|   10.1|   13.5|\n",
            "+-----+-------+-------+\n",
            "\n"
          ]
        }
      ]
    },
    {
      "cell_type": "markdown",
      "metadata": {
        "id": "rA7Auby4p_-T"
      },
      "source": [
        "**Left Semi join**"
      ]
    },
    {
      "cell_type": "code",
      "source": [
        "df1.join(df2, df1.key_1 == df2.key_2, 'left_semi').show()"
      ],
      "metadata": {
        "colab": {
          "base_uri": "https://localhost:8080/"
        },
        "id": "9ElhS8d7a8tw",
        "outputId": "b2c3b936-2050-4078-9c57-b48000d191f3"
      },
      "execution_count": null,
      "outputs": [
        {
          "output_type": "stream",
          "name": "stdout",
          "text": [
            "+-----+-------+-------+\n",
            "|key_1|value_1|value_2|\n",
            "+-----+-------+-------+\n",
            "|  abc|     10|     20|\n",
            "+-----+-------+-------+\n",
            "\n"
          ]
        }
      ]
    },
    {
      "cell_type": "code",
      "metadata": {
        "id": "N9NXGMIlqBwz"
      },
      "source": [
        "# Создайте джойн, чтобы получить следующую таблицу\n",
        "# +---+-------+-------+\n",
        "# |key|value_1|value_2|\n",
        "# +---+-------+-------+\n",
        "# |abc|     10|     20|\n",
        "# +---+-------+-------+"
      ],
      "execution_count": null,
      "outputs": []
    },
    {
      "cell_type": "markdown",
      "metadata": {
        "id": "QuXIRDGVqWmV"
      },
      "source": [
        "**Left Anti join**"
      ]
    },
    {
      "cell_type": "code",
      "source": [
        "df1.join(df2, df1.key_1 == df2.key_2, 'left_anti').show()"
      ],
      "metadata": {
        "colab": {
          "base_uri": "https://localhost:8080/"
        },
        "id": "1BnTaFYSbQOx",
        "outputId": "6569f872-682c-4bd8-b620-66d6a38d8f2d"
      },
      "execution_count": null,
      "outputs": [
        {
          "output_type": "stream",
          "name": "stdout",
          "text": [
            "+-----+-------+-------+\n",
            "|key_1|value_1|value_2|\n",
            "+-----+-------+-------+\n",
            "|  def|    100|    300|\n",
            "+-----+-------+-------+\n",
            "\n"
          ]
        }
      ]
    },
    {
      "cell_type": "code",
      "metadata": {
        "id": "Nyzx6EECqYbT"
      },
      "source": [
        "# Создайте джойн, чтобы получить следующую таблицу\n",
        "# +---+-------+-------+\n",
        "# |key|value_1|value_2|\n",
        "# +---+-------+-------+\n",
        "# |def|    100|    300|\n",
        "# +---+-------+-------+"
      ],
      "execution_count": null,
      "outputs": []
    },
    {
      "cell_type": "markdown",
      "metadata": {
        "id": "Dgx2631vql9i"
      },
      "source": [
        "**Inner join**"
      ]
    },
    {
      "cell_type": "code",
      "source": [
        "cond = [df1.value_1 != df2.value_2]\n",
        "df1.join(df2, cond).show()"
      ],
      "metadata": {
        "colab": {
          "base_uri": "https://localhost:8080/"
        },
        "id": "pdFRr43hbVr_",
        "outputId": "c4b0260e-1430-476a-bea7-151aa98cdc55"
      },
      "execution_count": null,
      "outputs": [
        {
          "output_type": "stream",
          "name": "stdout",
          "text": [
            "+-----+-------+-------+-----+-------+-------+\n",
            "|key_1|value_1|value_2|key_2|value_1|value_2|\n",
            "+-----+-------+-------+-----+-------+-------+\n",
            "|  abc|     10|     20|  abc|    5.5|    2.2|\n",
            "|  abc|     10|     20|  xyz|   10.1|   13.5|\n",
            "|  def|    100|    300|  abc|    5.5|    2.2|\n",
            "|  def|    100|    300|  xyz|   10.1|   13.5|\n",
            "+-----+-------+-------+-----+-------+-------+\n",
            "\n"
          ]
        }
      ]
    },
    {
      "cell_type": "code",
      "metadata": {
        "id": "GdKZ278-qntb"
      },
      "source": [
        "# Создайте Inner джойн с условиями ---hidden---, для df1 и df2, соответсвенно\n",
        "# В  итоге получится таблица\n",
        "# +---+-------+-------+---+-------+-------+\n",
        "# |key|value_1|value_2|key|value_1|value_2|\n",
        "# +---+-------+-------+---+-------+-------+\n",
        "# |abc|     10|     20|abc|    5.5|    2.2|\n",
        "# |abc|     10|     20|xyz|   10.1|   13.5|\n",
        "# |def|    100|    300|abc|    5.5|    2.2|\n",
        "# |def|    100|    300|xyz|   10.1|   13.5|\n",
        "# +---+-------+-------+---+-------+-------+"
      ],
      "execution_count": null,
      "outputs": []
    }
  ]
}