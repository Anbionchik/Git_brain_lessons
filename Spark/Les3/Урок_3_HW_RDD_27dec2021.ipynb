{
  "nbformat": 4,
  "nbformat_minor": 0,
  "metadata": {
    "colab": {
      "provenance": []
    },
    "kernelspec": {
      "name": "python3",
      "display_name": "Python 3"
    },
    "language_info": {
      "name": "python"
    }
  },
  "cells": [
    {
      "cell_type": "markdown",
      "metadata": {
        "id": "8Zc4sdy0s35D"
      },
      "source": [
        "# Создаём точку входа в Spark"
      ]
    },
    {
      "cell_type": "code",
      "source": [
        "!pip install pyspark"
      ],
      "metadata": {
        "colab": {
          "base_uri": "https://localhost:8080/"
        },
        "id": "SlqJUq9UIjt4",
        "outputId": "70e517d2-6034-4e86-d064-cff0fe16addd"
      },
      "execution_count": 1,
      "outputs": [
        {
          "output_type": "stream",
          "name": "stdout",
          "text": [
            "Looking in indexes: https://pypi.org/simple, https://us-python.pkg.dev/colab-wheels/public/simple/\n",
            "Collecting pyspark\n",
            "  Downloading pyspark-3.4.0.tar.gz (310.8 MB)\n",
            "\u001b[2K     \u001b[90m━━━━━━━━━━━━━━━━━━━━━━━━━━━━━━━━━━━━━━━\u001b[0m \u001b[32m310.8/310.8 MB\u001b[0m \u001b[31m4.8 MB/s\u001b[0m eta \u001b[36m0:00:00\u001b[0m\n",
            "\u001b[?25h  Preparing metadata (setup.py) ... \u001b[?25l\u001b[?25hdone\n",
            "Requirement already satisfied: py4j==0.10.9.7 in /usr/local/lib/python3.10/dist-packages (from pyspark) (0.10.9.7)\n",
            "Building wheels for collected packages: pyspark\n",
            "  Building wheel for pyspark (setup.py) ... \u001b[?25l\u001b[?25hdone\n",
            "  Created wheel for pyspark: filename=pyspark-3.4.0-py2.py3-none-any.whl size=311317130 sha256=5ad6ce27bf1eab6b4b86de29ccacbe750bfc4730ab7b9f9d96e7b0780a74d0bc\n",
            "  Stored in directory: /root/.cache/pip/wheels/7b/1b/4b/3363a1d04368e7ff0d408e57ff57966fcdf00583774e761327\n",
            "Successfully built pyspark\n",
            "Installing collected packages: pyspark\n",
            "Successfully installed pyspark-3.4.0\n"
          ]
        }
      ]
    },
    {
      "cell_type": "code",
      "metadata": {
        "id": "idrMQH4dj605"
      },
      "source": [
        "from pyspark.sql import SparkSession\n",
        "\n",
        "spark = SparkSession.builder\\\n",
        "        .master('local[4]')\\\n",
        "        .appName('Lesson_2')\\\n",
        "        .config('spark.ui.port', '4050')\\\n",
        "        .config('spark.executor.instances', 2)\\\n",
        "        .config('spark.executor.memory', '4g')\\\n",
        "        .config('spark.executor.cores', 2)\\\n",
        "        .getOrCreate()\n",
        "\n",
        "sc = spark.sparkContext\n",
        "\n",
        "\n",
        "# Вспомогательная функция\n",
        "\n",
        "def beautiful_print(rdd, num, title):\n",
        "    print(title)\n",
        "    for row in rdd.take(num):\n",
        "        print('\\t', row)"
      ],
      "execution_count": 2,
      "outputs": []
    },
    {
      "cell_type": "markdown",
      "metadata": {
        "id": "VrBE3PdXtOwT"
      },
      "source": [
        "# Самостоятельная работа\n",
        "\n",
        "Требуется выяснить:\n",
        "1. Какое соотношение сторон экрана телефона самое популярное,\n",
        "2. Плотность пикселей у экрана.\n",
        "\n",
        "Можно использовать только rdd.\n"
      ]
    },
    {
      "cell_type": "markdown",
      "metadata": {
        "id": "FjAfrNtXSKBz"
      },
      "source": [
        "## Считывание данных\n",
        "Данные взяты отсюда: https://www.kaggle.com/iabhishekofficial/mobile-price-classification\n",
        "Скачиваем и копируем в папку с нотебуком\n",
        "\n",
        "Внутри содержится следующая информация:\n",
        "\n",
        "* id: ID\n",
        "* battery_power: Total energy a battery can store in one time (mAh)\n",
        "* blue: Support bluetooth or not\n",
        "* clock_speed: Speed at which microprocessor executes instructions\n",
        "* dual_sim: Support dual sim or not\n",
        "* fc: Front Camera mega pixels\n",
        "* four_g: Support 4G or not\n",
        "* int_memory: Internal Memory (GB)\n",
        "* m_dep: Mobile Depth (cm)\n",
        "* mobile_wt: Weight of mobile phone\n",
        "* n_cores: Number of cores of processor\n",
        "* pc: Primary Camera mega pixels\n",
        "* px_height: Pixel Resolution Height\n",
        "* px_width: Pixel Resolution Width\n",
        "* ram: Random Access Memory (MB)\n",
        "* sc_h: Screen Height of mobile (cm)\n",
        "* sc_w: Screen Width of mobile (cm)\n",
        "* talk_time: Time that a single battery charge will last\n",
        "* three_g: Support 3G or not\n",
        "* touch_screen: Has touch screen or not\n",
        "* wifi: Support wifi or not"
      ]
    },
    {
      "cell_type": "code",
      "metadata": {
        "id": "3VyKjYOSkLlp",
        "colab": {
          "base_uri": "https://localhost:8080/"
        },
        "outputId": "61fb781d-6976-46ac-f5c4-da071e93b635"
      },
      "source": [
        "train = sc.textFile('train.csv')\n",
        "beautiful_print(train, 3, 'Train:')\n",
        "train_first_row = train.first()\n",
        "print(f\"Train size: {train.count()} x {len(train_first_row.split(','))}\")"
      ],
      "execution_count": 68,
      "outputs": [
        {
          "output_type": "stream",
          "name": "stdout",
          "text": [
            "Train:\n",
            "\t battery_power,blue,clock_speed,dual_sim,fc,four_g,int_memory,m_dep,mobile_wt,n_cores,pc,px_height,px_width,ram,sc_h,sc_w,talk_time,three_g,touch_screen,wifi,price_range\n",
            "\t 842,0,2.2,0,1,0,7,0.6,188,2,2,20,756,2549,9,7,19,0,0,1,1\n",
            "\t 1021,1,0.5,1,0,1,53,0.7,136,3,6,905,1988,2631,17,3,7,1,1,0,2\n",
            "Train size: 2001 x 21\n"
          ]
        }
      ]
    },
    {
      "cell_type": "code",
      "metadata": {
        "id": "CSZJ2D5EuErD"
      },
      "source": [
        "# Задание 1\n",
        "#  Прочитайте test.csv"
      ],
      "execution_count": null,
      "outputs": []
    },
    {
      "cell_type": "code",
      "source": [
        "test = sc.textFile('test.csv')\n",
        "beautiful_print(test, 3, 'Test:')\n",
        "test_first_row = test.first()\n",
        "print(f\"Test size: {test.count()} x {len(test_first_row.split(','))}\")"
      ],
      "metadata": {
        "id": "H_wNc5KRLO7d",
        "outputId": "84a15e4f-eae6-460f-b421-30926bcb32d3",
        "colab": {
          "base_uri": "https://localhost:8080/"
        }
      },
      "execution_count": 69,
      "outputs": [
        {
          "output_type": "stream",
          "name": "stdout",
          "text": [
            "Test:\n",
            "\t id,battery_power,blue,clock_speed,dual_sim,fc,four_g,int_memory,m_dep,mobile_wt,n_cores,pc,px_height,px_width,ram,sc_h,sc_w,talk_time,three_g,touch_screen,wifi\n",
            "\t 1,1043,1,1.8,1,14,0,5,0.1,193,3,16,226,1412,3476,12,7,2,0,1,0\n",
            "\t 2,841,1,0.5,1,4,1,61,0.8,191,5,12,746,857,3895,6,0,7,1,0,0\n",
            "Test size: 1001 x 21\n"
          ]
        }
      ]
    },
    {
      "cell_type": "markdown",
      "metadata": {
        "id": "5pNi9czovHNh"
      },
      "source": [
        "##  Преобразуем train и test"
      ]
    },
    {
      "cell_type": "code",
      "metadata": {
        "id": "fiA-_A4cueiI",
        "colab": {
          "base_uri": "https://localhost:8080/"
        },
        "outputId": "b1dc5c64-d9f9-46e4-8c7e-8d942c2e94b2"
      },
      "source": [
        "train = train\\\n",
        "    .filter(lambda row: row != train_first_row)\\\n",
        "    .map(lambda row: [float(el) for el in row.split(',')])\n",
        "    \n",
        "train_header = train_first_row.split(',')\n",
        "beautiful_print(train, 3, train_header)"
      ],
      "execution_count": 70,
      "outputs": [
        {
          "output_type": "stream",
          "name": "stdout",
          "text": [
            "['battery_power', 'blue', 'clock_speed', 'dual_sim', 'fc', 'four_g', 'int_memory', 'm_dep', 'mobile_wt', 'n_cores', 'pc', 'px_height', 'px_width', 'ram', 'sc_h', 'sc_w', 'talk_time', 'three_g', 'touch_screen', 'wifi', 'price_range']\n",
            "\t [842.0, 0.0, 2.2, 0.0, 1.0, 0.0, 7.0, 0.6, 188.0, 2.0, 2.0, 20.0, 756.0, 2549.0, 9.0, 7.0, 19.0, 0.0, 0.0, 1.0, 1.0]\n",
            "\t [1021.0, 1.0, 0.5, 1.0, 0.0, 1.0, 53.0, 0.7, 136.0, 3.0, 6.0, 905.0, 1988.0, 2631.0, 17.0, 3.0, 7.0, 1.0, 1.0, 0.0, 2.0]\n",
            "\t [563.0, 1.0, 0.5, 1.0, 2.0, 1.0, 41.0, 0.9, 145.0, 5.0, 6.0, 1263.0, 1716.0, 2603.0, 11.0, 2.0, 9.0, 1.0, 1.0, 0.0, 2.0]\n"
          ]
        }
      ]
    },
    {
      "cell_type": "code",
      "metadata": {
        "id": "eXdImLV9rGSW"
      },
      "source": [
        "# Задание 2\n",
        "#  Приведите test.csv к аналогичному виду, что и train"
      ],
      "execution_count": null,
      "outputs": []
    },
    {
      "cell_type": "code",
      "source": [
        "test = test\\\n",
        "    .filter(lambda row: row != test_first_row)\\\n",
        "    .map(lambda row: [float(el) for el in row.split(',')])\n",
        "\n",
        "test_header = test_first_row.split(',')\n",
        "beautiful_print(test, 3, test_header)"
      ],
      "metadata": {
        "id": "qj9fLp9rMyms",
        "outputId": "e8fedc7a-1429-416e-d07f-e7a750c28452",
        "colab": {
          "base_uri": "https://localhost:8080/"
        }
      },
      "execution_count": 71,
      "outputs": [
        {
          "output_type": "stream",
          "name": "stdout",
          "text": [
            "['id', 'battery_power', 'blue', 'clock_speed', 'dual_sim', 'fc', 'four_g', 'int_memory', 'm_dep', 'mobile_wt', 'n_cores', 'pc', 'px_height', 'px_width', 'ram', 'sc_h', 'sc_w', 'talk_time', 'three_g', 'touch_screen', 'wifi']\n",
            "\t [1.0, 1043.0, 1.0, 1.8, 1.0, 14.0, 0.0, 5.0, 0.1, 193.0, 3.0, 16.0, 226.0, 1412.0, 3476.0, 12.0, 7.0, 2.0, 0.0, 1.0, 0.0]\n",
            "\t [2.0, 841.0, 1.0, 0.5, 1.0, 4.0, 1.0, 61.0, 0.8, 191.0, 5.0, 12.0, 746.0, 857.0, 3895.0, 6.0, 0.0, 7.0, 1.0, 0.0, 0.0]\n",
            "\t [3.0, 1807.0, 1.0, 2.8, 0.0, 1.0, 0.0, 27.0, 0.9, 186.0, 3.0, 4.0, 1270.0, 1366.0, 2396.0, 17.0, 10.0, 10.0, 0.0, 1.0, 1.0]\n"
          ]
        }
      ]
    },
    {
      "cell_type": "markdown",
      "metadata": {
        "id": "kjCdeAS4v1Vc"
      },
      "source": [
        "## Объединим train и test\n",
        "Найти нужную функцию можно [здесь](https://spark.apache.org/docs/3.1.1/api/python/reference/pyspark.html#rdd-apis)\n",
        "\n",
        "PS: нужно сделать средсвтвами rdd pd.concat([train, test,], axis=0)"
      ]
    },
    {
      "cell_type": "code",
      "metadata": {
        "id": "AKfK55sLuuAT"
      },
      "source": [
        "# Задание 3\n",
        "#  Объедините данные"
      ],
      "execution_count": null,
      "outputs": []
    },
    {
      "cell_type": "code",
      "source": [
        "for i,j in zip(train_header[:-1], test_header[1:]):\n",
        "  print(f'{i} - {j}')"
      ],
      "metadata": {
        "id": "7zKLsNpkM81t",
        "outputId": "8103e837-a29c-46f2-ef18-1ecade3c5eb0",
        "colab": {
          "base_uri": "https://localhost:8080/"
        }
      },
      "execution_count": 72,
      "outputs": [
        {
          "output_type": "stream",
          "name": "stdout",
          "text": [
            "battery_power - battery_power\n",
            "blue - blue\n",
            "clock_speed - clock_speed\n",
            "dual_sim - dual_sim\n",
            "fc - fc\n",
            "four_g - four_g\n",
            "int_memory - int_memory\n",
            "m_dep - m_dep\n",
            "mobile_wt - mobile_wt\n",
            "n_cores - n_cores\n",
            "pc - pc\n",
            "px_height - px_height\n",
            "px_width - px_width\n",
            "ram - ram\n",
            "sc_h - sc_h\n",
            "sc_w - sc_w\n",
            "talk_time - talk_time\n",
            "three_g - three_g\n",
            "touch_screen - touch_screen\n",
            "wifi - wifi\n"
          ]
        }
      ]
    },
    {
      "cell_type": "code",
      "source": [
        "# train = train.map(lambda row: ','.join(row.split(',')[:-1]))\n",
        "train = train\\\n",
        "  .map(lambda row: row[:-1])\n",
        "train_header = train_header[:-1]\n",
        "\n",
        "test = test\\\n",
        "  .map(lambda row: row[1:])\n",
        "test_header = test_header[1:]"
      ],
      "metadata": {
        "id": "o-ZR2r5KRIVY"
      },
      "execution_count": 73,
      "outputs": []
    },
    {
      "cell_type": "code",
      "source": [
        "train = train.map(lambda row: row[:-1])\n",
        "\n",
        "train_header = train_header[:-1]\n",
        "beautiful_print(train, 3, train_header)"
      ],
      "metadata": {
        "id": "_IMocxersqKQ",
        "outputId": "ed286a0d-657e-4506-b570-3943074a9566",
        "colab": {
          "base_uri": "https://localhost:8080/"
        }
      },
      "execution_count": 66,
      "outputs": [
        {
          "output_type": "stream",
          "name": "stdout",
          "text": [
            "['battery_power', 'blue', 'clock_speed', 'dual_sim', 'fc', 'four_g', 'int_memory', 'm_dep', 'mobile_wt', 'n_cores', 'pc', 'px_height', 'px_width', 'ram', 'sc_h', 'sc_w', 'talk_time', 'three_g', 'touch_screen', 'wifi']\n",
            "\t [842.0, 0.0, 2.2, 0.0, 1.0, 0.0, 7.0, 0.6, 188.0, 2.0, 2.0, 20.0, 756.0, 2549.0, 9.0, 7.0, 19.0, 0.0, 0.0, 1.0]\n",
            "\t [1021.0, 1.0, 0.5, 1.0, 0.0, 1.0, 53.0, 0.7, 136.0, 3.0, 6.0, 905.0, 1988.0, 2631.0, 17.0, 3.0, 7.0, 1.0, 1.0, 0.0]\n",
            "\t [563.0, 1.0, 0.5, 1.0, 2.0, 1.0, 41.0, 0.9, 145.0, 5.0, 6.0, 1263.0, 1716.0, 2603.0, 11.0, 2.0, 9.0, 1.0, 1.0, 0.0]\n"
          ]
        }
      ]
    },
    {
      "cell_type": "code",
      "source": [
        "union_data = train.union(test)\n",
        "union_data.count()"
      ],
      "metadata": {
        "id": "ZJfupORVOAt-",
        "outputId": "734a84a8-f1b3-4bc0-8dc1-7d41ae79f0a0",
        "colab": {
          "base_uri": "https://localhost:8080/"
        }
      },
      "execution_count": 76,
      "outputs": [
        {
          "output_type": "execute_result",
          "data": {
            "text/plain": [
              "3000"
            ]
          },
          "metadata": {},
          "execution_count": 76
        }
      ]
    },
    {
      "cell_type": "markdown",
      "metadata": {
        "id": "GxGGHqRyx7XG"
      },
      "source": [
        "## Рассчитайте соотношение сторон экрана и его плотность пикселей"
      ]
    },
    {
      "cell_type": "code",
      "metadata": {
        "id": "HckZvR72xs7W"
      },
      "source": [
        "# Задание 4\n",
        "#  Рассчитайте соотношение сторон экрана и найдите широкоформатные, выведите это распределение"
      ],
      "execution_count": null,
      "outputs": []
    },
    {
      "cell_type": "code",
      "source": [
        "from matplotlib import pyplot as plt\n",
        "\n",
        "aspect_ratio = union_data\\\n",
        "  .filter(lambda row: row[12] != 0)\\\n",
        "  .map(lambda row: ('wide', 1) if row[11]/row[12] >= (16/9) else ('not wide', 1))\\\n",
        "  .reduceByKey(lambda x, y: x + y)\\\n",
        "  .sortByKey()\n"
      ],
      "metadata": {
        "id": "dFO9brpSufo6"
      },
      "execution_count": 83,
      "outputs": []
    },
    {
      "cell_type": "code",
      "source": [
        "aspect_ratio.collect()"
      ],
      "metadata": {
        "id": "8uB0LSVFxXnl",
        "outputId": "fa8059e3-2ed5-4eb6-fea8-34a3036d32d0",
        "colab": {
          "base_uri": "https://localhost:8080/"
        }
      },
      "execution_count": 84,
      "outputs": [
        {
          "output_type": "execute_result",
          "data": {
            "text/plain": [
              "[('not wide', 3000)]"
            ]
          },
          "metadata": {},
          "execution_count": 84
        }
      ]
    },
    {
      "cell_type": "code",
      "metadata": {
        "id": "AlaMbUMwvGsp"
      },
      "source": [
        "# Задание 5\n",
        "#  Рассчитайте плотность пикселей (лучше ppi), выведите это распределение"
      ],
      "execution_count": null,
      "outputs": []
    },
    {
      "cell_type": "markdown",
      "metadata": {
        "id": "PNAGeyOmzEN4"
      },
      "source": [
        "# JOIN\n",
        "Повторите вышеописанное задание с помощью одной из функций ниже (отдельно рассчитайте для train и test, затем объедините результат)\n",
        "\n",
        "Пример для двух RDDs: (rdd = {(1, 2), (3, 4), (3, 6)} other = {(3, 9)})\n",
        "\n",
        "Имя функции |\tPurpose |\tExample |\tResult\n",
        "------------- |\t------- |\t------- |\t------\n",
        "subtractByKey |Remove elements with a key present in the other RDD.| rdd.subtractByKey(other) | {(1, 2)}\n",
        "join | Perform an inner join between two RDDs. | rdd.join(other) | {(3, (4, 9)), (3, (6, 9))}\n",
        "rightOuterJoin | Perform a join between two RDDs where the key must be present in the first RDD. | rdd.rightOuterJoin(other) | {(3,(Some(4),9)), (3,(Some(6),9))}leftOuterJoin | Perform a join between two RDDs where the key must be present in the other RDD. | rdd.\n",
        "leftOuterJoin(other) | {(1,(2,None)), (3,(4,Some(9))), (3,(6,Some(9)))}\n",
        "cogroup | Group data from both RDDs sharing the same key. | rdd.cogroup(other) | {(1,([2],[])), (3,([4, 6],[9]))}\n"
      ]
    },
    {
      "cell_type": "code",
      "metadata": {
        "id": "kRb1q9QizDiH"
      },
      "source": [
        "# Задание 6\n",
        "#  Рассчитайте для train и test, затем объедините результат"
      ],
      "execution_count": null,
      "outputs": []
    }
  ]
}