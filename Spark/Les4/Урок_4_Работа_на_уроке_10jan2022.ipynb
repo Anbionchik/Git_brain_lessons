{
  "cells": [
    {
      "cell_type": "code",
      "execution_count": null,
      "metadata": {
        "colab": {
          "base_uri": "https://localhost:8080/"
        },
        "id": "HMxpG7j07HQi",
        "outputId": "3a208ce5-c4fe-40fb-ef19-c0cad18d39c0"
      },
      "outputs": [
        {
          "name": "stdout",
          "output_type": "stream",
          "text": [
            "Looking in indexes: https://pypi.org/simple, https://us-python.pkg.dev/colab-wheels/public/simple/\n",
            "Collecting pyspark\n",
            "  Downloading pyspark-3.3.0.tar.gz (281.3 MB)\n",
            "\u001b[K     |████████████████████████████████| 281.3 MB 63 kB/s \n",
            "\u001b[?25hRequirement already satisfied: pyarrow in /usr/local/lib/python3.7/dist-packages (6.0.1)\n",
            "Collecting py4j==0.10.9.5\n",
            "  Downloading py4j-0.10.9.5-py2.py3-none-any.whl (199 kB)\n",
            "\u001b[K     |████████████████████████████████| 199 kB 78.4 MB/s \n",
            "\u001b[?25hRequirement already satisfied: numpy>=1.16.6 in /usr/local/lib/python3.7/dist-packages (from pyarrow) (1.21.6)\n",
            "Building wheels for collected packages: pyspark\n",
            "  Building wheel for pyspark (setup.py) ... \u001b[?25l\u001b[?25hdone\n",
            "  Created wheel for pyspark: filename=pyspark-3.3.0-py2.py3-none-any.whl size=281764026 sha256=4229fdad93d92c58ded0474e75c587b0481950af11f3cf31b5a21a6922627685\n",
            "  Stored in directory: /root/.cache/pip/wheels/7a/8e/1b/f73a52650d2e5f337708d9f6a1750d451a7349a867f928b885\n",
            "Successfully built pyspark\n",
            "Installing collected packages: py4j, pyspark\n",
            "Successfully installed py4j-0.10.9.5 pyspark-3.3.0\n"
          ]
        }
      ],
      "source": [
        "pip install pyspark pyarrow"
      ]
    },
    {
      "cell_type": "code",
      "execution_count": null,
      "metadata": {
        "id": "a2S3PyN4ZqF8"
      },
      "outputs": [],
      "source": [
        "from pyspark.sql import SparkSession\n",
        "\n",
        "\n",
        "spark = SparkSession.builder\\\n",
        "        .master('local[4]')\\\n",
        "        .appName('Lesson_2')\\\n",
        "        .config('spark.ui.port', '4050')\\\n",
        "        .config('spark.executor.instances', 4)\\\n",
        "        .config('spark.executor.memory', f'{int(3000/1.1)}mb')\\\n",
        "        .config('spark.executor.cores', 1)\\\n",
        "        .getOrCreate()\n",
        "\n",
        "sc = spark.sparkContext"
      ]
    },
    {
      "cell_type": "code",
      "execution_count": null,
      "metadata": {
        "colab": {
          "base_uri": "https://localhost:8080/"
        },
        "id": "3zC8fnE5aoyG",
        "outputId": "93ac398e-ac5f-4bbf-93ae-1abc6644a99d"
      },
      "outputs": [
        {
          "name": "stdout",
          "output_type": "stream",
          "text": [
            "root\n",
            " |-- Product: string (nullable = true)\n",
            " |-- Amount: long (nullable = true)\n",
            " |-- Country: string (nullable = true)\n",
            "\n",
            "+-------+------+-------+\n",
            "|Product|Amount|Country|\n",
            "+-------+------+-------+\n",
            "|Banana |1000  |USA    |\n",
            "|Carrots|1500  |USA    |\n",
            "|Beans  |1600  |USA    |\n",
            "|Orange |2000  |USA    |\n",
            "|Orange |2000  |USA    |\n",
            "|Banana |400   |China  |\n",
            "|Carrots|1200  |China  |\n",
            "|Beans  |1500  |China  |\n",
            "|Orange |4000  |China  |\n",
            "|Banana |2000  |Canada |\n",
            "|Carrots|2000  |Canada |\n",
            "|Beans  |2000  |Mexico |\n",
            "+-------+------+-------+\n",
            "\n"
          ]
        }
      ],
      "source": [
        "from pyspark.sql import functions as F\n",
        "from pyspark.sql.types import *\n",
        "\n",
        "data =[\n",
        "    (\"Banana\",1000,\"USA\"), (\"Carrots\",1500,\"USA\"), (\"Beans\",1600,\"USA\"),\\\n",
        "    (\"Orange\",2000,\"USA\"), (\"Orange\",2000,\"USA\"), (\"Banana\",400,\"China\"),\\\n",
        "    (\"Carrots\",1200,\"China\"), (\"Beans\",1500,\"China\"), (\"Orange\",4000,\"China\"),\\\n",
        "    (\"Banana\",2000,\"Canada\"), (\"Carrots\",2000,\"Canada\"), (\"Beans\",2000,\"Mexico\")\n",
        "    ]\n",
        "columns = [\"Product\",\"Amount\", \"Country\"]\n",
        "\n",
        "df = spark.createDataFrame(data=data, schema=columns)\n",
        "df.printSchema()\n",
        "df.show(truncate=False)"
      ]
    },
    {
      "cell_type": "code",
      "execution_count": null,
      "metadata": {
        "colab": {
          "base_uri": "https://localhost:8080/"
        },
        "id": "bgDiOpv3ierS",
        "outputId": "39e778ce-0469-42ab-85b4-ef60f9d16ede"
      },
      "outputs": [
        {
          "name": "stderr",
          "output_type": "stream",
          "text": [
            "/usr/local/lib/python3.7/dist-packages/pyspark/sql/dataframe.py:229: FutureWarning: Deprecated in 2.0, use createOrReplaceTempView instead.\n",
            "  warnings.warn(\"Deprecated in 2.0, use createOrReplaceTempView instead.\", FutureWarning)\n"
          ]
        }
      ],
      "source": [
        "df.registerTempTable('df')"
      ]
    },
    {
      "cell_type": "code",
      "execution_count": null,
      "metadata": {
        "colab": {
          "base_uri": "https://localhost:8080/"
        },
        "id": "baIHyof-idY2",
        "outputId": "4fe4a646-9656-4b42-bf60-0e4b17cabd9b"
      },
      "outputs": [
        {
          "name": "stdout",
          "output_type": "stream",
          "text": [
            "+-------+------+-------+\n",
            "|Product|Amount|Country|\n",
            "+-------+------+-------+\n",
            "| Banana|  1000|    USA|\n",
            "|Carrots|  1500|    USA|\n",
            "|  Beans|  1600|    USA|\n",
            "| Orange|  2000|    USA|\n",
            "| Orange|  2000|    USA|\n",
            "| Banana|   400|  China|\n",
            "|Carrots|  1200|  China|\n",
            "|  Beans|  1500|  China|\n",
            "| Orange|  4000|  China|\n",
            "| Banana|  2000| Canada|\n",
            "|Carrots|  2000| Canada|\n",
            "|  Beans|  2000| Mexico|\n",
            "+-------+------+-------+\n",
            "\n"
          ]
        }
      ],
      "source": [
        "spark.sql('select * from df').show()"
      ]
    },
    {
      "cell_type": "code",
      "execution_count": null,
      "metadata": {
        "id": "aqiqAMBaibT0"
      },
      "outputs": [],
      "source": []
    },
    {
      "cell_type": "code",
      "execution_count": null,
      "metadata": {
        "colab": {
          "base_uri": "https://localhost:8080/"
        },
        "id": "zyoWre3GbXDJ",
        "outputId": "82c8891c-2175-4e69-f244-1bcc72f1bd2a"
      },
      "outputs": [
        {
          "name": "stderr",
          "output_type": "stream",
          "text": [
            "/usr/local/lib/python3.7/dist-packages/pyspark/sql/dataframe.py:229: FutureWarning: Deprecated in 2.0, use createOrReplaceTempView instead.\n",
            "  warnings.warn(\"Deprecated in 2.0, use createOrReplaceTempView instead.\", FutureWarning)\n"
          ]
        },
        {
          "name": "stdout",
          "output_type": "stream",
          "text": [
            "+-------+------+-------+---+\n",
            "|Product|Amount|Country| rn|\n",
            "+-------+------+-------+---+\n",
            "| Banana|  2000| Canada|  1|\n",
            "|Carrots|  2000| Canada|  2|\n",
            "| Banana|   400|  China|  1|\n",
            "|Carrots|  1200|  China|  2|\n",
            "|  Beans|  1500|  China|  3|\n",
            "| Orange|  4000|  China|  4|\n",
            "|  Beans|  2000| Mexico|  1|\n",
            "| Banana|  1000|    USA|  1|\n",
            "|Carrots|  1500|    USA|  2|\n",
            "|  Beans|  1600|    USA|  3|\n",
            "| Orange|  2000|    USA|  4|\n",
            "| Orange|  2000|    USA|  5|\n",
            "+-------+------+-------+---+\n",
            "\n"
          ]
        }
      ],
      "source": [
        "# spark может в sql\n",
        "df.registerTempTable('df')\n",
        "\n",
        "spark.sql('''\n",
        "select *, \n",
        "row_number() over( partition by Country order by Amount ) as rn from df\n",
        "''').show()"
      ]
    },
    {
      "cell_type": "markdown",
      "metadata": {
        "id": "Z6Q7GW4Za4a-"
      },
      "source": [
        "# оконные функции"
      ]
    },
    {
      "cell_type": "code",
      "execution_count": null,
      "metadata": {
        "id": "PAeljlz5awry"
      },
      "outputs": [],
      "source": [
        "from pyspark.sql import Window\n",
        "\n",
        "\n",
        "windSpec = Window()\\\n",
        "    .partitionBy('Country')\\\n",
        "    .orderBy('Amount')"
      ]
    },
    {
      "cell_type": "code",
      "execution_count": null,
      "metadata": {
        "colab": {
          "base_uri": "https://localhost:8080/"
        },
        "id": "CEqx_w6X_8xt",
        "outputId": "0c962cc3-5ab9-4454-cc0c-48ea23ea9da3"
      },
      "outputs": [
        {
          "data": {
            "text/plain": [
              "<pyspark.sql.window.WindowSpec at 0x7f3ab67360d0>"
            ]
          },
          "execution_count": 9,
          "metadata": {},
          "output_type": "execute_result"
        }
      ],
      "source": [
        "windSpec"
      ]
    },
    {
      "cell_type": "markdown",
      "metadata": {
        "id": "51PJlnoyd7cF"
      },
      "source": [
        "## Ранжирующие функции"
      ]
    },
    {
      "cell_type": "code",
      "execution_count": null,
      "metadata": {
        "colab": {
          "base_uri": "https://localhost:8080/"
        },
        "id": "I-08lCv0dhnV",
        "outputId": "662ec8db-6be6-43fc-e023-78ee93417d47"
      },
      "outputs": [
        {
          "name": "stdout",
          "output_type": "stream",
          "text": [
            "+-------+------+-------+---+\n",
            "|Product|Amount|Country| rn|\n",
            "+-------+------+-------+---+\n",
            "| Banana|  2000| Canada|  1|\n",
            "|Carrots|  2000| Canada|  2|\n",
            "| Banana|   400|  China|  1|\n",
            "|Carrots|  1200|  China|  2|\n",
            "|  Beans|  1500|  China|  3|\n",
            "| Orange|  4000|  China|  4|\n",
            "|  Beans|  2000| Mexico|  1|\n",
            "| Banana|  1000|    USA|  1|\n",
            "|Carrots|  1500|    USA|  2|\n",
            "|  Beans|  1600|    USA|  3|\n",
            "| Orange|  2000|    USA|  4|\n",
            "| Orange|  2000|    USA|  5|\n",
            "+-------+------+-------+---+\n",
            "\n"
          ]
        }
      ],
      "source": [
        "df.withColumn('rn', F.row_number().over(windSpec)).show()"
      ]
    },
    {
      "cell_type": "markdown",
      "metadata": {
        "id": "ULwvkH1mfXfu"
      },
      "source": [
        "## Аналитические функции"
      ]
    },
    {
      "cell_type": "code",
      "execution_count": null,
      "metadata": {
        "colab": {
          "base_uri": "https://localhost:8080/"
        },
        "id": "Q0HvY3Mod3RU",
        "outputId": "ea7c5fb4-a3f3-4978-a10f-0d96d3c66ff9"
      },
      "outputs": [
        {
          "name": "stdout",
          "output_type": "stream",
          "text": [
            "+-------+------+-------+-----+\n",
            "|Product|Amount|Country|ntile|\n",
            "+-------+------+-------+-----+\n",
            "| Banana|   400|  China|    1|\n",
            "| Banana|  1000|    USA|    2|\n",
            "| Banana|  2000| Canada|    3|\n",
            "|  Beans|  1500|  China|    1|\n",
            "|  Beans|  1600|    USA|    2|\n",
            "|  Beans|  2000| Mexico|    3|\n",
            "|Carrots|  1200|  China|    1|\n",
            "|Carrots|  1500|    USA|    2|\n",
            "|Carrots|  2000| Canada|    3|\n",
            "| Orange|  2000|    USA|    1|\n",
            "| Orange|  2000|    USA|    2|\n",
            "| Orange|  4000|  China|    3|\n",
            "+-------+------+-------+-----+\n",
            "\n"
          ]
        }
      ],
      "source": [
        "windSpec = Window()\\\n",
        "    .partitionBy('Product')\\\n",
        "    .orderBy('Amount')\n",
        "\n",
        "df.withColumn('ntile', F.ntile(4).over(windSpec)).show()"
      ]
    },
    {
      "cell_type": "markdown",
      "metadata": {
        "id": "YZvCd8XDfvp1"
      },
      "source": [
        "## Функции сдвига"
      ]
    },
    {
      "cell_type": "code",
      "execution_count": null,
      "metadata": {
        "colab": {
          "background_save": true,
          "base_uri": "https://localhost:8080/"
        },
        "id": "JZID0qsBfngz",
        "outputId": "1fa4ef20-c306-471f-c588-5e625fbf985f"
      },
      "outputs": [
        {
          "name": "stdout",
          "output_type": "stream",
          "text": [
            "+-------+------+-------+-------+\n",
            "|Product|Amount|Country|    lag|\n",
            "+-------+------+-------+-------+\n",
            "| Banana|  2000| Canada|   null|\n",
            "|Carrots|  2000| Canada| Banana|\n",
            "| Banana|   400|  China|   null|\n",
            "|Carrots|  1200|  China| Banana|\n",
            "|  Beans|  1500|  China|Carrots|\n",
            "| Orange|  4000|  China|  Beans|\n",
            "|  Beans|  2000| Mexico|   null|\n",
            "| Banana|  1000|    USA|   null|\n",
            "|Carrots|  1500|    USA| Banana|\n",
            "|  Beans|  1600|    USA|Carrots|\n",
            "| Orange|  2000|    USA|  Beans|\n",
            "| Orange|  2000|    USA| Orange|\n",
            "+-------+------+-------+-------+\n",
            "\n"
          ]
        }
      ],
      "source": [
        "windSpec = Window()\\\n",
        "    .partitionBy('Country')\\\n",
        "    .orderBy('Amount')\\\n",
        "    .rowsBetween(Window.unboundedPreceding, Window.currentRow - 1)\n",
        "\n",
        "df.withColumn('lag', F.last('Product').over(windSpec)).show()"
      ]
    },
    {
      "cell_type": "markdown",
      "metadata": {
        "id": "adWy1Vg9hhDn"
      },
      "source": [
        "## агрегатные функции"
      ]
    },
    {
      "cell_type": "code",
      "execution_count": null,
      "metadata": {
        "colab": {
          "base_uri": "https://localhost:8080/"
        },
        "id": "LdN1MsFtf3Ek",
        "outputId": "a035c138-9310-4c9f-ae5a-79cb34ae7f25"
      },
      "outputs": [
        {
          "name": "stdout",
          "output_type": "stream",
          "text": [
            "+-------+------+-------+------+\n",
            "|Product|Amount|Country|   avg|\n",
            "+-------+------+-------+------+\n",
            "| Banana|  2000| Canada|  null|\n",
            "|Carrots|  2000| Canada|2000.0|\n",
            "| Banana|   400|  China|  null|\n",
            "|  Beans|  1500|  China| 400.0|\n",
            "|Carrots|  1200|  China| 950.0|\n",
            "| Orange|  4000|  China|1350.0|\n",
            "|  Beans|  2000| Mexico|  null|\n",
            "| Banana|  1000|    USA|  null|\n",
            "|  Beans|  1600|    USA|1000.0|\n",
            "|Carrots|  1500|    USA|1300.0|\n",
            "| Orange|  2000|    USA|1550.0|\n",
            "| Orange|  2000|    USA|1750.0|\n",
            "+-------+------+-------+------+\n",
            "\n"
          ]
        }
      ],
      "source": [
        "windSpec = Window()\\\n",
        "    .partitionBy('Country')\\\n",
        "    .orderBy('Product')\\\n",
        "    .rowsBetween(Window.currentRow - 2, Window.currentRow - 1)\n",
        "\n",
        "df.withColumn('avg', F.avg('Amount').over(windSpec)).show()"
      ]
    },
    {
      "cell_type": "markdown",
      "metadata": {
        "id": "_6JaG1obia4G"
      },
      "source": [
        "# UDF"
      ]
    },
    {
      "cell_type": "code",
      "execution_count": null,
      "metadata": {
        "colab": {
          "base_uri": "https://localhost:8080/",
          "height": 36
        },
        "id": "ufWZU0cvDgE2",
        "outputId": "f1d2ce33-b7fc-42c3-ed0a-346bec44c38e"
      },
      "outputs": [
        {
          "data": {
            "application/vnd.google.colaboratory.intrinsic+json": {
              "type": "string"
            },
            "text/plain": [
              "'A'"
            ]
          },
          "execution_count": 28,
          "metadata": {},
          "output_type": "execute_result"
        }
      ],
      "source": [
        "f('a')"
      ]
    },
    {
      "cell_type": "code",
      "execution_count": null,
      "metadata": {
        "id": "NBHlpVg6EYJ_"
      },
      "outputs": [],
      "source": [
        "@F.udf(returnType=StringType())\n",
        "def f(value):\n",
        "    return value.upper()"
      ]
    },
    {
      "cell_type": "code",
      "execution_count": null,
      "metadata": {
        "id": "0Gc-nSlbEg2d"
      },
      "outputs": [],
      "source": [
        "def f(value):\n",
        "    return value.upper()\n",
        "\n",
        "f = F.udf(f, returnType=StringType())"
      ]
    },
    {
      "cell_type": "code",
      "execution_count": null,
      "metadata": {
        "colab": {
          "base_uri": "https://localhost:8080/"
        },
        "id": "IZZuQjbmDG2M",
        "outputId": "bf26631f-41ae-435f-e181-2e6daaa74e7c"
      },
      "outputs": [
        {
          "name": "stdout",
          "output_type": "stream",
          "text": [
            "+-------+------+-------+------+\n",
            "|Product|Amount|Country| value|\n",
            "+-------+------+-------+------+\n",
            "| Banana|  1000|    USA|   USA|\n",
            "|Carrots|  1500|    USA|   USA|\n",
            "|  Beans|  1600|    USA|   USA|\n",
            "| Orange|  2000|    USA|   USA|\n",
            "| Orange|  2000|    USA|   USA|\n",
            "| Banana|   400|  China| CHINA|\n",
            "|Carrots|  1200|  China| CHINA|\n",
            "|  Beans|  1500|  China| CHINA|\n",
            "| Orange|  4000|  China| CHINA|\n",
            "| Banana|  2000| Canada|CANADA|\n",
            "|Carrots|  2000| Canada|CANADA|\n",
            "|  Beans|  2000| Mexico|MEXICO|\n",
            "+-------+------+-------+------+\n",
            "\n"
          ]
        }
      ],
      "source": [
        "df.withColumn('value', f(df.Country)).show()"
      ]
    },
    {
      "cell_type": "code",
      "execution_count": null,
      "metadata": {
        "colab": {
          "base_uri": "https://localhost:8080/"
        },
        "id": "5R-IwQT7E7PS",
        "outputId": "93a4b661-f479-4a81-e2d1-0d60a892902c"
      },
      "outputs": [
        {
          "name": "stdout",
          "output_type": "stream",
          "text": [
            "+-------+------+-------+------------+\n",
            "|Product|Amount|Country|       value|\n",
            "+-------+------+-------+------------+\n",
            "| Banana|  1000|    USA|[1000, 1000]|\n",
            "|Carrots|  1500|    USA|[1500, 1500]|\n",
            "|  Beans|  1600|    USA|[1600, 1600]|\n",
            "| Orange|  2000|    USA|[2000, 2000]|\n",
            "| Orange|  2000|    USA|[2000, 2000]|\n",
            "| Banana|   400|  China|  [400, 400]|\n",
            "|Carrots|  1200|  China|[1200, 1200]|\n",
            "|  Beans|  1500|  China|[1500, 1500]|\n",
            "| Orange|  4000|  China|[4000, 4000]|\n",
            "| Banana|  2000| Canada|[2000, 2000]|\n",
            "|Carrots|  2000| Canada|[2000, 2000]|\n",
            "|  Beans|  2000| Mexico|[2000, 2000]|\n",
            "+-------+------+-------+------------+\n",
            "\n"
          ]
        }
      ],
      "source": [
        "df.withColumn('value', F.array(df.Amount, df.Amount)).show()"
      ]
    },
    {
      "cell_type": "code",
      "execution_count": null,
      "metadata": {
        "colab": {
          "base_uri": "https://localhost:8080/"
        },
        "id": "21fCotFciUQN",
        "outputId": "38a89a0d-1d9c-4658-9492-0c0233724af5"
      },
      "outputs": [
        {
          "name": "stdout",
          "output_type": "stream",
          "text": [
            "+-------+------+-------+-----------------+\n",
            "|Product|Amount|Country|            value|\n",
            "+-------+------+-------+-----------------+\n",
            "| Banana|  1000|    USA|[null, null, 1.0]|\n",
            "|Carrots|  1500|    USA|[null, null, 1.0]|\n",
            "|  Beans|  1600|    USA|[null, null, 1.0]|\n",
            "| Orange|  2000|    USA|[null, null, 1.0]|\n",
            "| Orange|  2000|    USA|[null, null, 1.0]|\n",
            "| Banana|   400|  China|[null, null, 1.0]|\n",
            "|Carrots|  1200|  China|[null, null, 1.0]|\n",
            "|  Beans|  1500|  China|[null, null, 1.0]|\n",
            "| Orange|  4000|  China|[null, null, 1.0]|\n",
            "| Banana|  2000| Canada|[null, null, 1.0]|\n",
            "|Carrots|  2000| Canada|[null, null, 1.0]|\n",
            "|  Beans|  2000| Mexico|[null, null, 1.0]|\n",
            "+-------+------+-------+-----------------+\n",
            "\n"
          ]
        }
      ],
      "source": [
        "def f(value):\n",
        "    return value + [1.]\n",
        "\n",
        "udf_f = F.udf(f, returnType=ArrayType(FloatType()))\n",
        "\n",
        "df.withColumn('value', udf_f(F.array(df.Amount, df.Amount))).show()"
      ]
    },
    {
      "cell_type": "code",
      "execution_count": null,
      "metadata": {
        "id": "9bhcY-TgE7Cd"
      },
      "outputs": [],
      "source": [
        "import pandas as pd"
      ]
    },
    {
      "cell_type": "code",
      "execution_count": null,
      "metadata": {
        "id": "bcw89vHji_LH"
      },
      "outputs": [],
      "source": [
        "#PyArrow\n",
        "spark.conf.set('sql.execution.arrow.pyspark.enable','true')"
      ]
    },
    {
      "cell_type": "code",
      "execution_count": null,
      "metadata": {
        "colab": {
          "base_uri": "https://localhost:8080/"
        },
        "id": "OMf6wWbrkz3_",
        "outputId": "13b341fc-11aa-4091-82f5-7c26954cd6e6"
      },
      "outputs": [
        {
          "name": "stdout",
          "output_type": "stream",
          "text": [
            "1 loop, best of 5: 26.2 s per loop\n"
          ]
        }
      ],
      "source": [
        "%timeit spark.createDataFrame(pd.DataFrame({'a': range(1000000)})).toPandas()"
      ]
    },
    {
      "cell_type": "code",
      "execution_count": null,
      "metadata": {
        "id": "lJwhJTMtk4x-"
      },
      "outputs": [],
      "source": [
        "#PyArrow\n",
        "spark.conf.set('sql.execution.arrow.pyspark.enable','false')"
      ]
    },
    {
      "cell_type": "code",
      "execution_count": null,
      "metadata": {
        "colab": {
          "base_uri": "https://localhost:8080/"
        },
        "id": "5AifF9z4k746",
        "outputId": "a0d7b7c6-fce2-4c6d-b411-701916069ece"
      },
      "outputs": [
        {
          "name": "stdout",
          "output_type": "stream",
          "text": [
            "1 loop, best of 5: 26 s per loop\n"
          ]
        }
      ],
      "source": [
        "%timeit spark.createDataFrame(pd.DataFrame({'a': range(1000000)})).toPandas()"
      ]
    },
    {
      "cell_type": "code",
      "execution_count": null,
      "metadata": {
        "id": "h73yVDSSHrVL"
      },
      "outputs": [],
      "source": [
        "sql.functions\n",
        "pandas_udf\n",
        "rdd.mapInPartitions\n",
        "udf"
      ]
    }
  ],
  "metadata": {
    "colab": {
      "provenance": []
    },
    "kernelspec": {
      "display_name": "Python 3",
      "name": "python3"
    }
  },
  "nbformat": 4,
  "nbformat_minor": 0
}