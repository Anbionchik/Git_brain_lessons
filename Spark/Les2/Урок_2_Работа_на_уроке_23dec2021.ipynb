{
  "nbformat": 4,
  "nbformat_minor": 0,
  "metadata": {
    "colab": {
      "provenance": []
    },
    "kernelspec": {
      "name": "python3",
      "display_name": "Python 3"
    },
    "language_info": {
      "name": "python"
    }
  },
  "cells": [
    {
      "cell_type": "code",
      "metadata": {
        "colab": {
          "base_uri": "https://localhost:8080/"
        },
        "id": "Bw6j_VUA2qyA",
        "outputId": "d6d75cb0-0b4c-474b-ae1e-8f49a04c59a8"
      },
      "source": [
        "!pip install pyspark"
      ],
      "execution_count": null,
      "outputs": [
        {
          "output_type": "stream",
          "name": "stdout",
          "text": [
            "Collecting pyspark\n",
            "  Downloading pyspark-3.2.0.tar.gz (281.3 MB)\n",
            "\u001b[K     |████████████████████████████████| 281.3 MB 39 kB/s \n",
            "\u001b[?25hCollecting py4j==0.10.9.2\n",
            "  Downloading py4j-0.10.9.2-py2.py3-none-any.whl (198 kB)\n",
            "\u001b[K     |████████████████████████████████| 198 kB 49.3 MB/s \n",
            "\u001b[?25hBuilding wheels for collected packages: pyspark\n",
            "  Building wheel for pyspark (setup.py) ... \u001b[?25l\u001b[?25hdone\n",
            "  Created wheel for pyspark: filename=pyspark-3.2.0-py2.py3-none-any.whl size=281805912 sha256=8c35e7417853bf6f2a42574b6f0dbaa6c4978d14a62b02b54c24bda967b77f89\n",
            "  Stored in directory: /root/.cache/pip/wheels/0b/de/d2/9be5d59d7331c6c2a7c1b6d1a4f463ce107332b1ecd4e80718\n",
            "Successfully built pyspark\n",
            "Installing collected packages: py4j, pyspark\n",
            "Successfully installed py4j-0.10.9.2 pyspark-3.2.0\n"
          ]
        }
      ]
    },
    {
      "cell_type": "markdown",
      "metadata": {
        "id": "iEDgw8IxGOBV"
      },
      "source": [
        "# Узнаем кол-во потоков"
      ]
    },
    {
      "cell_type": "code",
      "metadata": {
        "colab": {
          "base_uri": "https://localhost:8080/"
        },
        "id": "vkkOsRvDF4vV",
        "outputId": "7538a57c-43e8-45ae-9e43-197157195204"
      },
      "source": [
        "!lscpu"
      ],
      "execution_count": null,
      "outputs": [
        {
          "output_type": "stream",
          "name": "stdout",
          "text": [
            "Architecture:        x86_64\n",
            "CPU op-mode(s):      32-bit, 64-bit\n",
            "Byte Order:          Little Endian\n",
            "CPU(s):              2\n",
            "On-line CPU(s) list: 0,1\n",
            "Thread(s) per core:  2\n",
            "Core(s) per socket:  1\n",
            "Socket(s):           1\n",
            "NUMA node(s):        1\n",
            "Vendor ID:           GenuineIntel\n",
            "CPU family:          6\n",
            "Model:               79\n",
            "Model name:          Intel(R) Xeon(R) CPU @ 2.20GHz\n",
            "Stepping:            0\n",
            "CPU MHz:             2199.998\n",
            "BogoMIPS:            4399.99\n",
            "Hypervisor vendor:   KVM\n",
            "Virtualization type: full\n",
            "L1d cache:           32K\n",
            "L1i cache:           32K\n",
            "L2 cache:            256K\n",
            "L3 cache:            56320K\n",
            "NUMA node0 CPU(s):   0,1\n",
            "Flags:               fpu vme de pse tsc msr pae mce cx8 apic sep mtrr pge mca cmov pat pse36 clflush mmx fxsr sse sse2 ss ht syscall nx pdpe1gb rdtscp lm constant_tsc rep_good nopl xtopology nonstop_tsc cpuid tsc_known_freq pni pclmulqdq ssse3 fma cx16 pcid sse4_1 sse4_2 x2apic movbe popcnt aes xsave avx f16c rdrand hypervisor lahf_lm abm 3dnowprefetch invpcid_single ssbd ibrs ibpb stibp fsgsbase tsc_adjust bmi1 hle avx2 smep bmi2 erms invpcid rtm rdseed adx smap xsaveopt arat md_clear arch_capabilities\n"
          ]
        }
      ]
    },
    {
      "cell_type": "markdown",
      "metadata": {
        "id": "VvQjP37HKTHi"
      },
      "source": [
        "# Настройка SparkSession\n",
        "Основные параметры:\n",
        "\n",
        " * -num-executors (spark.executor.instances) — количество экзекьютеров, \n",
        " * --executor-memory (spark.executor.memory) — количество памяти у экзекьютера,\n",
        " * --execuor-cores (park.executor.cores) — количество ядер у экзекьютера.\n",
        "\n",
        "На каждом сервере исполняется ОС, Hadoop/Yarn/OS Deamons, HDFS. Часть ресурсов потребляют они. HDFS (и другие файловые системы) имеют свою пропускную способность. Так же нужно учитывать сборщик мусора.\n",
        "\n",
        "Есть две крайности: 1 ядро - 1 таск, 1 нода - 1 таск. Чаще всего оба варианта не самые удачные.\n",
        "\n",
        "Рекомендация: не больше 5 ядер на 1 экзекьютор из-за пропуской способности HDFS."
      ]
    },
    {
      "cell_type": "code",
      "source": [
        "62 / ((16 - 1) / 3) / 1.1"
      ],
      "metadata": {
        "colab": {
          "base_uri": "https://localhost:8080/"
        },
        "id": "TCubfN97Y-Tt",
        "outputId": "51a52c5e-f731-4744-d24c-7a4fcfbd8756"
      },
      "execution_count": null,
      "outputs": [
        {
          "output_type": "execute_result",
          "data": {
            "text/plain": [
              "11.272727272727272"
            ]
          },
          "metadata": {},
          "execution_count": 5
        }
      ]
    },
    {
      "cell_type": "markdown",
      "metadata": {
        "id": "okNt5RoBLOUq"
      },
      "source": [
        "## executor-memory\n",
        "![Image of Yaktocat](https://miro.medium.com/max/1400/1*8yviZQXq9rXgBoup8W-kHA.png)"
      ]
    },
    {
      "cell_type": "code",
      "metadata": {
        "id": "idrMQH4dj605"
      },
      "source": [
        "from pyspark.sql import SparkSession\n",
        "\n",
        "spark = SparkSession.builder\\\n",
        "        .master('local[2]')\\\n",
        "        .appName('Lesson_2')\\\n",
        "        .config('spark.ui.port', '4050')\\\n",
        "        .config('spark.executor.instances', 2)\\\n",
        "        .config('spark.executor.memory', f'{int(120000 / 2 /1.1)}mb')\\\n",
        "        .config('spark.executor.cores', 1)\\\n",
        "        .getOrCreate()\n",
        "\n",
        "sc = spark.sparkContext"
      ],
      "execution_count": null,
      "outputs": []
    },
    {
      "cell_type": "code",
      "metadata": {
        "colab": {
          "base_uri": "https://localhost:8080/",
          "height": 222
        },
        "id": "ZfhfV3EWHzqB",
        "outputId": "60686520-5819-4cc0-abc1-f600bcbc1f0e"
      },
      "source": [
        "spark"
      ],
      "execution_count": null,
      "outputs": [
        {
          "output_type": "execute_result",
          "data": {
            "text/html": [
              "\n",
              "            <div>\n",
              "                <p><b>SparkSession - in-memory</b></p>\n",
              "                \n",
              "        <div>\n",
              "            <p><b>SparkContext</b></p>\n",
              "\n",
              "            <p><a href=\"http://ab582dad1906:4050\">Spark UI</a></p>\n",
              "\n",
              "            <dl>\n",
              "              <dt>Version</dt>\n",
              "                <dd><code>v3.2.0</code></dd>\n",
              "              <dt>Master</dt>\n",
              "                <dd><code>local[2]</code></dd>\n",
              "              <dt>AppName</dt>\n",
              "                <dd><code>Lesson_2</code></dd>\n",
              "            </dl>\n",
              "        </div>\n",
              "        \n",
              "            </div>\n",
              "        "
            ],
            "text/plain": [
              "<pyspark.sql.session.SparkSession at 0x7f18175cef50>"
            ]
          },
          "metadata": {},
          "execution_count": 7
        }
      ]
    },
    {
      "cell_type": "markdown",
      "metadata": {
        "id": "JS3CkwetBxfz"
      },
      "source": [
        "# Пример из презентации"
      ]
    },
    {
      "cell_type": "code",
      "source": [
        "rdd = sc.parallelize(['After all is', 'said and', 'done more is', 'said than done'])"
      ],
      "metadata": {
        "id": "VQnJd8qla8Kb"
      },
      "execution_count": null,
      "outputs": []
    },
    {
      "cell_type": "code",
      "source": [
        "def lower(row):\n",
        "    return row.upper()\n",
        "\n",
        "def lower(element1, element2):\n",
        "    return element1 + element2\n",
        "\n",
        "lower = lambda row: row.lower()\n",
        "\n",
        "2\n",
        "\n",
        "rdd.map(lambda row: row.lower()).collect()"
      ],
      "metadata": {
        "colab": {
          "base_uri": "https://localhost:8080/"
        },
        "id": "DUDRmsulfL5j",
        "outputId": "eeaadc56-d20e-4536-b53c-fb97f3834ee4"
      },
      "execution_count": null,
      "outputs": [
        {
          "output_type": "execute_result",
          "data": {
            "text/plain": [
              "['after all is', 'said and', 'done more is', 'said than done']"
            ]
          },
          "metadata": {},
          "execution_count": 10
        }
      ]
    },
    {
      "cell_type": "code",
      "source": [
        "rdd.take(1)"
      ],
      "metadata": {
        "colab": {
          "base_uri": "https://localhost:8080/"
        },
        "id": "IynF5FmrbAy8",
        "outputId": "740601e5-f929-4e45-8359-5683e36b0dad"
      },
      "execution_count": null,
      "outputs": [
        {
          "output_type": "execute_result",
          "data": {
            "text/plain": [
              "['After all is']"
            ]
          },
          "metadata": {},
          "execution_count": 11
        }
      ]
    },
    {
      "cell_type": "code",
      "metadata": {
        "colab": {
          "base_uri": "https://localhost:8080/"
        },
        "id": "cplO_s7cB0YO",
        "outputId": "6d6b5056-e366-4d2b-abc7-c45af8fb6a33"
      },
      "source": [
        "rdd = sc.parallelize(['After all is', 'said and', 'done more is', 'said than done'])\n",
        "print(f'Кол-во партиций: {rdd.getNumPartitions()}')"
      ],
      "execution_count": null,
      "outputs": [
        {
          "output_type": "stream",
          "name": "stdout",
          "text": [
            "Кол-во партиций: 2\n"
          ]
        }
      ]
    },
    {
      "cell_type": "code",
      "metadata": {
        "colab": {
          "base_uri": "https://localhost:8080/"
        },
        "id": "WiaXyGiChwLr",
        "outputId": "cb58456b-ecd0-4c50-b261-28470c98fa9c"
      },
      "source": [
        "rdd.take(3)"
      ],
      "execution_count": null,
      "outputs": [
        {
          "output_type": "execute_result",
          "data": {
            "text/plain": [
              "['After all is', 'said and', 'done more is']"
            ]
          },
          "metadata": {},
          "execution_count": 13
        }
      ]
    },
    {
      "cell_type": "code",
      "metadata": {
        "colab": {
          "base_uri": "https://localhost:8080/"
        },
        "id": "gZF-fHk6CYxa",
        "outputId": "5ad390e3-e9c3-45dc-d4bd-1791fbd1c576"
      },
      "source": [
        "rdd.glom().collect()"
      ],
      "execution_count": null,
      "outputs": [
        {
          "output_type": "execute_result",
          "data": {
            "text/plain": [
              "[['After all is', 'said and'], ['done more is', 'said than done']]"
            ]
          },
          "metadata": {},
          "execution_count": 14
        }
      ]
    },
    {
      "cell_type": "code",
      "metadata": {
        "colab": {
          "base_uri": "https://localhost:8080/"
        },
        "id": "NQMsNL-8Gj_X",
        "outputId": "feb8e17e-57ef-4b54-c5db-5323269fad42"
      },
      "source": [
        "rdd.flatMap(lambda row: row.split(' ')).glom().collect()"
      ],
      "execution_count": null,
      "outputs": [
        {
          "output_type": "execute_result",
          "data": {
            "text/plain": [
              "[['After', 'all', 'is', 'said', 'and'],\n",
              " ['done', 'more', 'is', 'said', 'than', 'done']]"
            ]
          },
          "metadata": {},
          "execution_count": 15
        }
      ]
    },
    {
      "cell_type": "code",
      "metadata": {
        "colab": {
          "base_uri": "https://localhost:8080/"
        },
        "id": "P9xMRWYzG4No",
        "outputId": "f0455d9c-3e8c-4f07-dd17-028914e71424"
      },
      "source": [
        "rdd.flatMap(lambda row: row.split(' ')).map(lambda word: (word, 1)).collect()"
      ],
      "execution_count": null,
      "outputs": [
        {
          "output_type": "execute_result",
          "data": {
            "text/plain": [
              "[('After', 1),\n",
              " ('all', 1),\n",
              " ('is', 1),\n",
              " ('said', 1),\n",
              " ('and', 1),\n",
              " ('done', 1),\n",
              " ('more', 1),\n",
              " ('is', 1),\n",
              " ('said', 1),\n",
              " ('than', 1),\n",
              " ('done', 1)]"
            ]
          },
          "metadata": {},
          "execution_count": 16
        }
      ]
    },
    {
      "cell_type": "code",
      "metadata": {
        "colab": {
          "base_uri": "https://localhost:8080/"
        },
        "id": "LoSR4Bw6HBA6",
        "outputId": "50bfb00b-cc79-41d3-fd76-0be97a383d9d"
      },
      "source": [
        "rdd.flatMap(lambda row: row.split(' '))\\\n",
        ".map(lambda word: (word, 1))\\\n",
        ".reduceByKey(lambda x, y: x + y).sortBy(lambda x: x[1], ascending=False).collect()"
      ],
      "execution_count": null,
      "outputs": [
        {
          "output_type": "execute_result",
          "data": {
            "text/plain": [
              "[('is', 2),\n",
              " ('said', 2),\n",
              " ('done', 2),\n",
              " ('more', 1),\n",
              " ('than', 1),\n",
              " ('After', 1),\n",
              " ('all', 1),\n",
              " ('and', 1)]"
            ]
          },
          "metadata": {},
          "execution_count": 17
        }
      ]
    },
    {
      "cell_type": "code",
      "metadata": {
        "id": "sWx1aBEMjXC0"
      },
      "source": [
        "a = rdd.flatMap(lambda row: row.split(' ')).map(lambda word: (word, 1)).reduceByKey(lambda x, y: x + y)"
      ],
      "execution_count": null,
      "outputs": []
    },
    {
      "cell_type": "code",
      "metadata": {
        "colab": {
          "base_uri": "https://localhost:8080/"
        },
        "id": "n2HVhd1-jdbY",
        "outputId": "a53fab67-9f60-48e9-8aa1-f6194392ee4d"
      },
      "source": [
        "a.take(1)"
      ],
      "execution_count": null,
      "outputs": [
        {
          "output_type": "execute_result",
          "data": {
            "text/plain": [
              "[('is', 2)]"
            ]
          },
          "metadata": {},
          "execution_count": 19
        }
      ]
    },
    {
      "cell_type": "markdown",
      "metadata": {
        "id": "wTp8Zijl3t0T"
      },
      "source": [
        "# Примеры RDD\n",
        "\n",
        " * In-Memory Processing\n",
        " * Immutability\n",
        " * Fault Tolerance\n",
        " * Lazy Evolution\n",
        " * Partitioning\n",
        " * Parallelize"
      ]
    },
    {
      "cell_type": "markdown",
      "metadata": {
        "id": "FjAfrNtXSKBz"
      },
      "source": [
        "## Считывание данных\n",
        "Данные взяты отсюда: https://www.kaggle.com/iabhishekofficial/mobile-price-classification\n",
        "Скачиваем и копируем в папку с нотебуком\n",
        "\n",
        "Внутри содержится следующая информация:\n",
        "\n",
        "* id: ID\n",
        "* battery_power: Total energy a battery can store in one time (mAh)\n",
        "* blue: Support bluetooth or not\n",
        "* clock_speed: Speed at which microprocessor executes instructions\n",
        "* dual_sim: Support dual sim or not\n",
        "* fc: Front Camera mega pixels\n",
        "* four_g: Support 4G or not\n",
        "* int_memory: Internal Memory (GB)\n",
        "* m_dep: Mobile Depth (cm)\n",
        "* mobile_wt: Weight of mobile phone\n",
        "* n_cores: Number of cores of processor\n",
        "* pc: Primary Camera mega pixels\n",
        "* px_height: Pixel Resolution Height\n",
        "* px_width: Pixel Resolution Width\n",
        "* ram: Random Access Memory (MB)\n",
        "* sc_h: Screen Height of mobile (cm)\n",
        "* sc_w: Screen Width of mobile (cm)\n",
        "* talk_time: Time that a single battery charge will last\n",
        "* three_g: Support 3G or not\n",
        "* touch_screen: Has touch screen or not\n",
        "* wifi: Support wifi or not"
      ]
    },
    {
      "cell_type": "code",
      "metadata": {
        "id": "SJrR2EoKR4rC"
      },
      "source": [
        "# Вспомогательная функция\n",
        "\n",
        "def beautiful_print(rdd, num, title):\n",
        "    print(title)\n",
        "    for row in rdd.take(num):\n",
        "        print('\\t', row)"
      ],
      "execution_count": null,
      "outputs": []
    },
    {
      "cell_type": "code",
      "metadata": {
        "id": "3VyKjYOSkLlp"
      },
      "source": [
        "data = sc.textFile('/content/train.csv')"
      ],
      "execution_count": null,
      "outputs": []
    },
    {
      "cell_type": "code",
      "metadata": {
        "id": "QKCMFiVenNia",
        "colab": {
          "base_uri": "https://localhost:8080/"
        },
        "outputId": "4cae142c-e62e-4767-d13d-d6c9a518f48e"
      },
      "source": [
        "data.take(3)"
      ],
      "execution_count": null,
      "outputs": [
        {
          "output_type": "execute_result",
          "data": {
            "text/plain": [
              "['battery_power,blue,clock_speed,dual_sim,fc,four_g,int_memory,m_dep,mobile_wt,n_cores,pc,px_height,px_width,ram,sc_h,sc_w,talk_time,three_g,touch_screen,wifi,price_range',\n",
              " '842,0,2.2,0,1,0,7,0.6,188,2,2,20,756,2549,9,7,19,0,0,1,1',\n",
              " '1021,1,0.5,1,0,1,53,0.7,136,3,6,905,1988,2631,17,3,7,1,1,0,2']"
            ]
          },
          "metadata": {
            "tags": []
          },
          "execution_count": 39
        }
      ]
    },
    {
      "cell_type": "code",
      "metadata": {
        "colab": {
          "base_uri": "https://localhost:8080/",
          "height": 37
        },
        "id": "0_wvtge1DtFd",
        "outputId": "93da9ad1-fd62-4031-88a2-43669deafdfa"
      },
      "source": [
        "data_header = data.first()\n",
        "data_header"
      ],
      "execution_count": null,
      "outputs": [
        {
          "output_type": "execute_result",
          "data": {
            "application/vnd.google.colaboratory.intrinsic+json": {
              "type": "string"
            },
            "text/plain": [
              "'battery_power,blue,clock_speed,dual_sim,fc,four_g,int_memory,m_dep,mobile_wt,n_cores,pc,px_height,px_width,ram,sc_h,sc_w,talk_time,three_g,touch_screen,wifi,price_range'"
            ]
          },
          "metadata": {
            "tags": []
          },
          "execution_count": 40
        }
      ]
    },
    {
      "cell_type": "code",
      "metadata": {
        "colab": {
          "base_uri": "https://localhost:8080/"
        },
        "id": "pbe3eVLhD9hC",
        "outputId": "49d26f5a-de49-41fe-d72b-854cf3652ad0"
      },
      "source": [
        "data = data.filter(lambda row: row != data_header)\n",
        "data.take(3)"
      ],
      "execution_count": null,
      "outputs": [
        {
          "output_type": "execute_result",
          "data": {
            "text/plain": [
              "['842,0,2.2,0,1,0,7,0.6,188,2,2,20,756,2549,9,7,19,0,0,1,1',\n",
              " '1021,1,0.5,1,0,1,53,0.7,136,3,6,905,1988,2631,17,3,7,1,1,0,2',\n",
              " '563,1,0.5,1,2,1,41,0.9,145,5,6,1263,1716,2603,11,2,9,1,1,0,2']"
            ]
          },
          "metadata": {
            "tags": []
          },
          "execution_count": 41
        }
      ]
    },
    {
      "cell_type": "code",
      "metadata": {
        "colab": {
          "base_uri": "https://localhost:8080/"
        },
        "id": "tegHZurfEOAS",
        "outputId": "8e42d6c4-e062-4266-f38f-2567acdf5952"
      },
      "source": [
        "data = data.map(lambda row: row.split(','))\n",
        "beautiful_print(data, 3, 'Splitted:')"
      ],
      "execution_count": null,
      "outputs": [
        {
          "output_type": "stream",
          "text": [
            "Splitted:\n",
            "\t ['842', '0', '2.2', '0', '1', '0', '7', '0.6', '188', '2', '2', '20', '756', '2549', '9', '7', '19', '0', '0', '1', '1']\n",
            "\t ['1021', '1', '0.5', '1', '0', '1', '53', '0.7', '136', '3', '6', '905', '1988', '2631', '17', '3', '7', '1', '1', '0', '2']\n",
            "\t ['563', '1', '0.5', '1', '2', '1', '41', '0.9', '145', '5', '6', '1263', '1716', '2603', '11', '2', '9', '1', '1', '0', '2']\n"
          ],
          "name": "stdout"
        }
      ]
    },
    {
      "cell_type": "code",
      "metadata": {
        "colab": {
          "base_uri": "https://localhost:8080/"
        },
        "id": "KyEq_elyEbIo",
        "outputId": "0a0215f8-6ffe-4180-ff6e-0e5f93f13ebd"
      },
      "source": [
        "data = data.map(lambda row: [float(el) for el in row])\n",
        "beautiful_print(data, 3, 'Float:')"
      ],
      "execution_count": null,
      "outputs": [
        {
          "output_type": "stream",
          "text": [
            "Float:\n",
            "\t [842.0, 0.0, 2.2, 0.0, 1.0, 0.0, 7.0, 0.6, 188.0, 2.0, 2.0, 20.0, 756.0, 2549.0, 9.0, 7.0, 19.0, 0.0, 0.0, 1.0, 1.0]\n",
            "\t [1021.0, 1.0, 0.5, 1.0, 0.0, 1.0, 53.0, 0.7, 136.0, 3.0, 6.0, 905.0, 1988.0, 2631.0, 17.0, 3.0, 7.0, 1.0, 1.0, 0.0, 2.0]\n",
            "\t [563.0, 1.0, 0.5, 1.0, 2.0, 1.0, 41.0, 0.9, 145.0, 5.0, 6.0, 1263.0, 1716.0, 2603.0, 11.0, 2.0, 9.0, 1.0, 1.0, 0.0, 2.0]\n"
          ],
          "name": "stdout"
        }
      ]
    },
    {
      "cell_type": "code",
      "metadata": {
        "id": "HCbf33XoFJlt"
      },
      "source": [
        "col_num = [x[0] for x in enumerate(data_header.split(',')) if x[1] == 'ram'][0]"
      ],
      "execution_count": null,
      "outputs": []
    },
    {
      "cell_type": "code",
      "metadata": {
        "colab": {
          "base_uri": "https://localhost:8080/"
        },
        "id": "Mu4W6WMEFQn0",
        "outputId": "43b1ba53-68e3-4bad-b05b-5ab9097d6532"
      },
      "source": [
        "data.map(lambda row: (round(row[col_num] / 1024, 1), 1)).countByKey()"
      ],
      "execution_count": null,
      "outputs": [
        {
          "output_type": "execute_result",
          "data": {
            "text/plain": [
              "defaultdict(int,\n",
              "            {0.2: 1,\n",
              "             0.3: 57,\n",
              "             0.4: 51,\n",
              "             0.5: 56,\n",
              "             0.6: 65,\n",
              "             0.7: 56,\n",
              "             0.8: 51,\n",
              "             0.9: 49,\n",
              "             1.0: 51,\n",
              "             1.1: 44,\n",
              "             1.2: 66,\n",
              "             1.3: 61,\n",
              "             1.4: 67,\n",
              "             1.5: 36,\n",
              "             1.6: 59,\n",
              "             1.7: 48,\n",
              "             1.8: 57,\n",
              "             1.9: 41,\n",
              "             2.0: 61,\n",
              "             2.1: 55,\n",
              "             2.2: 55,\n",
              "             2.3: 76,\n",
              "             2.4: 52,\n",
              "             2.5: 61,\n",
              "             2.6: 59,\n",
              "             2.7: 49,\n",
              "             2.8: 45,\n",
              "             2.9: 53,\n",
              "             3.0: 45,\n",
              "             3.1: 54,\n",
              "             3.2: 57,\n",
              "             3.3: 49,\n",
              "             3.4: 53,\n",
              "             3.5: 59,\n",
              "             3.6: 56,\n",
              "             3.7: 53,\n",
              "             3.8: 63,\n",
              "             3.9: 29})"
            ]
          },
          "metadata": {
            "tags": []
          },
          "execution_count": 53
        }
      ]
    }
  ]
}