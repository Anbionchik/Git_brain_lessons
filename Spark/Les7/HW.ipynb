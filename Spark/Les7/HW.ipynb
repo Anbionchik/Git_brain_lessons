{
  "nbformat": 4,
  "nbformat_minor": 0,
  "metadata": {
    "colab": {
      "provenance": []
    },
    "kernelspec": {
      "name": "python3",
      "display_name": "Python 3"
    },
    "language_info": {
      "name": "python"
    }
  },
  "cells": [
    {
      "cell_type": "markdown",
      "metadata": {
        "id": "yS6iWrHV9Gcm"
      },
      "source": [
        "# Кредитный скоринг\n",
        "При принятии решения о выдаче кредита или займа учитывается т.н. «Кредитный скоринг» — рейтинг платежеспособности клиента. ИИ на основе модели, которую просчитывает машинное обучение — в ней много параметров — возраст, зарплата, кредитная история, наличие недвижимости, автомобиля, судимости и других признаков, после обработки которых выносится положительное или отрицательное решение"
      ]
    },
    {
      "cell_type": "code",
      "source": [
        "!pip install pyspark"
      ],
      "metadata": {
        "id": "Cjnqv0DLGJuj",
        "outputId": "102eb19a-b599-4e46-bd8b-992261a4c234",
        "colab": {
          "base_uri": "https://localhost:8080/"
        }
      },
      "execution_count": 1,
      "outputs": [
        {
          "output_type": "stream",
          "name": "stdout",
          "text": [
            "Looking in indexes: https://pypi.org/simple, https://us-python.pkg.dev/colab-wheels/public/simple/\n",
            "Collecting pyspark\n",
            "  Downloading pyspark-3.4.0.tar.gz (310.8 MB)\n",
            "\u001b[2K     \u001b[90m━━━━━━━━━━━━━━━━━━━━━━━━━━━━━━━━━━━━━━━\u001b[0m \u001b[32m310.8/310.8 MB\u001b[0m \u001b[31m3.1 MB/s\u001b[0m eta \u001b[36m0:00:00\u001b[0m\n",
            "\u001b[?25h  Preparing metadata (setup.py) ... \u001b[?25l\u001b[?25hdone\n",
            "Requirement already satisfied: py4j==0.10.9.7 in /usr/local/lib/python3.10/dist-packages (from pyspark) (0.10.9.7)\n",
            "Building wheels for collected packages: pyspark\n",
            "  Building wheel for pyspark (setup.py) ... \u001b[?25l\u001b[?25hdone\n",
            "  Created wheel for pyspark: filename=pyspark-3.4.0-py2.py3-none-any.whl size=311317130 sha256=f93669dfd0cb9ec9781cf3950d776ee584b7961b7093616f1035a7f90ce90afc\n",
            "  Stored in directory: /root/.cache/pip/wheels/7b/1b/4b/3363a1d04368e7ff0d408e57ff57966fcdf00583774e761327\n",
            "Successfully built pyspark\n",
            "Installing collected packages: pyspark\n",
            "Successfully installed pyspark-3.4.0\n"
          ]
        }
      ]
    },
    {
      "cell_type": "code",
      "source": [
        "\n",
        "from pyspark.sql import SparkSession\n",
        "\n",
        "\n",
        "spark = SparkSession.builder\\\n",
        "        .master(\"local[*]\")\\\n",
        "        .appName(\"Colab_pyspark\")\\\n",
        "        .config('spark.ui.port', '4050')\\\n",
        "        .config('spark.executor.memory', '3g')\\\n",
        "        .getOrCreate()\n",
        "        # .config('spark.sql.execution.arrow.enabled', 'true')\\\n",
        "        # .config('spark.\"Broadcastsizetable\"', '-1')\\\n",
        "        # .config('preferSortHashJoin', 'true')\\"
      ],
      "metadata": {
        "id": "Kdg_YrlJB3Pc"
      },
      "execution_count": 2,
      "outputs": []
    },
    {
      "cell_type": "code",
      "metadata": {
        "id": "qU2mMtRS9Fqf"
      },
      "source": [
        "# Импортируем библиотеки\n",
        "%matplotlib inline\n",
        "%config InlineBackend.figure_format = 'svg'\n",
        "\n",
        "import warnings\n",
        "warnings.filterwarnings('ignore')\n",
        "import numpy as np\n",
        "import pandas as pd   \n",
        "import matplotlib.pyplot as plt\n",
        "import seaborn as sns\n",
        "import itertools\n",
        "\n",
        "from sklearn.model_selection import train_test_split\n",
        "from sklearn.metrics import accuracy_score\n",
        "from sklearn.linear_model import LogisticRegression\n",
        "from sklearn.preprocessing import OneHotEncoder, MinMaxScaler"
      ],
      "execution_count": null,
      "outputs": []
    },
    {
      "cell_type": "markdown",
      "metadata": {
        "id": "LMtO2wAZFzf1"
      },
      "source": [
        "# Данные:\n",
        "[скачать](https://drive.google.com/file/d/1MuAyZiIm3b_r-AgQSj78tsRPqZpvv_2s/view?usp=sharing)\n",
        "\n",
        "**application_record.csv**\n",
        "*   Feature name\tExplanation\tRemarks\n",
        "*   ID\tClient number\t\n",
        "*   CODE_GENDER\tGender\t\n",
        "*   FLAG_OWN_CAR\tIs there a car\t\n",
        "*   FLAG_OWN_REALTY\tIs there a property\t\n",
        "*   CNT_CHILDREN\tNumber of children\t\n",
        "*   AMT_INCOME_TOTAL\tAnnual income\t\n",
        "*   NAME_INCOME_TYPE\tIncome category\t\n",
        "*   NAME_EDUCATION_TYPE\tEducation level\t\n",
        "*   NAME_FAMILY_STATUS\tMarital status\t\n",
        "*   NAME_HOUSING_TYPE\tWay of living\t\n",
        "*   DAYS_BIRTH\tBirthday\tCount backwards from current day (0), -1 means yesterday\n",
        "*   DAYS_EMPLOYED\tStart date of employment\tCount backwards from current day(0). If positive, it means the person currently unemployed.\n",
        "FLAG_MOBIL\tIs there a mobile phone\t\n",
        "*   FLAG_WORK_PHONE\tIs there a work phone\t\n",
        "*   FLAG_PHONE\tIs there a phone\t\n",
        "*   FLAG_EMAIL\tIs there an email\t\n",
        "*   OCCUPATION_TYPE\tOccupation\t\n",
        "*   CNT_FAM_MEMBERS\tFamily size\t\n",
        "\n",
        "**credit_record.csv**\n",
        "*   Feature name\tExplanation\tRemarks\n",
        "*   ID\tClient number\t\n",
        "*   MONTHS_BALANCE\tRecord month\tThe month of the extracted data is the starting point, backwards, 0 is the current month, -1 is the previous month, and so on\n",
        "*   STATUS\tStatus\t\n",
        "   *   0: 1-29 days past due\n",
        "   *   1: 30-59 days past due \n",
        "   *   2: 60-89 days overdue \n",
        "   *   3: 90-119 days overdue \n",
        "   *   4: 120-149 days overdue \n",
        "    *   5: Overdue or bad debts, write-offs for more than 150 days\n",
        "    *   C: paid off that month X: No loan for the month\n"
      ]
    },
    {
      "cell_type": "markdown",
      "metadata": {
        "id": "11v9SXDGDgEv"
      },
      "source": [
        "## Считываем данные"
      ]
    },
    {
      "cell_type": "code",
      "source": [
        "data = spark.read.csv('/content/application_record.csv', header=True, inferSchema=True)\n",
        "record = spark.read.csv('/content/credit_record.csv', header=True, inferSchema=True)"
      ],
      "metadata": {
        "id": "46DG_RsbGB4j"
      },
      "execution_count": 3,
      "outputs": []
    },
    {
      "cell_type": "code",
      "source": [
        "data.describe()"
      ],
      "metadata": {
        "id": "mLuJbH7OPRyZ",
        "outputId": "e5739109-f848-4702-83a1-fcf219579837",
        "colab": {
          "base_uri": "https://localhost:8080/"
        }
      },
      "execution_count": null,
      "outputs": [
        {
          "output_type": "execute_result",
          "data": {
            "text/plain": [
              "DataFrame[summary: string, ID: string, CODE_GENDER: string, FLAG_OWN_CAR: string, FLAG_OWN_REALTY: string, CNT_CHILDREN: string, AMT_INCOME_TOTAL: string, NAME_INCOME_TYPE: string, NAME_EDUCATION_TYPE: string, NAME_FAMILY_STATUS: string, NAME_HOUSING_TYPE: string, DAYS_BIRTH: string, DAYS_EMPLOYED: string, FLAG_MOBIL: string, FLAG_WORK_PHONE: string, FLAG_PHONE: string, FLAG_EMAIL: string, OCCUPATION_TYPE: string, CNT_FAM_MEMBERS: string]"
            ]
          },
          "metadata": {},
          "execution_count": 76
        }
      ]
    },
    {
      "cell_type": "code",
      "source": [
        "for row in data.schema:\n",
        "  print(row)"
      ],
      "metadata": {
        "id": "cfUbLOaLOh3O",
        "outputId": "fd318304-694d-417d-be99-365b759b4607",
        "colab": {
          "base_uri": "https://localhost:8080/"
        }
      },
      "execution_count": null,
      "outputs": [
        {
          "output_type": "stream",
          "name": "stdout",
          "text": [
            "StructField('ID', IntegerType(), True)\n",
            "StructField('CODE_GENDER', StringType(), True)\n",
            "StructField('FLAG_OWN_CAR', StringType(), True)\n",
            "StructField('FLAG_OWN_REALTY', StringType(), True)\n",
            "StructField('CNT_CHILDREN', IntegerType(), True)\n",
            "StructField('AMT_INCOME_TOTAL', DoubleType(), True)\n",
            "StructField('NAME_INCOME_TYPE', StringType(), True)\n",
            "StructField('NAME_EDUCATION_TYPE', StringType(), True)\n",
            "StructField('NAME_FAMILY_STATUS', StringType(), True)\n",
            "StructField('NAME_HOUSING_TYPE', StringType(), True)\n",
            "StructField('DAYS_BIRTH', IntegerType(), True)\n",
            "StructField('DAYS_EMPLOYED', IntegerType(), True)\n",
            "StructField('FLAG_MOBIL', IntegerType(), True)\n",
            "StructField('FLAG_WORK_PHONE', IntegerType(), True)\n",
            "StructField('FLAG_PHONE', IntegerType(), True)\n",
            "StructField('FLAG_EMAIL', IntegerType(), True)\n",
            "StructField('OCCUPATION_TYPE', StringType(), True)\n",
            "StructField('CNT_FAM_MEMBERS', DoubleType(), True)\n"
          ]
        }
      ]
    },
    {
      "cell_type": "code",
      "source": [
        "record.show(5)"
      ],
      "metadata": {
        "id": "Jku94vTUPeBz",
        "outputId": "0ead853f-8a58-49e1-dc74-94f91bb8d566",
        "colab": {
          "base_uri": "https://localhost:8080/"
        }
      },
      "execution_count": null,
      "outputs": [
        {
          "output_type": "stream",
          "name": "stdout",
          "text": [
            "+-------+--------------+------+\n",
            "|     ID|MONTHS_BALANCE|STATUS|\n",
            "+-------+--------------+------+\n",
            "|5001711|             0|     X|\n",
            "|5001711|            -1|     0|\n",
            "|5001711|            -2|     0|\n",
            "|5001711|            -3|     0|\n",
            "|5001712|             0|     C|\n",
            "+-------+--------------+------+\n",
            "only showing top 5 rows\n",
            "\n"
          ]
        }
      ]
    },
    {
      "cell_type": "code",
      "source": [
        "for row in record.schema:\n",
        "  print(row)"
      ],
      "metadata": {
        "id": "ORuuhjRPPh3L",
        "outputId": "80440b0c-3752-406f-86da-c8742fddb4a8",
        "colab": {
          "base_uri": "https://localhost:8080/"
        }
      },
      "execution_count": null,
      "outputs": [
        {
          "output_type": "stream",
          "name": "stdout",
          "text": [
            "StructField('ID', IntegerType(), True)\n",
            "StructField('MONTHS_BALANCE', IntegerType(), True)\n",
            "StructField('STATUS', StringType(), True)\n"
          ]
        }
      ]
    },
    {
      "cell_type": "code",
      "source": [
        "from pyspark.sql.functions import col, when"
      ],
      "metadata": {
        "id": "MSLW7KPXSGqK"
      },
      "execution_count": 4,
      "outputs": []
    },
    {
      "cell_type": "code",
      "source": [
        "begin_month = record.groupby([\"ID\"]).min('MONTHS_BALANCE').withColumn('begin_month', col('min(MONTHS_BALANCE)')* -1).drop('min(MONTHS_BALANCE)')"
      ],
      "metadata": {
        "id": "GsVTx0QBPrvM"
      },
      "execution_count": 5,
      "outputs": []
    },
    {
      "cell_type": "code",
      "source": [
        "new_data = data.join(begin_month, ['ID'], 'left')"
      ],
      "metadata": {
        "id": "xSuCPuaaWZVn"
      },
      "execution_count": 6,
      "outputs": []
    },
    {
      "cell_type": "code",
      "source": [
        "record.withColumn('dep_value', when(record['STATUS'] == '2', '1')\\\n",
        "                                .when(record['STATUS'] == '3', '1')\\\n",
        "                                .when(record['STATUS'] == '4', '1')\\\n",
        "                                .when(record['STATUS'] == '5', '1')\\\n",
        "                                .otherwise('0')).show(5)"
      ],
      "metadata": {
        "id": "_C1_LYbWXhXZ",
        "outputId": "7068f5d1-0700-4614-86bb-23baaa6660e0",
        "colab": {
          "base_uri": "https://localhost:8080/"
        }
      },
      "execution_count": 7,
      "outputs": [
        {
          "output_type": "stream",
          "name": "stdout",
          "text": [
            "+-------+--------------+------+---------+\n",
            "|     ID|MONTHS_BALANCE|STATUS|dep_value|\n",
            "+-------+--------------+------+---------+\n",
            "|5001711|             0|     X|        0|\n",
            "|5001711|            -1|     0|        0|\n",
            "|5001711|            -2|     0|        0|\n",
            "|5001711|            -3|     0|        0|\n",
            "|5001712|             0|     C|        0|\n",
            "+-------+--------------+------+---------+\n",
            "only showing top 5 rows\n",
            "\n"
          ]
        }
      ]
    },
    {
      "cell_type": "code",
      "source": [
        "cpunt = record.withColumn('dep_value', when(record['STATUS'] == '2', '1')\\\n",
        "                                .when(record['STATUS'] == '3', '1')\\\n",
        "                                .when(record['STATUS'] == '4', '1')\\\n",
        "                                .when(record['STATUS'] == '5', '1')\\\n",
        "                                .otherwise('0'))"
      ],
      "metadata": {
        "id": "GOntCsv6alIF"
      },
      "execution_count": 8,
      "outputs": []
    },
    {
      "cell_type": "code",
      "source": [
        "cpunt = cpunt.withColumn('dep_value', cpunt['dep_value'].cast('int')).groupby('ID').sum('dep_value')"
      ],
      "metadata": {
        "id": "LwzodmijdDjr"
      },
      "execution_count": 9,
      "outputs": []
    },
    {
      "cell_type": "code",
      "source": [
        "cpunt = cpunt.withColumn('target', when(cpunt['sum(dep_value)'] > 0, 1).otherwise(0)).drop('sum(dep_value)')"
      ],
      "metadata": {
        "id": "f8mzXDzio2ou"
      },
      "execution_count": 10,
      "outputs": []
    },
    {
      "cell_type": "code",
      "source": [
        "cpunt.show(5)"
      ],
      "metadata": {
        "id": "96AEhGO0qWFL",
        "outputId": "81daf035-f0db-4a67-f08d-8a984a86bf54",
        "colab": {
          "base_uri": "https://localhost:8080/"
        }
      },
      "execution_count": 11,
      "outputs": [
        {
          "output_type": "stream",
          "name": "stdout",
          "text": [
            "+-------+------+\n",
            "|     ID|target|\n",
            "+-------+------+\n",
            "|5001812|     0|\n",
            "|5001849|     0|\n",
            "|5001921|     0|\n",
            "|5003338|     0|\n",
            "|5003386|     0|\n",
            "+-------+------+\n",
            "only showing top 5 rows\n",
            "\n"
          ]
        }
      ]
    },
    {
      "cell_type": "code",
      "source": [
        "new_data = new_data.join(cpunt, ['ID'], 'inner')"
      ],
      "metadata": {
        "id": "V-QQs1hWp02e"
      },
      "execution_count": 12,
      "outputs": []
    },
    {
      "cell_type": "code",
      "source": [
        "new_data.show(5)"
      ],
      "metadata": {
        "id": "lzVebXEop_yP",
        "outputId": "3edc4d37-a899-4e8d-9bc2-e854ce058584",
        "colab": {
          "base_uri": "https://localhost:8080/"
        }
      },
      "execution_count": null,
      "outputs": [
        {
          "output_type": "stream",
          "name": "stdout",
          "text": [
            "+-------+-----------+------------+---------------+------------+----------------+--------------------+--------------------+--------------------+-----------------+----------+-------------+----------+---------------+----------+----------+---------------+---------------+-----------+------+\n",
            "|     ID|CODE_GENDER|FLAG_OWN_CAR|FLAG_OWN_REALTY|CNT_CHILDREN|AMT_INCOME_TOTAL|    NAME_INCOME_TYPE| NAME_EDUCATION_TYPE|  NAME_FAMILY_STATUS|NAME_HOUSING_TYPE|DAYS_BIRTH|DAYS_EMPLOYED|FLAG_MOBIL|FLAG_WORK_PHONE|FLAG_PHONE|FLAG_EMAIL|OCCUPATION_TYPE|CNT_FAM_MEMBERS|begin_month|target|\n",
            "+-------+-----------+------------+---------------+------------+----------------+--------------------+--------------------+--------------------+-----------------+----------+-------------+----------+---------------+----------+----------+---------------+---------------+-----------+------+\n",
            "|5008804|          M|           Y|              Y|           0|        427500.0|             Working|    Higher education|      Civil marriage| Rented apartment|    -12005|        -4542|         1|              1|         0|         0|           null|            2.0|         15|     0|\n",
            "|5008805|          M|           Y|              Y|           0|        427500.0|             Working|    Higher education|      Civil marriage| Rented apartment|    -12005|        -4542|         1|              1|         0|         0|           null|            2.0|         14|     0|\n",
            "|5008806|          M|           Y|              Y|           0|        112500.0|             Working|Secondary / secon...|             Married|House / apartment|    -21474|        -1134|         1|              0|         0|         0| Security staff|            2.0|         29|     0|\n",
            "|5008808|          F|           N|              Y|           0|        270000.0|Commercial associate|Secondary / secon...|Single / not married|House / apartment|    -19110|        -3051|         1|              0|         1|         1|    Sales staff|            1.0|          4|     0|\n",
            "|5008809|          F|           N|              Y|           0|        270000.0|Commercial associate|Secondary / secon...|Single / not married|House / apartment|    -19110|        -3051|         1|              0|         1|         1|    Sales staff|            1.0|         26|     0|\n",
            "+-------+-----------+------------+---------------+------------+----------------+--------------------+--------------------+--------------------+-----------------+----------+-------------+----------+---------------+----------+----------+---------------+---------------+-----------+------+\n",
            "only showing top 5 rows\n",
            "\n"
          ]
        }
      ]
    },
    {
      "cell_type": "code",
      "metadata": {
        "id": "uxr1yM_5C4WO"
      },
      "source": [
        "# Ниже, мы для тех, у кого хоть раз были просрчоки больше 60 дней, ставим в таргет 1.\n",
        "data = pd.read_csv(\"application_record.csv\", encoding = 'utf-8')\n",
        "record = pd.read_csv(\"credit_record.csv\", encoding = 'utf-8')\n",
        "\n",
        "# # Добавляем срок кредита к параметрам выдачи кредита\n",
        "begin_month = pd.DataFrame(record.groupby([\"ID\"])[\"MONTHS_BALANCE\"].agg(min) * - 1)\n",
        "begin_month = begin_month.rename(columns={'MONTHS_BALANCE':'begin_month'}) \n",
        "new_data = pd.merge(data, begin_month, how=\"left\", on=\"ID\") \n",
        "\n",
        "# # Больше 60, то это просрочка, ставим - Yes, если просрочка есть за срок кредита,то так же ставим Yes\n",
        "record['dep_value'] = None\n",
        "record['dep_value'][record['STATUS'] == '2'] = 'Yes'\n",
        "record['dep_value'][record['STATUS'] == '3'] = 'Yes'\n",
        "record['dep_value'][record['STATUS'] == '4'] = 'Yes'\n",
        "record['dep_value'][record['STATUS'] == '5'] = 'Yes'\n",
        "cpunt = record.groupby('ID').count()\n",
        "cpunt['dep_value'][cpunt['dep_value'] > 0] = 'Yes' \n",
        "cpunt['dep_value'][cpunt['dep_value'] == 0] = 'No'\n",
        "\n",
        "# # Джойним всё вместе,заменяем Yes и No на 1 и 0\n",
        "cpunt = cpunt[['dep_value']]\n",
        "new_data = pd.merge(new_data, cpunt, how='inner', on='ID')\n",
        "new_data['target'] = new_data['dep_value']\n",
        "new_data.loc[new_data['target'] == 'Yes', 'target'] = 1\n",
        "new_data.loc[new_data['target'] == 'No', 'target'] = 0"
      ],
      "execution_count": null,
      "outputs": []
    },
    {
      "cell_type": "code",
      "metadata": {
        "colab": {
          "base_uri": "https://localhost:8080/"
        },
        "id": "8VuidKOpIGns",
        "outputId": "a08fb451-5fdd-49f8-d975-c2a702ea193d"
      },
      "source": [
        "#  В итоге к анкетным данным мы добавили таргет\n",
        "new_data.show(5)"
      ],
      "execution_count": 36,
      "outputs": [
        {
          "output_type": "stream",
          "name": "stdout",
          "text": [
            "+-------+-----------+------------+---------------+------------+----------------+--------------------+--------------------+--------------------+-----------------+----------+-------------+----------+---------------+----------+----------+---------------+---------------+-----------+------+\n",
            "|     ID|CODE_GENDER|FLAG_OWN_CAR|FLAG_OWN_REALTY|CNT_CHILDREN|AMT_INCOME_TOTAL|    NAME_INCOME_TYPE| NAME_EDUCATION_TYPE|  NAME_FAMILY_STATUS|NAME_HOUSING_TYPE|DAYS_BIRTH|DAYS_EMPLOYED|FLAG_MOBIL|FLAG_WORK_PHONE|FLAG_PHONE|FLAG_EMAIL|OCCUPATION_TYPE|CNT_FAM_MEMBERS|begin_month|target|\n",
            "+-------+-----------+------------+---------------+------------+----------------+--------------------+--------------------+--------------------+-----------------+----------+-------------+----------+---------------+----------+----------+---------------+---------------+-----------+------+\n",
            "|5008804|          M|           Y|              Y|           0|        427500.0|             Working|    Higher education|      Civil marriage| Rented apartment|    -12005|        -4542|         1|              1|         0|         0|           null|            2.0|         15|     0|\n",
            "|5008805|          M|           Y|              Y|           0|        427500.0|             Working|    Higher education|      Civil marriage| Rented apartment|    -12005|        -4542|         1|              1|         0|         0|           null|            2.0|         14|     0|\n",
            "|5008806|          M|           Y|              Y|           0|        112500.0|             Working|Secondary / secon...|             Married|House / apartment|    -21474|        -1134|         1|              0|         0|         0| Security staff|            2.0|         29|     0|\n",
            "|5008808|          F|           N|              Y|           0|        270000.0|Commercial associate|Secondary / secon...|Single / not married|House / apartment|    -19110|        -3051|         1|              0|         1|         1|    Sales staff|            1.0|          4|     0|\n",
            "|5008809|          F|           N|              Y|           0|        270000.0|Commercial associate|Secondary / secon...|Single / not married|House / apartment|    -19110|        -3051|         1|              0|         1|         1|    Sales staff|            1.0|         26|     0|\n",
            "+-------+-----------+------------+---------------+------------+----------------+--------------------+--------------------+--------------------+-----------------+----------+-------------+----------+---------------+----------+----------+---------------+---------------+-----------+------+\n",
            "only showing top 5 rows\n",
            "\n"
          ]
        }
      ]
    },
    {
      "cell_type": "code",
      "metadata": {
        "id": "vnp4IifWJ5Lq"
      },
      "source": [
        "# Упростим себе задачу и оставим только часть признаков\n",
        "features = ['AMT_INCOME_TOTAL', 'CODE_GENDER', 'FLAG_OWN_CAR', 'FLAG_OWN_REALTY', 'CNT_CHILDREN']\t\n",
        "target = ['target',]\n",
        "dataset = new_data[features + target]\n",
        "dataset[target[0]] = pd.to_numeric(dataset[target[0]])"
      ],
      "execution_count": null,
      "outputs": []
    },
    {
      "cell_type": "code",
      "source": [
        "# Упростим себе задачу и оставим только часть признаков\n",
        "features = ['AMT_INCOME_TOTAL', 'CODE_GENDER', 'FLAG_OWN_CAR', 'FLAG_OWN_REALTY', 'CNT_CHILDREN']\t\n",
        "target = ['target',]\n",
        "dataset = new_data[features + target]"
      ],
      "metadata": {
        "id": "uC_bytkis04N"
      },
      "execution_count": 13,
      "outputs": []
    },
    {
      "cell_type": "code",
      "source": [
        "dataset.withColumn('target', dataset['target'].cast('int'))"
      ],
      "metadata": {
        "id": "P8RC-wUys6SK",
        "outputId": "ee356d1c-6a57-4f73-d368-0ed8dd581f14",
        "colab": {
          "base_uri": "https://localhost:8080/"
        }
      },
      "execution_count": 14,
      "outputs": [
        {
          "output_type": "execute_result",
          "data": {
            "text/plain": [
              "DataFrame[AMT_INCOME_TOTAL: double, CODE_GENDER: string, FLAG_OWN_CAR: string, FLAG_OWN_REALTY: string, CNT_CHILDREN: int, target: int]"
            ]
          },
          "metadata": {},
          "execution_count": 14
        }
      ]
    },
    {
      "cell_type": "code",
      "source": [],
      "metadata": {
        "id": "78-KjRPavzMy"
      },
      "execution_count": null,
      "outputs": []
    },
    {
      "cell_type": "markdown",
      "metadata": {
        "id": "nbdj50CcDk3o"
      },
      "source": [
        "У нас есть выборка, где указаны параметры клиента, и вышел ли он на просрочку или нет."
      ]
    },
    {
      "cell_type": "code",
      "metadata": {
        "id": "g5OIVqemDICB"
      },
      "source": [
        "# Разделим выборку на трейн и тест, на трейн будем обучать модель, на тест валидировать.\n",
        "X_train, X_test, y_train, y_test = train_test_split(dataset[features], pd.to_numeric(dataset[target[0]]), test_size=0.3, random_state=42)"
      ],
      "execution_count": null,
      "outputs": []
    },
    {
      "cell_type": "code",
      "source": [
        "from pyspark.ml.feature import OneHotEncoder, StringIndexer\n",
        "from pyspark.ml import Pipeline"
      ],
      "metadata": {
        "id": "dwFMBmUnwve6"
      },
      "execution_count": 15,
      "outputs": []
    },
    {
      "cell_type": "code",
      "source": [
        "text_columns = ['CODE_GENDER', 'FLAG_OWN_CAR', 'FLAG_OWN_REALTY']\n",
        "\n",
        "stri = StringIndexer(inputCols=text_columns, outputCols=[column+'_stri' for column in text_columns])\n",
        "ohe = OneHotEncoder(inputCols=stri.getOutputCols(), outputCols=[column+'_ohe' for column in text_columns])\n",
        "pipe = Pipeline(stages=[\n",
        "    stri,\n",
        "    ohe\n",
        "])\n",
        "total_new_data = pipe.fit(new_data).transform(new_data)"
      ],
      "metadata": {
        "id": "wVgFubCqwyWJ"
      },
      "execution_count": 16,
      "outputs": []
    },
    {
      "cell_type": "code",
      "source": [
        "total_new_data[[x + '_ohe' for x in text_columns] + text_columns].show(15)"
      ],
      "metadata": {
        "id": "xOmg9buE4a1D",
        "outputId": "19f10cd0-73b8-4639-e4f6-52be98782ac1",
        "colab": {
          "base_uri": "https://localhost:8080/"
        }
      },
      "execution_count": 24,
      "outputs": [
        {
          "output_type": "stream",
          "name": "stdout",
          "text": [
            "+---------------+----------------+-------------------+-----------+------------+---------------+\n",
            "|CODE_GENDER_ohe|FLAG_OWN_CAR_ohe|FLAG_OWN_REALTY_ohe|CODE_GENDER|FLAG_OWN_CAR|FLAG_OWN_REALTY|\n",
            "+---------------+----------------+-------------------+-----------+------------+---------------+\n",
            "|      (1,[],[])|       (1,[],[])|      (1,[0],[1.0])|          M|           Y|              Y|\n",
            "|      (1,[],[])|       (1,[],[])|      (1,[0],[1.0])|          M|           Y|              Y|\n",
            "|      (1,[],[])|       (1,[],[])|      (1,[0],[1.0])|          M|           Y|              Y|\n",
            "|  (1,[0],[1.0])|   (1,[0],[1.0])|      (1,[0],[1.0])|          F|           N|              Y|\n",
            "|  (1,[0],[1.0])|   (1,[0],[1.0])|      (1,[0],[1.0])|          F|           N|              Y|\n",
            "|  (1,[0],[1.0])|   (1,[0],[1.0])|      (1,[0],[1.0])|          F|           N|              Y|\n",
            "|  (1,[0],[1.0])|   (1,[0],[1.0])|      (1,[0],[1.0])|          F|           N|              Y|\n",
            "|  (1,[0],[1.0])|   (1,[0],[1.0])|      (1,[0],[1.0])|          F|           N|              Y|\n",
            "|  (1,[0],[1.0])|   (1,[0],[1.0])|      (1,[0],[1.0])|          F|           N|              Y|\n",
            "|  (1,[0],[1.0])|   (1,[0],[1.0])|      (1,[0],[1.0])|          F|           N|              Y|\n",
            "|      (1,[],[])|       (1,[],[])|      (1,[0],[1.0])|          M|           Y|              Y|\n",
            "|      (1,[],[])|       (1,[],[])|      (1,[0],[1.0])|          M|           Y|              Y|\n",
            "|      (1,[],[])|       (1,[],[])|      (1,[0],[1.0])|          M|           Y|              Y|\n",
            "|      (1,[],[])|       (1,[],[])|      (1,[0],[1.0])|          M|           Y|              Y|\n",
            "|      (1,[],[])|       (1,[],[])|      (1,[0],[1.0])|          M|           Y|              Y|\n",
            "+---------------+----------------+-------------------+-----------+------------+---------------+\n",
            "only showing top 15 rows\n",
            "\n"
          ]
        }
      ]
    },
    {
      "cell_type": "code",
      "metadata": {
        "id": "FMNW38tmOrf0"
      },
      "source": [
        "# Превращаем категориальные факторы в численные\n",
        "ohe = OneHotEncoder()\n",
        "ohe.fit(X_train[['CODE_GENDER', 'FLAG_OWN_CAR', 'FLAG_OWN_REALTY']])\n",
        "X_train_ohe = ohe.transform(X_train[['CODE_GENDER', 'FLAG_OWN_CAR', 'FLAG_OWN_REALTY']])\n",
        "X_test_ohe = ohe.transform(X_test[['CODE_GENDER', 'FLAG_OWN_CAR', 'FLAG_OWN_REALTY']])\n",
        "\n",
        "X_train_ohe = pd.DataFrame(X_train_ohe.toarray(), columns=[item for sublist in ohe.categories_ for item in sublist])\n",
        "X_test_ohe = pd.DataFrame(X_test_ohe.toarray(), columns=[item for sublist in ohe.categories_ for item in sublist])"
      ],
      "execution_count": null,
      "outputs": []
    },
    {
      "cell_type": "code",
      "source": [
        "from pyspark.ml.feature import MinMaxScaler"
      ],
      "metadata": {
        "id": "ywd9UP10I0ez"
      },
      "execution_count": 25,
      "outputs": []
    },
    {
      "cell_type": "code",
      "source": [
        "from pyspark.ml.classification import LogisticRegression\n",
        "\n",
        "\n",
        "from pyspark.ml.feature import VectorAssembler\n",
        "\n",
        "text_columns = ['CODE_GENDER', 'FLAG_OWN_CAR', 'FLAG_OWN_REALTY']\n",
        "columns_to_scale = ['AMT_INCOME_TOTAL', 'CNT_CHILDREN']\n",
        "\n",
        "stri = StringIndexer(inputCols=text_columns, outputCols=[column+'_stri' for column in text_columns])\n",
        "ohe = OneHotEncoder(inputCols=stri.getOutputCols(), outputCols=[column+'_ohe' for column in text_columns])\n",
        "\n",
        "assemblers = [VectorAssembler(inputCols=[col], outputCol=col + \"_vec\") for col in columns_to_scale]\n",
        "scalers = [MinMaxScaler(inputCol=col + \"_vec\", outputCol=col + \"_scaled\") for col in columns_to_scale]\n",
        "lr = LogisticRegression(featuresCol='learn_vector', labelCol='target')\n",
        "\n",
        "main_assembler = VectorAssembler(inputCols=ohe.getOutputCols() + [scaler.getOutputCol() for scaler in scalers], outputCol='learn_vector')\n",
        "\n",
        "pipeline = Pipeline(stages=[stri, ohe] + assemblers + scalers + [main_assembler, lr])"
      ],
      "metadata": {
        "id": "5d_6-UQ5Kkun"
      },
      "execution_count": 55,
      "outputs": []
    },
    {
      "cell_type": "code",
      "source": [
        "total_new_data.show(5)"
      ],
      "metadata": {
        "id": "tv3EOlDQUbUK",
        "outputId": "7119edf6-9a36-4773-a0ea-9fab608fa568",
        "colab": {
          "base_uri": "https://localhost:8080/"
        }
      },
      "execution_count": 54,
      "outputs": [
        {
          "output_type": "stream",
          "name": "stdout",
          "text": [
            "+-------+-----------+------------+---------------+------------+----------------+--------------------+--------------------+--------------------+-----------------+----------+-------------+----------+---------------+----------+----------+---------------+---------------+-----------+------+----------------+-----------------+--------------------+---------------+----------------+-------------------+--------------------+----------------+-----------------------+-------------------+--------------------+\n",
            "|     ID|CODE_GENDER|FLAG_OWN_CAR|FLAG_OWN_REALTY|CNT_CHILDREN|AMT_INCOME_TOTAL|    NAME_INCOME_TYPE| NAME_EDUCATION_TYPE|  NAME_FAMILY_STATUS|NAME_HOUSING_TYPE|DAYS_BIRTH|DAYS_EMPLOYED|FLAG_MOBIL|FLAG_WORK_PHONE|FLAG_PHONE|FLAG_EMAIL|OCCUPATION_TYPE|CNT_FAM_MEMBERS|begin_month|target|CODE_GENDER_stri|FLAG_OWN_CAR_stri|FLAG_OWN_REALTY_stri|CODE_GENDER_ohe|FLAG_OWN_CAR_ohe|FLAG_OWN_REALTY_ohe|AMT_INCOME_TOTAL_vec|CNT_CHILDREN_vec|AMT_INCOME_TOTAL_scaled|CNT_CHILDREN_scaled|        learn_vector|\n",
            "+-------+-----------+------------+---------------+------------+----------------+--------------------+--------------------+--------------------+-----------------+----------+-------------+----------+---------------+----------+----------+---------------+---------------+-----------+------+----------------+-----------------+--------------------+---------------+----------------+-------------------+--------------------+----------------+-----------------------+-------------------+--------------------+\n",
            "|5008804|          M|           Y|              Y|           0|        427500.0|             Working|    Higher education|      Civil marriage| Rented apartment|    -12005|        -4542|         1|              1|         0|         0|           null|            2.0|         15|     0|             1.0|              1.0|                 0.0|      (1,[],[])|       (1,[],[])|      (1,[0],[1.0])|          [427500.0]|           [0.0]|   [0.25872093023255...|              [0.0]|(5,[2,3],[1.0,0.2...|\n",
            "|5008805|          M|           Y|              Y|           0|        427500.0|             Working|    Higher education|      Civil marriage| Rented apartment|    -12005|        -4542|         1|              1|         0|         0|           null|            2.0|         14|     0|             1.0|              1.0|                 0.0|      (1,[],[])|       (1,[],[])|      (1,[0],[1.0])|          [427500.0]|           [0.0]|   [0.25872093023255...|              [0.0]|(5,[2,3],[1.0,0.2...|\n",
            "|5008806|          M|           Y|              Y|           0|        112500.0|             Working|Secondary / secon...|             Married|House / apartment|    -21474|        -1134|         1|              0|         0|         0| Security staff|            2.0|         29|     0|             1.0|              1.0|                 0.0|      (1,[],[])|       (1,[],[])|      (1,[0],[1.0])|          [112500.0]|           [0.0]|   [0.05523255813953...|              [0.0]|(5,[2,3],[1.0,0.0...|\n",
            "|5008808|          F|           N|              Y|           0|        270000.0|Commercial associate|Secondary / secon...|Single / not married|House / apartment|    -19110|        -3051|         1|              0|         1|         1|    Sales staff|            1.0|          4|     0|             0.0|              0.0|                 0.0|  (1,[0],[1.0])|   (1,[0],[1.0])|      (1,[0],[1.0])|          [270000.0]|           [0.0]|   [0.1569767441860465]|              [0.0]|[1.0,1.0,1.0,0.15...|\n",
            "|5008809|          F|           N|              Y|           0|        270000.0|Commercial associate|Secondary / secon...|Single / not married|House / apartment|    -19110|        -3051|         1|              0|         1|         1|    Sales staff|            1.0|         26|     0|             0.0|              0.0|                 0.0|  (1,[0],[1.0])|   (1,[0],[1.0])|      (1,[0],[1.0])|          [270000.0]|           [0.0]|   [0.1569767441860465]|              [0.0]|[1.0,1.0,1.0,0.15...|\n",
            "+-------+-----------+------------+---------------+------------+----------------+--------------------+--------------------+--------------------+-----------------+----------+-------------+----------+---------------+----------+----------+---------------+---------------+-----------+------+----------------+-----------------+--------------------+---------------+----------------+-------------------+--------------------+----------------+-----------------------+-------------------+--------------------+\n",
            "only showing top 5 rows\n",
            "\n"
          ]
        }
      ]
    },
    {
      "cell_type": "code",
      "metadata": {
        "id": "sZcQy_4lS0_x"
      },
      "source": [
        "# Отскалируем численные\n",
        "mms = MinMaxScaler()\n",
        "mms.fit(X_train[['AMT_INCOME_TOTAL', 'CNT_CHILDREN']])\n",
        "X_train_scaled = mms.transform(X_train[['AMT_INCOME_TOTAL', 'CNT_CHILDREN']])\n",
        "X_test_scaled = mms.transform(X_test[['AMT_INCOME_TOTAL', 'CNT_CHILDREN']])\n",
        "\n",
        "X_train_scaled = pd.DataFrame(X_train_scaled, columns=['AMT_INCOME_TOTAL', 'CNT_CHILDREN'])\n",
        "X_test_scaled = pd.DataFrame(X_test_scaled, columns=['AMT_INCOME_TOTAL', 'CNT_CHILDREN'])"
      ],
      "execution_count": null,
      "outputs": []
    },
    {
      "cell_type": "code",
      "metadata": {
        "id": "hTr2-HRLPvZ5"
      },
      "source": [
        "X_train = pd.concat([X_train_scaled, X_train_ohe,], axis=1)\n",
        "X_test = pd.concat([X_test_scaled, X_test_ohe, ], axis=1)"
      ],
      "execution_count": null,
      "outputs": []
    },
    {
      "cell_type": "markdown",
      "metadata": {
        "id": "k6iYtYBSQrZw"
      },
      "source": [
        "#  Модель"
      ]
    },
    {
      "cell_type": "code",
      "metadata": {
        "colab": {
          "base_uri": "https://localhost:8080/"
        },
        "id": "67opqS-YDNhv",
        "outputId": "cff7e395-584a-4d47-eda3-b2d407e1e1de"
      },
      "source": [
        "# Создадим простейшую модель, которая покажет через линейные коэффиценты связь переменных и таргета\n",
        "model = LogisticRegression()\n",
        "model.fit(X_train, y_train)"
      ],
      "execution_count": null,
      "outputs": [
        {
          "output_type": "execute_result",
          "data": {
            "text/plain": [
              "LogisticRegression(C=1.0, class_weight=None, dual=False, fit_intercept=True,\n",
              "                   intercept_scaling=1, l1_ratio=None, max_iter=100,\n",
              "                   multi_class='auto', n_jobs=None, penalty='l2',\n",
              "                   random_state=None, solver='lbfgs', tol=0.0001, verbose=0,\n",
              "                   warm_start=False)"
            ]
          },
          "metadata": {},
          "execution_count": 23
        }
      ]
    },
    {
      "cell_type": "code",
      "metadata": {
        "colab": {
          "base_uri": "https://localhost:8080/"
        },
        "id": "0teTAGTFDXtx",
        "outputId": "dbdc4052-9517-44af-9964-146400705e32"
      },
      "source": [
        "train_score, test_score = accuracy_score(model.predict(X_train), y_train), accuracy_score(model.predict(X_test), y_test)\n",
        "print(f'Точность модели на трейне {train_score}, на тесте {test_score}')"
      ],
      "execution_count": null,
      "outputs": [
        {
          "output_type": "stream",
          "text": [
            "Точность модели на трейне 0.9828755045260394, на тесте 0.983635033827025\n"
          ],
          "name": "stdout"
        }
      ]
    },
    {
      "cell_type": "code",
      "source": [
        "train_data, test_data = new_data.randomSplit([0.7, 0.3], seed=42)\n",
        "fit_model = pipeline.fit(train_data)\n",
        "results = fit_model.transform(test_data)\n",
        "results.show()"
      ],
      "metadata": {
        "id": "p9R_pJRRNvwb",
        "outputId": "211f7291-1c02-42e3-d3f7-515af81622e3",
        "colab": {
          "base_uri": "https://localhost:8080/"
        }
      },
      "execution_count": 56,
      "outputs": [
        {
          "output_type": "stream",
          "name": "stdout",
          "text": [
            "+-------+-----------+------------+---------------+------------+----------------+--------------------+--------------------+--------------------+-----------------+----------+-------------+----------+---------------+----------+----------+---------------+---------------+-----------+------+----------------+-----------------+--------------------+---------------+----------------+-------------------+--------------------+----------------+-----------------------+--------------------+--------------------+--------------------+--------------------+----------+\n",
            "|     ID|CODE_GENDER|FLAG_OWN_CAR|FLAG_OWN_REALTY|CNT_CHILDREN|AMT_INCOME_TOTAL|    NAME_INCOME_TYPE| NAME_EDUCATION_TYPE|  NAME_FAMILY_STATUS|NAME_HOUSING_TYPE|DAYS_BIRTH|DAYS_EMPLOYED|FLAG_MOBIL|FLAG_WORK_PHONE|FLAG_PHONE|FLAG_EMAIL|OCCUPATION_TYPE|CNT_FAM_MEMBERS|begin_month|target|CODE_GENDER_stri|FLAG_OWN_CAR_stri|FLAG_OWN_REALTY_stri|CODE_GENDER_ohe|FLAG_OWN_CAR_ohe|FLAG_OWN_REALTY_ohe|AMT_INCOME_TOTAL_vec|CNT_CHILDREN_vec|AMT_INCOME_TOTAL_scaled| CNT_CHILDREN_scaled|        learn_vector|       rawPrediction|         probability|prediction|\n",
            "+-------+-----------+------------+---------------+------------+----------------+--------------------+--------------------+--------------------+-----------------+----------+-------------+----------+---------------+----------+----------+---------------+---------------+-----------+------+----------------+-----------------+--------------------+---------------+----------------+-------------------+--------------------+----------------+-----------------------+--------------------+--------------------+--------------------+--------------------+----------+\n",
            "|5008806|          M|           Y|              Y|           0|        112500.0|             Working|Secondary / secon...|             Married|House / apartment|    -21474|        -1134|         1|              0|         0|         0| Security staff|            2.0|         29|     0|             1.0|              1.0|                 0.0|      (1,[],[])|       (1,[],[])|      (1,[0],[1.0])|          [112500.0]|           [0.0]|   [0.05523255813953...|               [0.0]|(5,[2,3],[1.0,0.0...|[5.03262078739781...|[0.99352056075950...|       0.0|\n",
            "|5008811|          F|           N|              Y|           0|        270000.0|Commercial associate|Secondary / secon...|Single / not married|House / apartment|    -19110|        -3051|         1|              0|         1|         1|    Sales staff|            1.0|         38|     0|             0.0|              0.0|                 0.0|  (1,[0],[1.0])|   (1,[0],[1.0])|      (1,[0],[1.0])|          [270000.0]|           [0.0]|   [0.1569767441860465]|               [0.0]|[1.0,1.0,1.0,0.15...|[4.86603762135521...|[0.99235506489940...|       0.0|\n",
            "|5008813|          F|           N|              Y|           0|        283500.0|           Pensioner|    Higher education|           Separated|House / apartment|    -22464|       365243|         1|              0|         0|         0|           null|            1.0|         16|     0|             0.0|              0.0|                 0.0|  (1,[0],[1.0])|   (1,[0],[1.0])|      (1,[0],[1.0])|          [283500.0]|           [0.0]|   [0.16569767441860...|               [0.0]|[1.0,1.0,1.0,0.16...|[4.86446184566083...|[0.99234310101314...|       0.0|\n",
            "|5008814|          F|           N|              Y|           0|        283500.0|           Pensioner|    Higher education|           Separated|House / apartment|    -22464|       365243|         1|              0|         0|         0|           null|            1.0|         17|     0|             0.0|              0.0|                 0.0|  (1,[0],[1.0])|   (1,[0],[1.0])|      (1,[0],[1.0])|          [283500.0]|           [0.0]|   [0.16569767441860...|               [0.0]|[1.0,1.0,1.0,0.16...|[4.86446184566083...|[0.99234310101314...|       0.0|\n",
            "|5008821|          M|           Y|              Y|           0|        135000.0|Commercial associate|Secondary / secon...|             Married|House / apartment|    -17778|        -1194|         1|              0|         0|         0|       Laborers|            2.0|          8|     0|             1.0|              1.0|                 0.0|      (1,[],[])|       (1,[],[])|      (1,[0],[1.0])|          [135000.0]|           [0.0]|   [0.06976744186046...|               [0.0]|(5,[2,3],[1.0,0.0...|[5.02999449457383...|[0.99350363218282...|       0.0|\n",
            "|5008822|          M|           Y|              Y|           0|        135000.0|Commercial associate|Secondary / secon...|             Married|House / apartment|    -17778|        -1194|         1|              0|         0|         0|       Laborers|            2.0|         22|     0|             1.0|              1.0|                 0.0|      (1,[],[])|       (1,[],[])|      (1,[0],[1.0])|          [135000.0]|           [0.0]|   [0.06976744186046...|               [0.0]|(5,[2,3],[1.0,0.0...|[5.02999449457383...|[0.99350363218282...|       0.0|\n",
            "|5008823|          M|           Y|              Y|           0|        135000.0|Commercial associate|Secondary / secon...|             Married|House / apartment|    -17778|        -1194|         1|              0|         0|         0|       Laborers|            2.0|          7|     0|             1.0|              1.0|                 0.0|      (1,[],[])|       (1,[],[])|      (1,[0],[1.0])|          [135000.0]|           [0.0]|   [0.06976744186046...|               [0.0]|(5,[2,3],[1.0,0.0...|[5.02999449457383...|[0.99350363218282...|       0.0|\n",
            "|5008830|          F|           N|              Y|           0|        157500.0|             Working|Secondary / secon...|             Married|House / apartment|    -10031|        -1469|         1|              0|         1|         0|       Laborers|            2.0|         31|     0|             0.0|              0.0|                 0.0|  (1,[0],[1.0])|   (1,[0],[1.0])|      (1,[0],[1.0])|          [157500.0]|           [0.0]|   [0.08430232558139...|               [0.0]|[1.0,1.0,1.0,0.08...|[4.87916908547512...|[0.99245404525726...|       0.0|\n",
            "|5008832|          F|           N|              Y|           0|        157500.0|             Working|Secondary / secon...|             Married|House / apartment|    -10031|        -1469|         1|              0|         1|         0|       Laborers|            2.0|         34|     0|             0.0|              0.0|                 0.0|  (1,[0],[1.0])|   (1,[0],[1.0])|      (1,[0],[1.0])|          [157500.0]|           [0.0]|   [0.08430232558139...|               [0.0]|[1.0,1.0,1.0,0.08...|[4.87916908547512...|[0.99245404525726...|       0.0|\n",
            "|5008835|          F|           N|              Y|           1|        112500.0|             Working|Secondary / secon...|Single / not married|House / apartment|    -10968|        -1620|         1|              0|         0|         0|           null|            2.0|         44|     0|             0.0|              0.0|                 0.0|  (1,[0],[1.0])|   (1,[0],[1.0])|      (1,[0],[1.0])|          [112500.0]|           [1.0]|   [0.05523255813953...|[0.05263157894736...|[1.0,1.0,1.0,0.05...|[4.84932110405208...|[0.99222719576249...|       0.0|\n",
            "|5008836|          M|           Y|              Y|           3|        270000.0|             Working|Secondary / secon...|             Married|House / apartment|    -12689|        -1163|         1|              0|         0|         0|       Laborers|            5.0|         24|     0|             1.0|              1.0|                 0.0|      (1,[],[])|       (1,[],[])|      (1,[0],[1.0])|          [270000.0]|           [3.0]|   [0.1569767441860465]|[0.15789473684210...|[0.0,0.0,1.0,0.15...|[4.90893503641691...|[0.99267372647327...|       0.0|\n",
            "|5008840|          M|           N|              Y|           1|        405000.0|Commercial associate|    Higher education|             Married|House / apartment|    -11842|        -2016|         1|              0|         0|         0|       Managers|            3.0|         55|     0|             1.0|              0.0|                 0.0|      (1,[],[])|   (1,[0],[1.0])|      (1,[0],[1.0])|          [405000.0]|           [1.0]|   [0.24418604651162...|[0.05263157894736...|[0.0,1.0,1.0,0.24...|[5.03083652457795...|[0.99350906452572...|       0.0|\n",
            "|5008841|          M|           N|              Y|           1|        405000.0|Commercial associate|    Higher education|             Married|House / apartment|    -11842|        -2016|         1|              0|         0|         0|       Managers|            3.0|          4|     0|             1.0|              0.0|                 0.0|      (1,[],[])|   (1,[0],[1.0])|      (1,[0],[1.0])|          [405000.0]|           [1.0]|   [0.24418604651162...|[0.05263157894736...|[0.0,1.0,1.0,0.24...|[5.03083652457795...|[0.99350906452572...|       0.0|\n",
            "|5008842|          M|           N|              Y|           1|        405000.0|Commercial associate|    Higher education|             Married|House / apartment|    -11842|        -2016|         1|              0|         0|         0|       Managers|            3.0|          8|     0|             1.0|              0.0|                 0.0|      (1,[],[])|   (1,[0],[1.0])|      (1,[0],[1.0])|          [405000.0]|           [1.0]|   [0.24418604651162...|[0.05263157894736...|[0.0,1.0,1.0,0.24...|[5.03083652457795...|[0.99350906452572...|       0.0|\n",
            "|5008844|          M|           Y|              Y|           0|        112500.0|Commercial associate|Secondary / secon...|             Married|House / apartment|    -20502|        -4450|         1|              0|         1|         0|        Drivers|            2.0|         43|     0|             1.0|              1.0|                 0.0|      (1,[],[])|       (1,[],[])|      (1,[0],[1.0])|          [112500.0]|           [0.0]|   [0.05523255813953...|               [0.0]|(5,[2,3],[1.0,0.0...|[5.03262078739781...|[0.99352056075950...|       0.0|\n",
            "|5008847|          M|           Y|              Y|           0|        112500.0|Commercial associate|Secondary / secon...|             Married|House / apartment|    -20502|        -4450|         1|              0|         1|         0|        Drivers|            2.0|         46|     0|             1.0|              1.0|                 0.0|      (1,[],[])|       (1,[],[])|      (1,[0],[1.0])|          [112500.0]|           [0.0]|   [0.05523255813953...|               [0.0]|(5,[2,3],[1.0,0.0...|[5.03262078739781...|[0.99352056075950...|       0.0|\n",
            "|5008849|          M|           Y|              Y|           0|        112500.0|Commercial associate|Secondary / secon...|             Married|House / apartment|    -20502|        -4450|         1|              0|         1|         0|        Drivers|            2.0|         51|     0|             1.0|              1.0|                 0.0|      (1,[],[])|       (1,[],[])|      (1,[0],[1.0])|          [112500.0]|           [0.0]|   [0.05523255813953...|               [0.0]|(5,[2,3],[1.0,0.0...|[5.03262078739781...|[0.99352056075950...|       0.0|\n",
            "|5008853|          M|           Y|              Y|           0|        112500.0|Commercial associate|Secondary / secon...|             Married|House / apartment|    -20502|        -4450|         1|              0|         1|         0|        Drivers|            2.0|         39|     0|             1.0|              1.0|                 0.0|      (1,[],[])|       (1,[],[])|      (1,[0],[1.0])|          [112500.0]|           [0.0]|   [0.05523255813953...|               [0.0]|(5,[2,3],[1.0,0.0...|[5.03262078739781...|[0.99352056075950...|       0.0|\n",
            "|5008856|          F|           Y|              Y|           2|        135000.0|             Working|Secondary / secon...|             Married|House / apartment|    -15761|        -3173|         1|              0|         0|         0|       Laborers|            4.0|          3|     0|             0.0|              1.0|                 0.0|  (1,[0],[1.0])|       (1,[],[])|      (1,[0],[1.0])|          [135000.0]|           [2.0]|   [0.06976744186046...|[0.10526315789473...|[1.0,0.0,1.0,0.06...|[4.74413613319418...|[0.99137250481138...|       0.0|\n",
            "|5008857|          F|           Y|              Y|           2|        135000.0|             Working|Secondary / secon...|             Married|House / apartment|    -15761|        -3173|         1|              0|         0|         0|       Laborers|            4.0|         27|     0|             0.0|              1.0|                 0.0|  (1,[0],[1.0])|       (1,[],[])|      (1,[0],[1.0])|          [135000.0]|           [2.0]|   [0.06976744186046...|[0.10526315789473...|[1.0,0.0,1.0,0.06...|[4.74413613319418...|[0.99137250481138...|       0.0|\n",
            "+-------+-----------+------------+---------------+------------+----------------+--------------------+--------------------+--------------------+-----------------+----------+-------------+----------+---------------+----------+----------+---------------+---------------+-----------+------+----------------+-----------------+--------------------+---------------+----------------+-------------------+--------------------+----------------+-----------------------+--------------------+--------------------+--------------------+--------------------+----------+\n",
            "only showing top 20 rows\n",
            "\n"
          ]
        }
      ]
    },
    {
      "cell_type": "code",
      "source": [
        "from pyspark.ml.evaluation import BinaryClassificationEvaluator\n",
        "\n",
        "res = BinaryClassificationEvaluator(rawPredictionCol='prediction',labelCol='target')\n",
        "  \n",
        "# Evaluating the AUC on results\n",
        "ROC_AUC = res.evaluate(results)\n",
        "ROC_AUC"
      ],
      "metadata": {
        "id": "l6xfPtMzV_KL",
        "outputId": "08f288f3-156a-44c4-fa4b-c1420ad40a5e",
        "colab": {
          "base_uri": "https://localhost:8080/"
        }
      },
      "execution_count": 58,
      "outputs": [
        {
          "output_type": "execute_result",
          "data": {
            "text/plain": [
              "0.5"
            ]
          },
          "metadata": {},
          "execution_count": 58
        }
      ]
    }
  ]
}