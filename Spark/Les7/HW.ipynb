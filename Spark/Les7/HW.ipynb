{
  "nbformat": 4,
  "nbformat_minor": 0,
  "metadata": {
    "colab": {
      "provenance": []
    },
    "kernelspec": {
      "name": "python3",
      "display_name": "Python 3"
    },
    "language_info": {
      "name": "python"
    }
  },
  "cells": [
    {
      "cell_type": "markdown",
      "metadata": {
        "id": "yS6iWrHV9Gcm"
      },
      "source": [
        "# Кредитный скоринг\n",
        "При принятии решения о выдаче кредита или займа учитывается т.н. «Кредитный скоринг» — рейтинг платежеспособности клиента. ИИ на основе модели, которую просчитывает машинное обучение — в ней много параметров — возраст, зарплата, кредитная история, наличие недвижимости, автомобиля, судимости и других признаков, после обработки которых выносится положительное или отрицательное решение"
      ]
    },
    {
      "cell_type": "code",
      "source": [
        "!pip install pyspark"
      ],
      "metadata": {
        "id": "Cjnqv0DLGJuj",
        "outputId": "38f85847-0f6a-410e-95e5-69d7f50c2dd1",
        "colab": {
          "base_uri": "https://localhost:8080/"
        }
      },
      "execution_count": 1,
      "outputs": [
        {
          "output_type": "stream",
          "name": "stdout",
          "text": [
            "Looking in indexes: https://pypi.org/simple, https://us-python.pkg.dev/colab-wheels/public/simple/\n",
            "Collecting pyspark\n",
            "  Downloading pyspark-3.4.0.tar.gz (310.8 MB)\n",
            "\u001b[2K     \u001b[90m━━━━━━━━━━━━━━━━━━━━━━━━━━━━━━━━━━━━━━━\u001b[0m \u001b[32m310.8/310.8 MB\u001b[0m \u001b[31m3.0 MB/s\u001b[0m eta \u001b[36m0:00:00\u001b[0m\n",
            "\u001b[?25h  Preparing metadata (setup.py) ... \u001b[?25l\u001b[?25hdone\n",
            "Requirement already satisfied: py4j==0.10.9.7 in /usr/local/lib/python3.10/dist-packages (from pyspark) (0.10.9.7)\n",
            "Building wheels for collected packages: pyspark\n",
            "  Building wheel for pyspark (setup.py) ... \u001b[?25l\u001b[?25hdone\n",
            "  Created wheel for pyspark: filename=pyspark-3.4.0-py2.py3-none-any.whl size=311317130 sha256=19369e68812c5403915497700ac5bc83f9d5999c7b7b5557de59a0101941936f\n",
            "  Stored in directory: /root/.cache/pip/wheels/7b/1b/4b/3363a1d04368e7ff0d408e57ff57966fcdf00583774e761327\n",
            "Successfully built pyspark\n",
            "Installing collected packages: pyspark\n",
            "Successfully installed pyspark-3.4.0\n"
          ]
        }
      ]
    },
    {
      "cell_type": "code",
      "source": [
        "\n",
        "from pyspark.sql import SparkSession\n",
        "\n",
        "\n",
        "spark = SparkSession.builder\\\n",
        "        .master(\"local[*]\")\\\n",
        "        .appName(\"Colab_pyspark\")\\\n",
        "        .config('spark.ui.port', '4050')\\\n",
        "        .config('spark.executor.memory', '3g')\\\n",
        "        .getOrCreate()\n",
        "        # .config('spark.sql.execution.arrow.enabled', 'true')\\\n",
        "        # .config('spark.\"Broadcastsizetable\"', '-1')\\\n",
        "        # .config('preferSortHashJoin', 'true')\\"
      ],
      "metadata": {
        "id": "Kdg_YrlJB3Pc"
      },
      "execution_count": 2,
      "outputs": []
    },
    {
      "cell_type": "markdown",
      "metadata": {
        "id": "LMtO2wAZFzf1"
      },
      "source": [
        "# Данные:\n",
        "[скачать](https://drive.google.com/file/d/1MuAyZiIm3b_r-AgQSj78tsRPqZpvv_2s/view?usp=sharing)\n",
        "\n",
        "**application_record.csv**\n",
        "*   Feature name\tExplanation\tRemarks\n",
        "*   ID\tClient number\t\n",
        "*   CODE_GENDER\tGender\t\n",
        "*   FLAG_OWN_CAR\tIs there a car\t\n",
        "*   FLAG_OWN_REALTY\tIs there a property\t\n",
        "*   CNT_CHILDREN\tNumber of children\t\n",
        "*   AMT_INCOME_TOTAL\tAnnual income\t\n",
        "*   NAME_INCOME_TYPE\tIncome category\t\n",
        "*   NAME_EDUCATION_TYPE\tEducation level\t\n",
        "*   NAME_FAMILY_STATUS\tMarital status\t\n",
        "*   NAME_HOUSING_TYPE\tWay of living\t\n",
        "*   DAYS_BIRTH\tBirthday\tCount backwards from current day (0), -1 means yesterday\n",
        "*   DAYS_EMPLOYED\tStart date of employment\tCount backwards from current day(0). If positive, it means the person currently unemployed.\n",
        "FLAG_MOBIL\tIs there a mobile phone\t\n",
        "*   FLAG_WORK_PHONE\tIs there a work phone\t\n",
        "*   FLAG_PHONE\tIs there a phone\t\n",
        "*   FLAG_EMAIL\tIs there an email\t\n",
        "*   OCCUPATION_TYPE\tOccupation\t\n",
        "*   CNT_FAM_MEMBERS\tFamily size\t\n",
        "\n",
        "**credit_record.csv**\n",
        "*   Feature name\tExplanation\tRemarks\n",
        "*   ID\tClient number\t\n",
        "*   MONTHS_BALANCE\tRecord month\tThe month of the extracted data is the starting point, backwards, 0 is the current month, -1 is the previous month, and so on\n",
        "*   STATUS\tStatus\t\n",
        "   *   0: 1-29 days past due\n",
        "   *   1: 30-59 days past due \n",
        "   *   2: 60-89 days overdue \n",
        "   *   3: 90-119 days overdue \n",
        "   *   4: 120-149 days overdue \n",
        "    *   5: Overdue or bad debts, write-offs for more than 150 days\n",
        "    *   C: paid off that month X: No loan for the month\n"
      ]
    },
    {
      "cell_type": "markdown",
      "metadata": {
        "id": "11v9SXDGDgEv"
      },
      "source": [
        "## Считываем данные"
      ]
    },
    {
      "cell_type": "code",
      "source": [
        "data = spark.read.csv('/content/application_record.csv', header=True, inferSchema=True)\n",
        "record = spark.read.csv('/content/credit_record.csv', header=True, inferSchema=True)"
      ],
      "metadata": {
        "id": "46DG_RsbGB4j"
      },
      "execution_count": 3,
      "outputs": []
    },
    {
      "cell_type": "code",
      "source": [
        "data.describe()"
      ],
      "metadata": {
        "id": "mLuJbH7OPRyZ",
        "outputId": "11712f20-6d1d-4234-fce9-c4cc32384430",
        "colab": {
          "base_uri": "https://localhost:8080/"
        }
      },
      "execution_count": 4,
      "outputs": [
        {
          "output_type": "execute_result",
          "data": {
            "text/plain": [
              "DataFrame[summary: string, ID: string, CODE_GENDER: string, FLAG_OWN_CAR: string, FLAG_OWN_REALTY: string, CNT_CHILDREN: string, AMT_INCOME_TOTAL: string, NAME_INCOME_TYPE: string, NAME_EDUCATION_TYPE: string, NAME_FAMILY_STATUS: string, NAME_HOUSING_TYPE: string, DAYS_BIRTH: string, DAYS_EMPLOYED: string, FLAG_MOBIL: string, FLAG_WORK_PHONE: string, FLAG_PHONE: string, FLAG_EMAIL: string, OCCUPATION_TYPE: string, CNT_FAM_MEMBERS: string]"
            ]
          },
          "metadata": {},
          "execution_count": 4
        }
      ]
    },
    {
      "cell_type": "code",
      "source": [
        "for row in data.schema:\n",
        "  print(row)"
      ],
      "metadata": {
        "id": "cfUbLOaLOh3O",
        "outputId": "ae27f6d1-bbf4-4380-8c97-8b3b2892a906",
        "colab": {
          "base_uri": "https://localhost:8080/"
        }
      },
      "execution_count": 5,
      "outputs": [
        {
          "output_type": "stream",
          "name": "stdout",
          "text": [
            "StructField('ID', IntegerType(), True)\n",
            "StructField('CODE_GENDER', StringType(), True)\n",
            "StructField('FLAG_OWN_CAR', StringType(), True)\n",
            "StructField('FLAG_OWN_REALTY', StringType(), True)\n",
            "StructField('CNT_CHILDREN', IntegerType(), True)\n",
            "StructField('AMT_INCOME_TOTAL', DoubleType(), True)\n",
            "StructField('NAME_INCOME_TYPE', StringType(), True)\n",
            "StructField('NAME_EDUCATION_TYPE', StringType(), True)\n",
            "StructField('NAME_FAMILY_STATUS', StringType(), True)\n",
            "StructField('NAME_HOUSING_TYPE', StringType(), True)\n",
            "StructField('DAYS_BIRTH', IntegerType(), True)\n",
            "StructField('DAYS_EMPLOYED', IntegerType(), True)\n",
            "StructField('FLAG_MOBIL', IntegerType(), True)\n",
            "StructField('FLAG_WORK_PHONE', IntegerType(), True)\n",
            "StructField('FLAG_PHONE', IntegerType(), True)\n",
            "StructField('FLAG_EMAIL', IntegerType(), True)\n",
            "StructField('OCCUPATION_TYPE', StringType(), True)\n",
            "StructField('CNT_FAM_MEMBERS', DoubleType(), True)\n"
          ]
        }
      ]
    },
    {
      "cell_type": "code",
      "source": [
        "record.show(5)"
      ],
      "metadata": {
        "id": "Jku94vTUPeBz",
        "outputId": "2339419d-2554-45ab-e6b6-241e0444f3f2",
        "colab": {
          "base_uri": "https://localhost:8080/"
        }
      },
      "execution_count": 6,
      "outputs": [
        {
          "output_type": "stream",
          "name": "stdout",
          "text": [
            "+-------+--------------+------+\n",
            "|     ID|MONTHS_BALANCE|STATUS|\n",
            "+-------+--------------+------+\n",
            "|5001711|             0|     X|\n",
            "|5001711|            -1|     0|\n",
            "|5001711|            -2|     0|\n",
            "|5001711|            -3|     0|\n",
            "|5001712|             0|     C|\n",
            "+-------+--------------+------+\n",
            "only showing top 5 rows\n",
            "\n"
          ]
        }
      ]
    },
    {
      "cell_type": "code",
      "source": [
        "for row in record.schema:\n",
        "  print(row)"
      ],
      "metadata": {
        "id": "ORuuhjRPPh3L",
        "outputId": "e74b8823-2dc9-4eb6-9dbf-8a6f2aaaa141",
        "colab": {
          "base_uri": "https://localhost:8080/"
        }
      },
      "execution_count": 7,
      "outputs": [
        {
          "output_type": "stream",
          "name": "stdout",
          "text": [
            "StructField('ID', IntegerType(), True)\n",
            "StructField('MONTHS_BALANCE', IntegerType(), True)\n",
            "StructField('STATUS', StringType(), True)\n"
          ]
        }
      ]
    },
    {
      "cell_type": "code",
      "source": [
        "from pyspark.sql.functions import col, when"
      ],
      "metadata": {
        "id": "MSLW7KPXSGqK"
      },
      "execution_count": 8,
      "outputs": []
    },
    {
      "cell_type": "code",
      "source": [
        "begin_month = record.groupby([\"ID\"]).min('MONTHS_BALANCE').withColumn('begin_month', col('min(MONTHS_BALANCE)')* -1).drop('min(MONTHS_BALANCE)')"
      ],
      "metadata": {
        "id": "GsVTx0QBPrvM"
      },
      "execution_count": 9,
      "outputs": []
    },
    {
      "cell_type": "code",
      "source": [
        "new_data = data.join(begin_month, ['ID'], 'left')"
      ],
      "metadata": {
        "id": "xSuCPuaaWZVn"
      },
      "execution_count": 10,
      "outputs": []
    },
    {
      "cell_type": "code",
      "source": [
        "cpunt = record.withColumn('dep_value', when(record['STATUS'] == '2', '1')\\\n",
        "                                .when(record['STATUS'] == '3', '1')\\\n",
        "                                .when(record['STATUS'] == '4', '1')\\\n",
        "                                .when(record['STATUS'] == '5', '1')\\\n",
        "                                .otherwise(None))"
      ],
      "metadata": {
        "id": "GOntCsv6alIF"
      },
      "execution_count": 11,
      "outputs": []
    },
    {
      "cell_type": "code",
      "source": [
        "cpunt = cpunt.withColumn('dep_value', cpunt['dep_value'].cast('int')).groupby('ID').sum('dep_value')"
      ],
      "metadata": {
        "id": "LwzodmijdDjr"
      },
      "execution_count": 12,
      "outputs": []
    },
    {
      "cell_type": "code",
      "source": [
        "cpunt = cpunt.withColumn('target', when(cpunt['sum(dep_value)'] > 0, 1).otherwise(0)).drop('sum(dep_value)')"
      ],
      "metadata": {
        "id": "f8mzXDzio2ou"
      },
      "execution_count": 13,
      "outputs": []
    },
    {
      "cell_type": "code",
      "source": [
        "new_data = new_data.join(cpunt, ['ID'], 'inner')"
      ],
      "metadata": {
        "id": "V-QQs1hWp02e"
      },
      "execution_count": 14,
      "outputs": []
    },
    {
      "cell_type": "code",
      "metadata": {
        "colab": {
          "base_uri": "https://localhost:8080/"
        },
        "id": "8VuidKOpIGns",
        "outputId": "07a1b9c7-11d8-4822-e9ed-fa5196faed7b"
      },
      "source": [
        "#  В итоге к анкетным данным мы добавили таргет\n",
        "new_data.groupby('target').count().show()"
      ],
      "execution_count": 15,
      "outputs": [
        {
          "output_type": "stream",
          "name": "stdout",
          "text": [
            "+------+-----+\n",
            "|target|count|\n",
            "+------+-----+\n",
            "|     1|  616|\n",
            "|     0|35841|\n",
            "+------+-----+\n",
            "\n"
          ]
        }
      ]
    },
    {
      "cell_type": "code",
      "source": [
        "# Упростим себе задачу и оставим только часть признаков\n",
        "features = ['AMT_INCOME_TOTAL', 'CODE_GENDER', 'FLAG_OWN_CAR', 'FLAG_OWN_REALTY', 'CNT_CHILDREN']\t\n",
        "target = ['target',]\n",
        "dataset = new_data[features + target]"
      ],
      "metadata": {
        "id": "uC_bytkis04N"
      },
      "execution_count": 16,
      "outputs": []
    },
    {
      "cell_type": "code",
      "source": [
        "dataset.withColumn('target', dataset['target'].cast('int'))"
      ],
      "metadata": {
        "id": "P8RC-wUys6SK",
        "outputId": "85fbd029-ccc3-4a57-c838-31eca363dca3",
        "colab": {
          "base_uri": "https://localhost:8080/"
        }
      },
      "execution_count": 17,
      "outputs": [
        {
          "output_type": "execute_result",
          "data": {
            "text/plain": [
              "DataFrame[AMT_INCOME_TOTAL: double, CODE_GENDER: string, FLAG_OWN_CAR: string, FLAG_OWN_REALTY: string, CNT_CHILDREN: int, target: int]"
            ]
          },
          "metadata": {},
          "execution_count": 17
        }
      ]
    },
    {
      "cell_type": "markdown",
      "metadata": {
        "id": "nbdj50CcDk3o"
      },
      "source": [
        "У нас есть выборка, где указаны параметры клиента, и вышел ли он на просрочку или нет."
      ]
    },
    {
      "cell_type": "code",
      "source": [
        "from pyspark.ml.feature import OneHotEncoder, StringIndexer\n",
        "from pyspark.ml import Pipeline"
      ],
      "metadata": {
        "id": "dwFMBmUnwve6"
      },
      "execution_count": 18,
      "outputs": []
    },
    {
      "cell_type": "code",
      "source": [
        "text_columns = ['CODE_GENDER', 'FLAG_OWN_CAR', 'FLAG_OWN_REALTY']\n",
        "\n",
        "stri = StringIndexer(inputCols=text_columns, outputCols=[column+'_stri' for column in text_columns])\n",
        "ohe = OneHotEncoder(inputCols=stri.getOutputCols(), outputCols=[column+'_ohe' for column in text_columns])\n",
        "pipe = Pipeline(stages=[\n",
        "    stri,\n",
        "    ohe\n",
        "])\n",
        "total_new_data = pipe.fit(new_data).transform(new_data)"
      ],
      "metadata": {
        "id": "wVgFubCqwyWJ"
      },
      "execution_count": 19,
      "outputs": []
    },
    {
      "cell_type": "code",
      "source": [
        "# total_new_data[[x + '_ohe' for x in text_columns] + text_columns].show(15)\n",
        "total_new_data.show(15)"
      ],
      "metadata": {
        "id": "xOmg9buE4a1D",
        "outputId": "9c202959-9093-4a7a-e237-da06bbd78a43",
        "colab": {
          "base_uri": "https://localhost:8080/"
        }
      },
      "execution_count": 20,
      "outputs": [
        {
          "output_type": "stream",
          "name": "stdout",
          "text": [
            "+-------+-----------+------------+---------------+------------+----------------+--------------------+--------------------+--------------------+-----------------+----------+-------------+----------+---------------+----------+----------+---------------+---------------+-----------+------+----------------+-----------------+--------------------+---------------+----------------+-------------------+\n",
            "|     ID|CODE_GENDER|FLAG_OWN_CAR|FLAG_OWN_REALTY|CNT_CHILDREN|AMT_INCOME_TOTAL|    NAME_INCOME_TYPE| NAME_EDUCATION_TYPE|  NAME_FAMILY_STATUS|NAME_HOUSING_TYPE|DAYS_BIRTH|DAYS_EMPLOYED|FLAG_MOBIL|FLAG_WORK_PHONE|FLAG_PHONE|FLAG_EMAIL|OCCUPATION_TYPE|CNT_FAM_MEMBERS|begin_month|target|CODE_GENDER_stri|FLAG_OWN_CAR_stri|FLAG_OWN_REALTY_stri|CODE_GENDER_ohe|FLAG_OWN_CAR_ohe|FLAG_OWN_REALTY_ohe|\n",
            "+-------+-----------+------------+---------------+------------+----------------+--------------------+--------------------+--------------------+-----------------+----------+-------------+----------+---------------+----------+----------+---------------+---------------+-----------+------+----------------+-----------------+--------------------+---------------+----------------+-------------------+\n",
            "|5008804|          M|           Y|              Y|           0|        427500.0|             Working|    Higher education|      Civil marriage| Rented apartment|    -12005|        -4542|         1|              1|         0|         0|           null|            2.0|         15|     0|             1.0|              1.0|                 0.0|      (1,[],[])|       (1,[],[])|      (1,[0],[1.0])|\n",
            "|5008805|          M|           Y|              Y|           0|        427500.0|             Working|    Higher education|      Civil marriage| Rented apartment|    -12005|        -4542|         1|              1|         0|         0|           null|            2.0|         14|     0|             1.0|              1.0|                 0.0|      (1,[],[])|       (1,[],[])|      (1,[0],[1.0])|\n",
            "|5008806|          M|           Y|              Y|           0|        112500.0|             Working|Secondary / secon...|             Married|House / apartment|    -21474|        -1134|         1|              0|         0|         0| Security staff|            2.0|         29|     0|             1.0|              1.0|                 0.0|      (1,[],[])|       (1,[],[])|      (1,[0],[1.0])|\n",
            "|5008808|          F|           N|              Y|           0|        270000.0|Commercial associate|Secondary / secon...|Single / not married|House / apartment|    -19110|        -3051|         1|              0|         1|         1|    Sales staff|            1.0|          4|     0|             0.0|              0.0|                 0.0|  (1,[0],[1.0])|   (1,[0],[1.0])|      (1,[0],[1.0])|\n",
            "|5008809|          F|           N|              Y|           0|        270000.0|Commercial associate|Secondary / secon...|Single / not married|House / apartment|    -19110|        -3051|         1|              0|         1|         1|    Sales staff|            1.0|         26|     0|             0.0|              0.0|                 0.0|  (1,[0],[1.0])|   (1,[0],[1.0])|      (1,[0],[1.0])|\n",
            "|5008810|          F|           N|              Y|           0|        270000.0|Commercial associate|Secondary / secon...|Single / not married|House / apartment|    -19110|        -3051|         1|              0|         1|         1|    Sales staff|            1.0|         26|     0|             0.0|              0.0|                 0.0|  (1,[0],[1.0])|   (1,[0],[1.0])|      (1,[0],[1.0])|\n",
            "|5008811|          F|           N|              Y|           0|        270000.0|Commercial associate|Secondary / secon...|Single / not married|House / apartment|    -19110|        -3051|         1|              0|         1|         1|    Sales staff|            1.0|         38|     0|             0.0|              0.0|                 0.0|  (1,[0],[1.0])|   (1,[0],[1.0])|      (1,[0],[1.0])|\n",
            "|5008812|          F|           N|              Y|           0|        283500.0|           Pensioner|    Higher education|           Separated|House / apartment|    -22464|       365243|         1|              0|         0|         0|           null|            1.0|         20|     0|             0.0|              0.0|                 0.0|  (1,[0],[1.0])|   (1,[0],[1.0])|      (1,[0],[1.0])|\n",
            "|5008813|          F|           N|              Y|           0|        283500.0|           Pensioner|    Higher education|           Separated|House / apartment|    -22464|       365243|         1|              0|         0|         0|           null|            1.0|         16|     0|             0.0|              0.0|                 0.0|  (1,[0],[1.0])|   (1,[0],[1.0])|      (1,[0],[1.0])|\n",
            "|5008814|          F|           N|              Y|           0|        283500.0|           Pensioner|    Higher education|           Separated|House / apartment|    -22464|       365243|         1|              0|         0|         0|           null|            1.0|         17|     0|             0.0|              0.0|                 0.0|  (1,[0],[1.0])|   (1,[0],[1.0])|      (1,[0],[1.0])|\n",
            "|5008815|          M|           Y|              Y|           0|        270000.0|             Working|    Higher education|             Married|House / apartment|    -16872|         -769|         1|              1|         1|         1|    Accountants|            2.0|          5|     0|             1.0|              1.0|                 0.0|      (1,[],[])|       (1,[],[])|      (1,[0],[1.0])|\n",
            "|5112956|          M|           Y|              Y|           0|        270000.0|             Working|    Higher education|             Married|House / apartment|    -16872|         -769|         1|              1|         1|         1|    Accountants|            2.0|         42|     0|             1.0|              1.0|                 0.0|      (1,[],[])|       (1,[],[])|      (1,[0],[1.0])|\n",
            "|5008819|          M|           Y|              Y|           0|        135000.0|Commercial associate|Secondary / secon...|             Married|House / apartment|    -17778|        -1194|         1|              0|         0|         0|       Laborers|            2.0|         17|     0|             1.0|              1.0|                 0.0|      (1,[],[])|       (1,[],[])|      (1,[0],[1.0])|\n",
            "|5008820|          M|           Y|              Y|           0|        135000.0|Commercial associate|Secondary / secon...|             Married|House / apartment|    -17778|        -1194|         1|              0|         0|         0|       Laborers|            2.0|         16|     0|             1.0|              1.0|                 0.0|      (1,[],[])|       (1,[],[])|      (1,[0],[1.0])|\n",
            "|5008821|          M|           Y|              Y|           0|        135000.0|Commercial associate|Secondary / secon...|             Married|House / apartment|    -17778|        -1194|         1|              0|         0|         0|       Laborers|            2.0|          8|     0|             1.0|              1.0|                 0.0|      (1,[],[])|       (1,[],[])|      (1,[0],[1.0])|\n",
            "+-------+-----------+------------+---------------+------------+----------------+--------------------+--------------------+--------------------+-----------------+----------+-------------+----------+---------------+----------+----------+---------------+---------------+-----------+------+----------------+-----------------+--------------------+---------------+----------------+-------------------+\n",
            "only showing top 15 rows\n",
            "\n"
          ]
        }
      ]
    },
    {
      "cell_type": "code",
      "source": [
        "from pyspark.ml.feature import MinMaxScaler"
      ],
      "metadata": {
        "id": "ywd9UP10I0ez"
      },
      "execution_count": 21,
      "outputs": []
    },
    {
      "cell_type": "code",
      "source": [
        "from pyspark.ml.classification import LogisticRegression\n",
        "\n",
        "\n",
        "from pyspark.ml.feature import VectorAssembler\n",
        "\n",
        "# text_columns = ['CODE_GENDER', 'FLAG_OWN_CAR', 'FLAG_OWN_REALTY']\n",
        "text_columns = []\n",
        "columns_to_scale = ['AMT_INCOME_TOTAL', 'CNT_CHILDREN']\n",
        "\n",
        "stri = StringIndexer(inputCols=text_columns, outputCols=[column+'_stri' for column in text_columns])\n",
        "ohe = OneHotEncoder(inputCols=stri.getOutputCols(), outputCols=[column+'_ohe' for column in text_columns])\n",
        "\n",
        "assemblers = [VectorAssembler(inputCols=[col], outputCol=col + \"_vec\") for col in columns_to_scale]\n",
        "scalers = [MinMaxScaler(inputCol=col + \"_vec\", outputCol=col + \"_scaled\") for col in columns_to_scale]\n",
        "lr = LogisticRegression(featuresCol='learn_vector', labelCol='target')\n",
        "\n",
        "main_assembler = VectorAssembler(inputCols=ohe.getOutputCols() + [scaler.getOutputCol() for scaler in scalers], outputCol='learn_vector')\n",
        "\n",
        "pipeline = Pipeline(stages=[stri, ohe] + assemblers + scalers + [main_assembler, lr])"
      ],
      "metadata": {
        "id": "5d_6-UQ5Kkun"
      },
      "execution_count": 23,
      "outputs": []
    },
    {
      "cell_type": "markdown",
      "metadata": {
        "id": "k6iYtYBSQrZw"
      },
      "source": [
        "#  Модель"
      ]
    },
    {
      "cell_type": "code",
      "source": [
        "train_data, test_data = new_data.randomSplit([0.7, 0.3], seed=42)\n",
        "fit_model = pipeline.fit(train_data)\n",
        "results = fit_model.transform(test_data)\n",
        "results.show()"
      ],
      "metadata": {
        "id": "p9R_pJRRNvwb",
        "outputId": "76a17a11-2568-420d-c922-1b8792517305",
        "colab": {
          "base_uri": "https://localhost:8080/"
        }
      },
      "execution_count": 24,
      "outputs": [
        {
          "output_type": "stream",
          "name": "stdout",
          "text": [
            "+-------+-----------+------------+---------------+------------+----------------+--------------------+--------------------+--------------------+-----------------+----------+-------------+----------+---------------+----------+----------+---------------+---------------+-----------+------+--------------------+----------------+-----------------------+--------------------+--------------------+--------------------+--------------------+----------+\n",
            "|     ID|CODE_GENDER|FLAG_OWN_CAR|FLAG_OWN_REALTY|CNT_CHILDREN|AMT_INCOME_TOTAL|    NAME_INCOME_TYPE| NAME_EDUCATION_TYPE|  NAME_FAMILY_STATUS|NAME_HOUSING_TYPE|DAYS_BIRTH|DAYS_EMPLOYED|FLAG_MOBIL|FLAG_WORK_PHONE|FLAG_PHONE|FLAG_EMAIL|OCCUPATION_TYPE|CNT_FAM_MEMBERS|begin_month|target|AMT_INCOME_TOTAL_vec|CNT_CHILDREN_vec|AMT_INCOME_TOTAL_scaled| CNT_CHILDREN_scaled|        learn_vector|       rawPrediction|         probability|prediction|\n",
            "+-------+-----------+------------+---------------+------------+----------------+--------------------+--------------------+--------------------+-----------------+----------+-------------+----------+---------------+----------+----------+---------------+---------------+-----------+------+--------------------+----------------+-----------------------+--------------------+--------------------+--------------------+--------------------+----------+\n",
            "|5008806|          M|           Y|              Y|           0|        112500.0|             Working|Secondary / secon...|             Married|House / apartment|    -21474|        -1134|         1|              0|         0|         0| Security staff|            2.0|         29|     0|          [112500.0]|           [0.0]|   [0.05523255813953...|               [0.0]|[0.05523255813953...|[4.03107942711832...|[0.98255459170341...|       0.0|\n",
            "|5008811|          F|           N|              Y|           0|        270000.0|Commercial associate|Secondary / secon...|Single / not married|House / apartment|    -19110|        -3051|         1|              0|         1|         1|    Sales staff|            1.0|         38|     0|          [270000.0]|           [0.0]|   [0.1569767441860465]|               [0.0]|[0.15697674418604...|[4.06141158647864...|[0.98306697820401...|       0.0|\n",
            "|5008813|          F|           N|              Y|           0|        283500.0|           Pensioner|    Higher education|           Separated|House / apartment|    -22464|       365243|         1|              0|         0|         0|           null|            1.0|         16|     0|          [283500.0]|           [0.0]|   [0.16569767441860...|               [0.0]|[0.16569767441860...|[4.06401148585238...|[0.98311020258388...|       0.0|\n",
            "|5008814|          F|           N|              Y|           0|        283500.0|           Pensioner|    Higher education|           Separated|House / apartment|    -22464|       365243|         1|              0|         0|         0|           null|            1.0|         17|     0|          [283500.0]|           [0.0]|   [0.16569767441860...|               [0.0]|[0.16569767441860...|[4.06401148585238...|[0.98311020258388...|       0.0|\n",
            "|5008821|          M|           Y|              Y|           0|        135000.0|Commercial associate|Secondary / secon...|             Married|House / apartment|    -17778|        -1194|         1|              0|         0|         0|       Laborers|            2.0|          8|     0|          [135000.0]|           [0.0]|   [0.06976744186046...|               [0.0]|[0.06976744186046...|[4.03541259274122...|[0.98262871168142...|       0.0|\n",
            "|5008822|          M|           Y|              Y|           0|        135000.0|Commercial associate|Secondary / secon...|             Married|House / apartment|    -17778|        -1194|         1|              0|         0|         0|       Laborers|            2.0|         22|     0|          [135000.0]|           [0.0]|   [0.06976744186046...|               [0.0]|[0.06976744186046...|[4.03541259274122...|[0.98262871168142...|       0.0|\n",
            "|5008823|          M|           Y|              Y|           0|        135000.0|Commercial associate|Secondary / secon...|             Married|House / apartment|    -17778|        -1194|         1|              0|         0|         0|       Laborers|            2.0|          7|     0|          [135000.0]|           [0.0]|   [0.06976744186046...|               [0.0]|[0.06976744186046...|[4.03541259274122...|[0.98262871168142...|       0.0|\n",
            "|5008830|          F|           N|              Y|           0|        157500.0|             Working|Secondary / secon...|             Married|House / apartment|    -10031|        -1469|         1|              0|         1|         0|       Laborers|            2.0|         31|     0|          [157500.0]|           [0.0]|   [0.08430232558139...|               [0.0]|[0.08430232558139...|[4.03974575836413...|[0.98270252229118...|       0.0|\n",
            "|5008832|          F|           N|              Y|           0|        157500.0|             Working|Secondary / secon...|             Married|House / apartment|    -10031|        -1469|         1|              0|         1|         0|       Laborers|            2.0|         34|     0|          [157500.0]|           [0.0]|   [0.08430232558139...|               [0.0]|[0.08430232558139...|[4.03974575836413...|[0.98270252229118...|       0.0|\n",
            "|5008835|          F|           N|              Y|           1|        112500.0|             Working|Secondary / secon...|Single / not married|House / apartment|    -10968|        -1620|         1|              0|         0|         0|           null|            2.0|         44|     0|          [112500.0]|           [1.0]|   [0.05523255813953...|[0.05263157894736...|[0.05523255813953...|[4.06859139273633...|[0.98318608177212...|       0.0|\n",
            "|5008836|          M|           Y|              Y|           3|        270000.0|             Working|Secondary / secon...|             Married|House / apartment|    -12689|        -1163|         1|              0|         0|         0|       Laborers|            5.0|         24|     0|          [270000.0]|           [3.0]|   [0.1569767441860465]|[0.15789473684210...|[0.15697674418604...|[4.17394748333265...|[0.98484192097730...|       0.0|\n",
            "|5008840|          M|           N|              Y|           1|        405000.0|Commercial associate|    Higher education|             Married|House / apartment|    -11842|        -2016|         1|              0|         0|         0|       Managers|            3.0|         55|     0|          [405000.0]|           [1.0]|   [0.24418604651162...|[0.05263157894736...|[0.24418604651162...|[4.12492254583405...|[0.98409239582335...|       0.0|\n",
            "|5008841|          M|           N|              Y|           1|        405000.0|Commercial associate|    Higher education|             Married|House / apartment|    -11842|        -2016|         1|              0|         0|         0|       Managers|            3.0|          4|     0|          [405000.0]|           [1.0]|   [0.24418604651162...|[0.05263157894736...|[0.24418604651162...|[4.12492254583405...|[0.98409239582335...|       0.0|\n",
            "|5008842|          M|           N|              Y|           1|        405000.0|Commercial associate|    Higher education|             Married|House / apartment|    -11842|        -2016|         1|              0|         0|         0|       Managers|            3.0|          8|     0|          [405000.0]|           [1.0]|   [0.24418604651162...|[0.05263157894736...|[0.24418604651162...|[4.12492254583405...|[0.98409239582335...|       0.0|\n",
            "|5008844|          M|           Y|              Y|           0|        112500.0|Commercial associate|Secondary / secon...|             Married|House / apartment|    -20502|        -4450|         1|              0|         1|         0|        Drivers|            2.0|         43|     0|          [112500.0]|           [0.0]|   [0.05523255813953...|               [0.0]|[0.05523255813953...|[4.03107942711832...|[0.98255459170341...|       0.0|\n",
            "|5008847|          M|           Y|              Y|           0|        112500.0|Commercial associate|Secondary / secon...|             Married|House / apartment|    -20502|        -4450|         1|              0|         1|         0|        Drivers|            2.0|         46|     0|          [112500.0]|           [0.0]|   [0.05523255813953...|               [0.0]|[0.05523255813953...|[4.03107942711832...|[0.98255459170341...|       0.0|\n",
            "|5008849|          M|           Y|              Y|           0|        112500.0|Commercial associate|Secondary / secon...|             Married|House / apartment|    -20502|        -4450|         1|              0|         1|         0|        Drivers|            2.0|         51|     0|          [112500.0]|           [0.0]|   [0.05523255813953...|               [0.0]|[0.05523255813953...|[4.03107942711832...|[0.98255459170341...|       0.0|\n",
            "|5008853|          M|           Y|              Y|           0|        112500.0|Commercial associate|Secondary / secon...|             Married|House / apartment|    -20502|        -4450|         1|              0|         1|         0|        Drivers|            2.0|         39|     0|          [112500.0]|           [0.0]|   [0.05523255813953...|               [0.0]|[0.05523255813953...|[4.03107942711832...|[0.98255459170341...|       0.0|\n",
            "|5008856|          F|           Y|              Y|           2|        135000.0|             Working|Secondary / secon...|             Married|House / apartment|    -15761|        -3173|         1|              0|         0|         0|       Laborers|            4.0|          3|     0|          [135000.0]|           [2.0]|   [0.06976744186046...|[0.10526315789473...|[0.06976744186046...|[4.11043652397723...|[0.98386402617113...|       0.0|\n",
            "|5008857|          F|           Y|              Y|           2|        135000.0|             Working|Secondary / secon...|             Married|House / apartment|    -15761|        -3173|         1|              0|         0|         0|       Laborers|            4.0|         27|     0|          [135000.0]|           [2.0]|   [0.06976744186046...|[0.10526315789473...|[0.06976744186046...|[4.11043652397723...|[0.98386402617113...|       0.0|\n",
            "+-------+-----------+------------+---------------+------------+----------------+--------------------+--------------------+--------------------+-----------------+----------+-------------+----------+---------------+----------+----------+---------------+---------------+-----------+------+--------------------+----------------+-----------------------+--------------------+--------------------+--------------------+--------------------+----------+\n",
            "only showing top 20 rows\n",
            "\n"
          ]
        }
      ]
    },
    {
      "cell_type": "code",
      "source": [
        "results.groupby('prediction').count().show()"
      ],
      "metadata": {
        "id": "l8_P1ZVOJI3l",
        "outputId": "1ed854a9-71ce-4e6b-a644-b694cc18021c",
        "colab": {
          "base_uri": "https://localhost:8080/"
        }
      },
      "execution_count": 25,
      "outputs": [
        {
          "output_type": "stream",
          "name": "stdout",
          "text": [
            "+----------+-----+\n",
            "|prediction|count|\n",
            "+----------+-----+\n",
            "|       0.0|10839|\n",
            "+----------+-----+\n",
            "\n"
          ]
        }
      ]
    },
    {
      "cell_type": "code",
      "source": [
        "from pyspark.ml.evaluation import BinaryClassificationEvaluator\n",
        "\n",
        "res = BinaryClassificationEvaluator(rawPredictionCol='prediction',labelCol='target')\n",
        "  \n",
        "# Evaluating the AUC on results\n",
        "ROC_AUC = res.evaluate(results)\n",
        "ROC_AUC"
      ],
      "metadata": {
        "id": "l6xfPtMzV_KL",
        "outputId": "edbd8a31-d896-4cfb-9c8a-eb0f825166f9",
        "colab": {
          "base_uri": "https://localhost:8080/"
        }
      },
      "execution_count": 26,
      "outputs": [
        {
          "output_type": "execute_result",
          "data": {
            "text/plain": [
              "0.5"
            ]
          },
          "metadata": {},
          "execution_count": 26
        }
      ]
    },
    {
      "cell_type": "code",
      "source": [],
      "metadata": {
        "id": "pWCFZBMqzHc4"
      },
      "execution_count": null,
      "outputs": []
    }
  ]
}